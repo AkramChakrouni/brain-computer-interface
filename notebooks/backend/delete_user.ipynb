{
 "cells": [
  {
   "cell_type": "code",
   "execution_count": 2,
   "metadata": {},
   "outputs": [
    {
     "name": "stdout",
     "output_type": "stream",
     "text": [
      "Deleted C:\\School\\EE_Y3\\Q4\\BAP\\eeg_thesis_cnn_repo\\users\\training_right\n"
     ]
    }
   ],
   "source": [
    "import os\n",
    "import shutil\n",
    "\n",
    "def delete_folder_and_contents(folder_path, folder_name):\n",
    "    # Construct the full path of the subfolder\n",
    "    subfolder_path = os.path.join(folder_path, folder_name)\n",
    "\n",
    "    # Check if the subfolder exists\n",
    "    if os.path.exists(subfolder_path):\n",
    "        # Delete the subfolder and its contents\n",
    "        shutil.rmtree(subfolder_path)\n",
    "        print(f\"Deleted {subfolder_path}\")\n",
    "    else:\n",
    "        print(f\"Subfolder {folder_name} not found in {folder_path}\")\n",
    "\n",
    "# Example usage\n",
    "folder_path = r\"C:\\School\\EE_Y3\\Q4\\BAP\\eeg_thesis_cnn_repo\\users\"\n",
    "folder_name = \"training_right\"\n",
    "\n",
    "delete_folder_and_contents(folder_path, folder_name)\n"
   ]
  }
 ],
 "metadata": {
  "kernelspec": {
   "display_name": "eeg_thesis",
   "language": "python",
   "name": "python3"
  },
  "language_info": {
   "codemirror_mode": {
    "name": "ipython",
    "version": 3
   },
   "file_extension": ".py",
   "mimetype": "text/x-python",
   "name": "python",
   "nbconvert_exporter": "python",
   "pygments_lexer": "ipython3",
   "version": "3.8.19"
  }
 },
 "nbformat": 4,
 "nbformat_minor": 2
}
