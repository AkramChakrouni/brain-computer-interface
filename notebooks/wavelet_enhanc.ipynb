{
 "cells": [
  {
   "cell_type": "code",
   "execution_count": 2,
   "metadata": {},
   "outputs": [],
   "source": [
    "import numpy as np\n",
    "import mne\n",
    "import os\n",
    "import pandas as pd\n",
    "import pywt\n",
    "import torch\n",
    "from datetime import datetime\n",
    "from scipy.signal import iirfilter, sosfilt\n",
    "\n",
    "\n",
    "from mne.preprocessing import ICA\n",
    "from mne.preprocessing import create_eog_epochs\n",
    "from mne.preprocessing import read_ica"
   ]
  },
  {
   "cell_type": "code",
   "execution_count": 3,
   "metadata": {},
   "outputs": [],
   "source": [
    "def get_epochs_and_labels(fif_file):\n",
    "    # Load your EEG data\n",
    "    raw = mne.io.read_raw_fif(fif_file, preload=True)\n",
    "    \n",
    "    # Get the events from the annotations\n",
    "    events, _ = mne.events_from_annotations(raw)\n",
    "\n",
    "    # T1 is left hand, T2 is right hand\n",
    "    event_id = {'T1': 2, 'T2': 3}\n",
    "\n",
    "    # Epochs start 0s before the trigger and end 0.5s after\n",
    "    epochs = mne.Epochs(raw, events, event_id, tmin=0, tmax=0.5, baseline=None, preload=True)\n",
    "\n",
    "    # Get the labels of the epochs\n",
    "    labels = epochs.events[:, -1]\n",
    "\n",
    "    # Change the labels to 5 and 6\n",
    "    labels[labels == 2] = 5\n",
    "    labels[labels == 3] = 6\n",
    "    \n",
    "    return epochs, labels"
   ]
  },
  {
   "cell_type": "code",
   "execution_count": 4,
   "metadata": {},
   "outputs": [],
   "source": [
    "def z_score(epoch):    \n",
    "    # Apply z-score normalization to each channel, saved in epoch\n",
    "    for i in range(epoch.shape[0]):\n",
    "        channel_epoch = epoch[i, :]\n",
    "        mean = np.mean(channel_epoch)\n",
    "        std = np.std(channel_epoch)\n",
    "        z_scored_epoch = (channel_epoch - mean) / std\n",
    "        epoch[i, :] = z_scored_epoch\n",
    "    \n",
    "    return epoch"
   ]
  },
  {
   "cell_type": "code",
   "execution_count": 5,
   "metadata": {},
   "outputs": [],
   "source": [
    "# Function to convert frequency to wavelet scale\n",
    "def frequency_to_scale(freq, wavelet='cmor', sampling_rate=250):\n",
    "    center_freq = pywt.central_frequency(wavelet)\n",
    "    return center_freq / (freq / sampling_rate)\n",
    "\n",
    "# Function to apply wavelet transform to EEG data for a given frequency band\n",
    "def apply_wavelet_transform_band(data_norm, wavelet, freq_range, sampling_rate=250):\n",
    "    n_channels, n_times = data_norm.shape\n",
    "    scales = frequency_to_scale(np.arange(freq_range[0], freq_range[1] + 1), wavelet=wavelet, sampling_rate=sampling_rate)\n",
    "    \n",
    "    coeffs = []\n",
    "    for i in range(n_channels):\n",
    "        coef, _ = pywt.cwt(data_norm[i], scales=scales, wavelet=wavelet)\n",
    "        coeffs.append(coef)\n",
    "    \n",
    "    coeffs_done = np.stack(coeffs, axis=0)\n",
    "    return coeffs_done\n",
    "\n",
    "# IIR Bandpass Filter function\n",
    "def bandpass_filter(data, lowcut, highcut, sampling_rate=250, order=5):\n",
    "    sos = iirfilter(order, [lowcut, highcut], btype='band', ftype='butter', fs=sampling_rate, output='sos')\n",
    "    return sosfilt(sos, data)\n",
    "\n",
    "# Function to apply wavelet transform to multiple frequency bands and combine the results\n",
    "def apply_wavelet_transform(data_norm, wavelet='cmor', sampling_rate=250):\n",
    "    # Define frequency ranges for alpha, beta, and gamma bands\n",
    "    alpha_range = (8, 13)\n",
    "    beta_range = (14, 30)\n",
    "    gamma_range = (31, 50)\n",
    "    \n",
    "    # Apply bandpass filter to each frequency band\n",
    "    data_alpha = bandpass_filter(data_norm, alpha_range[0], alpha_range[1], sampling_rate=sampling_rate)\n",
    "    data_beta = bandpass_filter(data_norm, beta_range[0], beta_range[1], sampling_rate=sampling_rate)\n",
    "    data_gamma = bandpass_filter(data_norm, gamma_range[0], gamma_range[1], sampling_rate=sampling_rate)\n",
    "    \n",
    "    # Apply wavelet transform to each frequency band\n",
    "    coeffs_alpha = apply_wavelet_transform_band(data_alpha, wavelet, alpha_range, sampling_rate)\n",
    "    coeffs_beta = apply_wavelet_transform_band(data_beta, wavelet, beta_range, sampling_rate)\n",
    "    coeffs_gamma = apply_wavelet_transform_band(data_gamma, wavelet, gamma_range, sampling_rate)\n",
    "    \n",
    "    # Concatenate the wavelet coefficients along the scale dimension\n",
    "    coeffs_combined = np.concatenate((coeffs_alpha, coeffs_beta, coeffs_gamma), axis=1)\n",
    "    \n",
    "    return coeffs_combined\n",
    "\n",
    "# Example usage\n",
    "# data_norm is the normalized EEG data with shape (channels, time_points)\n",
    "# data_wavelet = apply_wavelet_transform(data_norm, wavelet='cmor', sampling_rate=250)\n"
   ]
  },
  {
   "cell_type": "code",
   "execution_count": 6,
   "metadata": {},
   "outputs": [],
   "source": [
    "def file_to_tensor(fif_file):\n",
    "    epochs, labels = get_epochs_and_labels(fif_file)\n",
    "    \n",
    "    # Create an empty list to store the transformed epochs\n",
    "    transformed_epochs = []\n",
    "    \n",
    "    # Z-score normalization and wavelet transform for each epoch and stack them into a tensor (4D array), \n",
    "    # shape (n_epochs, n_channels, n_scales, n_time_points)\n",
    "    # Loop through each epoch\n",
    "    for epoch in epochs:\n",
    "        # Z-score each epoch\n",
    "        epoch_norm = z_score(epoch)\n",
    "        \n",
    "        # Apply wavelet transformation\n",
    "        wavelet_tensor = apply_wavelet_transform(epoch_norm)\n",
    "        \n",
    "        # Append the transformed epoch to the list\n",
    "        transformed_epochs.append(wavelet_tensor)\n",
    "\n",
    "    # Convert the list of epochs into a tensor dataset\n",
    "    tensor_dataset = torch.tensor(transformed_epochs)\n",
    "            \n",
    "    return tensor_dataset"
   ]
  },
  {
   "cell_type": "code",
   "execution_count": 7,
   "metadata": {},
   "outputs": [],
   "source": [
    "def folder_to_tensor(folder_path, output_folder):\n",
    "    \"\"\"\n",
    "    Combine multiple EEG files into a single PyTorch tensor dataset.\n",
    "    \n",
    "    Parameters:\n",
    "    folder_path (str): Path to the folder containing the EEG files\n",
    "    output_folder (str): Path to the folder where the combined dataset will be saved\n",
    "    \n",
    "    Returns:\n",
    "    torch.Tensor: Combined EEG dataset as a PyTorch tensor\n",
    "    \n",
    "    \"\"\"\n",
    "    # Create an empty list to store tensors from each file\n",
    "    all_tensors = []\n",
    "    \n",
    "    # Iterate through each file in the folder\n",
    "    for filename in os.listdir(folder_path):\n",
    "        if filename.endswith(\".fif\"):\n",
    "            file_path = os.path.join(folder_path, filename)\n",
    "            tensor = file_to_tensor(file_path)  # Assuming tensor_from_file is defined\n",
    "            all_tensors.append(tensor)\n",
    "    \n",
    "    # Concatenate all tensors along the first dimension to create one dataset\n",
    "    combined_dataset = torch.cat(all_tensors, dim=0)\n",
    "    \n",
    "    # Get the current date and time\n",
    "    current_datetime = datetime.now()\n",
    "    \n",
    "    # Format the date and time as a string for the dataset name\n",
    "    dataset_name = current_datetime.strftime(\"%Y-%m-%d_%H-%M-%S\")\n",
    "    \n",
    "    # Save the combined dataset to the output folder with the specified name\n",
    "    output_file = os.path.join(output_folder, f\"{dataset_name}.pt\")\n",
    "    torch.save(combined_dataset, output_file)\n",
    "    \n",
    "    return combined_dataset"
   ]
  },
  {
   "cell_type": "code",
   "execution_count": 9,
   "metadata": {},
   "outputs": [
    {
     "name": "stdout",
     "output_type": "stream",
     "text": [
      "Opening raw data file C:\\School\\EE_Y3\\Q4\\BAP\\eeg_thesis_cnn_repo\\data\\external\\interim\\S001R03_filtered.fif...\n",
      "Isotrak not found\n",
      "    Range : 0 ... 31249 =      0.000 ...   124.996 secs\n",
      "Ready.\n",
      "Reading 0 ... 31249  =      0.000 ...   124.996 secs...\n",
      "Used Annotations descriptions: ['T0', 'T1', 'T2']\n",
      "Not setting metadata\n",
      "15 matching events found\n",
      "No baseline correction applied\n",
      "0 projection items activated\n",
      "Using data from preloaded Raw for 15 events and 126 original time points ...\n",
      "0 bad epochs dropped\n"
     ]
    },
    {
     "name": "stderr",
     "output_type": "stream",
     "text": [
      "C:\\Users\\chakr\\AppData\\Local\\Temp\\ipykernel_13788\\3980180034.py:3: RuntimeWarning: This filename (C:\\School\\EE_Y3\\Q4\\BAP\\eeg_thesis_cnn_repo\\data\\external\\interim\\S001R03_filtered.fif) does not conform to MNE naming conventions. All raw files should end with raw.fif, raw_sss.fif, raw_tsss.fif, _meg.fif, _eeg.fif, _ieeg.fif, raw.fif.gz, raw_sss.fif.gz, raw_tsss.fif.gz, _meg.fif.gz, _eeg.fif.gz or _ieeg.fif.gz\n",
      "  raw = mne.io.read_raw_fif(fif_file, preload=True)\n",
      "c:\\Users\\chakr\\Anaconda3\\envs\\eeg_thesis\\lib\\site-packages\\pywt\\_functions.py:143: FutureWarning: Wavelets from the family cmor, without parameters specified in the name are deprecated. The name should takethe form cmorB-C where B and C are floats representing the bandwidth frequency and center frequency, respectively (example: cmor1.5-1.0).\n",
      "  wavelet = DiscreteContinuousWavelet(wavelet)\n",
      "c:\\Users\\chakr\\Anaconda3\\envs\\eeg_thesis\\lib\\site-packages\\pywt\\_cwt.py:117: FutureWarning: Wavelets from the family cmor, without parameters specified in the name are deprecated. The name should takethe form cmorB-C where B and C are floats representing the bandwidth frequency and center frequency, respectively (example: cmor1.5-1.0).\n",
      "  wavelet = DiscreteContinuousWavelet(wavelet)\n"
     ]
    },
    {
     "name": "stdout",
     "output_type": "stream",
     "text": [
      "Opening raw data file C:\\School\\EE_Y3\\Q4\\BAP\\eeg_thesis_cnn_repo\\data\\external\\interim\\S001R07_filtered.fif...\n",
      "Isotrak not found\n",
      "    Range : 0 ... 31249 =      0.000 ...   124.996 secs\n",
      "Ready.\n",
      "Reading 0 ... 31249  =      0.000 ...   124.996 secs...\n",
      "Used Annotations descriptions: ['T0', 'T1', 'T2']\n",
      "Not setting metadata\n",
      "15 matching events found\n",
      "No baseline correction applied\n",
      "0 projection items activated\n",
      "Using data from preloaded Raw for 15 events and 126 original time points ...\n",
      "0 bad epochs dropped\n"
     ]
    },
    {
     "name": "stderr",
     "output_type": "stream",
     "text": [
      "C:\\Users\\chakr\\AppData\\Local\\Temp\\ipykernel_13788\\3804080640.py:21: UserWarning: Creating a tensor from a list of numpy.ndarrays is extremely slow. Please consider converting the list to a single numpy.ndarray with numpy.array() before converting to a tensor. (Triggered internally at C:\\actions-runner\\_work\\pytorch\\pytorch\\builder\\windows\\pytorch\\torch\\csrc\\utils\\tensor_new.cpp:277.)\n",
      "  tensor_dataset = torch.tensor(transformed_epochs)\n",
      "C:\\Users\\chakr\\AppData\\Local\\Temp\\ipykernel_13788\\3980180034.py:3: RuntimeWarning: This filename (C:\\School\\EE_Y3\\Q4\\BAP\\eeg_thesis_cnn_repo\\data\\external\\interim\\S001R07_filtered.fif) does not conform to MNE naming conventions. All raw files should end with raw.fif, raw_sss.fif, raw_tsss.fif, _meg.fif, _eeg.fif, _ieeg.fif, raw.fif.gz, raw_sss.fif.gz, raw_tsss.fif.gz, _meg.fif.gz, _eeg.fif.gz or _ieeg.fif.gz\n",
      "  raw = mne.io.read_raw_fif(fif_file, preload=True)\n",
      "c:\\Users\\chakr\\Anaconda3\\envs\\eeg_thesis\\lib\\site-packages\\pywt\\_functions.py:143: FutureWarning: Wavelets from the family cmor, without parameters specified in the name are deprecated. The name should takethe form cmorB-C where B and C are floats representing the bandwidth frequency and center frequency, respectively (example: cmor1.5-1.0).\n",
      "  wavelet = DiscreteContinuousWavelet(wavelet)\n",
      "c:\\Users\\chakr\\Anaconda3\\envs\\eeg_thesis\\lib\\site-packages\\pywt\\_cwt.py:117: FutureWarning: Wavelets from the family cmor, without parameters specified in the name are deprecated. The name should takethe form cmorB-C where B and C are floats representing the bandwidth frequency and center frequency, respectively (example: cmor1.5-1.0).\n",
      "  wavelet = DiscreteContinuousWavelet(wavelet)\n"
     ]
    },
    {
     "name": "stdout",
     "output_type": "stream",
     "text": [
      "Opening raw data file C:\\School\\EE_Y3\\Q4\\BAP\\eeg_thesis_cnn_repo\\data\\external\\interim\\S001R11_filtered.fif...\n",
      "Isotrak not found\n",
      "    Range : 0 ... 31249 =      0.000 ...   124.996 secs\n",
      "Ready.\n",
      "Reading 0 ... 31249  =      0.000 ...   124.996 secs...\n",
      "Used Annotations descriptions: ['T0', 'T1', 'T2']\n",
      "Not setting metadata\n",
      "15 matching events found\n",
      "No baseline correction applied\n",
      "0 projection items activated\n",
      "Using data from preloaded Raw for 15 events and 126 original time points ...\n",
      "0 bad epochs dropped\n"
     ]
    },
    {
     "name": "stderr",
     "output_type": "stream",
     "text": [
      "C:\\Users\\chakr\\AppData\\Local\\Temp\\ipykernel_13788\\3980180034.py:3: RuntimeWarning: This filename (C:\\School\\EE_Y3\\Q4\\BAP\\eeg_thesis_cnn_repo\\data\\external\\interim\\S001R11_filtered.fif) does not conform to MNE naming conventions. All raw files should end with raw.fif, raw_sss.fif, raw_tsss.fif, _meg.fif, _eeg.fif, _ieeg.fif, raw.fif.gz, raw_sss.fif.gz, raw_tsss.fif.gz, _meg.fif.gz, _eeg.fif.gz or _ieeg.fif.gz\n",
      "  raw = mne.io.read_raw_fif(fif_file, preload=True)\n",
      "c:\\Users\\chakr\\Anaconda3\\envs\\eeg_thesis\\lib\\site-packages\\pywt\\_functions.py:143: FutureWarning: Wavelets from the family cmor, without parameters specified in the name are deprecated. The name should takethe form cmorB-C where B and C are floats representing the bandwidth frequency and center frequency, respectively (example: cmor1.5-1.0).\n",
      "  wavelet = DiscreteContinuousWavelet(wavelet)\n",
      "c:\\Users\\chakr\\Anaconda3\\envs\\eeg_thesis\\lib\\site-packages\\pywt\\_cwt.py:117: FutureWarning: Wavelets from the family cmor, without parameters specified in the name are deprecated. The name should takethe form cmorB-C where B and C are floats representing the bandwidth frequency and center frequency, respectively (example: cmor1.5-1.0).\n",
      "  wavelet = DiscreteContinuousWavelet(wavelet)\n"
     ]
    },
    {
     "name": "stdout",
     "output_type": "stream",
     "text": [
      "Opening raw data file C:\\School\\EE_Y3\\Q4\\BAP\\eeg_thesis_cnn_repo\\data\\external\\interim\\S002R03_filtered.fif...\n",
      "Isotrak not found\n",
      "    Range : 0 ... 30749 =      0.000 ...   122.996 secs\n",
      "Ready.\n",
      "Reading 0 ... 30749  =      0.000 ...   122.996 secs...\n",
      "Used Annotations descriptions: ['T0', 'T1', 'T2']\n",
      "Not setting metadata\n",
      "15 matching events found\n",
      "No baseline correction applied\n",
      "0 projection items activated\n",
      "Using data from preloaded Raw for 15 events and 126 original time points ...\n",
      "0 bad epochs dropped\n"
     ]
    },
    {
     "name": "stderr",
     "output_type": "stream",
     "text": [
      "C:\\Users\\chakr\\AppData\\Local\\Temp\\ipykernel_13788\\3980180034.py:3: RuntimeWarning: This filename (C:\\School\\EE_Y3\\Q4\\BAP\\eeg_thesis_cnn_repo\\data\\external\\interim\\S002R03_filtered.fif) does not conform to MNE naming conventions. All raw files should end with raw.fif, raw_sss.fif, raw_tsss.fif, _meg.fif, _eeg.fif, _ieeg.fif, raw.fif.gz, raw_sss.fif.gz, raw_tsss.fif.gz, _meg.fif.gz, _eeg.fif.gz or _ieeg.fif.gz\n",
      "  raw = mne.io.read_raw_fif(fif_file, preload=True)\n",
      "c:\\Users\\chakr\\Anaconda3\\envs\\eeg_thesis\\lib\\site-packages\\pywt\\_functions.py:143: FutureWarning: Wavelets from the family cmor, without parameters specified in the name are deprecated. The name should takethe form cmorB-C where B and C are floats representing the bandwidth frequency and center frequency, respectively (example: cmor1.5-1.0).\n",
      "  wavelet = DiscreteContinuousWavelet(wavelet)\n",
      "c:\\Users\\chakr\\Anaconda3\\envs\\eeg_thesis\\lib\\site-packages\\pywt\\_cwt.py:117: FutureWarning: Wavelets from the family cmor, without parameters specified in the name are deprecated. The name should takethe form cmorB-C where B and C are floats representing the bandwidth frequency and center frequency, respectively (example: cmor1.5-1.0).\n",
      "  wavelet = DiscreteContinuousWavelet(wavelet)\n"
     ]
    },
    {
     "name": "stdout",
     "output_type": "stream",
     "text": [
      "Opening raw data file C:\\School\\EE_Y3\\Q4\\BAP\\eeg_thesis_cnn_repo\\data\\external\\interim\\S002R07_filtered.fif...\n",
      "Isotrak not found\n",
      "    Range : 0 ... 30749 =      0.000 ...   122.996 secs\n",
      "Ready.\n",
      "Reading 0 ... 30749  =      0.000 ...   122.996 secs...\n",
      "Used Annotations descriptions: ['T0', 'T1', 'T2']\n",
      "Not setting metadata\n",
      "15 matching events found\n",
      "No baseline correction applied\n",
      "0 projection items activated\n",
      "Using data from preloaded Raw for 15 events and 126 original time points ...\n",
      "0 bad epochs dropped\n"
     ]
    },
    {
     "name": "stderr",
     "output_type": "stream",
     "text": [
      "C:\\Users\\chakr\\AppData\\Local\\Temp\\ipykernel_13788\\3980180034.py:3: RuntimeWarning: This filename (C:\\School\\EE_Y3\\Q4\\BAP\\eeg_thesis_cnn_repo\\data\\external\\interim\\S002R07_filtered.fif) does not conform to MNE naming conventions. All raw files should end with raw.fif, raw_sss.fif, raw_tsss.fif, _meg.fif, _eeg.fif, _ieeg.fif, raw.fif.gz, raw_sss.fif.gz, raw_tsss.fif.gz, _meg.fif.gz, _eeg.fif.gz or _ieeg.fif.gz\n",
      "  raw = mne.io.read_raw_fif(fif_file, preload=True)\n",
      "c:\\Users\\chakr\\Anaconda3\\envs\\eeg_thesis\\lib\\site-packages\\pywt\\_functions.py:143: FutureWarning: Wavelets from the family cmor, without parameters specified in the name are deprecated. The name should takethe form cmorB-C where B and C are floats representing the bandwidth frequency and center frequency, respectively (example: cmor1.5-1.0).\n",
      "  wavelet = DiscreteContinuousWavelet(wavelet)\n",
      "c:\\Users\\chakr\\Anaconda3\\envs\\eeg_thesis\\lib\\site-packages\\pywt\\_cwt.py:117: FutureWarning: Wavelets from the family cmor, without parameters specified in the name are deprecated. The name should takethe form cmorB-C where B and C are floats representing the bandwidth frequency and center frequency, respectively (example: cmor1.5-1.0).\n",
      "  wavelet = DiscreteContinuousWavelet(wavelet)\n"
     ]
    },
    {
     "name": "stdout",
     "output_type": "stream",
     "text": [
      "Opening raw data file C:\\School\\EE_Y3\\Q4\\BAP\\eeg_thesis_cnn_repo\\data\\external\\interim\\S002R11_filtered.fif...\n",
      "Isotrak not found\n",
      "    Range : 0 ... 30749 =      0.000 ...   122.996 secs\n",
      "Ready.\n",
      "Reading 0 ... 30749  =      0.000 ...   122.996 secs...\n",
      "Used Annotations descriptions: ['T0', 'T1', 'T2']\n",
      "Not setting metadata\n",
      "15 matching events found\n",
      "No baseline correction applied\n",
      "0 projection items activated\n",
      "Using data from preloaded Raw for 15 events and 126 original time points ...\n",
      "0 bad epochs dropped\n"
     ]
    },
    {
     "name": "stderr",
     "output_type": "stream",
     "text": [
      "C:\\Users\\chakr\\AppData\\Local\\Temp\\ipykernel_13788\\3980180034.py:3: RuntimeWarning: This filename (C:\\School\\EE_Y3\\Q4\\BAP\\eeg_thesis_cnn_repo\\data\\external\\interim\\S002R11_filtered.fif) does not conform to MNE naming conventions. All raw files should end with raw.fif, raw_sss.fif, raw_tsss.fif, _meg.fif, _eeg.fif, _ieeg.fif, raw.fif.gz, raw_sss.fif.gz, raw_tsss.fif.gz, _meg.fif.gz, _eeg.fif.gz or _ieeg.fif.gz\n",
      "  raw = mne.io.read_raw_fif(fif_file, preload=True)\n",
      "c:\\Users\\chakr\\Anaconda3\\envs\\eeg_thesis\\lib\\site-packages\\pywt\\_functions.py:143: FutureWarning: Wavelets from the family cmor, without parameters specified in the name are deprecated. The name should takethe form cmorB-C where B and C are floats representing the bandwidth frequency and center frequency, respectively (example: cmor1.5-1.0).\n",
      "  wavelet = DiscreteContinuousWavelet(wavelet)\n",
      "c:\\Users\\chakr\\Anaconda3\\envs\\eeg_thesis\\lib\\site-packages\\pywt\\_cwt.py:117: FutureWarning: Wavelets from the family cmor, without parameters specified in the name are deprecated. The name should takethe form cmorB-C where B and C are floats representing the bandwidth frequency and center frequency, respectively (example: cmor1.5-1.0).\n",
      "  wavelet = DiscreteContinuousWavelet(wavelet)\n"
     ]
    },
    {
     "name": "stdout",
     "output_type": "stream",
     "text": [
      "Opening raw data file C:\\School\\EE_Y3\\Q4\\BAP\\eeg_thesis_cnn_repo\\data\\external\\interim\\S003R03_filtered.fif...\n",
      "Isotrak not found\n",
      "    Range : 0 ... 31249 =      0.000 ...   124.996 secs\n",
      "Ready.\n",
      "Reading 0 ... 31249  =      0.000 ...   124.996 secs...\n",
      "Used Annotations descriptions: ['T0', 'T1', 'T2']\n",
      "Not setting metadata\n",
      "15 matching events found\n",
      "No baseline correction applied\n",
      "0 projection items activated\n",
      "Using data from preloaded Raw for 15 events and 126 original time points ...\n",
      "0 bad epochs dropped\n"
     ]
    },
    {
     "name": "stderr",
     "output_type": "stream",
     "text": [
      "C:\\Users\\chakr\\AppData\\Local\\Temp\\ipykernel_13788\\3980180034.py:3: RuntimeWarning: This filename (C:\\School\\EE_Y3\\Q4\\BAP\\eeg_thesis_cnn_repo\\data\\external\\interim\\S003R03_filtered.fif) does not conform to MNE naming conventions. All raw files should end with raw.fif, raw_sss.fif, raw_tsss.fif, _meg.fif, _eeg.fif, _ieeg.fif, raw.fif.gz, raw_sss.fif.gz, raw_tsss.fif.gz, _meg.fif.gz, _eeg.fif.gz or _ieeg.fif.gz\n",
      "  raw = mne.io.read_raw_fif(fif_file, preload=True)\n",
      "c:\\Users\\chakr\\Anaconda3\\envs\\eeg_thesis\\lib\\site-packages\\pywt\\_functions.py:143: FutureWarning: Wavelets from the family cmor, without parameters specified in the name are deprecated. The name should takethe form cmorB-C where B and C are floats representing the bandwidth frequency and center frequency, respectively (example: cmor1.5-1.0).\n",
      "  wavelet = DiscreteContinuousWavelet(wavelet)\n",
      "c:\\Users\\chakr\\Anaconda3\\envs\\eeg_thesis\\lib\\site-packages\\pywt\\_cwt.py:117: FutureWarning: Wavelets from the family cmor, without parameters specified in the name are deprecated. The name should takethe form cmorB-C where B and C are floats representing the bandwidth frequency and center frequency, respectively (example: cmor1.5-1.0).\n",
      "  wavelet = DiscreteContinuousWavelet(wavelet)\n"
     ]
    },
    {
     "name": "stdout",
     "output_type": "stream",
     "text": [
      "Opening raw data file C:\\School\\EE_Y3\\Q4\\BAP\\eeg_thesis_cnn_repo\\data\\external\\interim\\S003R07_filtered.fif...\n",
      "Isotrak not found\n",
      "    Range : 0 ... 31249 =      0.000 ...   124.996 secs\n",
      "Ready.\n",
      "Reading 0 ... 31249  =      0.000 ...   124.996 secs...\n",
      "Used Annotations descriptions: ['T0', 'T1', 'T2']\n",
      "Not setting metadata\n",
      "15 matching events found\n",
      "No baseline correction applied\n",
      "0 projection items activated\n",
      "Using data from preloaded Raw for 15 events and 126 original time points ...\n",
      "0 bad epochs dropped\n"
     ]
    },
    {
     "name": "stderr",
     "output_type": "stream",
     "text": [
      "C:\\Users\\chakr\\AppData\\Local\\Temp\\ipykernel_13788\\3980180034.py:3: RuntimeWarning: This filename (C:\\School\\EE_Y3\\Q4\\BAP\\eeg_thesis_cnn_repo\\data\\external\\interim\\S003R07_filtered.fif) does not conform to MNE naming conventions. All raw files should end with raw.fif, raw_sss.fif, raw_tsss.fif, _meg.fif, _eeg.fif, _ieeg.fif, raw.fif.gz, raw_sss.fif.gz, raw_tsss.fif.gz, _meg.fif.gz, _eeg.fif.gz or _ieeg.fif.gz\n",
      "  raw = mne.io.read_raw_fif(fif_file, preload=True)\n",
      "c:\\Users\\chakr\\Anaconda3\\envs\\eeg_thesis\\lib\\site-packages\\pywt\\_functions.py:143: FutureWarning: Wavelets from the family cmor, without parameters specified in the name are deprecated. The name should takethe form cmorB-C where B and C are floats representing the bandwidth frequency and center frequency, respectively (example: cmor1.5-1.0).\n",
      "  wavelet = DiscreteContinuousWavelet(wavelet)\n",
      "c:\\Users\\chakr\\Anaconda3\\envs\\eeg_thesis\\lib\\site-packages\\pywt\\_cwt.py:117: FutureWarning: Wavelets from the family cmor, without parameters specified in the name are deprecated. The name should takethe form cmorB-C where B and C are floats representing the bandwidth frequency and center frequency, respectively (example: cmor1.5-1.0).\n",
      "  wavelet = DiscreteContinuousWavelet(wavelet)\n"
     ]
    },
    {
     "name": "stdout",
     "output_type": "stream",
     "text": [
      "Opening raw data file C:\\School\\EE_Y3\\Q4\\BAP\\eeg_thesis_cnn_repo\\data\\external\\interim\\S003R11_filtered.fif...\n",
      "Isotrak not found\n",
      "    Range : 0 ... 31249 =      0.000 ...   124.996 secs\n",
      "Ready.\n",
      "Reading 0 ... 31249  =      0.000 ...   124.996 secs...\n",
      "Used Annotations descriptions: ['T0', 'T1', 'T2']\n",
      "Not setting metadata\n",
      "15 matching events found\n",
      "No baseline correction applied\n",
      "0 projection items activated\n",
      "Using data from preloaded Raw for 15 events and 126 original time points ...\n",
      "0 bad epochs dropped\n"
     ]
    },
    {
     "name": "stderr",
     "output_type": "stream",
     "text": [
      "C:\\Users\\chakr\\AppData\\Local\\Temp\\ipykernel_13788\\3980180034.py:3: RuntimeWarning: This filename (C:\\School\\EE_Y3\\Q4\\BAP\\eeg_thesis_cnn_repo\\data\\external\\interim\\S003R11_filtered.fif) does not conform to MNE naming conventions. All raw files should end with raw.fif, raw_sss.fif, raw_tsss.fif, _meg.fif, _eeg.fif, _ieeg.fif, raw.fif.gz, raw_sss.fif.gz, raw_tsss.fif.gz, _meg.fif.gz, _eeg.fif.gz or _ieeg.fif.gz\n",
      "  raw = mne.io.read_raw_fif(fif_file, preload=True)\n",
      "c:\\Users\\chakr\\Anaconda3\\envs\\eeg_thesis\\lib\\site-packages\\pywt\\_functions.py:143: FutureWarning: Wavelets from the family cmor, without parameters specified in the name are deprecated. The name should takethe form cmorB-C where B and C are floats representing the bandwidth frequency and center frequency, respectively (example: cmor1.5-1.0).\n",
      "  wavelet = DiscreteContinuousWavelet(wavelet)\n",
      "c:\\Users\\chakr\\Anaconda3\\envs\\eeg_thesis\\lib\\site-packages\\pywt\\_cwt.py:117: FutureWarning: Wavelets from the family cmor, without parameters specified in the name are deprecated. The name should takethe form cmorB-C where B and C are floats representing the bandwidth frequency and center frequency, respectively (example: cmor1.5-1.0).\n",
      "  wavelet = DiscreteContinuousWavelet(wavelet)\n"
     ]
    },
    {
     "name": "stdout",
     "output_type": "stream",
     "text": [
      "Opening raw data file C:\\School\\EE_Y3\\Q4\\BAP\\eeg_thesis_cnn_repo\\data\\external\\interim\\S004R03_filtered.fif...\n",
      "Isotrak not found\n",
      "    Range : 0 ... 30749 =      0.000 ...   122.996 secs\n",
      "Ready.\n",
      "Reading 0 ... 30749  =      0.000 ...   122.996 secs...\n",
      "Used Annotations descriptions: ['T0', 'T1', 'T2']\n",
      "Not setting metadata\n",
      "15 matching events found\n",
      "No baseline correction applied\n",
      "0 projection items activated\n",
      "Using data from preloaded Raw for 15 events and 126 original time points ...\n",
      "0 bad epochs dropped\n"
     ]
    },
    {
     "name": "stderr",
     "output_type": "stream",
     "text": [
      "C:\\Users\\chakr\\AppData\\Local\\Temp\\ipykernel_13788\\3980180034.py:3: RuntimeWarning: This filename (C:\\School\\EE_Y3\\Q4\\BAP\\eeg_thesis_cnn_repo\\data\\external\\interim\\S004R03_filtered.fif) does not conform to MNE naming conventions. All raw files should end with raw.fif, raw_sss.fif, raw_tsss.fif, _meg.fif, _eeg.fif, _ieeg.fif, raw.fif.gz, raw_sss.fif.gz, raw_tsss.fif.gz, _meg.fif.gz, _eeg.fif.gz or _ieeg.fif.gz\n",
      "  raw = mne.io.read_raw_fif(fif_file, preload=True)\n",
      "c:\\Users\\chakr\\Anaconda3\\envs\\eeg_thesis\\lib\\site-packages\\pywt\\_functions.py:143: FutureWarning: Wavelets from the family cmor, without parameters specified in the name are deprecated. The name should takethe form cmorB-C where B and C are floats representing the bandwidth frequency and center frequency, respectively (example: cmor1.5-1.0).\n",
      "  wavelet = DiscreteContinuousWavelet(wavelet)\n",
      "c:\\Users\\chakr\\Anaconda3\\envs\\eeg_thesis\\lib\\site-packages\\pywt\\_cwt.py:117: FutureWarning: Wavelets from the family cmor, without parameters specified in the name are deprecated. The name should takethe form cmorB-C where B and C are floats representing the bandwidth frequency and center frequency, respectively (example: cmor1.5-1.0).\n",
      "  wavelet = DiscreteContinuousWavelet(wavelet)\n"
     ]
    },
    {
     "name": "stdout",
     "output_type": "stream",
     "text": [
      "Opening raw data file C:\\School\\EE_Y3\\Q4\\BAP\\eeg_thesis_cnn_repo\\data\\external\\interim\\S004R07_filtered.fif...\n",
      "Isotrak not found\n",
      "    Range : 0 ... 30749 =      0.000 ...   122.996 secs\n",
      "Ready.\n",
      "Reading 0 ... 30749  =      0.000 ...   122.996 secs...\n",
      "Used Annotations descriptions: ['T0', 'T1', 'T2']\n",
      "Not setting metadata\n",
      "15 matching events found\n",
      "No baseline correction applied\n",
      "0 projection items activated\n",
      "Using data from preloaded Raw for 15 events and 126 original time points ...\n",
      "0 bad epochs dropped\n"
     ]
    },
    {
     "name": "stderr",
     "output_type": "stream",
     "text": [
      "C:\\Users\\chakr\\AppData\\Local\\Temp\\ipykernel_13788\\3980180034.py:3: RuntimeWarning: This filename (C:\\School\\EE_Y3\\Q4\\BAP\\eeg_thesis_cnn_repo\\data\\external\\interim\\S004R07_filtered.fif) does not conform to MNE naming conventions. All raw files should end with raw.fif, raw_sss.fif, raw_tsss.fif, _meg.fif, _eeg.fif, _ieeg.fif, raw.fif.gz, raw_sss.fif.gz, raw_tsss.fif.gz, _meg.fif.gz, _eeg.fif.gz or _ieeg.fif.gz\n",
      "  raw = mne.io.read_raw_fif(fif_file, preload=True)\n",
      "c:\\Users\\chakr\\Anaconda3\\envs\\eeg_thesis\\lib\\site-packages\\pywt\\_functions.py:143: FutureWarning: Wavelets from the family cmor, without parameters specified in the name are deprecated. The name should takethe form cmorB-C where B and C are floats representing the bandwidth frequency and center frequency, respectively (example: cmor1.5-1.0).\n",
      "  wavelet = DiscreteContinuousWavelet(wavelet)\n",
      "c:\\Users\\chakr\\Anaconda3\\envs\\eeg_thesis\\lib\\site-packages\\pywt\\_cwt.py:117: FutureWarning: Wavelets from the family cmor, without parameters specified in the name are deprecated. The name should takethe form cmorB-C where B and C are floats representing the bandwidth frequency and center frequency, respectively (example: cmor1.5-1.0).\n",
      "  wavelet = DiscreteContinuousWavelet(wavelet)\n"
     ]
    },
    {
     "name": "stdout",
     "output_type": "stream",
     "text": [
      "Opening raw data file C:\\School\\EE_Y3\\Q4\\BAP\\eeg_thesis_cnn_repo\\data\\external\\interim\\S004R11_filtered.fif...\n",
      "Isotrak not found\n",
      "    Range : 0 ... 30749 =      0.000 ...   122.996 secs\n",
      "Ready.\n",
      "Reading 0 ... 30749  =      0.000 ...   122.996 secs...\n",
      "Used Annotations descriptions: ['T0', 'T1', 'T2']\n",
      "Not setting metadata\n",
      "15 matching events found\n",
      "No baseline correction applied\n",
      "0 projection items activated\n",
      "Using data from preloaded Raw for 15 events and 126 original time points ...\n",
      "0 bad epochs dropped\n"
     ]
    },
    {
     "name": "stderr",
     "output_type": "stream",
     "text": [
      "C:\\Users\\chakr\\AppData\\Local\\Temp\\ipykernel_13788\\3980180034.py:3: RuntimeWarning: This filename (C:\\School\\EE_Y3\\Q4\\BAP\\eeg_thesis_cnn_repo\\data\\external\\interim\\S004R11_filtered.fif) does not conform to MNE naming conventions. All raw files should end with raw.fif, raw_sss.fif, raw_tsss.fif, _meg.fif, _eeg.fif, _ieeg.fif, raw.fif.gz, raw_sss.fif.gz, raw_tsss.fif.gz, _meg.fif.gz, _eeg.fif.gz or _ieeg.fif.gz\n",
      "  raw = mne.io.read_raw_fif(fif_file, preload=True)\n",
      "c:\\Users\\chakr\\Anaconda3\\envs\\eeg_thesis\\lib\\site-packages\\pywt\\_functions.py:143: FutureWarning: Wavelets from the family cmor, without parameters specified in the name are deprecated. The name should takethe form cmorB-C where B and C are floats representing the bandwidth frequency and center frequency, respectively (example: cmor1.5-1.0).\n",
      "  wavelet = DiscreteContinuousWavelet(wavelet)\n",
      "c:\\Users\\chakr\\Anaconda3\\envs\\eeg_thesis\\lib\\site-packages\\pywt\\_cwt.py:117: FutureWarning: Wavelets from the family cmor, without parameters specified in the name are deprecated. The name should takethe form cmorB-C where B and C are floats representing the bandwidth frequency and center frequency, respectively (example: cmor1.5-1.0).\n",
      "  wavelet = DiscreteContinuousWavelet(wavelet)\n"
     ]
    },
    {
     "name": "stdout",
     "output_type": "stream",
     "text": [
      "Opening raw data file C:\\School\\EE_Y3\\Q4\\BAP\\eeg_thesis_cnn_repo\\data\\external\\interim\\S005R03_filtered.fif...\n",
      "Isotrak not found\n",
      "    Range : 0 ... 30749 =      0.000 ...   122.996 secs\n",
      "Ready.\n",
      "Reading 0 ... 30749  =      0.000 ...   122.996 secs...\n",
      "Used Annotations descriptions: ['T0', 'T1', 'T2']\n",
      "Not setting metadata\n",
      "15 matching events found\n",
      "No baseline correction applied\n",
      "0 projection items activated\n",
      "Using data from preloaded Raw for 15 events and 126 original time points ...\n",
      "0 bad epochs dropped\n"
     ]
    },
    {
     "name": "stderr",
     "output_type": "stream",
     "text": [
      "C:\\Users\\chakr\\AppData\\Local\\Temp\\ipykernel_13788\\3980180034.py:3: RuntimeWarning: This filename (C:\\School\\EE_Y3\\Q4\\BAP\\eeg_thesis_cnn_repo\\data\\external\\interim\\S005R03_filtered.fif) does not conform to MNE naming conventions. All raw files should end with raw.fif, raw_sss.fif, raw_tsss.fif, _meg.fif, _eeg.fif, _ieeg.fif, raw.fif.gz, raw_sss.fif.gz, raw_tsss.fif.gz, _meg.fif.gz, _eeg.fif.gz or _ieeg.fif.gz\n",
      "  raw = mne.io.read_raw_fif(fif_file, preload=True)\n",
      "c:\\Users\\chakr\\Anaconda3\\envs\\eeg_thesis\\lib\\site-packages\\pywt\\_functions.py:143: FutureWarning: Wavelets from the family cmor, without parameters specified in the name are deprecated. The name should takethe form cmorB-C where B and C are floats representing the bandwidth frequency and center frequency, respectively (example: cmor1.5-1.0).\n",
      "  wavelet = DiscreteContinuousWavelet(wavelet)\n",
      "c:\\Users\\chakr\\Anaconda3\\envs\\eeg_thesis\\lib\\site-packages\\pywt\\_cwt.py:117: FutureWarning: Wavelets from the family cmor, without parameters specified in the name are deprecated. The name should takethe form cmorB-C where B and C are floats representing the bandwidth frequency and center frequency, respectively (example: cmor1.5-1.0).\n",
      "  wavelet = DiscreteContinuousWavelet(wavelet)\n"
     ]
    },
    {
     "name": "stdout",
     "output_type": "stream",
     "text": [
      "Opening raw data file C:\\School\\EE_Y3\\Q4\\BAP\\eeg_thesis_cnn_repo\\data\\external\\interim\\S005R07_filtered.fif...\n",
      "Isotrak not found\n",
      "    Range : 0 ... 30749 =      0.000 ...   122.996 secs\n",
      "Ready.\n",
      "Reading 0 ... 30749  =      0.000 ...   122.996 secs...\n",
      "Used Annotations descriptions: ['T0', 'T1', 'T2']\n",
      "Not setting metadata\n",
      "15 matching events found\n",
      "No baseline correction applied\n",
      "0 projection items activated\n",
      "Using data from preloaded Raw for 15 events and 126 original time points ...\n",
      "0 bad epochs dropped\n"
     ]
    },
    {
     "name": "stderr",
     "output_type": "stream",
     "text": [
      "C:\\Users\\chakr\\AppData\\Local\\Temp\\ipykernel_13788\\3980180034.py:3: RuntimeWarning: This filename (C:\\School\\EE_Y3\\Q4\\BAP\\eeg_thesis_cnn_repo\\data\\external\\interim\\S005R07_filtered.fif) does not conform to MNE naming conventions. All raw files should end with raw.fif, raw_sss.fif, raw_tsss.fif, _meg.fif, _eeg.fif, _ieeg.fif, raw.fif.gz, raw_sss.fif.gz, raw_tsss.fif.gz, _meg.fif.gz, _eeg.fif.gz or _ieeg.fif.gz\n",
      "  raw = mne.io.read_raw_fif(fif_file, preload=True)\n",
      "c:\\Users\\chakr\\Anaconda3\\envs\\eeg_thesis\\lib\\site-packages\\pywt\\_functions.py:143: FutureWarning: Wavelets from the family cmor, without parameters specified in the name are deprecated. The name should takethe form cmorB-C where B and C are floats representing the bandwidth frequency and center frequency, respectively (example: cmor1.5-1.0).\n",
      "  wavelet = DiscreteContinuousWavelet(wavelet)\n",
      "c:\\Users\\chakr\\Anaconda3\\envs\\eeg_thesis\\lib\\site-packages\\pywt\\_cwt.py:117: FutureWarning: Wavelets from the family cmor, without parameters specified in the name are deprecated. The name should takethe form cmorB-C where B and C are floats representing the bandwidth frequency and center frequency, respectively (example: cmor1.5-1.0).\n",
      "  wavelet = DiscreteContinuousWavelet(wavelet)\n"
     ]
    },
    {
     "name": "stdout",
     "output_type": "stream",
     "text": [
      "Opening raw data file C:\\School\\EE_Y3\\Q4\\BAP\\eeg_thesis_cnn_repo\\data\\external\\interim\\S005R11_filtered.fif...\n",
      "Isotrak not found\n",
      "    Range : 0 ... 30749 =      0.000 ...   122.996 secs\n",
      "Ready.\n",
      "Reading 0 ... 30749  =      0.000 ...   122.996 secs...\n",
      "Used Annotations descriptions: ['T0', 'T1', 'T2']\n",
      "Not setting metadata\n",
      "15 matching events found\n",
      "No baseline correction applied\n",
      "0 projection items activated\n",
      "Using data from preloaded Raw for 15 events and 126 original time points ...\n",
      "0 bad epochs dropped\n"
     ]
    },
    {
     "name": "stderr",
     "output_type": "stream",
     "text": [
      "C:\\Users\\chakr\\AppData\\Local\\Temp\\ipykernel_13788\\3980180034.py:3: RuntimeWarning: This filename (C:\\School\\EE_Y3\\Q4\\BAP\\eeg_thesis_cnn_repo\\data\\external\\interim\\S005R11_filtered.fif) does not conform to MNE naming conventions. All raw files should end with raw.fif, raw_sss.fif, raw_tsss.fif, _meg.fif, _eeg.fif, _ieeg.fif, raw.fif.gz, raw_sss.fif.gz, raw_tsss.fif.gz, _meg.fif.gz, _eeg.fif.gz or _ieeg.fif.gz\n",
      "  raw = mne.io.read_raw_fif(fif_file, preload=True)\n",
      "c:\\Users\\chakr\\Anaconda3\\envs\\eeg_thesis\\lib\\site-packages\\pywt\\_functions.py:143: FutureWarning: Wavelets from the family cmor, without parameters specified in the name are deprecated. The name should takethe form cmorB-C where B and C are floats representing the bandwidth frequency and center frequency, respectively (example: cmor1.5-1.0).\n",
      "  wavelet = DiscreteContinuousWavelet(wavelet)\n",
      "c:\\Users\\chakr\\Anaconda3\\envs\\eeg_thesis\\lib\\site-packages\\pywt\\_cwt.py:117: FutureWarning: Wavelets from the family cmor, without parameters specified in the name are deprecated. The name should takethe form cmorB-C where B and C are floats representing the bandwidth frequency and center frequency, respectively (example: cmor1.5-1.0).\n",
      "  wavelet = DiscreteContinuousWavelet(wavelet)\n"
     ]
    },
    {
     "name": "stdout",
     "output_type": "stream",
     "text": [
      "Opening raw data file C:\\School\\EE_Y3\\Q4\\BAP\\eeg_thesis_cnn_repo\\data\\external\\interim\\S006R03_filtered.fif...\n",
      "Isotrak not found\n",
      "    Range : 0 ... 30749 =      0.000 ...   122.996 secs\n",
      "Ready.\n",
      "Reading 0 ... 30749  =      0.000 ...   122.996 secs...\n",
      "Used Annotations descriptions: ['T0', 'T1', 'T2']\n",
      "Not setting metadata\n",
      "15 matching events found\n",
      "No baseline correction applied\n",
      "0 projection items activated\n",
      "Using data from preloaded Raw for 15 events and 126 original time points ...\n",
      "0 bad epochs dropped\n"
     ]
    },
    {
     "name": "stderr",
     "output_type": "stream",
     "text": [
      "C:\\Users\\chakr\\AppData\\Local\\Temp\\ipykernel_13788\\3980180034.py:3: RuntimeWarning: This filename (C:\\School\\EE_Y3\\Q4\\BAP\\eeg_thesis_cnn_repo\\data\\external\\interim\\S006R03_filtered.fif) does not conform to MNE naming conventions. All raw files should end with raw.fif, raw_sss.fif, raw_tsss.fif, _meg.fif, _eeg.fif, _ieeg.fif, raw.fif.gz, raw_sss.fif.gz, raw_tsss.fif.gz, _meg.fif.gz, _eeg.fif.gz or _ieeg.fif.gz\n",
      "  raw = mne.io.read_raw_fif(fif_file, preload=True)\n",
      "c:\\Users\\chakr\\Anaconda3\\envs\\eeg_thesis\\lib\\site-packages\\pywt\\_functions.py:143: FutureWarning: Wavelets from the family cmor, without parameters specified in the name are deprecated. The name should takethe form cmorB-C where B and C are floats representing the bandwidth frequency and center frequency, respectively (example: cmor1.5-1.0).\n",
      "  wavelet = DiscreteContinuousWavelet(wavelet)\n",
      "c:\\Users\\chakr\\Anaconda3\\envs\\eeg_thesis\\lib\\site-packages\\pywt\\_cwt.py:117: FutureWarning: Wavelets from the family cmor, without parameters specified in the name are deprecated. The name should takethe form cmorB-C where B and C are floats representing the bandwidth frequency and center frequency, respectively (example: cmor1.5-1.0).\n",
      "  wavelet = DiscreteContinuousWavelet(wavelet)\n"
     ]
    },
    {
     "name": "stdout",
     "output_type": "stream",
     "text": [
      "Opening raw data file C:\\School\\EE_Y3\\Q4\\BAP\\eeg_thesis_cnn_repo\\data\\external\\interim\\S006R07_filtered.fif...\n",
      "Isotrak not found\n",
      "    Range : 0 ... 30749 =      0.000 ...   122.996 secs\n",
      "Ready.\n",
      "Reading 0 ... 30749  =      0.000 ...   122.996 secs...\n",
      "Used Annotations descriptions: ['T0', 'T1', 'T2']\n",
      "Not setting metadata\n",
      "15 matching events found\n",
      "No baseline correction applied\n",
      "0 projection items activated\n",
      "Using data from preloaded Raw for 15 events and 126 original time points ...\n",
      "0 bad epochs dropped\n"
     ]
    },
    {
     "name": "stderr",
     "output_type": "stream",
     "text": [
      "C:\\Users\\chakr\\AppData\\Local\\Temp\\ipykernel_13788\\3980180034.py:3: RuntimeWarning: This filename (C:\\School\\EE_Y3\\Q4\\BAP\\eeg_thesis_cnn_repo\\data\\external\\interim\\S006R07_filtered.fif) does not conform to MNE naming conventions. All raw files should end with raw.fif, raw_sss.fif, raw_tsss.fif, _meg.fif, _eeg.fif, _ieeg.fif, raw.fif.gz, raw_sss.fif.gz, raw_tsss.fif.gz, _meg.fif.gz, _eeg.fif.gz or _ieeg.fif.gz\n",
      "  raw = mne.io.read_raw_fif(fif_file, preload=True)\n",
      "c:\\Users\\chakr\\Anaconda3\\envs\\eeg_thesis\\lib\\site-packages\\pywt\\_functions.py:143: FutureWarning: Wavelets from the family cmor, without parameters specified in the name are deprecated. The name should takethe form cmorB-C where B and C are floats representing the bandwidth frequency and center frequency, respectively (example: cmor1.5-1.0).\n",
      "  wavelet = DiscreteContinuousWavelet(wavelet)\n",
      "c:\\Users\\chakr\\Anaconda3\\envs\\eeg_thesis\\lib\\site-packages\\pywt\\_cwt.py:117: FutureWarning: Wavelets from the family cmor, without parameters specified in the name are deprecated. The name should takethe form cmorB-C where B and C are floats representing the bandwidth frequency and center frequency, respectively (example: cmor1.5-1.0).\n",
      "  wavelet = DiscreteContinuousWavelet(wavelet)\n"
     ]
    },
    {
     "name": "stdout",
     "output_type": "stream",
     "text": [
      "Opening raw data file C:\\School\\EE_Y3\\Q4\\BAP\\eeg_thesis_cnn_repo\\data\\external\\interim\\S006R11_filtered.fif...\n",
      "Isotrak not found\n",
      "    Range : 0 ... 30749 =      0.000 ...   122.996 secs\n",
      "Ready.\n",
      "Reading 0 ... 30749  =      0.000 ...   122.996 secs...\n",
      "Used Annotations descriptions: ['T0', 'T1', 'T2']\n",
      "Not setting metadata\n",
      "15 matching events found\n",
      "No baseline correction applied\n",
      "0 projection items activated\n",
      "Using data from preloaded Raw for 15 events and 126 original time points ...\n",
      "0 bad epochs dropped\n"
     ]
    },
    {
     "name": "stderr",
     "output_type": "stream",
     "text": [
      "C:\\Users\\chakr\\AppData\\Local\\Temp\\ipykernel_13788\\3980180034.py:3: RuntimeWarning: This filename (C:\\School\\EE_Y3\\Q4\\BAP\\eeg_thesis_cnn_repo\\data\\external\\interim\\S006R11_filtered.fif) does not conform to MNE naming conventions. All raw files should end with raw.fif, raw_sss.fif, raw_tsss.fif, _meg.fif, _eeg.fif, _ieeg.fif, raw.fif.gz, raw_sss.fif.gz, raw_tsss.fif.gz, _meg.fif.gz, _eeg.fif.gz or _ieeg.fif.gz\n",
      "  raw = mne.io.read_raw_fif(fif_file, preload=True)\n",
      "c:\\Users\\chakr\\Anaconda3\\envs\\eeg_thesis\\lib\\site-packages\\pywt\\_functions.py:143: FutureWarning: Wavelets from the family cmor, without parameters specified in the name are deprecated. The name should takethe form cmorB-C where B and C are floats representing the bandwidth frequency and center frequency, respectively (example: cmor1.5-1.0).\n",
      "  wavelet = DiscreteContinuousWavelet(wavelet)\n",
      "c:\\Users\\chakr\\Anaconda3\\envs\\eeg_thesis\\lib\\site-packages\\pywt\\_cwt.py:117: FutureWarning: Wavelets from the family cmor, without parameters specified in the name are deprecated. The name should takethe form cmorB-C where B and C are floats representing the bandwidth frequency and center frequency, respectively (example: cmor1.5-1.0).\n",
      "  wavelet = DiscreteContinuousWavelet(wavelet)\n"
     ]
    },
    {
     "name": "stdout",
     "output_type": "stream",
     "text": [
      "Opening raw data file C:\\School\\EE_Y3\\Q4\\BAP\\eeg_thesis_cnn_repo\\data\\external\\interim\\S007R03_filtered.fif...\n",
      "Isotrak not found\n",
      "    Range : 0 ... 31249 =      0.000 ...   124.996 secs\n",
      "Ready.\n",
      "Reading 0 ... 31249  =      0.000 ...   124.996 secs...\n",
      "Used Annotations descriptions: ['T0', 'T1', 'T2']\n",
      "Not setting metadata\n",
      "15 matching events found\n",
      "No baseline correction applied\n",
      "0 projection items activated\n",
      "Using data from preloaded Raw for 15 events and 126 original time points ...\n",
      "0 bad epochs dropped\n"
     ]
    },
    {
     "name": "stderr",
     "output_type": "stream",
     "text": [
      "C:\\Users\\chakr\\AppData\\Local\\Temp\\ipykernel_13788\\3980180034.py:3: RuntimeWarning: This filename (C:\\School\\EE_Y3\\Q4\\BAP\\eeg_thesis_cnn_repo\\data\\external\\interim\\S007R03_filtered.fif) does not conform to MNE naming conventions. All raw files should end with raw.fif, raw_sss.fif, raw_tsss.fif, _meg.fif, _eeg.fif, _ieeg.fif, raw.fif.gz, raw_sss.fif.gz, raw_tsss.fif.gz, _meg.fif.gz, _eeg.fif.gz or _ieeg.fif.gz\n",
      "  raw = mne.io.read_raw_fif(fif_file, preload=True)\n",
      "c:\\Users\\chakr\\Anaconda3\\envs\\eeg_thesis\\lib\\site-packages\\pywt\\_functions.py:143: FutureWarning: Wavelets from the family cmor, without parameters specified in the name are deprecated. The name should takethe form cmorB-C where B and C are floats representing the bandwidth frequency and center frequency, respectively (example: cmor1.5-1.0).\n",
      "  wavelet = DiscreteContinuousWavelet(wavelet)\n",
      "c:\\Users\\chakr\\Anaconda3\\envs\\eeg_thesis\\lib\\site-packages\\pywt\\_cwt.py:117: FutureWarning: Wavelets from the family cmor, without parameters specified in the name are deprecated. The name should takethe form cmorB-C where B and C are floats representing the bandwidth frequency and center frequency, respectively (example: cmor1.5-1.0).\n",
      "  wavelet = DiscreteContinuousWavelet(wavelet)\n"
     ]
    },
    {
     "name": "stdout",
     "output_type": "stream",
     "text": [
      "Opening raw data file C:\\School\\EE_Y3\\Q4\\BAP\\eeg_thesis_cnn_repo\\data\\external\\interim\\S007R07_filtered.fif...\n",
      "Isotrak not found\n",
      "    Range : 0 ... 31249 =      0.000 ...   124.996 secs\n",
      "Ready.\n",
      "Reading 0 ... 31249  =      0.000 ...   124.996 secs...\n",
      "Used Annotations descriptions: ['T0', 'T1', 'T2']\n",
      "Not setting metadata\n",
      "15 matching events found\n",
      "No baseline correction applied\n",
      "0 projection items activated\n",
      "Using data from preloaded Raw for 15 events and 126 original time points ...\n",
      "0 bad epochs dropped\n"
     ]
    },
    {
     "name": "stderr",
     "output_type": "stream",
     "text": [
      "C:\\Users\\chakr\\AppData\\Local\\Temp\\ipykernel_13788\\3980180034.py:3: RuntimeWarning: This filename (C:\\School\\EE_Y3\\Q4\\BAP\\eeg_thesis_cnn_repo\\data\\external\\interim\\S007R07_filtered.fif) does not conform to MNE naming conventions. All raw files should end with raw.fif, raw_sss.fif, raw_tsss.fif, _meg.fif, _eeg.fif, _ieeg.fif, raw.fif.gz, raw_sss.fif.gz, raw_tsss.fif.gz, _meg.fif.gz, _eeg.fif.gz or _ieeg.fif.gz\n",
      "  raw = mne.io.read_raw_fif(fif_file, preload=True)\n",
      "c:\\Users\\chakr\\Anaconda3\\envs\\eeg_thesis\\lib\\site-packages\\pywt\\_functions.py:143: FutureWarning: Wavelets from the family cmor, without parameters specified in the name are deprecated. The name should takethe form cmorB-C where B and C are floats representing the bandwidth frequency and center frequency, respectively (example: cmor1.5-1.0).\n",
      "  wavelet = DiscreteContinuousWavelet(wavelet)\n",
      "c:\\Users\\chakr\\Anaconda3\\envs\\eeg_thesis\\lib\\site-packages\\pywt\\_cwt.py:117: FutureWarning: Wavelets from the family cmor, without parameters specified in the name are deprecated. The name should takethe form cmorB-C where B and C are floats representing the bandwidth frequency and center frequency, respectively (example: cmor1.5-1.0).\n",
      "  wavelet = DiscreteContinuousWavelet(wavelet)\n"
     ]
    },
    {
     "name": "stdout",
     "output_type": "stream",
     "text": [
      "Opening raw data file C:\\School\\EE_Y3\\Q4\\BAP\\eeg_thesis_cnn_repo\\data\\external\\interim\\S007R11_filtered.fif...\n",
      "Isotrak not found\n",
      "    Range : 0 ... 31249 =      0.000 ...   124.996 secs\n",
      "Ready.\n",
      "Reading 0 ... 31249  =      0.000 ...   124.996 secs...\n",
      "Used Annotations descriptions: ['T0', 'T1', 'T2']\n",
      "Not setting metadata\n",
      "15 matching events found\n",
      "No baseline correction applied\n",
      "0 projection items activated\n",
      "Using data from preloaded Raw for 15 events and 126 original time points ...\n",
      "0 bad epochs dropped\n"
     ]
    },
    {
     "name": "stderr",
     "output_type": "stream",
     "text": [
      "C:\\Users\\chakr\\AppData\\Local\\Temp\\ipykernel_13788\\3980180034.py:3: RuntimeWarning: This filename (C:\\School\\EE_Y3\\Q4\\BAP\\eeg_thesis_cnn_repo\\data\\external\\interim\\S007R11_filtered.fif) does not conform to MNE naming conventions. All raw files should end with raw.fif, raw_sss.fif, raw_tsss.fif, _meg.fif, _eeg.fif, _ieeg.fif, raw.fif.gz, raw_sss.fif.gz, raw_tsss.fif.gz, _meg.fif.gz, _eeg.fif.gz or _ieeg.fif.gz\n",
      "  raw = mne.io.read_raw_fif(fif_file, preload=True)\n",
      "c:\\Users\\chakr\\Anaconda3\\envs\\eeg_thesis\\lib\\site-packages\\pywt\\_functions.py:143: FutureWarning: Wavelets from the family cmor, without parameters specified in the name are deprecated. The name should takethe form cmorB-C where B and C are floats representing the bandwidth frequency and center frequency, respectively (example: cmor1.5-1.0).\n",
      "  wavelet = DiscreteContinuousWavelet(wavelet)\n",
      "c:\\Users\\chakr\\Anaconda3\\envs\\eeg_thesis\\lib\\site-packages\\pywt\\_cwt.py:117: FutureWarning: Wavelets from the family cmor, without parameters specified in the name are deprecated. The name should takethe form cmorB-C where B and C are floats representing the bandwidth frequency and center frequency, respectively (example: cmor1.5-1.0).\n",
      "  wavelet = DiscreteContinuousWavelet(wavelet)\n"
     ]
    },
    {
     "name": "stdout",
     "output_type": "stream",
     "text": [
      "Opening raw data file C:\\School\\EE_Y3\\Q4\\BAP\\eeg_thesis_cnn_repo\\data\\external\\interim\\S008R03_filtered.fif...\n",
      "Isotrak not found\n",
      "    Range : 0 ... 30749 =      0.000 ...   122.996 secs\n",
      "Ready.\n",
      "Reading 0 ... 30749  =      0.000 ...   122.996 secs...\n",
      "Used Annotations descriptions: ['T0', 'T1', 'T2']\n",
      "Not setting metadata\n",
      "15 matching events found\n",
      "No baseline correction applied\n",
      "0 projection items activated\n",
      "Using data from preloaded Raw for 15 events and 126 original time points ...\n",
      "0 bad epochs dropped\n"
     ]
    },
    {
     "name": "stderr",
     "output_type": "stream",
     "text": [
      "C:\\Users\\chakr\\AppData\\Local\\Temp\\ipykernel_13788\\3980180034.py:3: RuntimeWarning: This filename (C:\\School\\EE_Y3\\Q4\\BAP\\eeg_thesis_cnn_repo\\data\\external\\interim\\S008R03_filtered.fif) does not conform to MNE naming conventions. All raw files should end with raw.fif, raw_sss.fif, raw_tsss.fif, _meg.fif, _eeg.fif, _ieeg.fif, raw.fif.gz, raw_sss.fif.gz, raw_tsss.fif.gz, _meg.fif.gz, _eeg.fif.gz or _ieeg.fif.gz\n",
      "  raw = mne.io.read_raw_fif(fif_file, preload=True)\n",
      "c:\\Users\\chakr\\Anaconda3\\envs\\eeg_thesis\\lib\\site-packages\\pywt\\_functions.py:143: FutureWarning: Wavelets from the family cmor, without parameters specified in the name are deprecated. The name should takethe form cmorB-C where B and C are floats representing the bandwidth frequency and center frequency, respectively (example: cmor1.5-1.0).\n",
      "  wavelet = DiscreteContinuousWavelet(wavelet)\n",
      "c:\\Users\\chakr\\Anaconda3\\envs\\eeg_thesis\\lib\\site-packages\\pywt\\_cwt.py:117: FutureWarning: Wavelets from the family cmor, without parameters specified in the name are deprecated. The name should takethe form cmorB-C where B and C are floats representing the bandwidth frequency and center frequency, respectively (example: cmor1.5-1.0).\n",
      "  wavelet = DiscreteContinuousWavelet(wavelet)\n"
     ]
    },
    {
     "name": "stdout",
     "output_type": "stream",
     "text": [
      "Opening raw data file C:\\School\\EE_Y3\\Q4\\BAP\\eeg_thesis_cnn_repo\\data\\external\\interim\\S008R07_filtered.fif...\n",
      "Isotrak not found\n",
      "    Range : 0 ... 30749 =      0.000 ...   122.996 secs\n",
      "Ready.\n",
      "Reading 0 ... 30749  =      0.000 ...   122.996 secs...\n",
      "Used Annotations descriptions: ['T0', 'T1', 'T2']\n",
      "Not setting metadata\n",
      "15 matching events found\n",
      "No baseline correction applied\n",
      "0 projection items activated\n",
      "Using data from preloaded Raw for 15 events and 126 original time points ...\n",
      "0 bad epochs dropped\n"
     ]
    },
    {
     "name": "stderr",
     "output_type": "stream",
     "text": [
      "C:\\Users\\chakr\\AppData\\Local\\Temp\\ipykernel_13788\\3980180034.py:3: RuntimeWarning: This filename (C:\\School\\EE_Y3\\Q4\\BAP\\eeg_thesis_cnn_repo\\data\\external\\interim\\S008R07_filtered.fif) does not conform to MNE naming conventions. All raw files should end with raw.fif, raw_sss.fif, raw_tsss.fif, _meg.fif, _eeg.fif, _ieeg.fif, raw.fif.gz, raw_sss.fif.gz, raw_tsss.fif.gz, _meg.fif.gz, _eeg.fif.gz or _ieeg.fif.gz\n",
      "  raw = mne.io.read_raw_fif(fif_file, preload=True)\n",
      "c:\\Users\\chakr\\Anaconda3\\envs\\eeg_thesis\\lib\\site-packages\\pywt\\_functions.py:143: FutureWarning: Wavelets from the family cmor, without parameters specified in the name are deprecated. The name should takethe form cmorB-C where B and C are floats representing the bandwidth frequency and center frequency, respectively (example: cmor1.5-1.0).\n",
      "  wavelet = DiscreteContinuousWavelet(wavelet)\n",
      "c:\\Users\\chakr\\Anaconda3\\envs\\eeg_thesis\\lib\\site-packages\\pywt\\_cwt.py:117: FutureWarning: Wavelets from the family cmor, without parameters specified in the name are deprecated. The name should takethe form cmorB-C where B and C are floats representing the bandwidth frequency and center frequency, respectively (example: cmor1.5-1.0).\n",
      "  wavelet = DiscreteContinuousWavelet(wavelet)\n"
     ]
    },
    {
     "name": "stdout",
     "output_type": "stream",
     "text": [
      "Opening raw data file C:\\School\\EE_Y3\\Q4\\BAP\\eeg_thesis_cnn_repo\\data\\external\\interim\\S008R11_filtered.fif...\n",
      "Isotrak not found\n",
      "    Range : 0 ... 30749 =      0.000 ...   122.996 secs\n",
      "Ready.\n",
      "Reading 0 ... 30749  =      0.000 ...   122.996 secs...\n",
      "Used Annotations descriptions: ['T0', 'T1', 'T2']\n",
      "Not setting metadata\n",
      "15 matching events found\n",
      "No baseline correction applied\n",
      "0 projection items activated\n",
      "Using data from preloaded Raw for 15 events and 126 original time points ...\n",
      "0 bad epochs dropped\n"
     ]
    },
    {
     "name": "stderr",
     "output_type": "stream",
     "text": [
      "C:\\Users\\chakr\\AppData\\Local\\Temp\\ipykernel_13788\\3980180034.py:3: RuntimeWarning: This filename (C:\\School\\EE_Y3\\Q4\\BAP\\eeg_thesis_cnn_repo\\data\\external\\interim\\S008R11_filtered.fif) does not conform to MNE naming conventions. All raw files should end with raw.fif, raw_sss.fif, raw_tsss.fif, _meg.fif, _eeg.fif, _ieeg.fif, raw.fif.gz, raw_sss.fif.gz, raw_tsss.fif.gz, _meg.fif.gz, _eeg.fif.gz or _ieeg.fif.gz\n",
      "  raw = mne.io.read_raw_fif(fif_file, preload=True)\n",
      "c:\\Users\\chakr\\Anaconda3\\envs\\eeg_thesis\\lib\\site-packages\\pywt\\_functions.py:143: FutureWarning: Wavelets from the family cmor, without parameters specified in the name are deprecated. The name should takethe form cmorB-C where B and C are floats representing the bandwidth frequency and center frequency, respectively (example: cmor1.5-1.0).\n",
      "  wavelet = DiscreteContinuousWavelet(wavelet)\n",
      "c:\\Users\\chakr\\Anaconda3\\envs\\eeg_thesis\\lib\\site-packages\\pywt\\_cwt.py:117: FutureWarning: Wavelets from the family cmor, without parameters specified in the name are deprecated. The name should takethe form cmorB-C where B and C are floats representing the bandwidth frequency and center frequency, respectively (example: cmor1.5-1.0).\n",
      "  wavelet = DiscreteContinuousWavelet(wavelet)\n"
     ]
    },
    {
     "name": "stdout",
     "output_type": "stream",
     "text": [
      "Opening raw data file C:\\School\\EE_Y3\\Q4\\BAP\\eeg_thesis_cnn_repo\\data\\external\\interim\\S009R03_filtered.fif...\n",
      "Isotrak not found\n",
      "    Range : 0 ... 30749 =      0.000 ...   122.996 secs\n",
      "Ready.\n",
      "Reading 0 ... 30749  =      0.000 ...   122.996 secs...\n",
      "Used Annotations descriptions: ['T0', 'T1', 'T2']\n",
      "Not setting metadata\n",
      "15 matching events found\n",
      "No baseline correction applied\n",
      "0 projection items activated\n",
      "Using data from preloaded Raw for 15 events and 126 original time points ...\n",
      "0 bad epochs dropped\n"
     ]
    },
    {
     "name": "stderr",
     "output_type": "stream",
     "text": [
      "C:\\Users\\chakr\\AppData\\Local\\Temp\\ipykernel_13788\\3980180034.py:3: RuntimeWarning: This filename (C:\\School\\EE_Y3\\Q4\\BAP\\eeg_thesis_cnn_repo\\data\\external\\interim\\S009R03_filtered.fif) does not conform to MNE naming conventions. All raw files should end with raw.fif, raw_sss.fif, raw_tsss.fif, _meg.fif, _eeg.fif, _ieeg.fif, raw.fif.gz, raw_sss.fif.gz, raw_tsss.fif.gz, _meg.fif.gz, _eeg.fif.gz or _ieeg.fif.gz\n",
      "  raw = mne.io.read_raw_fif(fif_file, preload=True)\n",
      "c:\\Users\\chakr\\Anaconda3\\envs\\eeg_thesis\\lib\\site-packages\\pywt\\_functions.py:143: FutureWarning: Wavelets from the family cmor, without parameters specified in the name are deprecated. The name should takethe form cmorB-C where B and C are floats representing the bandwidth frequency and center frequency, respectively (example: cmor1.5-1.0).\n",
      "  wavelet = DiscreteContinuousWavelet(wavelet)\n",
      "c:\\Users\\chakr\\Anaconda3\\envs\\eeg_thesis\\lib\\site-packages\\pywt\\_cwt.py:117: FutureWarning: Wavelets from the family cmor, without parameters specified in the name are deprecated. The name should takethe form cmorB-C where B and C are floats representing the bandwidth frequency and center frequency, respectively (example: cmor1.5-1.0).\n",
      "  wavelet = DiscreteContinuousWavelet(wavelet)\n"
     ]
    },
    {
     "name": "stdout",
     "output_type": "stream",
     "text": [
      "Opening raw data file C:\\School\\EE_Y3\\Q4\\BAP\\eeg_thesis_cnn_repo\\data\\external\\interim\\S009R07_filtered.fif...\n",
      "Isotrak not found\n",
      "    Range : 0 ... 30749 =      0.000 ...   122.996 secs\n",
      "Ready.\n",
      "Reading 0 ... 30749  =      0.000 ...   122.996 secs...\n",
      "Used Annotations descriptions: ['T0', 'T1', 'T2']\n",
      "Not setting metadata\n",
      "15 matching events found\n",
      "No baseline correction applied\n",
      "0 projection items activated\n",
      "Using data from preloaded Raw for 15 events and 126 original time points ...\n",
      "0 bad epochs dropped\n"
     ]
    },
    {
     "name": "stderr",
     "output_type": "stream",
     "text": [
      "C:\\Users\\chakr\\AppData\\Local\\Temp\\ipykernel_13788\\3980180034.py:3: RuntimeWarning: This filename (C:\\School\\EE_Y3\\Q4\\BAP\\eeg_thesis_cnn_repo\\data\\external\\interim\\S009R07_filtered.fif) does not conform to MNE naming conventions. All raw files should end with raw.fif, raw_sss.fif, raw_tsss.fif, _meg.fif, _eeg.fif, _ieeg.fif, raw.fif.gz, raw_sss.fif.gz, raw_tsss.fif.gz, _meg.fif.gz, _eeg.fif.gz or _ieeg.fif.gz\n",
      "  raw = mne.io.read_raw_fif(fif_file, preload=True)\n",
      "c:\\Users\\chakr\\Anaconda3\\envs\\eeg_thesis\\lib\\site-packages\\pywt\\_functions.py:143: FutureWarning: Wavelets from the family cmor, without parameters specified in the name are deprecated. The name should takethe form cmorB-C where B and C are floats representing the bandwidth frequency and center frequency, respectively (example: cmor1.5-1.0).\n",
      "  wavelet = DiscreteContinuousWavelet(wavelet)\n",
      "c:\\Users\\chakr\\Anaconda3\\envs\\eeg_thesis\\lib\\site-packages\\pywt\\_cwt.py:117: FutureWarning: Wavelets from the family cmor, without parameters specified in the name are deprecated. The name should takethe form cmorB-C where B and C are floats representing the bandwidth frequency and center frequency, respectively (example: cmor1.5-1.0).\n",
      "  wavelet = DiscreteContinuousWavelet(wavelet)\n"
     ]
    },
    {
     "name": "stdout",
     "output_type": "stream",
     "text": [
      "Opening raw data file C:\\School\\EE_Y3\\Q4\\BAP\\eeg_thesis_cnn_repo\\data\\external\\interim\\S009R11_filtered.fif...\n",
      "Isotrak not found\n",
      "    Range : 0 ... 30749 =      0.000 ...   122.996 secs\n",
      "Ready.\n",
      "Reading 0 ... 30749  =      0.000 ...   122.996 secs...\n",
      "Used Annotations descriptions: ['T0', 'T1', 'T2']\n",
      "Not setting metadata\n",
      "15 matching events found\n",
      "No baseline correction applied\n",
      "0 projection items activated\n",
      "Using data from preloaded Raw for 15 events and 126 original time points ...\n",
      "0 bad epochs dropped\n"
     ]
    },
    {
     "name": "stderr",
     "output_type": "stream",
     "text": [
      "C:\\Users\\chakr\\AppData\\Local\\Temp\\ipykernel_13788\\3980180034.py:3: RuntimeWarning: This filename (C:\\School\\EE_Y3\\Q4\\BAP\\eeg_thesis_cnn_repo\\data\\external\\interim\\S009R11_filtered.fif) does not conform to MNE naming conventions. All raw files should end with raw.fif, raw_sss.fif, raw_tsss.fif, _meg.fif, _eeg.fif, _ieeg.fif, raw.fif.gz, raw_sss.fif.gz, raw_tsss.fif.gz, _meg.fif.gz, _eeg.fif.gz or _ieeg.fif.gz\n",
      "  raw = mne.io.read_raw_fif(fif_file, preload=True)\n",
      "c:\\Users\\chakr\\Anaconda3\\envs\\eeg_thesis\\lib\\site-packages\\pywt\\_functions.py:143: FutureWarning: Wavelets from the family cmor, without parameters specified in the name are deprecated. The name should takethe form cmorB-C where B and C are floats representing the bandwidth frequency and center frequency, respectively (example: cmor1.5-1.0).\n",
      "  wavelet = DiscreteContinuousWavelet(wavelet)\n",
      "c:\\Users\\chakr\\Anaconda3\\envs\\eeg_thesis\\lib\\site-packages\\pywt\\_cwt.py:117: FutureWarning: Wavelets from the family cmor, without parameters specified in the name are deprecated. The name should takethe form cmorB-C where B and C are floats representing the bandwidth frequency and center frequency, respectively (example: cmor1.5-1.0).\n",
      "  wavelet = DiscreteContinuousWavelet(wavelet)\n"
     ]
    },
    {
     "name": "stdout",
     "output_type": "stream",
     "text": [
      "Opening raw data file C:\\School\\EE_Y3\\Q4\\BAP\\eeg_thesis_cnn_repo\\data\\external\\interim\\S010R03_filtered.fif...\n",
      "Isotrak not found\n",
      "    Range : 0 ... 30749 =      0.000 ...   122.996 secs\n",
      "Ready.\n",
      "Reading 0 ... 30749  =      0.000 ...   122.996 secs...\n",
      "Used Annotations descriptions: ['T0', 'T1', 'T2']\n",
      "Not setting metadata\n",
      "15 matching events found\n",
      "No baseline correction applied\n",
      "0 projection items activated\n",
      "Using data from preloaded Raw for 15 events and 126 original time points ...\n",
      "0 bad epochs dropped\n"
     ]
    },
    {
     "name": "stderr",
     "output_type": "stream",
     "text": [
      "C:\\Users\\chakr\\AppData\\Local\\Temp\\ipykernel_13788\\3980180034.py:3: RuntimeWarning: This filename (C:\\School\\EE_Y3\\Q4\\BAP\\eeg_thesis_cnn_repo\\data\\external\\interim\\S010R03_filtered.fif) does not conform to MNE naming conventions. All raw files should end with raw.fif, raw_sss.fif, raw_tsss.fif, _meg.fif, _eeg.fif, _ieeg.fif, raw.fif.gz, raw_sss.fif.gz, raw_tsss.fif.gz, _meg.fif.gz, _eeg.fif.gz or _ieeg.fif.gz\n",
      "  raw = mne.io.read_raw_fif(fif_file, preload=True)\n",
      "c:\\Users\\chakr\\Anaconda3\\envs\\eeg_thesis\\lib\\site-packages\\pywt\\_functions.py:143: FutureWarning: Wavelets from the family cmor, without parameters specified in the name are deprecated. The name should takethe form cmorB-C where B and C are floats representing the bandwidth frequency and center frequency, respectively (example: cmor1.5-1.0).\n",
      "  wavelet = DiscreteContinuousWavelet(wavelet)\n",
      "c:\\Users\\chakr\\Anaconda3\\envs\\eeg_thesis\\lib\\site-packages\\pywt\\_cwt.py:117: FutureWarning: Wavelets from the family cmor, without parameters specified in the name are deprecated. The name should takethe form cmorB-C where B and C are floats representing the bandwidth frequency and center frequency, respectively (example: cmor1.5-1.0).\n",
      "  wavelet = DiscreteContinuousWavelet(wavelet)\n"
     ]
    },
    {
     "name": "stdout",
     "output_type": "stream",
     "text": [
      "Opening raw data file C:\\School\\EE_Y3\\Q4\\BAP\\eeg_thesis_cnn_repo\\data\\external\\interim\\S010R07_filtered.fif...\n",
      "Isotrak not found\n",
      "    Range : 0 ... 30749 =      0.000 ...   122.996 secs\n",
      "Ready.\n",
      "Reading 0 ... 30749  =      0.000 ...   122.996 secs...\n",
      "Used Annotations descriptions: ['T0', 'T1', 'T2']\n",
      "Not setting metadata\n",
      "15 matching events found\n",
      "No baseline correction applied\n",
      "0 projection items activated\n",
      "Using data from preloaded Raw for 15 events and 126 original time points ...\n",
      "0 bad epochs dropped\n"
     ]
    },
    {
     "name": "stderr",
     "output_type": "stream",
     "text": [
      "C:\\Users\\chakr\\AppData\\Local\\Temp\\ipykernel_13788\\3980180034.py:3: RuntimeWarning: This filename (C:\\School\\EE_Y3\\Q4\\BAP\\eeg_thesis_cnn_repo\\data\\external\\interim\\S010R07_filtered.fif) does not conform to MNE naming conventions. All raw files should end with raw.fif, raw_sss.fif, raw_tsss.fif, _meg.fif, _eeg.fif, _ieeg.fif, raw.fif.gz, raw_sss.fif.gz, raw_tsss.fif.gz, _meg.fif.gz, _eeg.fif.gz or _ieeg.fif.gz\n",
      "  raw = mne.io.read_raw_fif(fif_file, preload=True)\n",
      "c:\\Users\\chakr\\Anaconda3\\envs\\eeg_thesis\\lib\\site-packages\\pywt\\_functions.py:143: FutureWarning: Wavelets from the family cmor, without parameters specified in the name are deprecated. The name should takethe form cmorB-C where B and C are floats representing the bandwidth frequency and center frequency, respectively (example: cmor1.5-1.0).\n",
      "  wavelet = DiscreteContinuousWavelet(wavelet)\n",
      "c:\\Users\\chakr\\Anaconda3\\envs\\eeg_thesis\\lib\\site-packages\\pywt\\_cwt.py:117: FutureWarning: Wavelets from the family cmor, without parameters specified in the name are deprecated. The name should takethe form cmorB-C where B and C are floats representing the bandwidth frequency and center frequency, respectively (example: cmor1.5-1.0).\n",
      "  wavelet = DiscreteContinuousWavelet(wavelet)\n"
     ]
    },
    {
     "name": "stdout",
     "output_type": "stream",
     "text": [
      "Opening raw data file C:\\School\\EE_Y3\\Q4\\BAP\\eeg_thesis_cnn_repo\\data\\external\\interim\\S010R11_filtered.fif...\n",
      "Isotrak not found\n",
      "    Range : 0 ... 30749 =      0.000 ...   122.996 secs\n",
      "Ready.\n",
      "Reading 0 ... 30749  =      0.000 ...   122.996 secs...\n",
      "Used Annotations descriptions: ['T0', 'T1', 'T2']\n",
      "Not setting metadata\n",
      "15 matching events found\n",
      "No baseline correction applied\n",
      "0 projection items activated\n",
      "Using data from preloaded Raw for 15 events and 126 original time points ...\n",
      "0 bad epochs dropped\n"
     ]
    },
    {
     "name": "stderr",
     "output_type": "stream",
     "text": [
      "C:\\Users\\chakr\\AppData\\Local\\Temp\\ipykernel_13788\\3980180034.py:3: RuntimeWarning: This filename (C:\\School\\EE_Y3\\Q4\\BAP\\eeg_thesis_cnn_repo\\data\\external\\interim\\S010R11_filtered.fif) does not conform to MNE naming conventions. All raw files should end with raw.fif, raw_sss.fif, raw_tsss.fif, _meg.fif, _eeg.fif, _ieeg.fif, raw.fif.gz, raw_sss.fif.gz, raw_tsss.fif.gz, _meg.fif.gz, _eeg.fif.gz or _ieeg.fif.gz\n",
      "  raw = mne.io.read_raw_fif(fif_file, preload=True)\n",
      "c:\\Users\\chakr\\Anaconda3\\envs\\eeg_thesis\\lib\\site-packages\\pywt\\_functions.py:143: FutureWarning: Wavelets from the family cmor, without parameters specified in the name are deprecated. The name should takethe form cmorB-C where B and C are floats representing the bandwidth frequency and center frequency, respectively (example: cmor1.5-1.0).\n",
      "  wavelet = DiscreteContinuousWavelet(wavelet)\n",
      "c:\\Users\\chakr\\Anaconda3\\envs\\eeg_thesis\\lib\\site-packages\\pywt\\_cwt.py:117: FutureWarning: Wavelets from the family cmor, without parameters specified in the name are deprecated. The name should takethe form cmorB-C where B and C are floats representing the bandwidth frequency and center frequency, respectively (example: cmor1.5-1.0).\n",
      "  wavelet = DiscreteContinuousWavelet(wavelet)\n"
     ]
    },
    {
     "name": "stdout",
     "output_type": "stream",
     "text": [
      "Opening raw data file C:\\School\\EE_Y3\\Q4\\BAP\\eeg_thesis_cnn_repo\\data\\external\\interim\\S011R03_filtered.fif...\n",
      "Isotrak not found\n",
      "    Range : 0 ... 30749 =      0.000 ...   122.996 secs\n",
      "Ready.\n",
      "Reading 0 ... 30749  =      0.000 ...   122.996 secs...\n",
      "Used Annotations descriptions: ['T0', 'T1', 'T2']\n",
      "Not setting metadata\n",
      "15 matching events found\n",
      "No baseline correction applied\n",
      "0 projection items activated\n",
      "Using data from preloaded Raw for 15 events and 126 original time points ...\n",
      "0 bad epochs dropped\n"
     ]
    },
    {
     "name": "stderr",
     "output_type": "stream",
     "text": [
      "C:\\Users\\chakr\\AppData\\Local\\Temp\\ipykernel_13788\\3980180034.py:3: RuntimeWarning: This filename (C:\\School\\EE_Y3\\Q4\\BAP\\eeg_thesis_cnn_repo\\data\\external\\interim\\S011R03_filtered.fif) does not conform to MNE naming conventions. All raw files should end with raw.fif, raw_sss.fif, raw_tsss.fif, _meg.fif, _eeg.fif, _ieeg.fif, raw.fif.gz, raw_sss.fif.gz, raw_tsss.fif.gz, _meg.fif.gz, _eeg.fif.gz or _ieeg.fif.gz\n",
      "  raw = mne.io.read_raw_fif(fif_file, preload=True)\n",
      "c:\\Users\\chakr\\Anaconda3\\envs\\eeg_thesis\\lib\\site-packages\\pywt\\_functions.py:143: FutureWarning: Wavelets from the family cmor, without parameters specified in the name are deprecated. The name should takethe form cmorB-C where B and C are floats representing the bandwidth frequency and center frequency, respectively (example: cmor1.5-1.0).\n",
      "  wavelet = DiscreteContinuousWavelet(wavelet)\n",
      "c:\\Users\\chakr\\Anaconda3\\envs\\eeg_thesis\\lib\\site-packages\\pywt\\_cwt.py:117: FutureWarning: Wavelets from the family cmor, without parameters specified in the name are deprecated. The name should takethe form cmorB-C where B and C are floats representing the bandwidth frequency and center frequency, respectively (example: cmor1.5-1.0).\n",
      "  wavelet = DiscreteContinuousWavelet(wavelet)\n"
     ]
    },
    {
     "name": "stdout",
     "output_type": "stream",
     "text": [
      "Opening raw data file C:\\School\\EE_Y3\\Q4\\BAP\\eeg_thesis_cnn_repo\\data\\external\\interim\\S011R07_filtered.fif...\n",
      "Isotrak not found\n",
      "    Range : 0 ... 30749 =      0.000 ...   122.996 secs\n",
      "Ready.\n",
      "Reading 0 ... 30749  =      0.000 ...   122.996 secs...\n",
      "Used Annotations descriptions: ['T0', 'T1', 'T2']\n",
      "Not setting metadata\n",
      "15 matching events found\n",
      "No baseline correction applied\n",
      "0 projection items activated\n",
      "Using data from preloaded Raw for 15 events and 126 original time points ...\n",
      "0 bad epochs dropped\n"
     ]
    },
    {
     "name": "stderr",
     "output_type": "stream",
     "text": [
      "C:\\Users\\chakr\\AppData\\Local\\Temp\\ipykernel_13788\\3980180034.py:3: RuntimeWarning: This filename (C:\\School\\EE_Y3\\Q4\\BAP\\eeg_thesis_cnn_repo\\data\\external\\interim\\S011R07_filtered.fif) does not conform to MNE naming conventions. All raw files should end with raw.fif, raw_sss.fif, raw_tsss.fif, _meg.fif, _eeg.fif, _ieeg.fif, raw.fif.gz, raw_sss.fif.gz, raw_tsss.fif.gz, _meg.fif.gz, _eeg.fif.gz or _ieeg.fif.gz\n",
      "  raw = mne.io.read_raw_fif(fif_file, preload=True)\n",
      "c:\\Users\\chakr\\Anaconda3\\envs\\eeg_thesis\\lib\\site-packages\\pywt\\_functions.py:143: FutureWarning: Wavelets from the family cmor, without parameters specified in the name are deprecated. The name should takethe form cmorB-C where B and C are floats representing the bandwidth frequency and center frequency, respectively (example: cmor1.5-1.0).\n",
      "  wavelet = DiscreteContinuousWavelet(wavelet)\n",
      "c:\\Users\\chakr\\Anaconda3\\envs\\eeg_thesis\\lib\\site-packages\\pywt\\_cwt.py:117: FutureWarning: Wavelets from the family cmor, without parameters specified in the name are deprecated. The name should takethe form cmorB-C where B and C are floats representing the bandwidth frequency and center frequency, respectively (example: cmor1.5-1.0).\n",
      "  wavelet = DiscreteContinuousWavelet(wavelet)\n"
     ]
    },
    {
     "name": "stdout",
     "output_type": "stream",
     "text": [
      "Opening raw data file C:\\School\\EE_Y3\\Q4\\BAP\\eeg_thesis_cnn_repo\\data\\external\\interim\\S011R11_filtered.fif...\n",
      "Isotrak not found\n",
      "    Range : 0 ... 30749 =      0.000 ...   122.996 secs\n",
      "Ready.\n",
      "Reading 0 ... 30749  =      0.000 ...   122.996 secs...\n",
      "Used Annotations descriptions: ['T0', 'T1', 'T2']\n",
      "Not setting metadata\n",
      "15 matching events found\n",
      "No baseline correction applied\n",
      "0 projection items activated\n",
      "Using data from preloaded Raw for 15 events and 126 original time points ...\n",
      "0 bad epochs dropped\n"
     ]
    },
    {
     "name": "stderr",
     "output_type": "stream",
     "text": [
      "C:\\Users\\chakr\\AppData\\Local\\Temp\\ipykernel_13788\\3980180034.py:3: RuntimeWarning: This filename (C:\\School\\EE_Y3\\Q4\\BAP\\eeg_thesis_cnn_repo\\data\\external\\interim\\S011R11_filtered.fif) does not conform to MNE naming conventions. All raw files should end with raw.fif, raw_sss.fif, raw_tsss.fif, _meg.fif, _eeg.fif, _ieeg.fif, raw.fif.gz, raw_sss.fif.gz, raw_tsss.fif.gz, _meg.fif.gz, _eeg.fif.gz or _ieeg.fif.gz\n",
      "  raw = mne.io.read_raw_fif(fif_file, preload=True)\n",
      "c:\\Users\\chakr\\Anaconda3\\envs\\eeg_thesis\\lib\\site-packages\\pywt\\_functions.py:143: FutureWarning: Wavelets from the family cmor, without parameters specified in the name are deprecated. The name should takethe form cmorB-C where B and C are floats representing the bandwidth frequency and center frequency, respectively (example: cmor1.5-1.0).\n",
      "  wavelet = DiscreteContinuousWavelet(wavelet)\n",
      "c:\\Users\\chakr\\Anaconda3\\envs\\eeg_thesis\\lib\\site-packages\\pywt\\_cwt.py:117: FutureWarning: Wavelets from the family cmor, without parameters specified in the name are deprecated. The name should takethe form cmorB-C where B and C are floats representing the bandwidth frequency and center frequency, respectively (example: cmor1.5-1.0).\n",
      "  wavelet = DiscreteContinuousWavelet(wavelet)\n"
     ]
    },
    {
     "name": "stdout",
     "output_type": "stream",
     "text": [
      "Opening raw data file C:\\School\\EE_Y3\\Q4\\BAP\\eeg_thesis_cnn_repo\\data\\external\\interim\\S012R03_filtered.fif...\n",
      "Isotrak not found\n",
      "    Range : 0 ... 30749 =      0.000 ...   122.996 secs\n",
      "Ready.\n",
      "Reading 0 ... 30749  =      0.000 ...   122.996 secs...\n",
      "Used Annotations descriptions: ['T0', 'T1', 'T2']\n",
      "Not setting metadata\n",
      "15 matching events found\n",
      "No baseline correction applied\n",
      "0 projection items activated\n",
      "Using data from preloaded Raw for 15 events and 126 original time points ...\n",
      "0 bad epochs dropped\n"
     ]
    },
    {
     "name": "stderr",
     "output_type": "stream",
     "text": [
      "C:\\Users\\chakr\\AppData\\Local\\Temp\\ipykernel_13788\\3980180034.py:3: RuntimeWarning: This filename (C:\\School\\EE_Y3\\Q4\\BAP\\eeg_thesis_cnn_repo\\data\\external\\interim\\S012R03_filtered.fif) does not conform to MNE naming conventions. All raw files should end with raw.fif, raw_sss.fif, raw_tsss.fif, _meg.fif, _eeg.fif, _ieeg.fif, raw.fif.gz, raw_sss.fif.gz, raw_tsss.fif.gz, _meg.fif.gz, _eeg.fif.gz or _ieeg.fif.gz\n",
      "  raw = mne.io.read_raw_fif(fif_file, preload=True)\n",
      "c:\\Users\\chakr\\Anaconda3\\envs\\eeg_thesis\\lib\\site-packages\\pywt\\_functions.py:143: FutureWarning: Wavelets from the family cmor, without parameters specified in the name are deprecated. The name should takethe form cmorB-C where B and C are floats representing the bandwidth frequency and center frequency, respectively (example: cmor1.5-1.0).\n",
      "  wavelet = DiscreteContinuousWavelet(wavelet)\n",
      "c:\\Users\\chakr\\Anaconda3\\envs\\eeg_thesis\\lib\\site-packages\\pywt\\_cwt.py:117: FutureWarning: Wavelets from the family cmor, without parameters specified in the name are deprecated. The name should takethe form cmorB-C where B and C are floats representing the bandwidth frequency and center frequency, respectively (example: cmor1.5-1.0).\n",
      "  wavelet = DiscreteContinuousWavelet(wavelet)\n"
     ]
    },
    {
     "name": "stdout",
     "output_type": "stream",
     "text": [
      "Opening raw data file C:\\School\\EE_Y3\\Q4\\BAP\\eeg_thesis_cnn_repo\\data\\external\\interim\\S012R07_filtered.fif...\n",
      "Isotrak not found\n",
      "    Range : 0 ... 30749 =      0.000 ...   122.996 secs\n",
      "Ready.\n",
      "Reading 0 ... 30749  =      0.000 ...   122.996 secs...\n",
      "Used Annotations descriptions: ['T0', 'T1', 'T2']\n",
      "Not setting metadata\n",
      "15 matching events found\n",
      "No baseline correction applied\n",
      "0 projection items activated\n",
      "Using data from preloaded Raw for 15 events and 126 original time points ...\n",
      "0 bad epochs dropped\n"
     ]
    },
    {
     "name": "stderr",
     "output_type": "stream",
     "text": [
      "C:\\Users\\chakr\\AppData\\Local\\Temp\\ipykernel_13788\\3980180034.py:3: RuntimeWarning: This filename (C:\\School\\EE_Y3\\Q4\\BAP\\eeg_thesis_cnn_repo\\data\\external\\interim\\S012R07_filtered.fif) does not conform to MNE naming conventions. All raw files should end with raw.fif, raw_sss.fif, raw_tsss.fif, _meg.fif, _eeg.fif, _ieeg.fif, raw.fif.gz, raw_sss.fif.gz, raw_tsss.fif.gz, _meg.fif.gz, _eeg.fif.gz or _ieeg.fif.gz\n",
      "  raw = mne.io.read_raw_fif(fif_file, preload=True)\n",
      "c:\\Users\\chakr\\Anaconda3\\envs\\eeg_thesis\\lib\\site-packages\\pywt\\_functions.py:143: FutureWarning: Wavelets from the family cmor, without parameters specified in the name are deprecated. The name should takethe form cmorB-C where B and C are floats representing the bandwidth frequency and center frequency, respectively (example: cmor1.5-1.0).\n",
      "  wavelet = DiscreteContinuousWavelet(wavelet)\n",
      "c:\\Users\\chakr\\Anaconda3\\envs\\eeg_thesis\\lib\\site-packages\\pywt\\_cwt.py:117: FutureWarning: Wavelets from the family cmor, without parameters specified in the name are deprecated. The name should takethe form cmorB-C where B and C are floats representing the bandwidth frequency and center frequency, respectively (example: cmor1.5-1.0).\n",
      "  wavelet = DiscreteContinuousWavelet(wavelet)\n"
     ]
    },
    {
     "name": "stdout",
     "output_type": "stream",
     "text": [
      "Opening raw data file C:\\School\\EE_Y3\\Q4\\BAP\\eeg_thesis_cnn_repo\\data\\external\\interim\\S012R11_filtered.fif...\n",
      "Isotrak not found\n",
      "    Range : 0 ... 30749 =      0.000 ...   122.996 secs\n",
      "Ready.\n",
      "Reading 0 ... 30749  =      0.000 ...   122.996 secs...\n",
      "Used Annotations descriptions: ['T0', 'T1', 'T2']\n",
      "Not setting metadata\n",
      "15 matching events found\n",
      "No baseline correction applied\n",
      "0 projection items activated\n",
      "Using data from preloaded Raw for 15 events and 126 original time points ...\n",
      "0 bad epochs dropped\n"
     ]
    },
    {
     "name": "stderr",
     "output_type": "stream",
     "text": [
      "C:\\Users\\chakr\\AppData\\Local\\Temp\\ipykernel_13788\\3980180034.py:3: RuntimeWarning: This filename (C:\\School\\EE_Y3\\Q4\\BAP\\eeg_thesis_cnn_repo\\data\\external\\interim\\S012R11_filtered.fif) does not conform to MNE naming conventions. All raw files should end with raw.fif, raw_sss.fif, raw_tsss.fif, _meg.fif, _eeg.fif, _ieeg.fif, raw.fif.gz, raw_sss.fif.gz, raw_tsss.fif.gz, _meg.fif.gz, _eeg.fif.gz or _ieeg.fif.gz\n",
      "  raw = mne.io.read_raw_fif(fif_file, preload=True)\n",
      "c:\\Users\\chakr\\Anaconda3\\envs\\eeg_thesis\\lib\\site-packages\\pywt\\_functions.py:143: FutureWarning: Wavelets from the family cmor, without parameters specified in the name are deprecated. The name should takethe form cmorB-C where B and C are floats representing the bandwidth frequency and center frequency, respectively (example: cmor1.5-1.0).\n",
      "  wavelet = DiscreteContinuousWavelet(wavelet)\n",
      "c:\\Users\\chakr\\Anaconda3\\envs\\eeg_thesis\\lib\\site-packages\\pywt\\_cwt.py:117: FutureWarning: Wavelets from the family cmor, without parameters specified in the name are deprecated. The name should takethe form cmorB-C where B and C are floats representing the bandwidth frequency and center frequency, respectively (example: cmor1.5-1.0).\n",
      "  wavelet = DiscreteContinuousWavelet(wavelet)\n"
     ]
    },
    {
     "name": "stdout",
     "output_type": "stream",
     "text": [
      "Opening raw data file C:\\School\\EE_Y3\\Q4\\BAP\\eeg_thesis_cnn_repo\\data\\external\\interim\\S013R03_filtered.fif...\n",
      "Isotrak not found\n",
      "    Range : 0 ... 30749 =      0.000 ...   122.996 secs\n",
      "Ready.\n",
      "Reading 0 ... 30749  =      0.000 ...   122.996 secs...\n",
      "Used Annotations descriptions: ['T0', 'T1', 'T2']\n",
      "Not setting metadata\n",
      "15 matching events found\n",
      "No baseline correction applied\n",
      "0 projection items activated\n",
      "Using data from preloaded Raw for 15 events and 126 original time points ...\n",
      "0 bad epochs dropped\n"
     ]
    },
    {
     "name": "stderr",
     "output_type": "stream",
     "text": [
      "C:\\Users\\chakr\\AppData\\Local\\Temp\\ipykernel_13788\\3980180034.py:3: RuntimeWarning: This filename (C:\\School\\EE_Y3\\Q4\\BAP\\eeg_thesis_cnn_repo\\data\\external\\interim\\S013R03_filtered.fif) does not conform to MNE naming conventions. All raw files should end with raw.fif, raw_sss.fif, raw_tsss.fif, _meg.fif, _eeg.fif, _ieeg.fif, raw.fif.gz, raw_sss.fif.gz, raw_tsss.fif.gz, _meg.fif.gz, _eeg.fif.gz or _ieeg.fif.gz\n",
      "  raw = mne.io.read_raw_fif(fif_file, preload=True)\n",
      "c:\\Users\\chakr\\Anaconda3\\envs\\eeg_thesis\\lib\\site-packages\\pywt\\_functions.py:143: FutureWarning: Wavelets from the family cmor, without parameters specified in the name are deprecated. The name should takethe form cmorB-C where B and C are floats representing the bandwidth frequency and center frequency, respectively (example: cmor1.5-1.0).\n",
      "  wavelet = DiscreteContinuousWavelet(wavelet)\n",
      "c:\\Users\\chakr\\Anaconda3\\envs\\eeg_thesis\\lib\\site-packages\\pywt\\_cwt.py:117: FutureWarning: Wavelets from the family cmor, without parameters specified in the name are deprecated. The name should takethe form cmorB-C where B and C are floats representing the bandwidth frequency and center frequency, respectively (example: cmor1.5-1.0).\n",
      "  wavelet = DiscreteContinuousWavelet(wavelet)\n"
     ]
    },
    {
     "name": "stdout",
     "output_type": "stream",
     "text": [
      "Opening raw data file C:\\School\\EE_Y3\\Q4\\BAP\\eeg_thesis_cnn_repo\\data\\external\\interim\\S013R07_filtered.fif...\n",
      "Isotrak not found\n",
      "    Range : 0 ... 30749 =      0.000 ...   122.996 secs\n",
      "Ready.\n",
      "Reading 0 ... 30749  =      0.000 ...   122.996 secs...\n",
      "Used Annotations descriptions: ['T0', 'T1', 'T2']\n",
      "Not setting metadata\n",
      "15 matching events found\n",
      "No baseline correction applied\n",
      "0 projection items activated\n",
      "Using data from preloaded Raw for 15 events and 126 original time points ...\n",
      "0 bad epochs dropped\n"
     ]
    },
    {
     "name": "stderr",
     "output_type": "stream",
     "text": [
      "C:\\Users\\chakr\\AppData\\Local\\Temp\\ipykernel_13788\\3980180034.py:3: RuntimeWarning: This filename (C:\\School\\EE_Y3\\Q4\\BAP\\eeg_thesis_cnn_repo\\data\\external\\interim\\S013R07_filtered.fif) does not conform to MNE naming conventions. All raw files should end with raw.fif, raw_sss.fif, raw_tsss.fif, _meg.fif, _eeg.fif, _ieeg.fif, raw.fif.gz, raw_sss.fif.gz, raw_tsss.fif.gz, _meg.fif.gz, _eeg.fif.gz or _ieeg.fif.gz\n",
      "  raw = mne.io.read_raw_fif(fif_file, preload=True)\n",
      "c:\\Users\\chakr\\Anaconda3\\envs\\eeg_thesis\\lib\\site-packages\\pywt\\_functions.py:143: FutureWarning: Wavelets from the family cmor, without parameters specified in the name are deprecated. The name should takethe form cmorB-C where B and C are floats representing the bandwidth frequency and center frequency, respectively (example: cmor1.5-1.0).\n",
      "  wavelet = DiscreteContinuousWavelet(wavelet)\n",
      "c:\\Users\\chakr\\Anaconda3\\envs\\eeg_thesis\\lib\\site-packages\\pywt\\_cwt.py:117: FutureWarning: Wavelets from the family cmor, without parameters specified in the name are deprecated. The name should takethe form cmorB-C where B and C are floats representing the bandwidth frequency and center frequency, respectively (example: cmor1.5-1.0).\n",
      "  wavelet = DiscreteContinuousWavelet(wavelet)\n"
     ]
    },
    {
     "name": "stdout",
     "output_type": "stream",
     "text": [
      "Opening raw data file C:\\School\\EE_Y3\\Q4\\BAP\\eeg_thesis_cnn_repo\\data\\external\\interim\\S013R11_filtered.fif...\n",
      "Isotrak not found\n",
      "    Range : 0 ... 30749 =      0.000 ...   122.996 secs\n",
      "Ready.\n",
      "Reading 0 ... 30749  =      0.000 ...   122.996 secs...\n",
      "Used Annotations descriptions: ['T0', 'T1', 'T2']\n",
      "Not setting metadata\n",
      "15 matching events found\n",
      "No baseline correction applied\n",
      "0 projection items activated\n",
      "Using data from preloaded Raw for 15 events and 126 original time points ...\n",
      "0 bad epochs dropped\n"
     ]
    },
    {
     "name": "stderr",
     "output_type": "stream",
     "text": [
      "C:\\Users\\chakr\\AppData\\Local\\Temp\\ipykernel_13788\\3980180034.py:3: RuntimeWarning: This filename (C:\\School\\EE_Y3\\Q4\\BAP\\eeg_thesis_cnn_repo\\data\\external\\interim\\S013R11_filtered.fif) does not conform to MNE naming conventions. All raw files should end with raw.fif, raw_sss.fif, raw_tsss.fif, _meg.fif, _eeg.fif, _ieeg.fif, raw.fif.gz, raw_sss.fif.gz, raw_tsss.fif.gz, _meg.fif.gz, _eeg.fif.gz or _ieeg.fif.gz\n",
      "  raw = mne.io.read_raw_fif(fif_file, preload=True)\n",
      "c:\\Users\\chakr\\Anaconda3\\envs\\eeg_thesis\\lib\\site-packages\\pywt\\_functions.py:143: FutureWarning: Wavelets from the family cmor, without parameters specified in the name are deprecated. The name should takethe form cmorB-C where B and C are floats representing the bandwidth frequency and center frequency, respectively (example: cmor1.5-1.0).\n",
      "  wavelet = DiscreteContinuousWavelet(wavelet)\n",
      "c:\\Users\\chakr\\Anaconda3\\envs\\eeg_thesis\\lib\\site-packages\\pywt\\_cwt.py:117: FutureWarning: Wavelets from the family cmor, without parameters specified in the name are deprecated. The name should takethe form cmorB-C where B and C are floats representing the bandwidth frequency and center frequency, respectively (example: cmor1.5-1.0).\n",
      "  wavelet = DiscreteContinuousWavelet(wavelet)\n"
     ]
    },
    {
     "name": "stdout",
     "output_type": "stream",
     "text": [
      "Opening raw data file C:\\School\\EE_Y3\\Q4\\BAP\\eeg_thesis_cnn_repo\\data\\external\\interim\\S014R03_filtered.fif...\n",
      "Isotrak not found\n",
      "    Range : 0 ... 30749 =      0.000 ...   122.996 secs\n",
      "Ready.\n",
      "Reading 0 ... 30749  =      0.000 ...   122.996 secs...\n",
      "Used Annotations descriptions: ['T0', 'T1', 'T2']\n",
      "Not setting metadata\n",
      "15 matching events found\n",
      "No baseline correction applied\n",
      "0 projection items activated\n",
      "Using data from preloaded Raw for 15 events and 126 original time points ...\n",
      "0 bad epochs dropped\n"
     ]
    },
    {
     "name": "stderr",
     "output_type": "stream",
     "text": [
      "C:\\Users\\chakr\\AppData\\Local\\Temp\\ipykernel_13788\\3980180034.py:3: RuntimeWarning: This filename (C:\\School\\EE_Y3\\Q4\\BAP\\eeg_thesis_cnn_repo\\data\\external\\interim\\S014R03_filtered.fif) does not conform to MNE naming conventions. All raw files should end with raw.fif, raw_sss.fif, raw_tsss.fif, _meg.fif, _eeg.fif, _ieeg.fif, raw.fif.gz, raw_sss.fif.gz, raw_tsss.fif.gz, _meg.fif.gz, _eeg.fif.gz or _ieeg.fif.gz\n",
      "  raw = mne.io.read_raw_fif(fif_file, preload=True)\n",
      "c:\\Users\\chakr\\Anaconda3\\envs\\eeg_thesis\\lib\\site-packages\\pywt\\_functions.py:143: FutureWarning: Wavelets from the family cmor, without parameters specified in the name are deprecated. The name should takethe form cmorB-C where B and C are floats representing the bandwidth frequency and center frequency, respectively (example: cmor1.5-1.0).\n",
      "  wavelet = DiscreteContinuousWavelet(wavelet)\n",
      "c:\\Users\\chakr\\Anaconda3\\envs\\eeg_thesis\\lib\\site-packages\\pywt\\_cwt.py:117: FutureWarning: Wavelets from the family cmor, without parameters specified in the name are deprecated. The name should takethe form cmorB-C where B and C are floats representing the bandwidth frequency and center frequency, respectively (example: cmor1.5-1.0).\n",
      "  wavelet = DiscreteContinuousWavelet(wavelet)\n"
     ]
    },
    {
     "name": "stdout",
     "output_type": "stream",
     "text": [
      "Opening raw data file C:\\School\\EE_Y3\\Q4\\BAP\\eeg_thesis_cnn_repo\\data\\external\\interim\\S014R07_filtered.fif...\n",
      "Isotrak not found\n",
      "    Range : 0 ... 30749 =      0.000 ...   122.996 secs\n",
      "Ready.\n",
      "Reading 0 ... 30749  =      0.000 ...   122.996 secs...\n",
      "Used Annotations descriptions: ['T0', 'T1', 'T2']\n",
      "Not setting metadata\n",
      "15 matching events found\n",
      "No baseline correction applied\n",
      "0 projection items activated\n",
      "Using data from preloaded Raw for 15 events and 126 original time points ...\n",
      "0 bad epochs dropped\n"
     ]
    },
    {
     "name": "stderr",
     "output_type": "stream",
     "text": [
      "C:\\Users\\chakr\\AppData\\Local\\Temp\\ipykernel_13788\\3980180034.py:3: RuntimeWarning: This filename (C:\\School\\EE_Y3\\Q4\\BAP\\eeg_thesis_cnn_repo\\data\\external\\interim\\S014R07_filtered.fif) does not conform to MNE naming conventions. All raw files should end with raw.fif, raw_sss.fif, raw_tsss.fif, _meg.fif, _eeg.fif, _ieeg.fif, raw.fif.gz, raw_sss.fif.gz, raw_tsss.fif.gz, _meg.fif.gz, _eeg.fif.gz or _ieeg.fif.gz\n",
      "  raw = mne.io.read_raw_fif(fif_file, preload=True)\n",
      "c:\\Users\\chakr\\Anaconda3\\envs\\eeg_thesis\\lib\\site-packages\\pywt\\_functions.py:143: FutureWarning: Wavelets from the family cmor, without parameters specified in the name are deprecated. The name should takethe form cmorB-C where B and C are floats representing the bandwidth frequency and center frequency, respectively (example: cmor1.5-1.0).\n",
      "  wavelet = DiscreteContinuousWavelet(wavelet)\n",
      "c:\\Users\\chakr\\Anaconda3\\envs\\eeg_thesis\\lib\\site-packages\\pywt\\_cwt.py:117: FutureWarning: Wavelets from the family cmor, without parameters specified in the name are deprecated. The name should takethe form cmorB-C where B and C are floats representing the bandwidth frequency and center frequency, respectively (example: cmor1.5-1.0).\n",
      "  wavelet = DiscreteContinuousWavelet(wavelet)\n"
     ]
    },
    {
     "name": "stdout",
     "output_type": "stream",
     "text": [
      "Opening raw data file C:\\School\\EE_Y3\\Q4\\BAP\\eeg_thesis_cnn_repo\\data\\external\\interim\\S014R11_filtered.fif...\n",
      "Isotrak not found\n",
      "    Range : 0 ... 30749 =      0.000 ...   122.996 secs\n",
      "Ready.\n",
      "Reading 0 ... 30749  =      0.000 ...   122.996 secs...\n",
      "Used Annotations descriptions: ['T0', 'T1', 'T2']\n",
      "Not setting metadata\n",
      "15 matching events found\n",
      "No baseline correction applied\n",
      "0 projection items activated\n",
      "Using data from preloaded Raw for 15 events and 126 original time points ...\n",
      "0 bad epochs dropped\n"
     ]
    },
    {
     "name": "stderr",
     "output_type": "stream",
     "text": [
      "C:\\Users\\chakr\\AppData\\Local\\Temp\\ipykernel_13788\\3980180034.py:3: RuntimeWarning: This filename (C:\\School\\EE_Y3\\Q4\\BAP\\eeg_thesis_cnn_repo\\data\\external\\interim\\S014R11_filtered.fif) does not conform to MNE naming conventions. All raw files should end with raw.fif, raw_sss.fif, raw_tsss.fif, _meg.fif, _eeg.fif, _ieeg.fif, raw.fif.gz, raw_sss.fif.gz, raw_tsss.fif.gz, _meg.fif.gz, _eeg.fif.gz or _ieeg.fif.gz\n",
      "  raw = mne.io.read_raw_fif(fif_file, preload=True)\n",
      "c:\\Users\\chakr\\Anaconda3\\envs\\eeg_thesis\\lib\\site-packages\\pywt\\_functions.py:143: FutureWarning: Wavelets from the family cmor, without parameters specified in the name are deprecated. The name should takethe form cmorB-C where B and C are floats representing the bandwidth frequency and center frequency, respectively (example: cmor1.5-1.0).\n",
      "  wavelet = DiscreteContinuousWavelet(wavelet)\n",
      "c:\\Users\\chakr\\Anaconda3\\envs\\eeg_thesis\\lib\\site-packages\\pywt\\_cwt.py:117: FutureWarning: Wavelets from the family cmor, without parameters specified in the name are deprecated. The name should takethe form cmorB-C where B and C are floats representing the bandwidth frequency and center frequency, respectively (example: cmor1.5-1.0).\n",
      "  wavelet = DiscreteContinuousWavelet(wavelet)\n"
     ]
    },
    {
     "name": "stdout",
     "output_type": "stream",
     "text": [
      "Opening raw data file C:\\School\\EE_Y3\\Q4\\BAP\\eeg_thesis_cnn_repo\\data\\external\\interim\\S015R03_filtered.fif...\n",
      "Isotrak not found\n",
      "    Range : 0 ... 30749 =      0.000 ...   122.996 secs\n",
      "Ready.\n",
      "Reading 0 ... 30749  =      0.000 ...   122.996 secs...\n",
      "Used Annotations descriptions: ['T0', 'T1', 'T2']\n",
      "Not setting metadata\n",
      "15 matching events found\n",
      "No baseline correction applied\n",
      "0 projection items activated\n",
      "Using data from preloaded Raw for 15 events and 126 original time points ...\n",
      "0 bad epochs dropped\n"
     ]
    },
    {
     "name": "stderr",
     "output_type": "stream",
     "text": [
      "C:\\Users\\chakr\\AppData\\Local\\Temp\\ipykernel_13788\\3980180034.py:3: RuntimeWarning: This filename (C:\\School\\EE_Y3\\Q4\\BAP\\eeg_thesis_cnn_repo\\data\\external\\interim\\S015R03_filtered.fif) does not conform to MNE naming conventions. All raw files should end with raw.fif, raw_sss.fif, raw_tsss.fif, _meg.fif, _eeg.fif, _ieeg.fif, raw.fif.gz, raw_sss.fif.gz, raw_tsss.fif.gz, _meg.fif.gz, _eeg.fif.gz or _ieeg.fif.gz\n",
      "  raw = mne.io.read_raw_fif(fif_file, preload=True)\n",
      "c:\\Users\\chakr\\Anaconda3\\envs\\eeg_thesis\\lib\\site-packages\\pywt\\_functions.py:143: FutureWarning: Wavelets from the family cmor, without parameters specified in the name are deprecated. The name should takethe form cmorB-C where B and C are floats representing the bandwidth frequency and center frequency, respectively (example: cmor1.5-1.0).\n",
      "  wavelet = DiscreteContinuousWavelet(wavelet)\n",
      "c:\\Users\\chakr\\Anaconda3\\envs\\eeg_thesis\\lib\\site-packages\\pywt\\_cwt.py:117: FutureWarning: Wavelets from the family cmor, without parameters specified in the name are deprecated. The name should takethe form cmorB-C where B and C are floats representing the bandwidth frequency and center frequency, respectively (example: cmor1.5-1.0).\n",
      "  wavelet = DiscreteContinuousWavelet(wavelet)\n"
     ]
    },
    {
     "name": "stdout",
     "output_type": "stream",
     "text": [
      "Opening raw data file C:\\School\\EE_Y3\\Q4\\BAP\\eeg_thesis_cnn_repo\\data\\external\\interim\\S015R07_filtered.fif...\n",
      "Isotrak not found\n",
      "    Range : 0 ... 30749 =      0.000 ...   122.996 secs\n",
      "Ready.\n",
      "Reading 0 ... 30749  =      0.000 ...   122.996 secs...\n",
      "Used Annotations descriptions: ['T0', 'T1', 'T2']\n",
      "Not setting metadata\n",
      "15 matching events found\n",
      "No baseline correction applied\n",
      "0 projection items activated\n",
      "Using data from preloaded Raw for 15 events and 126 original time points ...\n",
      "0 bad epochs dropped\n"
     ]
    },
    {
     "name": "stderr",
     "output_type": "stream",
     "text": [
      "C:\\Users\\chakr\\AppData\\Local\\Temp\\ipykernel_13788\\3980180034.py:3: RuntimeWarning: This filename (C:\\School\\EE_Y3\\Q4\\BAP\\eeg_thesis_cnn_repo\\data\\external\\interim\\S015R07_filtered.fif) does not conform to MNE naming conventions. All raw files should end with raw.fif, raw_sss.fif, raw_tsss.fif, _meg.fif, _eeg.fif, _ieeg.fif, raw.fif.gz, raw_sss.fif.gz, raw_tsss.fif.gz, _meg.fif.gz, _eeg.fif.gz or _ieeg.fif.gz\n",
      "  raw = mne.io.read_raw_fif(fif_file, preload=True)\n",
      "c:\\Users\\chakr\\Anaconda3\\envs\\eeg_thesis\\lib\\site-packages\\pywt\\_functions.py:143: FutureWarning: Wavelets from the family cmor, without parameters specified in the name are deprecated. The name should takethe form cmorB-C where B and C are floats representing the bandwidth frequency and center frequency, respectively (example: cmor1.5-1.0).\n",
      "  wavelet = DiscreteContinuousWavelet(wavelet)\n",
      "c:\\Users\\chakr\\Anaconda3\\envs\\eeg_thesis\\lib\\site-packages\\pywt\\_cwt.py:117: FutureWarning: Wavelets from the family cmor, without parameters specified in the name are deprecated. The name should takethe form cmorB-C where B and C are floats representing the bandwidth frequency and center frequency, respectively (example: cmor1.5-1.0).\n",
      "  wavelet = DiscreteContinuousWavelet(wavelet)\n"
     ]
    },
    {
     "name": "stdout",
     "output_type": "stream",
     "text": [
      "Opening raw data file C:\\School\\EE_Y3\\Q4\\BAP\\eeg_thesis_cnn_repo\\data\\external\\interim\\S015R11_filtered.fif...\n",
      "Isotrak not found\n",
      "    Range : 0 ... 30749 =      0.000 ...   122.996 secs\n",
      "Ready.\n",
      "Reading 0 ... 30749  =      0.000 ...   122.996 secs...\n",
      "Used Annotations descriptions: ['T0', 'T1', 'T2']\n",
      "Not setting metadata\n",
      "15 matching events found\n",
      "No baseline correction applied\n",
      "0 projection items activated\n",
      "Using data from preloaded Raw for 15 events and 126 original time points ...\n",
      "0 bad epochs dropped\n"
     ]
    },
    {
     "name": "stderr",
     "output_type": "stream",
     "text": [
      "C:\\Users\\chakr\\AppData\\Local\\Temp\\ipykernel_13788\\3980180034.py:3: RuntimeWarning: This filename (C:\\School\\EE_Y3\\Q4\\BAP\\eeg_thesis_cnn_repo\\data\\external\\interim\\S015R11_filtered.fif) does not conform to MNE naming conventions. All raw files should end with raw.fif, raw_sss.fif, raw_tsss.fif, _meg.fif, _eeg.fif, _ieeg.fif, raw.fif.gz, raw_sss.fif.gz, raw_tsss.fif.gz, _meg.fif.gz, _eeg.fif.gz or _ieeg.fif.gz\n",
      "  raw = mne.io.read_raw_fif(fif_file, preload=True)\n",
      "c:\\Users\\chakr\\Anaconda3\\envs\\eeg_thesis\\lib\\site-packages\\pywt\\_functions.py:143: FutureWarning: Wavelets from the family cmor, without parameters specified in the name are deprecated. The name should takethe form cmorB-C where B and C are floats representing the bandwidth frequency and center frequency, respectively (example: cmor1.5-1.0).\n",
      "  wavelet = DiscreteContinuousWavelet(wavelet)\n",
      "c:\\Users\\chakr\\Anaconda3\\envs\\eeg_thesis\\lib\\site-packages\\pywt\\_cwt.py:117: FutureWarning: Wavelets from the family cmor, without parameters specified in the name are deprecated. The name should takethe form cmorB-C where B and C are floats representing the bandwidth frequency and center frequency, respectively (example: cmor1.5-1.0).\n",
      "  wavelet = DiscreteContinuousWavelet(wavelet)\n"
     ]
    },
    {
     "name": "stdout",
     "output_type": "stream",
     "text": [
      "Opening raw data file C:\\School\\EE_Y3\\Q4\\BAP\\eeg_thesis_cnn_repo\\data\\external\\interim\\S016R03_filtered.fif...\n",
      "Isotrak not found\n",
      "    Range : 0 ... 30749 =      0.000 ...   122.996 secs\n",
      "Ready.\n",
      "Reading 0 ... 30749  =      0.000 ...   122.996 secs...\n",
      "Used Annotations descriptions: ['T0', 'T1', 'T2']\n",
      "Not setting metadata\n",
      "15 matching events found\n",
      "No baseline correction applied\n",
      "0 projection items activated\n",
      "Using data from preloaded Raw for 15 events and 126 original time points ...\n",
      "0 bad epochs dropped\n"
     ]
    },
    {
     "name": "stderr",
     "output_type": "stream",
     "text": [
      "C:\\Users\\chakr\\AppData\\Local\\Temp\\ipykernel_13788\\3980180034.py:3: RuntimeWarning: This filename (C:\\School\\EE_Y3\\Q4\\BAP\\eeg_thesis_cnn_repo\\data\\external\\interim\\S016R03_filtered.fif) does not conform to MNE naming conventions. All raw files should end with raw.fif, raw_sss.fif, raw_tsss.fif, _meg.fif, _eeg.fif, _ieeg.fif, raw.fif.gz, raw_sss.fif.gz, raw_tsss.fif.gz, _meg.fif.gz, _eeg.fif.gz or _ieeg.fif.gz\n",
      "  raw = mne.io.read_raw_fif(fif_file, preload=True)\n",
      "c:\\Users\\chakr\\Anaconda3\\envs\\eeg_thesis\\lib\\site-packages\\pywt\\_functions.py:143: FutureWarning: Wavelets from the family cmor, without parameters specified in the name are deprecated. The name should takethe form cmorB-C where B and C are floats representing the bandwidth frequency and center frequency, respectively (example: cmor1.5-1.0).\n",
      "  wavelet = DiscreteContinuousWavelet(wavelet)\n",
      "c:\\Users\\chakr\\Anaconda3\\envs\\eeg_thesis\\lib\\site-packages\\pywt\\_cwt.py:117: FutureWarning: Wavelets from the family cmor, without parameters specified in the name are deprecated. The name should takethe form cmorB-C where B and C are floats representing the bandwidth frequency and center frequency, respectively (example: cmor1.5-1.0).\n",
      "  wavelet = DiscreteContinuousWavelet(wavelet)\n"
     ]
    },
    {
     "name": "stdout",
     "output_type": "stream",
     "text": [
      "Opening raw data file C:\\School\\EE_Y3\\Q4\\BAP\\eeg_thesis_cnn_repo\\data\\external\\interim\\S016R07_filtered.fif...\n",
      "Isotrak not found\n",
      "    Range : 0 ... 30749 =      0.000 ...   122.996 secs\n",
      "Ready.\n",
      "Reading 0 ... 30749  =      0.000 ...   122.996 secs...\n",
      "Used Annotations descriptions: ['T0', 'T1', 'T2']\n",
      "Not setting metadata\n",
      "15 matching events found\n",
      "No baseline correction applied\n",
      "0 projection items activated\n",
      "Using data from preloaded Raw for 15 events and 126 original time points ...\n",
      "0 bad epochs dropped\n"
     ]
    },
    {
     "name": "stderr",
     "output_type": "stream",
     "text": [
      "C:\\Users\\chakr\\AppData\\Local\\Temp\\ipykernel_13788\\3980180034.py:3: RuntimeWarning: This filename (C:\\School\\EE_Y3\\Q4\\BAP\\eeg_thesis_cnn_repo\\data\\external\\interim\\S016R07_filtered.fif) does not conform to MNE naming conventions. All raw files should end with raw.fif, raw_sss.fif, raw_tsss.fif, _meg.fif, _eeg.fif, _ieeg.fif, raw.fif.gz, raw_sss.fif.gz, raw_tsss.fif.gz, _meg.fif.gz, _eeg.fif.gz or _ieeg.fif.gz\n",
      "  raw = mne.io.read_raw_fif(fif_file, preload=True)\n",
      "c:\\Users\\chakr\\Anaconda3\\envs\\eeg_thesis\\lib\\site-packages\\pywt\\_functions.py:143: FutureWarning: Wavelets from the family cmor, without parameters specified in the name are deprecated. The name should takethe form cmorB-C where B and C are floats representing the bandwidth frequency and center frequency, respectively (example: cmor1.5-1.0).\n",
      "  wavelet = DiscreteContinuousWavelet(wavelet)\n",
      "c:\\Users\\chakr\\Anaconda3\\envs\\eeg_thesis\\lib\\site-packages\\pywt\\_cwt.py:117: FutureWarning: Wavelets from the family cmor, without parameters specified in the name are deprecated. The name should takethe form cmorB-C where B and C are floats representing the bandwidth frequency and center frequency, respectively (example: cmor1.5-1.0).\n",
      "  wavelet = DiscreteContinuousWavelet(wavelet)\n"
     ]
    },
    {
     "name": "stdout",
     "output_type": "stream",
     "text": [
      "Opening raw data file C:\\School\\EE_Y3\\Q4\\BAP\\eeg_thesis_cnn_repo\\data\\external\\interim\\S016R11_filtered.fif...\n",
      "Isotrak not found\n",
      "    Range : 0 ... 30749 =      0.000 ...   122.996 secs\n",
      "Ready.\n",
      "Reading 0 ... 30749  =      0.000 ...   122.996 secs...\n",
      "Used Annotations descriptions: ['T0', 'T1', 'T2']\n",
      "Not setting metadata\n",
      "15 matching events found\n",
      "No baseline correction applied\n",
      "0 projection items activated\n",
      "Using data from preloaded Raw for 15 events and 126 original time points ...\n",
      "0 bad epochs dropped\n"
     ]
    },
    {
     "name": "stderr",
     "output_type": "stream",
     "text": [
      "C:\\Users\\chakr\\AppData\\Local\\Temp\\ipykernel_13788\\3980180034.py:3: RuntimeWarning: This filename (C:\\School\\EE_Y3\\Q4\\BAP\\eeg_thesis_cnn_repo\\data\\external\\interim\\S016R11_filtered.fif) does not conform to MNE naming conventions. All raw files should end with raw.fif, raw_sss.fif, raw_tsss.fif, _meg.fif, _eeg.fif, _ieeg.fif, raw.fif.gz, raw_sss.fif.gz, raw_tsss.fif.gz, _meg.fif.gz, _eeg.fif.gz or _ieeg.fif.gz\n",
      "  raw = mne.io.read_raw_fif(fif_file, preload=True)\n",
      "c:\\Users\\chakr\\Anaconda3\\envs\\eeg_thesis\\lib\\site-packages\\pywt\\_functions.py:143: FutureWarning: Wavelets from the family cmor, without parameters specified in the name are deprecated. The name should takethe form cmorB-C where B and C are floats representing the bandwidth frequency and center frequency, respectively (example: cmor1.5-1.0).\n",
      "  wavelet = DiscreteContinuousWavelet(wavelet)\n",
      "c:\\Users\\chakr\\Anaconda3\\envs\\eeg_thesis\\lib\\site-packages\\pywt\\_cwt.py:117: FutureWarning: Wavelets from the family cmor, without parameters specified in the name are deprecated. The name should takethe form cmorB-C where B and C are floats representing the bandwidth frequency and center frequency, respectively (example: cmor1.5-1.0).\n",
      "  wavelet = DiscreteContinuousWavelet(wavelet)\n"
     ]
    },
    {
     "name": "stdout",
     "output_type": "stream",
     "text": [
      "Opening raw data file C:\\School\\EE_Y3\\Q4\\BAP\\eeg_thesis_cnn_repo\\data\\external\\interim\\S017R03_filtered.fif...\n",
      "Isotrak not found\n",
      "    Range : 0 ... 30749 =      0.000 ...   122.996 secs\n",
      "Ready.\n",
      "Reading 0 ... 30749  =      0.000 ...   122.996 secs...\n",
      "Used Annotations descriptions: ['T0', 'T1', 'T2']\n",
      "Not setting metadata\n",
      "15 matching events found\n",
      "No baseline correction applied\n",
      "0 projection items activated\n",
      "Using data from preloaded Raw for 15 events and 126 original time points ...\n",
      "0 bad epochs dropped\n"
     ]
    },
    {
     "name": "stderr",
     "output_type": "stream",
     "text": [
      "C:\\Users\\chakr\\AppData\\Local\\Temp\\ipykernel_13788\\3980180034.py:3: RuntimeWarning: This filename (C:\\School\\EE_Y3\\Q4\\BAP\\eeg_thesis_cnn_repo\\data\\external\\interim\\S017R03_filtered.fif) does not conform to MNE naming conventions. All raw files should end with raw.fif, raw_sss.fif, raw_tsss.fif, _meg.fif, _eeg.fif, _ieeg.fif, raw.fif.gz, raw_sss.fif.gz, raw_tsss.fif.gz, _meg.fif.gz, _eeg.fif.gz or _ieeg.fif.gz\n",
      "  raw = mne.io.read_raw_fif(fif_file, preload=True)\n",
      "c:\\Users\\chakr\\Anaconda3\\envs\\eeg_thesis\\lib\\site-packages\\pywt\\_functions.py:143: FutureWarning: Wavelets from the family cmor, without parameters specified in the name are deprecated. The name should takethe form cmorB-C where B and C are floats representing the bandwidth frequency and center frequency, respectively (example: cmor1.5-1.0).\n",
      "  wavelet = DiscreteContinuousWavelet(wavelet)\n",
      "c:\\Users\\chakr\\Anaconda3\\envs\\eeg_thesis\\lib\\site-packages\\pywt\\_cwt.py:117: FutureWarning: Wavelets from the family cmor, without parameters specified in the name are deprecated. The name should takethe form cmorB-C where B and C are floats representing the bandwidth frequency and center frequency, respectively (example: cmor1.5-1.0).\n",
      "  wavelet = DiscreteContinuousWavelet(wavelet)\n"
     ]
    },
    {
     "name": "stdout",
     "output_type": "stream",
     "text": [
      "Opening raw data file C:\\School\\EE_Y3\\Q4\\BAP\\eeg_thesis_cnn_repo\\data\\external\\interim\\S017R07_filtered.fif...\n",
      "Isotrak not found\n",
      "    Range : 0 ... 30749 =      0.000 ...   122.996 secs\n",
      "Ready.\n",
      "Reading 0 ... 30749  =      0.000 ...   122.996 secs...\n",
      "Used Annotations descriptions: ['T0', 'T1', 'T2']\n",
      "Not setting metadata\n",
      "15 matching events found\n",
      "No baseline correction applied\n",
      "0 projection items activated\n",
      "Using data from preloaded Raw for 15 events and 126 original time points ...\n",
      "0 bad epochs dropped\n"
     ]
    },
    {
     "name": "stderr",
     "output_type": "stream",
     "text": [
      "C:\\Users\\chakr\\AppData\\Local\\Temp\\ipykernel_13788\\3980180034.py:3: RuntimeWarning: This filename (C:\\School\\EE_Y3\\Q4\\BAP\\eeg_thesis_cnn_repo\\data\\external\\interim\\S017R07_filtered.fif) does not conform to MNE naming conventions. All raw files should end with raw.fif, raw_sss.fif, raw_tsss.fif, _meg.fif, _eeg.fif, _ieeg.fif, raw.fif.gz, raw_sss.fif.gz, raw_tsss.fif.gz, _meg.fif.gz, _eeg.fif.gz or _ieeg.fif.gz\n",
      "  raw = mne.io.read_raw_fif(fif_file, preload=True)\n",
      "c:\\Users\\chakr\\Anaconda3\\envs\\eeg_thesis\\lib\\site-packages\\pywt\\_functions.py:143: FutureWarning: Wavelets from the family cmor, without parameters specified in the name are deprecated. The name should takethe form cmorB-C where B and C are floats representing the bandwidth frequency and center frequency, respectively (example: cmor1.5-1.0).\n",
      "  wavelet = DiscreteContinuousWavelet(wavelet)\n",
      "c:\\Users\\chakr\\Anaconda3\\envs\\eeg_thesis\\lib\\site-packages\\pywt\\_cwt.py:117: FutureWarning: Wavelets from the family cmor, without parameters specified in the name are deprecated. The name should takethe form cmorB-C where B and C are floats representing the bandwidth frequency and center frequency, respectively (example: cmor1.5-1.0).\n",
      "  wavelet = DiscreteContinuousWavelet(wavelet)\n"
     ]
    },
    {
     "name": "stdout",
     "output_type": "stream",
     "text": [
      "Opening raw data file C:\\School\\EE_Y3\\Q4\\BAP\\eeg_thesis_cnn_repo\\data\\external\\interim\\S017R11_filtered.fif...\n",
      "Isotrak not found\n",
      "    Range : 0 ... 30749 =      0.000 ...   122.996 secs\n",
      "Ready.\n",
      "Reading 0 ... 30749  =      0.000 ...   122.996 secs...\n",
      "Used Annotations descriptions: ['T0', 'T1', 'T2']\n",
      "Not setting metadata\n",
      "15 matching events found\n",
      "No baseline correction applied\n",
      "0 projection items activated\n",
      "Using data from preloaded Raw for 15 events and 126 original time points ...\n",
      "0 bad epochs dropped\n"
     ]
    },
    {
     "name": "stderr",
     "output_type": "stream",
     "text": [
      "C:\\Users\\chakr\\AppData\\Local\\Temp\\ipykernel_13788\\3980180034.py:3: RuntimeWarning: This filename (C:\\School\\EE_Y3\\Q4\\BAP\\eeg_thesis_cnn_repo\\data\\external\\interim\\S017R11_filtered.fif) does not conform to MNE naming conventions. All raw files should end with raw.fif, raw_sss.fif, raw_tsss.fif, _meg.fif, _eeg.fif, _ieeg.fif, raw.fif.gz, raw_sss.fif.gz, raw_tsss.fif.gz, _meg.fif.gz, _eeg.fif.gz or _ieeg.fif.gz\n",
      "  raw = mne.io.read_raw_fif(fif_file, preload=True)\n",
      "c:\\Users\\chakr\\Anaconda3\\envs\\eeg_thesis\\lib\\site-packages\\pywt\\_functions.py:143: FutureWarning: Wavelets from the family cmor, without parameters specified in the name are deprecated. The name should takethe form cmorB-C where B and C are floats representing the bandwidth frequency and center frequency, respectively (example: cmor1.5-1.0).\n",
      "  wavelet = DiscreteContinuousWavelet(wavelet)\n",
      "c:\\Users\\chakr\\Anaconda3\\envs\\eeg_thesis\\lib\\site-packages\\pywt\\_cwt.py:117: FutureWarning: Wavelets from the family cmor, without parameters specified in the name are deprecated. The name should takethe form cmorB-C where B and C are floats representing the bandwidth frequency and center frequency, respectively (example: cmor1.5-1.0).\n",
      "  wavelet = DiscreteContinuousWavelet(wavelet)\n"
     ]
    },
    {
     "name": "stdout",
     "output_type": "stream",
     "text": [
      "Opening raw data file C:\\School\\EE_Y3\\Q4\\BAP\\eeg_thesis_cnn_repo\\data\\external\\interim\\S018R03_filtered.fif...\n",
      "Isotrak not found\n",
      "    Range : 0 ... 30749 =      0.000 ...   122.996 secs\n",
      "Ready.\n",
      "Reading 0 ... 30749  =      0.000 ...   122.996 secs...\n",
      "Used Annotations descriptions: ['T0', 'T1', 'T2']\n",
      "Not setting metadata\n",
      "15 matching events found\n",
      "No baseline correction applied\n",
      "0 projection items activated\n",
      "Using data from preloaded Raw for 15 events and 126 original time points ...\n",
      "0 bad epochs dropped\n"
     ]
    },
    {
     "name": "stderr",
     "output_type": "stream",
     "text": [
      "C:\\Users\\chakr\\AppData\\Local\\Temp\\ipykernel_13788\\3980180034.py:3: RuntimeWarning: This filename (C:\\School\\EE_Y3\\Q4\\BAP\\eeg_thesis_cnn_repo\\data\\external\\interim\\S018R03_filtered.fif) does not conform to MNE naming conventions. All raw files should end with raw.fif, raw_sss.fif, raw_tsss.fif, _meg.fif, _eeg.fif, _ieeg.fif, raw.fif.gz, raw_sss.fif.gz, raw_tsss.fif.gz, _meg.fif.gz, _eeg.fif.gz or _ieeg.fif.gz\n",
      "  raw = mne.io.read_raw_fif(fif_file, preload=True)\n",
      "c:\\Users\\chakr\\Anaconda3\\envs\\eeg_thesis\\lib\\site-packages\\pywt\\_functions.py:143: FutureWarning: Wavelets from the family cmor, without parameters specified in the name are deprecated. The name should takethe form cmorB-C where B and C are floats representing the bandwidth frequency and center frequency, respectively (example: cmor1.5-1.0).\n",
      "  wavelet = DiscreteContinuousWavelet(wavelet)\n",
      "c:\\Users\\chakr\\Anaconda3\\envs\\eeg_thesis\\lib\\site-packages\\pywt\\_cwt.py:117: FutureWarning: Wavelets from the family cmor, without parameters specified in the name are deprecated. The name should takethe form cmorB-C where B and C are floats representing the bandwidth frequency and center frequency, respectively (example: cmor1.5-1.0).\n",
      "  wavelet = DiscreteContinuousWavelet(wavelet)\n"
     ]
    },
    {
     "name": "stdout",
     "output_type": "stream",
     "text": [
      "Opening raw data file C:\\School\\EE_Y3\\Q4\\BAP\\eeg_thesis_cnn_repo\\data\\external\\interim\\S018R07_filtered.fif...\n",
      "Isotrak not found\n",
      "    Range : 0 ... 30749 =      0.000 ...   122.996 secs\n",
      "Ready.\n",
      "Reading 0 ... 30749  =      0.000 ...   122.996 secs...\n",
      "Used Annotations descriptions: ['T0', 'T1', 'T2']\n",
      "Not setting metadata\n",
      "15 matching events found\n",
      "No baseline correction applied\n",
      "0 projection items activated\n",
      "Using data from preloaded Raw for 15 events and 126 original time points ...\n",
      "0 bad epochs dropped\n"
     ]
    },
    {
     "name": "stderr",
     "output_type": "stream",
     "text": [
      "C:\\Users\\chakr\\AppData\\Local\\Temp\\ipykernel_13788\\3980180034.py:3: RuntimeWarning: This filename (C:\\School\\EE_Y3\\Q4\\BAP\\eeg_thesis_cnn_repo\\data\\external\\interim\\S018R07_filtered.fif) does not conform to MNE naming conventions. All raw files should end with raw.fif, raw_sss.fif, raw_tsss.fif, _meg.fif, _eeg.fif, _ieeg.fif, raw.fif.gz, raw_sss.fif.gz, raw_tsss.fif.gz, _meg.fif.gz, _eeg.fif.gz or _ieeg.fif.gz\n",
      "  raw = mne.io.read_raw_fif(fif_file, preload=True)\n",
      "c:\\Users\\chakr\\Anaconda3\\envs\\eeg_thesis\\lib\\site-packages\\pywt\\_functions.py:143: FutureWarning: Wavelets from the family cmor, without parameters specified in the name are deprecated. The name should takethe form cmorB-C where B and C are floats representing the bandwidth frequency and center frequency, respectively (example: cmor1.5-1.0).\n",
      "  wavelet = DiscreteContinuousWavelet(wavelet)\n",
      "c:\\Users\\chakr\\Anaconda3\\envs\\eeg_thesis\\lib\\site-packages\\pywt\\_cwt.py:117: FutureWarning: Wavelets from the family cmor, without parameters specified in the name are deprecated. The name should takethe form cmorB-C where B and C are floats representing the bandwidth frequency and center frequency, respectively (example: cmor1.5-1.0).\n",
      "  wavelet = DiscreteContinuousWavelet(wavelet)\n"
     ]
    },
    {
     "name": "stdout",
     "output_type": "stream",
     "text": [
      "Opening raw data file C:\\School\\EE_Y3\\Q4\\BAP\\eeg_thesis_cnn_repo\\data\\external\\interim\\S018R11_filtered.fif...\n",
      "Isotrak not found\n",
      "    Range : 0 ... 30749 =      0.000 ...   122.996 secs\n",
      "Ready.\n",
      "Reading 0 ... 30749  =      0.000 ...   122.996 secs...\n",
      "Used Annotations descriptions: ['T0', 'T1', 'T2']\n",
      "Not setting metadata\n",
      "15 matching events found\n",
      "No baseline correction applied\n",
      "0 projection items activated\n",
      "Using data from preloaded Raw for 15 events and 126 original time points ...\n",
      "0 bad epochs dropped\n"
     ]
    },
    {
     "name": "stderr",
     "output_type": "stream",
     "text": [
      "C:\\Users\\chakr\\AppData\\Local\\Temp\\ipykernel_13788\\3980180034.py:3: RuntimeWarning: This filename (C:\\School\\EE_Y3\\Q4\\BAP\\eeg_thesis_cnn_repo\\data\\external\\interim\\S018R11_filtered.fif) does not conform to MNE naming conventions. All raw files should end with raw.fif, raw_sss.fif, raw_tsss.fif, _meg.fif, _eeg.fif, _ieeg.fif, raw.fif.gz, raw_sss.fif.gz, raw_tsss.fif.gz, _meg.fif.gz, _eeg.fif.gz or _ieeg.fif.gz\n",
      "  raw = mne.io.read_raw_fif(fif_file, preload=True)\n",
      "c:\\Users\\chakr\\Anaconda3\\envs\\eeg_thesis\\lib\\site-packages\\pywt\\_functions.py:143: FutureWarning: Wavelets from the family cmor, without parameters specified in the name are deprecated. The name should takethe form cmorB-C where B and C are floats representing the bandwidth frequency and center frequency, respectively (example: cmor1.5-1.0).\n",
      "  wavelet = DiscreteContinuousWavelet(wavelet)\n",
      "c:\\Users\\chakr\\Anaconda3\\envs\\eeg_thesis\\lib\\site-packages\\pywt\\_cwt.py:117: FutureWarning: Wavelets from the family cmor, without parameters specified in the name are deprecated. The name should takethe form cmorB-C where B and C are floats representing the bandwidth frequency and center frequency, respectively (example: cmor1.5-1.0).\n",
      "  wavelet = DiscreteContinuousWavelet(wavelet)\n"
     ]
    },
    {
     "name": "stdout",
     "output_type": "stream",
     "text": [
      "Opening raw data file C:\\School\\EE_Y3\\Q4\\BAP\\eeg_thesis_cnn_repo\\data\\external\\interim\\S019R03_filtered.fif...\n",
      "Isotrak not found\n",
      "    Range : 0 ... 30749 =      0.000 ...   122.996 secs\n",
      "Ready.\n",
      "Reading 0 ... 30749  =      0.000 ...   122.996 secs...\n",
      "Used Annotations descriptions: ['T0', 'T1', 'T2']\n",
      "Not setting metadata\n",
      "15 matching events found\n",
      "No baseline correction applied\n",
      "0 projection items activated\n",
      "Using data from preloaded Raw for 15 events and 126 original time points ...\n",
      "0 bad epochs dropped\n"
     ]
    },
    {
     "name": "stderr",
     "output_type": "stream",
     "text": [
      "C:\\Users\\chakr\\AppData\\Local\\Temp\\ipykernel_13788\\3980180034.py:3: RuntimeWarning: This filename (C:\\School\\EE_Y3\\Q4\\BAP\\eeg_thesis_cnn_repo\\data\\external\\interim\\S019R03_filtered.fif) does not conform to MNE naming conventions. All raw files should end with raw.fif, raw_sss.fif, raw_tsss.fif, _meg.fif, _eeg.fif, _ieeg.fif, raw.fif.gz, raw_sss.fif.gz, raw_tsss.fif.gz, _meg.fif.gz, _eeg.fif.gz or _ieeg.fif.gz\n",
      "  raw = mne.io.read_raw_fif(fif_file, preload=True)\n",
      "c:\\Users\\chakr\\Anaconda3\\envs\\eeg_thesis\\lib\\site-packages\\pywt\\_functions.py:143: FutureWarning: Wavelets from the family cmor, without parameters specified in the name are deprecated. The name should takethe form cmorB-C where B and C are floats representing the bandwidth frequency and center frequency, respectively (example: cmor1.5-1.0).\n",
      "  wavelet = DiscreteContinuousWavelet(wavelet)\n",
      "c:\\Users\\chakr\\Anaconda3\\envs\\eeg_thesis\\lib\\site-packages\\pywt\\_cwt.py:117: FutureWarning: Wavelets from the family cmor, without parameters specified in the name are deprecated. The name should takethe form cmorB-C where B and C are floats representing the bandwidth frequency and center frequency, respectively (example: cmor1.5-1.0).\n",
      "  wavelet = DiscreteContinuousWavelet(wavelet)\n"
     ]
    },
    {
     "name": "stdout",
     "output_type": "stream",
     "text": [
      "Opening raw data file C:\\School\\EE_Y3\\Q4\\BAP\\eeg_thesis_cnn_repo\\data\\external\\interim\\S019R07_filtered.fif...\n",
      "Isotrak not found\n",
      "    Range : 0 ... 30749 =      0.000 ...   122.996 secs\n",
      "Ready.\n",
      "Reading 0 ... 30749  =      0.000 ...   122.996 secs...\n",
      "Used Annotations descriptions: ['T0', 'T1', 'T2']\n",
      "Not setting metadata\n",
      "15 matching events found\n",
      "No baseline correction applied\n",
      "0 projection items activated\n",
      "Using data from preloaded Raw for 15 events and 126 original time points ...\n",
      "0 bad epochs dropped\n"
     ]
    },
    {
     "name": "stderr",
     "output_type": "stream",
     "text": [
      "C:\\Users\\chakr\\AppData\\Local\\Temp\\ipykernel_13788\\3980180034.py:3: RuntimeWarning: This filename (C:\\School\\EE_Y3\\Q4\\BAP\\eeg_thesis_cnn_repo\\data\\external\\interim\\S019R07_filtered.fif) does not conform to MNE naming conventions. All raw files should end with raw.fif, raw_sss.fif, raw_tsss.fif, _meg.fif, _eeg.fif, _ieeg.fif, raw.fif.gz, raw_sss.fif.gz, raw_tsss.fif.gz, _meg.fif.gz, _eeg.fif.gz or _ieeg.fif.gz\n",
      "  raw = mne.io.read_raw_fif(fif_file, preload=True)\n",
      "c:\\Users\\chakr\\Anaconda3\\envs\\eeg_thesis\\lib\\site-packages\\pywt\\_functions.py:143: FutureWarning: Wavelets from the family cmor, without parameters specified in the name are deprecated. The name should takethe form cmorB-C where B and C are floats representing the bandwidth frequency and center frequency, respectively (example: cmor1.5-1.0).\n",
      "  wavelet = DiscreteContinuousWavelet(wavelet)\n",
      "c:\\Users\\chakr\\Anaconda3\\envs\\eeg_thesis\\lib\\site-packages\\pywt\\_cwt.py:117: FutureWarning: Wavelets from the family cmor, without parameters specified in the name are deprecated. The name should takethe form cmorB-C where B and C are floats representing the bandwidth frequency and center frequency, respectively (example: cmor1.5-1.0).\n",
      "  wavelet = DiscreteContinuousWavelet(wavelet)\n"
     ]
    },
    {
     "name": "stdout",
     "output_type": "stream",
     "text": [
      "Opening raw data file C:\\School\\EE_Y3\\Q4\\BAP\\eeg_thesis_cnn_repo\\data\\external\\interim\\S019R11_filtered.fif...\n",
      "Isotrak not found\n",
      "    Range : 0 ... 30749 =      0.000 ...   122.996 secs\n",
      "Ready.\n",
      "Reading 0 ... 30749  =      0.000 ...   122.996 secs...\n",
      "Used Annotations descriptions: ['T0', 'T1', 'T2']\n",
      "Not setting metadata\n",
      "15 matching events found\n",
      "No baseline correction applied\n",
      "0 projection items activated\n",
      "Using data from preloaded Raw for 15 events and 126 original time points ...\n",
      "0 bad epochs dropped\n"
     ]
    },
    {
     "name": "stderr",
     "output_type": "stream",
     "text": [
      "C:\\Users\\chakr\\AppData\\Local\\Temp\\ipykernel_13788\\3980180034.py:3: RuntimeWarning: This filename (C:\\School\\EE_Y3\\Q4\\BAP\\eeg_thesis_cnn_repo\\data\\external\\interim\\S019R11_filtered.fif) does not conform to MNE naming conventions. All raw files should end with raw.fif, raw_sss.fif, raw_tsss.fif, _meg.fif, _eeg.fif, _ieeg.fif, raw.fif.gz, raw_sss.fif.gz, raw_tsss.fif.gz, _meg.fif.gz, _eeg.fif.gz or _ieeg.fif.gz\n",
      "  raw = mne.io.read_raw_fif(fif_file, preload=True)\n",
      "c:\\Users\\chakr\\Anaconda3\\envs\\eeg_thesis\\lib\\site-packages\\pywt\\_functions.py:143: FutureWarning: Wavelets from the family cmor, without parameters specified in the name are deprecated. The name should takethe form cmorB-C where B and C are floats representing the bandwidth frequency and center frequency, respectively (example: cmor1.5-1.0).\n",
      "  wavelet = DiscreteContinuousWavelet(wavelet)\n",
      "c:\\Users\\chakr\\Anaconda3\\envs\\eeg_thesis\\lib\\site-packages\\pywt\\_cwt.py:117: FutureWarning: Wavelets from the family cmor, without parameters specified in the name are deprecated. The name should takethe form cmorB-C where B and C are floats representing the bandwidth frequency and center frequency, respectively (example: cmor1.5-1.0).\n",
      "  wavelet = DiscreteContinuousWavelet(wavelet)\n"
     ]
    },
    {
     "name": "stdout",
     "output_type": "stream",
     "text": [
      "Opening raw data file C:\\School\\EE_Y3\\Q4\\BAP\\eeg_thesis_cnn_repo\\data\\external\\interim\\S020R03_filtered.fif...\n",
      "Isotrak not found\n",
      "    Range : 0 ... 30749 =      0.000 ...   122.996 secs\n",
      "Ready.\n",
      "Reading 0 ... 30749  =      0.000 ...   122.996 secs...\n",
      "Used Annotations descriptions: ['T0', 'T1', 'T2']\n",
      "Not setting metadata\n",
      "15 matching events found\n",
      "No baseline correction applied\n",
      "0 projection items activated\n",
      "Using data from preloaded Raw for 15 events and 126 original time points ...\n",
      "0 bad epochs dropped\n"
     ]
    },
    {
     "name": "stderr",
     "output_type": "stream",
     "text": [
      "C:\\Users\\chakr\\AppData\\Local\\Temp\\ipykernel_13788\\3980180034.py:3: RuntimeWarning: This filename (C:\\School\\EE_Y3\\Q4\\BAP\\eeg_thesis_cnn_repo\\data\\external\\interim\\S020R03_filtered.fif) does not conform to MNE naming conventions. All raw files should end with raw.fif, raw_sss.fif, raw_tsss.fif, _meg.fif, _eeg.fif, _ieeg.fif, raw.fif.gz, raw_sss.fif.gz, raw_tsss.fif.gz, _meg.fif.gz, _eeg.fif.gz or _ieeg.fif.gz\n",
      "  raw = mne.io.read_raw_fif(fif_file, preload=True)\n",
      "c:\\Users\\chakr\\Anaconda3\\envs\\eeg_thesis\\lib\\site-packages\\pywt\\_functions.py:143: FutureWarning: Wavelets from the family cmor, without parameters specified in the name are deprecated. The name should takethe form cmorB-C where B and C are floats representing the bandwidth frequency and center frequency, respectively (example: cmor1.5-1.0).\n",
      "  wavelet = DiscreteContinuousWavelet(wavelet)\n",
      "c:\\Users\\chakr\\Anaconda3\\envs\\eeg_thesis\\lib\\site-packages\\pywt\\_cwt.py:117: FutureWarning: Wavelets from the family cmor, without parameters specified in the name are deprecated. The name should takethe form cmorB-C where B and C are floats representing the bandwidth frequency and center frequency, respectively (example: cmor1.5-1.0).\n",
      "  wavelet = DiscreteContinuousWavelet(wavelet)\n"
     ]
    },
    {
     "name": "stdout",
     "output_type": "stream",
     "text": [
      "Opening raw data file C:\\School\\EE_Y3\\Q4\\BAP\\eeg_thesis_cnn_repo\\data\\external\\interim\\S020R07_filtered.fif...\n",
      "Isotrak not found\n",
      "    Range : 0 ... 30749 =      0.000 ...   122.996 secs\n",
      "Ready.\n",
      "Reading 0 ... 30749  =      0.000 ...   122.996 secs...\n",
      "Used Annotations descriptions: ['T0', 'T1', 'T2']\n",
      "Not setting metadata\n",
      "15 matching events found\n",
      "No baseline correction applied\n",
      "0 projection items activated\n",
      "Using data from preloaded Raw for 15 events and 126 original time points ...\n",
      "0 bad epochs dropped\n"
     ]
    },
    {
     "name": "stderr",
     "output_type": "stream",
     "text": [
      "C:\\Users\\chakr\\AppData\\Local\\Temp\\ipykernel_13788\\3980180034.py:3: RuntimeWarning: This filename (C:\\School\\EE_Y3\\Q4\\BAP\\eeg_thesis_cnn_repo\\data\\external\\interim\\S020R07_filtered.fif) does not conform to MNE naming conventions. All raw files should end with raw.fif, raw_sss.fif, raw_tsss.fif, _meg.fif, _eeg.fif, _ieeg.fif, raw.fif.gz, raw_sss.fif.gz, raw_tsss.fif.gz, _meg.fif.gz, _eeg.fif.gz or _ieeg.fif.gz\n",
      "  raw = mne.io.read_raw_fif(fif_file, preload=True)\n",
      "c:\\Users\\chakr\\Anaconda3\\envs\\eeg_thesis\\lib\\site-packages\\pywt\\_functions.py:143: FutureWarning: Wavelets from the family cmor, without parameters specified in the name are deprecated. The name should takethe form cmorB-C where B and C are floats representing the bandwidth frequency and center frequency, respectively (example: cmor1.5-1.0).\n",
      "  wavelet = DiscreteContinuousWavelet(wavelet)\n",
      "c:\\Users\\chakr\\Anaconda3\\envs\\eeg_thesis\\lib\\site-packages\\pywt\\_cwt.py:117: FutureWarning: Wavelets from the family cmor, without parameters specified in the name are deprecated. The name should takethe form cmorB-C where B and C are floats representing the bandwidth frequency and center frequency, respectively (example: cmor1.5-1.0).\n",
      "  wavelet = DiscreteContinuousWavelet(wavelet)\n"
     ]
    },
    {
     "name": "stdout",
     "output_type": "stream",
     "text": [
      "Opening raw data file C:\\School\\EE_Y3\\Q4\\BAP\\eeg_thesis_cnn_repo\\data\\external\\interim\\S020R11_filtered.fif...\n",
      "Isotrak not found\n",
      "    Range : 0 ... 30749 =      0.000 ...   122.996 secs\n",
      "Ready.\n",
      "Reading 0 ... 30749  =      0.000 ...   122.996 secs...\n",
      "Used Annotations descriptions: ['T0', 'T1', 'T2']\n",
      "Not setting metadata\n",
      "15 matching events found\n",
      "No baseline correction applied\n",
      "0 projection items activated\n",
      "Using data from preloaded Raw for 15 events and 126 original time points ...\n",
      "0 bad epochs dropped\n"
     ]
    },
    {
     "name": "stderr",
     "output_type": "stream",
     "text": [
      "C:\\Users\\chakr\\AppData\\Local\\Temp\\ipykernel_13788\\3980180034.py:3: RuntimeWarning: This filename (C:\\School\\EE_Y3\\Q4\\BAP\\eeg_thesis_cnn_repo\\data\\external\\interim\\S020R11_filtered.fif) does not conform to MNE naming conventions. All raw files should end with raw.fif, raw_sss.fif, raw_tsss.fif, _meg.fif, _eeg.fif, _ieeg.fif, raw.fif.gz, raw_sss.fif.gz, raw_tsss.fif.gz, _meg.fif.gz, _eeg.fif.gz or _ieeg.fif.gz\n",
      "  raw = mne.io.read_raw_fif(fif_file, preload=True)\n",
      "c:\\Users\\chakr\\Anaconda3\\envs\\eeg_thesis\\lib\\site-packages\\pywt\\_functions.py:143: FutureWarning: Wavelets from the family cmor, without parameters specified in the name are deprecated. The name should takethe form cmorB-C where B and C are floats representing the bandwidth frequency and center frequency, respectively (example: cmor1.5-1.0).\n",
      "  wavelet = DiscreteContinuousWavelet(wavelet)\n",
      "c:\\Users\\chakr\\Anaconda3\\envs\\eeg_thesis\\lib\\site-packages\\pywt\\_cwt.py:117: FutureWarning: Wavelets from the family cmor, without parameters specified in the name are deprecated. The name should takethe form cmorB-C where B and C are floats representing the bandwidth frequency and center frequency, respectively (example: cmor1.5-1.0).\n",
      "  wavelet = DiscreteContinuousWavelet(wavelet)\n"
     ]
    },
    {
     "name": "stdout",
     "output_type": "stream",
     "text": [
      "Opening raw data file C:\\School\\EE_Y3\\Q4\\BAP\\eeg_thesis_cnn_repo\\data\\external\\interim\\S021R03_filtered.fif...\n",
      "Isotrak not found\n",
      "    Range : 0 ... 31249 =      0.000 ...   124.996 secs\n",
      "Ready.\n",
      "Reading 0 ... 31249  =      0.000 ...   124.996 secs...\n",
      "Used Annotations descriptions: ['T0', 'T1', 'T2']\n",
      "Not setting metadata\n",
      "15 matching events found\n",
      "No baseline correction applied\n",
      "0 projection items activated\n",
      "Using data from preloaded Raw for 15 events and 126 original time points ...\n",
      "0 bad epochs dropped\n"
     ]
    },
    {
     "name": "stderr",
     "output_type": "stream",
     "text": [
      "C:\\Users\\chakr\\AppData\\Local\\Temp\\ipykernel_13788\\3980180034.py:3: RuntimeWarning: This filename (C:\\School\\EE_Y3\\Q4\\BAP\\eeg_thesis_cnn_repo\\data\\external\\interim\\S021R03_filtered.fif) does not conform to MNE naming conventions. All raw files should end with raw.fif, raw_sss.fif, raw_tsss.fif, _meg.fif, _eeg.fif, _ieeg.fif, raw.fif.gz, raw_sss.fif.gz, raw_tsss.fif.gz, _meg.fif.gz, _eeg.fif.gz or _ieeg.fif.gz\n",
      "  raw = mne.io.read_raw_fif(fif_file, preload=True)\n",
      "c:\\Users\\chakr\\Anaconda3\\envs\\eeg_thesis\\lib\\site-packages\\pywt\\_functions.py:143: FutureWarning: Wavelets from the family cmor, without parameters specified in the name are deprecated. The name should takethe form cmorB-C where B and C are floats representing the bandwidth frequency and center frequency, respectively (example: cmor1.5-1.0).\n",
      "  wavelet = DiscreteContinuousWavelet(wavelet)\n",
      "c:\\Users\\chakr\\Anaconda3\\envs\\eeg_thesis\\lib\\site-packages\\pywt\\_cwt.py:117: FutureWarning: Wavelets from the family cmor, without parameters specified in the name are deprecated. The name should takethe form cmorB-C where B and C are floats representing the bandwidth frequency and center frequency, respectively (example: cmor1.5-1.0).\n",
      "  wavelet = DiscreteContinuousWavelet(wavelet)\n"
     ]
    },
    {
     "name": "stdout",
     "output_type": "stream",
     "text": [
      "Opening raw data file C:\\School\\EE_Y3\\Q4\\BAP\\eeg_thesis_cnn_repo\\data\\external\\interim\\S021R07_filtered.fif...\n",
      "Isotrak not found\n",
      "    Range : 0 ... 31249 =      0.000 ...   124.996 secs\n",
      "Ready.\n",
      "Reading 0 ... 31249  =      0.000 ...   124.996 secs...\n",
      "Used Annotations descriptions: ['T0', 'T1', 'T2']\n",
      "Not setting metadata\n",
      "15 matching events found\n",
      "No baseline correction applied\n",
      "0 projection items activated\n",
      "Using data from preloaded Raw for 15 events and 126 original time points ...\n",
      "0 bad epochs dropped\n"
     ]
    },
    {
     "name": "stderr",
     "output_type": "stream",
     "text": [
      "C:\\Users\\chakr\\AppData\\Local\\Temp\\ipykernel_13788\\3980180034.py:3: RuntimeWarning: This filename (C:\\School\\EE_Y3\\Q4\\BAP\\eeg_thesis_cnn_repo\\data\\external\\interim\\S021R07_filtered.fif) does not conform to MNE naming conventions. All raw files should end with raw.fif, raw_sss.fif, raw_tsss.fif, _meg.fif, _eeg.fif, _ieeg.fif, raw.fif.gz, raw_sss.fif.gz, raw_tsss.fif.gz, _meg.fif.gz, _eeg.fif.gz or _ieeg.fif.gz\n",
      "  raw = mne.io.read_raw_fif(fif_file, preload=True)\n",
      "c:\\Users\\chakr\\Anaconda3\\envs\\eeg_thesis\\lib\\site-packages\\pywt\\_functions.py:143: FutureWarning: Wavelets from the family cmor, without parameters specified in the name are deprecated. The name should takethe form cmorB-C where B and C are floats representing the bandwidth frequency and center frequency, respectively (example: cmor1.5-1.0).\n",
      "  wavelet = DiscreteContinuousWavelet(wavelet)\n",
      "c:\\Users\\chakr\\Anaconda3\\envs\\eeg_thesis\\lib\\site-packages\\pywt\\_cwt.py:117: FutureWarning: Wavelets from the family cmor, without parameters specified in the name are deprecated. The name should takethe form cmorB-C where B and C are floats representing the bandwidth frequency and center frequency, respectively (example: cmor1.5-1.0).\n",
      "  wavelet = DiscreteContinuousWavelet(wavelet)\n"
     ]
    },
    {
     "name": "stdout",
     "output_type": "stream",
     "text": [
      "Opening raw data file C:\\School\\EE_Y3\\Q4\\BAP\\eeg_thesis_cnn_repo\\data\\external\\interim\\S021R11_filtered.fif...\n",
      "Isotrak not found\n",
      "    Range : 0 ... 31249 =      0.000 ...   124.996 secs\n",
      "Ready.\n",
      "Reading 0 ... 31249  =      0.000 ...   124.996 secs...\n",
      "Used Annotations descriptions: ['T0', 'T1', 'T2']\n",
      "Not setting metadata\n",
      "15 matching events found\n",
      "No baseline correction applied\n",
      "0 projection items activated\n",
      "Using data from preloaded Raw for 15 events and 126 original time points ...\n",
      "0 bad epochs dropped\n"
     ]
    },
    {
     "name": "stderr",
     "output_type": "stream",
     "text": [
      "C:\\Users\\chakr\\AppData\\Local\\Temp\\ipykernel_13788\\3980180034.py:3: RuntimeWarning: This filename (C:\\School\\EE_Y3\\Q4\\BAP\\eeg_thesis_cnn_repo\\data\\external\\interim\\S021R11_filtered.fif) does not conform to MNE naming conventions. All raw files should end with raw.fif, raw_sss.fif, raw_tsss.fif, _meg.fif, _eeg.fif, _ieeg.fif, raw.fif.gz, raw_sss.fif.gz, raw_tsss.fif.gz, _meg.fif.gz, _eeg.fif.gz or _ieeg.fif.gz\n",
      "  raw = mne.io.read_raw_fif(fif_file, preload=True)\n",
      "c:\\Users\\chakr\\Anaconda3\\envs\\eeg_thesis\\lib\\site-packages\\pywt\\_functions.py:143: FutureWarning: Wavelets from the family cmor, without parameters specified in the name are deprecated. The name should takethe form cmorB-C where B and C are floats representing the bandwidth frequency and center frequency, respectively (example: cmor1.5-1.0).\n",
      "  wavelet = DiscreteContinuousWavelet(wavelet)\n",
      "c:\\Users\\chakr\\Anaconda3\\envs\\eeg_thesis\\lib\\site-packages\\pywt\\_cwt.py:117: FutureWarning: Wavelets from the family cmor, without parameters specified in the name are deprecated. The name should takethe form cmorB-C where B and C are floats representing the bandwidth frequency and center frequency, respectively (example: cmor1.5-1.0).\n",
      "  wavelet = DiscreteContinuousWavelet(wavelet)\n"
     ]
    },
    {
     "name": "stdout",
     "output_type": "stream",
     "text": [
      "Opening raw data file C:\\School\\EE_Y3\\Q4\\BAP\\eeg_thesis_cnn_repo\\data\\external\\interim\\S022R03_filtered.fif...\n",
      "Isotrak not found\n",
      "    Range : 0 ... 31249 =      0.000 ...   124.996 secs\n",
      "Ready.\n",
      "Reading 0 ... 31249  =      0.000 ...   124.996 secs...\n",
      "Used Annotations descriptions: ['T0', 'T1', 'T2']\n",
      "Not setting metadata\n",
      "15 matching events found\n",
      "No baseline correction applied\n",
      "0 projection items activated\n",
      "Using data from preloaded Raw for 15 events and 126 original time points ...\n",
      "0 bad epochs dropped\n"
     ]
    },
    {
     "name": "stderr",
     "output_type": "stream",
     "text": [
      "C:\\Users\\chakr\\AppData\\Local\\Temp\\ipykernel_13788\\3980180034.py:3: RuntimeWarning: This filename (C:\\School\\EE_Y3\\Q4\\BAP\\eeg_thesis_cnn_repo\\data\\external\\interim\\S022R03_filtered.fif) does not conform to MNE naming conventions. All raw files should end with raw.fif, raw_sss.fif, raw_tsss.fif, _meg.fif, _eeg.fif, _ieeg.fif, raw.fif.gz, raw_sss.fif.gz, raw_tsss.fif.gz, _meg.fif.gz, _eeg.fif.gz or _ieeg.fif.gz\n",
      "  raw = mne.io.read_raw_fif(fif_file, preload=True)\n",
      "c:\\Users\\chakr\\Anaconda3\\envs\\eeg_thesis\\lib\\site-packages\\pywt\\_functions.py:143: FutureWarning: Wavelets from the family cmor, without parameters specified in the name are deprecated. The name should takethe form cmorB-C where B and C are floats representing the bandwidth frequency and center frequency, respectively (example: cmor1.5-1.0).\n",
      "  wavelet = DiscreteContinuousWavelet(wavelet)\n",
      "c:\\Users\\chakr\\Anaconda3\\envs\\eeg_thesis\\lib\\site-packages\\pywt\\_cwt.py:117: FutureWarning: Wavelets from the family cmor, without parameters specified in the name are deprecated. The name should takethe form cmorB-C where B and C are floats representing the bandwidth frequency and center frequency, respectively (example: cmor1.5-1.0).\n",
      "  wavelet = DiscreteContinuousWavelet(wavelet)\n"
     ]
    },
    {
     "name": "stdout",
     "output_type": "stream",
     "text": [
      "Opening raw data file C:\\School\\EE_Y3\\Q4\\BAP\\eeg_thesis_cnn_repo\\data\\external\\interim\\S022R07_filtered.fif...\n",
      "Isotrak not found\n",
      "    Range : 0 ... 31249 =      0.000 ...   124.996 secs\n",
      "Ready.\n",
      "Reading 0 ... 31249  =      0.000 ...   124.996 secs...\n",
      "Used Annotations descriptions: ['T0', 'T1', 'T2']\n",
      "Not setting metadata\n",
      "15 matching events found\n",
      "No baseline correction applied\n",
      "0 projection items activated\n",
      "Using data from preloaded Raw for 15 events and 126 original time points ...\n",
      "0 bad epochs dropped\n"
     ]
    },
    {
     "name": "stderr",
     "output_type": "stream",
     "text": [
      "C:\\Users\\chakr\\AppData\\Local\\Temp\\ipykernel_13788\\3980180034.py:3: RuntimeWarning: This filename (C:\\School\\EE_Y3\\Q4\\BAP\\eeg_thesis_cnn_repo\\data\\external\\interim\\S022R07_filtered.fif) does not conform to MNE naming conventions. All raw files should end with raw.fif, raw_sss.fif, raw_tsss.fif, _meg.fif, _eeg.fif, _ieeg.fif, raw.fif.gz, raw_sss.fif.gz, raw_tsss.fif.gz, _meg.fif.gz, _eeg.fif.gz or _ieeg.fif.gz\n",
      "  raw = mne.io.read_raw_fif(fif_file, preload=True)\n",
      "c:\\Users\\chakr\\Anaconda3\\envs\\eeg_thesis\\lib\\site-packages\\pywt\\_functions.py:143: FutureWarning: Wavelets from the family cmor, without parameters specified in the name are deprecated. The name should takethe form cmorB-C where B and C are floats representing the bandwidth frequency and center frequency, respectively (example: cmor1.5-1.0).\n",
      "  wavelet = DiscreteContinuousWavelet(wavelet)\n",
      "c:\\Users\\chakr\\Anaconda3\\envs\\eeg_thesis\\lib\\site-packages\\pywt\\_cwt.py:117: FutureWarning: Wavelets from the family cmor, without parameters specified in the name are deprecated. The name should takethe form cmorB-C where B and C are floats representing the bandwidth frequency and center frequency, respectively (example: cmor1.5-1.0).\n",
      "  wavelet = DiscreteContinuousWavelet(wavelet)\n"
     ]
    },
    {
     "name": "stdout",
     "output_type": "stream",
     "text": [
      "Opening raw data file C:\\School\\EE_Y3\\Q4\\BAP\\eeg_thesis_cnn_repo\\data\\external\\interim\\S022R11_filtered.fif...\n",
      "Isotrak not found\n",
      "    Range : 0 ... 31249 =      0.000 ...   124.996 secs\n",
      "Ready.\n",
      "Reading 0 ... 31249  =      0.000 ...   124.996 secs...\n",
      "Used Annotations descriptions: ['T0', 'T1', 'T2']\n",
      "Not setting metadata\n",
      "15 matching events found\n",
      "No baseline correction applied\n",
      "0 projection items activated\n",
      "Using data from preloaded Raw for 15 events and 126 original time points ...\n",
      "0 bad epochs dropped\n"
     ]
    },
    {
     "name": "stderr",
     "output_type": "stream",
     "text": [
      "C:\\Users\\chakr\\AppData\\Local\\Temp\\ipykernel_13788\\3980180034.py:3: RuntimeWarning: This filename (C:\\School\\EE_Y3\\Q4\\BAP\\eeg_thesis_cnn_repo\\data\\external\\interim\\S022R11_filtered.fif) does not conform to MNE naming conventions. All raw files should end with raw.fif, raw_sss.fif, raw_tsss.fif, _meg.fif, _eeg.fif, _ieeg.fif, raw.fif.gz, raw_sss.fif.gz, raw_tsss.fif.gz, _meg.fif.gz, _eeg.fif.gz or _ieeg.fif.gz\n",
      "  raw = mne.io.read_raw_fif(fif_file, preload=True)\n",
      "c:\\Users\\chakr\\Anaconda3\\envs\\eeg_thesis\\lib\\site-packages\\pywt\\_functions.py:143: FutureWarning: Wavelets from the family cmor, without parameters specified in the name are deprecated. The name should takethe form cmorB-C where B and C are floats representing the bandwidth frequency and center frequency, respectively (example: cmor1.5-1.0).\n",
      "  wavelet = DiscreteContinuousWavelet(wavelet)\n",
      "c:\\Users\\chakr\\Anaconda3\\envs\\eeg_thesis\\lib\\site-packages\\pywt\\_cwt.py:117: FutureWarning: Wavelets from the family cmor, without parameters specified in the name are deprecated. The name should takethe form cmorB-C where B and C are floats representing the bandwidth frequency and center frequency, respectively (example: cmor1.5-1.0).\n",
      "  wavelet = DiscreteContinuousWavelet(wavelet)\n"
     ]
    },
    {
     "name": "stdout",
     "output_type": "stream",
     "text": [
      "Opening raw data file C:\\School\\EE_Y3\\Q4\\BAP\\eeg_thesis_cnn_repo\\data\\external\\interim\\S023R03_filtered.fif...\n",
      "Isotrak not found\n",
      "    Range : 0 ... 30749 =      0.000 ...   122.996 secs\n",
      "Ready.\n",
      "Reading 0 ... 30749  =      0.000 ...   122.996 secs...\n",
      "Used Annotations descriptions: ['T0', 'T1', 'T2']\n",
      "Not setting metadata\n",
      "15 matching events found\n",
      "No baseline correction applied\n",
      "0 projection items activated\n",
      "Using data from preloaded Raw for 15 events and 126 original time points ...\n",
      "0 bad epochs dropped\n"
     ]
    },
    {
     "name": "stderr",
     "output_type": "stream",
     "text": [
      "C:\\Users\\chakr\\AppData\\Local\\Temp\\ipykernel_13788\\3980180034.py:3: RuntimeWarning: This filename (C:\\School\\EE_Y3\\Q4\\BAP\\eeg_thesis_cnn_repo\\data\\external\\interim\\S023R03_filtered.fif) does not conform to MNE naming conventions. All raw files should end with raw.fif, raw_sss.fif, raw_tsss.fif, _meg.fif, _eeg.fif, _ieeg.fif, raw.fif.gz, raw_sss.fif.gz, raw_tsss.fif.gz, _meg.fif.gz, _eeg.fif.gz or _ieeg.fif.gz\n",
      "  raw = mne.io.read_raw_fif(fif_file, preload=True)\n",
      "c:\\Users\\chakr\\Anaconda3\\envs\\eeg_thesis\\lib\\site-packages\\pywt\\_functions.py:143: FutureWarning: Wavelets from the family cmor, without parameters specified in the name are deprecated. The name should takethe form cmorB-C where B and C are floats representing the bandwidth frequency and center frequency, respectively (example: cmor1.5-1.0).\n",
      "  wavelet = DiscreteContinuousWavelet(wavelet)\n",
      "c:\\Users\\chakr\\Anaconda3\\envs\\eeg_thesis\\lib\\site-packages\\pywt\\_cwt.py:117: FutureWarning: Wavelets from the family cmor, without parameters specified in the name are deprecated. The name should takethe form cmorB-C where B and C are floats representing the bandwidth frequency and center frequency, respectively (example: cmor1.5-1.0).\n",
      "  wavelet = DiscreteContinuousWavelet(wavelet)\n"
     ]
    },
    {
     "name": "stdout",
     "output_type": "stream",
     "text": [
      "Opening raw data file C:\\School\\EE_Y3\\Q4\\BAP\\eeg_thesis_cnn_repo\\data\\external\\interim\\S023R07_filtered.fif...\n",
      "Isotrak not found\n",
      "    Range : 0 ... 30749 =      0.000 ...   122.996 secs\n",
      "Ready.\n",
      "Reading 0 ... 30749  =      0.000 ...   122.996 secs...\n",
      "Used Annotations descriptions: ['T0', 'T1', 'T2']\n",
      "Not setting metadata\n",
      "15 matching events found\n",
      "No baseline correction applied\n",
      "0 projection items activated\n",
      "Using data from preloaded Raw for 15 events and 126 original time points ...\n",
      "0 bad epochs dropped\n"
     ]
    },
    {
     "name": "stderr",
     "output_type": "stream",
     "text": [
      "C:\\Users\\chakr\\AppData\\Local\\Temp\\ipykernel_13788\\3980180034.py:3: RuntimeWarning: This filename (C:\\School\\EE_Y3\\Q4\\BAP\\eeg_thesis_cnn_repo\\data\\external\\interim\\S023R07_filtered.fif) does not conform to MNE naming conventions. All raw files should end with raw.fif, raw_sss.fif, raw_tsss.fif, _meg.fif, _eeg.fif, _ieeg.fif, raw.fif.gz, raw_sss.fif.gz, raw_tsss.fif.gz, _meg.fif.gz, _eeg.fif.gz or _ieeg.fif.gz\n",
      "  raw = mne.io.read_raw_fif(fif_file, preload=True)\n",
      "c:\\Users\\chakr\\Anaconda3\\envs\\eeg_thesis\\lib\\site-packages\\pywt\\_functions.py:143: FutureWarning: Wavelets from the family cmor, without parameters specified in the name are deprecated. The name should takethe form cmorB-C where B and C are floats representing the bandwidth frequency and center frequency, respectively (example: cmor1.5-1.0).\n",
      "  wavelet = DiscreteContinuousWavelet(wavelet)\n",
      "c:\\Users\\chakr\\Anaconda3\\envs\\eeg_thesis\\lib\\site-packages\\pywt\\_cwt.py:117: FutureWarning: Wavelets from the family cmor, without parameters specified in the name are deprecated. The name should takethe form cmorB-C where B and C are floats representing the bandwidth frequency and center frequency, respectively (example: cmor1.5-1.0).\n",
      "  wavelet = DiscreteContinuousWavelet(wavelet)\n"
     ]
    },
    {
     "name": "stdout",
     "output_type": "stream",
     "text": [
      "Opening raw data file C:\\School\\EE_Y3\\Q4\\BAP\\eeg_thesis_cnn_repo\\data\\external\\interim\\S023R11_filtered.fif...\n",
      "Isotrak not found\n",
      "    Range : 0 ... 30749 =      0.000 ...   122.996 secs\n",
      "Ready.\n",
      "Reading 0 ... 30749  =      0.000 ...   122.996 secs...\n",
      "Used Annotations descriptions: ['T0', 'T1', 'T2']\n",
      "Not setting metadata\n",
      "15 matching events found\n",
      "No baseline correction applied\n",
      "0 projection items activated\n",
      "Using data from preloaded Raw for 15 events and 126 original time points ...\n",
      "0 bad epochs dropped\n"
     ]
    },
    {
     "name": "stderr",
     "output_type": "stream",
     "text": [
      "C:\\Users\\chakr\\AppData\\Local\\Temp\\ipykernel_13788\\3980180034.py:3: RuntimeWarning: This filename (C:\\School\\EE_Y3\\Q4\\BAP\\eeg_thesis_cnn_repo\\data\\external\\interim\\S023R11_filtered.fif) does not conform to MNE naming conventions. All raw files should end with raw.fif, raw_sss.fif, raw_tsss.fif, _meg.fif, _eeg.fif, _ieeg.fif, raw.fif.gz, raw_sss.fif.gz, raw_tsss.fif.gz, _meg.fif.gz, _eeg.fif.gz or _ieeg.fif.gz\n",
      "  raw = mne.io.read_raw_fif(fif_file, preload=True)\n",
      "c:\\Users\\chakr\\Anaconda3\\envs\\eeg_thesis\\lib\\site-packages\\pywt\\_functions.py:143: FutureWarning: Wavelets from the family cmor, without parameters specified in the name are deprecated. The name should takethe form cmorB-C where B and C are floats representing the bandwidth frequency and center frequency, respectively (example: cmor1.5-1.0).\n",
      "  wavelet = DiscreteContinuousWavelet(wavelet)\n",
      "c:\\Users\\chakr\\Anaconda3\\envs\\eeg_thesis\\lib\\site-packages\\pywt\\_cwt.py:117: FutureWarning: Wavelets from the family cmor, without parameters specified in the name are deprecated. The name should takethe form cmorB-C where B and C are floats representing the bandwidth frequency and center frequency, respectively (example: cmor1.5-1.0).\n",
      "  wavelet = DiscreteContinuousWavelet(wavelet)\n"
     ]
    },
    {
     "name": "stdout",
     "output_type": "stream",
     "text": [
      "Opening raw data file C:\\School\\EE_Y3\\Q4\\BAP\\eeg_thesis_cnn_repo\\data\\external\\interim\\S024R03_filtered.fif...\n",
      "Isotrak not found\n",
      "    Range : 0 ... 30749 =      0.000 ...   122.996 secs\n",
      "Ready.\n",
      "Reading 0 ... 30749  =      0.000 ...   122.996 secs...\n",
      "Used Annotations descriptions: ['T0', 'T1', 'T2']\n",
      "Not setting metadata\n",
      "15 matching events found\n",
      "No baseline correction applied\n",
      "0 projection items activated\n",
      "Using data from preloaded Raw for 15 events and 126 original time points ...\n",
      "0 bad epochs dropped\n"
     ]
    },
    {
     "name": "stderr",
     "output_type": "stream",
     "text": [
      "C:\\Users\\chakr\\AppData\\Local\\Temp\\ipykernel_13788\\3980180034.py:3: RuntimeWarning: This filename (C:\\School\\EE_Y3\\Q4\\BAP\\eeg_thesis_cnn_repo\\data\\external\\interim\\S024R03_filtered.fif) does not conform to MNE naming conventions. All raw files should end with raw.fif, raw_sss.fif, raw_tsss.fif, _meg.fif, _eeg.fif, _ieeg.fif, raw.fif.gz, raw_sss.fif.gz, raw_tsss.fif.gz, _meg.fif.gz, _eeg.fif.gz or _ieeg.fif.gz\n",
      "  raw = mne.io.read_raw_fif(fif_file, preload=True)\n",
      "c:\\Users\\chakr\\Anaconda3\\envs\\eeg_thesis\\lib\\site-packages\\pywt\\_functions.py:143: FutureWarning: Wavelets from the family cmor, without parameters specified in the name are deprecated. The name should takethe form cmorB-C where B and C are floats representing the bandwidth frequency and center frequency, respectively (example: cmor1.5-1.0).\n",
      "  wavelet = DiscreteContinuousWavelet(wavelet)\n",
      "c:\\Users\\chakr\\Anaconda3\\envs\\eeg_thesis\\lib\\site-packages\\pywt\\_cwt.py:117: FutureWarning: Wavelets from the family cmor, without parameters specified in the name are deprecated. The name should takethe form cmorB-C where B and C are floats representing the bandwidth frequency and center frequency, respectively (example: cmor1.5-1.0).\n",
      "  wavelet = DiscreteContinuousWavelet(wavelet)\n"
     ]
    },
    {
     "name": "stdout",
     "output_type": "stream",
     "text": [
      "Opening raw data file C:\\School\\EE_Y3\\Q4\\BAP\\eeg_thesis_cnn_repo\\data\\external\\interim\\S024R07_filtered.fif...\n",
      "Isotrak not found\n",
      "    Range : 0 ... 30749 =      0.000 ...   122.996 secs\n",
      "Ready.\n",
      "Reading 0 ... 30749  =      0.000 ...   122.996 secs...\n",
      "Used Annotations descriptions: ['T0', 'T1', 'T2']\n",
      "Not setting metadata\n",
      "15 matching events found\n",
      "No baseline correction applied\n",
      "0 projection items activated\n",
      "Using data from preloaded Raw for 15 events and 126 original time points ...\n",
      "0 bad epochs dropped\n"
     ]
    },
    {
     "name": "stderr",
     "output_type": "stream",
     "text": [
      "C:\\Users\\chakr\\AppData\\Local\\Temp\\ipykernel_13788\\3980180034.py:3: RuntimeWarning: This filename (C:\\School\\EE_Y3\\Q4\\BAP\\eeg_thesis_cnn_repo\\data\\external\\interim\\S024R07_filtered.fif) does not conform to MNE naming conventions. All raw files should end with raw.fif, raw_sss.fif, raw_tsss.fif, _meg.fif, _eeg.fif, _ieeg.fif, raw.fif.gz, raw_sss.fif.gz, raw_tsss.fif.gz, _meg.fif.gz, _eeg.fif.gz or _ieeg.fif.gz\n",
      "  raw = mne.io.read_raw_fif(fif_file, preload=True)\n",
      "c:\\Users\\chakr\\Anaconda3\\envs\\eeg_thesis\\lib\\site-packages\\pywt\\_functions.py:143: FutureWarning: Wavelets from the family cmor, without parameters specified in the name are deprecated. The name should takethe form cmorB-C where B and C are floats representing the bandwidth frequency and center frequency, respectively (example: cmor1.5-1.0).\n",
      "  wavelet = DiscreteContinuousWavelet(wavelet)\n",
      "c:\\Users\\chakr\\Anaconda3\\envs\\eeg_thesis\\lib\\site-packages\\pywt\\_cwt.py:117: FutureWarning: Wavelets from the family cmor, without parameters specified in the name are deprecated. The name should takethe form cmorB-C where B and C are floats representing the bandwidth frequency and center frequency, respectively (example: cmor1.5-1.0).\n",
      "  wavelet = DiscreteContinuousWavelet(wavelet)\n"
     ]
    },
    {
     "name": "stdout",
     "output_type": "stream",
     "text": [
      "Opening raw data file C:\\School\\EE_Y3\\Q4\\BAP\\eeg_thesis_cnn_repo\\data\\external\\interim\\S024R11_filtered.fif...\n",
      "Isotrak not found\n",
      "    Range : 0 ... 30749 =      0.000 ...   122.996 secs\n",
      "Ready.\n",
      "Reading 0 ... 30749  =      0.000 ...   122.996 secs...\n",
      "Used Annotations descriptions: ['T0', 'T1', 'T2']\n",
      "Not setting metadata\n",
      "15 matching events found\n",
      "No baseline correction applied\n",
      "0 projection items activated\n",
      "Using data from preloaded Raw for 15 events and 126 original time points ...\n",
      "0 bad epochs dropped\n"
     ]
    },
    {
     "name": "stderr",
     "output_type": "stream",
     "text": [
      "C:\\Users\\chakr\\AppData\\Local\\Temp\\ipykernel_13788\\3980180034.py:3: RuntimeWarning: This filename (C:\\School\\EE_Y3\\Q4\\BAP\\eeg_thesis_cnn_repo\\data\\external\\interim\\S024R11_filtered.fif) does not conform to MNE naming conventions. All raw files should end with raw.fif, raw_sss.fif, raw_tsss.fif, _meg.fif, _eeg.fif, _ieeg.fif, raw.fif.gz, raw_sss.fif.gz, raw_tsss.fif.gz, _meg.fif.gz, _eeg.fif.gz or _ieeg.fif.gz\n",
      "  raw = mne.io.read_raw_fif(fif_file, preload=True)\n",
      "c:\\Users\\chakr\\Anaconda3\\envs\\eeg_thesis\\lib\\site-packages\\pywt\\_functions.py:143: FutureWarning: Wavelets from the family cmor, without parameters specified in the name are deprecated. The name should takethe form cmorB-C where B and C are floats representing the bandwidth frequency and center frequency, respectively (example: cmor1.5-1.0).\n",
      "  wavelet = DiscreteContinuousWavelet(wavelet)\n",
      "c:\\Users\\chakr\\Anaconda3\\envs\\eeg_thesis\\lib\\site-packages\\pywt\\_cwt.py:117: FutureWarning: Wavelets from the family cmor, without parameters specified in the name are deprecated. The name should takethe form cmorB-C where B and C are floats representing the bandwidth frequency and center frequency, respectively (example: cmor1.5-1.0).\n",
      "  wavelet = DiscreteContinuousWavelet(wavelet)\n"
     ]
    },
    {
     "name": "stdout",
     "output_type": "stream",
     "text": [
      "Opening raw data file C:\\School\\EE_Y3\\Q4\\BAP\\eeg_thesis_cnn_repo\\data\\external\\interim\\S025R03_filtered.fif...\n",
      "Isotrak not found\n",
      "    Range : 0 ... 30749 =      0.000 ...   122.996 secs\n",
      "Ready.\n",
      "Reading 0 ... 30749  =      0.000 ...   122.996 secs...\n",
      "Used Annotations descriptions: ['T0', 'T1', 'T2']\n",
      "Not setting metadata\n",
      "15 matching events found\n",
      "No baseline correction applied\n",
      "0 projection items activated\n",
      "Using data from preloaded Raw for 15 events and 126 original time points ...\n",
      "0 bad epochs dropped\n"
     ]
    },
    {
     "name": "stderr",
     "output_type": "stream",
     "text": [
      "C:\\Users\\chakr\\AppData\\Local\\Temp\\ipykernel_13788\\3980180034.py:3: RuntimeWarning: This filename (C:\\School\\EE_Y3\\Q4\\BAP\\eeg_thesis_cnn_repo\\data\\external\\interim\\S025R03_filtered.fif) does not conform to MNE naming conventions. All raw files should end with raw.fif, raw_sss.fif, raw_tsss.fif, _meg.fif, _eeg.fif, _ieeg.fif, raw.fif.gz, raw_sss.fif.gz, raw_tsss.fif.gz, _meg.fif.gz, _eeg.fif.gz or _ieeg.fif.gz\n",
      "  raw = mne.io.read_raw_fif(fif_file, preload=True)\n",
      "c:\\Users\\chakr\\Anaconda3\\envs\\eeg_thesis\\lib\\site-packages\\pywt\\_functions.py:143: FutureWarning: Wavelets from the family cmor, without parameters specified in the name are deprecated. The name should takethe form cmorB-C where B and C are floats representing the bandwidth frequency and center frequency, respectively (example: cmor1.5-1.0).\n",
      "  wavelet = DiscreteContinuousWavelet(wavelet)\n",
      "c:\\Users\\chakr\\Anaconda3\\envs\\eeg_thesis\\lib\\site-packages\\pywt\\_cwt.py:117: FutureWarning: Wavelets from the family cmor, without parameters specified in the name are deprecated. The name should takethe form cmorB-C where B and C are floats representing the bandwidth frequency and center frequency, respectively (example: cmor1.5-1.0).\n",
      "  wavelet = DiscreteContinuousWavelet(wavelet)\n"
     ]
    },
    {
     "name": "stdout",
     "output_type": "stream",
     "text": [
      "Opening raw data file C:\\School\\EE_Y3\\Q4\\BAP\\eeg_thesis_cnn_repo\\data\\external\\interim\\S025R07_filtered.fif...\n",
      "Isotrak not found\n",
      "    Range : 0 ... 30749 =      0.000 ...   122.996 secs\n",
      "Ready.\n",
      "Reading 0 ... 30749  =      0.000 ...   122.996 secs...\n",
      "Used Annotations descriptions: ['T0', 'T1', 'T2']\n",
      "Not setting metadata\n",
      "15 matching events found\n",
      "No baseline correction applied\n",
      "0 projection items activated\n",
      "Using data from preloaded Raw for 15 events and 126 original time points ...\n",
      "0 bad epochs dropped\n"
     ]
    },
    {
     "name": "stderr",
     "output_type": "stream",
     "text": [
      "C:\\Users\\chakr\\AppData\\Local\\Temp\\ipykernel_13788\\3980180034.py:3: RuntimeWarning: This filename (C:\\School\\EE_Y3\\Q4\\BAP\\eeg_thesis_cnn_repo\\data\\external\\interim\\S025R07_filtered.fif) does not conform to MNE naming conventions. All raw files should end with raw.fif, raw_sss.fif, raw_tsss.fif, _meg.fif, _eeg.fif, _ieeg.fif, raw.fif.gz, raw_sss.fif.gz, raw_tsss.fif.gz, _meg.fif.gz, _eeg.fif.gz or _ieeg.fif.gz\n",
      "  raw = mne.io.read_raw_fif(fif_file, preload=True)\n",
      "c:\\Users\\chakr\\Anaconda3\\envs\\eeg_thesis\\lib\\site-packages\\pywt\\_functions.py:143: FutureWarning: Wavelets from the family cmor, without parameters specified in the name are deprecated. The name should takethe form cmorB-C where B and C are floats representing the bandwidth frequency and center frequency, respectively (example: cmor1.5-1.0).\n",
      "  wavelet = DiscreteContinuousWavelet(wavelet)\n",
      "c:\\Users\\chakr\\Anaconda3\\envs\\eeg_thesis\\lib\\site-packages\\pywt\\_cwt.py:117: FutureWarning: Wavelets from the family cmor, without parameters specified in the name are deprecated. The name should takethe form cmorB-C where B and C are floats representing the bandwidth frequency and center frequency, respectively (example: cmor1.5-1.0).\n",
      "  wavelet = DiscreteContinuousWavelet(wavelet)\n"
     ]
    },
    {
     "name": "stdout",
     "output_type": "stream",
     "text": [
      "Opening raw data file C:\\School\\EE_Y3\\Q4\\BAP\\eeg_thesis_cnn_repo\\data\\external\\interim\\S025R11_filtered.fif...\n",
      "Isotrak not found\n",
      "    Range : 0 ... 30749 =      0.000 ...   122.996 secs\n",
      "Ready.\n",
      "Reading 0 ... 30749  =      0.000 ...   122.996 secs...\n",
      "Used Annotations descriptions: ['T0', 'T1', 'T2']\n",
      "Not setting metadata\n",
      "15 matching events found\n",
      "No baseline correction applied\n",
      "0 projection items activated\n",
      "Using data from preloaded Raw for 15 events and 126 original time points ...\n",
      "0 bad epochs dropped\n"
     ]
    },
    {
     "name": "stderr",
     "output_type": "stream",
     "text": [
      "C:\\Users\\chakr\\AppData\\Local\\Temp\\ipykernel_13788\\3980180034.py:3: RuntimeWarning: This filename (C:\\School\\EE_Y3\\Q4\\BAP\\eeg_thesis_cnn_repo\\data\\external\\interim\\S025R11_filtered.fif) does not conform to MNE naming conventions. All raw files should end with raw.fif, raw_sss.fif, raw_tsss.fif, _meg.fif, _eeg.fif, _ieeg.fif, raw.fif.gz, raw_sss.fif.gz, raw_tsss.fif.gz, _meg.fif.gz, _eeg.fif.gz or _ieeg.fif.gz\n",
      "  raw = mne.io.read_raw_fif(fif_file, preload=True)\n",
      "c:\\Users\\chakr\\Anaconda3\\envs\\eeg_thesis\\lib\\site-packages\\pywt\\_functions.py:143: FutureWarning: Wavelets from the family cmor, without parameters specified in the name are deprecated. The name should takethe form cmorB-C where B and C are floats representing the bandwidth frequency and center frequency, respectively (example: cmor1.5-1.0).\n",
      "  wavelet = DiscreteContinuousWavelet(wavelet)\n",
      "c:\\Users\\chakr\\Anaconda3\\envs\\eeg_thesis\\lib\\site-packages\\pywt\\_cwt.py:117: FutureWarning: Wavelets from the family cmor, without parameters specified in the name are deprecated. The name should takethe form cmorB-C where B and C are floats representing the bandwidth frequency and center frequency, respectively (example: cmor1.5-1.0).\n",
      "  wavelet = DiscreteContinuousWavelet(wavelet)\n"
     ]
    },
    {
     "name": "stdout",
     "output_type": "stream",
     "text": [
      "Opening raw data file C:\\School\\EE_Y3\\Q4\\BAP\\eeg_thesis_cnn_repo\\data\\external\\interim\\S026R03_filtered.fif...\n",
      "Isotrak not found\n",
      "    Range : 0 ... 30749 =      0.000 ...   122.996 secs\n",
      "Ready.\n",
      "Reading 0 ... 30749  =      0.000 ...   122.996 secs...\n",
      "Used Annotations descriptions: ['T0', 'T1', 'T2']\n",
      "Not setting metadata\n",
      "15 matching events found\n",
      "No baseline correction applied\n",
      "0 projection items activated\n",
      "Using data from preloaded Raw for 15 events and 126 original time points ...\n",
      "0 bad epochs dropped\n"
     ]
    },
    {
     "name": "stderr",
     "output_type": "stream",
     "text": [
      "C:\\Users\\chakr\\AppData\\Local\\Temp\\ipykernel_13788\\3980180034.py:3: RuntimeWarning: This filename (C:\\School\\EE_Y3\\Q4\\BAP\\eeg_thesis_cnn_repo\\data\\external\\interim\\S026R03_filtered.fif) does not conform to MNE naming conventions. All raw files should end with raw.fif, raw_sss.fif, raw_tsss.fif, _meg.fif, _eeg.fif, _ieeg.fif, raw.fif.gz, raw_sss.fif.gz, raw_tsss.fif.gz, _meg.fif.gz, _eeg.fif.gz or _ieeg.fif.gz\n",
      "  raw = mne.io.read_raw_fif(fif_file, preload=True)\n",
      "c:\\Users\\chakr\\Anaconda3\\envs\\eeg_thesis\\lib\\site-packages\\pywt\\_functions.py:143: FutureWarning: Wavelets from the family cmor, without parameters specified in the name are deprecated. The name should takethe form cmorB-C where B and C are floats representing the bandwidth frequency and center frequency, respectively (example: cmor1.5-1.0).\n",
      "  wavelet = DiscreteContinuousWavelet(wavelet)\n",
      "c:\\Users\\chakr\\Anaconda3\\envs\\eeg_thesis\\lib\\site-packages\\pywt\\_cwt.py:117: FutureWarning: Wavelets from the family cmor, without parameters specified in the name are deprecated. The name should takethe form cmorB-C where B and C are floats representing the bandwidth frequency and center frequency, respectively (example: cmor1.5-1.0).\n",
      "  wavelet = DiscreteContinuousWavelet(wavelet)\n"
     ]
    },
    {
     "name": "stdout",
     "output_type": "stream",
     "text": [
      "Opening raw data file C:\\School\\EE_Y3\\Q4\\BAP\\eeg_thesis_cnn_repo\\data\\external\\interim\\S026R07_filtered.fif...\n",
      "Isotrak not found\n",
      "    Range : 0 ... 30749 =      0.000 ...   122.996 secs\n",
      "Ready.\n",
      "Reading 0 ... 30749  =      0.000 ...   122.996 secs...\n",
      "Used Annotations descriptions: ['T0', 'T1', 'T2']\n",
      "Not setting metadata\n",
      "15 matching events found\n",
      "No baseline correction applied\n",
      "0 projection items activated\n",
      "Using data from preloaded Raw for 15 events and 126 original time points ...\n",
      "0 bad epochs dropped\n"
     ]
    },
    {
     "name": "stderr",
     "output_type": "stream",
     "text": [
      "C:\\Users\\chakr\\AppData\\Local\\Temp\\ipykernel_13788\\3980180034.py:3: RuntimeWarning: This filename (C:\\School\\EE_Y3\\Q4\\BAP\\eeg_thesis_cnn_repo\\data\\external\\interim\\S026R07_filtered.fif) does not conform to MNE naming conventions. All raw files should end with raw.fif, raw_sss.fif, raw_tsss.fif, _meg.fif, _eeg.fif, _ieeg.fif, raw.fif.gz, raw_sss.fif.gz, raw_tsss.fif.gz, _meg.fif.gz, _eeg.fif.gz or _ieeg.fif.gz\n",
      "  raw = mne.io.read_raw_fif(fif_file, preload=True)\n",
      "c:\\Users\\chakr\\Anaconda3\\envs\\eeg_thesis\\lib\\site-packages\\pywt\\_functions.py:143: FutureWarning: Wavelets from the family cmor, without parameters specified in the name are deprecated. The name should takethe form cmorB-C where B and C are floats representing the bandwidth frequency and center frequency, respectively (example: cmor1.5-1.0).\n",
      "  wavelet = DiscreteContinuousWavelet(wavelet)\n",
      "c:\\Users\\chakr\\Anaconda3\\envs\\eeg_thesis\\lib\\site-packages\\pywt\\_cwt.py:117: FutureWarning: Wavelets from the family cmor, without parameters specified in the name are deprecated. The name should takethe form cmorB-C where B and C are floats representing the bandwidth frequency and center frequency, respectively (example: cmor1.5-1.0).\n",
      "  wavelet = DiscreteContinuousWavelet(wavelet)\n"
     ]
    },
    {
     "name": "stdout",
     "output_type": "stream",
     "text": [
      "Opening raw data file C:\\School\\EE_Y3\\Q4\\BAP\\eeg_thesis_cnn_repo\\data\\external\\interim\\S026R11_filtered.fif...\n",
      "Isotrak not found\n",
      "    Range : 0 ... 30749 =      0.000 ...   122.996 secs\n",
      "Ready.\n",
      "Reading 0 ... 30749  =      0.000 ...   122.996 secs...\n",
      "Used Annotations descriptions: ['T0', 'T1', 'T2']\n",
      "Not setting metadata\n",
      "15 matching events found\n",
      "No baseline correction applied\n",
      "0 projection items activated\n",
      "Using data from preloaded Raw for 15 events and 126 original time points ...\n",
      "0 bad epochs dropped\n"
     ]
    },
    {
     "name": "stderr",
     "output_type": "stream",
     "text": [
      "C:\\Users\\chakr\\AppData\\Local\\Temp\\ipykernel_13788\\3980180034.py:3: RuntimeWarning: This filename (C:\\School\\EE_Y3\\Q4\\BAP\\eeg_thesis_cnn_repo\\data\\external\\interim\\S026R11_filtered.fif) does not conform to MNE naming conventions. All raw files should end with raw.fif, raw_sss.fif, raw_tsss.fif, _meg.fif, _eeg.fif, _ieeg.fif, raw.fif.gz, raw_sss.fif.gz, raw_tsss.fif.gz, _meg.fif.gz, _eeg.fif.gz or _ieeg.fif.gz\n",
      "  raw = mne.io.read_raw_fif(fif_file, preload=True)\n",
      "c:\\Users\\chakr\\Anaconda3\\envs\\eeg_thesis\\lib\\site-packages\\pywt\\_functions.py:143: FutureWarning: Wavelets from the family cmor, without parameters specified in the name are deprecated. The name should takethe form cmorB-C where B and C are floats representing the bandwidth frequency and center frequency, respectively (example: cmor1.5-1.0).\n",
      "  wavelet = DiscreteContinuousWavelet(wavelet)\n",
      "c:\\Users\\chakr\\Anaconda3\\envs\\eeg_thesis\\lib\\site-packages\\pywt\\_cwt.py:117: FutureWarning: Wavelets from the family cmor, without parameters specified in the name are deprecated. The name should takethe form cmorB-C where B and C are floats representing the bandwidth frequency and center frequency, respectively (example: cmor1.5-1.0).\n",
      "  wavelet = DiscreteContinuousWavelet(wavelet)\n"
     ]
    },
    {
     "name": "stdout",
     "output_type": "stream",
     "text": [
      "Opening raw data file C:\\School\\EE_Y3\\Q4\\BAP\\eeg_thesis_cnn_repo\\data\\external\\interim\\S027R03_filtered.fif...\n",
      "Isotrak not found\n",
      "    Range : 0 ... 30749 =      0.000 ...   122.996 secs\n",
      "Ready.\n",
      "Reading 0 ... 30749  =      0.000 ...   122.996 secs...\n",
      "Used Annotations descriptions: ['T0', 'T1', 'T2']\n",
      "Not setting metadata\n",
      "15 matching events found\n",
      "No baseline correction applied\n",
      "0 projection items activated\n",
      "Using data from preloaded Raw for 15 events and 126 original time points ...\n",
      "0 bad epochs dropped\n"
     ]
    },
    {
     "name": "stderr",
     "output_type": "stream",
     "text": [
      "C:\\Users\\chakr\\AppData\\Local\\Temp\\ipykernel_13788\\3980180034.py:3: RuntimeWarning: This filename (C:\\School\\EE_Y3\\Q4\\BAP\\eeg_thesis_cnn_repo\\data\\external\\interim\\S027R03_filtered.fif) does not conform to MNE naming conventions. All raw files should end with raw.fif, raw_sss.fif, raw_tsss.fif, _meg.fif, _eeg.fif, _ieeg.fif, raw.fif.gz, raw_sss.fif.gz, raw_tsss.fif.gz, _meg.fif.gz, _eeg.fif.gz or _ieeg.fif.gz\n",
      "  raw = mne.io.read_raw_fif(fif_file, preload=True)\n",
      "c:\\Users\\chakr\\Anaconda3\\envs\\eeg_thesis\\lib\\site-packages\\pywt\\_functions.py:143: FutureWarning: Wavelets from the family cmor, without parameters specified in the name are deprecated. The name should takethe form cmorB-C where B and C are floats representing the bandwidth frequency and center frequency, respectively (example: cmor1.5-1.0).\n",
      "  wavelet = DiscreteContinuousWavelet(wavelet)\n",
      "c:\\Users\\chakr\\Anaconda3\\envs\\eeg_thesis\\lib\\site-packages\\pywt\\_cwt.py:117: FutureWarning: Wavelets from the family cmor, without parameters specified in the name are deprecated. The name should takethe form cmorB-C where B and C are floats representing the bandwidth frequency and center frequency, respectively (example: cmor1.5-1.0).\n",
      "  wavelet = DiscreteContinuousWavelet(wavelet)\n"
     ]
    },
    {
     "name": "stdout",
     "output_type": "stream",
     "text": [
      "Opening raw data file C:\\School\\EE_Y3\\Q4\\BAP\\eeg_thesis_cnn_repo\\data\\external\\interim\\S027R07_filtered.fif...\n",
      "Isotrak not found\n",
      "    Range : 0 ... 30749 =      0.000 ...   122.996 secs\n",
      "Ready.\n",
      "Reading 0 ... 30749  =      0.000 ...   122.996 secs...\n",
      "Used Annotations descriptions: ['T0', 'T1', 'T2']\n",
      "Not setting metadata\n",
      "15 matching events found\n",
      "No baseline correction applied\n",
      "0 projection items activated\n",
      "Using data from preloaded Raw for 15 events and 126 original time points ...\n",
      "0 bad epochs dropped\n"
     ]
    },
    {
     "name": "stderr",
     "output_type": "stream",
     "text": [
      "C:\\Users\\chakr\\AppData\\Local\\Temp\\ipykernel_13788\\3980180034.py:3: RuntimeWarning: This filename (C:\\School\\EE_Y3\\Q4\\BAP\\eeg_thesis_cnn_repo\\data\\external\\interim\\S027R07_filtered.fif) does not conform to MNE naming conventions. All raw files should end with raw.fif, raw_sss.fif, raw_tsss.fif, _meg.fif, _eeg.fif, _ieeg.fif, raw.fif.gz, raw_sss.fif.gz, raw_tsss.fif.gz, _meg.fif.gz, _eeg.fif.gz or _ieeg.fif.gz\n",
      "  raw = mne.io.read_raw_fif(fif_file, preload=True)\n",
      "c:\\Users\\chakr\\Anaconda3\\envs\\eeg_thesis\\lib\\site-packages\\pywt\\_functions.py:143: FutureWarning: Wavelets from the family cmor, without parameters specified in the name are deprecated. The name should takethe form cmorB-C where B and C are floats representing the bandwidth frequency and center frequency, respectively (example: cmor1.5-1.0).\n",
      "  wavelet = DiscreteContinuousWavelet(wavelet)\n",
      "c:\\Users\\chakr\\Anaconda3\\envs\\eeg_thesis\\lib\\site-packages\\pywt\\_cwt.py:117: FutureWarning: Wavelets from the family cmor, without parameters specified in the name are deprecated. The name should takethe form cmorB-C where B and C are floats representing the bandwidth frequency and center frequency, respectively (example: cmor1.5-1.0).\n",
      "  wavelet = DiscreteContinuousWavelet(wavelet)\n"
     ]
    },
    {
     "name": "stdout",
     "output_type": "stream",
     "text": [
      "Opening raw data file C:\\School\\EE_Y3\\Q4\\BAP\\eeg_thesis_cnn_repo\\data\\external\\interim\\S027R11_filtered.fif...\n",
      "Isotrak not found\n",
      "    Range : 0 ... 30749 =      0.000 ...   122.996 secs\n",
      "Ready.\n",
      "Reading 0 ... 30749  =      0.000 ...   122.996 secs...\n",
      "Used Annotations descriptions: ['T0', 'T1', 'T2']\n",
      "Not setting metadata\n",
      "15 matching events found\n",
      "No baseline correction applied\n",
      "0 projection items activated\n",
      "Using data from preloaded Raw for 15 events and 126 original time points ...\n",
      "0 bad epochs dropped\n"
     ]
    },
    {
     "name": "stderr",
     "output_type": "stream",
     "text": [
      "C:\\Users\\chakr\\AppData\\Local\\Temp\\ipykernel_13788\\3980180034.py:3: RuntimeWarning: This filename (C:\\School\\EE_Y3\\Q4\\BAP\\eeg_thesis_cnn_repo\\data\\external\\interim\\S027R11_filtered.fif) does not conform to MNE naming conventions. All raw files should end with raw.fif, raw_sss.fif, raw_tsss.fif, _meg.fif, _eeg.fif, _ieeg.fif, raw.fif.gz, raw_sss.fif.gz, raw_tsss.fif.gz, _meg.fif.gz, _eeg.fif.gz or _ieeg.fif.gz\n",
      "  raw = mne.io.read_raw_fif(fif_file, preload=True)\n",
      "c:\\Users\\chakr\\Anaconda3\\envs\\eeg_thesis\\lib\\site-packages\\pywt\\_functions.py:143: FutureWarning: Wavelets from the family cmor, without parameters specified in the name are deprecated. The name should takethe form cmorB-C where B and C are floats representing the bandwidth frequency and center frequency, respectively (example: cmor1.5-1.0).\n",
      "  wavelet = DiscreteContinuousWavelet(wavelet)\n",
      "c:\\Users\\chakr\\Anaconda3\\envs\\eeg_thesis\\lib\\site-packages\\pywt\\_cwt.py:117: FutureWarning: Wavelets from the family cmor, without parameters specified in the name are deprecated. The name should takethe form cmorB-C where B and C are floats representing the bandwidth frequency and center frequency, respectively (example: cmor1.5-1.0).\n",
      "  wavelet = DiscreteContinuousWavelet(wavelet)\n"
     ]
    },
    {
     "name": "stdout",
     "output_type": "stream",
     "text": [
      "Opening raw data file C:\\School\\EE_Y3\\Q4\\BAP\\eeg_thesis_cnn_repo\\data\\external\\interim\\S028R03_filtered.fif...\n",
      "Isotrak not found\n",
      "    Range : 0 ... 30749 =      0.000 ...   122.996 secs\n",
      "Ready.\n",
      "Reading 0 ... 30749  =      0.000 ...   122.996 secs...\n",
      "Used Annotations descriptions: ['T0', 'T1', 'T2']\n",
      "Not setting metadata\n",
      "15 matching events found\n",
      "No baseline correction applied\n",
      "0 projection items activated\n",
      "Using data from preloaded Raw for 15 events and 126 original time points ...\n",
      "0 bad epochs dropped\n"
     ]
    },
    {
     "name": "stderr",
     "output_type": "stream",
     "text": [
      "C:\\Users\\chakr\\AppData\\Local\\Temp\\ipykernel_13788\\3980180034.py:3: RuntimeWarning: This filename (C:\\School\\EE_Y3\\Q4\\BAP\\eeg_thesis_cnn_repo\\data\\external\\interim\\S028R03_filtered.fif) does not conform to MNE naming conventions. All raw files should end with raw.fif, raw_sss.fif, raw_tsss.fif, _meg.fif, _eeg.fif, _ieeg.fif, raw.fif.gz, raw_sss.fif.gz, raw_tsss.fif.gz, _meg.fif.gz, _eeg.fif.gz or _ieeg.fif.gz\n",
      "  raw = mne.io.read_raw_fif(fif_file, preload=True)\n",
      "c:\\Users\\chakr\\Anaconda3\\envs\\eeg_thesis\\lib\\site-packages\\pywt\\_functions.py:143: FutureWarning: Wavelets from the family cmor, without parameters specified in the name are deprecated. The name should takethe form cmorB-C where B and C are floats representing the bandwidth frequency and center frequency, respectively (example: cmor1.5-1.0).\n",
      "  wavelet = DiscreteContinuousWavelet(wavelet)\n",
      "c:\\Users\\chakr\\Anaconda3\\envs\\eeg_thesis\\lib\\site-packages\\pywt\\_cwt.py:117: FutureWarning: Wavelets from the family cmor, without parameters specified in the name are deprecated. The name should takethe form cmorB-C where B and C are floats representing the bandwidth frequency and center frequency, respectively (example: cmor1.5-1.0).\n",
      "  wavelet = DiscreteContinuousWavelet(wavelet)\n"
     ]
    },
    {
     "name": "stdout",
     "output_type": "stream",
     "text": [
      "Opening raw data file C:\\School\\EE_Y3\\Q4\\BAP\\eeg_thesis_cnn_repo\\data\\external\\interim\\S028R07_filtered.fif...\n",
      "Isotrak not found\n",
      "    Range : 0 ... 30749 =      0.000 ...   122.996 secs\n",
      "Ready.\n",
      "Reading 0 ... 30749  =      0.000 ...   122.996 secs...\n",
      "Used Annotations descriptions: ['T0', 'T1', 'T2']\n",
      "Not setting metadata\n",
      "15 matching events found\n",
      "No baseline correction applied\n",
      "0 projection items activated\n",
      "Using data from preloaded Raw for 15 events and 126 original time points ...\n",
      "0 bad epochs dropped\n"
     ]
    },
    {
     "name": "stderr",
     "output_type": "stream",
     "text": [
      "C:\\Users\\chakr\\AppData\\Local\\Temp\\ipykernel_13788\\3980180034.py:3: RuntimeWarning: This filename (C:\\School\\EE_Y3\\Q4\\BAP\\eeg_thesis_cnn_repo\\data\\external\\interim\\S028R07_filtered.fif) does not conform to MNE naming conventions. All raw files should end with raw.fif, raw_sss.fif, raw_tsss.fif, _meg.fif, _eeg.fif, _ieeg.fif, raw.fif.gz, raw_sss.fif.gz, raw_tsss.fif.gz, _meg.fif.gz, _eeg.fif.gz or _ieeg.fif.gz\n",
      "  raw = mne.io.read_raw_fif(fif_file, preload=True)\n",
      "c:\\Users\\chakr\\Anaconda3\\envs\\eeg_thesis\\lib\\site-packages\\pywt\\_functions.py:143: FutureWarning: Wavelets from the family cmor, without parameters specified in the name are deprecated. The name should takethe form cmorB-C where B and C are floats representing the bandwidth frequency and center frequency, respectively (example: cmor1.5-1.0).\n",
      "  wavelet = DiscreteContinuousWavelet(wavelet)\n",
      "c:\\Users\\chakr\\Anaconda3\\envs\\eeg_thesis\\lib\\site-packages\\pywt\\_cwt.py:117: FutureWarning: Wavelets from the family cmor, without parameters specified in the name are deprecated. The name should takethe form cmorB-C where B and C are floats representing the bandwidth frequency and center frequency, respectively (example: cmor1.5-1.0).\n",
      "  wavelet = DiscreteContinuousWavelet(wavelet)\n"
     ]
    },
    {
     "name": "stdout",
     "output_type": "stream",
     "text": [
      "Opening raw data file C:\\School\\EE_Y3\\Q4\\BAP\\eeg_thesis_cnn_repo\\data\\external\\interim\\S028R11_filtered.fif...\n",
      "Isotrak not found\n",
      "    Range : 0 ... 30749 =      0.000 ...   122.996 secs\n",
      "Ready.\n",
      "Reading 0 ... 30749  =      0.000 ...   122.996 secs...\n",
      "Used Annotations descriptions: ['T0', 'T1', 'T2']\n",
      "Not setting metadata\n",
      "15 matching events found\n",
      "No baseline correction applied\n",
      "0 projection items activated\n",
      "Using data from preloaded Raw for 15 events and 126 original time points ...\n",
      "0 bad epochs dropped\n"
     ]
    },
    {
     "name": "stderr",
     "output_type": "stream",
     "text": [
      "C:\\Users\\chakr\\AppData\\Local\\Temp\\ipykernel_13788\\3980180034.py:3: RuntimeWarning: This filename (C:\\School\\EE_Y3\\Q4\\BAP\\eeg_thesis_cnn_repo\\data\\external\\interim\\S028R11_filtered.fif) does not conform to MNE naming conventions. All raw files should end with raw.fif, raw_sss.fif, raw_tsss.fif, _meg.fif, _eeg.fif, _ieeg.fif, raw.fif.gz, raw_sss.fif.gz, raw_tsss.fif.gz, _meg.fif.gz, _eeg.fif.gz or _ieeg.fif.gz\n",
      "  raw = mne.io.read_raw_fif(fif_file, preload=True)\n",
      "c:\\Users\\chakr\\Anaconda3\\envs\\eeg_thesis\\lib\\site-packages\\pywt\\_functions.py:143: FutureWarning: Wavelets from the family cmor, without parameters specified in the name are deprecated. The name should takethe form cmorB-C where B and C are floats representing the bandwidth frequency and center frequency, respectively (example: cmor1.5-1.0).\n",
      "  wavelet = DiscreteContinuousWavelet(wavelet)\n",
      "c:\\Users\\chakr\\Anaconda3\\envs\\eeg_thesis\\lib\\site-packages\\pywt\\_cwt.py:117: FutureWarning: Wavelets from the family cmor, without parameters specified in the name are deprecated. The name should takethe form cmorB-C where B and C are floats representing the bandwidth frequency and center frequency, respectively (example: cmor1.5-1.0).\n",
      "  wavelet = DiscreteContinuousWavelet(wavelet)\n"
     ]
    },
    {
     "name": "stdout",
     "output_type": "stream",
     "text": [
      "Opening raw data file C:\\School\\EE_Y3\\Q4\\BAP\\eeg_thesis_cnn_repo\\data\\external\\interim\\S029R03_filtered.fif...\n",
      "Isotrak not found\n",
      "    Range : 0 ... 30999 =      0.000 ...   123.996 secs\n",
      "Ready.\n",
      "Reading 0 ... 30999  =      0.000 ...   123.996 secs...\n",
      "Used Annotations descriptions: ['T0', 'T1', 'T2']\n",
      "Not setting metadata\n",
      "15 matching events found\n",
      "No baseline correction applied\n",
      "0 projection items activated\n",
      "Using data from preloaded Raw for 15 events and 126 original time points ...\n",
      "0 bad epochs dropped\n"
     ]
    },
    {
     "name": "stderr",
     "output_type": "stream",
     "text": [
      "C:\\Users\\chakr\\AppData\\Local\\Temp\\ipykernel_13788\\3980180034.py:3: RuntimeWarning: This filename (C:\\School\\EE_Y3\\Q4\\BAP\\eeg_thesis_cnn_repo\\data\\external\\interim\\S029R03_filtered.fif) does not conform to MNE naming conventions. All raw files should end with raw.fif, raw_sss.fif, raw_tsss.fif, _meg.fif, _eeg.fif, _ieeg.fif, raw.fif.gz, raw_sss.fif.gz, raw_tsss.fif.gz, _meg.fif.gz, _eeg.fif.gz or _ieeg.fif.gz\n",
      "  raw = mne.io.read_raw_fif(fif_file, preload=True)\n",
      "c:\\Users\\chakr\\Anaconda3\\envs\\eeg_thesis\\lib\\site-packages\\pywt\\_functions.py:143: FutureWarning: Wavelets from the family cmor, without parameters specified in the name are deprecated. The name should takethe form cmorB-C where B and C are floats representing the bandwidth frequency and center frequency, respectively (example: cmor1.5-1.0).\n",
      "  wavelet = DiscreteContinuousWavelet(wavelet)\n",
      "c:\\Users\\chakr\\Anaconda3\\envs\\eeg_thesis\\lib\\site-packages\\pywt\\_cwt.py:117: FutureWarning: Wavelets from the family cmor, without parameters specified in the name are deprecated. The name should takethe form cmorB-C where B and C are floats representing the bandwidth frequency and center frequency, respectively (example: cmor1.5-1.0).\n",
      "  wavelet = DiscreteContinuousWavelet(wavelet)\n"
     ]
    },
    {
     "name": "stdout",
     "output_type": "stream",
     "text": [
      "Opening raw data file C:\\School\\EE_Y3\\Q4\\BAP\\eeg_thesis_cnn_repo\\data\\external\\interim\\S029R07_filtered.fif...\n",
      "Isotrak not found\n",
      "    Range : 0 ... 30999 =      0.000 ...   123.996 secs\n",
      "Ready.\n",
      "Reading 0 ... 30999  =      0.000 ...   123.996 secs...\n",
      "Used Annotations descriptions: ['T0', 'T1', 'T2']\n",
      "Not setting metadata\n",
      "15 matching events found\n",
      "No baseline correction applied\n",
      "0 projection items activated\n",
      "Using data from preloaded Raw for 15 events and 126 original time points ...\n",
      "0 bad epochs dropped\n"
     ]
    },
    {
     "name": "stderr",
     "output_type": "stream",
     "text": [
      "C:\\Users\\chakr\\AppData\\Local\\Temp\\ipykernel_13788\\3980180034.py:3: RuntimeWarning: This filename (C:\\School\\EE_Y3\\Q4\\BAP\\eeg_thesis_cnn_repo\\data\\external\\interim\\S029R07_filtered.fif) does not conform to MNE naming conventions. All raw files should end with raw.fif, raw_sss.fif, raw_tsss.fif, _meg.fif, _eeg.fif, _ieeg.fif, raw.fif.gz, raw_sss.fif.gz, raw_tsss.fif.gz, _meg.fif.gz, _eeg.fif.gz or _ieeg.fif.gz\n",
      "  raw = mne.io.read_raw_fif(fif_file, preload=True)\n",
      "c:\\Users\\chakr\\Anaconda3\\envs\\eeg_thesis\\lib\\site-packages\\pywt\\_functions.py:143: FutureWarning: Wavelets from the family cmor, without parameters specified in the name are deprecated. The name should takethe form cmorB-C where B and C are floats representing the bandwidth frequency and center frequency, respectively (example: cmor1.5-1.0).\n",
      "  wavelet = DiscreteContinuousWavelet(wavelet)\n",
      "c:\\Users\\chakr\\Anaconda3\\envs\\eeg_thesis\\lib\\site-packages\\pywt\\_cwt.py:117: FutureWarning: Wavelets from the family cmor, without parameters specified in the name are deprecated. The name should takethe form cmorB-C where B and C are floats representing the bandwidth frequency and center frequency, respectively (example: cmor1.5-1.0).\n",
      "  wavelet = DiscreteContinuousWavelet(wavelet)\n"
     ]
    },
    {
     "name": "stdout",
     "output_type": "stream",
     "text": [
      "Opening raw data file C:\\School\\EE_Y3\\Q4\\BAP\\eeg_thesis_cnn_repo\\data\\external\\interim\\S029R11_filtered.fif...\n",
      "Isotrak not found\n",
      "    Range : 0 ... 30999 =      0.000 ...   123.996 secs\n",
      "Ready.\n",
      "Reading 0 ... 30999  =      0.000 ...   123.996 secs...\n",
      "Used Annotations descriptions: ['T0', 'T1', 'T2']\n",
      "Not setting metadata\n",
      "15 matching events found\n",
      "No baseline correction applied\n",
      "0 projection items activated\n",
      "Using data from preloaded Raw for 15 events and 126 original time points ...\n",
      "0 bad epochs dropped\n"
     ]
    },
    {
     "name": "stderr",
     "output_type": "stream",
     "text": [
      "C:\\Users\\chakr\\AppData\\Local\\Temp\\ipykernel_13788\\3980180034.py:3: RuntimeWarning: This filename (C:\\School\\EE_Y3\\Q4\\BAP\\eeg_thesis_cnn_repo\\data\\external\\interim\\S029R11_filtered.fif) does not conform to MNE naming conventions. All raw files should end with raw.fif, raw_sss.fif, raw_tsss.fif, _meg.fif, _eeg.fif, _ieeg.fif, raw.fif.gz, raw_sss.fif.gz, raw_tsss.fif.gz, _meg.fif.gz, _eeg.fif.gz or _ieeg.fif.gz\n",
      "  raw = mne.io.read_raw_fif(fif_file, preload=True)\n",
      "c:\\Users\\chakr\\Anaconda3\\envs\\eeg_thesis\\lib\\site-packages\\pywt\\_functions.py:143: FutureWarning: Wavelets from the family cmor, without parameters specified in the name are deprecated. The name should takethe form cmorB-C where B and C are floats representing the bandwidth frequency and center frequency, respectively (example: cmor1.5-1.0).\n",
      "  wavelet = DiscreteContinuousWavelet(wavelet)\n",
      "c:\\Users\\chakr\\Anaconda3\\envs\\eeg_thesis\\lib\\site-packages\\pywt\\_cwt.py:117: FutureWarning: Wavelets from the family cmor, without parameters specified in the name are deprecated. The name should takethe form cmorB-C where B and C are floats representing the bandwidth frequency and center frequency, respectively (example: cmor1.5-1.0).\n",
      "  wavelet = DiscreteContinuousWavelet(wavelet)\n"
     ]
    },
    {
     "name": "stdout",
     "output_type": "stream",
     "text": [
      "Opening raw data file C:\\School\\EE_Y3\\Q4\\BAP\\eeg_thesis_cnn_repo\\data\\external\\interim\\S030R03_filtered.fif...\n",
      "Isotrak not found\n",
      "    Range : 0 ... 30999 =      0.000 ...   123.996 secs\n",
      "Ready.\n",
      "Reading 0 ... 30999  =      0.000 ...   123.996 secs...\n",
      "Used Annotations descriptions: ['T0', 'T1', 'T2']\n",
      "Not setting metadata\n",
      "15 matching events found\n",
      "No baseline correction applied\n",
      "0 projection items activated\n",
      "Using data from preloaded Raw for 15 events and 126 original time points ...\n",
      "0 bad epochs dropped\n"
     ]
    },
    {
     "name": "stderr",
     "output_type": "stream",
     "text": [
      "C:\\Users\\chakr\\AppData\\Local\\Temp\\ipykernel_13788\\3980180034.py:3: RuntimeWarning: This filename (C:\\School\\EE_Y3\\Q4\\BAP\\eeg_thesis_cnn_repo\\data\\external\\interim\\S030R03_filtered.fif) does not conform to MNE naming conventions. All raw files should end with raw.fif, raw_sss.fif, raw_tsss.fif, _meg.fif, _eeg.fif, _ieeg.fif, raw.fif.gz, raw_sss.fif.gz, raw_tsss.fif.gz, _meg.fif.gz, _eeg.fif.gz or _ieeg.fif.gz\n",
      "  raw = mne.io.read_raw_fif(fif_file, preload=True)\n",
      "c:\\Users\\chakr\\Anaconda3\\envs\\eeg_thesis\\lib\\site-packages\\pywt\\_functions.py:143: FutureWarning: Wavelets from the family cmor, without parameters specified in the name are deprecated. The name should takethe form cmorB-C where B and C are floats representing the bandwidth frequency and center frequency, respectively (example: cmor1.5-1.0).\n",
      "  wavelet = DiscreteContinuousWavelet(wavelet)\n",
      "c:\\Users\\chakr\\Anaconda3\\envs\\eeg_thesis\\lib\\site-packages\\pywt\\_cwt.py:117: FutureWarning: Wavelets from the family cmor, without parameters specified in the name are deprecated. The name should takethe form cmorB-C where B and C are floats representing the bandwidth frequency and center frequency, respectively (example: cmor1.5-1.0).\n",
      "  wavelet = DiscreteContinuousWavelet(wavelet)\n"
     ]
    },
    {
     "name": "stdout",
     "output_type": "stream",
     "text": [
      "Opening raw data file C:\\School\\EE_Y3\\Q4\\BAP\\eeg_thesis_cnn_repo\\data\\external\\interim\\S030R07_filtered.fif...\n",
      "Isotrak not found\n",
      "    Range : 0 ... 30999 =      0.000 ...   123.996 secs\n",
      "Ready.\n",
      "Reading 0 ... 30999  =      0.000 ...   123.996 secs...\n",
      "Used Annotations descriptions: ['T0', 'T1', 'T2']\n",
      "Not setting metadata\n",
      "15 matching events found\n",
      "No baseline correction applied\n",
      "0 projection items activated\n",
      "Using data from preloaded Raw for 15 events and 126 original time points ...\n",
      "0 bad epochs dropped\n"
     ]
    },
    {
     "name": "stderr",
     "output_type": "stream",
     "text": [
      "C:\\Users\\chakr\\AppData\\Local\\Temp\\ipykernel_13788\\3980180034.py:3: RuntimeWarning: This filename (C:\\School\\EE_Y3\\Q4\\BAP\\eeg_thesis_cnn_repo\\data\\external\\interim\\S030R07_filtered.fif) does not conform to MNE naming conventions. All raw files should end with raw.fif, raw_sss.fif, raw_tsss.fif, _meg.fif, _eeg.fif, _ieeg.fif, raw.fif.gz, raw_sss.fif.gz, raw_tsss.fif.gz, _meg.fif.gz, _eeg.fif.gz or _ieeg.fif.gz\n",
      "  raw = mne.io.read_raw_fif(fif_file, preload=True)\n",
      "c:\\Users\\chakr\\Anaconda3\\envs\\eeg_thesis\\lib\\site-packages\\pywt\\_functions.py:143: FutureWarning: Wavelets from the family cmor, without parameters specified in the name are deprecated. The name should takethe form cmorB-C where B and C are floats representing the bandwidth frequency and center frequency, respectively (example: cmor1.5-1.0).\n",
      "  wavelet = DiscreteContinuousWavelet(wavelet)\n",
      "c:\\Users\\chakr\\Anaconda3\\envs\\eeg_thesis\\lib\\site-packages\\pywt\\_cwt.py:117: FutureWarning: Wavelets from the family cmor, without parameters specified in the name are deprecated. The name should takethe form cmorB-C where B and C are floats representing the bandwidth frequency and center frequency, respectively (example: cmor1.5-1.0).\n",
      "  wavelet = DiscreteContinuousWavelet(wavelet)\n"
     ]
    },
    {
     "name": "stdout",
     "output_type": "stream",
     "text": [
      "Opening raw data file C:\\School\\EE_Y3\\Q4\\BAP\\eeg_thesis_cnn_repo\\data\\external\\interim\\S030R11_filtered.fif...\n",
      "Isotrak not found\n",
      "    Range : 0 ... 30999 =      0.000 ...   123.996 secs\n",
      "Ready.\n",
      "Reading 0 ... 30999  =      0.000 ...   123.996 secs...\n",
      "Used Annotations descriptions: ['T0', 'T1', 'T2']\n",
      "Not setting metadata\n",
      "15 matching events found\n",
      "No baseline correction applied\n",
      "0 projection items activated\n",
      "Using data from preloaded Raw for 15 events and 126 original time points ...\n",
      "0 bad epochs dropped\n"
     ]
    },
    {
     "name": "stderr",
     "output_type": "stream",
     "text": [
      "C:\\Users\\chakr\\AppData\\Local\\Temp\\ipykernel_13788\\3980180034.py:3: RuntimeWarning: This filename (C:\\School\\EE_Y3\\Q4\\BAP\\eeg_thesis_cnn_repo\\data\\external\\interim\\S030R11_filtered.fif) does not conform to MNE naming conventions. All raw files should end with raw.fif, raw_sss.fif, raw_tsss.fif, _meg.fif, _eeg.fif, _ieeg.fif, raw.fif.gz, raw_sss.fif.gz, raw_tsss.fif.gz, _meg.fif.gz, _eeg.fif.gz or _ieeg.fif.gz\n",
      "  raw = mne.io.read_raw_fif(fif_file, preload=True)\n",
      "c:\\Users\\chakr\\Anaconda3\\envs\\eeg_thesis\\lib\\site-packages\\pywt\\_functions.py:143: FutureWarning: Wavelets from the family cmor, without parameters specified in the name are deprecated. The name should takethe form cmorB-C where B and C are floats representing the bandwidth frequency and center frequency, respectively (example: cmor1.5-1.0).\n",
      "  wavelet = DiscreteContinuousWavelet(wavelet)\n",
      "c:\\Users\\chakr\\Anaconda3\\envs\\eeg_thesis\\lib\\site-packages\\pywt\\_cwt.py:117: FutureWarning: Wavelets from the family cmor, without parameters specified in the name are deprecated. The name should takethe form cmorB-C where B and C are floats representing the bandwidth frequency and center frequency, respectively (example: cmor1.5-1.0).\n",
      "  wavelet = DiscreteContinuousWavelet(wavelet)\n"
     ]
    },
    {
     "name": "stdout",
     "output_type": "stream",
     "text": [
      "Opening raw data file C:\\School\\EE_Y3\\Q4\\BAP\\eeg_thesis_cnn_repo\\data\\external\\interim\\S031R03_filtered.fif...\n",
      "Isotrak not found\n",
      "    Range : 0 ... 30749 =      0.000 ...   122.996 secs\n",
      "Ready.\n",
      "Reading 0 ... 30749  =      0.000 ...   122.996 secs...\n",
      "Used Annotations descriptions: ['T0', 'T1', 'T2']\n",
      "Not setting metadata\n",
      "15 matching events found\n",
      "No baseline correction applied\n",
      "0 projection items activated\n",
      "Using data from preloaded Raw for 15 events and 126 original time points ...\n",
      "0 bad epochs dropped\n"
     ]
    },
    {
     "name": "stderr",
     "output_type": "stream",
     "text": [
      "C:\\Users\\chakr\\AppData\\Local\\Temp\\ipykernel_13788\\3980180034.py:3: RuntimeWarning: This filename (C:\\School\\EE_Y3\\Q4\\BAP\\eeg_thesis_cnn_repo\\data\\external\\interim\\S031R03_filtered.fif) does not conform to MNE naming conventions. All raw files should end with raw.fif, raw_sss.fif, raw_tsss.fif, _meg.fif, _eeg.fif, _ieeg.fif, raw.fif.gz, raw_sss.fif.gz, raw_tsss.fif.gz, _meg.fif.gz, _eeg.fif.gz or _ieeg.fif.gz\n",
      "  raw = mne.io.read_raw_fif(fif_file, preload=True)\n",
      "c:\\Users\\chakr\\Anaconda3\\envs\\eeg_thesis\\lib\\site-packages\\pywt\\_functions.py:143: FutureWarning: Wavelets from the family cmor, without parameters specified in the name are deprecated. The name should takethe form cmorB-C where B and C are floats representing the bandwidth frequency and center frequency, respectively (example: cmor1.5-1.0).\n",
      "  wavelet = DiscreteContinuousWavelet(wavelet)\n",
      "c:\\Users\\chakr\\Anaconda3\\envs\\eeg_thesis\\lib\\site-packages\\pywt\\_cwt.py:117: FutureWarning: Wavelets from the family cmor, without parameters specified in the name are deprecated. The name should takethe form cmorB-C where B and C are floats representing the bandwidth frequency and center frequency, respectively (example: cmor1.5-1.0).\n",
      "  wavelet = DiscreteContinuousWavelet(wavelet)\n"
     ]
    },
    {
     "name": "stdout",
     "output_type": "stream",
     "text": [
      "Opening raw data file C:\\School\\EE_Y3\\Q4\\BAP\\eeg_thesis_cnn_repo\\data\\external\\interim\\S031R07_filtered.fif...\n",
      "Isotrak not found\n",
      "    Range : 0 ... 30749 =      0.000 ...   122.996 secs\n",
      "Ready.\n",
      "Reading 0 ... 30749  =      0.000 ...   122.996 secs...\n",
      "Used Annotations descriptions: ['T0', 'T1', 'T2']\n",
      "Not setting metadata\n",
      "15 matching events found\n",
      "No baseline correction applied\n",
      "0 projection items activated\n",
      "Using data from preloaded Raw for 15 events and 126 original time points ...\n",
      "0 bad epochs dropped\n"
     ]
    },
    {
     "name": "stderr",
     "output_type": "stream",
     "text": [
      "C:\\Users\\chakr\\AppData\\Local\\Temp\\ipykernel_13788\\3980180034.py:3: RuntimeWarning: This filename (C:\\School\\EE_Y3\\Q4\\BAP\\eeg_thesis_cnn_repo\\data\\external\\interim\\S031R07_filtered.fif) does not conform to MNE naming conventions. All raw files should end with raw.fif, raw_sss.fif, raw_tsss.fif, _meg.fif, _eeg.fif, _ieeg.fif, raw.fif.gz, raw_sss.fif.gz, raw_tsss.fif.gz, _meg.fif.gz, _eeg.fif.gz or _ieeg.fif.gz\n",
      "  raw = mne.io.read_raw_fif(fif_file, preload=True)\n",
      "c:\\Users\\chakr\\Anaconda3\\envs\\eeg_thesis\\lib\\site-packages\\pywt\\_functions.py:143: FutureWarning: Wavelets from the family cmor, without parameters specified in the name are deprecated. The name should takethe form cmorB-C where B and C are floats representing the bandwidth frequency and center frequency, respectively (example: cmor1.5-1.0).\n",
      "  wavelet = DiscreteContinuousWavelet(wavelet)\n",
      "c:\\Users\\chakr\\Anaconda3\\envs\\eeg_thesis\\lib\\site-packages\\pywt\\_cwt.py:117: FutureWarning: Wavelets from the family cmor, without parameters specified in the name are deprecated. The name should takethe form cmorB-C where B and C are floats representing the bandwidth frequency and center frequency, respectively (example: cmor1.5-1.0).\n",
      "  wavelet = DiscreteContinuousWavelet(wavelet)\n"
     ]
    },
    {
     "name": "stdout",
     "output_type": "stream",
     "text": [
      "Opening raw data file C:\\School\\EE_Y3\\Q4\\BAP\\eeg_thesis_cnn_repo\\data\\external\\interim\\S031R11_filtered.fif...\n",
      "Isotrak not found\n",
      "    Range : 0 ... 30749 =      0.000 ...   122.996 secs\n",
      "Ready.\n",
      "Reading 0 ... 30749  =      0.000 ...   122.996 secs...\n",
      "Used Annotations descriptions: ['T0', 'T1', 'T2']\n",
      "Not setting metadata\n",
      "15 matching events found\n",
      "No baseline correction applied\n",
      "0 projection items activated\n",
      "Using data from preloaded Raw for 15 events and 126 original time points ...\n",
      "0 bad epochs dropped\n"
     ]
    },
    {
     "name": "stderr",
     "output_type": "stream",
     "text": [
      "C:\\Users\\chakr\\AppData\\Local\\Temp\\ipykernel_13788\\3980180034.py:3: RuntimeWarning: This filename (C:\\School\\EE_Y3\\Q4\\BAP\\eeg_thesis_cnn_repo\\data\\external\\interim\\S031R11_filtered.fif) does not conform to MNE naming conventions. All raw files should end with raw.fif, raw_sss.fif, raw_tsss.fif, _meg.fif, _eeg.fif, _ieeg.fif, raw.fif.gz, raw_sss.fif.gz, raw_tsss.fif.gz, _meg.fif.gz, _eeg.fif.gz or _ieeg.fif.gz\n",
      "  raw = mne.io.read_raw_fif(fif_file, preload=True)\n",
      "c:\\Users\\chakr\\Anaconda3\\envs\\eeg_thesis\\lib\\site-packages\\pywt\\_functions.py:143: FutureWarning: Wavelets from the family cmor, without parameters specified in the name are deprecated. The name should takethe form cmorB-C where B and C are floats representing the bandwidth frequency and center frequency, respectively (example: cmor1.5-1.0).\n",
      "  wavelet = DiscreteContinuousWavelet(wavelet)\n",
      "c:\\Users\\chakr\\Anaconda3\\envs\\eeg_thesis\\lib\\site-packages\\pywt\\_cwt.py:117: FutureWarning: Wavelets from the family cmor, without parameters specified in the name are deprecated. The name should takethe form cmorB-C where B and C are floats representing the bandwidth frequency and center frequency, respectively (example: cmor1.5-1.0).\n",
      "  wavelet = DiscreteContinuousWavelet(wavelet)\n"
     ]
    },
    {
     "name": "stdout",
     "output_type": "stream",
     "text": [
      "Opening raw data file C:\\School\\EE_Y3\\Q4\\BAP\\eeg_thesis_cnn_repo\\data\\external\\interim\\S032R03_filtered.fif...\n",
      "Isotrak not found\n",
      "    Range : 0 ... 31249 =      0.000 ...   124.996 secs\n",
      "Ready.\n",
      "Reading 0 ... 31249  =      0.000 ...   124.996 secs...\n",
      "Used Annotations descriptions: ['T0', 'T1', 'T2']\n",
      "Not setting metadata\n",
      "15 matching events found\n",
      "No baseline correction applied\n",
      "0 projection items activated\n",
      "Using data from preloaded Raw for 15 events and 126 original time points ...\n",
      "0 bad epochs dropped\n"
     ]
    },
    {
     "name": "stderr",
     "output_type": "stream",
     "text": [
      "C:\\Users\\chakr\\AppData\\Local\\Temp\\ipykernel_13788\\3980180034.py:3: RuntimeWarning: This filename (C:\\School\\EE_Y3\\Q4\\BAP\\eeg_thesis_cnn_repo\\data\\external\\interim\\S032R03_filtered.fif) does not conform to MNE naming conventions. All raw files should end with raw.fif, raw_sss.fif, raw_tsss.fif, _meg.fif, _eeg.fif, _ieeg.fif, raw.fif.gz, raw_sss.fif.gz, raw_tsss.fif.gz, _meg.fif.gz, _eeg.fif.gz or _ieeg.fif.gz\n",
      "  raw = mne.io.read_raw_fif(fif_file, preload=True)\n",
      "c:\\Users\\chakr\\Anaconda3\\envs\\eeg_thesis\\lib\\site-packages\\pywt\\_functions.py:143: FutureWarning: Wavelets from the family cmor, without parameters specified in the name are deprecated. The name should takethe form cmorB-C where B and C are floats representing the bandwidth frequency and center frequency, respectively (example: cmor1.5-1.0).\n",
      "  wavelet = DiscreteContinuousWavelet(wavelet)\n",
      "c:\\Users\\chakr\\Anaconda3\\envs\\eeg_thesis\\lib\\site-packages\\pywt\\_cwt.py:117: FutureWarning: Wavelets from the family cmor, without parameters specified in the name are deprecated. The name should takethe form cmorB-C where B and C are floats representing the bandwidth frequency and center frequency, respectively (example: cmor1.5-1.0).\n",
      "  wavelet = DiscreteContinuousWavelet(wavelet)\n"
     ]
    },
    {
     "name": "stdout",
     "output_type": "stream",
     "text": [
      "Opening raw data file C:\\School\\EE_Y3\\Q4\\BAP\\eeg_thesis_cnn_repo\\data\\external\\interim\\S032R07_filtered.fif...\n",
      "Isotrak not found\n",
      "    Range : 0 ... 31249 =      0.000 ...   124.996 secs\n",
      "Ready.\n",
      "Reading 0 ... 31249  =      0.000 ...   124.996 secs...\n",
      "Used Annotations descriptions: ['T0', 'T1', 'T2']\n",
      "Not setting metadata\n",
      "15 matching events found\n",
      "No baseline correction applied\n",
      "0 projection items activated\n",
      "Using data from preloaded Raw for 15 events and 126 original time points ...\n",
      "0 bad epochs dropped\n"
     ]
    },
    {
     "name": "stderr",
     "output_type": "stream",
     "text": [
      "C:\\Users\\chakr\\AppData\\Local\\Temp\\ipykernel_13788\\3980180034.py:3: RuntimeWarning: This filename (C:\\School\\EE_Y3\\Q4\\BAP\\eeg_thesis_cnn_repo\\data\\external\\interim\\S032R07_filtered.fif) does not conform to MNE naming conventions. All raw files should end with raw.fif, raw_sss.fif, raw_tsss.fif, _meg.fif, _eeg.fif, _ieeg.fif, raw.fif.gz, raw_sss.fif.gz, raw_tsss.fif.gz, _meg.fif.gz, _eeg.fif.gz or _ieeg.fif.gz\n",
      "  raw = mne.io.read_raw_fif(fif_file, preload=True)\n",
      "c:\\Users\\chakr\\Anaconda3\\envs\\eeg_thesis\\lib\\site-packages\\pywt\\_functions.py:143: FutureWarning: Wavelets from the family cmor, without parameters specified in the name are deprecated. The name should takethe form cmorB-C where B and C are floats representing the bandwidth frequency and center frequency, respectively (example: cmor1.5-1.0).\n",
      "  wavelet = DiscreteContinuousWavelet(wavelet)\n",
      "c:\\Users\\chakr\\Anaconda3\\envs\\eeg_thesis\\lib\\site-packages\\pywt\\_cwt.py:117: FutureWarning: Wavelets from the family cmor, without parameters specified in the name are deprecated. The name should takethe form cmorB-C where B and C are floats representing the bandwidth frequency and center frequency, respectively (example: cmor1.5-1.0).\n",
      "  wavelet = DiscreteContinuousWavelet(wavelet)\n"
     ]
    },
    {
     "name": "stdout",
     "output_type": "stream",
     "text": [
      "Opening raw data file C:\\School\\EE_Y3\\Q4\\BAP\\eeg_thesis_cnn_repo\\data\\external\\interim\\S032R11_filtered.fif...\n",
      "Isotrak not found\n",
      "    Range : 0 ... 31249 =      0.000 ...   124.996 secs\n",
      "Ready.\n",
      "Reading 0 ... 31249  =      0.000 ...   124.996 secs...\n",
      "Used Annotations descriptions: ['T0', 'T1', 'T2']\n",
      "Not setting metadata\n",
      "15 matching events found\n",
      "No baseline correction applied\n",
      "0 projection items activated\n",
      "Using data from preloaded Raw for 15 events and 126 original time points ...\n",
      "0 bad epochs dropped\n"
     ]
    },
    {
     "name": "stderr",
     "output_type": "stream",
     "text": [
      "C:\\Users\\chakr\\AppData\\Local\\Temp\\ipykernel_13788\\3980180034.py:3: RuntimeWarning: This filename (C:\\School\\EE_Y3\\Q4\\BAP\\eeg_thesis_cnn_repo\\data\\external\\interim\\S032R11_filtered.fif) does not conform to MNE naming conventions. All raw files should end with raw.fif, raw_sss.fif, raw_tsss.fif, _meg.fif, _eeg.fif, _ieeg.fif, raw.fif.gz, raw_sss.fif.gz, raw_tsss.fif.gz, _meg.fif.gz, _eeg.fif.gz or _ieeg.fif.gz\n",
      "  raw = mne.io.read_raw_fif(fif_file, preload=True)\n",
      "c:\\Users\\chakr\\Anaconda3\\envs\\eeg_thesis\\lib\\site-packages\\pywt\\_functions.py:143: FutureWarning: Wavelets from the family cmor, without parameters specified in the name are deprecated. The name should takethe form cmorB-C where B and C are floats representing the bandwidth frequency and center frequency, respectively (example: cmor1.5-1.0).\n",
      "  wavelet = DiscreteContinuousWavelet(wavelet)\n",
      "c:\\Users\\chakr\\Anaconda3\\envs\\eeg_thesis\\lib\\site-packages\\pywt\\_cwt.py:117: FutureWarning: Wavelets from the family cmor, without parameters specified in the name are deprecated. The name should takethe form cmorB-C where B and C are floats representing the bandwidth frequency and center frequency, respectively (example: cmor1.5-1.0).\n",
      "  wavelet = DiscreteContinuousWavelet(wavelet)\n"
     ]
    },
    {
     "name": "stdout",
     "output_type": "stream",
     "text": [
      "Opening raw data file C:\\School\\EE_Y3\\Q4\\BAP\\eeg_thesis_cnn_repo\\data\\external\\interim\\S033R03_filtered.fif...\n",
      "Isotrak not found\n",
      "    Range : 0 ... 30749 =      0.000 ...   122.996 secs\n",
      "Ready.\n",
      "Reading 0 ... 30749  =      0.000 ...   122.996 secs...\n",
      "Used Annotations descriptions: ['T0', 'T1', 'T2']\n",
      "Not setting metadata\n",
      "15 matching events found\n",
      "No baseline correction applied\n",
      "0 projection items activated\n",
      "Using data from preloaded Raw for 15 events and 126 original time points ...\n",
      "0 bad epochs dropped\n"
     ]
    },
    {
     "name": "stderr",
     "output_type": "stream",
     "text": [
      "C:\\Users\\chakr\\AppData\\Local\\Temp\\ipykernel_13788\\3980180034.py:3: RuntimeWarning: This filename (C:\\School\\EE_Y3\\Q4\\BAP\\eeg_thesis_cnn_repo\\data\\external\\interim\\S033R03_filtered.fif) does not conform to MNE naming conventions. All raw files should end with raw.fif, raw_sss.fif, raw_tsss.fif, _meg.fif, _eeg.fif, _ieeg.fif, raw.fif.gz, raw_sss.fif.gz, raw_tsss.fif.gz, _meg.fif.gz, _eeg.fif.gz or _ieeg.fif.gz\n",
      "  raw = mne.io.read_raw_fif(fif_file, preload=True)\n",
      "c:\\Users\\chakr\\Anaconda3\\envs\\eeg_thesis\\lib\\site-packages\\pywt\\_functions.py:143: FutureWarning: Wavelets from the family cmor, without parameters specified in the name are deprecated. The name should takethe form cmorB-C where B and C are floats representing the bandwidth frequency and center frequency, respectively (example: cmor1.5-1.0).\n",
      "  wavelet = DiscreteContinuousWavelet(wavelet)\n",
      "c:\\Users\\chakr\\Anaconda3\\envs\\eeg_thesis\\lib\\site-packages\\pywt\\_cwt.py:117: FutureWarning: Wavelets from the family cmor, without parameters specified in the name are deprecated. The name should takethe form cmorB-C where B and C are floats representing the bandwidth frequency and center frequency, respectively (example: cmor1.5-1.0).\n",
      "  wavelet = DiscreteContinuousWavelet(wavelet)\n"
     ]
    },
    {
     "name": "stdout",
     "output_type": "stream",
     "text": [
      "Opening raw data file C:\\School\\EE_Y3\\Q4\\BAP\\eeg_thesis_cnn_repo\\data\\external\\interim\\S033R07_filtered.fif...\n",
      "Isotrak not found\n",
      "    Range : 0 ... 30749 =      0.000 ...   122.996 secs\n",
      "Ready.\n",
      "Reading 0 ... 30749  =      0.000 ...   122.996 secs...\n",
      "Used Annotations descriptions: ['T0', 'T1', 'T2']\n",
      "Not setting metadata\n",
      "15 matching events found\n",
      "No baseline correction applied\n",
      "0 projection items activated\n",
      "Using data from preloaded Raw for 15 events and 126 original time points ...\n",
      "0 bad epochs dropped\n"
     ]
    },
    {
     "name": "stderr",
     "output_type": "stream",
     "text": [
      "C:\\Users\\chakr\\AppData\\Local\\Temp\\ipykernel_13788\\3980180034.py:3: RuntimeWarning: This filename (C:\\School\\EE_Y3\\Q4\\BAP\\eeg_thesis_cnn_repo\\data\\external\\interim\\S033R07_filtered.fif) does not conform to MNE naming conventions. All raw files should end with raw.fif, raw_sss.fif, raw_tsss.fif, _meg.fif, _eeg.fif, _ieeg.fif, raw.fif.gz, raw_sss.fif.gz, raw_tsss.fif.gz, _meg.fif.gz, _eeg.fif.gz or _ieeg.fif.gz\n",
      "  raw = mne.io.read_raw_fif(fif_file, preload=True)\n",
      "c:\\Users\\chakr\\Anaconda3\\envs\\eeg_thesis\\lib\\site-packages\\pywt\\_functions.py:143: FutureWarning: Wavelets from the family cmor, without parameters specified in the name are deprecated. The name should takethe form cmorB-C where B and C are floats representing the bandwidth frequency and center frequency, respectively (example: cmor1.5-1.0).\n",
      "  wavelet = DiscreteContinuousWavelet(wavelet)\n",
      "c:\\Users\\chakr\\Anaconda3\\envs\\eeg_thesis\\lib\\site-packages\\pywt\\_cwt.py:117: FutureWarning: Wavelets from the family cmor, without parameters specified in the name are deprecated. The name should takethe form cmorB-C where B and C are floats representing the bandwidth frequency and center frequency, respectively (example: cmor1.5-1.0).\n",
      "  wavelet = DiscreteContinuousWavelet(wavelet)\n"
     ]
    },
    {
     "name": "stdout",
     "output_type": "stream",
     "text": [
      "Opening raw data file C:\\School\\EE_Y3\\Q4\\BAP\\eeg_thesis_cnn_repo\\data\\external\\interim\\S033R11_filtered.fif...\n",
      "Isotrak not found\n",
      "    Range : 0 ... 30749 =      0.000 ...   122.996 secs\n",
      "Ready.\n",
      "Reading 0 ... 30749  =      0.000 ...   122.996 secs...\n",
      "Used Annotations descriptions: ['T0', 'T1', 'T2']\n",
      "Not setting metadata\n",
      "15 matching events found\n",
      "No baseline correction applied\n",
      "0 projection items activated\n",
      "Using data from preloaded Raw for 15 events and 126 original time points ...\n",
      "0 bad epochs dropped\n"
     ]
    },
    {
     "name": "stderr",
     "output_type": "stream",
     "text": [
      "C:\\Users\\chakr\\AppData\\Local\\Temp\\ipykernel_13788\\3980180034.py:3: RuntimeWarning: This filename (C:\\School\\EE_Y3\\Q4\\BAP\\eeg_thesis_cnn_repo\\data\\external\\interim\\S033R11_filtered.fif) does not conform to MNE naming conventions. All raw files should end with raw.fif, raw_sss.fif, raw_tsss.fif, _meg.fif, _eeg.fif, _ieeg.fif, raw.fif.gz, raw_sss.fif.gz, raw_tsss.fif.gz, _meg.fif.gz, _eeg.fif.gz or _ieeg.fif.gz\n",
      "  raw = mne.io.read_raw_fif(fif_file, preload=True)\n",
      "c:\\Users\\chakr\\Anaconda3\\envs\\eeg_thesis\\lib\\site-packages\\pywt\\_functions.py:143: FutureWarning: Wavelets from the family cmor, without parameters specified in the name are deprecated. The name should takethe form cmorB-C where B and C are floats representing the bandwidth frequency and center frequency, respectively (example: cmor1.5-1.0).\n",
      "  wavelet = DiscreteContinuousWavelet(wavelet)\n",
      "c:\\Users\\chakr\\Anaconda3\\envs\\eeg_thesis\\lib\\site-packages\\pywt\\_cwt.py:117: FutureWarning: Wavelets from the family cmor, without parameters specified in the name are deprecated. The name should takethe form cmorB-C where B and C are floats representing the bandwidth frequency and center frequency, respectively (example: cmor1.5-1.0).\n",
      "  wavelet = DiscreteContinuousWavelet(wavelet)\n"
     ]
    },
    {
     "name": "stdout",
     "output_type": "stream",
     "text": [
      "Opening raw data file C:\\School\\EE_Y3\\Q4\\BAP\\eeg_thesis_cnn_repo\\data\\external\\interim\\S034R03_filtered.fif...\n",
      "Isotrak not found\n",
      "    Range : 0 ... 30749 =      0.000 ...   122.996 secs\n",
      "Ready.\n",
      "Reading 0 ... 30749  =      0.000 ...   122.996 secs...\n",
      "Used Annotations descriptions: ['T0', 'T1', 'T2']\n",
      "Not setting metadata\n",
      "15 matching events found\n",
      "No baseline correction applied\n",
      "0 projection items activated\n",
      "Using data from preloaded Raw for 15 events and 126 original time points ...\n",
      "0 bad epochs dropped\n"
     ]
    },
    {
     "name": "stderr",
     "output_type": "stream",
     "text": [
      "C:\\Users\\chakr\\AppData\\Local\\Temp\\ipykernel_13788\\3980180034.py:3: RuntimeWarning: This filename (C:\\School\\EE_Y3\\Q4\\BAP\\eeg_thesis_cnn_repo\\data\\external\\interim\\S034R03_filtered.fif) does not conform to MNE naming conventions. All raw files should end with raw.fif, raw_sss.fif, raw_tsss.fif, _meg.fif, _eeg.fif, _ieeg.fif, raw.fif.gz, raw_sss.fif.gz, raw_tsss.fif.gz, _meg.fif.gz, _eeg.fif.gz or _ieeg.fif.gz\n",
      "  raw = mne.io.read_raw_fif(fif_file, preload=True)\n",
      "c:\\Users\\chakr\\Anaconda3\\envs\\eeg_thesis\\lib\\site-packages\\pywt\\_functions.py:143: FutureWarning: Wavelets from the family cmor, without parameters specified in the name are deprecated. The name should takethe form cmorB-C where B and C are floats representing the bandwidth frequency and center frequency, respectively (example: cmor1.5-1.0).\n",
      "  wavelet = DiscreteContinuousWavelet(wavelet)\n",
      "c:\\Users\\chakr\\Anaconda3\\envs\\eeg_thesis\\lib\\site-packages\\pywt\\_cwt.py:117: FutureWarning: Wavelets from the family cmor, without parameters specified in the name are deprecated. The name should takethe form cmorB-C where B and C are floats representing the bandwidth frequency and center frequency, respectively (example: cmor1.5-1.0).\n",
      "  wavelet = DiscreteContinuousWavelet(wavelet)\n"
     ]
    },
    {
     "name": "stdout",
     "output_type": "stream",
     "text": [
      "Opening raw data file C:\\School\\EE_Y3\\Q4\\BAP\\eeg_thesis_cnn_repo\\data\\external\\interim\\S034R07_filtered.fif...\n",
      "Isotrak not found\n",
      "    Range : 0 ... 30749 =      0.000 ...   122.996 secs\n",
      "Ready.\n",
      "Reading 0 ... 30749  =      0.000 ...   122.996 secs...\n",
      "Used Annotations descriptions: ['T0', 'T1', 'T2']\n",
      "Not setting metadata\n",
      "15 matching events found\n",
      "No baseline correction applied\n",
      "0 projection items activated\n",
      "Using data from preloaded Raw for 15 events and 126 original time points ...\n",
      "0 bad epochs dropped\n"
     ]
    },
    {
     "name": "stderr",
     "output_type": "stream",
     "text": [
      "C:\\Users\\chakr\\AppData\\Local\\Temp\\ipykernel_13788\\3980180034.py:3: RuntimeWarning: This filename (C:\\School\\EE_Y3\\Q4\\BAP\\eeg_thesis_cnn_repo\\data\\external\\interim\\S034R07_filtered.fif) does not conform to MNE naming conventions. All raw files should end with raw.fif, raw_sss.fif, raw_tsss.fif, _meg.fif, _eeg.fif, _ieeg.fif, raw.fif.gz, raw_sss.fif.gz, raw_tsss.fif.gz, _meg.fif.gz, _eeg.fif.gz or _ieeg.fif.gz\n",
      "  raw = mne.io.read_raw_fif(fif_file, preload=True)\n",
      "c:\\Users\\chakr\\Anaconda3\\envs\\eeg_thesis\\lib\\site-packages\\pywt\\_functions.py:143: FutureWarning: Wavelets from the family cmor, without parameters specified in the name are deprecated. The name should takethe form cmorB-C where B and C are floats representing the bandwidth frequency and center frequency, respectively (example: cmor1.5-1.0).\n",
      "  wavelet = DiscreteContinuousWavelet(wavelet)\n",
      "c:\\Users\\chakr\\Anaconda3\\envs\\eeg_thesis\\lib\\site-packages\\pywt\\_cwt.py:117: FutureWarning: Wavelets from the family cmor, without parameters specified in the name are deprecated. The name should takethe form cmorB-C where B and C are floats representing the bandwidth frequency and center frequency, respectively (example: cmor1.5-1.0).\n",
      "  wavelet = DiscreteContinuousWavelet(wavelet)\n"
     ]
    },
    {
     "name": "stdout",
     "output_type": "stream",
     "text": [
      "Opening raw data file C:\\School\\EE_Y3\\Q4\\BAP\\eeg_thesis_cnn_repo\\data\\external\\interim\\S034R11_filtered.fif...\n",
      "Isotrak not found\n",
      "    Range : 0 ... 30749 =      0.000 ...   122.996 secs\n",
      "Ready.\n",
      "Reading 0 ... 30749  =      0.000 ...   122.996 secs...\n",
      "Used Annotations descriptions: ['T0', 'T1', 'T2']\n",
      "Not setting metadata\n",
      "15 matching events found\n",
      "No baseline correction applied\n",
      "0 projection items activated\n",
      "Using data from preloaded Raw for 15 events and 126 original time points ...\n",
      "0 bad epochs dropped\n"
     ]
    },
    {
     "name": "stderr",
     "output_type": "stream",
     "text": [
      "C:\\Users\\chakr\\AppData\\Local\\Temp\\ipykernel_13788\\3980180034.py:3: RuntimeWarning: This filename (C:\\School\\EE_Y3\\Q4\\BAP\\eeg_thesis_cnn_repo\\data\\external\\interim\\S034R11_filtered.fif) does not conform to MNE naming conventions. All raw files should end with raw.fif, raw_sss.fif, raw_tsss.fif, _meg.fif, _eeg.fif, _ieeg.fif, raw.fif.gz, raw_sss.fif.gz, raw_tsss.fif.gz, _meg.fif.gz, _eeg.fif.gz or _ieeg.fif.gz\n",
      "  raw = mne.io.read_raw_fif(fif_file, preload=True)\n",
      "c:\\Users\\chakr\\Anaconda3\\envs\\eeg_thesis\\lib\\site-packages\\pywt\\_functions.py:143: FutureWarning: Wavelets from the family cmor, without parameters specified in the name are deprecated. The name should takethe form cmorB-C where B and C are floats representing the bandwidth frequency and center frequency, respectively (example: cmor1.5-1.0).\n",
      "  wavelet = DiscreteContinuousWavelet(wavelet)\n",
      "c:\\Users\\chakr\\Anaconda3\\envs\\eeg_thesis\\lib\\site-packages\\pywt\\_cwt.py:117: FutureWarning: Wavelets from the family cmor, without parameters specified in the name are deprecated. The name should takethe form cmorB-C where B and C are floats representing the bandwidth frequency and center frequency, respectively (example: cmor1.5-1.0).\n",
      "  wavelet = DiscreteContinuousWavelet(wavelet)\n"
     ]
    },
    {
     "name": "stdout",
     "output_type": "stream",
     "text": [
      "Opening raw data file C:\\School\\EE_Y3\\Q4\\BAP\\eeg_thesis_cnn_repo\\data\\external\\interim\\S035R03_filtered.fif...\n",
      "Isotrak not found\n",
      "    Range : 0 ... 31249 =      0.000 ...   124.996 secs\n",
      "Ready.\n",
      "Reading 0 ... 31249  =      0.000 ...   124.996 secs...\n",
      "Used Annotations descriptions: ['T0', 'T1', 'T2']\n",
      "Not setting metadata\n",
      "15 matching events found\n",
      "No baseline correction applied\n",
      "0 projection items activated\n",
      "Using data from preloaded Raw for 15 events and 126 original time points ...\n",
      "0 bad epochs dropped\n"
     ]
    },
    {
     "name": "stderr",
     "output_type": "stream",
     "text": [
      "C:\\Users\\chakr\\AppData\\Local\\Temp\\ipykernel_13788\\3980180034.py:3: RuntimeWarning: This filename (C:\\School\\EE_Y3\\Q4\\BAP\\eeg_thesis_cnn_repo\\data\\external\\interim\\S035R03_filtered.fif) does not conform to MNE naming conventions. All raw files should end with raw.fif, raw_sss.fif, raw_tsss.fif, _meg.fif, _eeg.fif, _ieeg.fif, raw.fif.gz, raw_sss.fif.gz, raw_tsss.fif.gz, _meg.fif.gz, _eeg.fif.gz or _ieeg.fif.gz\n",
      "  raw = mne.io.read_raw_fif(fif_file, preload=True)\n",
      "c:\\Users\\chakr\\Anaconda3\\envs\\eeg_thesis\\lib\\site-packages\\pywt\\_functions.py:143: FutureWarning: Wavelets from the family cmor, without parameters specified in the name are deprecated. The name should takethe form cmorB-C where B and C are floats representing the bandwidth frequency and center frequency, respectively (example: cmor1.5-1.0).\n",
      "  wavelet = DiscreteContinuousWavelet(wavelet)\n",
      "c:\\Users\\chakr\\Anaconda3\\envs\\eeg_thesis\\lib\\site-packages\\pywt\\_cwt.py:117: FutureWarning: Wavelets from the family cmor, without parameters specified in the name are deprecated. The name should takethe form cmorB-C where B and C are floats representing the bandwidth frequency and center frequency, respectively (example: cmor1.5-1.0).\n",
      "  wavelet = DiscreteContinuousWavelet(wavelet)\n"
     ]
    },
    {
     "name": "stdout",
     "output_type": "stream",
     "text": [
      "Opening raw data file C:\\School\\EE_Y3\\Q4\\BAP\\eeg_thesis_cnn_repo\\data\\external\\interim\\S035R07_filtered.fif...\n",
      "Isotrak not found\n",
      "    Range : 0 ... 31249 =      0.000 ...   124.996 secs\n",
      "Ready.\n",
      "Reading 0 ... 31249  =      0.000 ...   124.996 secs...\n",
      "Used Annotations descriptions: ['T0', 'T1', 'T2']\n",
      "Not setting metadata\n",
      "15 matching events found\n",
      "No baseline correction applied\n",
      "0 projection items activated\n",
      "Using data from preloaded Raw for 15 events and 126 original time points ...\n",
      "0 bad epochs dropped\n"
     ]
    },
    {
     "name": "stderr",
     "output_type": "stream",
     "text": [
      "C:\\Users\\chakr\\AppData\\Local\\Temp\\ipykernel_13788\\3980180034.py:3: RuntimeWarning: This filename (C:\\School\\EE_Y3\\Q4\\BAP\\eeg_thesis_cnn_repo\\data\\external\\interim\\S035R07_filtered.fif) does not conform to MNE naming conventions. All raw files should end with raw.fif, raw_sss.fif, raw_tsss.fif, _meg.fif, _eeg.fif, _ieeg.fif, raw.fif.gz, raw_sss.fif.gz, raw_tsss.fif.gz, _meg.fif.gz, _eeg.fif.gz or _ieeg.fif.gz\n",
      "  raw = mne.io.read_raw_fif(fif_file, preload=True)\n",
      "c:\\Users\\chakr\\Anaconda3\\envs\\eeg_thesis\\lib\\site-packages\\pywt\\_functions.py:143: FutureWarning: Wavelets from the family cmor, without parameters specified in the name are deprecated. The name should takethe form cmorB-C where B and C are floats representing the bandwidth frequency and center frequency, respectively (example: cmor1.5-1.0).\n",
      "  wavelet = DiscreteContinuousWavelet(wavelet)\n",
      "c:\\Users\\chakr\\Anaconda3\\envs\\eeg_thesis\\lib\\site-packages\\pywt\\_cwt.py:117: FutureWarning: Wavelets from the family cmor, without parameters specified in the name are deprecated. The name should takethe form cmorB-C where B and C are floats representing the bandwidth frequency and center frequency, respectively (example: cmor1.5-1.0).\n",
      "  wavelet = DiscreteContinuousWavelet(wavelet)\n"
     ]
    },
    {
     "name": "stdout",
     "output_type": "stream",
     "text": [
      "Opening raw data file C:\\School\\EE_Y3\\Q4\\BAP\\eeg_thesis_cnn_repo\\data\\external\\interim\\S035R11_filtered.fif...\n",
      "Isotrak not found\n",
      "    Range : 0 ... 31249 =      0.000 ...   124.996 secs\n",
      "Ready.\n",
      "Reading 0 ... 31249  =      0.000 ...   124.996 secs...\n",
      "Used Annotations descriptions: ['T0', 'T1', 'T2']\n",
      "Not setting metadata\n",
      "15 matching events found\n",
      "No baseline correction applied\n",
      "0 projection items activated\n",
      "Using data from preloaded Raw for 15 events and 126 original time points ...\n",
      "0 bad epochs dropped\n"
     ]
    },
    {
     "name": "stderr",
     "output_type": "stream",
     "text": [
      "C:\\Users\\chakr\\AppData\\Local\\Temp\\ipykernel_13788\\3980180034.py:3: RuntimeWarning: This filename (C:\\School\\EE_Y3\\Q4\\BAP\\eeg_thesis_cnn_repo\\data\\external\\interim\\S035R11_filtered.fif) does not conform to MNE naming conventions. All raw files should end with raw.fif, raw_sss.fif, raw_tsss.fif, _meg.fif, _eeg.fif, _ieeg.fif, raw.fif.gz, raw_sss.fif.gz, raw_tsss.fif.gz, _meg.fif.gz, _eeg.fif.gz or _ieeg.fif.gz\n",
      "  raw = mne.io.read_raw_fif(fif_file, preload=True)\n",
      "c:\\Users\\chakr\\Anaconda3\\envs\\eeg_thesis\\lib\\site-packages\\pywt\\_functions.py:143: FutureWarning: Wavelets from the family cmor, without parameters specified in the name are deprecated. The name should takethe form cmorB-C where B and C are floats representing the bandwidth frequency and center frequency, respectively (example: cmor1.5-1.0).\n",
      "  wavelet = DiscreteContinuousWavelet(wavelet)\n",
      "c:\\Users\\chakr\\Anaconda3\\envs\\eeg_thesis\\lib\\site-packages\\pywt\\_cwt.py:117: FutureWarning: Wavelets from the family cmor, without parameters specified in the name are deprecated. The name should takethe form cmorB-C where B and C are floats representing the bandwidth frequency and center frequency, respectively (example: cmor1.5-1.0).\n",
      "  wavelet = DiscreteContinuousWavelet(wavelet)\n"
     ]
    },
    {
     "name": "stdout",
     "output_type": "stream",
     "text": [
      "Opening raw data file C:\\School\\EE_Y3\\Q4\\BAP\\eeg_thesis_cnn_repo\\data\\external\\interim\\S036R03_filtered.fif...\n",
      "Isotrak not found\n",
      "    Range : 0 ... 30749 =      0.000 ...   122.996 secs\n",
      "Ready.\n",
      "Reading 0 ... 30749  =      0.000 ...   122.996 secs...\n",
      "Used Annotations descriptions: ['T0', 'T1', 'T2']\n",
      "Not setting metadata\n",
      "15 matching events found\n",
      "No baseline correction applied\n",
      "0 projection items activated\n",
      "Using data from preloaded Raw for 15 events and 126 original time points ...\n",
      "0 bad epochs dropped\n"
     ]
    },
    {
     "name": "stderr",
     "output_type": "stream",
     "text": [
      "C:\\Users\\chakr\\AppData\\Local\\Temp\\ipykernel_13788\\3980180034.py:3: RuntimeWarning: This filename (C:\\School\\EE_Y3\\Q4\\BAP\\eeg_thesis_cnn_repo\\data\\external\\interim\\S036R03_filtered.fif) does not conform to MNE naming conventions. All raw files should end with raw.fif, raw_sss.fif, raw_tsss.fif, _meg.fif, _eeg.fif, _ieeg.fif, raw.fif.gz, raw_sss.fif.gz, raw_tsss.fif.gz, _meg.fif.gz, _eeg.fif.gz or _ieeg.fif.gz\n",
      "  raw = mne.io.read_raw_fif(fif_file, preload=True)\n",
      "c:\\Users\\chakr\\Anaconda3\\envs\\eeg_thesis\\lib\\site-packages\\pywt\\_functions.py:143: FutureWarning: Wavelets from the family cmor, without parameters specified in the name are deprecated. The name should takethe form cmorB-C where B and C are floats representing the bandwidth frequency and center frequency, respectively (example: cmor1.5-1.0).\n",
      "  wavelet = DiscreteContinuousWavelet(wavelet)\n",
      "c:\\Users\\chakr\\Anaconda3\\envs\\eeg_thesis\\lib\\site-packages\\pywt\\_cwt.py:117: FutureWarning: Wavelets from the family cmor, without parameters specified in the name are deprecated. The name should takethe form cmorB-C where B and C are floats representing the bandwidth frequency and center frequency, respectively (example: cmor1.5-1.0).\n",
      "  wavelet = DiscreteContinuousWavelet(wavelet)\n"
     ]
    },
    {
     "name": "stdout",
     "output_type": "stream",
     "text": [
      "Opening raw data file C:\\School\\EE_Y3\\Q4\\BAP\\eeg_thesis_cnn_repo\\data\\external\\interim\\S036R07_filtered.fif...\n",
      "Isotrak not found\n",
      "    Range : 0 ... 30749 =      0.000 ...   122.996 secs\n",
      "Ready.\n",
      "Reading 0 ... 30749  =      0.000 ...   122.996 secs...\n",
      "Used Annotations descriptions: ['T0', 'T1', 'T2']\n",
      "Not setting metadata\n",
      "15 matching events found\n",
      "No baseline correction applied\n",
      "0 projection items activated\n",
      "Using data from preloaded Raw for 15 events and 126 original time points ...\n",
      "0 bad epochs dropped\n"
     ]
    },
    {
     "name": "stderr",
     "output_type": "stream",
     "text": [
      "C:\\Users\\chakr\\AppData\\Local\\Temp\\ipykernel_13788\\3980180034.py:3: RuntimeWarning: This filename (C:\\School\\EE_Y3\\Q4\\BAP\\eeg_thesis_cnn_repo\\data\\external\\interim\\S036R07_filtered.fif) does not conform to MNE naming conventions. All raw files should end with raw.fif, raw_sss.fif, raw_tsss.fif, _meg.fif, _eeg.fif, _ieeg.fif, raw.fif.gz, raw_sss.fif.gz, raw_tsss.fif.gz, _meg.fif.gz, _eeg.fif.gz or _ieeg.fif.gz\n",
      "  raw = mne.io.read_raw_fif(fif_file, preload=True)\n",
      "c:\\Users\\chakr\\Anaconda3\\envs\\eeg_thesis\\lib\\site-packages\\pywt\\_functions.py:143: FutureWarning: Wavelets from the family cmor, without parameters specified in the name are deprecated. The name should takethe form cmorB-C where B and C are floats representing the bandwidth frequency and center frequency, respectively (example: cmor1.5-1.0).\n",
      "  wavelet = DiscreteContinuousWavelet(wavelet)\n",
      "c:\\Users\\chakr\\Anaconda3\\envs\\eeg_thesis\\lib\\site-packages\\pywt\\_cwt.py:117: FutureWarning: Wavelets from the family cmor, without parameters specified in the name are deprecated. The name should takethe form cmorB-C where B and C are floats representing the bandwidth frequency and center frequency, respectively (example: cmor1.5-1.0).\n",
      "  wavelet = DiscreteContinuousWavelet(wavelet)\n"
     ]
    },
    {
     "name": "stdout",
     "output_type": "stream",
     "text": [
      "Opening raw data file C:\\School\\EE_Y3\\Q4\\BAP\\eeg_thesis_cnn_repo\\data\\external\\interim\\S036R11_filtered.fif...\n",
      "Isotrak not found\n",
      "    Range : 0 ... 30749 =      0.000 ...   122.996 secs\n",
      "Ready.\n",
      "Reading 0 ... 30749  =      0.000 ...   122.996 secs...\n",
      "Used Annotations descriptions: ['T0', 'T1', 'T2']\n",
      "Not setting metadata\n",
      "15 matching events found\n",
      "No baseline correction applied\n",
      "0 projection items activated\n",
      "Using data from preloaded Raw for 15 events and 126 original time points ...\n",
      "0 bad epochs dropped\n"
     ]
    },
    {
     "name": "stderr",
     "output_type": "stream",
     "text": [
      "C:\\Users\\chakr\\AppData\\Local\\Temp\\ipykernel_13788\\3980180034.py:3: RuntimeWarning: This filename (C:\\School\\EE_Y3\\Q4\\BAP\\eeg_thesis_cnn_repo\\data\\external\\interim\\S036R11_filtered.fif) does not conform to MNE naming conventions. All raw files should end with raw.fif, raw_sss.fif, raw_tsss.fif, _meg.fif, _eeg.fif, _ieeg.fif, raw.fif.gz, raw_sss.fif.gz, raw_tsss.fif.gz, _meg.fif.gz, _eeg.fif.gz or _ieeg.fif.gz\n",
      "  raw = mne.io.read_raw_fif(fif_file, preload=True)\n",
      "c:\\Users\\chakr\\Anaconda3\\envs\\eeg_thesis\\lib\\site-packages\\pywt\\_functions.py:143: FutureWarning: Wavelets from the family cmor, without parameters specified in the name are deprecated. The name should takethe form cmorB-C where B and C are floats representing the bandwidth frequency and center frequency, respectively (example: cmor1.5-1.0).\n",
      "  wavelet = DiscreteContinuousWavelet(wavelet)\n",
      "c:\\Users\\chakr\\Anaconda3\\envs\\eeg_thesis\\lib\\site-packages\\pywt\\_cwt.py:117: FutureWarning: Wavelets from the family cmor, without parameters specified in the name are deprecated. The name should takethe form cmorB-C where B and C are floats representing the bandwidth frequency and center frequency, respectively (example: cmor1.5-1.0).\n",
      "  wavelet = DiscreteContinuousWavelet(wavelet)\n"
     ]
    },
    {
     "name": "stdout",
     "output_type": "stream",
     "text": [
      "Opening raw data file C:\\School\\EE_Y3\\Q4\\BAP\\eeg_thesis_cnn_repo\\data\\external\\interim\\S037R03_filtered.fif...\n",
      "Isotrak not found\n",
      "    Range : 0 ... 30749 =      0.000 ...   122.996 secs\n",
      "Ready.\n",
      "Reading 0 ... 30749  =      0.000 ...   122.996 secs...\n",
      "Used Annotations descriptions: ['T0', 'T1', 'T2']\n",
      "Not setting metadata\n",
      "15 matching events found\n",
      "No baseline correction applied\n",
      "0 projection items activated\n",
      "Using data from preloaded Raw for 15 events and 126 original time points ...\n",
      "0 bad epochs dropped\n"
     ]
    },
    {
     "name": "stderr",
     "output_type": "stream",
     "text": [
      "C:\\Users\\chakr\\AppData\\Local\\Temp\\ipykernel_13788\\3980180034.py:3: RuntimeWarning: This filename (C:\\School\\EE_Y3\\Q4\\BAP\\eeg_thesis_cnn_repo\\data\\external\\interim\\S037R03_filtered.fif) does not conform to MNE naming conventions. All raw files should end with raw.fif, raw_sss.fif, raw_tsss.fif, _meg.fif, _eeg.fif, _ieeg.fif, raw.fif.gz, raw_sss.fif.gz, raw_tsss.fif.gz, _meg.fif.gz, _eeg.fif.gz or _ieeg.fif.gz\n",
      "  raw = mne.io.read_raw_fif(fif_file, preload=True)\n",
      "c:\\Users\\chakr\\Anaconda3\\envs\\eeg_thesis\\lib\\site-packages\\pywt\\_functions.py:143: FutureWarning: Wavelets from the family cmor, without parameters specified in the name are deprecated. The name should takethe form cmorB-C where B and C are floats representing the bandwidth frequency and center frequency, respectively (example: cmor1.5-1.0).\n",
      "  wavelet = DiscreteContinuousWavelet(wavelet)\n",
      "c:\\Users\\chakr\\Anaconda3\\envs\\eeg_thesis\\lib\\site-packages\\pywt\\_cwt.py:117: FutureWarning: Wavelets from the family cmor, without parameters specified in the name are deprecated. The name should takethe form cmorB-C where B and C are floats representing the bandwidth frequency and center frequency, respectively (example: cmor1.5-1.0).\n",
      "  wavelet = DiscreteContinuousWavelet(wavelet)\n"
     ]
    },
    {
     "name": "stdout",
     "output_type": "stream",
     "text": [
      "Opening raw data file C:\\School\\EE_Y3\\Q4\\BAP\\eeg_thesis_cnn_repo\\data\\external\\interim\\S037R07_filtered.fif...\n",
      "Isotrak not found\n",
      "    Range : 0 ... 30749 =      0.000 ...   122.996 secs\n",
      "Ready.\n",
      "Reading 0 ... 30749  =      0.000 ...   122.996 secs...\n",
      "Used Annotations descriptions: ['T0', 'T1', 'T2']\n",
      "Not setting metadata\n",
      "15 matching events found\n",
      "No baseline correction applied\n",
      "0 projection items activated\n",
      "Using data from preloaded Raw for 15 events and 126 original time points ...\n",
      "0 bad epochs dropped\n"
     ]
    },
    {
     "name": "stderr",
     "output_type": "stream",
     "text": [
      "C:\\Users\\chakr\\AppData\\Local\\Temp\\ipykernel_13788\\3980180034.py:3: RuntimeWarning: This filename (C:\\School\\EE_Y3\\Q4\\BAP\\eeg_thesis_cnn_repo\\data\\external\\interim\\S037R07_filtered.fif) does not conform to MNE naming conventions. All raw files should end with raw.fif, raw_sss.fif, raw_tsss.fif, _meg.fif, _eeg.fif, _ieeg.fif, raw.fif.gz, raw_sss.fif.gz, raw_tsss.fif.gz, _meg.fif.gz, _eeg.fif.gz or _ieeg.fif.gz\n",
      "  raw = mne.io.read_raw_fif(fif_file, preload=True)\n",
      "c:\\Users\\chakr\\Anaconda3\\envs\\eeg_thesis\\lib\\site-packages\\pywt\\_functions.py:143: FutureWarning: Wavelets from the family cmor, without parameters specified in the name are deprecated. The name should takethe form cmorB-C where B and C are floats representing the bandwidth frequency and center frequency, respectively (example: cmor1.5-1.0).\n",
      "  wavelet = DiscreteContinuousWavelet(wavelet)\n",
      "c:\\Users\\chakr\\Anaconda3\\envs\\eeg_thesis\\lib\\site-packages\\pywt\\_cwt.py:117: FutureWarning: Wavelets from the family cmor, without parameters specified in the name are deprecated. The name should takethe form cmorB-C where B and C are floats representing the bandwidth frequency and center frequency, respectively (example: cmor1.5-1.0).\n",
      "  wavelet = DiscreteContinuousWavelet(wavelet)\n"
     ]
    },
    {
     "name": "stdout",
     "output_type": "stream",
     "text": [
      "Opening raw data file C:\\School\\EE_Y3\\Q4\\BAP\\eeg_thesis_cnn_repo\\data\\external\\interim\\S037R11_filtered.fif...\n",
      "Isotrak not found\n",
      "    Range : 0 ... 30749 =      0.000 ...   122.996 secs\n",
      "Ready.\n",
      "Reading 0 ... 30749  =      0.000 ...   122.996 secs...\n",
      "Used Annotations descriptions: ['T0', 'T1', 'T2']\n",
      "Not setting metadata\n",
      "15 matching events found\n",
      "No baseline correction applied\n",
      "0 projection items activated\n",
      "Using data from preloaded Raw for 15 events and 126 original time points ...\n",
      "0 bad epochs dropped\n"
     ]
    },
    {
     "name": "stderr",
     "output_type": "stream",
     "text": [
      "C:\\Users\\chakr\\AppData\\Local\\Temp\\ipykernel_13788\\3980180034.py:3: RuntimeWarning: This filename (C:\\School\\EE_Y3\\Q4\\BAP\\eeg_thesis_cnn_repo\\data\\external\\interim\\S037R11_filtered.fif) does not conform to MNE naming conventions. All raw files should end with raw.fif, raw_sss.fif, raw_tsss.fif, _meg.fif, _eeg.fif, _ieeg.fif, raw.fif.gz, raw_sss.fif.gz, raw_tsss.fif.gz, _meg.fif.gz, _eeg.fif.gz or _ieeg.fif.gz\n",
      "  raw = mne.io.read_raw_fif(fif_file, preload=True)\n",
      "c:\\Users\\chakr\\Anaconda3\\envs\\eeg_thesis\\lib\\site-packages\\pywt\\_functions.py:143: FutureWarning: Wavelets from the family cmor, without parameters specified in the name are deprecated. The name should takethe form cmorB-C where B and C are floats representing the bandwidth frequency and center frequency, respectively (example: cmor1.5-1.0).\n",
      "  wavelet = DiscreteContinuousWavelet(wavelet)\n",
      "c:\\Users\\chakr\\Anaconda3\\envs\\eeg_thesis\\lib\\site-packages\\pywt\\_cwt.py:117: FutureWarning: Wavelets from the family cmor, without parameters specified in the name are deprecated. The name should takethe form cmorB-C where B and C are floats representing the bandwidth frequency and center frequency, respectively (example: cmor1.5-1.0).\n",
      "  wavelet = DiscreteContinuousWavelet(wavelet)\n"
     ]
    },
    {
     "name": "stdout",
     "output_type": "stream",
     "text": [
      "Opening raw data file C:\\School\\EE_Y3\\Q4\\BAP\\eeg_thesis_cnn_repo\\data\\external\\interim\\S038R03_filtered.fif...\n",
      "Isotrak not found\n",
      "    Range : 0 ... 30749 =      0.000 ...   122.996 secs\n",
      "Ready.\n",
      "Reading 0 ... 30749  =      0.000 ...   122.996 secs...\n",
      "Used Annotations descriptions: ['T0', 'T1', 'T2']\n",
      "Not setting metadata\n",
      "15 matching events found\n",
      "No baseline correction applied\n",
      "0 projection items activated\n",
      "Using data from preloaded Raw for 15 events and 126 original time points ...\n",
      "0 bad epochs dropped\n"
     ]
    },
    {
     "name": "stderr",
     "output_type": "stream",
     "text": [
      "C:\\Users\\chakr\\AppData\\Local\\Temp\\ipykernel_13788\\3980180034.py:3: RuntimeWarning: This filename (C:\\School\\EE_Y3\\Q4\\BAP\\eeg_thesis_cnn_repo\\data\\external\\interim\\S038R03_filtered.fif) does not conform to MNE naming conventions. All raw files should end with raw.fif, raw_sss.fif, raw_tsss.fif, _meg.fif, _eeg.fif, _ieeg.fif, raw.fif.gz, raw_sss.fif.gz, raw_tsss.fif.gz, _meg.fif.gz, _eeg.fif.gz or _ieeg.fif.gz\n",
      "  raw = mne.io.read_raw_fif(fif_file, preload=True)\n",
      "c:\\Users\\chakr\\Anaconda3\\envs\\eeg_thesis\\lib\\site-packages\\pywt\\_functions.py:143: FutureWarning: Wavelets from the family cmor, without parameters specified in the name are deprecated. The name should takethe form cmorB-C where B and C are floats representing the bandwidth frequency and center frequency, respectively (example: cmor1.5-1.0).\n",
      "  wavelet = DiscreteContinuousWavelet(wavelet)\n",
      "c:\\Users\\chakr\\Anaconda3\\envs\\eeg_thesis\\lib\\site-packages\\pywt\\_cwt.py:117: FutureWarning: Wavelets from the family cmor, without parameters specified in the name are deprecated. The name should takethe form cmorB-C where B and C are floats representing the bandwidth frequency and center frequency, respectively (example: cmor1.5-1.0).\n",
      "  wavelet = DiscreteContinuousWavelet(wavelet)\n"
     ]
    },
    {
     "name": "stdout",
     "output_type": "stream",
     "text": [
      "Opening raw data file C:\\School\\EE_Y3\\Q4\\BAP\\eeg_thesis_cnn_repo\\data\\external\\interim\\S038R07_filtered.fif...\n",
      "Isotrak not found\n",
      "    Range : 0 ... 30749 =      0.000 ...   122.996 secs\n",
      "Ready.\n",
      "Reading 0 ... 30749  =      0.000 ...   122.996 secs...\n",
      "Used Annotations descriptions: ['T0', 'T1', 'T2']\n",
      "Not setting metadata\n",
      "15 matching events found\n",
      "No baseline correction applied\n",
      "0 projection items activated\n",
      "Using data from preloaded Raw for 15 events and 126 original time points ...\n",
      "0 bad epochs dropped\n"
     ]
    },
    {
     "name": "stderr",
     "output_type": "stream",
     "text": [
      "C:\\Users\\chakr\\AppData\\Local\\Temp\\ipykernel_13788\\3980180034.py:3: RuntimeWarning: This filename (C:\\School\\EE_Y3\\Q4\\BAP\\eeg_thesis_cnn_repo\\data\\external\\interim\\S038R07_filtered.fif) does not conform to MNE naming conventions. All raw files should end with raw.fif, raw_sss.fif, raw_tsss.fif, _meg.fif, _eeg.fif, _ieeg.fif, raw.fif.gz, raw_sss.fif.gz, raw_tsss.fif.gz, _meg.fif.gz, _eeg.fif.gz or _ieeg.fif.gz\n",
      "  raw = mne.io.read_raw_fif(fif_file, preload=True)\n",
      "c:\\Users\\chakr\\Anaconda3\\envs\\eeg_thesis\\lib\\site-packages\\pywt\\_functions.py:143: FutureWarning: Wavelets from the family cmor, without parameters specified in the name are deprecated. The name should takethe form cmorB-C where B and C are floats representing the bandwidth frequency and center frequency, respectively (example: cmor1.5-1.0).\n",
      "  wavelet = DiscreteContinuousWavelet(wavelet)\n",
      "c:\\Users\\chakr\\Anaconda3\\envs\\eeg_thesis\\lib\\site-packages\\pywt\\_cwt.py:117: FutureWarning: Wavelets from the family cmor, without parameters specified in the name are deprecated. The name should takethe form cmorB-C where B and C are floats representing the bandwidth frequency and center frequency, respectively (example: cmor1.5-1.0).\n",
      "  wavelet = DiscreteContinuousWavelet(wavelet)\n"
     ]
    },
    {
     "name": "stdout",
     "output_type": "stream",
     "text": [
      "Opening raw data file C:\\School\\EE_Y3\\Q4\\BAP\\eeg_thesis_cnn_repo\\data\\external\\interim\\S038R11_filtered.fif...\n",
      "Isotrak not found\n",
      "    Range : 0 ... 30749 =      0.000 ...   122.996 secs\n",
      "Ready.\n",
      "Reading 0 ... 30749  =      0.000 ...   122.996 secs...\n",
      "Used Annotations descriptions: ['T0', 'T1', 'T2']\n",
      "Not setting metadata\n",
      "15 matching events found\n",
      "No baseline correction applied\n",
      "0 projection items activated\n",
      "Using data from preloaded Raw for 15 events and 126 original time points ...\n",
      "0 bad epochs dropped\n"
     ]
    },
    {
     "name": "stderr",
     "output_type": "stream",
     "text": [
      "C:\\Users\\chakr\\AppData\\Local\\Temp\\ipykernel_13788\\3980180034.py:3: RuntimeWarning: This filename (C:\\School\\EE_Y3\\Q4\\BAP\\eeg_thesis_cnn_repo\\data\\external\\interim\\S038R11_filtered.fif) does not conform to MNE naming conventions. All raw files should end with raw.fif, raw_sss.fif, raw_tsss.fif, _meg.fif, _eeg.fif, _ieeg.fif, raw.fif.gz, raw_sss.fif.gz, raw_tsss.fif.gz, _meg.fif.gz, _eeg.fif.gz or _ieeg.fif.gz\n",
      "  raw = mne.io.read_raw_fif(fif_file, preload=True)\n",
      "c:\\Users\\chakr\\Anaconda3\\envs\\eeg_thesis\\lib\\site-packages\\pywt\\_functions.py:143: FutureWarning: Wavelets from the family cmor, without parameters specified in the name are deprecated. The name should takethe form cmorB-C where B and C are floats representing the bandwidth frequency and center frequency, respectively (example: cmor1.5-1.0).\n",
      "  wavelet = DiscreteContinuousWavelet(wavelet)\n",
      "c:\\Users\\chakr\\Anaconda3\\envs\\eeg_thesis\\lib\\site-packages\\pywt\\_cwt.py:117: FutureWarning: Wavelets from the family cmor, without parameters specified in the name are deprecated. The name should takethe form cmorB-C where B and C are floats representing the bandwidth frequency and center frequency, respectively (example: cmor1.5-1.0).\n",
      "  wavelet = DiscreteContinuousWavelet(wavelet)\n"
     ]
    },
    {
     "name": "stdout",
     "output_type": "stream",
     "text": [
      "Opening raw data file C:\\School\\EE_Y3\\Q4\\BAP\\eeg_thesis_cnn_repo\\data\\external\\interim\\S039R03_filtered.fif...\n",
      "Isotrak not found\n",
      "    Range : 0 ... 30749 =      0.000 ...   122.996 secs\n",
      "Ready.\n",
      "Reading 0 ... 30749  =      0.000 ...   122.996 secs...\n",
      "Used Annotations descriptions: ['T0', 'T1', 'T2']\n",
      "Not setting metadata\n",
      "15 matching events found\n",
      "No baseline correction applied\n",
      "0 projection items activated\n",
      "Using data from preloaded Raw for 15 events and 126 original time points ...\n",
      "0 bad epochs dropped\n"
     ]
    },
    {
     "name": "stderr",
     "output_type": "stream",
     "text": [
      "C:\\Users\\chakr\\AppData\\Local\\Temp\\ipykernel_13788\\3980180034.py:3: RuntimeWarning: This filename (C:\\School\\EE_Y3\\Q4\\BAP\\eeg_thesis_cnn_repo\\data\\external\\interim\\S039R03_filtered.fif) does not conform to MNE naming conventions. All raw files should end with raw.fif, raw_sss.fif, raw_tsss.fif, _meg.fif, _eeg.fif, _ieeg.fif, raw.fif.gz, raw_sss.fif.gz, raw_tsss.fif.gz, _meg.fif.gz, _eeg.fif.gz or _ieeg.fif.gz\n",
      "  raw = mne.io.read_raw_fif(fif_file, preload=True)\n",
      "c:\\Users\\chakr\\Anaconda3\\envs\\eeg_thesis\\lib\\site-packages\\pywt\\_functions.py:143: FutureWarning: Wavelets from the family cmor, without parameters specified in the name are deprecated. The name should takethe form cmorB-C where B and C are floats representing the bandwidth frequency and center frequency, respectively (example: cmor1.5-1.0).\n",
      "  wavelet = DiscreteContinuousWavelet(wavelet)\n",
      "c:\\Users\\chakr\\Anaconda3\\envs\\eeg_thesis\\lib\\site-packages\\pywt\\_cwt.py:117: FutureWarning: Wavelets from the family cmor, without parameters specified in the name are deprecated. The name should takethe form cmorB-C where B and C are floats representing the bandwidth frequency and center frequency, respectively (example: cmor1.5-1.0).\n",
      "  wavelet = DiscreteContinuousWavelet(wavelet)\n"
     ]
    },
    {
     "name": "stdout",
     "output_type": "stream",
     "text": [
      "Opening raw data file C:\\School\\EE_Y3\\Q4\\BAP\\eeg_thesis_cnn_repo\\data\\external\\interim\\S039R07_filtered.fif...\n",
      "Isotrak not found\n",
      "    Range : 0 ... 30749 =      0.000 ...   122.996 secs\n",
      "Ready.\n",
      "Reading 0 ... 30749  =      0.000 ...   122.996 secs...\n",
      "Used Annotations descriptions: ['T0', 'T1', 'T2']\n",
      "Not setting metadata\n",
      "15 matching events found\n",
      "No baseline correction applied\n",
      "0 projection items activated\n",
      "Using data from preloaded Raw for 15 events and 126 original time points ...\n",
      "0 bad epochs dropped\n"
     ]
    },
    {
     "name": "stderr",
     "output_type": "stream",
     "text": [
      "C:\\Users\\chakr\\AppData\\Local\\Temp\\ipykernel_13788\\3980180034.py:3: RuntimeWarning: This filename (C:\\School\\EE_Y3\\Q4\\BAP\\eeg_thesis_cnn_repo\\data\\external\\interim\\S039R07_filtered.fif) does not conform to MNE naming conventions. All raw files should end with raw.fif, raw_sss.fif, raw_tsss.fif, _meg.fif, _eeg.fif, _ieeg.fif, raw.fif.gz, raw_sss.fif.gz, raw_tsss.fif.gz, _meg.fif.gz, _eeg.fif.gz or _ieeg.fif.gz\n",
      "  raw = mne.io.read_raw_fif(fif_file, preload=True)\n",
      "c:\\Users\\chakr\\Anaconda3\\envs\\eeg_thesis\\lib\\site-packages\\pywt\\_functions.py:143: FutureWarning: Wavelets from the family cmor, without parameters specified in the name are deprecated. The name should takethe form cmorB-C where B and C are floats representing the bandwidth frequency and center frequency, respectively (example: cmor1.5-1.0).\n",
      "  wavelet = DiscreteContinuousWavelet(wavelet)\n",
      "c:\\Users\\chakr\\Anaconda3\\envs\\eeg_thesis\\lib\\site-packages\\pywt\\_cwt.py:117: FutureWarning: Wavelets from the family cmor, without parameters specified in the name are deprecated. The name should takethe form cmorB-C where B and C are floats representing the bandwidth frequency and center frequency, respectively (example: cmor1.5-1.0).\n",
      "  wavelet = DiscreteContinuousWavelet(wavelet)\n"
     ]
    },
    {
     "name": "stdout",
     "output_type": "stream",
     "text": [
      "Opening raw data file C:\\School\\EE_Y3\\Q4\\BAP\\eeg_thesis_cnn_repo\\data\\external\\interim\\S039R11_filtered.fif...\n",
      "Isotrak not found\n",
      "    Range : 0 ... 30749 =      0.000 ...   122.996 secs\n",
      "Ready.\n",
      "Reading 0 ... 30749  =      0.000 ...   122.996 secs...\n",
      "Used Annotations descriptions: ['T0', 'T1', 'T2']\n",
      "Not setting metadata\n",
      "15 matching events found\n",
      "No baseline correction applied\n",
      "0 projection items activated\n",
      "Using data from preloaded Raw for 15 events and 126 original time points ...\n",
      "0 bad epochs dropped\n"
     ]
    },
    {
     "name": "stderr",
     "output_type": "stream",
     "text": [
      "C:\\Users\\chakr\\AppData\\Local\\Temp\\ipykernel_13788\\3980180034.py:3: RuntimeWarning: This filename (C:\\School\\EE_Y3\\Q4\\BAP\\eeg_thesis_cnn_repo\\data\\external\\interim\\S039R11_filtered.fif) does not conform to MNE naming conventions. All raw files should end with raw.fif, raw_sss.fif, raw_tsss.fif, _meg.fif, _eeg.fif, _ieeg.fif, raw.fif.gz, raw_sss.fif.gz, raw_tsss.fif.gz, _meg.fif.gz, _eeg.fif.gz or _ieeg.fif.gz\n",
      "  raw = mne.io.read_raw_fif(fif_file, preload=True)\n",
      "c:\\Users\\chakr\\Anaconda3\\envs\\eeg_thesis\\lib\\site-packages\\pywt\\_functions.py:143: FutureWarning: Wavelets from the family cmor, without parameters specified in the name are deprecated. The name should takethe form cmorB-C where B and C are floats representing the bandwidth frequency and center frequency, respectively (example: cmor1.5-1.0).\n",
      "  wavelet = DiscreteContinuousWavelet(wavelet)\n",
      "c:\\Users\\chakr\\Anaconda3\\envs\\eeg_thesis\\lib\\site-packages\\pywt\\_cwt.py:117: FutureWarning: Wavelets from the family cmor, without parameters specified in the name are deprecated. The name should takethe form cmorB-C where B and C are floats representing the bandwidth frequency and center frequency, respectively (example: cmor1.5-1.0).\n",
      "  wavelet = DiscreteContinuousWavelet(wavelet)\n"
     ]
    },
    {
     "name": "stdout",
     "output_type": "stream",
     "text": [
      "Opening raw data file C:\\School\\EE_Y3\\Q4\\BAP\\eeg_thesis_cnn_repo\\data\\external\\interim\\S040R03_filtered.fif...\n",
      "Isotrak not found\n",
      "    Range : 0 ... 30749 =      0.000 ...   122.996 secs\n",
      "Ready.\n",
      "Reading 0 ... 30749  =      0.000 ...   122.996 secs...\n",
      "Used Annotations descriptions: ['T0', 'T1', 'T2']\n",
      "Not setting metadata\n",
      "15 matching events found\n",
      "No baseline correction applied\n",
      "0 projection items activated\n",
      "Using data from preloaded Raw for 15 events and 126 original time points ...\n",
      "0 bad epochs dropped\n"
     ]
    },
    {
     "name": "stderr",
     "output_type": "stream",
     "text": [
      "C:\\Users\\chakr\\AppData\\Local\\Temp\\ipykernel_13788\\3980180034.py:3: RuntimeWarning: This filename (C:\\School\\EE_Y3\\Q4\\BAP\\eeg_thesis_cnn_repo\\data\\external\\interim\\S040R03_filtered.fif) does not conform to MNE naming conventions. All raw files should end with raw.fif, raw_sss.fif, raw_tsss.fif, _meg.fif, _eeg.fif, _ieeg.fif, raw.fif.gz, raw_sss.fif.gz, raw_tsss.fif.gz, _meg.fif.gz, _eeg.fif.gz or _ieeg.fif.gz\n",
      "  raw = mne.io.read_raw_fif(fif_file, preload=True)\n",
      "c:\\Users\\chakr\\Anaconda3\\envs\\eeg_thesis\\lib\\site-packages\\pywt\\_functions.py:143: FutureWarning: Wavelets from the family cmor, without parameters specified in the name are deprecated. The name should takethe form cmorB-C where B and C are floats representing the bandwidth frequency and center frequency, respectively (example: cmor1.5-1.0).\n",
      "  wavelet = DiscreteContinuousWavelet(wavelet)\n",
      "c:\\Users\\chakr\\Anaconda3\\envs\\eeg_thesis\\lib\\site-packages\\pywt\\_cwt.py:117: FutureWarning: Wavelets from the family cmor, without parameters specified in the name are deprecated. The name should takethe form cmorB-C where B and C are floats representing the bandwidth frequency and center frequency, respectively (example: cmor1.5-1.0).\n",
      "  wavelet = DiscreteContinuousWavelet(wavelet)\n"
     ]
    },
    {
     "name": "stdout",
     "output_type": "stream",
     "text": [
      "Opening raw data file C:\\School\\EE_Y3\\Q4\\BAP\\eeg_thesis_cnn_repo\\data\\external\\interim\\S040R07_filtered.fif...\n",
      "Isotrak not found\n",
      "    Range : 0 ... 30749 =      0.000 ...   122.996 secs\n",
      "Ready.\n",
      "Reading 0 ... 30749  =      0.000 ...   122.996 secs...\n",
      "Used Annotations descriptions: ['T0', 'T1', 'T2']\n",
      "Not setting metadata\n",
      "15 matching events found\n",
      "No baseline correction applied\n",
      "0 projection items activated\n",
      "Using data from preloaded Raw for 15 events and 126 original time points ...\n",
      "0 bad epochs dropped\n"
     ]
    },
    {
     "name": "stderr",
     "output_type": "stream",
     "text": [
      "C:\\Users\\chakr\\AppData\\Local\\Temp\\ipykernel_13788\\3980180034.py:3: RuntimeWarning: This filename (C:\\School\\EE_Y3\\Q4\\BAP\\eeg_thesis_cnn_repo\\data\\external\\interim\\S040R07_filtered.fif) does not conform to MNE naming conventions. All raw files should end with raw.fif, raw_sss.fif, raw_tsss.fif, _meg.fif, _eeg.fif, _ieeg.fif, raw.fif.gz, raw_sss.fif.gz, raw_tsss.fif.gz, _meg.fif.gz, _eeg.fif.gz or _ieeg.fif.gz\n",
      "  raw = mne.io.read_raw_fif(fif_file, preload=True)\n",
      "c:\\Users\\chakr\\Anaconda3\\envs\\eeg_thesis\\lib\\site-packages\\pywt\\_functions.py:143: FutureWarning: Wavelets from the family cmor, without parameters specified in the name are deprecated. The name should takethe form cmorB-C where B and C are floats representing the bandwidth frequency and center frequency, respectively (example: cmor1.5-1.0).\n",
      "  wavelet = DiscreteContinuousWavelet(wavelet)\n",
      "c:\\Users\\chakr\\Anaconda3\\envs\\eeg_thesis\\lib\\site-packages\\pywt\\_cwt.py:117: FutureWarning: Wavelets from the family cmor, without parameters specified in the name are deprecated. The name should takethe form cmorB-C where B and C are floats representing the bandwidth frequency and center frequency, respectively (example: cmor1.5-1.0).\n",
      "  wavelet = DiscreteContinuousWavelet(wavelet)\n"
     ]
    },
    {
     "name": "stdout",
     "output_type": "stream",
     "text": [
      "Opening raw data file C:\\School\\EE_Y3\\Q4\\BAP\\eeg_thesis_cnn_repo\\data\\external\\interim\\S040R11_filtered.fif...\n",
      "Isotrak not found\n",
      "    Range : 0 ... 30749 =      0.000 ...   122.996 secs\n",
      "Ready.\n",
      "Reading 0 ... 30749  =      0.000 ...   122.996 secs...\n",
      "Used Annotations descriptions: ['T0', 'T1', 'T2']\n",
      "Not setting metadata\n",
      "15 matching events found\n",
      "No baseline correction applied\n",
      "0 projection items activated\n",
      "Using data from preloaded Raw for 15 events and 126 original time points ...\n",
      "0 bad epochs dropped\n"
     ]
    },
    {
     "name": "stderr",
     "output_type": "stream",
     "text": [
      "C:\\Users\\chakr\\AppData\\Local\\Temp\\ipykernel_13788\\3980180034.py:3: RuntimeWarning: This filename (C:\\School\\EE_Y3\\Q4\\BAP\\eeg_thesis_cnn_repo\\data\\external\\interim\\S040R11_filtered.fif) does not conform to MNE naming conventions. All raw files should end with raw.fif, raw_sss.fif, raw_tsss.fif, _meg.fif, _eeg.fif, _ieeg.fif, raw.fif.gz, raw_sss.fif.gz, raw_tsss.fif.gz, _meg.fif.gz, _eeg.fif.gz or _ieeg.fif.gz\n",
      "  raw = mne.io.read_raw_fif(fif_file, preload=True)\n",
      "c:\\Users\\chakr\\Anaconda3\\envs\\eeg_thesis\\lib\\site-packages\\pywt\\_functions.py:143: FutureWarning: Wavelets from the family cmor, without parameters specified in the name are deprecated. The name should takethe form cmorB-C where B and C are floats representing the bandwidth frequency and center frequency, respectively (example: cmor1.5-1.0).\n",
      "  wavelet = DiscreteContinuousWavelet(wavelet)\n",
      "c:\\Users\\chakr\\Anaconda3\\envs\\eeg_thesis\\lib\\site-packages\\pywt\\_cwt.py:117: FutureWarning: Wavelets from the family cmor, without parameters specified in the name are deprecated. The name should takethe form cmorB-C where B and C are floats representing the bandwidth frequency and center frequency, respectively (example: cmor1.5-1.0).\n",
      "  wavelet = DiscreteContinuousWavelet(wavelet)\n"
     ]
    },
    {
     "name": "stdout",
     "output_type": "stream",
     "text": [
      "Opening raw data file C:\\School\\EE_Y3\\Q4\\BAP\\eeg_thesis_cnn_repo\\data\\external\\interim\\S041R03_filtered.fif...\n",
      "Isotrak not found\n",
      "    Range : 0 ... 30749 =      0.000 ...   122.996 secs\n",
      "Ready.\n",
      "Reading 0 ... 30749  =      0.000 ...   122.996 secs...\n",
      "Used Annotations descriptions: ['T0', 'T1', 'T2']\n",
      "Not setting metadata\n",
      "15 matching events found\n",
      "No baseline correction applied\n",
      "0 projection items activated\n",
      "Using data from preloaded Raw for 15 events and 126 original time points ...\n",
      "0 bad epochs dropped\n"
     ]
    },
    {
     "name": "stderr",
     "output_type": "stream",
     "text": [
      "C:\\Users\\chakr\\AppData\\Local\\Temp\\ipykernel_13788\\3980180034.py:3: RuntimeWarning: This filename (C:\\School\\EE_Y3\\Q4\\BAP\\eeg_thesis_cnn_repo\\data\\external\\interim\\S041R03_filtered.fif) does not conform to MNE naming conventions. All raw files should end with raw.fif, raw_sss.fif, raw_tsss.fif, _meg.fif, _eeg.fif, _ieeg.fif, raw.fif.gz, raw_sss.fif.gz, raw_tsss.fif.gz, _meg.fif.gz, _eeg.fif.gz or _ieeg.fif.gz\n",
      "  raw = mne.io.read_raw_fif(fif_file, preload=True)\n",
      "c:\\Users\\chakr\\Anaconda3\\envs\\eeg_thesis\\lib\\site-packages\\pywt\\_functions.py:143: FutureWarning: Wavelets from the family cmor, without parameters specified in the name are deprecated. The name should takethe form cmorB-C where B and C are floats representing the bandwidth frequency and center frequency, respectively (example: cmor1.5-1.0).\n",
      "  wavelet = DiscreteContinuousWavelet(wavelet)\n",
      "c:\\Users\\chakr\\Anaconda3\\envs\\eeg_thesis\\lib\\site-packages\\pywt\\_cwt.py:117: FutureWarning: Wavelets from the family cmor, without parameters specified in the name are deprecated. The name should takethe form cmorB-C where B and C are floats representing the bandwidth frequency and center frequency, respectively (example: cmor1.5-1.0).\n",
      "  wavelet = DiscreteContinuousWavelet(wavelet)\n"
     ]
    },
    {
     "name": "stdout",
     "output_type": "stream",
     "text": [
      "Opening raw data file C:\\School\\EE_Y3\\Q4\\BAP\\eeg_thesis_cnn_repo\\data\\external\\interim\\S041R07_filtered.fif...\n",
      "Isotrak not found\n",
      "    Range : 0 ... 30749 =      0.000 ...   122.996 secs\n",
      "Ready.\n",
      "Reading 0 ... 30749  =      0.000 ...   122.996 secs...\n",
      "Used Annotations descriptions: ['T0', 'T1', 'T2']\n",
      "Not setting metadata\n",
      "15 matching events found\n",
      "No baseline correction applied\n",
      "0 projection items activated\n",
      "Using data from preloaded Raw for 15 events and 126 original time points ...\n",
      "0 bad epochs dropped\n"
     ]
    },
    {
     "name": "stderr",
     "output_type": "stream",
     "text": [
      "C:\\Users\\chakr\\AppData\\Local\\Temp\\ipykernel_13788\\3980180034.py:3: RuntimeWarning: This filename (C:\\School\\EE_Y3\\Q4\\BAP\\eeg_thesis_cnn_repo\\data\\external\\interim\\S041R07_filtered.fif) does not conform to MNE naming conventions. All raw files should end with raw.fif, raw_sss.fif, raw_tsss.fif, _meg.fif, _eeg.fif, _ieeg.fif, raw.fif.gz, raw_sss.fif.gz, raw_tsss.fif.gz, _meg.fif.gz, _eeg.fif.gz or _ieeg.fif.gz\n",
      "  raw = mne.io.read_raw_fif(fif_file, preload=True)\n",
      "c:\\Users\\chakr\\Anaconda3\\envs\\eeg_thesis\\lib\\site-packages\\pywt\\_functions.py:143: FutureWarning: Wavelets from the family cmor, without parameters specified in the name are deprecated. The name should takethe form cmorB-C where B and C are floats representing the bandwidth frequency and center frequency, respectively (example: cmor1.5-1.0).\n",
      "  wavelet = DiscreteContinuousWavelet(wavelet)\n",
      "c:\\Users\\chakr\\Anaconda3\\envs\\eeg_thesis\\lib\\site-packages\\pywt\\_cwt.py:117: FutureWarning: Wavelets from the family cmor, without parameters specified in the name are deprecated. The name should takethe form cmorB-C where B and C are floats representing the bandwidth frequency and center frequency, respectively (example: cmor1.5-1.0).\n",
      "  wavelet = DiscreteContinuousWavelet(wavelet)\n"
     ]
    },
    {
     "name": "stdout",
     "output_type": "stream",
     "text": [
      "Opening raw data file C:\\School\\EE_Y3\\Q4\\BAP\\eeg_thesis_cnn_repo\\data\\external\\interim\\S041R11_filtered.fif...\n",
      "Isotrak not found\n",
      "    Range : 0 ... 30749 =      0.000 ...   122.996 secs\n",
      "Ready.\n",
      "Reading 0 ... 30749  =      0.000 ...   122.996 secs...\n",
      "Used Annotations descriptions: ['T0', 'T1', 'T2']\n",
      "Not setting metadata\n",
      "15 matching events found\n",
      "No baseline correction applied\n",
      "0 projection items activated\n",
      "Using data from preloaded Raw for 15 events and 126 original time points ...\n",
      "0 bad epochs dropped\n"
     ]
    },
    {
     "name": "stderr",
     "output_type": "stream",
     "text": [
      "C:\\Users\\chakr\\AppData\\Local\\Temp\\ipykernel_13788\\3980180034.py:3: RuntimeWarning: This filename (C:\\School\\EE_Y3\\Q4\\BAP\\eeg_thesis_cnn_repo\\data\\external\\interim\\S041R11_filtered.fif) does not conform to MNE naming conventions. All raw files should end with raw.fif, raw_sss.fif, raw_tsss.fif, _meg.fif, _eeg.fif, _ieeg.fif, raw.fif.gz, raw_sss.fif.gz, raw_tsss.fif.gz, _meg.fif.gz, _eeg.fif.gz or _ieeg.fif.gz\n",
      "  raw = mne.io.read_raw_fif(fif_file, preload=True)\n",
      "c:\\Users\\chakr\\Anaconda3\\envs\\eeg_thesis\\lib\\site-packages\\pywt\\_functions.py:143: FutureWarning: Wavelets from the family cmor, without parameters specified in the name are deprecated. The name should takethe form cmorB-C where B and C are floats representing the bandwidth frequency and center frequency, respectively (example: cmor1.5-1.0).\n",
      "  wavelet = DiscreteContinuousWavelet(wavelet)\n",
      "c:\\Users\\chakr\\Anaconda3\\envs\\eeg_thesis\\lib\\site-packages\\pywt\\_cwt.py:117: FutureWarning: Wavelets from the family cmor, without parameters specified in the name are deprecated. The name should takethe form cmorB-C where B and C are floats representing the bandwidth frequency and center frequency, respectively (example: cmor1.5-1.0).\n",
      "  wavelet = DiscreteContinuousWavelet(wavelet)\n"
     ]
    },
    {
     "name": "stdout",
     "output_type": "stream",
     "text": [
      "Opening raw data file C:\\School\\EE_Y3\\Q4\\BAP\\eeg_thesis_cnn_repo\\data\\external\\interim\\S042R03_filtered.fif...\n",
      "Isotrak not found\n",
      "    Range : 0 ... 30749 =      0.000 ...   122.996 secs\n",
      "Ready.\n",
      "Reading 0 ... 30749  =      0.000 ...   122.996 secs...\n",
      "Used Annotations descriptions: ['T0', 'T1', 'T2']\n",
      "Not setting metadata\n",
      "15 matching events found\n",
      "No baseline correction applied\n",
      "0 projection items activated\n",
      "Using data from preloaded Raw for 15 events and 126 original time points ...\n",
      "0 bad epochs dropped\n"
     ]
    },
    {
     "name": "stderr",
     "output_type": "stream",
     "text": [
      "C:\\Users\\chakr\\AppData\\Local\\Temp\\ipykernel_13788\\3980180034.py:3: RuntimeWarning: This filename (C:\\School\\EE_Y3\\Q4\\BAP\\eeg_thesis_cnn_repo\\data\\external\\interim\\S042R03_filtered.fif) does not conform to MNE naming conventions. All raw files should end with raw.fif, raw_sss.fif, raw_tsss.fif, _meg.fif, _eeg.fif, _ieeg.fif, raw.fif.gz, raw_sss.fif.gz, raw_tsss.fif.gz, _meg.fif.gz, _eeg.fif.gz or _ieeg.fif.gz\n",
      "  raw = mne.io.read_raw_fif(fif_file, preload=True)\n",
      "c:\\Users\\chakr\\Anaconda3\\envs\\eeg_thesis\\lib\\site-packages\\pywt\\_functions.py:143: FutureWarning: Wavelets from the family cmor, without parameters specified in the name are deprecated. The name should takethe form cmorB-C where B and C are floats representing the bandwidth frequency and center frequency, respectively (example: cmor1.5-1.0).\n",
      "  wavelet = DiscreteContinuousWavelet(wavelet)\n",
      "c:\\Users\\chakr\\Anaconda3\\envs\\eeg_thesis\\lib\\site-packages\\pywt\\_cwt.py:117: FutureWarning: Wavelets from the family cmor, without parameters specified in the name are deprecated. The name should takethe form cmorB-C where B and C are floats representing the bandwidth frequency and center frequency, respectively (example: cmor1.5-1.0).\n",
      "  wavelet = DiscreteContinuousWavelet(wavelet)\n"
     ]
    },
    {
     "name": "stdout",
     "output_type": "stream",
     "text": [
      "Opening raw data file C:\\School\\EE_Y3\\Q4\\BAP\\eeg_thesis_cnn_repo\\data\\external\\interim\\S042R07_filtered.fif...\n",
      "Isotrak not found\n",
      "    Range : 0 ... 30749 =      0.000 ...   122.996 secs\n",
      "Ready.\n",
      "Reading 0 ... 30749  =      0.000 ...   122.996 secs...\n",
      "Used Annotations descriptions: ['T0', 'T1', 'T2']\n",
      "Not setting metadata\n",
      "15 matching events found\n",
      "No baseline correction applied\n",
      "0 projection items activated\n",
      "Using data from preloaded Raw for 15 events and 126 original time points ...\n",
      "0 bad epochs dropped\n"
     ]
    },
    {
     "name": "stderr",
     "output_type": "stream",
     "text": [
      "C:\\Users\\chakr\\AppData\\Local\\Temp\\ipykernel_13788\\3980180034.py:3: RuntimeWarning: This filename (C:\\School\\EE_Y3\\Q4\\BAP\\eeg_thesis_cnn_repo\\data\\external\\interim\\S042R07_filtered.fif) does not conform to MNE naming conventions. All raw files should end with raw.fif, raw_sss.fif, raw_tsss.fif, _meg.fif, _eeg.fif, _ieeg.fif, raw.fif.gz, raw_sss.fif.gz, raw_tsss.fif.gz, _meg.fif.gz, _eeg.fif.gz or _ieeg.fif.gz\n",
      "  raw = mne.io.read_raw_fif(fif_file, preload=True)\n",
      "c:\\Users\\chakr\\Anaconda3\\envs\\eeg_thesis\\lib\\site-packages\\pywt\\_functions.py:143: FutureWarning: Wavelets from the family cmor, without parameters specified in the name are deprecated. The name should takethe form cmorB-C where B and C are floats representing the bandwidth frequency and center frequency, respectively (example: cmor1.5-1.0).\n",
      "  wavelet = DiscreteContinuousWavelet(wavelet)\n",
      "c:\\Users\\chakr\\Anaconda3\\envs\\eeg_thesis\\lib\\site-packages\\pywt\\_cwt.py:117: FutureWarning: Wavelets from the family cmor, without parameters specified in the name are deprecated. The name should takethe form cmorB-C where B and C are floats representing the bandwidth frequency and center frequency, respectively (example: cmor1.5-1.0).\n",
      "  wavelet = DiscreteContinuousWavelet(wavelet)\n"
     ]
    },
    {
     "name": "stdout",
     "output_type": "stream",
     "text": [
      "Opening raw data file C:\\School\\EE_Y3\\Q4\\BAP\\eeg_thesis_cnn_repo\\data\\external\\interim\\S042R11_filtered.fif...\n",
      "Isotrak not found\n",
      "    Range : 0 ... 30749 =      0.000 ...   122.996 secs\n",
      "Ready.\n",
      "Reading 0 ... 30749  =      0.000 ...   122.996 secs...\n",
      "Used Annotations descriptions: ['T0', 'T1', 'T2']\n",
      "Not setting metadata\n",
      "15 matching events found\n",
      "No baseline correction applied\n",
      "0 projection items activated\n",
      "Using data from preloaded Raw for 15 events and 126 original time points ...\n",
      "0 bad epochs dropped\n"
     ]
    },
    {
     "name": "stderr",
     "output_type": "stream",
     "text": [
      "C:\\Users\\chakr\\AppData\\Local\\Temp\\ipykernel_13788\\3980180034.py:3: RuntimeWarning: This filename (C:\\School\\EE_Y3\\Q4\\BAP\\eeg_thesis_cnn_repo\\data\\external\\interim\\S042R11_filtered.fif) does not conform to MNE naming conventions. All raw files should end with raw.fif, raw_sss.fif, raw_tsss.fif, _meg.fif, _eeg.fif, _ieeg.fif, raw.fif.gz, raw_sss.fif.gz, raw_tsss.fif.gz, _meg.fif.gz, _eeg.fif.gz or _ieeg.fif.gz\n",
      "  raw = mne.io.read_raw_fif(fif_file, preload=True)\n",
      "c:\\Users\\chakr\\Anaconda3\\envs\\eeg_thesis\\lib\\site-packages\\pywt\\_functions.py:143: FutureWarning: Wavelets from the family cmor, without parameters specified in the name are deprecated. The name should takethe form cmorB-C where B and C are floats representing the bandwidth frequency and center frequency, respectively (example: cmor1.5-1.0).\n",
      "  wavelet = DiscreteContinuousWavelet(wavelet)\n",
      "c:\\Users\\chakr\\Anaconda3\\envs\\eeg_thesis\\lib\\site-packages\\pywt\\_cwt.py:117: FutureWarning: Wavelets from the family cmor, without parameters specified in the name are deprecated. The name should takethe form cmorB-C where B and C are floats representing the bandwidth frequency and center frequency, respectively (example: cmor1.5-1.0).\n",
      "  wavelet = DiscreteContinuousWavelet(wavelet)\n"
     ]
    },
    {
     "name": "stdout",
     "output_type": "stream",
     "text": [
      "Opening raw data file C:\\School\\EE_Y3\\Q4\\BAP\\eeg_thesis_cnn_repo\\data\\external\\interim\\S043R03_filtered.fif...\n",
      "Isotrak not found\n",
      "    Range : 0 ... 30749 =      0.000 ...   122.996 secs\n",
      "Ready.\n",
      "Reading 0 ... 30749  =      0.000 ...   122.996 secs...\n",
      "Used Annotations descriptions: ['T0', 'T1', 'T2']\n",
      "Not setting metadata\n",
      "15 matching events found\n",
      "No baseline correction applied\n",
      "0 projection items activated\n",
      "Using data from preloaded Raw for 15 events and 126 original time points ...\n",
      "0 bad epochs dropped\n"
     ]
    },
    {
     "name": "stderr",
     "output_type": "stream",
     "text": [
      "C:\\Users\\chakr\\AppData\\Local\\Temp\\ipykernel_13788\\3980180034.py:3: RuntimeWarning: This filename (C:\\School\\EE_Y3\\Q4\\BAP\\eeg_thesis_cnn_repo\\data\\external\\interim\\S043R03_filtered.fif) does not conform to MNE naming conventions. All raw files should end with raw.fif, raw_sss.fif, raw_tsss.fif, _meg.fif, _eeg.fif, _ieeg.fif, raw.fif.gz, raw_sss.fif.gz, raw_tsss.fif.gz, _meg.fif.gz, _eeg.fif.gz or _ieeg.fif.gz\n",
      "  raw = mne.io.read_raw_fif(fif_file, preload=True)\n",
      "c:\\Users\\chakr\\Anaconda3\\envs\\eeg_thesis\\lib\\site-packages\\pywt\\_functions.py:143: FutureWarning: Wavelets from the family cmor, without parameters specified in the name are deprecated. The name should takethe form cmorB-C where B and C are floats representing the bandwidth frequency and center frequency, respectively (example: cmor1.5-1.0).\n",
      "  wavelet = DiscreteContinuousWavelet(wavelet)\n",
      "c:\\Users\\chakr\\Anaconda3\\envs\\eeg_thesis\\lib\\site-packages\\pywt\\_cwt.py:117: FutureWarning: Wavelets from the family cmor, without parameters specified in the name are deprecated. The name should takethe form cmorB-C where B and C are floats representing the bandwidth frequency and center frequency, respectively (example: cmor1.5-1.0).\n",
      "  wavelet = DiscreteContinuousWavelet(wavelet)\n"
     ]
    },
    {
     "name": "stdout",
     "output_type": "stream",
     "text": [
      "Opening raw data file C:\\School\\EE_Y3\\Q4\\BAP\\eeg_thesis_cnn_repo\\data\\external\\interim\\S043R07_filtered.fif...\n",
      "Isotrak not found\n",
      "    Range : 0 ... 30749 =      0.000 ...   122.996 secs\n",
      "Ready.\n",
      "Reading 0 ... 30749  =      0.000 ...   122.996 secs...\n",
      "Used Annotations descriptions: ['T0', 'T1', 'T2']\n",
      "Not setting metadata\n",
      "15 matching events found\n",
      "No baseline correction applied\n",
      "0 projection items activated\n",
      "Using data from preloaded Raw for 15 events and 126 original time points ...\n",
      "0 bad epochs dropped\n"
     ]
    },
    {
     "name": "stderr",
     "output_type": "stream",
     "text": [
      "C:\\Users\\chakr\\AppData\\Local\\Temp\\ipykernel_13788\\3980180034.py:3: RuntimeWarning: This filename (C:\\School\\EE_Y3\\Q4\\BAP\\eeg_thesis_cnn_repo\\data\\external\\interim\\S043R07_filtered.fif) does not conform to MNE naming conventions. All raw files should end with raw.fif, raw_sss.fif, raw_tsss.fif, _meg.fif, _eeg.fif, _ieeg.fif, raw.fif.gz, raw_sss.fif.gz, raw_tsss.fif.gz, _meg.fif.gz, _eeg.fif.gz or _ieeg.fif.gz\n",
      "  raw = mne.io.read_raw_fif(fif_file, preload=True)\n",
      "c:\\Users\\chakr\\Anaconda3\\envs\\eeg_thesis\\lib\\site-packages\\pywt\\_functions.py:143: FutureWarning: Wavelets from the family cmor, without parameters specified in the name are deprecated. The name should takethe form cmorB-C where B and C are floats representing the bandwidth frequency and center frequency, respectively (example: cmor1.5-1.0).\n",
      "  wavelet = DiscreteContinuousWavelet(wavelet)\n",
      "c:\\Users\\chakr\\Anaconda3\\envs\\eeg_thesis\\lib\\site-packages\\pywt\\_cwt.py:117: FutureWarning: Wavelets from the family cmor, without parameters specified in the name are deprecated. The name should takethe form cmorB-C where B and C are floats representing the bandwidth frequency and center frequency, respectively (example: cmor1.5-1.0).\n",
      "  wavelet = DiscreteContinuousWavelet(wavelet)\n"
     ]
    },
    {
     "name": "stdout",
     "output_type": "stream",
     "text": [
      "Opening raw data file C:\\School\\EE_Y3\\Q4\\BAP\\eeg_thesis_cnn_repo\\data\\external\\interim\\S043R11_filtered.fif...\n",
      "Isotrak not found\n",
      "    Range : 0 ... 30749 =      0.000 ...   122.996 secs\n",
      "Ready.\n",
      "Reading 0 ... 30749  =      0.000 ...   122.996 secs...\n",
      "Used Annotations descriptions: ['T0', 'T1', 'T2']\n",
      "Not setting metadata\n",
      "15 matching events found\n",
      "No baseline correction applied\n",
      "0 projection items activated\n",
      "Using data from preloaded Raw for 15 events and 126 original time points ...\n",
      "0 bad epochs dropped\n"
     ]
    },
    {
     "name": "stderr",
     "output_type": "stream",
     "text": [
      "C:\\Users\\chakr\\AppData\\Local\\Temp\\ipykernel_13788\\3980180034.py:3: RuntimeWarning: This filename (C:\\School\\EE_Y3\\Q4\\BAP\\eeg_thesis_cnn_repo\\data\\external\\interim\\S043R11_filtered.fif) does not conform to MNE naming conventions. All raw files should end with raw.fif, raw_sss.fif, raw_tsss.fif, _meg.fif, _eeg.fif, _ieeg.fif, raw.fif.gz, raw_sss.fif.gz, raw_tsss.fif.gz, _meg.fif.gz, _eeg.fif.gz or _ieeg.fif.gz\n",
      "  raw = mne.io.read_raw_fif(fif_file, preload=True)\n",
      "c:\\Users\\chakr\\Anaconda3\\envs\\eeg_thesis\\lib\\site-packages\\pywt\\_functions.py:143: FutureWarning: Wavelets from the family cmor, without parameters specified in the name are deprecated. The name should takethe form cmorB-C where B and C are floats representing the bandwidth frequency and center frequency, respectively (example: cmor1.5-1.0).\n",
      "  wavelet = DiscreteContinuousWavelet(wavelet)\n",
      "c:\\Users\\chakr\\Anaconda3\\envs\\eeg_thesis\\lib\\site-packages\\pywt\\_cwt.py:117: FutureWarning: Wavelets from the family cmor, without parameters specified in the name are deprecated. The name should takethe form cmorB-C where B and C are floats representing the bandwidth frequency and center frequency, respectively (example: cmor1.5-1.0).\n",
      "  wavelet = DiscreteContinuousWavelet(wavelet)\n"
     ]
    },
    {
     "name": "stdout",
     "output_type": "stream",
     "text": [
      "Opening raw data file C:\\School\\EE_Y3\\Q4\\BAP\\eeg_thesis_cnn_repo\\data\\external\\interim\\S044R03_filtered.fif...\n",
      "Isotrak not found\n",
      "    Range : 0 ... 30749 =      0.000 ...   122.996 secs\n",
      "Ready.\n",
      "Reading 0 ... 30749  =      0.000 ...   122.996 secs...\n",
      "Used Annotations descriptions: ['T0', 'T1', 'T2']\n",
      "Not setting metadata\n",
      "15 matching events found\n",
      "No baseline correction applied\n",
      "0 projection items activated\n",
      "Using data from preloaded Raw for 15 events and 126 original time points ...\n",
      "0 bad epochs dropped\n"
     ]
    },
    {
     "name": "stderr",
     "output_type": "stream",
     "text": [
      "C:\\Users\\chakr\\AppData\\Local\\Temp\\ipykernel_13788\\3980180034.py:3: RuntimeWarning: This filename (C:\\School\\EE_Y3\\Q4\\BAP\\eeg_thesis_cnn_repo\\data\\external\\interim\\S044R03_filtered.fif) does not conform to MNE naming conventions. All raw files should end with raw.fif, raw_sss.fif, raw_tsss.fif, _meg.fif, _eeg.fif, _ieeg.fif, raw.fif.gz, raw_sss.fif.gz, raw_tsss.fif.gz, _meg.fif.gz, _eeg.fif.gz or _ieeg.fif.gz\n",
      "  raw = mne.io.read_raw_fif(fif_file, preload=True)\n",
      "c:\\Users\\chakr\\Anaconda3\\envs\\eeg_thesis\\lib\\site-packages\\pywt\\_functions.py:143: FutureWarning: Wavelets from the family cmor, without parameters specified in the name are deprecated. The name should takethe form cmorB-C where B and C are floats representing the bandwidth frequency and center frequency, respectively (example: cmor1.5-1.0).\n",
      "  wavelet = DiscreteContinuousWavelet(wavelet)\n",
      "c:\\Users\\chakr\\Anaconda3\\envs\\eeg_thesis\\lib\\site-packages\\pywt\\_cwt.py:117: FutureWarning: Wavelets from the family cmor, without parameters specified in the name are deprecated. The name should takethe form cmorB-C where B and C are floats representing the bandwidth frequency and center frequency, respectively (example: cmor1.5-1.0).\n",
      "  wavelet = DiscreteContinuousWavelet(wavelet)\n"
     ]
    },
    {
     "name": "stdout",
     "output_type": "stream",
     "text": [
      "Opening raw data file C:\\School\\EE_Y3\\Q4\\BAP\\eeg_thesis_cnn_repo\\data\\external\\interim\\S044R07_filtered.fif...\n",
      "Isotrak not found\n",
      "    Range : 0 ... 30749 =      0.000 ...   122.996 secs\n",
      "Ready.\n",
      "Reading 0 ... 30749  =      0.000 ...   122.996 secs...\n",
      "Used Annotations descriptions: ['T0', 'T1', 'T2']\n",
      "Not setting metadata\n",
      "15 matching events found\n",
      "No baseline correction applied\n",
      "0 projection items activated\n",
      "Using data from preloaded Raw for 15 events and 126 original time points ...\n",
      "0 bad epochs dropped\n"
     ]
    },
    {
     "name": "stderr",
     "output_type": "stream",
     "text": [
      "C:\\Users\\chakr\\AppData\\Local\\Temp\\ipykernel_13788\\3980180034.py:3: RuntimeWarning: This filename (C:\\School\\EE_Y3\\Q4\\BAP\\eeg_thesis_cnn_repo\\data\\external\\interim\\S044R07_filtered.fif) does not conform to MNE naming conventions. All raw files should end with raw.fif, raw_sss.fif, raw_tsss.fif, _meg.fif, _eeg.fif, _ieeg.fif, raw.fif.gz, raw_sss.fif.gz, raw_tsss.fif.gz, _meg.fif.gz, _eeg.fif.gz or _ieeg.fif.gz\n",
      "  raw = mne.io.read_raw_fif(fif_file, preload=True)\n",
      "c:\\Users\\chakr\\Anaconda3\\envs\\eeg_thesis\\lib\\site-packages\\pywt\\_functions.py:143: FutureWarning: Wavelets from the family cmor, without parameters specified in the name are deprecated. The name should takethe form cmorB-C where B and C are floats representing the bandwidth frequency and center frequency, respectively (example: cmor1.5-1.0).\n",
      "  wavelet = DiscreteContinuousWavelet(wavelet)\n",
      "c:\\Users\\chakr\\Anaconda3\\envs\\eeg_thesis\\lib\\site-packages\\pywt\\_cwt.py:117: FutureWarning: Wavelets from the family cmor, without parameters specified in the name are deprecated. The name should takethe form cmorB-C where B and C are floats representing the bandwidth frequency and center frequency, respectively (example: cmor1.5-1.0).\n",
      "  wavelet = DiscreteContinuousWavelet(wavelet)\n"
     ]
    },
    {
     "name": "stdout",
     "output_type": "stream",
     "text": [
      "Opening raw data file C:\\School\\EE_Y3\\Q4\\BAP\\eeg_thesis_cnn_repo\\data\\external\\interim\\S044R11_filtered.fif...\n",
      "Isotrak not found\n",
      "    Range : 0 ... 30749 =      0.000 ...   122.996 secs\n",
      "Ready.\n",
      "Reading 0 ... 30749  =      0.000 ...   122.996 secs...\n",
      "Used Annotations descriptions: ['T0', 'T1', 'T2']\n",
      "Not setting metadata\n",
      "15 matching events found\n",
      "No baseline correction applied\n",
      "0 projection items activated\n",
      "Using data from preloaded Raw for 15 events and 126 original time points ...\n",
      "0 bad epochs dropped\n"
     ]
    },
    {
     "name": "stderr",
     "output_type": "stream",
     "text": [
      "C:\\Users\\chakr\\AppData\\Local\\Temp\\ipykernel_13788\\3980180034.py:3: RuntimeWarning: This filename (C:\\School\\EE_Y3\\Q4\\BAP\\eeg_thesis_cnn_repo\\data\\external\\interim\\S044R11_filtered.fif) does not conform to MNE naming conventions. All raw files should end with raw.fif, raw_sss.fif, raw_tsss.fif, _meg.fif, _eeg.fif, _ieeg.fif, raw.fif.gz, raw_sss.fif.gz, raw_tsss.fif.gz, _meg.fif.gz, _eeg.fif.gz or _ieeg.fif.gz\n",
      "  raw = mne.io.read_raw_fif(fif_file, preload=True)\n",
      "c:\\Users\\chakr\\Anaconda3\\envs\\eeg_thesis\\lib\\site-packages\\pywt\\_functions.py:143: FutureWarning: Wavelets from the family cmor, without parameters specified in the name are deprecated. The name should takethe form cmorB-C where B and C are floats representing the bandwidth frequency and center frequency, respectively (example: cmor1.5-1.0).\n",
      "  wavelet = DiscreteContinuousWavelet(wavelet)\n",
      "c:\\Users\\chakr\\Anaconda3\\envs\\eeg_thesis\\lib\\site-packages\\pywt\\_cwt.py:117: FutureWarning: Wavelets from the family cmor, without parameters specified in the name are deprecated. The name should takethe form cmorB-C where B and C are floats representing the bandwidth frequency and center frequency, respectively (example: cmor1.5-1.0).\n",
      "  wavelet = DiscreteContinuousWavelet(wavelet)\n"
     ]
    },
    {
     "name": "stdout",
     "output_type": "stream",
     "text": [
      "Opening raw data file C:\\School\\EE_Y3\\Q4\\BAP\\eeg_thesis_cnn_repo\\data\\external\\interim\\S045R03_filtered.fif...\n",
      "Isotrak not found\n",
      "    Range : 0 ... 30749 =      0.000 ...   122.996 secs\n",
      "Ready.\n",
      "Reading 0 ... 30749  =      0.000 ...   122.996 secs...\n",
      "Used Annotations descriptions: ['T0', 'T1', 'T2']\n",
      "Not setting metadata\n",
      "15 matching events found\n",
      "No baseline correction applied\n",
      "0 projection items activated\n",
      "Using data from preloaded Raw for 15 events and 126 original time points ...\n",
      "0 bad epochs dropped\n"
     ]
    },
    {
     "name": "stderr",
     "output_type": "stream",
     "text": [
      "C:\\Users\\chakr\\AppData\\Local\\Temp\\ipykernel_13788\\3980180034.py:3: RuntimeWarning: This filename (C:\\School\\EE_Y3\\Q4\\BAP\\eeg_thesis_cnn_repo\\data\\external\\interim\\S045R03_filtered.fif) does not conform to MNE naming conventions. All raw files should end with raw.fif, raw_sss.fif, raw_tsss.fif, _meg.fif, _eeg.fif, _ieeg.fif, raw.fif.gz, raw_sss.fif.gz, raw_tsss.fif.gz, _meg.fif.gz, _eeg.fif.gz or _ieeg.fif.gz\n",
      "  raw = mne.io.read_raw_fif(fif_file, preload=True)\n",
      "c:\\Users\\chakr\\Anaconda3\\envs\\eeg_thesis\\lib\\site-packages\\pywt\\_functions.py:143: FutureWarning: Wavelets from the family cmor, without parameters specified in the name are deprecated. The name should takethe form cmorB-C where B and C are floats representing the bandwidth frequency and center frequency, respectively (example: cmor1.5-1.0).\n",
      "  wavelet = DiscreteContinuousWavelet(wavelet)\n",
      "c:\\Users\\chakr\\Anaconda3\\envs\\eeg_thesis\\lib\\site-packages\\pywt\\_cwt.py:117: FutureWarning: Wavelets from the family cmor, without parameters specified in the name are deprecated. The name should takethe form cmorB-C where B and C are floats representing the bandwidth frequency and center frequency, respectively (example: cmor1.5-1.0).\n",
      "  wavelet = DiscreteContinuousWavelet(wavelet)\n"
     ]
    },
    {
     "name": "stdout",
     "output_type": "stream",
     "text": [
      "Opening raw data file C:\\School\\EE_Y3\\Q4\\BAP\\eeg_thesis_cnn_repo\\data\\external\\interim\\S045R07_filtered.fif...\n",
      "Isotrak not found\n",
      "    Range : 0 ... 30749 =      0.000 ...   122.996 secs\n",
      "Ready.\n",
      "Reading 0 ... 30749  =      0.000 ...   122.996 secs...\n",
      "Used Annotations descriptions: ['T0', 'T1', 'T2']\n",
      "Not setting metadata\n",
      "15 matching events found\n",
      "No baseline correction applied\n",
      "0 projection items activated\n",
      "Using data from preloaded Raw for 15 events and 126 original time points ...\n",
      "0 bad epochs dropped\n"
     ]
    },
    {
     "name": "stderr",
     "output_type": "stream",
     "text": [
      "C:\\Users\\chakr\\AppData\\Local\\Temp\\ipykernel_13788\\3980180034.py:3: RuntimeWarning: This filename (C:\\School\\EE_Y3\\Q4\\BAP\\eeg_thesis_cnn_repo\\data\\external\\interim\\S045R07_filtered.fif) does not conform to MNE naming conventions. All raw files should end with raw.fif, raw_sss.fif, raw_tsss.fif, _meg.fif, _eeg.fif, _ieeg.fif, raw.fif.gz, raw_sss.fif.gz, raw_tsss.fif.gz, _meg.fif.gz, _eeg.fif.gz or _ieeg.fif.gz\n",
      "  raw = mne.io.read_raw_fif(fif_file, preload=True)\n",
      "c:\\Users\\chakr\\Anaconda3\\envs\\eeg_thesis\\lib\\site-packages\\pywt\\_functions.py:143: FutureWarning: Wavelets from the family cmor, without parameters specified in the name are deprecated. The name should takethe form cmorB-C where B and C are floats representing the bandwidth frequency and center frequency, respectively (example: cmor1.5-1.0).\n",
      "  wavelet = DiscreteContinuousWavelet(wavelet)\n",
      "c:\\Users\\chakr\\Anaconda3\\envs\\eeg_thesis\\lib\\site-packages\\pywt\\_cwt.py:117: FutureWarning: Wavelets from the family cmor, without parameters specified in the name are deprecated. The name should takethe form cmorB-C where B and C are floats representing the bandwidth frequency and center frequency, respectively (example: cmor1.5-1.0).\n",
      "  wavelet = DiscreteContinuousWavelet(wavelet)\n"
     ]
    },
    {
     "name": "stdout",
     "output_type": "stream",
     "text": [
      "Opening raw data file C:\\School\\EE_Y3\\Q4\\BAP\\eeg_thesis_cnn_repo\\data\\external\\interim\\S045R11_filtered.fif...\n",
      "Isotrak not found\n",
      "    Range : 0 ... 30749 =      0.000 ...   122.996 secs\n",
      "Ready.\n",
      "Reading 0 ... 30749  =      0.000 ...   122.996 secs...\n",
      "Used Annotations descriptions: ['T0', 'T1', 'T2']\n",
      "Not setting metadata\n",
      "15 matching events found\n",
      "No baseline correction applied\n",
      "0 projection items activated\n",
      "Using data from preloaded Raw for 15 events and 126 original time points ...\n",
      "0 bad epochs dropped\n"
     ]
    },
    {
     "name": "stderr",
     "output_type": "stream",
     "text": [
      "C:\\Users\\chakr\\AppData\\Local\\Temp\\ipykernel_13788\\3980180034.py:3: RuntimeWarning: This filename (C:\\School\\EE_Y3\\Q4\\BAP\\eeg_thesis_cnn_repo\\data\\external\\interim\\S045R11_filtered.fif) does not conform to MNE naming conventions. All raw files should end with raw.fif, raw_sss.fif, raw_tsss.fif, _meg.fif, _eeg.fif, _ieeg.fif, raw.fif.gz, raw_sss.fif.gz, raw_tsss.fif.gz, _meg.fif.gz, _eeg.fif.gz or _ieeg.fif.gz\n",
      "  raw = mne.io.read_raw_fif(fif_file, preload=True)\n",
      "c:\\Users\\chakr\\Anaconda3\\envs\\eeg_thesis\\lib\\site-packages\\pywt\\_functions.py:143: FutureWarning: Wavelets from the family cmor, without parameters specified in the name are deprecated. The name should takethe form cmorB-C where B and C are floats representing the bandwidth frequency and center frequency, respectively (example: cmor1.5-1.0).\n",
      "  wavelet = DiscreteContinuousWavelet(wavelet)\n",
      "c:\\Users\\chakr\\Anaconda3\\envs\\eeg_thesis\\lib\\site-packages\\pywt\\_cwt.py:117: FutureWarning: Wavelets from the family cmor, without parameters specified in the name are deprecated. The name should takethe form cmorB-C where B and C are floats representing the bandwidth frequency and center frequency, respectively (example: cmor1.5-1.0).\n",
      "  wavelet = DiscreteContinuousWavelet(wavelet)\n"
     ]
    },
    {
     "name": "stdout",
     "output_type": "stream",
     "text": [
      "Opening raw data file C:\\School\\EE_Y3\\Q4\\BAP\\eeg_thesis_cnn_repo\\data\\external\\interim\\S046R03_filtered.fif...\n",
      "Isotrak not found\n",
      "    Range : 0 ... 31249 =      0.000 ...   124.996 secs\n",
      "Ready.\n",
      "Reading 0 ... 31249  =      0.000 ...   124.996 secs...\n",
      "Used Annotations descriptions: ['T0', 'T1', 'T2']\n",
      "Not setting metadata\n",
      "15 matching events found\n",
      "No baseline correction applied\n",
      "0 projection items activated\n",
      "Using data from preloaded Raw for 15 events and 126 original time points ...\n",
      "0 bad epochs dropped\n"
     ]
    },
    {
     "name": "stderr",
     "output_type": "stream",
     "text": [
      "C:\\Users\\chakr\\AppData\\Local\\Temp\\ipykernel_13788\\3980180034.py:3: RuntimeWarning: This filename (C:\\School\\EE_Y3\\Q4\\BAP\\eeg_thesis_cnn_repo\\data\\external\\interim\\S046R03_filtered.fif) does not conform to MNE naming conventions. All raw files should end with raw.fif, raw_sss.fif, raw_tsss.fif, _meg.fif, _eeg.fif, _ieeg.fif, raw.fif.gz, raw_sss.fif.gz, raw_tsss.fif.gz, _meg.fif.gz, _eeg.fif.gz or _ieeg.fif.gz\n",
      "  raw = mne.io.read_raw_fif(fif_file, preload=True)\n",
      "c:\\Users\\chakr\\Anaconda3\\envs\\eeg_thesis\\lib\\site-packages\\pywt\\_functions.py:143: FutureWarning: Wavelets from the family cmor, without parameters specified in the name are deprecated. The name should takethe form cmorB-C where B and C are floats representing the bandwidth frequency and center frequency, respectively (example: cmor1.5-1.0).\n",
      "  wavelet = DiscreteContinuousWavelet(wavelet)\n",
      "c:\\Users\\chakr\\Anaconda3\\envs\\eeg_thesis\\lib\\site-packages\\pywt\\_cwt.py:117: FutureWarning: Wavelets from the family cmor, without parameters specified in the name are deprecated. The name should takethe form cmorB-C where B and C are floats representing the bandwidth frequency and center frequency, respectively (example: cmor1.5-1.0).\n",
      "  wavelet = DiscreteContinuousWavelet(wavelet)\n"
     ]
    },
    {
     "name": "stdout",
     "output_type": "stream",
     "text": [
      "Opening raw data file C:\\School\\EE_Y3\\Q4\\BAP\\eeg_thesis_cnn_repo\\data\\external\\interim\\S046R07_filtered.fif...\n",
      "Isotrak not found\n",
      "    Range : 0 ... 31249 =      0.000 ...   124.996 secs\n",
      "Ready.\n",
      "Reading 0 ... 31249  =      0.000 ...   124.996 secs...\n",
      "Used Annotations descriptions: ['T0', 'T1', 'T2']\n",
      "Not setting metadata\n",
      "15 matching events found\n",
      "No baseline correction applied\n",
      "0 projection items activated\n",
      "Using data from preloaded Raw for 15 events and 126 original time points ...\n",
      "0 bad epochs dropped\n"
     ]
    },
    {
     "name": "stderr",
     "output_type": "stream",
     "text": [
      "C:\\Users\\chakr\\AppData\\Local\\Temp\\ipykernel_13788\\3980180034.py:3: RuntimeWarning: This filename (C:\\School\\EE_Y3\\Q4\\BAP\\eeg_thesis_cnn_repo\\data\\external\\interim\\S046R07_filtered.fif) does not conform to MNE naming conventions. All raw files should end with raw.fif, raw_sss.fif, raw_tsss.fif, _meg.fif, _eeg.fif, _ieeg.fif, raw.fif.gz, raw_sss.fif.gz, raw_tsss.fif.gz, _meg.fif.gz, _eeg.fif.gz or _ieeg.fif.gz\n",
      "  raw = mne.io.read_raw_fif(fif_file, preload=True)\n",
      "c:\\Users\\chakr\\Anaconda3\\envs\\eeg_thesis\\lib\\site-packages\\pywt\\_functions.py:143: FutureWarning: Wavelets from the family cmor, without parameters specified in the name are deprecated. The name should takethe form cmorB-C where B and C are floats representing the bandwidth frequency and center frequency, respectively (example: cmor1.5-1.0).\n",
      "  wavelet = DiscreteContinuousWavelet(wavelet)\n",
      "c:\\Users\\chakr\\Anaconda3\\envs\\eeg_thesis\\lib\\site-packages\\pywt\\_cwt.py:117: FutureWarning: Wavelets from the family cmor, without parameters specified in the name are deprecated. The name should takethe form cmorB-C where B and C are floats representing the bandwidth frequency and center frequency, respectively (example: cmor1.5-1.0).\n",
      "  wavelet = DiscreteContinuousWavelet(wavelet)\n"
     ]
    },
    {
     "name": "stdout",
     "output_type": "stream",
     "text": [
      "Opening raw data file C:\\School\\EE_Y3\\Q4\\BAP\\eeg_thesis_cnn_repo\\data\\external\\interim\\S046R11_filtered.fif...\n",
      "Isotrak not found\n",
      "    Range : 0 ... 31249 =      0.000 ...   124.996 secs\n",
      "Ready.\n",
      "Reading 0 ... 31249  =      0.000 ...   124.996 secs...\n",
      "Used Annotations descriptions: ['T0', 'T1', 'T2']\n",
      "Not setting metadata\n",
      "15 matching events found\n",
      "No baseline correction applied\n",
      "0 projection items activated\n",
      "Using data from preloaded Raw for 15 events and 126 original time points ...\n",
      "0 bad epochs dropped\n"
     ]
    },
    {
     "name": "stderr",
     "output_type": "stream",
     "text": [
      "C:\\Users\\chakr\\AppData\\Local\\Temp\\ipykernel_13788\\3980180034.py:3: RuntimeWarning: This filename (C:\\School\\EE_Y3\\Q4\\BAP\\eeg_thesis_cnn_repo\\data\\external\\interim\\S046R11_filtered.fif) does not conform to MNE naming conventions. All raw files should end with raw.fif, raw_sss.fif, raw_tsss.fif, _meg.fif, _eeg.fif, _ieeg.fif, raw.fif.gz, raw_sss.fif.gz, raw_tsss.fif.gz, _meg.fif.gz, _eeg.fif.gz or _ieeg.fif.gz\n",
      "  raw = mne.io.read_raw_fif(fif_file, preload=True)\n",
      "c:\\Users\\chakr\\Anaconda3\\envs\\eeg_thesis\\lib\\site-packages\\pywt\\_functions.py:143: FutureWarning: Wavelets from the family cmor, without parameters specified in the name are deprecated. The name should takethe form cmorB-C where B and C are floats representing the bandwidth frequency and center frequency, respectively (example: cmor1.5-1.0).\n",
      "  wavelet = DiscreteContinuousWavelet(wavelet)\n",
      "c:\\Users\\chakr\\Anaconda3\\envs\\eeg_thesis\\lib\\site-packages\\pywt\\_cwt.py:117: FutureWarning: Wavelets from the family cmor, without parameters specified in the name are deprecated. The name should takethe form cmorB-C where B and C are floats representing the bandwidth frequency and center frequency, respectively (example: cmor1.5-1.0).\n",
      "  wavelet = DiscreteContinuousWavelet(wavelet)\n"
     ]
    },
    {
     "name": "stdout",
     "output_type": "stream",
     "text": [
      "Opening raw data file C:\\School\\EE_Y3\\Q4\\BAP\\eeg_thesis_cnn_repo\\data\\external\\interim\\S047R03_filtered.fif...\n",
      "Isotrak not found\n",
      "    Range : 0 ... 30749 =      0.000 ...   122.996 secs\n",
      "Ready.\n",
      "Reading 0 ... 30749  =      0.000 ...   122.996 secs...\n",
      "Used Annotations descriptions: ['T0', 'T1', 'T2']\n",
      "Not setting metadata\n",
      "15 matching events found\n",
      "No baseline correction applied\n",
      "0 projection items activated\n",
      "Using data from preloaded Raw for 15 events and 126 original time points ...\n",
      "0 bad epochs dropped\n"
     ]
    },
    {
     "name": "stderr",
     "output_type": "stream",
     "text": [
      "C:\\Users\\chakr\\AppData\\Local\\Temp\\ipykernel_13788\\3980180034.py:3: RuntimeWarning: This filename (C:\\School\\EE_Y3\\Q4\\BAP\\eeg_thesis_cnn_repo\\data\\external\\interim\\S047R03_filtered.fif) does not conform to MNE naming conventions. All raw files should end with raw.fif, raw_sss.fif, raw_tsss.fif, _meg.fif, _eeg.fif, _ieeg.fif, raw.fif.gz, raw_sss.fif.gz, raw_tsss.fif.gz, _meg.fif.gz, _eeg.fif.gz or _ieeg.fif.gz\n",
      "  raw = mne.io.read_raw_fif(fif_file, preload=True)\n",
      "c:\\Users\\chakr\\Anaconda3\\envs\\eeg_thesis\\lib\\site-packages\\pywt\\_functions.py:143: FutureWarning: Wavelets from the family cmor, without parameters specified in the name are deprecated. The name should takethe form cmorB-C where B and C are floats representing the bandwidth frequency and center frequency, respectively (example: cmor1.5-1.0).\n",
      "  wavelet = DiscreteContinuousWavelet(wavelet)\n",
      "c:\\Users\\chakr\\Anaconda3\\envs\\eeg_thesis\\lib\\site-packages\\pywt\\_cwt.py:117: FutureWarning: Wavelets from the family cmor, without parameters specified in the name are deprecated. The name should takethe form cmorB-C where B and C are floats representing the bandwidth frequency and center frequency, respectively (example: cmor1.5-1.0).\n",
      "  wavelet = DiscreteContinuousWavelet(wavelet)\n"
     ]
    },
    {
     "name": "stdout",
     "output_type": "stream",
     "text": [
      "Opening raw data file C:\\School\\EE_Y3\\Q4\\BAP\\eeg_thesis_cnn_repo\\data\\external\\interim\\S047R07_filtered.fif...\n",
      "Isotrak not found\n",
      "    Range : 0 ... 30749 =      0.000 ...   122.996 secs\n",
      "Ready.\n",
      "Reading 0 ... 30749  =      0.000 ...   122.996 secs...\n",
      "Used Annotations descriptions: ['T0', 'T1', 'T2']\n",
      "Not setting metadata\n",
      "15 matching events found\n",
      "No baseline correction applied\n",
      "0 projection items activated\n",
      "Using data from preloaded Raw for 15 events and 126 original time points ...\n",
      "0 bad epochs dropped\n"
     ]
    },
    {
     "name": "stderr",
     "output_type": "stream",
     "text": [
      "C:\\Users\\chakr\\AppData\\Local\\Temp\\ipykernel_13788\\3980180034.py:3: RuntimeWarning: This filename (C:\\School\\EE_Y3\\Q4\\BAP\\eeg_thesis_cnn_repo\\data\\external\\interim\\S047R07_filtered.fif) does not conform to MNE naming conventions. All raw files should end with raw.fif, raw_sss.fif, raw_tsss.fif, _meg.fif, _eeg.fif, _ieeg.fif, raw.fif.gz, raw_sss.fif.gz, raw_tsss.fif.gz, _meg.fif.gz, _eeg.fif.gz or _ieeg.fif.gz\n",
      "  raw = mne.io.read_raw_fif(fif_file, preload=True)\n",
      "c:\\Users\\chakr\\Anaconda3\\envs\\eeg_thesis\\lib\\site-packages\\pywt\\_functions.py:143: FutureWarning: Wavelets from the family cmor, without parameters specified in the name are deprecated. The name should takethe form cmorB-C where B and C are floats representing the bandwidth frequency and center frequency, respectively (example: cmor1.5-1.0).\n",
      "  wavelet = DiscreteContinuousWavelet(wavelet)\n",
      "c:\\Users\\chakr\\Anaconda3\\envs\\eeg_thesis\\lib\\site-packages\\pywt\\_cwt.py:117: FutureWarning: Wavelets from the family cmor, without parameters specified in the name are deprecated. The name should takethe form cmorB-C where B and C are floats representing the bandwidth frequency and center frequency, respectively (example: cmor1.5-1.0).\n",
      "  wavelet = DiscreteContinuousWavelet(wavelet)\n"
     ]
    },
    {
     "name": "stdout",
     "output_type": "stream",
     "text": [
      "Opening raw data file C:\\School\\EE_Y3\\Q4\\BAP\\eeg_thesis_cnn_repo\\data\\external\\interim\\S047R11_filtered.fif...\n",
      "Isotrak not found\n",
      "    Range : 0 ... 30749 =      0.000 ...   122.996 secs\n",
      "Ready.\n",
      "Reading 0 ... 30749  =      0.000 ...   122.996 secs...\n",
      "Used Annotations descriptions: ['T0', 'T1', 'T2']\n",
      "Not setting metadata\n",
      "15 matching events found\n",
      "No baseline correction applied\n",
      "0 projection items activated\n",
      "Using data from preloaded Raw for 15 events and 126 original time points ...\n",
      "0 bad epochs dropped\n"
     ]
    },
    {
     "name": "stderr",
     "output_type": "stream",
     "text": [
      "C:\\Users\\chakr\\AppData\\Local\\Temp\\ipykernel_13788\\3980180034.py:3: RuntimeWarning: This filename (C:\\School\\EE_Y3\\Q4\\BAP\\eeg_thesis_cnn_repo\\data\\external\\interim\\S047R11_filtered.fif) does not conform to MNE naming conventions. All raw files should end with raw.fif, raw_sss.fif, raw_tsss.fif, _meg.fif, _eeg.fif, _ieeg.fif, raw.fif.gz, raw_sss.fif.gz, raw_tsss.fif.gz, _meg.fif.gz, _eeg.fif.gz or _ieeg.fif.gz\n",
      "  raw = mne.io.read_raw_fif(fif_file, preload=True)\n",
      "c:\\Users\\chakr\\Anaconda3\\envs\\eeg_thesis\\lib\\site-packages\\pywt\\_functions.py:143: FutureWarning: Wavelets from the family cmor, without parameters specified in the name are deprecated. The name should takethe form cmorB-C where B and C are floats representing the bandwidth frequency and center frequency, respectively (example: cmor1.5-1.0).\n",
      "  wavelet = DiscreteContinuousWavelet(wavelet)\n",
      "c:\\Users\\chakr\\Anaconda3\\envs\\eeg_thesis\\lib\\site-packages\\pywt\\_cwt.py:117: FutureWarning: Wavelets from the family cmor, without parameters specified in the name are deprecated. The name should takethe form cmorB-C where B and C are floats representing the bandwidth frequency and center frequency, respectively (example: cmor1.5-1.0).\n",
      "  wavelet = DiscreteContinuousWavelet(wavelet)\n"
     ]
    },
    {
     "name": "stdout",
     "output_type": "stream",
     "text": [
      "Opening raw data file C:\\School\\EE_Y3\\Q4\\BAP\\eeg_thesis_cnn_repo\\data\\external\\interim\\S048R03_filtered.fif...\n",
      "Isotrak not found\n",
      "    Range : 0 ... 30749 =      0.000 ...   122.996 secs\n",
      "Ready.\n",
      "Reading 0 ... 30749  =      0.000 ...   122.996 secs...\n",
      "Used Annotations descriptions: ['T0', 'T1', 'T2']\n",
      "Not setting metadata\n",
      "15 matching events found\n",
      "No baseline correction applied\n",
      "0 projection items activated\n",
      "Using data from preloaded Raw for 15 events and 126 original time points ...\n",
      "0 bad epochs dropped\n"
     ]
    },
    {
     "name": "stderr",
     "output_type": "stream",
     "text": [
      "C:\\Users\\chakr\\AppData\\Local\\Temp\\ipykernel_13788\\3980180034.py:3: RuntimeWarning: This filename (C:\\School\\EE_Y3\\Q4\\BAP\\eeg_thesis_cnn_repo\\data\\external\\interim\\S048R03_filtered.fif) does not conform to MNE naming conventions. All raw files should end with raw.fif, raw_sss.fif, raw_tsss.fif, _meg.fif, _eeg.fif, _ieeg.fif, raw.fif.gz, raw_sss.fif.gz, raw_tsss.fif.gz, _meg.fif.gz, _eeg.fif.gz or _ieeg.fif.gz\n",
      "  raw = mne.io.read_raw_fif(fif_file, preload=True)\n",
      "c:\\Users\\chakr\\Anaconda3\\envs\\eeg_thesis\\lib\\site-packages\\pywt\\_functions.py:143: FutureWarning: Wavelets from the family cmor, without parameters specified in the name are deprecated. The name should takethe form cmorB-C where B and C are floats representing the bandwidth frequency and center frequency, respectively (example: cmor1.5-1.0).\n",
      "  wavelet = DiscreteContinuousWavelet(wavelet)\n",
      "c:\\Users\\chakr\\Anaconda3\\envs\\eeg_thesis\\lib\\site-packages\\pywt\\_cwt.py:117: FutureWarning: Wavelets from the family cmor, without parameters specified in the name are deprecated. The name should takethe form cmorB-C where B and C are floats representing the bandwidth frequency and center frequency, respectively (example: cmor1.5-1.0).\n",
      "  wavelet = DiscreteContinuousWavelet(wavelet)\n"
     ]
    },
    {
     "name": "stdout",
     "output_type": "stream",
     "text": [
      "Opening raw data file C:\\School\\EE_Y3\\Q4\\BAP\\eeg_thesis_cnn_repo\\data\\external\\interim\\S048R07_filtered.fif...\n",
      "Isotrak not found\n",
      "    Range : 0 ... 30749 =      0.000 ...   122.996 secs\n",
      "Ready.\n",
      "Reading 0 ... 30749  =      0.000 ...   122.996 secs...\n",
      "Used Annotations descriptions: ['T0', 'T1', 'T2']\n",
      "Not setting metadata\n",
      "15 matching events found\n",
      "No baseline correction applied\n",
      "0 projection items activated\n",
      "Using data from preloaded Raw for 15 events and 126 original time points ...\n",
      "0 bad epochs dropped\n"
     ]
    },
    {
     "name": "stderr",
     "output_type": "stream",
     "text": [
      "C:\\Users\\chakr\\AppData\\Local\\Temp\\ipykernel_13788\\3980180034.py:3: RuntimeWarning: This filename (C:\\School\\EE_Y3\\Q4\\BAP\\eeg_thesis_cnn_repo\\data\\external\\interim\\S048R07_filtered.fif) does not conform to MNE naming conventions. All raw files should end with raw.fif, raw_sss.fif, raw_tsss.fif, _meg.fif, _eeg.fif, _ieeg.fif, raw.fif.gz, raw_sss.fif.gz, raw_tsss.fif.gz, _meg.fif.gz, _eeg.fif.gz or _ieeg.fif.gz\n",
      "  raw = mne.io.read_raw_fif(fif_file, preload=True)\n",
      "c:\\Users\\chakr\\Anaconda3\\envs\\eeg_thesis\\lib\\site-packages\\pywt\\_functions.py:143: FutureWarning: Wavelets from the family cmor, without parameters specified in the name are deprecated. The name should takethe form cmorB-C where B and C are floats representing the bandwidth frequency and center frequency, respectively (example: cmor1.5-1.0).\n",
      "  wavelet = DiscreteContinuousWavelet(wavelet)\n",
      "c:\\Users\\chakr\\Anaconda3\\envs\\eeg_thesis\\lib\\site-packages\\pywt\\_cwt.py:117: FutureWarning: Wavelets from the family cmor, without parameters specified in the name are deprecated. The name should takethe form cmorB-C where B and C are floats representing the bandwidth frequency and center frequency, respectively (example: cmor1.5-1.0).\n",
      "  wavelet = DiscreteContinuousWavelet(wavelet)\n"
     ]
    },
    {
     "name": "stdout",
     "output_type": "stream",
     "text": [
      "Opening raw data file C:\\School\\EE_Y3\\Q4\\BAP\\eeg_thesis_cnn_repo\\data\\external\\interim\\S048R11_filtered.fif...\n",
      "Isotrak not found\n",
      "    Range : 0 ... 30749 =      0.000 ...   122.996 secs\n",
      "Ready.\n",
      "Reading 0 ... 30749  =      0.000 ...   122.996 secs...\n",
      "Used Annotations descriptions: ['T0', 'T1', 'T2']\n",
      "Not setting metadata\n",
      "15 matching events found\n",
      "No baseline correction applied\n",
      "0 projection items activated\n",
      "Using data from preloaded Raw for 15 events and 126 original time points ...\n",
      "0 bad epochs dropped\n"
     ]
    },
    {
     "name": "stderr",
     "output_type": "stream",
     "text": [
      "C:\\Users\\chakr\\AppData\\Local\\Temp\\ipykernel_13788\\3980180034.py:3: RuntimeWarning: This filename (C:\\School\\EE_Y3\\Q4\\BAP\\eeg_thesis_cnn_repo\\data\\external\\interim\\S048R11_filtered.fif) does not conform to MNE naming conventions. All raw files should end with raw.fif, raw_sss.fif, raw_tsss.fif, _meg.fif, _eeg.fif, _ieeg.fif, raw.fif.gz, raw_sss.fif.gz, raw_tsss.fif.gz, _meg.fif.gz, _eeg.fif.gz or _ieeg.fif.gz\n",
      "  raw = mne.io.read_raw_fif(fif_file, preload=True)\n",
      "c:\\Users\\chakr\\Anaconda3\\envs\\eeg_thesis\\lib\\site-packages\\pywt\\_functions.py:143: FutureWarning: Wavelets from the family cmor, without parameters specified in the name are deprecated. The name should takethe form cmorB-C where B and C are floats representing the bandwidth frequency and center frequency, respectively (example: cmor1.5-1.0).\n",
      "  wavelet = DiscreteContinuousWavelet(wavelet)\n",
      "c:\\Users\\chakr\\Anaconda3\\envs\\eeg_thesis\\lib\\site-packages\\pywt\\_cwt.py:117: FutureWarning: Wavelets from the family cmor, without parameters specified in the name are deprecated. The name should takethe form cmorB-C where B and C are floats representing the bandwidth frequency and center frequency, respectively (example: cmor1.5-1.0).\n",
      "  wavelet = DiscreteContinuousWavelet(wavelet)\n"
     ]
    },
    {
     "name": "stdout",
     "output_type": "stream",
     "text": [
      "Opening raw data file C:\\School\\EE_Y3\\Q4\\BAP\\eeg_thesis_cnn_repo\\data\\external\\interim\\S049R03_filtered.fif...\n",
      "Isotrak not found\n",
      "    Range : 0 ... 30749 =      0.000 ...   122.996 secs\n",
      "Ready.\n",
      "Reading 0 ... 30749  =      0.000 ...   122.996 secs...\n",
      "Used Annotations descriptions: ['T0', 'T1', 'T2']\n",
      "Not setting metadata\n",
      "15 matching events found\n",
      "No baseline correction applied\n",
      "0 projection items activated\n",
      "Using data from preloaded Raw for 15 events and 126 original time points ...\n",
      "0 bad epochs dropped\n"
     ]
    },
    {
     "name": "stderr",
     "output_type": "stream",
     "text": [
      "C:\\Users\\chakr\\AppData\\Local\\Temp\\ipykernel_13788\\3980180034.py:3: RuntimeWarning: This filename (C:\\School\\EE_Y3\\Q4\\BAP\\eeg_thesis_cnn_repo\\data\\external\\interim\\S049R03_filtered.fif) does not conform to MNE naming conventions. All raw files should end with raw.fif, raw_sss.fif, raw_tsss.fif, _meg.fif, _eeg.fif, _ieeg.fif, raw.fif.gz, raw_sss.fif.gz, raw_tsss.fif.gz, _meg.fif.gz, _eeg.fif.gz or _ieeg.fif.gz\n",
      "  raw = mne.io.read_raw_fif(fif_file, preload=True)\n",
      "c:\\Users\\chakr\\Anaconda3\\envs\\eeg_thesis\\lib\\site-packages\\pywt\\_functions.py:143: FutureWarning: Wavelets from the family cmor, without parameters specified in the name are deprecated. The name should takethe form cmorB-C where B and C are floats representing the bandwidth frequency and center frequency, respectively (example: cmor1.5-1.0).\n",
      "  wavelet = DiscreteContinuousWavelet(wavelet)\n",
      "c:\\Users\\chakr\\Anaconda3\\envs\\eeg_thesis\\lib\\site-packages\\pywt\\_cwt.py:117: FutureWarning: Wavelets from the family cmor, without parameters specified in the name are deprecated. The name should takethe form cmorB-C where B and C are floats representing the bandwidth frequency and center frequency, respectively (example: cmor1.5-1.0).\n",
      "  wavelet = DiscreteContinuousWavelet(wavelet)\n"
     ]
    },
    {
     "name": "stdout",
     "output_type": "stream",
     "text": [
      "Opening raw data file C:\\School\\EE_Y3\\Q4\\BAP\\eeg_thesis_cnn_repo\\data\\external\\interim\\S049R07_filtered.fif...\n",
      "Isotrak not found\n",
      "    Range : 0 ... 30749 =      0.000 ...   122.996 secs\n",
      "Ready.\n",
      "Reading 0 ... 30749  =      0.000 ...   122.996 secs...\n",
      "Used Annotations descriptions: ['T0', 'T1', 'T2']\n",
      "Not setting metadata\n",
      "15 matching events found\n",
      "No baseline correction applied\n",
      "0 projection items activated\n",
      "Using data from preloaded Raw for 15 events and 126 original time points ...\n",
      "0 bad epochs dropped\n"
     ]
    },
    {
     "name": "stderr",
     "output_type": "stream",
     "text": [
      "C:\\Users\\chakr\\AppData\\Local\\Temp\\ipykernel_13788\\3980180034.py:3: RuntimeWarning: This filename (C:\\School\\EE_Y3\\Q4\\BAP\\eeg_thesis_cnn_repo\\data\\external\\interim\\S049R07_filtered.fif) does not conform to MNE naming conventions. All raw files should end with raw.fif, raw_sss.fif, raw_tsss.fif, _meg.fif, _eeg.fif, _ieeg.fif, raw.fif.gz, raw_sss.fif.gz, raw_tsss.fif.gz, _meg.fif.gz, _eeg.fif.gz or _ieeg.fif.gz\n",
      "  raw = mne.io.read_raw_fif(fif_file, preload=True)\n",
      "c:\\Users\\chakr\\Anaconda3\\envs\\eeg_thesis\\lib\\site-packages\\pywt\\_functions.py:143: FutureWarning: Wavelets from the family cmor, without parameters specified in the name are deprecated. The name should takethe form cmorB-C where B and C are floats representing the bandwidth frequency and center frequency, respectively (example: cmor1.5-1.0).\n",
      "  wavelet = DiscreteContinuousWavelet(wavelet)\n",
      "c:\\Users\\chakr\\Anaconda3\\envs\\eeg_thesis\\lib\\site-packages\\pywt\\_cwt.py:117: FutureWarning: Wavelets from the family cmor, without parameters specified in the name are deprecated. The name should takethe form cmorB-C where B and C are floats representing the bandwidth frequency and center frequency, respectively (example: cmor1.5-1.0).\n",
      "  wavelet = DiscreteContinuousWavelet(wavelet)\n"
     ]
    },
    {
     "name": "stdout",
     "output_type": "stream",
     "text": [
      "Opening raw data file C:\\School\\EE_Y3\\Q4\\BAP\\eeg_thesis_cnn_repo\\data\\external\\interim\\S049R11_filtered.fif...\n",
      "Isotrak not found\n",
      "    Range : 0 ... 30749 =      0.000 ...   122.996 secs\n",
      "Ready.\n",
      "Reading 0 ... 30749  =      0.000 ...   122.996 secs...\n",
      "Used Annotations descriptions: ['T0', 'T1', 'T2']\n",
      "Not setting metadata\n",
      "15 matching events found\n",
      "No baseline correction applied\n",
      "0 projection items activated\n",
      "Using data from preloaded Raw for 15 events and 126 original time points ...\n",
      "0 bad epochs dropped\n"
     ]
    },
    {
     "name": "stderr",
     "output_type": "stream",
     "text": [
      "C:\\Users\\chakr\\AppData\\Local\\Temp\\ipykernel_13788\\3980180034.py:3: RuntimeWarning: This filename (C:\\School\\EE_Y3\\Q4\\BAP\\eeg_thesis_cnn_repo\\data\\external\\interim\\S049R11_filtered.fif) does not conform to MNE naming conventions. All raw files should end with raw.fif, raw_sss.fif, raw_tsss.fif, _meg.fif, _eeg.fif, _ieeg.fif, raw.fif.gz, raw_sss.fif.gz, raw_tsss.fif.gz, _meg.fif.gz, _eeg.fif.gz or _ieeg.fif.gz\n",
      "  raw = mne.io.read_raw_fif(fif_file, preload=True)\n",
      "c:\\Users\\chakr\\Anaconda3\\envs\\eeg_thesis\\lib\\site-packages\\pywt\\_functions.py:143: FutureWarning: Wavelets from the family cmor, without parameters specified in the name are deprecated. The name should takethe form cmorB-C where B and C are floats representing the bandwidth frequency and center frequency, respectively (example: cmor1.5-1.0).\n",
      "  wavelet = DiscreteContinuousWavelet(wavelet)\n",
      "c:\\Users\\chakr\\Anaconda3\\envs\\eeg_thesis\\lib\\site-packages\\pywt\\_cwt.py:117: FutureWarning: Wavelets from the family cmor, without parameters specified in the name are deprecated. The name should takethe form cmorB-C where B and C are floats representing the bandwidth frequency and center frequency, respectively (example: cmor1.5-1.0).\n",
      "  wavelet = DiscreteContinuousWavelet(wavelet)\n"
     ]
    },
    {
     "name": "stdout",
     "output_type": "stream",
     "text": [
      "Opening raw data file C:\\School\\EE_Y3\\Q4\\BAP\\eeg_thesis_cnn_repo\\data\\external\\interim\\S050R03_filtered.fif...\n",
      "Isotrak not found\n",
      "    Range : 0 ... 30749 =      0.000 ...   122.996 secs\n",
      "Ready.\n",
      "Reading 0 ... 30749  =      0.000 ...   122.996 secs...\n",
      "Used Annotations descriptions: ['T0', 'T1', 'T2']\n",
      "Not setting metadata\n",
      "15 matching events found\n",
      "No baseline correction applied\n",
      "0 projection items activated\n",
      "Using data from preloaded Raw for 15 events and 126 original time points ...\n",
      "0 bad epochs dropped\n"
     ]
    },
    {
     "name": "stderr",
     "output_type": "stream",
     "text": [
      "C:\\Users\\chakr\\AppData\\Local\\Temp\\ipykernel_13788\\3980180034.py:3: RuntimeWarning: This filename (C:\\School\\EE_Y3\\Q4\\BAP\\eeg_thesis_cnn_repo\\data\\external\\interim\\S050R03_filtered.fif) does not conform to MNE naming conventions. All raw files should end with raw.fif, raw_sss.fif, raw_tsss.fif, _meg.fif, _eeg.fif, _ieeg.fif, raw.fif.gz, raw_sss.fif.gz, raw_tsss.fif.gz, _meg.fif.gz, _eeg.fif.gz or _ieeg.fif.gz\n",
      "  raw = mne.io.read_raw_fif(fif_file, preload=True)\n",
      "c:\\Users\\chakr\\Anaconda3\\envs\\eeg_thesis\\lib\\site-packages\\pywt\\_functions.py:143: FutureWarning: Wavelets from the family cmor, without parameters specified in the name are deprecated. The name should takethe form cmorB-C where B and C are floats representing the bandwidth frequency and center frequency, respectively (example: cmor1.5-1.0).\n",
      "  wavelet = DiscreteContinuousWavelet(wavelet)\n",
      "c:\\Users\\chakr\\Anaconda3\\envs\\eeg_thesis\\lib\\site-packages\\pywt\\_cwt.py:117: FutureWarning: Wavelets from the family cmor, without parameters specified in the name are deprecated. The name should takethe form cmorB-C where B and C are floats representing the bandwidth frequency and center frequency, respectively (example: cmor1.5-1.0).\n",
      "  wavelet = DiscreteContinuousWavelet(wavelet)\n"
     ]
    },
    {
     "name": "stdout",
     "output_type": "stream",
     "text": [
      "Opening raw data file C:\\School\\EE_Y3\\Q4\\BAP\\eeg_thesis_cnn_repo\\data\\external\\interim\\S050R07_filtered.fif...\n",
      "Isotrak not found\n",
      "    Range : 0 ... 30749 =      0.000 ...   122.996 secs\n",
      "Ready.\n",
      "Reading 0 ... 30749  =      0.000 ...   122.996 secs...\n",
      "Used Annotations descriptions: ['T0', 'T1', 'T2']\n",
      "Not setting metadata\n",
      "15 matching events found\n",
      "No baseline correction applied\n",
      "0 projection items activated\n",
      "Using data from preloaded Raw for 15 events and 126 original time points ...\n",
      "0 bad epochs dropped\n"
     ]
    },
    {
     "name": "stderr",
     "output_type": "stream",
     "text": [
      "C:\\Users\\chakr\\AppData\\Local\\Temp\\ipykernel_13788\\3980180034.py:3: RuntimeWarning: This filename (C:\\School\\EE_Y3\\Q4\\BAP\\eeg_thesis_cnn_repo\\data\\external\\interim\\S050R07_filtered.fif) does not conform to MNE naming conventions. All raw files should end with raw.fif, raw_sss.fif, raw_tsss.fif, _meg.fif, _eeg.fif, _ieeg.fif, raw.fif.gz, raw_sss.fif.gz, raw_tsss.fif.gz, _meg.fif.gz, _eeg.fif.gz or _ieeg.fif.gz\n",
      "  raw = mne.io.read_raw_fif(fif_file, preload=True)\n",
      "c:\\Users\\chakr\\Anaconda3\\envs\\eeg_thesis\\lib\\site-packages\\pywt\\_functions.py:143: FutureWarning: Wavelets from the family cmor, without parameters specified in the name are deprecated. The name should takethe form cmorB-C where B and C are floats representing the bandwidth frequency and center frequency, respectively (example: cmor1.5-1.0).\n",
      "  wavelet = DiscreteContinuousWavelet(wavelet)\n",
      "c:\\Users\\chakr\\Anaconda3\\envs\\eeg_thesis\\lib\\site-packages\\pywt\\_cwt.py:117: FutureWarning: Wavelets from the family cmor, without parameters specified in the name are deprecated. The name should takethe form cmorB-C where B and C are floats representing the bandwidth frequency and center frequency, respectively (example: cmor1.5-1.0).\n",
      "  wavelet = DiscreteContinuousWavelet(wavelet)\n"
     ]
    },
    {
     "name": "stdout",
     "output_type": "stream",
     "text": [
      "Opening raw data file C:\\School\\EE_Y3\\Q4\\BAP\\eeg_thesis_cnn_repo\\data\\external\\interim\\S050R11_filtered.fif...\n",
      "Isotrak not found\n",
      "    Range : 0 ... 30749 =      0.000 ...   122.996 secs\n",
      "Ready.\n",
      "Reading 0 ... 30749  =      0.000 ...   122.996 secs...\n",
      "Used Annotations descriptions: ['T0', 'T1', 'T2']\n",
      "Not setting metadata\n",
      "15 matching events found\n",
      "No baseline correction applied\n",
      "0 projection items activated\n",
      "Using data from preloaded Raw for 15 events and 126 original time points ...\n",
      "0 bad epochs dropped\n"
     ]
    },
    {
     "name": "stderr",
     "output_type": "stream",
     "text": [
      "C:\\Users\\chakr\\AppData\\Local\\Temp\\ipykernel_13788\\3980180034.py:3: RuntimeWarning: This filename (C:\\School\\EE_Y3\\Q4\\BAP\\eeg_thesis_cnn_repo\\data\\external\\interim\\S050R11_filtered.fif) does not conform to MNE naming conventions. All raw files should end with raw.fif, raw_sss.fif, raw_tsss.fif, _meg.fif, _eeg.fif, _ieeg.fif, raw.fif.gz, raw_sss.fif.gz, raw_tsss.fif.gz, _meg.fif.gz, _eeg.fif.gz or _ieeg.fif.gz\n",
      "  raw = mne.io.read_raw_fif(fif_file, preload=True)\n",
      "c:\\Users\\chakr\\Anaconda3\\envs\\eeg_thesis\\lib\\site-packages\\pywt\\_functions.py:143: FutureWarning: Wavelets from the family cmor, without parameters specified in the name are deprecated. The name should takethe form cmorB-C where B and C are floats representing the bandwidth frequency and center frequency, respectively (example: cmor1.5-1.0).\n",
      "  wavelet = DiscreteContinuousWavelet(wavelet)\n",
      "c:\\Users\\chakr\\Anaconda3\\envs\\eeg_thesis\\lib\\site-packages\\pywt\\_cwt.py:117: FutureWarning: Wavelets from the family cmor, without parameters specified in the name are deprecated. The name should takethe form cmorB-C where B and C are floats representing the bandwidth frequency and center frequency, respectively (example: cmor1.5-1.0).\n",
      "  wavelet = DiscreteContinuousWavelet(wavelet)\n"
     ]
    },
    {
     "name": "stdout",
     "output_type": "stream",
     "text": [
      "Opening raw data file C:\\School\\EE_Y3\\Q4\\BAP\\eeg_thesis_cnn_repo\\data\\external\\interim\\S051R03_filtered.fif...\n",
      "Isotrak not found\n",
      "    Range : 0 ... 30749 =      0.000 ...   122.996 secs\n",
      "Ready.\n",
      "Reading 0 ... 30749  =      0.000 ...   122.996 secs...\n",
      "Used Annotations descriptions: ['T0', 'T1', 'T2']\n",
      "Not setting metadata\n",
      "15 matching events found\n",
      "No baseline correction applied\n",
      "0 projection items activated\n",
      "Using data from preloaded Raw for 15 events and 126 original time points ...\n",
      "0 bad epochs dropped\n"
     ]
    },
    {
     "name": "stderr",
     "output_type": "stream",
     "text": [
      "C:\\Users\\chakr\\AppData\\Local\\Temp\\ipykernel_13788\\3980180034.py:3: RuntimeWarning: This filename (C:\\School\\EE_Y3\\Q4\\BAP\\eeg_thesis_cnn_repo\\data\\external\\interim\\S051R03_filtered.fif) does not conform to MNE naming conventions. All raw files should end with raw.fif, raw_sss.fif, raw_tsss.fif, _meg.fif, _eeg.fif, _ieeg.fif, raw.fif.gz, raw_sss.fif.gz, raw_tsss.fif.gz, _meg.fif.gz, _eeg.fif.gz or _ieeg.fif.gz\n",
      "  raw = mne.io.read_raw_fif(fif_file, preload=True)\n",
      "c:\\Users\\chakr\\Anaconda3\\envs\\eeg_thesis\\lib\\site-packages\\pywt\\_functions.py:143: FutureWarning: Wavelets from the family cmor, without parameters specified in the name are deprecated. The name should takethe form cmorB-C where B and C are floats representing the bandwidth frequency and center frequency, respectively (example: cmor1.5-1.0).\n",
      "  wavelet = DiscreteContinuousWavelet(wavelet)\n",
      "c:\\Users\\chakr\\Anaconda3\\envs\\eeg_thesis\\lib\\site-packages\\pywt\\_cwt.py:117: FutureWarning: Wavelets from the family cmor, without parameters specified in the name are deprecated. The name should takethe form cmorB-C where B and C are floats representing the bandwidth frequency and center frequency, respectively (example: cmor1.5-1.0).\n",
      "  wavelet = DiscreteContinuousWavelet(wavelet)\n"
     ]
    },
    {
     "name": "stdout",
     "output_type": "stream",
     "text": [
      "Opening raw data file C:\\School\\EE_Y3\\Q4\\BAP\\eeg_thesis_cnn_repo\\data\\external\\interim\\S051R07_filtered.fif...\n",
      "Isotrak not found\n",
      "    Range : 0 ... 30749 =      0.000 ...   122.996 secs\n",
      "Ready.\n",
      "Reading 0 ... 30749  =      0.000 ...   122.996 secs...\n",
      "Used Annotations descriptions: ['T0', 'T1', 'T2']\n",
      "Not setting metadata\n",
      "15 matching events found\n",
      "No baseline correction applied\n",
      "0 projection items activated\n",
      "Using data from preloaded Raw for 15 events and 126 original time points ...\n",
      "0 bad epochs dropped\n"
     ]
    },
    {
     "name": "stderr",
     "output_type": "stream",
     "text": [
      "C:\\Users\\chakr\\AppData\\Local\\Temp\\ipykernel_13788\\3980180034.py:3: RuntimeWarning: This filename (C:\\School\\EE_Y3\\Q4\\BAP\\eeg_thesis_cnn_repo\\data\\external\\interim\\S051R07_filtered.fif) does not conform to MNE naming conventions. All raw files should end with raw.fif, raw_sss.fif, raw_tsss.fif, _meg.fif, _eeg.fif, _ieeg.fif, raw.fif.gz, raw_sss.fif.gz, raw_tsss.fif.gz, _meg.fif.gz, _eeg.fif.gz or _ieeg.fif.gz\n",
      "  raw = mne.io.read_raw_fif(fif_file, preload=True)\n",
      "c:\\Users\\chakr\\Anaconda3\\envs\\eeg_thesis\\lib\\site-packages\\pywt\\_functions.py:143: FutureWarning: Wavelets from the family cmor, without parameters specified in the name are deprecated. The name should takethe form cmorB-C where B and C are floats representing the bandwidth frequency and center frequency, respectively (example: cmor1.5-1.0).\n",
      "  wavelet = DiscreteContinuousWavelet(wavelet)\n",
      "c:\\Users\\chakr\\Anaconda3\\envs\\eeg_thesis\\lib\\site-packages\\pywt\\_cwt.py:117: FutureWarning: Wavelets from the family cmor, without parameters specified in the name are deprecated. The name should takethe form cmorB-C where B and C are floats representing the bandwidth frequency and center frequency, respectively (example: cmor1.5-1.0).\n",
      "  wavelet = DiscreteContinuousWavelet(wavelet)\n"
     ]
    },
    {
     "name": "stdout",
     "output_type": "stream",
     "text": [
      "Opening raw data file C:\\School\\EE_Y3\\Q4\\BAP\\eeg_thesis_cnn_repo\\data\\external\\interim\\S051R11_filtered.fif...\n",
      "Isotrak not found\n",
      "    Range : 0 ... 30749 =      0.000 ...   122.996 secs\n",
      "Ready.\n",
      "Reading 0 ... 30749  =      0.000 ...   122.996 secs...\n",
      "Used Annotations descriptions: ['T0', 'T1', 'T2']\n",
      "Not setting metadata\n",
      "15 matching events found\n",
      "No baseline correction applied\n",
      "0 projection items activated\n",
      "Using data from preloaded Raw for 15 events and 126 original time points ...\n",
      "0 bad epochs dropped\n"
     ]
    },
    {
     "name": "stderr",
     "output_type": "stream",
     "text": [
      "C:\\Users\\chakr\\AppData\\Local\\Temp\\ipykernel_13788\\3980180034.py:3: RuntimeWarning: This filename (C:\\School\\EE_Y3\\Q4\\BAP\\eeg_thesis_cnn_repo\\data\\external\\interim\\S051R11_filtered.fif) does not conform to MNE naming conventions. All raw files should end with raw.fif, raw_sss.fif, raw_tsss.fif, _meg.fif, _eeg.fif, _ieeg.fif, raw.fif.gz, raw_sss.fif.gz, raw_tsss.fif.gz, _meg.fif.gz, _eeg.fif.gz or _ieeg.fif.gz\n",
      "  raw = mne.io.read_raw_fif(fif_file, preload=True)\n",
      "c:\\Users\\chakr\\Anaconda3\\envs\\eeg_thesis\\lib\\site-packages\\pywt\\_functions.py:143: FutureWarning: Wavelets from the family cmor, without parameters specified in the name are deprecated. The name should takethe form cmorB-C where B and C are floats representing the bandwidth frequency and center frequency, respectively (example: cmor1.5-1.0).\n",
      "  wavelet = DiscreteContinuousWavelet(wavelet)\n",
      "c:\\Users\\chakr\\Anaconda3\\envs\\eeg_thesis\\lib\\site-packages\\pywt\\_cwt.py:117: FutureWarning: Wavelets from the family cmor, without parameters specified in the name are deprecated. The name should takethe form cmorB-C where B and C are floats representing the bandwidth frequency and center frequency, respectively (example: cmor1.5-1.0).\n",
      "  wavelet = DiscreteContinuousWavelet(wavelet)\n"
     ]
    },
    {
     "name": "stdout",
     "output_type": "stream",
     "text": [
      "Opening raw data file C:\\School\\EE_Y3\\Q4\\BAP\\eeg_thesis_cnn_repo\\data\\external\\interim\\S052R03_filtered.fif...\n",
      "Isotrak not found\n",
      "    Range : 0 ... 30749 =      0.000 ...   122.996 secs\n",
      "Ready.\n",
      "Reading 0 ... 30749  =      0.000 ...   122.996 secs...\n",
      "Used Annotations descriptions: ['T0', 'T1', 'T2']\n",
      "Not setting metadata\n",
      "15 matching events found\n",
      "No baseline correction applied\n",
      "0 projection items activated\n",
      "Using data from preloaded Raw for 15 events and 126 original time points ...\n",
      "0 bad epochs dropped\n"
     ]
    },
    {
     "name": "stderr",
     "output_type": "stream",
     "text": [
      "C:\\Users\\chakr\\AppData\\Local\\Temp\\ipykernel_13788\\3980180034.py:3: RuntimeWarning: This filename (C:\\School\\EE_Y3\\Q4\\BAP\\eeg_thesis_cnn_repo\\data\\external\\interim\\S052R03_filtered.fif) does not conform to MNE naming conventions. All raw files should end with raw.fif, raw_sss.fif, raw_tsss.fif, _meg.fif, _eeg.fif, _ieeg.fif, raw.fif.gz, raw_sss.fif.gz, raw_tsss.fif.gz, _meg.fif.gz, _eeg.fif.gz or _ieeg.fif.gz\n",
      "  raw = mne.io.read_raw_fif(fif_file, preload=True)\n",
      "c:\\Users\\chakr\\Anaconda3\\envs\\eeg_thesis\\lib\\site-packages\\pywt\\_functions.py:143: FutureWarning: Wavelets from the family cmor, without parameters specified in the name are deprecated. The name should takethe form cmorB-C where B and C are floats representing the bandwidth frequency and center frequency, respectively (example: cmor1.5-1.0).\n",
      "  wavelet = DiscreteContinuousWavelet(wavelet)\n",
      "c:\\Users\\chakr\\Anaconda3\\envs\\eeg_thesis\\lib\\site-packages\\pywt\\_cwt.py:117: FutureWarning: Wavelets from the family cmor, without parameters specified in the name are deprecated. The name should takethe form cmorB-C where B and C are floats representing the bandwidth frequency and center frequency, respectively (example: cmor1.5-1.0).\n",
      "  wavelet = DiscreteContinuousWavelet(wavelet)\n"
     ]
    },
    {
     "name": "stdout",
     "output_type": "stream",
     "text": [
      "Opening raw data file C:\\School\\EE_Y3\\Q4\\BAP\\eeg_thesis_cnn_repo\\data\\external\\interim\\S052R07_filtered.fif...\n",
      "Isotrak not found\n",
      "    Range : 0 ... 30749 =      0.000 ...   122.996 secs\n",
      "Ready.\n",
      "Reading 0 ... 30749  =      0.000 ...   122.996 secs...\n",
      "Used Annotations descriptions: ['T0', 'T1', 'T2']\n",
      "Not setting metadata\n",
      "15 matching events found\n",
      "No baseline correction applied\n",
      "0 projection items activated\n",
      "Using data from preloaded Raw for 15 events and 126 original time points ...\n",
      "0 bad epochs dropped\n"
     ]
    },
    {
     "name": "stderr",
     "output_type": "stream",
     "text": [
      "C:\\Users\\chakr\\AppData\\Local\\Temp\\ipykernel_13788\\3980180034.py:3: RuntimeWarning: This filename (C:\\School\\EE_Y3\\Q4\\BAP\\eeg_thesis_cnn_repo\\data\\external\\interim\\S052R07_filtered.fif) does not conform to MNE naming conventions. All raw files should end with raw.fif, raw_sss.fif, raw_tsss.fif, _meg.fif, _eeg.fif, _ieeg.fif, raw.fif.gz, raw_sss.fif.gz, raw_tsss.fif.gz, _meg.fif.gz, _eeg.fif.gz or _ieeg.fif.gz\n",
      "  raw = mne.io.read_raw_fif(fif_file, preload=True)\n",
      "c:\\Users\\chakr\\Anaconda3\\envs\\eeg_thesis\\lib\\site-packages\\pywt\\_functions.py:143: FutureWarning: Wavelets from the family cmor, without parameters specified in the name are deprecated. The name should takethe form cmorB-C where B and C are floats representing the bandwidth frequency and center frequency, respectively (example: cmor1.5-1.0).\n",
      "  wavelet = DiscreteContinuousWavelet(wavelet)\n",
      "c:\\Users\\chakr\\Anaconda3\\envs\\eeg_thesis\\lib\\site-packages\\pywt\\_cwt.py:117: FutureWarning: Wavelets from the family cmor, without parameters specified in the name are deprecated. The name should takethe form cmorB-C where B and C are floats representing the bandwidth frequency and center frequency, respectively (example: cmor1.5-1.0).\n",
      "  wavelet = DiscreteContinuousWavelet(wavelet)\n"
     ]
    },
    {
     "name": "stdout",
     "output_type": "stream",
     "text": [
      "Opening raw data file C:\\School\\EE_Y3\\Q4\\BAP\\eeg_thesis_cnn_repo\\data\\external\\interim\\S052R11_filtered.fif...\n",
      "Isotrak not found\n",
      "    Range : 0 ... 30749 =      0.000 ...   122.996 secs\n",
      "Ready.\n",
      "Reading 0 ... 30749  =      0.000 ...   122.996 secs...\n",
      "Used Annotations descriptions: ['T0', 'T1', 'T2']\n",
      "Not setting metadata\n",
      "15 matching events found\n",
      "No baseline correction applied\n",
      "0 projection items activated\n",
      "Using data from preloaded Raw for 15 events and 126 original time points ...\n",
      "0 bad epochs dropped\n"
     ]
    },
    {
     "name": "stderr",
     "output_type": "stream",
     "text": [
      "C:\\Users\\chakr\\AppData\\Local\\Temp\\ipykernel_13788\\3980180034.py:3: RuntimeWarning: This filename (C:\\School\\EE_Y3\\Q4\\BAP\\eeg_thesis_cnn_repo\\data\\external\\interim\\S052R11_filtered.fif) does not conform to MNE naming conventions. All raw files should end with raw.fif, raw_sss.fif, raw_tsss.fif, _meg.fif, _eeg.fif, _ieeg.fif, raw.fif.gz, raw_sss.fif.gz, raw_tsss.fif.gz, _meg.fif.gz, _eeg.fif.gz or _ieeg.fif.gz\n",
      "  raw = mne.io.read_raw_fif(fif_file, preload=True)\n",
      "c:\\Users\\chakr\\Anaconda3\\envs\\eeg_thesis\\lib\\site-packages\\pywt\\_functions.py:143: FutureWarning: Wavelets from the family cmor, without parameters specified in the name are deprecated. The name should takethe form cmorB-C where B and C are floats representing the bandwidth frequency and center frequency, respectively (example: cmor1.5-1.0).\n",
      "  wavelet = DiscreteContinuousWavelet(wavelet)\n",
      "c:\\Users\\chakr\\Anaconda3\\envs\\eeg_thesis\\lib\\site-packages\\pywt\\_cwt.py:117: FutureWarning: Wavelets from the family cmor, without parameters specified in the name are deprecated. The name should takethe form cmorB-C where B and C are floats representing the bandwidth frequency and center frequency, respectively (example: cmor1.5-1.0).\n",
      "  wavelet = DiscreteContinuousWavelet(wavelet)\n"
     ]
    },
    {
     "name": "stdout",
     "output_type": "stream",
     "text": [
      "Opening raw data file C:\\School\\EE_Y3\\Q4\\BAP\\eeg_thesis_cnn_repo\\data\\external\\interim\\S053R03_filtered.fif...\n",
      "Isotrak not found\n",
      "    Range : 0 ... 30749 =      0.000 ...   122.996 secs\n",
      "Ready.\n",
      "Reading 0 ... 30749  =      0.000 ...   122.996 secs...\n",
      "Used Annotations descriptions: ['T0', 'T1', 'T2']\n",
      "Not setting metadata\n",
      "15 matching events found\n",
      "No baseline correction applied\n",
      "0 projection items activated\n",
      "Using data from preloaded Raw for 15 events and 126 original time points ...\n",
      "0 bad epochs dropped\n"
     ]
    },
    {
     "name": "stderr",
     "output_type": "stream",
     "text": [
      "C:\\Users\\chakr\\AppData\\Local\\Temp\\ipykernel_13788\\3980180034.py:3: RuntimeWarning: This filename (C:\\School\\EE_Y3\\Q4\\BAP\\eeg_thesis_cnn_repo\\data\\external\\interim\\S053R03_filtered.fif) does not conform to MNE naming conventions. All raw files should end with raw.fif, raw_sss.fif, raw_tsss.fif, _meg.fif, _eeg.fif, _ieeg.fif, raw.fif.gz, raw_sss.fif.gz, raw_tsss.fif.gz, _meg.fif.gz, _eeg.fif.gz or _ieeg.fif.gz\n",
      "  raw = mne.io.read_raw_fif(fif_file, preload=True)\n",
      "c:\\Users\\chakr\\Anaconda3\\envs\\eeg_thesis\\lib\\site-packages\\pywt\\_functions.py:143: FutureWarning: Wavelets from the family cmor, without parameters specified in the name are deprecated. The name should takethe form cmorB-C where B and C are floats representing the bandwidth frequency and center frequency, respectively (example: cmor1.5-1.0).\n",
      "  wavelet = DiscreteContinuousWavelet(wavelet)\n",
      "c:\\Users\\chakr\\Anaconda3\\envs\\eeg_thesis\\lib\\site-packages\\pywt\\_cwt.py:117: FutureWarning: Wavelets from the family cmor, without parameters specified in the name are deprecated. The name should takethe form cmorB-C where B and C are floats representing the bandwidth frequency and center frequency, respectively (example: cmor1.5-1.0).\n",
      "  wavelet = DiscreteContinuousWavelet(wavelet)\n"
     ]
    },
    {
     "name": "stdout",
     "output_type": "stream",
     "text": [
      "Opening raw data file C:\\School\\EE_Y3\\Q4\\BAP\\eeg_thesis_cnn_repo\\data\\external\\interim\\S053R07_filtered.fif...\n",
      "Isotrak not found\n",
      "    Range : 0 ... 30749 =      0.000 ...   122.996 secs\n",
      "Ready.\n",
      "Reading 0 ... 30749  =      0.000 ...   122.996 secs...\n",
      "Used Annotations descriptions: ['T0', 'T1', 'T2']\n",
      "Not setting metadata\n",
      "15 matching events found\n",
      "No baseline correction applied\n",
      "0 projection items activated\n",
      "Using data from preloaded Raw for 15 events and 126 original time points ...\n",
      "0 bad epochs dropped\n"
     ]
    },
    {
     "name": "stderr",
     "output_type": "stream",
     "text": [
      "C:\\Users\\chakr\\AppData\\Local\\Temp\\ipykernel_13788\\3980180034.py:3: RuntimeWarning: This filename (C:\\School\\EE_Y3\\Q4\\BAP\\eeg_thesis_cnn_repo\\data\\external\\interim\\S053R07_filtered.fif) does not conform to MNE naming conventions. All raw files should end with raw.fif, raw_sss.fif, raw_tsss.fif, _meg.fif, _eeg.fif, _ieeg.fif, raw.fif.gz, raw_sss.fif.gz, raw_tsss.fif.gz, _meg.fif.gz, _eeg.fif.gz or _ieeg.fif.gz\n",
      "  raw = mne.io.read_raw_fif(fif_file, preload=True)\n",
      "c:\\Users\\chakr\\Anaconda3\\envs\\eeg_thesis\\lib\\site-packages\\pywt\\_functions.py:143: FutureWarning: Wavelets from the family cmor, without parameters specified in the name are deprecated. The name should takethe form cmorB-C where B and C are floats representing the bandwidth frequency and center frequency, respectively (example: cmor1.5-1.0).\n",
      "  wavelet = DiscreteContinuousWavelet(wavelet)\n",
      "c:\\Users\\chakr\\Anaconda3\\envs\\eeg_thesis\\lib\\site-packages\\pywt\\_cwt.py:117: FutureWarning: Wavelets from the family cmor, without parameters specified in the name are deprecated. The name should takethe form cmorB-C where B and C are floats representing the bandwidth frequency and center frequency, respectively (example: cmor1.5-1.0).\n",
      "  wavelet = DiscreteContinuousWavelet(wavelet)\n"
     ]
    },
    {
     "name": "stdout",
     "output_type": "stream",
     "text": [
      "Opening raw data file C:\\School\\EE_Y3\\Q4\\BAP\\eeg_thesis_cnn_repo\\data\\external\\interim\\S053R11_filtered.fif...\n",
      "Isotrak not found\n",
      "    Range : 0 ... 30749 =      0.000 ...   122.996 secs\n",
      "Ready.\n",
      "Reading 0 ... 30749  =      0.000 ...   122.996 secs...\n",
      "Used Annotations descriptions: ['T0', 'T1', 'T2']\n",
      "Not setting metadata\n",
      "15 matching events found\n",
      "No baseline correction applied\n",
      "0 projection items activated\n",
      "Using data from preloaded Raw for 15 events and 126 original time points ...\n",
      "0 bad epochs dropped\n"
     ]
    },
    {
     "name": "stderr",
     "output_type": "stream",
     "text": [
      "C:\\Users\\chakr\\AppData\\Local\\Temp\\ipykernel_13788\\3980180034.py:3: RuntimeWarning: This filename (C:\\School\\EE_Y3\\Q4\\BAP\\eeg_thesis_cnn_repo\\data\\external\\interim\\S053R11_filtered.fif) does not conform to MNE naming conventions. All raw files should end with raw.fif, raw_sss.fif, raw_tsss.fif, _meg.fif, _eeg.fif, _ieeg.fif, raw.fif.gz, raw_sss.fif.gz, raw_tsss.fif.gz, _meg.fif.gz, _eeg.fif.gz or _ieeg.fif.gz\n",
      "  raw = mne.io.read_raw_fif(fif_file, preload=True)\n",
      "c:\\Users\\chakr\\Anaconda3\\envs\\eeg_thesis\\lib\\site-packages\\pywt\\_functions.py:143: FutureWarning: Wavelets from the family cmor, without parameters specified in the name are deprecated. The name should takethe form cmorB-C where B and C are floats representing the bandwidth frequency and center frequency, respectively (example: cmor1.5-1.0).\n",
      "  wavelet = DiscreteContinuousWavelet(wavelet)\n",
      "c:\\Users\\chakr\\Anaconda3\\envs\\eeg_thesis\\lib\\site-packages\\pywt\\_cwt.py:117: FutureWarning: Wavelets from the family cmor, without parameters specified in the name are deprecated. The name should takethe form cmorB-C where B and C are floats representing the bandwidth frequency and center frequency, respectively (example: cmor1.5-1.0).\n",
      "  wavelet = DiscreteContinuousWavelet(wavelet)\n"
     ]
    },
    {
     "name": "stdout",
     "output_type": "stream",
     "text": [
      "Opening raw data file C:\\School\\EE_Y3\\Q4\\BAP\\eeg_thesis_cnn_repo\\data\\external\\interim\\S054R03_filtered.fif...\n",
      "Isotrak not found\n",
      "    Range : 0 ... 30749 =      0.000 ...   122.996 secs\n",
      "Ready.\n",
      "Reading 0 ... 30749  =      0.000 ...   122.996 secs...\n",
      "Used Annotations descriptions: ['T0', 'T1', 'T2']\n",
      "Not setting metadata\n",
      "15 matching events found\n",
      "No baseline correction applied\n",
      "0 projection items activated\n",
      "Using data from preloaded Raw for 15 events and 126 original time points ...\n",
      "0 bad epochs dropped\n"
     ]
    },
    {
     "name": "stderr",
     "output_type": "stream",
     "text": [
      "C:\\Users\\chakr\\AppData\\Local\\Temp\\ipykernel_13788\\3980180034.py:3: RuntimeWarning: This filename (C:\\School\\EE_Y3\\Q4\\BAP\\eeg_thesis_cnn_repo\\data\\external\\interim\\S054R03_filtered.fif) does not conform to MNE naming conventions. All raw files should end with raw.fif, raw_sss.fif, raw_tsss.fif, _meg.fif, _eeg.fif, _ieeg.fif, raw.fif.gz, raw_sss.fif.gz, raw_tsss.fif.gz, _meg.fif.gz, _eeg.fif.gz or _ieeg.fif.gz\n",
      "  raw = mne.io.read_raw_fif(fif_file, preload=True)\n",
      "c:\\Users\\chakr\\Anaconda3\\envs\\eeg_thesis\\lib\\site-packages\\pywt\\_functions.py:143: FutureWarning: Wavelets from the family cmor, without parameters specified in the name are deprecated. The name should takethe form cmorB-C where B and C are floats representing the bandwidth frequency and center frequency, respectively (example: cmor1.5-1.0).\n",
      "  wavelet = DiscreteContinuousWavelet(wavelet)\n",
      "c:\\Users\\chakr\\Anaconda3\\envs\\eeg_thesis\\lib\\site-packages\\pywt\\_cwt.py:117: FutureWarning: Wavelets from the family cmor, without parameters specified in the name are deprecated. The name should takethe form cmorB-C where B and C are floats representing the bandwidth frequency and center frequency, respectively (example: cmor1.5-1.0).\n",
      "  wavelet = DiscreteContinuousWavelet(wavelet)\n"
     ]
    },
    {
     "name": "stdout",
     "output_type": "stream",
     "text": [
      "Opening raw data file C:\\School\\EE_Y3\\Q4\\BAP\\eeg_thesis_cnn_repo\\data\\external\\interim\\S054R07_filtered.fif...\n",
      "Isotrak not found\n",
      "    Range : 0 ... 30749 =      0.000 ...   122.996 secs\n",
      "Ready.\n",
      "Reading 0 ... 30749  =      0.000 ...   122.996 secs...\n",
      "Used Annotations descriptions: ['T0', 'T1', 'T2']\n",
      "Not setting metadata\n",
      "15 matching events found\n",
      "No baseline correction applied\n",
      "0 projection items activated\n",
      "Using data from preloaded Raw for 15 events and 126 original time points ...\n",
      "0 bad epochs dropped\n"
     ]
    },
    {
     "name": "stderr",
     "output_type": "stream",
     "text": [
      "C:\\Users\\chakr\\AppData\\Local\\Temp\\ipykernel_13788\\3980180034.py:3: RuntimeWarning: This filename (C:\\School\\EE_Y3\\Q4\\BAP\\eeg_thesis_cnn_repo\\data\\external\\interim\\S054R07_filtered.fif) does not conform to MNE naming conventions. All raw files should end with raw.fif, raw_sss.fif, raw_tsss.fif, _meg.fif, _eeg.fif, _ieeg.fif, raw.fif.gz, raw_sss.fif.gz, raw_tsss.fif.gz, _meg.fif.gz, _eeg.fif.gz or _ieeg.fif.gz\n",
      "  raw = mne.io.read_raw_fif(fif_file, preload=True)\n",
      "c:\\Users\\chakr\\Anaconda3\\envs\\eeg_thesis\\lib\\site-packages\\pywt\\_functions.py:143: FutureWarning: Wavelets from the family cmor, without parameters specified in the name are deprecated. The name should takethe form cmorB-C where B and C are floats representing the bandwidth frequency and center frequency, respectively (example: cmor1.5-1.0).\n",
      "  wavelet = DiscreteContinuousWavelet(wavelet)\n",
      "c:\\Users\\chakr\\Anaconda3\\envs\\eeg_thesis\\lib\\site-packages\\pywt\\_cwt.py:117: FutureWarning: Wavelets from the family cmor, without parameters specified in the name are deprecated. The name should takethe form cmorB-C where B and C are floats representing the bandwidth frequency and center frequency, respectively (example: cmor1.5-1.0).\n",
      "  wavelet = DiscreteContinuousWavelet(wavelet)\n"
     ]
    },
    {
     "name": "stdout",
     "output_type": "stream",
     "text": [
      "Opening raw data file C:\\School\\EE_Y3\\Q4\\BAP\\eeg_thesis_cnn_repo\\data\\external\\interim\\S054R11_filtered.fif...\n",
      "Isotrak not found\n",
      "    Range : 0 ... 30749 =      0.000 ...   122.996 secs\n",
      "Ready.\n",
      "Reading 0 ... 30749  =      0.000 ...   122.996 secs...\n",
      "Used Annotations descriptions: ['T0', 'T1', 'T2']\n",
      "Not setting metadata\n",
      "15 matching events found\n",
      "No baseline correction applied\n",
      "0 projection items activated\n",
      "Using data from preloaded Raw for 15 events and 126 original time points ...\n",
      "0 bad epochs dropped\n"
     ]
    },
    {
     "name": "stderr",
     "output_type": "stream",
     "text": [
      "C:\\Users\\chakr\\AppData\\Local\\Temp\\ipykernel_13788\\3980180034.py:3: RuntimeWarning: This filename (C:\\School\\EE_Y3\\Q4\\BAP\\eeg_thesis_cnn_repo\\data\\external\\interim\\S054R11_filtered.fif) does not conform to MNE naming conventions. All raw files should end with raw.fif, raw_sss.fif, raw_tsss.fif, _meg.fif, _eeg.fif, _ieeg.fif, raw.fif.gz, raw_sss.fif.gz, raw_tsss.fif.gz, _meg.fif.gz, _eeg.fif.gz or _ieeg.fif.gz\n",
      "  raw = mne.io.read_raw_fif(fif_file, preload=True)\n",
      "c:\\Users\\chakr\\Anaconda3\\envs\\eeg_thesis\\lib\\site-packages\\pywt\\_functions.py:143: FutureWarning: Wavelets from the family cmor, without parameters specified in the name are deprecated. The name should takethe form cmorB-C where B and C are floats representing the bandwidth frequency and center frequency, respectively (example: cmor1.5-1.0).\n",
      "  wavelet = DiscreteContinuousWavelet(wavelet)\n",
      "c:\\Users\\chakr\\Anaconda3\\envs\\eeg_thesis\\lib\\site-packages\\pywt\\_cwt.py:117: FutureWarning: Wavelets from the family cmor, without parameters specified in the name are deprecated. The name should takethe form cmorB-C where B and C are floats representing the bandwidth frequency and center frequency, respectively (example: cmor1.5-1.0).\n",
      "  wavelet = DiscreteContinuousWavelet(wavelet)\n"
     ]
    },
    {
     "name": "stdout",
     "output_type": "stream",
     "text": [
      "Opening raw data file C:\\School\\EE_Y3\\Q4\\BAP\\eeg_thesis_cnn_repo\\data\\external\\interim\\S055R03_filtered.fif...\n",
      "Isotrak not found\n",
      "    Range : 0 ... 30749 =      0.000 ...   122.996 secs\n",
      "Ready.\n",
      "Reading 0 ... 30749  =      0.000 ...   122.996 secs...\n",
      "Used Annotations descriptions: ['T0', 'T1', 'T2']\n",
      "Not setting metadata\n",
      "15 matching events found\n",
      "No baseline correction applied\n",
      "0 projection items activated\n",
      "Using data from preloaded Raw for 15 events and 126 original time points ...\n",
      "0 bad epochs dropped\n"
     ]
    },
    {
     "name": "stderr",
     "output_type": "stream",
     "text": [
      "C:\\Users\\chakr\\AppData\\Local\\Temp\\ipykernel_13788\\3980180034.py:3: RuntimeWarning: This filename (C:\\School\\EE_Y3\\Q4\\BAP\\eeg_thesis_cnn_repo\\data\\external\\interim\\S055R03_filtered.fif) does not conform to MNE naming conventions. All raw files should end with raw.fif, raw_sss.fif, raw_tsss.fif, _meg.fif, _eeg.fif, _ieeg.fif, raw.fif.gz, raw_sss.fif.gz, raw_tsss.fif.gz, _meg.fif.gz, _eeg.fif.gz or _ieeg.fif.gz\n",
      "  raw = mne.io.read_raw_fif(fif_file, preload=True)\n",
      "c:\\Users\\chakr\\Anaconda3\\envs\\eeg_thesis\\lib\\site-packages\\pywt\\_functions.py:143: FutureWarning: Wavelets from the family cmor, without parameters specified in the name are deprecated. The name should takethe form cmorB-C where B and C are floats representing the bandwidth frequency and center frequency, respectively (example: cmor1.5-1.0).\n",
      "  wavelet = DiscreteContinuousWavelet(wavelet)\n",
      "c:\\Users\\chakr\\Anaconda3\\envs\\eeg_thesis\\lib\\site-packages\\pywt\\_cwt.py:117: FutureWarning: Wavelets from the family cmor, without parameters specified in the name are deprecated. The name should takethe form cmorB-C where B and C are floats representing the bandwidth frequency and center frequency, respectively (example: cmor1.5-1.0).\n",
      "  wavelet = DiscreteContinuousWavelet(wavelet)\n"
     ]
    },
    {
     "name": "stdout",
     "output_type": "stream",
     "text": [
      "Opening raw data file C:\\School\\EE_Y3\\Q4\\BAP\\eeg_thesis_cnn_repo\\data\\external\\interim\\S055R07_filtered.fif...\n",
      "Isotrak not found\n",
      "    Range : 0 ... 30749 =      0.000 ...   122.996 secs\n",
      "Ready.\n",
      "Reading 0 ... 30749  =      0.000 ...   122.996 secs...\n",
      "Used Annotations descriptions: ['T0', 'T1', 'T2']\n",
      "Not setting metadata\n",
      "15 matching events found\n",
      "No baseline correction applied\n",
      "0 projection items activated\n",
      "Using data from preloaded Raw for 15 events and 126 original time points ...\n",
      "0 bad epochs dropped\n"
     ]
    },
    {
     "name": "stderr",
     "output_type": "stream",
     "text": [
      "C:\\Users\\chakr\\AppData\\Local\\Temp\\ipykernel_13788\\3980180034.py:3: RuntimeWarning: This filename (C:\\School\\EE_Y3\\Q4\\BAP\\eeg_thesis_cnn_repo\\data\\external\\interim\\S055R07_filtered.fif) does not conform to MNE naming conventions. All raw files should end with raw.fif, raw_sss.fif, raw_tsss.fif, _meg.fif, _eeg.fif, _ieeg.fif, raw.fif.gz, raw_sss.fif.gz, raw_tsss.fif.gz, _meg.fif.gz, _eeg.fif.gz or _ieeg.fif.gz\n",
      "  raw = mne.io.read_raw_fif(fif_file, preload=True)\n",
      "c:\\Users\\chakr\\Anaconda3\\envs\\eeg_thesis\\lib\\site-packages\\pywt\\_functions.py:143: FutureWarning: Wavelets from the family cmor, without parameters specified in the name are deprecated. The name should takethe form cmorB-C where B and C are floats representing the bandwidth frequency and center frequency, respectively (example: cmor1.5-1.0).\n",
      "  wavelet = DiscreteContinuousWavelet(wavelet)\n",
      "c:\\Users\\chakr\\Anaconda3\\envs\\eeg_thesis\\lib\\site-packages\\pywt\\_cwt.py:117: FutureWarning: Wavelets from the family cmor, without parameters specified in the name are deprecated. The name should takethe form cmorB-C where B and C are floats representing the bandwidth frequency and center frequency, respectively (example: cmor1.5-1.0).\n",
      "  wavelet = DiscreteContinuousWavelet(wavelet)\n"
     ]
    },
    {
     "name": "stdout",
     "output_type": "stream",
     "text": [
      "Opening raw data file C:\\School\\EE_Y3\\Q4\\BAP\\eeg_thesis_cnn_repo\\data\\external\\interim\\S055R11_filtered.fif...\n",
      "Isotrak not found\n",
      "    Range : 0 ... 30749 =      0.000 ...   122.996 secs\n",
      "Ready.\n",
      "Reading 0 ... 30749  =      0.000 ...   122.996 secs...\n",
      "Used Annotations descriptions: ['T0', 'T1', 'T2']\n",
      "Not setting metadata\n",
      "15 matching events found\n",
      "No baseline correction applied\n",
      "0 projection items activated\n",
      "Using data from preloaded Raw for 15 events and 126 original time points ...\n",
      "0 bad epochs dropped\n"
     ]
    },
    {
     "name": "stderr",
     "output_type": "stream",
     "text": [
      "C:\\Users\\chakr\\AppData\\Local\\Temp\\ipykernel_13788\\3980180034.py:3: RuntimeWarning: This filename (C:\\School\\EE_Y3\\Q4\\BAP\\eeg_thesis_cnn_repo\\data\\external\\interim\\S055R11_filtered.fif) does not conform to MNE naming conventions. All raw files should end with raw.fif, raw_sss.fif, raw_tsss.fif, _meg.fif, _eeg.fif, _ieeg.fif, raw.fif.gz, raw_sss.fif.gz, raw_tsss.fif.gz, _meg.fif.gz, _eeg.fif.gz or _ieeg.fif.gz\n",
      "  raw = mne.io.read_raw_fif(fif_file, preload=True)\n",
      "c:\\Users\\chakr\\Anaconda3\\envs\\eeg_thesis\\lib\\site-packages\\pywt\\_functions.py:143: FutureWarning: Wavelets from the family cmor, without parameters specified in the name are deprecated. The name should takethe form cmorB-C where B and C are floats representing the bandwidth frequency and center frequency, respectively (example: cmor1.5-1.0).\n",
      "  wavelet = DiscreteContinuousWavelet(wavelet)\n",
      "c:\\Users\\chakr\\Anaconda3\\envs\\eeg_thesis\\lib\\site-packages\\pywt\\_cwt.py:117: FutureWarning: Wavelets from the family cmor, without parameters specified in the name are deprecated. The name should takethe form cmorB-C where B and C are floats representing the bandwidth frequency and center frequency, respectively (example: cmor1.5-1.0).\n",
      "  wavelet = DiscreteContinuousWavelet(wavelet)\n"
     ]
    },
    {
     "name": "stdout",
     "output_type": "stream",
     "text": [
      "Opening raw data file C:\\School\\EE_Y3\\Q4\\BAP\\eeg_thesis_cnn_repo\\data\\external\\interim\\S056R03_filtered.fif...\n",
      "Isotrak not found\n",
      "    Range : 0 ... 30749 =      0.000 ...   122.996 secs\n",
      "Ready.\n",
      "Reading 0 ... 30749  =      0.000 ...   122.996 secs...\n",
      "Used Annotations descriptions: ['T0', 'T1', 'T2']\n",
      "Not setting metadata\n",
      "15 matching events found\n",
      "No baseline correction applied\n",
      "0 projection items activated\n",
      "Using data from preloaded Raw for 15 events and 126 original time points ...\n",
      "0 bad epochs dropped\n"
     ]
    },
    {
     "name": "stderr",
     "output_type": "stream",
     "text": [
      "C:\\Users\\chakr\\AppData\\Local\\Temp\\ipykernel_13788\\3980180034.py:3: RuntimeWarning: This filename (C:\\School\\EE_Y3\\Q4\\BAP\\eeg_thesis_cnn_repo\\data\\external\\interim\\S056R03_filtered.fif) does not conform to MNE naming conventions. All raw files should end with raw.fif, raw_sss.fif, raw_tsss.fif, _meg.fif, _eeg.fif, _ieeg.fif, raw.fif.gz, raw_sss.fif.gz, raw_tsss.fif.gz, _meg.fif.gz, _eeg.fif.gz or _ieeg.fif.gz\n",
      "  raw = mne.io.read_raw_fif(fif_file, preload=True)\n",
      "c:\\Users\\chakr\\Anaconda3\\envs\\eeg_thesis\\lib\\site-packages\\pywt\\_functions.py:143: FutureWarning: Wavelets from the family cmor, without parameters specified in the name are deprecated. The name should takethe form cmorB-C where B and C are floats representing the bandwidth frequency and center frequency, respectively (example: cmor1.5-1.0).\n",
      "  wavelet = DiscreteContinuousWavelet(wavelet)\n",
      "c:\\Users\\chakr\\Anaconda3\\envs\\eeg_thesis\\lib\\site-packages\\pywt\\_cwt.py:117: FutureWarning: Wavelets from the family cmor, without parameters specified in the name are deprecated. The name should takethe form cmorB-C where B and C are floats representing the bandwidth frequency and center frequency, respectively (example: cmor1.5-1.0).\n",
      "  wavelet = DiscreteContinuousWavelet(wavelet)\n"
     ]
    },
    {
     "name": "stdout",
     "output_type": "stream",
     "text": [
      "Opening raw data file C:\\School\\EE_Y3\\Q4\\BAP\\eeg_thesis_cnn_repo\\data\\external\\interim\\S056R07_filtered.fif...\n",
      "Isotrak not found\n",
      "    Range : 0 ... 30749 =      0.000 ...   122.996 secs\n",
      "Ready.\n",
      "Reading 0 ... 30749  =      0.000 ...   122.996 secs...\n",
      "Used Annotations descriptions: ['T0', 'T1', 'T2']\n",
      "Not setting metadata\n",
      "15 matching events found\n",
      "No baseline correction applied\n",
      "0 projection items activated\n",
      "Using data from preloaded Raw for 15 events and 126 original time points ...\n",
      "0 bad epochs dropped\n"
     ]
    },
    {
     "name": "stderr",
     "output_type": "stream",
     "text": [
      "C:\\Users\\chakr\\AppData\\Local\\Temp\\ipykernel_13788\\3980180034.py:3: RuntimeWarning: This filename (C:\\School\\EE_Y3\\Q4\\BAP\\eeg_thesis_cnn_repo\\data\\external\\interim\\S056R07_filtered.fif) does not conform to MNE naming conventions. All raw files should end with raw.fif, raw_sss.fif, raw_tsss.fif, _meg.fif, _eeg.fif, _ieeg.fif, raw.fif.gz, raw_sss.fif.gz, raw_tsss.fif.gz, _meg.fif.gz, _eeg.fif.gz or _ieeg.fif.gz\n",
      "  raw = mne.io.read_raw_fif(fif_file, preload=True)\n",
      "c:\\Users\\chakr\\Anaconda3\\envs\\eeg_thesis\\lib\\site-packages\\pywt\\_functions.py:143: FutureWarning: Wavelets from the family cmor, without parameters specified in the name are deprecated. The name should takethe form cmorB-C where B and C are floats representing the bandwidth frequency and center frequency, respectively (example: cmor1.5-1.0).\n",
      "  wavelet = DiscreteContinuousWavelet(wavelet)\n",
      "c:\\Users\\chakr\\Anaconda3\\envs\\eeg_thesis\\lib\\site-packages\\pywt\\_cwt.py:117: FutureWarning: Wavelets from the family cmor, without parameters specified in the name are deprecated. The name should takethe form cmorB-C where B and C are floats representing the bandwidth frequency and center frequency, respectively (example: cmor1.5-1.0).\n",
      "  wavelet = DiscreteContinuousWavelet(wavelet)\n"
     ]
    },
    {
     "name": "stdout",
     "output_type": "stream",
     "text": [
      "Opening raw data file C:\\School\\EE_Y3\\Q4\\BAP\\eeg_thesis_cnn_repo\\data\\external\\interim\\S056R11_filtered.fif...\n",
      "Isotrak not found\n",
      "    Range : 0 ... 30749 =      0.000 ...   122.996 secs\n",
      "Ready.\n",
      "Reading 0 ... 30749  =      0.000 ...   122.996 secs...\n",
      "Used Annotations descriptions: ['T0', 'T1', 'T2']\n",
      "Not setting metadata\n",
      "15 matching events found\n",
      "No baseline correction applied\n",
      "0 projection items activated\n",
      "Using data from preloaded Raw for 15 events and 126 original time points ...\n",
      "0 bad epochs dropped\n"
     ]
    },
    {
     "name": "stderr",
     "output_type": "stream",
     "text": [
      "C:\\Users\\chakr\\AppData\\Local\\Temp\\ipykernel_13788\\3980180034.py:3: RuntimeWarning: This filename (C:\\School\\EE_Y3\\Q4\\BAP\\eeg_thesis_cnn_repo\\data\\external\\interim\\S056R11_filtered.fif) does not conform to MNE naming conventions. All raw files should end with raw.fif, raw_sss.fif, raw_tsss.fif, _meg.fif, _eeg.fif, _ieeg.fif, raw.fif.gz, raw_sss.fif.gz, raw_tsss.fif.gz, _meg.fif.gz, _eeg.fif.gz or _ieeg.fif.gz\n",
      "  raw = mne.io.read_raw_fif(fif_file, preload=True)\n",
      "c:\\Users\\chakr\\Anaconda3\\envs\\eeg_thesis\\lib\\site-packages\\pywt\\_functions.py:143: FutureWarning: Wavelets from the family cmor, without parameters specified in the name are deprecated. The name should takethe form cmorB-C where B and C are floats representing the bandwidth frequency and center frequency, respectively (example: cmor1.5-1.0).\n",
      "  wavelet = DiscreteContinuousWavelet(wavelet)\n",
      "c:\\Users\\chakr\\Anaconda3\\envs\\eeg_thesis\\lib\\site-packages\\pywt\\_cwt.py:117: FutureWarning: Wavelets from the family cmor, without parameters specified in the name are deprecated. The name should takethe form cmorB-C where B and C are floats representing the bandwidth frequency and center frequency, respectively (example: cmor1.5-1.0).\n",
      "  wavelet = DiscreteContinuousWavelet(wavelet)\n"
     ]
    },
    {
     "name": "stdout",
     "output_type": "stream",
     "text": [
      "Opening raw data file C:\\School\\EE_Y3\\Q4\\BAP\\eeg_thesis_cnn_repo\\data\\external\\interim\\S057R03_filtered.fif...\n",
      "Isotrak not found\n",
      "    Range : 0 ... 31249 =      0.000 ...   124.996 secs\n",
      "Ready.\n",
      "Reading 0 ... 31249  =      0.000 ...   124.996 secs...\n",
      "Used Annotations descriptions: ['T0', 'T1', 'T2']\n",
      "Not setting metadata\n",
      "15 matching events found\n",
      "No baseline correction applied\n",
      "0 projection items activated\n",
      "Using data from preloaded Raw for 15 events and 126 original time points ...\n",
      "0 bad epochs dropped\n"
     ]
    },
    {
     "name": "stderr",
     "output_type": "stream",
     "text": [
      "C:\\Users\\chakr\\AppData\\Local\\Temp\\ipykernel_13788\\3980180034.py:3: RuntimeWarning: This filename (C:\\School\\EE_Y3\\Q4\\BAP\\eeg_thesis_cnn_repo\\data\\external\\interim\\S057R03_filtered.fif) does not conform to MNE naming conventions. All raw files should end with raw.fif, raw_sss.fif, raw_tsss.fif, _meg.fif, _eeg.fif, _ieeg.fif, raw.fif.gz, raw_sss.fif.gz, raw_tsss.fif.gz, _meg.fif.gz, _eeg.fif.gz or _ieeg.fif.gz\n",
      "  raw = mne.io.read_raw_fif(fif_file, preload=True)\n",
      "c:\\Users\\chakr\\Anaconda3\\envs\\eeg_thesis\\lib\\site-packages\\pywt\\_functions.py:143: FutureWarning: Wavelets from the family cmor, without parameters specified in the name are deprecated. The name should takethe form cmorB-C where B and C are floats representing the bandwidth frequency and center frequency, respectively (example: cmor1.5-1.0).\n",
      "  wavelet = DiscreteContinuousWavelet(wavelet)\n",
      "c:\\Users\\chakr\\Anaconda3\\envs\\eeg_thesis\\lib\\site-packages\\pywt\\_cwt.py:117: FutureWarning: Wavelets from the family cmor, without parameters specified in the name are deprecated. The name should takethe form cmorB-C where B and C are floats representing the bandwidth frequency and center frequency, respectively (example: cmor1.5-1.0).\n",
      "  wavelet = DiscreteContinuousWavelet(wavelet)\n"
     ]
    },
    {
     "name": "stdout",
     "output_type": "stream",
     "text": [
      "Opening raw data file C:\\School\\EE_Y3\\Q4\\BAP\\eeg_thesis_cnn_repo\\data\\external\\interim\\S057R07_filtered.fif...\n",
      "Isotrak not found\n",
      "    Range : 0 ... 31249 =      0.000 ...   124.996 secs\n",
      "Ready.\n",
      "Reading 0 ... 31249  =      0.000 ...   124.996 secs...\n",
      "Used Annotations descriptions: ['T0', 'T1', 'T2']\n",
      "Not setting metadata\n",
      "15 matching events found\n",
      "No baseline correction applied\n",
      "0 projection items activated\n",
      "Using data from preloaded Raw for 15 events and 126 original time points ...\n",
      "0 bad epochs dropped\n"
     ]
    },
    {
     "name": "stderr",
     "output_type": "stream",
     "text": [
      "C:\\Users\\chakr\\AppData\\Local\\Temp\\ipykernel_13788\\3980180034.py:3: RuntimeWarning: This filename (C:\\School\\EE_Y3\\Q4\\BAP\\eeg_thesis_cnn_repo\\data\\external\\interim\\S057R07_filtered.fif) does not conform to MNE naming conventions. All raw files should end with raw.fif, raw_sss.fif, raw_tsss.fif, _meg.fif, _eeg.fif, _ieeg.fif, raw.fif.gz, raw_sss.fif.gz, raw_tsss.fif.gz, _meg.fif.gz, _eeg.fif.gz or _ieeg.fif.gz\n",
      "  raw = mne.io.read_raw_fif(fif_file, preload=True)\n",
      "c:\\Users\\chakr\\Anaconda3\\envs\\eeg_thesis\\lib\\site-packages\\pywt\\_functions.py:143: FutureWarning: Wavelets from the family cmor, without parameters specified in the name are deprecated. The name should takethe form cmorB-C where B and C are floats representing the bandwidth frequency and center frequency, respectively (example: cmor1.5-1.0).\n",
      "  wavelet = DiscreteContinuousWavelet(wavelet)\n",
      "c:\\Users\\chakr\\Anaconda3\\envs\\eeg_thesis\\lib\\site-packages\\pywt\\_cwt.py:117: FutureWarning: Wavelets from the family cmor, without parameters specified in the name are deprecated. The name should takethe form cmorB-C where B and C are floats representing the bandwidth frequency and center frequency, respectively (example: cmor1.5-1.0).\n",
      "  wavelet = DiscreteContinuousWavelet(wavelet)\n"
     ]
    },
    {
     "name": "stdout",
     "output_type": "stream",
     "text": [
      "Opening raw data file C:\\School\\EE_Y3\\Q4\\BAP\\eeg_thesis_cnn_repo\\data\\external\\interim\\S057R11_filtered.fif...\n",
      "Isotrak not found\n",
      "    Range : 0 ... 31249 =      0.000 ...   124.996 secs\n",
      "Ready.\n",
      "Reading 0 ... 31249  =      0.000 ...   124.996 secs...\n",
      "Used Annotations descriptions: ['T0', 'T1', 'T2']\n",
      "Not setting metadata\n",
      "15 matching events found\n",
      "No baseline correction applied\n",
      "0 projection items activated\n",
      "Using data from preloaded Raw for 15 events and 126 original time points ...\n",
      "0 bad epochs dropped\n"
     ]
    },
    {
     "name": "stderr",
     "output_type": "stream",
     "text": [
      "C:\\Users\\chakr\\AppData\\Local\\Temp\\ipykernel_13788\\3980180034.py:3: RuntimeWarning: This filename (C:\\School\\EE_Y3\\Q4\\BAP\\eeg_thesis_cnn_repo\\data\\external\\interim\\S057R11_filtered.fif) does not conform to MNE naming conventions. All raw files should end with raw.fif, raw_sss.fif, raw_tsss.fif, _meg.fif, _eeg.fif, _ieeg.fif, raw.fif.gz, raw_sss.fif.gz, raw_tsss.fif.gz, _meg.fif.gz, _eeg.fif.gz or _ieeg.fif.gz\n",
      "  raw = mne.io.read_raw_fif(fif_file, preload=True)\n",
      "c:\\Users\\chakr\\Anaconda3\\envs\\eeg_thesis\\lib\\site-packages\\pywt\\_functions.py:143: FutureWarning: Wavelets from the family cmor, without parameters specified in the name are deprecated. The name should takethe form cmorB-C where B and C are floats representing the bandwidth frequency and center frequency, respectively (example: cmor1.5-1.0).\n",
      "  wavelet = DiscreteContinuousWavelet(wavelet)\n",
      "c:\\Users\\chakr\\Anaconda3\\envs\\eeg_thesis\\lib\\site-packages\\pywt\\_cwt.py:117: FutureWarning: Wavelets from the family cmor, without parameters specified in the name are deprecated. The name should takethe form cmorB-C where B and C are floats representing the bandwidth frequency and center frequency, respectively (example: cmor1.5-1.0).\n",
      "  wavelet = DiscreteContinuousWavelet(wavelet)\n"
     ]
    },
    {
     "name": "stdout",
     "output_type": "stream",
     "text": [
      "Opening raw data file C:\\School\\EE_Y3\\Q4\\BAP\\eeg_thesis_cnn_repo\\data\\external\\interim\\S058R03_filtered.fif...\n",
      "Isotrak not found\n",
      "    Range : 0 ... 30749 =      0.000 ...   122.996 secs\n",
      "Ready.\n",
      "Reading 0 ... 30749  =      0.000 ...   122.996 secs...\n",
      "Used Annotations descriptions: ['T0', 'T1', 'T2']\n",
      "Not setting metadata\n",
      "15 matching events found\n",
      "No baseline correction applied\n",
      "0 projection items activated\n",
      "Using data from preloaded Raw for 15 events and 126 original time points ...\n",
      "0 bad epochs dropped\n"
     ]
    },
    {
     "name": "stderr",
     "output_type": "stream",
     "text": [
      "C:\\Users\\chakr\\AppData\\Local\\Temp\\ipykernel_13788\\3980180034.py:3: RuntimeWarning: This filename (C:\\School\\EE_Y3\\Q4\\BAP\\eeg_thesis_cnn_repo\\data\\external\\interim\\S058R03_filtered.fif) does not conform to MNE naming conventions. All raw files should end with raw.fif, raw_sss.fif, raw_tsss.fif, _meg.fif, _eeg.fif, _ieeg.fif, raw.fif.gz, raw_sss.fif.gz, raw_tsss.fif.gz, _meg.fif.gz, _eeg.fif.gz or _ieeg.fif.gz\n",
      "  raw = mne.io.read_raw_fif(fif_file, preload=True)\n",
      "c:\\Users\\chakr\\Anaconda3\\envs\\eeg_thesis\\lib\\site-packages\\pywt\\_functions.py:143: FutureWarning: Wavelets from the family cmor, without parameters specified in the name are deprecated. The name should takethe form cmorB-C where B and C are floats representing the bandwidth frequency and center frequency, respectively (example: cmor1.5-1.0).\n",
      "  wavelet = DiscreteContinuousWavelet(wavelet)\n",
      "c:\\Users\\chakr\\Anaconda3\\envs\\eeg_thesis\\lib\\site-packages\\pywt\\_cwt.py:117: FutureWarning: Wavelets from the family cmor, without parameters specified in the name are deprecated. The name should takethe form cmorB-C where B and C are floats representing the bandwidth frequency and center frequency, respectively (example: cmor1.5-1.0).\n",
      "  wavelet = DiscreteContinuousWavelet(wavelet)\n"
     ]
    },
    {
     "name": "stdout",
     "output_type": "stream",
     "text": [
      "Opening raw data file C:\\School\\EE_Y3\\Q4\\BAP\\eeg_thesis_cnn_repo\\data\\external\\interim\\S058R07_filtered.fif...\n",
      "Isotrak not found\n",
      "    Range : 0 ... 30749 =      0.000 ...   122.996 secs\n",
      "Ready.\n",
      "Reading 0 ... 30749  =      0.000 ...   122.996 secs...\n",
      "Used Annotations descriptions: ['T0', 'T1', 'T2']\n",
      "Not setting metadata\n",
      "15 matching events found\n",
      "No baseline correction applied\n",
      "0 projection items activated\n",
      "Using data from preloaded Raw for 15 events and 126 original time points ...\n",
      "0 bad epochs dropped\n"
     ]
    },
    {
     "name": "stderr",
     "output_type": "stream",
     "text": [
      "C:\\Users\\chakr\\AppData\\Local\\Temp\\ipykernel_13788\\3980180034.py:3: RuntimeWarning: This filename (C:\\School\\EE_Y3\\Q4\\BAP\\eeg_thesis_cnn_repo\\data\\external\\interim\\S058R07_filtered.fif) does not conform to MNE naming conventions. All raw files should end with raw.fif, raw_sss.fif, raw_tsss.fif, _meg.fif, _eeg.fif, _ieeg.fif, raw.fif.gz, raw_sss.fif.gz, raw_tsss.fif.gz, _meg.fif.gz, _eeg.fif.gz or _ieeg.fif.gz\n",
      "  raw = mne.io.read_raw_fif(fif_file, preload=True)\n",
      "c:\\Users\\chakr\\Anaconda3\\envs\\eeg_thesis\\lib\\site-packages\\pywt\\_functions.py:143: FutureWarning: Wavelets from the family cmor, without parameters specified in the name are deprecated. The name should takethe form cmorB-C where B and C are floats representing the bandwidth frequency and center frequency, respectively (example: cmor1.5-1.0).\n",
      "  wavelet = DiscreteContinuousWavelet(wavelet)\n",
      "c:\\Users\\chakr\\Anaconda3\\envs\\eeg_thesis\\lib\\site-packages\\pywt\\_cwt.py:117: FutureWarning: Wavelets from the family cmor, without parameters specified in the name are deprecated. The name should takethe form cmorB-C where B and C are floats representing the bandwidth frequency and center frequency, respectively (example: cmor1.5-1.0).\n",
      "  wavelet = DiscreteContinuousWavelet(wavelet)\n"
     ]
    },
    {
     "name": "stdout",
     "output_type": "stream",
     "text": [
      "Opening raw data file C:\\School\\EE_Y3\\Q4\\BAP\\eeg_thesis_cnn_repo\\data\\external\\interim\\S058R11_filtered.fif...\n",
      "Isotrak not found\n",
      "    Range : 0 ... 30749 =      0.000 ...   122.996 secs\n",
      "Ready.\n",
      "Reading 0 ... 30749  =      0.000 ...   122.996 secs...\n",
      "Used Annotations descriptions: ['T0', 'T1', 'T2']\n",
      "Not setting metadata\n",
      "15 matching events found\n",
      "No baseline correction applied\n",
      "0 projection items activated\n",
      "Using data from preloaded Raw for 15 events and 126 original time points ...\n",
      "0 bad epochs dropped\n"
     ]
    },
    {
     "name": "stderr",
     "output_type": "stream",
     "text": [
      "C:\\Users\\chakr\\AppData\\Local\\Temp\\ipykernel_13788\\3980180034.py:3: RuntimeWarning: This filename (C:\\School\\EE_Y3\\Q4\\BAP\\eeg_thesis_cnn_repo\\data\\external\\interim\\S058R11_filtered.fif) does not conform to MNE naming conventions. All raw files should end with raw.fif, raw_sss.fif, raw_tsss.fif, _meg.fif, _eeg.fif, _ieeg.fif, raw.fif.gz, raw_sss.fif.gz, raw_tsss.fif.gz, _meg.fif.gz, _eeg.fif.gz or _ieeg.fif.gz\n",
      "  raw = mne.io.read_raw_fif(fif_file, preload=True)\n",
      "c:\\Users\\chakr\\Anaconda3\\envs\\eeg_thesis\\lib\\site-packages\\pywt\\_functions.py:143: FutureWarning: Wavelets from the family cmor, without parameters specified in the name are deprecated. The name should takethe form cmorB-C where B and C are floats representing the bandwidth frequency and center frequency, respectively (example: cmor1.5-1.0).\n",
      "  wavelet = DiscreteContinuousWavelet(wavelet)\n",
      "c:\\Users\\chakr\\Anaconda3\\envs\\eeg_thesis\\lib\\site-packages\\pywt\\_cwt.py:117: FutureWarning: Wavelets from the family cmor, without parameters specified in the name are deprecated. The name should takethe form cmorB-C where B and C are floats representing the bandwidth frequency and center frequency, respectively (example: cmor1.5-1.0).\n",
      "  wavelet = DiscreteContinuousWavelet(wavelet)\n"
     ]
    },
    {
     "name": "stdout",
     "output_type": "stream",
     "text": [
      "Opening raw data file C:\\School\\EE_Y3\\Q4\\BAP\\eeg_thesis_cnn_repo\\data\\external\\interim\\S059R03_filtered.fif...\n",
      "Isotrak not found\n",
      "    Range : 0 ... 30749 =      0.000 ...   122.996 secs\n",
      "Ready.\n",
      "Reading 0 ... 30749  =      0.000 ...   122.996 secs...\n",
      "Used Annotations descriptions: ['T0', 'T1', 'T2']\n",
      "Not setting metadata\n",
      "15 matching events found\n",
      "No baseline correction applied\n",
      "0 projection items activated\n",
      "Using data from preloaded Raw for 15 events and 126 original time points ...\n",
      "0 bad epochs dropped\n"
     ]
    },
    {
     "name": "stderr",
     "output_type": "stream",
     "text": [
      "C:\\Users\\chakr\\AppData\\Local\\Temp\\ipykernel_13788\\3980180034.py:3: RuntimeWarning: This filename (C:\\School\\EE_Y3\\Q4\\BAP\\eeg_thesis_cnn_repo\\data\\external\\interim\\S059R03_filtered.fif) does not conform to MNE naming conventions. All raw files should end with raw.fif, raw_sss.fif, raw_tsss.fif, _meg.fif, _eeg.fif, _ieeg.fif, raw.fif.gz, raw_sss.fif.gz, raw_tsss.fif.gz, _meg.fif.gz, _eeg.fif.gz or _ieeg.fif.gz\n",
      "  raw = mne.io.read_raw_fif(fif_file, preload=True)\n",
      "c:\\Users\\chakr\\Anaconda3\\envs\\eeg_thesis\\lib\\site-packages\\pywt\\_functions.py:143: FutureWarning: Wavelets from the family cmor, without parameters specified in the name are deprecated. The name should takethe form cmorB-C where B and C are floats representing the bandwidth frequency and center frequency, respectively (example: cmor1.5-1.0).\n",
      "  wavelet = DiscreteContinuousWavelet(wavelet)\n",
      "c:\\Users\\chakr\\Anaconda3\\envs\\eeg_thesis\\lib\\site-packages\\pywt\\_cwt.py:117: FutureWarning: Wavelets from the family cmor, without parameters specified in the name are deprecated. The name should takethe form cmorB-C where B and C are floats representing the bandwidth frequency and center frequency, respectively (example: cmor1.5-1.0).\n",
      "  wavelet = DiscreteContinuousWavelet(wavelet)\n"
     ]
    },
    {
     "name": "stdout",
     "output_type": "stream",
     "text": [
      "Opening raw data file C:\\School\\EE_Y3\\Q4\\BAP\\eeg_thesis_cnn_repo\\data\\external\\interim\\S059R07_filtered.fif...\n",
      "Isotrak not found\n",
      "    Range : 0 ... 30749 =      0.000 ...   122.996 secs\n",
      "Ready.\n",
      "Reading 0 ... 30749  =      0.000 ...   122.996 secs...\n",
      "Used Annotations descriptions: ['T0', 'T1', 'T2']\n",
      "Not setting metadata\n",
      "15 matching events found\n",
      "No baseline correction applied\n",
      "0 projection items activated\n",
      "Using data from preloaded Raw for 15 events and 126 original time points ...\n",
      "0 bad epochs dropped\n"
     ]
    },
    {
     "name": "stderr",
     "output_type": "stream",
     "text": [
      "C:\\Users\\chakr\\AppData\\Local\\Temp\\ipykernel_13788\\3980180034.py:3: RuntimeWarning: This filename (C:\\School\\EE_Y3\\Q4\\BAP\\eeg_thesis_cnn_repo\\data\\external\\interim\\S059R07_filtered.fif) does not conform to MNE naming conventions. All raw files should end with raw.fif, raw_sss.fif, raw_tsss.fif, _meg.fif, _eeg.fif, _ieeg.fif, raw.fif.gz, raw_sss.fif.gz, raw_tsss.fif.gz, _meg.fif.gz, _eeg.fif.gz or _ieeg.fif.gz\n",
      "  raw = mne.io.read_raw_fif(fif_file, preload=True)\n",
      "c:\\Users\\chakr\\Anaconda3\\envs\\eeg_thesis\\lib\\site-packages\\pywt\\_functions.py:143: FutureWarning: Wavelets from the family cmor, without parameters specified in the name are deprecated. The name should takethe form cmorB-C where B and C are floats representing the bandwidth frequency and center frequency, respectively (example: cmor1.5-1.0).\n",
      "  wavelet = DiscreteContinuousWavelet(wavelet)\n",
      "c:\\Users\\chakr\\Anaconda3\\envs\\eeg_thesis\\lib\\site-packages\\pywt\\_cwt.py:117: FutureWarning: Wavelets from the family cmor, without parameters specified in the name are deprecated. The name should takethe form cmorB-C where B and C are floats representing the bandwidth frequency and center frequency, respectively (example: cmor1.5-1.0).\n",
      "  wavelet = DiscreteContinuousWavelet(wavelet)\n"
     ]
    },
    {
     "name": "stdout",
     "output_type": "stream",
     "text": [
      "Opening raw data file C:\\School\\EE_Y3\\Q4\\BAP\\eeg_thesis_cnn_repo\\data\\external\\interim\\S059R11_filtered.fif...\n",
      "Isotrak not found\n",
      "    Range : 0 ... 30749 =      0.000 ...   122.996 secs\n",
      "Ready.\n",
      "Reading 0 ... 30749  =      0.000 ...   122.996 secs...\n",
      "Used Annotations descriptions: ['T0', 'T1', 'T2']\n",
      "Not setting metadata\n",
      "15 matching events found\n",
      "No baseline correction applied\n",
      "0 projection items activated\n",
      "Using data from preloaded Raw for 15 events and 126 original time points ...\n",
      "0 bad epochs dropped\n"
     ]
    },
    {
     "name": "stderr",
     "output_type": "stream",
     "text": [
      "C:\\Users\\chakr\\AppData\\Local\\Temp\\ipykernel_13788\\3980180034.py:3: RuntimeWarning: This filename (C:\\School\\EE_Y3\\Q4\\BAP\\eeg_thesis_cnn_repo\\data\\external\\interim\\S059R11_filtered.fif) does not conform to MNE naming conventions. All raw files should end with raw.fif, raw_sss.fif, raw_tsss.fif, _meg.fif, _eeg.fif, _ieeg.fif, raw.fif.gz, raw_sss.fif.gz, raw_tsss.fif.gz, _meg.fif.gz, _eeg.fif.gz or _ieeg.fif.gz\n",
      "  raw = mne.io.read_raw_fif(fif_file, preload=True)\n",
      "c:\\Users\\chakr\\Anaconda3\\envs\\eeg_thesis\\lib\\site-packages\\pywt\\_functions.py:143: FutureWarning: Wavelets from the family cmor, without parameters specified in the name are deprecated. The name should takethe form cmorB-C where B and C are floats representing the bandwidth frequency and center frequency, respectively (example: cmor1.5-1.0).\n",
      "  wavelet = DiscreteContinuousWavelet(wavelet)\n",
      "c:\\Users\\chakr\\Anaconda3\\envs\\eeg_thesis\\lib\\site-packages\\pywt\\_cwt.py:117: FutureWarning: Wavelets from the family cmor, without parameters specified in the name are deprecated. The name should takethe form cmorB-C where B and C are floats representing the bandwidth frequency and center frequency, respectively (example: cmor1.5-1.0).\n",
      "  wavelet = DiscreteContinuousWavelet(wavelet)\n"
     ]
    },
    {
     "name": "stdout",
     "output_type": "stream",
     "text": [
      "Opening raw data file C:\\School\\EE_Y3\\Q4\\BAP\\eeg_thesis_cnn_repo\\data\\external\\interim\\S060R03_filtered.fif...\n",
      "Isotrak not found\n",
      "    Range : 0 ... 30749 =      0.000 ...   122.996 secs\n",
      "Ready.\n",
      "Reading 0 ... 30749  =      0.000 ...   122.996 secs...\n",
      "Used Annotations descriptions: ['T0', 'T1', 'T2']\n",
      "Not setting metadata\n",
      "15 matching events found\n",
      "No baseline correction applied\n",
      "0 projection items activated\n",
      "Using data from preloaded Raw for 15 events and 126 original time points ...\n",
      "0 bad epochs dropped\n"
     ]
    },
    {
     "name": "stderr",
     "output_type": "stream",
     "text": [
      "C:\\Users\\chakr\\AppData\\Local\\Temp\\ipykernel_13788\\3980180034.py:3: RuntimeWarning: This filename (C:\\School\\EE_Y3\\Q4\\BAP\\eeg_thesis_cnn_repo\\data\\external\\interim\\S060R03_filtered.fif) does not conform to MNE naming conventions. All raw files should end with raw.fif, raw_sss.fif, raw_tsss.fif, _meg.fif, _eeg.fif, _ieeg.fif, raw.fif.gz, raw_sss.fif.gz, raw_tsss.fif.gz, _meg.fif.gz, _eeg.fif.gz or _ieeg.fif.gz\n",
      "  raw = mne.io.read_raw_fif(fif_file, preload=True)\n",
      "c:\\Users\\chakr\\Anaconda3\\envs\\eeg_thesis\\lib\\site-packages\\pywt\\_functions.py:143: FutureWarning: Wavelets from the family cmor, without parameters specified in the name are deprecated. The name should takethe form cmorB-C where B and C are floats representing the bandwidth frequency and center frequency, respectively (example: cmor1.5-1.0).\n",
      "  wavelet = DiscreteContinuousWavelet(wavelet)\n",
      "c:\\Users\\chakr\\Anaconda3\\envs\\eeg_thesis\\lib\\site-packages\\pywt\\_cwt.py:117: FutureWarning: Wavelets from the family cmor, without parameters specified in the name are deprecated. The name should takethe form cmorB-C where B and C are floats representing the bandwidth frequency and center frequency, respectively (example: cmor1.5-1.0).\n",
      "  wavelet = DiscreteContinuousWavelet(wavelet)\n"
     ]
    },
    {
     "name": "stdout",
     "output_type": "stream",
     "text": [
      "Opening raw data file C:\\School\\EE_Y3\\Q4\\BAP\\eeg_thesis_cnn_repo\\data\\external\\interim\\S060R07_filtered.fif...\n",
      "Isotrak not found\n",
      "    Range : 0 ... 30749 =      0.000 ...   122.996 secs\n",
      "Ready.\n",
      "Reading 0 ... 30749  =      0.000 ...   122.996 secs...\n",
      "Used Annotations descriptions: ['T0', 'T1', 'T2']\n",
      "Not setting metadata\n",
      "15 matching events found\n",
      "No baseline correction applied\n",
      "0 projection items activated\n",
      "Using data from preloaded Raw for 15 events and 126 original time points ...\n",
      "0 bad epochs dropped\n"
     ]
    },
    {
     "name": "stderr",
     "output_type": "stream",
     "text": [
      "C:\\Users\\chakr\\AppData\\Local\\Temp\\ipykernel_13788\\3980180034.py:3: RuntimeWarning: This filename (C:\\School\\EE_Y3\\Q4\\BAP\\eeg_thesis_cnn_repo\\data\\external\\interim\\S060R07_filtered.fif) does not conform to MNE naming conventions. All raw files should end with raw.fif, raw_sss.fif, raw_tsss.fif, _meg.fif, _eeg.fif, _ieeg.fif, raw.fif.gz, raw_sss.fif.gz, raw_tsss.fif.gz, _meg.fif.gz, _eeg.fif.gz or _ieeg.fif.gz\n",
      "  raw = mne.io.read_raw_fif(fif_file, preload=True)\n",
      "c:\\Users\\chakr\\Anaconda3\\envs\\eeg_thesis\\lib\\site-packages\\pywt\\_functions.py:143: FutureWarning: Wavelets from the family cmor, without parameters specified in the name are deprecated. The name should takethe form cmorB-C where B and C are floats representing the bandwidth frequency and center frequency, respectively (example: cmor1.5-1.0).\n",
      "  wavelet = DiscreteContinuousWavelet(wavelet)\n",
      "c:\\Users\\chakr\\Anaconda3\\envs\\eeg_thesis\\lib\\site-packages\\pywt\\_cwt.py:117: FutureWarning: Wavelets from the family cmor, without parameters specified in the name are deprecated. The name should takethe form cmorB-C where B and C are floats representing the bandwidth frequency and center frequency, respectively (example: cmor1.5-1.0).\n",
      "  wavelet = DiscreteContinuousWavelet(wavelet)\n"
     ]
    },
    {
     "name": "stdout",
     "output_type": "stream",
     "text": [
      "Opening raw data file C:\\School\\EE_Y3\\Q4\\BAP\\eeg_thesis_cnn_repo\\data\\external\\interim\\S060R11_filtered.fif...\n",
      "Isotrak not found\n",
      "    Range : 0 ... 30749 =      0.000 ...   122.996 secs\n",
      "Ready.\n",
      "Reading 0 ... 30749  =      0.000 ...   122.996 secs...\n",
      "Used Annotations descriptions: ['T0', 'T1', 'T2']\n",
      "Not setting metadata\n",
      "15 matching events found\n",
      "No baseline correction applied\n",
      "0 projection items activated\n",
      "Using data from preloaded Raw for 15 events and 126 original time points ...\n",
      "0 bad epochs dropped\n"
     ]
    },
    {
     "name": "stderr",
     "output_type": "stream",
     "text": [
      "C:\\Users\\chakr\\AppData\\Local\\Temp\\ipykernel_13788\\3980180034.py:3: RuntimeWarning: This filename (C:\\School\\EE_Y3\\Q4\\BAP\\eeg_thesis_cnn_repo\\data\\external\\interim\\S060R11_filtered.fif) does not conform to MNE naming conventions. All raw files should end with raw.fif, raw_sss.fif, raw_tsss.fif, _meg.fif, _eeg.fif, _ieeg.fif, raw.fif.gz, raw_sss.fif.gz, raw_tsss.fif.gz, _meg.fif.gz, _eeg.fif.gz or _ieeg.fif.gz\n",
      "  raw = mne.io.read_raw_fif(fif_file, preload=True)\n",
      "c:\\Users\\chakr\\Anaconda3\\envs\\eeg_thesis\\lib\\site-packages\\pywt\\_functions.py:143: FutureWarning: Wavelets from the family cmor, without parameters specified in the name are deprecated. The name should takethe form cmorB-C where B and C are floats representing the bandwidth frequency and center frequency, respectively (example: cmor1.5-1.0).\n",
      "  wavelet = DiscreteContinuousWavelet(wavelet)\n",
      "c:\\Users\\chakr\\Anaconda3\\envs\\eeg_thesis\\lib\\site-packages\\pywt\\_cwt.py:117: FutureWarning: Wavelets from the family cmor, without parameters specified in the name are deprecated. The name should takethe form cmorB-C where B and C are floats representing the bandwidth frequency and center frequency, respectively (example: cmor1.5-1.0).\n",
      "  wavelet = DiscreteContinuousWavelet(wavelet)\n"
     ]
    },
    {
     "name": "stdout",
     "output_type": "stream",
     "text": [
      "Opening raw data file C:\\School\\EE_Y3\\Q4\\BAP\\eeg_thesis_cnn_repo\\data\\external\\interim\\S061R03_filtered.fif...\n",
      "Isotrak not found\n",
      "    Range : 0 ... 31249 =      0.000 ...   124.996 secs\n",
      "Ready.\n",
      "Reading 0 ... 31249  =      0.000 ...   124.996 secs...\n",
      "Used Annotations descriptions: ['T0', 'T1', 'T2']\n",
      "Not setting metadata\n",
      "15 matching events found\n",
      "No baseline correction applied\n",
      "0 projection items activated\n",
      "Using data from preloaded Raw for 15 events and 126 original time points ...\n",
      "0 bad epochs dropped\n"
     ]
    },
    {
     "name": "stderr",
     "output_type": "stream",
     "text": [
      "C:\\Users\\chakr\\AppData\\Local\\Temp\\ipykernel_13788\\3980180034.py:3: RuntimeWarning: This filename (C:\\School\\EE_Y3\\Q4\\BAP\\eeg_thesis_cnn_repo\\data\\external\\interim\\S061R03_filtered.fif) does not conform to MNE naming conventions. All raw files should end with raw.fif, raw_sss.fif, raw_tsss.fif, _meg.fif, _eeg.fif, _ieeg.fif, raw.fif.gz, raw_sss.fif.gz, raw_tsss.fif.gz, _meg.fif.gz, _eeg.fif.gz or _ieeg.fif.gz\n",
      "  raw = mne.io.read_raw_fif(fif_file, preload=True)\n",
      "c:\\Users\\chakr\\Anaconda3\\envs\\eeg_thesis\\lib\\site-packages\\pywt\\_functions.py:143: FutureWarning: Wavelets from the family cmor, without parameters specified in the name are deprecated. The name should takethe form cmorB-C where B and C are floats representing the bandwidth frequency and center frequency, respectively (example: cmor1.5-1.0).\n",
      "  wavelet = DiscreteContinuousWavelet(wavelet)\n",
      "c:\\Users\\chakr\\Anaconda3\\envs\\eeg_thesis\\lib\\site-packages\\pywt\\_cwt.py:117: FutureWarning: Wavelets from the family cmor, without parameters specified in the name are deprecated. The name should takethe form cmorB-C where B and C are floats representing the bandwidth frequency and center frequency, respectively (example: cmor1.5-1.0).\n",
      "  wavelet = DiscreteContinuousWavelet(wavelet)\n"
     ]
    },
    {
     "name": "stdout",
     "output_type": "stream",
     "text": [
      "Opening raw data file C:\\School\\EE_Y3\\Q4\\BAP\\eeg_thesis_cnn_repo\\data\\external\\interim\\S061R07_filtered.fif...\n",
      "Isotrak not found\n",
      "    Range : 0 ... 31249 =      0.000 ...   124.996 secs\n",
      "Ready.\n",
      "Reading 0 ... 31249  =      0.000 ...   124.996 secs...\n",
      "Used Annotations descriptions: ['T0', 'T1', 'T2']\n",
      "Not setting metadata\n",
      "15 matching events found\n",
      "No baseline correction applied\n",
      "0 projection items activated\n",
      "Using data from preloaded Raw for 15 events and 126 original time points ...\n",
      "0 bad epochs dropped\n"
     ]
    },
    {
     "name": "stderr",
     "output_type": "stream",
     "text": [
      "C:\\Users\\chakr\\AppData\\Local\\Temp\\ipykernel_13788\\3980180034.py:3: RuntimeWarning: This filename (C:\\School\\EE_Y3\\Q4\\BAP\\eeg_thesis_cnn_repo\\data\\external\\interim\\S061R07_filtered.fif) does not conform to MNE naming conventions. All raw files should end with raw.fif, raw_sss.fif, raw_tsss.fif, _meg.fif, _eeg.fif, _ieeg.fif, raw.fif.gz, raw_sss.fif.gz, raw_tsss.fif.gz, _meg.fif.gz, _eeg.fif.gz or _ieeg.fif.gz\n",
      "  raw = mne.io.read_raw_fif(fif_file, preload=True)\n",
      "c:\\Users\\chakr\\Anaconda3\\envs\\eeg_thesis\\lib\\site-packages\\pywt\\_functions.py:143: FutureWarning: Wavelets from the family cmor, without parameters specified in the name are deprecated. The name should takethe form cmorB-C where B and C are floats representing the bandwidth frequency and center frequency, respectively (example: cmor1.5-1.0).\n",
      "  wavelet = DiscreteContinuousWavelet(wavelet)\n",
      "c:\\Users\\chakr\\Anaconda3\\envs\\eeg_thesis\\lib\\site-packages\\pywt\\_cwt.py:117: FutureWarning: Wavelets from the family cmor, without parameters specified in the name are deprecated. The name should takethe form cmorB-C where B and C are floats representing the bandwidth frequency and center frequency, respectively (example: cmor1.5-1.0).\n",
      "  wavelet = DiscreteContinuousWavelet(wavelet)\n"
     ]
    },
    {
     "name": "stdout",
     "output_type": "stream",
     "text": [
      "Opening raw data file C:\\School\\EE_Y3\\Q4\\BAP\\eeg_thesis_cnn_repo\\data\\external\\interim\\S061R11_filtered.fif...\n",
      "Isotrak not found\n",
      "    Range : 0 ... 31249 =      0.000 ...   124.996 secs\n",
      "Ready.\n",
      "Reading 0 ... 31249  =      0.000 ...   124.996 secs...\n",
      "Used Annotations descriptions: ['T0', 'T1', 'T2']\n",
      "Not setting metadata\n",
      "15 matching events found\n",
      "No baseline correction applied\n",
      "0 projection items activated\n",
      "Using data from preloaded Raw for 15 events and 126 original time points ...\n",
      "0 bad epochs dropped\n"
     ]
    },
    {
     "name": "stderr",
     "output_type": "stream",
     "text": [
      "C:\\Users\\chakr\\AppData\\Local\\Temp\\ipykernel_13788\\3980180034.py:3: RuntimeWarning: This filename (C:\\School\\EE_Y3\\Q4\\BAP\\eeg_thesis_cnn_repo\\data\\external\\interim\\S061R11_filtered.fif) does not conform to MNE naming conventions. All raw files should end with raw.fif, raw_sss.fif, raw_tsss.fif, _meg.fif, _eeg.fif, _ieeg.fif, raw.fif.gz, raw_sss.fif.gz, raw_tsss.fif.gz, _meg.fif.gz, _eeg.fif.gz or _ieeg.fif.gz\n",
      "  raw = mne.io.read_raw_fif(fif_file, preload=True)\n",
      "c:\\Users\\chakr\\Anaconda3\\envs\\eeg_thesis\\lib\\site-packages\\pywt\\_functions.py:143: FutureWarning: Wavelets from the family cmor, without parameters specified in the name are deprecated. The name should takethe form cmorB-C where B and C are floats representing the bandwidth frequency and center frequency, respectively (example: cmor1.5-1.0).\n",
      "  wavelet = DiscreteContinuousWavelet(wavelet)\n",
      "c:\\Users\\chakr\\Anaconda3\\envs\\eeg_thesis\\lib\\site-packages\\pywt\\_cwt.py:117: FutureWarning: Wavelets from the family cmor, without parameters specified in the name are deprecated. The name should takethe form cmorB-C where B and C are floats representing the bandwidth frequency and center frequency, respectively (example: cmor1.5-1.0).\n",
      "  wavelet = DiscreteContinuousWavelet(wavelet)\n"
     ]
    },
    {
     "name": "stdout",
     "output_type": "stream",
     "text": [
      "Opening raw data file C:\\School\\EE_Y3\\Q4\\BAP\\eeg_thesis_cnn_repo\\data\\external\\interim\\S062R03_filtered.fif...\n",
      "Isotrak not found\n",
      "    Range : 0 ... 30749 =      0.000 ...   122.996 secs\n",
      "Ready.\n",
      "Reading 0 ... 30749  =      0.000 ...   122.996 secs...\n",
      "Used Annotations descriptions: ['T0', 'T1', 'T2']\n",
      "Not setting metadata\n",
      "15 matching events found\n",
      "No baseline correction applied\n",
      "0 projection items activated\n",
      "Using data from preloaded Raw for 15 events and 126 original time points ...\n",
      "0 bad epochs dropped\n"
     ]
    },
    {
     "name": "stderr",
     "output_type": "stream",
     "text": [
      "C:\\Users\\chakr\\AppData\\Local\\Temp\\ipykernel_13788\\3980180034.py:3: RuntimeWarning: This filename (C:\\School\\EE_Y3\\Q4\\BAP\\eeg_thesis_cnn_repo\\data\\external\\interim\\S062R03_filtered.fif) does not conform to MNE naming conventions. All raw files should end with raw.fif, raw_sss.fif, raw_tsss.fif, _meg.fif, _eeg.fif, _ieeg.fif, raw.fif.gz, raw_sss.fif.gz, raw_tsss.fif.gz, _meg.fif.gz, _eeg.fif.gz or _ieeg.fif.gz\n",
      "  raw = mne.io.read_raw_fif(fif_file, preload=True)\n",
      "c:\\Users\\chakr\\Anaconda3\\envs\\eeg_thesis\\lib\\site-packages\\pywt\\_functions.py:143: FutureWarning: Wavelets from the family cmor, without parameters specified in the name are deprecated. The name should takethe form cmorB-C where B and C are floats representing the bandwidth frequency and center frequency, respectively (example: cmor1.5-1.0).\n",
      "  wavelet = DiscreteContinuousWavelet(wavelet)\n",
      "c:\\Users\\chakr\\Anaconda3\\envs\\eeg_thesis\\lib\\site-packages\\pywt\\_cwt.py:117: FutureWarning: Wavelets from the family cmor, without parameters specified in the name are deprecated. The name should takethe form cmorB-C where B and C are floats representing the bandwidth frequency and center frequency, respectively (example: cmor1.5-1.0).\n",
      "  wavelet = DiscreteContinuousWavelet(wavelet)\n"
     ]
    },
    {
     "name": "stdout",
     "output_type": "stream",
     "text": [
      "Opening raw data file C:\\School\\EE_Y3\\Q4\\BAP\\eeg_thesis_cnn_repo\\data\\external\\interim\\S062R07_filtered.fif...\n",
      "Isotrak not found\n",
      "    Range : 0 ... 30749 =      0.000 ...   122.996 secs\n",
      "Ready.\n",
      "Reading 0 ... 30749  =      0.000 ...   122.996 secs...\n",
      "Used Annotations descriptions: ['T0', 'T1', 'T2']\n",
      "Not setting metadata\n",
      "15 matching events found\n",
      "No baseline correction applied\n",
      "0 projection items activated\n",
      "Using data from preloaded Raw for 15 events and 126 original time points ...\n",
      "0 bad epochs dropped\n"
     ]
    },
    {
     "name": "stderr",
     "output_type": "stream",
     "text": [
      "C:\\Users\\chakr\\AppData\\Local\\Temp\\ipykernel_13788\\3980180034.py:3: RuntimeWarning: This filename (C:\\School\\EE_Y3\\Q4\\BAP\\eeg_thesis_cnn_repo\\data\\external\\interim\\S062R07_filtered.fif) does not conform to MNE naming conventions. All raw files should end with raw.fif, raw_sss.fif, raw_tsss.fif, _meg.fif, _eeg.fif, _ieeg.fif, raw.fif.gz, raw_sss.fif.gz, raw_tsss.fif.gz, _meg.fif.gz, _eeg.fif.gz or _ieeg.fif.gz\n",
      "  raw = mne.io.read_raw_fif(fif_file, preload=True)\n",
      "c:\\Users\\chakr\\Anaconda3\\envs\\eeg_thesis\\lib\\site-packages\\pywt\\_functions.py:143: FutureWarning: Wavelets from the family cmor, without parameters specified in the name are deprecated. The name should takethe form cmorB-C where B and C are floats representing the bandwidth frequency and center frequency, respectively (example: cmor1.5-1.0).\n",
      "  wavelet = DiscreteContinuousWavelet(wavelet)\n",
      "c:\\Users\\chakr\\Anaconda3\\envs\\eeg_thesis\\lib\\site-packages\\pywt\\_cwt.py:117: FutureWarning: Wavelets from the family cmor, without parameters specified in the name are deprecated. The name should takethe form cmorB-C where B and C are floats representing the bandwidth frequency and center frequency, respectively (example: cmor1.5-1.0).\n",
      "  wavelet = DiscreteContinuousWavelet(wavelet)\n"
     ]
    },
    {
     "name": "stdout",
     "output_type": "stream",
     "text": [
      "Opening raw data file C:\\School\\EE_Y3\\Q4\\BAP\\eeg_thesis_cnn_repo\\data\\external\\interim\\S062R11_filtered.fif...\n",
      "Isotrak not found\n",
      "    Range : 0 ... 30749 =      0.000 ...   122.996 secs\n",
      "Ready.\n",
      "Reading 0 ... 30749  =      0.000 ...   122.996 secs...\n",
      "Used Annotations descriptions: ['T0', 'T1', 'T2']\n",
      "Not setting metadata\n",
      "15 matching events found\n",
      "No baseline correction applied\n",
      "0 projection items activated\n",
      "Using data from preloaded Raw for 15 events and 126 original time points ...\n",
      "0 bad epochs dropped\n"
     ]
    },
    {
     "name": "stderr",
     "output_type": "stream",
     "text": [
      "C:\\Users\\chakr\\AppData\\Local\\Temp\\ipykernel_13788\\3980180034.py:3: RuntimeWarning: This filename (C:\\School\\EE_Y3\\Q4\\BAP\\eeg_thesis_cnn_repo\\data\\external\\interim\\S062R11_filtered.fif) does not conform to MNE naming conventions. All raw files should end with raw.fif, raw_sss.fif, raw_tsss.fif, _meg.fif, _eeg.fif, _ieeg.fif, raw.fif.gz, raw_sss.fif.gz, raw_tsss.fif.gz, _meg.fif.gz, _eeg.fif.gz or _ieeg.fif.gz\n",
      "  raw = mne.io.read_raw_fif(fif_file, preload=True)\n",
      "c:\\Users\\chakr\\Anaconda3\\envs\\eeg_thesis\\lib\\site-packages\\pywt\\_functions.py:143: FutureWarning: Wavelets from the family cmor, without parameters specified in the name are deprecated. The name should takethe form cmorB-C where B and C are floats representing the bandwidth frequency and center frequency, respectively (example: cmor1.5-1.0).\n",
      "  wavelet = DiscreteContinuousWavelet(wavelet)\n",
      "c:\\Users\\chakr\\Anaconda3\\envs\\eeg_thesis\\lib\\site-packages\\pywt\\_cwt.py:117: FutureWarning: Wavelets from the family cmor, without parameters specified in the name are deprecated. The name should takethe form cmorB-C where B and C are floats representing the bandwidth frequency and center frequency, respectively (example: cmor1.5-1.0).\n",
      "  wavelet = DiscreteContinuousWavelet(wavelet)\n"
     ]
    },
    {
     "name": "stdout",
     "output_type": "stream",
     "text": [
      "Opening raw data file C:\\School\\EE_Y3\\Q4\\BAP\\eeg_thesis_cnn_repo\\data\\external\\interim\\S063R03_filtered.fif...\n",
      "Isotrak not found\n",
      "    Range : 0 ... 30749 =      0.000 ...   122.996 secs\n",
      "Ready.\n",
      "Reading 0 ... 30749  =      0.000 ...   122.996 secs...\n",
      "Used Annotations descriptions: ['T0', 'T1', 'T2']\n",
      "Not setting metadata\n",
      "15 matching events found\n",
      "No baseline correction applied\n",
      "0 projection items activated\n",
      "Using data from preloaded Raw for 15 events and 126 original time points ...\n",
      "0 bad epochs dropped\n"
     ]
    },
    {
     "name": "stderr",
     "output_type": "stream",
     "text": [
      "C:\\Users\\chakr\\AppData\\Local\\Temp\\ipykernel_13788\\3980180034.py:3: RuntimeWarning: This filename (C:\\School\\EE_Y3\\Q4\\BAP\\eeg_thesis_cnn_repo\\data\\external\\interim\\S063R03_filtered.fif) does not conform to MNE naming conventions. All raw files should end with raw.fif, raw_sss.fif, raw_tsss.fif, _meg.fif, _eeg.fif, _ieeg.fif, raw.fif.gz, raw_sss.fif.gz, raw_tsss.fif.gz, _meg.fif.gz, _eeg.fif.gz or _ieeg.fif.gz\n",
      "  raw = mne.io.read_raw_fif(fif_file, preload=True)\n",
      "c:\\Users\\chakr\\Anaconda3\\envs\\eeg_thesis\\lib\\site-packages\\pywt\\_functions.py:143: FutureWarning: Wavelets from the family cmor, without parameters specified in the name are deprecated. The name should takethe form cmorB-C where B and C are floats representing the bandwidth frequency and center frequency, respectively (example: cmor1.5-1.0).\n",
      "  wavelet = DiscreteContinuousWavelet(wavelet)\n",
      "c:\\Users\\chakr\\Anaconda3\\envs\\eeg_thesis\\lib\\site-packages\\pywt\\_cwt.py:117: FutureWarning: Wavelets from the family cmor, without parameters specified in the name are deprecated. The name should takethe form cmorB-C where B and C are floats representing the bandwidth frequency and center frequency, respectively (example: cmor1.5-1.0).\n",
      "  wavelet = DiscreteContinuousWavelet(wavelet)\n"
     ]
    },
    {
     "name": "stdout",
     "output_type": "stream",
     "text": [
      "Opening raw data file C:\\School\\EE_Y3\\Q4\\BAP\\eeg_thesis_cnn_repo\\data\\external\\interim\\S063R07_filtered.fif...\n",
      "Isotrak not found\n",
      "    Range : 0 ... 30749 =      0.000 ...   122.996 secs\n",
      "Ready.\n",
      "Reading 0 ... 30749  =      0.000 ...   122.996 secs...\n",
      "Used Annotations descriptions: ['T0', 'T1', 'T2']\n",
      "Not setting metadata\n",
      "15 matching events found\n",
      "No baseline correction applied\n",
      "0 projection items activated\n",
      "Using data from preloaded Raw for 15 events and 126 original time points ...\n",
      "0 bad epochs dropped\n"
     ]
    },
    {
     "name": "stderr",
     "output_type": "stream",
     "text": [
      "C:\\Users\\chakr\\AppData\\Local\\Temp\\ipykernel_13788\\3980180034.py:3: RuntimeWarning: This filename (C:\\School\\EE_Y3\\Q4\\BAP\\eeg_thesis_cnn_repo\\data\\external\\interim\\S063R07_filtered.fif) does not conform to MNE naming conventions. All raw files should end with raw.fif, raw_sss.fif, raw_tsss.fif, _meg.fif, _eeg.fif, _ieeg.fif, raw.fif.gz, raw_sss.fif.gz, raw_tsss.fif.gz, _meg.fif.gz, _eeg.fif.gz or _ieeg.fif.gz\n",
      "  raw = mne.io.read_raw_fif(fif_file, preload=True)\n",
      "c:\\Users\\chakr\\Anaconda3\\envs\\eeg_thesis\\lib\\site-packages\\pywt\\_functions.py:143: FutureWarning: Wavelets from the family cmor, without parameters specified in the name are deprecated. The name should takethe form cmorB-C where B and C are floats representing the bandwidth frequency and center frequency, respectively (example: cmor1.5-1.0).\n",
      "  wavelet = DiscreteContinuousWavelet(wavelet)\n",
      "c:\\Users\\chakr\\Anaconda3\\envs\\eeg_thesis\\lib\\site-packages\\pywt\\_cwt.py:117: FutureWarning: Wavelets from the family cmor, without parameters specified in the name are deprecated. The name should takethe form cmorB-C where B and C are floats representing the bandwidth frequency and center frequency, respectively (example: cmor1.5-1.0).\n",
      "  wavelet = DiscreteContinuousWavelet(wavelet)\n"
     ]
    },
    {
     "name": "stdout",
     "output_type": "stream",
     "text": [
      "Opening raw data file C:\\School\\EE_Y3\\Q4\\BAP\\eeg_thesis_cnn_repo\\data\\external\\interim\\S063R11_filtered.fif...\n",
      "Isotrak not found\n",
      "    Range : 0 ... 30749 =      0.000 ...   122.996 secs\n",
      "Ready.\n",
      "Reading 0 ... 30749  =      0.000 ...   122.996 secs...\n",
      "Used Annotations descriptions: ['T0', 'T1', 'T2']\n",
      "Not setting metadata\n",
      "15 matching events found\n",
      "No baseline correction applied\n",
      "0 projection items activated\n",
      "Using data from preloaded Raw for 15 events and 126 original time points ...\n",
      "0 bad epochs dropped\n"
     ]
    },
    {
     "name": "stderr",
     "output_type": "stream",
     "text": [
      "C:\\Users\\chakr\\AppData\\Local\\Temp\\ipykernel_13788\\3980180034.py:3: RuntimeWarning: This filename (C:\\School\\EE_Y3\\Q4\\BAP\\eeg_thesis_cnn_repo\\data\\external\\interim\\S063R11_filtered.fif) does not conform to MNE naming conventions. All raw files should end with raw.fif, raw_sss.fif, raw_tsss.fif, _meg.fif, _eeg.fif, _ieeg.fif, raw.fif.gz, raw_sss.fif.gz, raw_tsss.fif.gz, _meg.fif.gz, _eeg.fif.gz or _ieeg.fif.gz\n",
      "  raw = mne.io.read_raw_fif(fif_file, preload=True)\n",
      "c:\\Users\\chakr\\Anaconda3\\envs\\eeg_thesis\\lib\\site-packages\\pywt\\_functions.py:143: FutureWarning: Wavelets from the family cmor, without parameters specified in the name are deprecated. The name should takethe form cmorB-C where B and C are floats representing the bandwidth frequency and center frequency, respectively (example: cmor1.5-1.0).\n",
      "  wavelet = DiscreteContinuousWavelet(wavelet)\n",
      "c:\\Users\\chakr\\Anaconda3\\envs\\eeg_thesis\\lib\\site-packages\\pywt\\_cwt.py:117: FutureWarning: Wavelets from the family cmor, without parameters specified in the name are deprecated. The name should takethe form cmorB-C where B and C are floats representing the bandwidth frequency and center frequency, respectively (example: cmor1.5-1.0).\n",
      "  wavelet = DiscreteContinuousWavelet(wavelet)\n"
     ]
    },
    {
     "name": "stdout",
     "output_type": "stream",
     "text": [
      "Opening raw data file C:\\School\\EE_Y3\\Q4\\BAP\\eeg_thesis_cnn_repo\\data\\external\\interim\\S064R03_filtered.fif...\n",
      "Isotrak not found\n",
      "    Range : 0 ... 30749 =      0.000 ...   122.996 secs\n",
      "Ready.\n",
      "Reading 0 ... 30749  =      0.000 ...   122.996 secs...\n",
      "Used Annotations descriptions: ['T0', 'T1', 'T2']\n",
      "Not setting metadata\n",
      "15 matching events found\n",
      "No baseline correction applied\n",
      "0 projection items activated\n",
      "Using data from preloaded Raw for 15 events and 126 original time points ...\n",
      "0 bad epochs dropped\n"
     ]
    },
    {
     "name": "stderr",
     "output_type": "stream",
     "text": [
      "C:\\Users\\chakr\\AppData\\Local\\Temp\\ipykernel_13788\\3980180034.py:3: RuntimeWarning: This filename (C:\\School\\EE_Y3\\Q4\\BAP\\eeg_thesis_cnn_repo\\data\\external\\interim\\S064R03_filtered.fif) does not conform to MNE naming conventions. All raw files should end with raw.fif, raw_sss.fif, raw_tsss.fif, _meg.fif, _eeg.fif, _ieeg.fif, raw.fif.gz, raw_sss.fif.gz, raw_tsss.fif.gz, _meg.fif.gz, _eeg.fif.gz or _ieeg.fif.gz\n",
      "  raw = mne.io.read_raw_fif(fif_file, preload=True)\n",
      "c:\\Users\\chakr\\Anaconda3\\envs\\eeg_thesis\\lib\\site-packages\\pywt\\_functions.py:143: FutureWarning: Wavelets from the family cmor, without parameters specified in the name are deprecated. The name should takethe form cmorB-C where B and C are floats representing the bandwidth frequency and center frequency, respectively (example: cmor1.5-1.0).\n",
      "  wavelet = DiscreteContinuousWavelet(wavelet)\n",
      "c:\\Users\\chakr\\Anaconda3\\envs\\eeg_thesis\\lib\\site-packages\\pywt\\_cwt.py:117: FutureWarning: Wavelets from the family cmor, without parameters specified in the name are deprecated. The name should takethe form cmorB-C where B and C are floats representing the bandwidth frequency and center frequency, respectively (example: cmor1.5-1.0).\n",
      "  wavelet = DiscreteContinuousWavelet(wavelet)\n"
     ]
    },
    {
     "name": "stdout",
     "output_type": "stream",
     "text": [
      "Opening raw data file C:\\School\\EE_Y3\\Q4\\BAP\\eeg_thesis_cnn_repo\\data\\external\\interim\\S064R07_filtered.fif...\n",
      "Isotrak not found\n",
      "    Range : 0 ... 30749 =      0.000 ...   122.996 secs\n",
      "Ready.\n",
      "Reading 0 ... 30749  =      0.000 ...   122.996 secs...\n",
      "Used Annotations descriptions: ['T0', 'T1', 'T2']\n",
      "Not setting metadata\n",
      "15 matching events found\n",
      "No baseline correction applied\n",
      "0 projection items activated\n",
      "Using data from preloaded Raw for 15 events and 126 original time points ...\n",
      "0 bad epochs dropped\n"
     ]
    },
    {
     "name": "stderr",
     "output_type": "stream",
     "text": [
      "C:\\Users\\chakr\\AppData\\Local\\Temp\\ipykernel_13788\\3980180034.py:3: RuntimeWarning: This filename (C:\\School\\EE_Y3\\Q4\\BAP\\eeg_thesis_cnn_repo\\data\\external\\interim\\S064R07_filtered.fif) does not conform to MNE naming conventions. All raw files should end with raw.fif, raw_sss.fif, raw_tsss.fif, _meg.fif, _eeg.fif, _ieeg.fif, raw.fif.gz, raw_sss.fif.gz, raw_tsss.fif.gz, _meg.fif.gz, _eeg.fif.gz or _ieeg.fif.gz\n",
      "  raw = mne.io.read_raw_fif(fif_file, preload=True)\n",
      "c:\\Users\\chakr\\Anaconda3\\envs\\eeg_thesis\\lib\\site-packages\\pywt\\_functions.py:143: FutureWarning: Wavelets from the family cmor, without parameters specified in the name are deprecated. The name should takethe form cmorB-C where B and C are floats representing the bandwidth frequency and center frequency, respectively (example: cmor1.5-1.0).\n",
      "  wavelet = DiscreteContinuousWavelet(wavelet)\n",
      "c:\\Users\\chakr\\Anaconda3\\envs\\eeg_thesis\\lib\\site-packages\\pywt\\_cwt.py:117: FutureWarning: Wavelets from the family cmor, without parameters specified in the name are deprecated. The name should takethe form cmorB-C where B and C are floats representing the bandwidth frequency and center frequency, respectively (example: cmor1.5-1.0).\n",
      "  wavelet = DiscreteContinuousWavelet(wavelet)\n"
     ]
    },
    {
     "name": "stdout",
     "output_type": "stream",
     "text": [
      "Opening raw data file C:\\School\\EE_Y3\\Q4\\BAP\\eeg_thesis_cnn_repo\\data\\external\\interim\\S064R11_filtered.fif...\n",
      "Isotrak not found\n",
      "    Range : 0 ... 30749 =      0.000 ...   122.996 secs\n",
      "Ready.\n",
      "Reading 0 ... 30749  =      0.000 ...   122.996 secs...\n",
      "Used Annotations descriptions: ['T0', 'T1', 'T2']\n",
      "Not setting metadata\n",
      "15 matching events found\n",
      "No baseline correction applied\n",
      "0 projection items activated\n",
      "Using data from preloaded Raw for 15 events and 126 original time points ...\n",
      "0 bad epochs dropped\n"
     ]
    },
    {
     "name": "stderr",
     "output_type": "stream",
     "text": [
      "C:\\Users\\chakr\\AppData\\Local\\Temp\\ipykernel_13788\\3980180034.py:3: RuntimeWarning: This filename (C:\\School\\EE_Y3\\Q4\\BAP\\eeg_thesis_cnn_repo\\data\\external\\interim\\S064R11_filtered.fif) does not conform to MNE naming conventions. All raw files should end with raw.fif, raw_sss.fif, raw_tsss.fif, _meg.fif, _eeg.fif, _ieeg.fif, raw.fif.gz, raw_sss.fif.gz, raw_tsss.fif.gz, _meg.fif.gz, _eeg.fif.gz or _ieeg.fif.gz\n",
      "  raw = mne.io.read_raw_fif(fif_file, preload=True)\n",
      "c:\\Users\\chakr\\Anaconda3\\envs\\eeg_thesis\\lib\\site-packages\\pywt\\_functions.py:143: FutureWarning: Wavelets from the family cmor, without parameters specified in the name are deprecated. The name should takethe form cmorB-C where B and C are floats representing the bandwidth frequency and center frequency, respectively (example: cmor1.5-1.0).\n",
      "  wavelet = DiscreteContinuousWavelet(wavelet)\n",
      "c:\\Users\\chakr\\Anaconda3\\envs\\eeg_thesis\\lib\\site-packages\\pywt\\_cwt.py:117: FutureWarning: Wavelets from the family cmor, without parameters specified in the name are deprecated. The name should takethe form cmorB-C where B and C are floats representing the bandwidth frequency and center frequency, respectively (example: cmor1.5-1.0).\n",
      "  wavelet = DiscreteContinuousWavelet(wavelet)\n"
     ]
    },
    {
     "name": "stdout",
     "output_type": "stream",
     "text": [
      "Opening raw data file C:\\School\\EE_Y3\\Q4\\BAP\\eeg_thesis_cnn_repo\\data\\external\\interim\\S065R03_filtered.fif...\n",
      "Isotrak not found\n",
      "    Range : 0 ... 31249 =      0.000 ...   124.996 secs\n",
      "Ready.\n",
      "Reading 0 ... 31249  =      0.000 ...   124.996 secs...\n",
      "Used Annotations descriptions: ['T0', 'T1', 'T2']\n",
      "Not setting metadata\n",
      "15 matching events found\n",
      "No baseline correction applied\n",
      "0 projection items activated\n",
      "Using data from preloaded Raw for 15 events and 126 original time points ...\n",
      "0 bad epochs dropped\n"
     ]
    },
    {
     "name": "stderr",
     "output_type": "stream",
     "text": [
      "C:\\Users\\chakr\\AppData\\Local\\Temp\\ipykernel_13788\\3980180034.py:3: RuntimeWarning: This filename (C:\\School\\EE_Y3\\Q4\\BAP\\eeg_thesis_cnn_repo\\data\\external\\interim\\S065R03_filtered.fif) does not conform to MNE naming conventions. All raw files should end with raw.fif, raw_sss.fif, raw_tsss.fif, _meg.fif, _eeg.fif, _ieeg.fif, raw.fif.gz, raw_sss.fif.gz, raw_tsss.fif.gz, _meg.fif.gz, _eeg.fif.gz or _ieeg.fif.gz\n",
      "  raw = mne.io.read_raw_fif(fif_file, preload=True)\n",
      "c:\\Users\\chakr\\Anaconda3\\envs\\eeg_thesis\\lib\\site-packages\\pywt\\_functions.py:143: FutureWarning: Wavelets from the family cmor, without parameters specified in the name are deprecated. The name should takethe form cmorB-C where B and C are floats representing the bandwidth frequency and center frequency, respectively (example: cmor1.5-1.0).\n",
      "  wavelet = DiscreteContinuousWavelet(wavelet)\n",
      "c:\\Users\\chakr\\Anaconda3\\envs\\eeg_thesis\\lib\\site-packages\\pywt\\_cwt.py:117: FutureWarning: Wavelets from the family cmor, without parameters specified in the name are deprecated. The name should takethe form cmorB-C where B and C are floats representing the bandwidth frequency and center frequency, respectively (example: cmor1.5-1.0).\n",
      "  wavelet = DiscreteContinuousWavelet(wavelet)\n"
     ]
    },
    {
     "name": "stdout",
     "output_type": "stream",
     "text": [
      "Opening raw data file C:\\School\\EE_Y3\\Q4\\BAP\\eeg_thesis_cnn_repo\\data\\external\\interim\\S065R07_filtered.fif...\n",
      "Isotrak not found\n",
      "    Range : 0 ... 31249 =      0.000 ...   124.996 secs\n",
      "Ready.\n",
      "Reading 0 ... 31249  =      0.000 ...   124.996 secs...\n",
      "Used Annotations descriptions: ['T0', 'T1', 'T2']\n",
      "Not setting metadata\n",
      "15 matching events found\n",
      "No baseline correction applied\n",
      "0 projection items activated\n",
      "Using data from preloaded Raw for 15 events and 126 original time points ...\n",
      "0 bad epochs dropped\n"
     ]
    },
    {
     "name": "stderr",
     "output_type": "stream",
     "text": [
      "C:\\Users\\chakr\\AppData\\Local\\Temp\\ipykernel_13788\\3980180034.py:3: RuntimeWarning: This filename (C:\\School\\EE_Y3\\Q4\\BAP\\eeg_thesis_cnn_repo\\data\\external\\interim\\S065R07_filtered.fif) does not conform to MNE naming conventions. All raw files should end with raw.fif, raw_sss.fif, raw_tsss.fif, _meg.fif, _eeg.fif, _ieeg.fif, raw.fif.gz, raw_sss.fif.gz, raw_tsss.fif.gz, _meg.fif.gz, _eeg.fif.gz or _ieeg.fif.gz\n",
      "  raw = mne.io.read_raw_fif(fif_file, preload=True)\n",
      "c:\\Users\\chakr\\Anaconda3\\envs\\eeg_thesis\\lib\\site-packages\\pywt\\_functions.py:143: FutureWarning: Wavelets from the family cmor, without parameters specified in the name are deprecated. The name should takethe form cmorB-C where B and C are floats representing the bandwidth frequency and center frequency, respectively (example: cmor1.5-1.0).\n",
      "  wavelet = DiscreteContinuousWavelet(wavelet)\n",
      "c:\\Users\\chakr\\Anaconda3\\envs\\eeg_thesis\\lib\\site-packages\\pywt\\_cwt.py:117: FutureWarning: Wavelets from the family cmor, without parameters specified in the name are deprecated. The name should takethe form cmorB-C where B and C are floats representing the bandwidth frequency and center frequency, respectively (example: cmor1.5-1.0).\n",
      "  wavelet = DiscreteContinuousWavelet(wavelet)\n"
     ]
    },
    {
     "name": "stdout",
     "output_type": "stream",
     "text": [
      "Opening raw data file C:\\School\\EE_Y3\\Q4\\BAP\\eeg_thesis_cnn_repo\\data\\external\\interim\\S065R11_filtered.fif...\n",
      "Isotrak not found\n",
      "    Range : 0 ... 31249 =      0.000 ...   124.996 secs\n",
      "Ready.\n",
      "Reading 0 ... 31249  =      0.000 ...   124.996 secs...\n",
      "Used Annotations descriptions: ['T0', 'T1', 'T2']\n",
      "Not setting metadata\n",
      "15 matching events found\n",
      "No baseline correction applied\n",
      "0 projection items activated\n",
      "Using data from preloaded Raw for 15 events and 126 original time points ...\n",
      "0 bad epochs dropped\n"
     ]
    },
    {
     "name": "stderr",
     "output_type": "stream",
     "text": [
      "C:\\Users\\chakr\\AppData\\Local\\Temp\\ipykernel_13788\\3980180034.py:3: RuntimeWarning: This filename (C:\\School\\EE_Y3\\Q4\\BAP\\eeg_thesis_cnn_repo\\data\\external\\interim\\S065R11_filtered.fif) does not conform to MNE naming conventions. All raw files should end with raw.fif, raw_sss.fif, raw_tsss.fif, _meg.fif, _eeg.fif, _ieeg.fif, raw.fif.gz, raw_sss.fif.gz, raw_tsss.fif.gz, _meg.fif.gz, _eeg.fif.gz or _ieeg.fif.gz\n",
      "  raw = mne.io.read_raw_fif(fif_file, preload=True)\n",
      "c:\\Users\\chakr\\Anaconda3\\envs\\eeg_thesis\\lib\\site-packages\\pywt\\_functions.py:143: FutureWarning: Wavelets from the family cmor, without parameters specified in the name are deprecated. The name should takethe form cmorB-C where B and C are floats representing the bandwidth frequency and center frequency, respectively (example: cmor1.5-1.0).\n",
      "  wavelet = DiscreteContinuousWavelet(wavelet)\n",
      "c:\\Users\\chakr\\Anaconda3\\envs\\eeg_thesis\\lib\\site-packages\\pywt\\_cwt.py:117: FutureWarning: Wavelets from the family cmor, without parameters specified in the name are deprecated. The name should takethe form cmorB-C where B and C are floats representing the bandwidth frequency and center frequency, respectively (example: cmor1.5-1.0).\n",
      "  wavelet = DiscreteContinuousWavelet(wavelet)\n"
     ]
    },
    {
     "name": "stdout",
     "output_type": "stream",
     "text": [
      "Opening raw data file C:\\School\\EE_Y3\\Q4\\BAP\\eeg_thesis_cnn_repo\\data\\external\\interim\\S066R03_filtered.fif...\n",
      "Isotrak not found\n",
      "    Range : 0 ... 31249 =      0.000 ...   124.996 secs\n",
      "Ready.\n",
      "Reading 0 ... 31249  =      0.000 ...   124.996 secs...\n",
      "Used Annotations descriptions: ['T0', 'T1', 'T2']\n",
      "Not setting metadata\n",
      "15 matching events found\n",
      "No baseline correction applied\n",
      "0 projection items activated\n",
      "Using data from preloaded Raw for 15 events and 126 original time points ...\n",
      "0 bad epochs dropped\n"
     ]
    },
    {
     "name": "stderr",
     "output_type": "stream",
     "text": [
      "C:\\Users\\chakr\\AppData\\Local\\Temp\\ipykernel_13788\\3980180034.py:3: RuntimeWarning: This filename (C:\\School\\EE_Y3\\Q4\\BAP\\eeg_thesis_cnn_repo\\data\\external\\interim\\S066R03_filtered.fif) does not conform to MNE naming conventions. All raw files should end with raw.fif, raw_sss.fif, raw_tsss.fif, _meg.fif, _eeg.fif, _ieeg.fif, raw.fif.gz, raw_sss.fif.gz, raw_tsss.fif.gz, _meg.fif.gz, _eeg.fif.gz or _ieeg.fif.gz\n",
      "  raw = mne.io.read_raw_fif(fif_file, preload=True)\n",
      "c:\\Users\\chakr\\Anaconda3\\envs\\eeg_thesis\\lib\\site-packages\\pywt\\_functions.py:143: FutureWarning: Wavelets from the family cmor, without parameters specified in the name are deprecated. The name should takethe form cmorB-C where B and C are floats representing the bandwidth frequency and center frequency, respectively (example: cmor1.5-1.0).\n",
      "  wavelet = DiscreteContinuousWavelet(wavelet)\n",
      "c:\\Users\\chakr\\Anaconda3\\envs\\eeg_thesis\\lib\\site-packages\\pywt\\_cwt.py:117: FutureWarning: Wavelets from the family cmor, without parameters specified in the name are deprecated. The name should takethe form cmorB-C where B and C are floats representing the bandwidth frequency and center frequency, respectively (example: cmor1.5-1.0).\n",
      "  wavelet = DiscreteContinuousWavelet(wavelet)\n"
     ]
    },
    {
     "name": "stdout",
     "output_type": "stream",
     "text": [
      "Opening raw data file C:\\School\\EE_Y3\\Q4\\BAP\\eeg_thesis_cnn_repo\\data\\external\\interim\\S066R07_filtered.fif...\n",
      "Isotrak not found\n",
      "    Range : 0 ... 31249 =      0.000 ...   124.996 secs\n",
      "Ready.\n",
      "Reading 0 ... 31249  =      0.000 ...   124.996 secs...\n",
      "Used Annotations descriptions: ['T0', 'T1', 'T2']\n",
      "Not setting metadata\n",
      "15 matching events found\n",
      "No baseline correction applied\n",
      "0 projection items activated\n",
      "Using data from preloaded Raw for 15 events and 126 original time points ...\n",
      "0 bad epochs dropped\n"
     ]
    },
    {
     "name": "stderr",
     "output_type": "stream",
     "text": [
      "C:\\Users\\chakr\\AppData\\Local\\Temp\\ipykernel_13788\\3980180034.py:3: RuntimeWarning: This filename (C:\\School\\EE_Y3\\Q4\\BAP\\eeg_thesis_cnn_repo\\data\\external\\interim\\S066R07_filtered.fif) does not conform to MNE naming conventions. All raw files should end with raw.fif, raw_sss.fif, raw_tsss.fif, _meg.fif, _eeg.fif, _ieeg.fif, raw.fif.gz, raw_sss.fif.gz, raw_tsss.fif.gz, _meg.fif.gz, _eeg.fif.gz or _ieeg.fif.gz\n",
      "  raw = mne.io.read_raw_fif(fif_file, preload=True)\n",
      "c:\\Users\\chakr\\Anaconda3\\envs\\eeg_thesis\\lib\\site-packages\\pywt\\_functions.py:143: FutureWarning: Wavelets from the family cmor, without parameters specified in the name are deprecated. The name should takethe form cmorB-C where B and C are floats representing the bandwidth frequency and center frequency, respectively (example: cmor1.5-1.0).\n",
      "  wavelet = DiscreteContinuousWavelet(wavelet)\n",
      "c:\\Users\\chakr\\Anaconda3\\envs\\eeg_thesis\\lib\\site-packages\\pywt\\_cwt.py:117: FutureWarning: Wavelets from the family cmor, without parameters specified in the name are deprecated. The name should takethe form cmorB-C where B and C are floats representing the bandwidth frequency and center frequency, respectively (example: cmor1.5-1.0).\n",
      "  wavelet = DiscreteContinuousWavelet(wavelet)\n"
     ]
    },
    {
     "name": "stdout",
     "output_type": "stream",
     "text": [
      "Opening raw data file C:\\School\\EE_Y3\\Q4\\BAP\\eeg_thesis_cnn_repo\\data\\external\\interim\\S066R11_filtered.fif...\n",
      "Isotrak not found\n",
      "    Range : 0 ... 31249 =      0.000 ...   124.996 secs\n",
      "Ready.\n",
      "Reading 0 ... 31249  =      0.000 ...   124.996 secs...\n",
      "Used Annotations descriptions: ['T0', 'T1', 'T2']\n",
      "Not setting metadata\n",
      "15 matching events found\n",
      "No baseline correction applied\n",
      "0 projection items activated\n",
      "Using data from preloaded Raw for 15 events and 126 original time points ...\n",
      "0 bad epochs dropped\n"
     ]
    },
    {
     "name": "stderr",
     "output_type": "stream",
     "text": [
      "C:\\Users\\chakr\\AppData\\Local\\Temp\\ipykernel_13788\\3980180034.py:3: RuntimeWarning: This filename (C:\\School\\EE_Y3\\Q4\\BAP\\eeg_thesis_cnn_repo\\data\\external\\interim\\S066R11_filtered.fif) does not conform to MNE naming conventions. All raw files should end with raw.fif, raw_sss.fif, raw_tsss.fif, _meg.fif, _eeg.fif, _ieeg.fif, raw.fif.gz, raw_sss.fif.gz, raw_tsss.fif.gz, _meg.fif.gz, _eeg.fif.gz or _ieeg.fif.gz\n",
      "  raw = mne.io.read_raw_fif(fif_file, preload=True)\n",
      "c:\\Users\\chakr\\Anaconda3\\envs\\eeg_thesis\\lib\\site-packages\\pywt\\_functions.py:143: FutureWarning: Wavelets from the family cmor, without parameters specified in the name are deprecated. The name should takethe form cmorB-C where B and C are floats representing the bandwidth frequency and center frequency, respectively (example: cmor1.5-1.0).\n",
      "  wavelet = DiscreteContinuousWavelet(wavelet)\n",
      "c:\\Users\\chakr\\Anaconda3\\envs\\eeg_thesis\\lib\\site-packages\\pywt\\_cwt.py:117: FutureWarning: Wavelets from the family cmor, without parameters specified in the name are deprecated. The name should takethe form cmorB-C where B and C are floats representing the bandwidth frequency and center frequency, respectively (example: cmor1.5-1.0).\n",
      "  wavelet = DiscreteContinuousWavelet(wavelet)\n"
     ]
    },
    {
     "name": "stdout",
     "output_type": "stream",
     "text": [
      "Opening raw data file C:\\School\\EE_Y3\\Q4\\BAP\\eeg_thesis_cnn_repo\\data\\external\\interim\\S067R03_filtered.fif...\n",
      "Isotrak not found\n",
      "    Range : 0 ... 30749 =      0.000 ...   122.996 secs\n",
      "Ready.\n",
      "Reading 0 ... 30749  =      0.000 ...   122.996 secs...\n",
      "Used Annotations descriptions: ['T0', 'T1', 'T2']\n",
      "Not setting metadata\n",
      "15 matching events found\n",
      "No baseline correction applied\n",
      "0 projection items activated\n",
      "Using data from preloaded Raw for 15 events and 126 original time points ...\n",
      "0 bad epochs dropped\n"
     ]
    },
    {
     "name": "stderr",
     "output_type": "stream",
     "text": [
      "C:\\Users\\chakr\\AppData\\Local\\Temp\\ipykernel_13788\\3980180034.py:3: RuntimeWarning: This filename (C:\\School\\EE_Y3\\Q4\\BAP\\eeg_thesis_cnn_repo\\data\\external\\interim\\S067R03_filtered.fif) does not conform to MNE naming conventions. All raw files should end with raw.fif, raw_sss.fif, raw_tsss.fif, _meg.fif, _eeg.fif, _ieeg.fif, raw.fif.gz, raw_sss.fif.gz, raw_tsss.fif.gz, _meg.fif.gz, _eeg.fif.gz or _ieeg.fif.gz\n",
      "  raw = mne.io.read_raw_fif(fif_file, preload=True)\n",
      "c:\\Users\\chakr\\Anaconda3\\envs\\eeg_thesis\\lib\\site-packages\\pywt\\_functions.py:143: FutureWarning: Wavelets from the family cmor, without parameters specified in the name are deprecated. The name should takethe form cmorB-C where B and C are floats representing the bandwidth frequency and center frequency, respectively (example: cmor1.5-1.0).\n",
      "  wavelet = DiscreteContinuousWavelet(wavelet)\n",
      "c:\\Users\\chakr\\Anaconda3\\envs\\eeg_thesis\\lib\\site-packages\\pywt\\_cwt.py:117: FutureWarning: Wavelets from the family cmor, without parameters specified in the name are deprecated. The name should takethe form cmorB-C where B and C are floats representing the bandwidth frequency and center frequency, respectively (example: cmor1.5-1.0).\n",
      "  wavelet = DiscreteContinuousWavelet(wavelet)\n"
     ]
    },
    {
     "name": "stdout",
     "output_type": "stream",
     "text": [
      "Opening raw data file C:\\School\\EE_Y3\\Q4\\BAP\\eeg_thesis_cnn_repo\\data\\external\\interim\\S067R07_filtered.fif...\n",
      "Isotrak not found\n",
      "    Range : 0 ... 30749 =      0.000 ...   122.996 secs\n",
      "Ready.\n",
      "Reading 0 ... 30749  =      0.000 ...   122.996 secs...\n",
      "Used Annotations descriptions: ['T0', 'T1', 'T2']\n",
      "Not setting metadata\n",
      "15 matching events found\n",
      "No baseline correction applied\n",
      "0 projection items activated\n",
      "Using data from preloaded Raw for 15 events and 126 original time points ...\n",
      "0 bad epochs dropped\n"
     ]
    },
    {
     "name": "stderr",
     "output_type": "stream",
     "text": [
      "C:\\Users\\chakr\\AppData\\Local\\Temp\\ipykernel_13788\\3980180034.py:3: RuntimeWarning: This filename (C:\\School\\EE_Y3\\Q4\\BAP\\eeg_thesis_cnn_repo\\data\\external\\interim\\S067R07_filtered.fif) does not conform to MNE naming conventions. All raw files should end with raw.fif, raw_sss.fif, raw_tsss.fif, _meg.fif, _eeg.fif, _ieeg.fif, raw.fif.gz, raw_sss.fif.gz, raw_tsss.fif.gz, _meg.fif.gz, _eeg.fif.gz or _ieeg.fif.gz\n",
      "  raw = mne.io.read_raw_fif(fif_file, preload=True)\n",
      "c:\\Users\\chakr\\Anaconda3\\envs\\eeg_thesis\\lib\\site-packages\\pywt\\_functions.py:143: FutureWarning: Wavelets from the family cmor, without parameters specified in the name are deprecated. The name should takethe form cmorB-C where B and C are floats representing the bandwidth frequency and center frequency, respectively (example: cmor1.5-1.0).\n",
      "  wavelet = DiscreteContinuousWavelet(wavelet)\n",
      "c:\\Users\\chakr\\Anaconda3\\envs\\eeg_thesis\\lib\\site-packages\\pywt\\_cwt.py:117: FutureWarning: Wavelets from the family cmor, without parameters specified in the name are deprecated. The name should takethe form cmorB-C where B and C are floats representing the bandwidth frequency and center frequency, respectively (example: cmor1.5-1.0).\n",
      "  wavelet = DiscreteContinuousWavelet(wavelet)\n"
     ]
    },
    {
     "name": "stdout",
     "output_type": "stream",
     "text": [
      "Opening raw data file C:\\School\\EE_Y3\\Q4\\BAP\\eeg_thesis_cnn_repo\\data\\external\\interim\\S067R11_filtered.fif...\n",
      "Isotrak not found\n",
      "    Range : 0 ... 30749 =      0.000 ...   122.996 secs\n",
      "Ready.\n",
      "Reading 0 ... 30749  =      0.000 ...   122.996 secs...\n",
      "Used Annotations descriptions: ['T0', 'T1', 'T2']\n",
      "Not setting metadata\n",
      "15 matching events found\n",
      "No baseline correction applied\n",
      "0 projection items activated\n",
      "Using data from preloaded Raw for 15 events and 126 original time points ...\n",
      "0 bad epochs dropped\n"
     ]
    },
    {
     "name": "stderr",
     "output_type": "stream",
     "text": [
      "C:\\Users\\chakr\\AppData\\Local\\Temp\\ipykernel_13788\\3980180034.py:3: RuntimeWarning: This filename (C:\\School\\EE_Y3\\Q4\\BAP\\eeg_thesis_cnn_repo\\data\\external\\interim\\S067R11_filtered.fif) does not conform to MNE naming conventions. All raw files should end with raw.fif, raw_sss.fif, raw_tsss.fif, _meg.fif, _eeg.fif, _ieeg.fif, raw.fif.gz, raw_sss.fif.gz, raw_tsss.fif.gz, _meg.fif.gz, _eeg.fif.gz or _ieeg.fif.gz\n",
      "  raw = mne.io.read_raw_fif(fif_file, preload=True)\n",
      "c:\\Users\\chakr\\Anaconda3\\envs\\eeg_thesis\\lib\\site-packages\\pywt\\_functions.py:143: FutureWarning: Wavelets from the family cmor, without parameters specified in the name are deprecated. The name should takethe form cmorB-C where B and C are floats representing the bandwidth frequency and center frequency, respectively (example: cmor1.5-1.0).\n",
      "  wavelet = DiscreteContinuousWavelet(wavelet)\n",
      "c:\\Users\\chakr\\Anaconda3\\envs\\eeg_thesis\\lib\\site-packages\\pywt\\_cwt.py:117: FutureWarning: Wavelets from the family cmor, without parameters specified in the name are deprecated. The name should takethe form cmorB-C where B and C are floats representing the bandwidth frequency and center frequency, respectively (example: cmor1.5-1.0).\n",
      "  wavelet = DiscreteContinuousWavelet(wavelet)\n"
     ]
    },
    {
     "name": "stdout",
     "output_type": "stream",
     "text": [
      "Opening raw data file C:\\School\\EE_Y3\\Q4\\BAP\\eeg_thesis_cnn_repo\\data\\external\\interim\\S068R03_filtered.fif...\n",
      "Isotrak not found\n",
      "    Range : 0 ... 30749 =      0.000 ...   122.996 secs\n",
      "Ready.\n",
      "Reading 0 ... 30749  =      0.000 ...   122.996 secs...\n",
      "Used Annotations descriptions: ['T0', 'T1', 'T2']\n",
      "Not setting metadata\n",
      "15 matching events found\n",
      "No baseline correction applied\n",
      "0 projection items activated\n",
      "Using data from preloaded Raw for 15 events and 126 original time points ...\n",
      "0 bad epochs dropped\n"
     ]
    },
    {
     "name": "stderr",
     "output_type": "stream",
     "text": [
      "C:\\Users\\chakr\\AppData\\Local\\Temp\\ipykernel_13788\\3980180034.py:3: RuntimeWarning: This filename (C:\\School\\EE_Y3\\Q4\\BAP\\eeg_thesis_cnn_repo\\data\\external\\interim\\S068R03_filtered.fif) does not conform to MNE naming conventions. All raw files should end with raw.fif, raw_sss.fif, raw_tsss.fif, _meg.fif, _eeg.fif, _ieeg.fif, raw.fif.gz, raw_sss.fif.gz, raw_tsss.fif.gz, _meg.fif.gz, _eeg.fif.gz or _ieeg.fif.gz\n",
      "  raw = mne.io.read_raw_fif(fif_file, preload=True)\n",
      "c:\\Users\\chakr\\Anaconda3\\envs\\eeg_thesis\\lib\\site-packages\\pywt\\_functions.py:143: FutureWarning: Wavelets from the family cmor, without parameters specified in the name are deprecated. The name should takethe form cmorB-C where B and C are floats representing the bandwidth frequency and center frequency, respectively (example: cmor1.5-1.0).\n",
      "  wavelet = DiscreteContinuousWavelet(wavelet)\n",
      "c:\\Users\\chakr\\Anaconda3\\envs\\eeg_thesis\\lib\\site-packages\\pywt\\_cwt.py:117: FutureWarning: Wavelets from the family cmor, without parameters specified in the name are deprecated. The name should takethe form cmorB-C where B and C are floats representing the bandwidth frequency and center frequency, respectively (example: cmor1.5-1.0).\n",
      "  wavelet = DiscreteContinuousWavelet(wavelet)\n"
     ]
    },
    {
     "name": "stdout",
     "output_type": "stream",
     "text": [
      "Opening raw data file C:\\School\\EE_Y3\\Q4\\BAP\\eeg_thesis_cnn_repo\\data\\external\\interim\\S068R07_filtered.fif...\n",
      "Isotrak not found\n",
      "    Range : 0 ... 30749 =      0.000 ...   122.996 secs\n",
      "Ready.\n",
      "Reading 0 ... 30749  =      0.000 ...   122.996 secs...\n",
      "Used Annotations descriptions: ['T0', 'T1', 'T2']\n",
      "Not setting metadata\n",
      "15 matching events found\n",
      "No baseline correction applied\n",
      "0 projection items activated\n",
      "Using data from preloaded Raw for 15 events and 126 original time points ...\n",
      "0 bad epochs dropped\n"
     ]
    },
    {
     "name": "stderr",
     "output_type": "stream",
     "text": [
      "C:\\Users\\chakr\\AppData\\Local\\Temp\\ipykernel_13788\\3980180034.py:3: RuntimeWarning: This filename (C:\\School\\EE_Y3\\Q4\\BAP\\eeg_thesis_cnn_repo\\data\\external\\interim\\S068R07_filtered.fif) does not conform to MNE naming conventions. All raw files should end with raw.fif, raw_sss.fif, raw_tsss.fif, _meg.fif, _eeg.fif, _ieeg.fif, raw.fif.gz, raw_sss.fif.gz, raw_tsss.fif.gz, _meg.fif.gz, _eeg.fif.gz or _ieeg.fif.gz\n",
      "  raw = mne.io.read_raw_fif(fif_file, preload=True)\n",
      "c:\\Users\\chakr\\Anaconda3\\envs\\eeg_thesis\\lib\\site-packages\\pywt\\_functions.py:143: FutureWarning: Wavelets from the family cmor, without parameters specified in the name are deprecated. The name should takethe form cmorB-C where B and C are floats representing the bandwidth frequency and center frequency, respectively (example: cmor1.5-1.0).\n",
      "  wavelet = DiscreteContinuousWavelet(wavelet)\n",
      "c:\\Users\\chakr\\Anaconda3\\envs\\eeg_thesis\\lib\\site-packages\\pywt\\_cwt.py:117: FutureWarning: Wavelets from the family cmor, without parameters specified in the name are deprecated. The name should takethe form cmorB-C where B and C are floats representing the bandwidth frequency and center frequency, respectively (example: cmor1.5-1.0).\n",
      "  wavelet = DiscreteContinuousWavelet(wavelet)\n"
     ]
    },
    {
     "name": "stdout",
     "output_type": "stream",
     "text": [
      "Opening raw data file C:\\School\\EE_Y3\\Q4\\BAP\\eeg_thesis_cnn_repo\\data\\external\\interim\\S068R11_filtered.fif...\n",
      "Isotrak not found\n",
      "    Range : 0 ... 30749 =      0.000 ...   122.996 secs\n",
      "Ready.\n",
      "Reading 0 ... 30749  =      0.000 ...   122.996 secs...\n",
      "Used Annotations descriptions: ['T0', 'T1', 'T2']\n",
      "Not setting metadata\n",
      "15 matching events found\n",
      "No baseline correction applied\n",
      "0 projection items activated\n",
      "Using data from preloaded Raw for 15 events and 126 original time points ...\n",
      "0 bad epochs dropped\n"
     ]
    },
    {
     "name": "stderr",
     "output_type": "stream",
     "text": [
      "C:\\Users\\chakr\\AppData\\Local\\Temp\\ipykernel_13788\\3980180034.py:3: RuntimeWarning: This filename (C:\\School\\EE_Y3\\Q4\\BAP\\eeg_thesis_cnn_repo\\data\\external\\interim\\S068R11_filtered.fif) does not conform to MNE naming conventions. All raw files should end with raw.fif, raw_sss.fif, raw_tsss.fif, _meg.fif, _eeg.fif, _ieeg.fif, raw.fif.gz, raw_sss.fif.gz, raw_tsss.fif.gz, _meg.fif.gz, _eeg.fif.gz or _ieeg.fif.gz\n",
      "  raw = mne.io.read_raw_fif(fif_file, preload=True)\n",
      "c:\\Users\\chakr\\Anaconda3\\envs\\eeg_thesis\\lib\\site-packages\\pywt\\_functions.py:143: FutureWarning: Wavelets from the family cmor, without parameters specified in the name are deprecated. The name should takethe form cmorB-C where B and C are floats representing the bandwidth frequency and center frequency, respectively (example: cmor1.5-1.0).\n",
      "  wavelet = DiscreteContinuousWavelet(wavelet)\n",
      "c:\\Users\\chakr\\Anaconda3\\envs\\eeg_thesis\\lib\\site-packages\\pywt\\_cwt.py:117: FutureWarning: Wavelets from the family cmor, without parameters specified in the name are deprecated. The name should takethe form cmorB-C where B and C are floats representing the bandwidth frequency and center frequency, respectively (example: cmor1.5-1.0).\n",
      "  wavelet = DiscreteContinuousWavelet(wavelet)\n"
     ]
    },
    {
     "name": "stdout",
     "output_type": "stream",
     "text": [
      "Opening raw data file C:\\School\\EE_Y3\\Q4\\BAP\\eeg_thesis_cnn_repo\\data\\external\\interim\\S069R03_filtered.fif...\n",
      "Isotrak not found\n",
      "    Range : 0 ... 30749 =      0.000 ...   122.996 secs\n",
      "Ready.\n",
      "Reading 0 ... 30749  =      0.000 ...   122.996 secs...\n",
      "Used Annotations descriptions: ['T0', 'T1', 'T2']\n",
      "Not setting metadata\n",
      "15 matching events found\n",
      "No baseline correction applied\n",
      "0 projection items activated\n",
      "Using data from preloaded Raw for 15 events and 126 original time points ...\n",
      "0 bad epochs dropped\n"
     ]
    },
    {
     "name": "stderr",
     "output_type": "stream",
     "text": [
      "C:\\Users\\chakr\\AppData\\Local\\Temp\\ipykernel_13788\\3980180034.py:3: RuntimeWarning: This filename (C:\\School\\EE_Y3\\Q4\\BAP\\eeg_thesis_cnn_repo\\data\\external\\interim\\S069R03_filtered.fif) does not conform to MNE naming conventions. All raw files should end with raw.fif, raw_sss.fif, raw_tsss.fif, _meg.fif, _eeg.fif, _ieeg.fif, raw.fif.gz, raw_sss.fif.gz, raw_tsss.fif.gz, _meg.fif.gz, _eeg.fif.gz or _ieeg.fif.gz\n",
      "  raw = mne.io.read_raw_fif(fif_file, preload=True)\n",
      "c:\\Users\\chakr\\Anaconda3\\envs\\eeg_thesis\\lib\\site-packages\\pywt\\_functions.py:143: FutureWarning: Wavelets from the family cmor, without parameters specified in the name are deprecated. The name should takethe form cmorB-C where B and C are floats representing the bandwidth frequency and center frequency, respectively (example: cmor1.5-1.0).\n",
      "  wavelet = DiscreteContinuousWavelet(wavelet)\n",
      "c:\\Users\\chakr\\Anaconda3\\envs\\eeg_thesis\\lib\\site-packages\\pywt\\_cwt.py:117: FutureWarning: Wavelets from the family cmor, without parameters specified in the name are deprecated. The name should takethe form cmorB-C where B and C are floats representing the bandwidth frequency and center frequency, respectively (example: cmor1.5-1.0).\n",
      "  wavelet = DiscreteContinuousWavelet(wavelet)\n"
     ]
    },
    {
     "name": "stdout",
     "output_type": "stream",
     "text": [
      "Opening raw data file C:\\School\\EE_Y3\\Q4\\BAP\\eeg_thesis_cnn_repo\\data\\external\\interim\\S069R07_filtered.fif...\n",
      "Isotrak not found\n",
      "    Range : 0 ... 30749 =      0.000 ...   122.996 secs\n",
      "Ready.\n",
      "Reading 0 ... 30749  =      0.000 ...   122.996 secs...\n",
      "Used Annotations descriptions: ['T0', 'T1', 'T2']\n",
      "Not setting metadata\n",
      "15 matching events found\n",
      "No baseline correction applied\n",
      "0 projection items activated\n",
      "Using data from preloaded Raw for 15 events and 126 original time points ...\n",
      "0 bad epochs dropped\n"
     ]
    },
    {
     "name": "stderr",
     "output_type": "stream",
     "text": [
      "C:\\Users\\chakr\\AppData\\Local\\Temp\\ipykernel_13788\\3980180034.py:3: RuntimeWarning: This filename (C:\\School\\EE_Y3\\Q4\\BAP\\eeg_thesis_cnn_repo\\data\\external\\interim\\S069R07_filtered.fif) does not conform to MNE naming conventions. All raw files should end with raw.fif, raw_sss.fif, raw_tsss.fif, _meg.fif, _eeg.fif, _ieeg.fif, raw.fif.gz, raw_sss.fif.gz, raw_tsss.fif.gz, _meg.fif.gz, _eeg.fif.gz or _ieeg.fif.gz\n",
      "  raw = mne.io.read_raw_fif(fif_file, preload=True)\n",
      "c:\\Users\\chakr\\Anaconda3\\envs\\eeg_thesis\\lib\\site-packages\\pywt\\_functions.py:143: FutureWarning: Wavelets from the family cmor, without parameters specified in the name are deprecated. The name should takethe form cmorB-C where B and C are floats representing the bandwidth frequency and center frequency, respectively (example: cmor1.5-1.0).\n",
      "  wavelet = DiscreteContinuousWavelet(wavelet)\n",
      "c:\\Users\\chakr\\Anaconda3\\envs\\eeg_thesis\\lib\\site-packages\\pywt\\_cwt.py:117: FutureWarning: Wavelets from the family cmor, without parameters specified in the name are deprecated. The name should takethe form cmorB-C where B and C are floats representing the bandwidth frequency and center frequency, respectively (example: cmor1.5-1.0).\n",
      "  wavelet = DiscreteContinuousWavelet(wavelet)\n"
     ]
    },
    {
     "name": "stdout",
     "output_type": "stream",
     "text": [
      "Opening raw data file C:\\School\\EE_Y3\\Q4\\BAP\\eeg_thesis_cnn_repo\\data\\external\\interim\\S069R11_filtered.fif...\n",
      "Isotrak not found\n",
      "    Range : 0 ... 30749 =      0.000 ...   122.996 secs\n",
      "Ready.\n",
      "Reading 0 ... 30749  =      0.000 ...   122.996 secs...\n",
      "Used Annotations descriptions: ['T0', 'T1', 'T2']\n",
      "Not setting metadata\n",
      "15 matching events found\n",
      "No baseline correction applied\n",
      "0 projection items activated\n",
      "Using data from preloaded Raw for 15 events and 126 original time points ...\n",
      "0 bad epochs dropped\n"
     ]
    },
    {
     "name": "stderr",
     "output_type": "stream",
     "text": [
      "C:\\Users\\chakr\\AppData\\Local\\Temp\\ipykernel_13788\\3980180034.py:3: RuntimeWarning: This filename (C:\\School\\EE_Y3\\Q4\\BAP\\eeg_thesis_cnn_repo\\data\\external\\interim\\S069R11_filtered.fif) does not conform to MNE naming conventions. All raw files should end with raw.fif, raw_sss.fif, raw_tsss.fif, _meg.fif, _eeg.fif, _ieeg.fif, raw.fif.gz, raw_sss.fif.gz, raw_tsss.fif.gz, _meg.fif.gz, _eeg.fif.gz or _ieeg.fif.gz\n",
      "  raw = mne.io.read_raw_fif(fif_file, preload=True)\n",
      "c:\\Users\\chakr\\Anaconda3\\envs\\eeg_thesis\\lib\\site-packages\\pywt\\_functions.py:143: FutureWarning: Wavelets from the family cmor, without parameters specified in the name are deprecated. The name should takethe form cmorB-C where B and C are floats representing the bandwidth frequency and center frequency, respectively (example: cmor1.5-1.0).\n",
      "  wavelet = DiscreteContinuousWavelet(wavelet)\n",
      "c:\\Users\\chakr\\Anaconda3\\envs\\eeg_thesis\\lib\\site-packages\\pywt\\_cwt.py:117: FutureWarning: Wavelets from the family cmor, without parameters specified in the name are deprecated. The name should takethe form cmorB-C where B and C are floats representing the bandwidth frequency and center frequency, respectively (example: cmor1.5-1.0).\n",
      "  wavelet = DiscreteContinuousWavelet(wavelet)\n"
     ]
    },
    {
     "name": "stdout",
     "output_type": "stream",
     "text": [
      "Opening raw data file C:\\School\\EE_Y3\\Q4\\BAP\\eeg_thesis_cnn_repo\\data\\external\\interim\\S070R03_filtered.fif...\n",
      "Isotrak not found\n",
      "    Range : 0 ... 30749 =      0.000 ...   122.996 secs\n",
      "Ready.\n",
      "Reading 0 ... 30749  =      0.000 ...   122.996 secs...\n",
      "Used Annotations descriptions: ['T0', 'T1', 'T2']\n",
      "Not setting metadata\n",
      "15 matching events found\n",
      "No baseline correction applied\n",
      "0 projection items activated\n",
      "Using data from preloaded Raw for 15 events and 126 original time points ...\n",
      "0 bad epochs dropped\n"
     ]
    },
    {
     "name": "stderr",
     "output_type": "stream",
     "text": [
      "C:\\Users\\chakr\\AppData\\Local\\Temp\\ipykernel_13788\\3980180034.py:3: RuntimeWarning: This filename (C:\\School\\EE_Y3\\Q4\\BAP\\eeg_thesis_cnn_repo\\data\\external\\interim\\S070R03_filtered.fif) does not conform to MNE naming conventions. All raw files should end with raw.fif, raw_sss.fif, raw_tsss.fif, _meg.fif, _eeg.fif, _ieeg.fif, raw.fif.gz, raw_sss.fif.gz, raw_tsss.fif.gz, _meg.fif.gz, _eeg.fif.gz or _ieeg.fif.gz\n",
      "  raw = mne.io.read_raw_fif(fif_file, preload=True)\n",
      "c:\\Users\\chakr\\Anaconda3\\envs\\eeg_thesis\\lib\\site-packages\\pywt\\_functions.py:143: FutureWarning: Wavelets from the family cmor, without parameters specified in the name are deprecated. The name should takethe form cmorB-C where B and C are floats representing the bandwidth frequency and center frequency, respectively (example: cmor1.5-1.0).\n",
      "  wavelet = DiscreteContinuousWavelet(wavelet)\n",
      "c:\\Users\\chakr\\Anaconda3\\envs\\eeg_thesis\\lib\\site-packages\\pywt\\_cwt.py:117: FutureWarning: Wavelets from the family cmor, without parameters specified in the name are deprecated. The name should takethe form cmorB-C where B and C are floats representing the bandwidth frequency and center frequency, respectively (example: cmor1.5-1.0).\n",
      "  wavelet = DiscreteContinuousWavelet(wavelet)\n"
     ]
    },
    {
     "name": "stdout",
     "output_type": "stream",
     "text": [
      "Opening raw data file C:\\School\\EE_Y3\\Q4\\BAP\\eeg_thesis_cnn_repo\\data\\external\\interim\\S070R07_filtered.fif...\n",
      "Isotrak not found\n",
      "    Range : 0 ... 30749 =      0.000 ...   122.996 secs\n",
      "Ready.\n",
      "Reading 0 ... 30749  =      0.000 ...   122.996 secs...\n",
      "Used Annotations descriptions: ['T0', 'T1', 'T2']\n",
      "Not setting metadata\n",
      "15 matching events found\n",
      "No baseline correction applied\n",
      "0 projection items activated\n",
      "Using data from preloaded Raw for 15 events and 126 original time points ...\n",
      "0 bad epochs dropped\n"
     ]
    },
    {
     "name": "stderr",
     "output_type": "stream",
     "text": [
      "C:\\Users\\chakr\\AppData\\Local\\Temp\\ipykernel_13788\\3980180034.py:3: RuntimeWarning: This filename (C:\\School\\EE_Y3\\Q4\\BAP\\eeg_thesis_cnn_repo\\data\\external\\interim\\S070R07_filtered.fif) does not conform to MNE naming conventions. All raw files should end with raw.fif, raw_sss.fif, raw_tsss.fif, _meg.fif, _eeg.fif, _ieeg.fif, raw.fif.gz, raw_sss.fif.gz, raw_tsss.fif.gz, _meg.fif.gz, _eeg.fif.gz or _ieeg.fif.gz\n",
      "  raw = mne.io.read_raw_fif(fif_file, preload=True)\n",
      "c:\\Users\\chakr\\Anaconda3\\envs\\eeg_thesis\\lib\\site-packages\\pywt\\_functions.py:143: FutureWarning: Wavelets from the family cmor, without parameters specified in the name are deprecated. The name should takethe form cmorB-C where B and C are floats representing the bandwidth frequency and center frequency, respectively (example: cmor1.5-1.0).\n",
      "  wavelet = DiscreteContinuousWavelet(wavelet)\n",
      "c:\\Users\\chakr\\Anaconda3\\envs\\eeg_thesis\\lib\\site-packages\\pywt\\_cwt.py:117: FutureWarning: Wavelets from the family cmor, without parameters specified in the name are deprecated. The name should takethe form cmorB-C where B and C are floats representing the bandwidth frequency and center frequency, respectively (example: cmor1.5-1.0).\n",
      "  wavelet = DiscreteContinuousWavelet(wavelet)\n"
     ]
    },
    {
     "name": "stdout",
     "output_type": "stream",
     "text": [
      "Opening raw data file C:\\School\\EE_Y3\\Q4\\BAP\\eeg_thesis_cnn_repo\\data\\external\\interim\\S070R11_filtered.fif...\n",
      "Isotrak not found\n",
      "    Range : 0 ... 30749 =      0.000 ...   122.996 secs\n",
      "Ready.\n",
      "Reading 0 ... 30749  =      0.000 ...   122.996 secs...\n",
      "Used Annotations descriptions: ['T0', 'T1', 'T2']\n",
      "Not setting metadata\n",
      "15 matching events found\n",
      "No baseline correction applied\n",
      "0 projection items activated\n",
      "Using data from preloaded Raw for 15 events and 126 original time points ...\n",
      "0 bad epochs dropped\n"
     ]
    },
    {
     "name": "stderr",
     "output_type": "stream",
     "text": [
      "C:\\Users\\chakr\\AppData\\Local\\Temp\\ipykernel_13788\\3980180034.py:3: RuntimeWarning: This filename (C:\\School\\EE_Y3\\Q4\\BAP\\eeg_thesis_cnn_repo\\data\\external\\interim\\S070R11_filtered.fif) does not conform to MNE naming conventions. All raw files should end with raw.fif, raw_sss.fif, raw_tsss.fif, _meg.fif, _eeg.fif, _ieeg.fif, raw.fif.gz, raw_sss.fif.gz, raw_tsss.fif.gz, _meg.fif.gz, _eeg.fif.gz or _ieeg.fif.gz\n",
      "  raw = mne.io.read_raw_fif(fif_file, preload=True)\n",
      "c:\\Users\\chakr\\Anaconda3\\envs\\eeg_thesis\\lib\\site-packages\\pywt\\_functions.py:143: FutureWarning: Wavelets from the family cmor, without parameters specified in the name are deprecated. The name should takethe form cmorB-C where B and C are floats representing the bandwidth frequency and center frequency, respectively (example: cmor1.5-1.0).\n",
      "  wavelet = DiscreteContinuousWavelet(wavelet)\n",
      "c:\\Users\\chakr\\Anaconda3\\envs\\eeg_thesis\\lib\\site-packages\\pywt\\_cwt.py:117: FutureWarning: Wavelets from the family cmor, without parameters specified in the name are deprecated. The name should takethe form cmorB-C where B and C are floats representing the bandwidth frequency and center frequency, respectively (example: cmor1.5-1.0).\n",
      "  wavelet = DiscreteContinuousWavelet(wavelet)\n"
     ]
    },
    {
     "name": "stdout",
     "output_type": "stream",
     "text": [
      "Opening raw data file C:\\School\\EE_Y3\\Q4\\BAP\\eeg_thesis_cnn_repo\\data\\external\\interim\\S071R03_filtered.fif...\n",
      "Isotrak not found\n",
      "    Range : 0 ... 31249 =      0.000 ...   124.996 secs\n",
      "Ready.\n",
      "Reading 0 ... 31249  =      0.000 ...   124.996 secs...\n",
      "Used Annotations descriptions: ['T0', 'T1', 'T2']\n",
      "Not setting metadata\n",
      "15 matching events found\n",
      "No baseline correction applied\n",
      "0 projection items activated\n",
      "Using data from preloaded Raw for 15 events and 126 original time points ...\n",
      "0 bad epochs dropped\n"
     ]
    },
    {
     "name": "stderr",
     "output_type": "stream",
     "text": [
      "C:\\Users\\chakr\\AppData\\Local\\Temp\\ipykernel_13788\\3980180034.py:3: RuntimeWarning: This filename (C:\\School\\EE_Y3\\Q4\\BAP\\eeg_thesis_cnn_repo\\data\\external\\interim\\S071R03_filtered.fif) does not conform to MNE naming conventions. All raw files should end with raw.fif, raw_sss.fif, raw_tsss.fif, _meg.fif, _eeg.fif, _ieeg.fif, raw.fif.gz, raw_sss.fif.gz, raw_tsss.fif.gz, _meg.fif.gz, _eeg.fif.gz or _ieeg.fif.gz\n",
      "  raw = mne.io.read_raw_fif(fif_file, preload=True)\n",
      "c:\\Users\\chakr\\Anaconda3\\envs\\eeg_thesis\\lib\\site-packages\\pywt\\_functions.py:143: FutureWarning: Wavelets from the family cmor, without parameters specified in the name are deprecated. The name should takethe form cmorB-C where B and C are floats representing the bandwidth frequency and center frequency, respectively (example: cmor1.5-1.0).\n",
      "  wavelet = DiscreteContinuousWavelet(wavelet)\n",
      "c:\\Users\\chakr\\Anaconda3\\envs\\eeg_thesis\\lib\\site-packages\\pywt\\_cwt.py:117: FutureWarning: Wavelets from the family cmor, without parameters specified in the name are deprecated. The name should takethe form cmorB-C where B and C are floats representing the bandwidth frequency and center frequency, respectively (example: cmor1.5-1.0).\n",
      "  wavelet = DiscreteContinuousWavelet(wavelet)\n"
     ]
    },
    {
     "name": "stdout",
     "output_type": "stream",
     "text": [
      "Opening raw data file C:\\School\\EE_Y3\\Q4\\BAP\\eeg_thesis_cnn_repo\\data\\external\\interim\\S071R07_filtered.fif...\n",
      "Isotrak not found\n",
      "    Range : 0 ... 31249 =      0.000 ...   124.996 secs\n",
      "Ready.\n",
      "Reading 0 ... 31249  =      0.000 ...   124.996 secs...\n",
      "Used Annotations descriptions: ['T0', 'T1', 'T2']\n",
      "Not setting metadata\n",
      "15 matching events found\n",
      "No baseline correction applied\n",
      "0 projection items activated\n",
      "Using data from preloaded Raw for 15 events and 126 original time points ...\n",
      "0 bad epochs dropped\n"
     ]
    },
    {
     "name": "stderr",
     "output_type": "stream",
     "text": [
      "C:\\Users\\chakr\\AppData\\Local\\Temp\\ipykernel_13788\\3980180034.py:3: RuntimeWarning: This filename (C:\\School\\EE_Y3\\Q4\\BAP\\eeg_thesis_cnn_repo\\data\\external\\interim\\S071R07_filtered.fif) does not conform to MNE naming conventions. All raw files should end with raw.fif, raw_sss.fif, raw_tsss.fif, _meg.fif, _eeg.fif, _ieeg.fif, raw.fif.gz, raw_sss.fif.gz, raw_tsss.fif.gz, _meg.fif.gz, _eeg.fif.gz or _ieeg.fif.gz\n",
      "  raw = mne.io.read_raw_fif(fif_file, preload=True)\n",
      "c:\\Users\\chakr\\Anaconda3\\envs\\eeg_thesis\\lib\\site-packages\\pywt\\_functions.py:143: FutureWarning: Wavelets from the family cmor, without parameters specified in the name are deprecated. The name should takethe form cmorB-C where B and C are floats representing the bandwidth frequency and center frequency, respectively (example: cmor1.5-1.0).\n",
      "  wavelet = DiscreteContinuousWavelet(wavelet)\n",
      "c:\\Users\\chakr\\Anaconda3\\envs\\eeg_thesis\\lib\\site-packages\\pywt\\_cwt.py:117: FutureWarning: Wavelets from the family cmor, without parameters specified in the name are deprecated. The name should takethe form cmorB-C where B and C are floats representing the bandwidth frequency and center frequency, respectively (example: cmor1.5-1.0).\n",
      "  wavelet = DiscreteContinuousWavelet(wavelet)\n"
     ]
    },
    {
     "name": "stdout",
     "output_type": "stream",
     "text": [
      "Opening raw data file C:\\School\\EE_Y3\\Q4\\BAP\\eeg_thesis_cnn_repo\\data\\external\\interim\\S071R11_filtered.fif...\n",
      "Isotrak not found\n",
      "    Range : 0 ... 31249 =      0.000 ...   124.996 secs\n",
      "Ready.\n",
      "Reading 0 ... 31249  =      0.000 ...   124.996 secs...\n",
      "Used Annotations descriptions: ['T0', 'T1', 'T2']\n",
      "Not setting metadata\n",
      "15 matching events found\n",
      "No baseline correction applied\n",
      "0 projection items activated\n",
      "Using data from preloaded Raw for 15 events and 126 original time points ...\n",
      "0 bad epochs dropped\n"
     ]
    },
    {
     "name": "stderr",
     "output_type": "stream",
     "text": [
      "C:\\Users\\chakr\\AppData\\Local\\Temp\\ipykernel_13788\\3980180034.py:3: RuntimeWarning: This filename (C:\\School\\EE_Y3\\Q4\\BAP\\eeg_thesis_cnn_repo\\data\\external\\interim\\S071R11_filtered.fif) does not conform to MNE naming conventions. All raw files should end with raw.fif, raw_sss.fif, raw_tsss.fif, _meg.fif, _eeg.fif, _ieeg.fif, raw.fif.gz, raw_sss.fif.gz, raw_tsss.fif.gz, _meg.fif.gz, _eeg.fif.gz or _ieeg.fif.gz\n",
      "  raw = mne.io.read_raw_fif(fif_file, preload=True)\n",
      "c:\\Users\\chakr\\Anaconda3\\envs\\eeg_thesis\\lib\\site-packages\\pywt\\_functions.py:143: FutureWarning: Wavelets from the family cmor, without parameters specified in the name are deprecated. The name should takethe form cmorB-C where B and C are floats representing the bandwidth frequency and center frequency, respectively (example: cmor1.5-1.0).\n",
      "  wavelet = DiscreteContinuousWavelet(wavelet)\n",
      "c:\\Users\\chakr\\Anaconda3\\envs\\eeg_thesis\\lib\\site-packages\\pywt\\_cwt.py:117: FutureWarning: Wavelets from the family cmor, without parameters specified in the name are deprecated. The name should takethe form cmorB-C where B and C are floats representing the bandwidth frequency and center frequency, respectively (example: cmor1.5-1.0).\n",
      "  wavelet = DiscreteContinuousWavelet(wavelet)\n"
     ]
    },
    {
     "name": "stdout",
     "output_type": "stream",
     "text": [
      "Opening raw data file C:\\School\\EE_Y3\\Q4\\BAP\\eeg_thesis_cnn_repo\\data\\external\\interim\\S072R03_filtered.fif...\n",
      "Isotrak not found\n",
      "    Range : 0 ... 30749 =      0.000 ...   122.996 secs\n",
      "Ready.\n",
      "Reading 0 ... 30749  =      0.000 ...   122.996 secs...\n",
      "Used Annotations descriptions: ['T0', 'T1', 'T2']\n",
      "Not setting metadata\n",
      "15 matching events found\n",
      "No baseline correction applied\n",
      "0 projection items activated\n",
      "Using data from preloaded Raw for 15 events and 126 original time points ...\n",
      "0 bad epochs dropped\n"
     ]
    },
    {
     "name": "stderr",
     "output_type": "stream",
     "text": [
      "C:\\Users\\chakr\\AppData\\Local\\Temp\\ipykernel_13788\\3980180034.py:3: RuntimeWarning: This filename (C:\\School\\EE_Y3\\Q4\\BAP\\eeg_thesis_cnn_repo\\data\\external\\interim\\S072R03_filtered.fif) does not conform to MNE naming conventions. All raw files should end with raw.fif, raw_sss.fif, raw_tsss.fif, _meg.fif, _eeg.fif, _ieeg.fif, raw.fif.gz, raw_sss.fif.gz, raw_tsss.fif.gz, _meg.fif.gz, _eeg.fif.gz or _ieeg.fif.gz\n",
      "  raw = mne.io.read_raw_fif(fif_file, preload=True)\n",
      "c:\\Users\\chakr\\Anaconda3\\envs\\eeg_thesis\\lib\\site-packages\\pywt\\_functions.py:143: FutureWarning: Wavelets from the family cmor, without parameters specified in the name are deprecated. The name should takethe form cmorB-C where B and C are floats representing the bandwidth frequency and center frequency, respectively (example: cmor1.5-1.0).\n",
      "  wavelet = DiscreteContinuousWavelet(wavelet)\n",
      "c:\\Users\\chakr\\Anaconda3\\envs\\eeg_thesis\\lib\\site-packages\\pywt\\_cwt.py:117: FutureWarning: Wavelets from the family cmor, without parameters specified in the name are deprecated. The name should takethe form cmorB-C where B and C are floats representing the bandwidth frequency and center frequency, respectively (example: cmor1.5-1.0).\n",
      "  wavelet = DiscreteContinuousWavelet(wavelet)\n"
     ]
    },
    {
     "name": "stdout",
     "output_type": "stream",
     "text": [
      "Opening raw data file C:\\School\\EE_Y3\\Q4\\BAP\\eeg_thesis_cnn_repo\\data\\external\\interim\\S072R07_filtered.fif...\n",
      "Isotrak not found\n",
      "    Range : 0 ... 30749 =      0.000 ...   122.996 secs\n",
      "Ready.\n",
      "Reading 0 ... 30749  =      0.000 ...   122.996 secs...\n",
      "Used Annotations descriptions: ['T0', 'T1', 'T2']\n",
      "Not setting metadata\n",
      "15 matching events found\n",
      "No baseline correction applied\n",
      "0 projection items activated\n",
      "Using data from preloaded Raw for 15 events and 126 original time points ...\n",
      "0 bad epochs dropped\n"
     ]
    },
    {
     "name": "stderr",
     "output_type": "stream",
     "text": [
      "C:\\Users\\chakr\\AppData\\Local\\Temp\\ipykernel_13788\\3980180034.py:3: RuntimeWarning: This filename (C:\\School\\EE_Y3\\Q4\\BAP\\eeg_thesis_cnn_repo\\data\\external\\interim\\S072R07_filtered.fif) does not conform to MNE naming conventions. All raw files should end with raw.fif, raw_sss.fif, raw_tsss.fif, _meg.fif, _eeg.fif, _ieeg.fif, raw.fif.gz, raw_sss.fif.gz, raw_tsss.fif.gz, _meg.fif.gz, _eeg.fif.gz or _ieeg.fif.gz\n",
      "  raw = mne.io.read_raw_fif(fif_file, preload=True)\n",
      "c:\\Users\\chakr\\Anaconda3\\envs\\eeg_thesis\\lib\\site-packages\\pywt\\_functions.py:143: FutureWarning: Wavelets from the family cmor, without parameters specified in the name are deprecated. The name should takethe form cmorB-C where B and C are floats representing the bandwidth frequency and center frequency, respectively (example: cmor1.5-1.0).\n",
      "  wavelet = DiscreteContinuousWavelet(wavelet)\n",
      "c:\\Users\\chakr\\Anaconda3\\envs\\eeg_thesis\\lib\\site-packages\\pywt\\_cwt.py:117: FutureWarning: Wavelets from the family cmor, without parameters specified in the name are deprecated. The name should takethe form cmorB-C where B and C are floats representing the bandwidth frequency and center frequency, respectively (example: cmor1.5-1.0).\n",
      "  wavelet = DiscreteContinuousWavelet(wavelet)\n"
     ]
    },
    {
     "name": "stdout",
     "output_type": "stream",
     "text": [
      "Opening raw data file C:\\School\\EE_Y3\\Q4\\BAP\\eeg_thesis_cnn_repo\\data\\external\\interim\\S072R11_filtered.fif...\n",
      "Isotrak not found\n",
      "    Range : 0 ... 30749 =      0.000 ...   122.996 secs\n",
      "Ready.\n",
      "Reading 0 ... 30749  =      0.000 ...   122.996 secs...\n",
      "Used Annotations descriptions: ['T0', 'T1', 'T2']\n",
      "Not setting metadata\n",
      "15 matching events found\n",
      "No baseline correction applied\n",
      "0 projection items activated\n",
      "Using data from preloaded Raw for 15 events and 126 original time points ...\n",
      "0 bad epochs dropped\n"
     ]
    },
    {
     "name": "stderr",
     "output_type": "stream",
     "text": [
      "C:\\Users\\chakr\\AppData\\Local\\Temp\\ipykernel_13788\\3980180034.py:3: RuntimeWarning: This filename (C:\\School\\EE_Y3\\Q4\\BAP\\eeg_thesis_cnn_repo\\data\\external\\interim\\S072R11_filtered.fif) does not conform to MNE naming conventions. All raw files should end with raw.fif, raw_sss.fif, raw_tsss.fif, _meg.fif, _eeg.fif, _ieeg.fif, raw.fif.gz, raw_sss.fif.gz, raw_tsss.fif.gz, _meg.fif.gz, _eeg.fif.gz or _ieeg.fif.gz\n",
      "  raw = mne.io.read_raw_fif(fif_file, preload=True)\n",
      "c:\\Users\\chakr\\Anaconda3\\envs\\eeg_thesis\\lib\\site-packages\\pywt\\_functions.py:143: FutureWarning: Wavelets from the family cmor, without parameters specified in the name are deprecated. The name should takethe form cmorB-C where B and C are floats representing the bandwidth frequency and center frequency, respectively (example: cmor1.5-1.0).\n",
      "  wavelet = DiscreteContinuousWavelet(wavelet)\n",
      "c:\\Users\\chakr\\Anaconda3\\envs\\eeg_thesis\\lib\\site-packages\\pywt\\_cwt.py:117: FutureWarning: Wavelets from the family cmor, without parameters specified in the name are deprecated. The name should takethe form cmorB-C where B and C are floats representing the bandwidth frequency and center frequency, respectively (example: cmor1.5-1.0).\n",
      "  wavelet = DiscreteContinuousWavelet(wavelet)\n"
     ]
    },
    {
     "name": "stdout",
     "output_type": "stream",
     "text": [
      "Opening raw data file C:\\School\\EE_Y3\\Q4\\BAP\\eeg_thesis_cnn_repo\\data\\external\\interim\\S073R03_filtered.fif...\n",
      "Isotrak not found\n",
      "    Range : 0 ... 30749 =      0.000 ...   122.996 secs\n",
      "Ready.\n",
      "Reading 0 ... 30749  =      0.000 ...   122.996 secs...\n",
      "Used Annotations descriptions: ['T0', 'T1', 'T2']\n",
      "Not setting metadata\n",
      "15 matching events found\n",
      "No baseline correction applied\n",
      "0 projection items activated\n",
      "Using data from preloaded Raw for 15 events and 126 original time points ...\n",
      "0 bad epochs dropped\n"
     ]
    },
    {
     "name": "stderr",
     "output_type": "stream",
     "text": [
      "C:\\Users\\chakr\\AppData\\Local\\Temp\\ipykernel_13788\\3980180034.py:3: RuntimeWarning: This filename (C:\\School\\EE_Y3\\Q4\\BAP\\eeg_thesis_cnn_repo\\data\\external\\interim\\S073R03_filtered.fif) does not conform to MNE naming conventions. All raw files should end with raw.fif, raw_sss.fif, raw_tsss.fif, _meg.fif, _eeg.fif, _ieeg.fif, raw.fif.gz, raw_sss.fif.gz, raw_tsss.fif.gz, _meg.fif.gz, _eeg.fif.gz or _ieeg.fif.gz\n",
      "  raw = mne.io.read_raw_fif(fif_file, preload=True)\n",
      "c:\\Users\\chakr\\Anaconda3\\envs\\eeg_thesis\\lib\\site-packages\\pywt\\_functions.py:143: FutureWarning: Wavelets from the family cmor, without parameters specified in the name are deprecated. The name should takethe form cmorB-C where B and C are floats representing the bandwidth frequency and center frequency, respectively (example: cmor1.5-1.0).\n",
      "  wavelet = DiscreteContinuousWavelet(wavelet)\n",
      "c:\\Users\\chakr\\Anaconda3\\envs\\eeg_thesis\\lib\\site-packages\\pywt\\_cwt.py:117: FutureWarning: Wavelets from the family cmor, without parameters specified in the name are deprecated. The name should takethe form cmorB-C where B and C are floats representing the bandwidth frequency and center frequency, respectively (example: cmor1.5-1.0).\n",
      "  wavelet = DiscreteContinuousWavelet(wavelet)\n"
     ]
    },
    {
     "name": "stdout",
     "output_type": "stream",
     "text": [
      "Opening raw data file C:\\School\\EE_Y3\\Q4\\BAP\\eeg_thesis_cnn_repo\\data\\external\\interim\\S073R07_filtered.fif...\n",
      "Isotrak not found\n",
      "    Range : 0 ... 30749 =      0.000 ...   122.996 secs\n",
      "Ready.\n",
      "Reading 0 ... 30749  =      0.000 ...   122.996 secs...\n",
      "Used Annotations descriptions: ['T0', 'T1', 'T2']\n",
      "Not setting metadata\n",
      "15 matching events found\n",
      "No baseline correction applied\n",
      "0 projection items activated\n",
      "Using data from preloaded Raw for 15 events and 126 original time points ...\n",
      "0 bad epochs dropped\n"
     ]
    },
    {
     "name": "stderr",
     "output_type": "stream",
     "text": [
      "C:\\Users\\chakr\\AppData\\Local\\Temp\\ipykernel_13788\\3980180034.py:3: RuntimeWarning: This filename (C:\\School\\EE_Y3\\Q4\\BAP\\eeg_thesis_cnn_repo\\data\\external\\interim\\S073R07_filtered.fif) does not conform to MNE naming conventions. All raw files should end with raw.fif, raw_sss.fif, raw_tsss.fif, _meg.fif, _eeg.fif, _ieeg.fif, raw.fif.gz, raw_sss.fif.gz, raw_tsss.fif.gz, _meg.fif.gz, _eeg.fif.gz or _ieeg.fif.gz\n",
      "  raw = mne.io.read_raw_fif(fif_file, preload=True)\n",
      "c:\\Users\\chakr\\Anaconda3\\envs\\eeg_thesis\\lib\\site-packages\\pywt\\_functions.py:143: FutureWarning: Wavelets from the family cmor, without parameters specified in the name are deprecated. The name should takethe form cmorB-C where B and C are floats representing the bandwidth frequency and center frequency, respectively (example: cmor1.5-1.0).\n",
      "  wavelet = DiscreteContinuousWavelet(wavelet)\n",
      "c:\\Users\\chakr\\Anaconda3\\envs\\eeg_thesis\\lib\\site-packages\\pywt\\_cwt.py:117: FutureWarning: Wavelets from the family cmor, without parameters specified in the name are deprecated. The name should takethe form cmorB-C where B and C are floats representing the bandwidth frequency and center frequency, respectively (example: cmor1.5-1.0).\n",
      "  wavelet = DiscreteContinuousWavelet(wavelet)\n"
     ]
    },
    {
     "name": "stdout",
     "output_type": "stream",
     "text": [
      "Opening raw data file C:\\School\\EE_Y3\\Q4\\BAP\\eeg_thesis_cnn_repo\\data\\external\\interim\\S073R11_filtered.fif...\n",
      "Isotrak not found\n",
      "    Range : 0 ... 30749 =      0.000 ...   122.996 secs\n",
      "Ready.\n",
      "Reading 0 ... 30749  =      0.000 ...   122.996 secs...\n",
      "Used Annotations descriptions: ['T0', 'T1', 'T2']\n",
      "Not setting metadata\n",
      "15 matching events found\n",
      "No baseline correction applied\n",
      "0 projection items activated\n",
      "Using data from preloaded Raw for 15 events and 126 original time points ...\n",
      "0 bad epochs dropped\n"
     ]
    },
    {
     "name": "stderr",
     "output_type": "stream",
     "text": [
      "C:\\Users\\chakr\\AppData\\Local\\Temp\\ipykernel_13788\\3980180034.py:3: RuntimeWarning: This filename (C:\\School\\EE_Y3\\Q4\\BAP\\eeg_thesis_cnn_repo\\data\\external\\interim\\S073R11_filtered.fif) does not conform to MNE naming conventions. All raw files should end with raw.fif, raw_sss.fif, raw_tsss.fif, _meg.fif, _eeg.fif, _ieeg.fif, raw.fif.gz, raw_sss.fif.gz, raw_tsss.fif.gz, _meg.fif.gz, _eeg.fif.gz or _ieeg.fif.gz\n",
      "  raw = mne.io.read_raw_fif(fif_file, preload=True)\n",
      "c:\\Users\\chakr\\Anaconda3\\envs\\eeg_thesis\\lib\\site-packages\\pywt\\_functions.py:143: FutureWarning: Wavelets from the family cmor, without parameters specified in the name are deprecated. The name should takethe form cmorB-C where B and C are floats representing the bandwidth frequency and center frequency, respectively (example: cmor1.5-1.0).\n",
      "  wavelet = DiscreteContinuousWavelet(wavelet)\n",
      "c:\\Users\\chakr\\Anaconda3\\envs\\eeg_thesis\\lib\\site-packages\\pywt\\_cwt.py:117: FutureWarning: Wavelets from the family cmor, without parameters specified in the name are deprecated. The name should takethe form cmorB-C where B and C are floats representing the bandwidth frequency and center frequency, respectively (example: cmor1.5-1.0).\n",
      "  wavelet = DiscreteContinuousWavelet(wavelet)\n"
     ]
    },
    {
     "name": "stdout",
     "output_type": "stream",
     "text": [
      "Opening raw data file C:\\School\\EE_Y3\\Q4\\BAP\\eeg_thesis_cnn_repo\\data\\external\\interim\\S074R03_filtered.fif...\n",
      "Isotrak not found\n",
      "    Range : 0 ... 30749 =      0.000 ...   122.996 secs\n",
      "Ready.\n",
      "Reading 0 ... 30749  =      0.000 ...   122.996 secs...\n",
      "Used Annotations descriptions: ['T0', 'T1', 'T2']\n",
      "Not setting metadata\n",
      "15 matching events found\n",
      "No baseline correction applied\n",
      "0 projection items activated\n",
      "Using data from preloaded Raw for 15 events and 126 original time points ...\n",
      "0 bad epochs dropped\n"
     ]
    },
    {
     "name": "stderr",
     "output_type": "stream",
     "text": [
      "C:\\Users\\chakr\\AppData\\Local\\Temp\\ipykernel_13788\\3980180034.py:3: RuntimeWarning: This filename (C:\\School\\EE_Y3\\Q4\\BAP\\eeg_thesis_cnn_repo\\data\\external\\interim\\S074R03_filtered.fif) does not conform to MNE naming conventions. All raw files should end with raw.fif, raw_sss.fif, raw_tsss.fif, _meg.fif, _eeg.fif, _ieeg.fif, raw.fif.gz, raw_sss.fif.gz, raw_tsss.fif.gz, _meg.fif.gz, _eeg.fif.gz or _ieeg.fif.gz\n",
      "  raw = mne.io.read_raw_fif(fif_file, preload=True)\n",
      "c:\\Users\\chakr\\Anaconda3\\envs\\eeg_thesis\\lib\\site-packages\\pywt\\_functions.py:143: FutureWarning: Wavelets from the family cmor, without parameters specified in the name are deprecated. The name should takethe form cmorB-C where B and C are floats representing the bandwidth frequency and center frequency, respectively (example: cmor1.5-1.0).\n",
      "  wavelet = DiscreteContinuousWavelet(wavelet)\n",
      "c:\\Users\\chakr\\Anaconda3\\envs\\eeg_thesis\\lib\\site-packages\\pywt\\_cwt.py:117: FutureWarning: Wavelets from the family cmor, without parameters specified in the name are deprecated. The name should takethe form cmorB-C where B and C are floats representing the bandwidth frequency and center frequency, respectively (example: cmor1.5-1.0).\n",
      "  wavelet = DiscreteContinuousWavelet(wavelet)\n"
     ]
    },
    {
     "name": "stdout",
     "output_type": "stream",
     "text": [
      "Opening raw data file C:\\School\\EE_Y3\\Q4\\BAP\\eeg_thesis_cnn_repo\\data\\external\\interim\\S074R07_filtered.fif...\n",
      "Isotrak not found\n",
      "    Range : 0 ... 30749 =      0.000 ...   122.996 secs\n",
      "Ready.\n",
      "Reading 0 ... 30749  =      0.000 ...   122.996 secs...\n",
      "Used Annotations descriptions: ['T0', 'T1', 'T2']\n",
      "Not setting metadata\n",
      "15 matching events found\n",
      "No baseline correction applied\n",
      "0 projection items activated\n",
      "Using data from preloaded Raw for 15 events and 126 original time points ...\n",
      "0 bad epochs dropped\n"
     ]
    },
    {
     "name": "stderr",
     "output_type": "stream",
     "text": [
      "C:\\Users\\chakr\\AppData\\Local\\Temp\\ipykernel_13788\\3980180034.py:3: RuntimeWarning: This filename (C:\\School\\EE_Y3\\Q4\\BAP\\eeg_thesis_cnn_repo\\data\\external\\interim\\S074R07_filtered.fif) does not conform to MNE naming conventions. All raw files should end with raw.fif, raw_sss.fif, raw_tsss.fif, _meg.fif, _eeg.fif, _ieeg.fif, raw.fif.gz, raw_sss.fif.gz, raw_tsss.fif.gz, _meg.fif.gz, _eeg.fif.gz or _ieeg.fif.gz\n",
      "  raw = mne.io.read_raw_fif(fif_file, preload=True)\n",
      "c:\\Users\\chakr\\Anaconda3\\envs\\eeg_thesis\\lib\\site-packages\\pywt\\_functions.py:143: FutureWarning: Wavelets from the family cmor, without parameters specified in the name are deprecated. The name should takethe form cmorB-C where B and C are floats representing the bandwidth frequency and center frequency, respectively (example: cmor1.5-1.0).\n",
      "  wavelet = DiscreteContinuousWavelet(wavelet)\n",
      "c:\\Users\\chakr\\Anaconda3\\envs\\eeg_thesis\\lib\\site-packages\\pywt\\_cwt.py:117: FutureWarning: Wavelets from the family cmor, without parameters specified in the name are deprecated. The name should takethe form cmorB-C where B and C are floats representing the bandwidth frequency and center frequency, respectively (example: cmor1.5-1.0).\n",
      "  wavelet = DiscreteContinuousWavelet(wavelet)\n"
     ]
    },
    {
     "name": "stdout",
     "output_type": "stream",
     "text": [
      "Opening raw data file C:\\School\\EE_Y3\\Q4\\BAP\\eeg_thesis_cnn_repo\\data\\external\\interim\\S074R11_filtered.fif...\n",
      "Isotrak not found\n",
      "    Range : 0 ... 30749 =      0.000 ...   122.996 secs\n",
      "Ready.\n",
      "Reading 0 ... 30749  =      0.000 ...   122.996 secs...\n",
      "Used Annotations descriptions: ['T0', 'T1', 'T2']\n",
      "Not setting metadata\n",
      "15 matching events found\n",
      "No baseline correction applied\n",
      "0 projection items activated\n",
      "Using data from preloaded Raw for 15 events and 126 original time points ...\n",
      "0 bad epochs dropped\n"
     ]
    },
    {
     "name": "stderr",
     "output_type": "stream",
     "text": [
      "C:\\Users\\chakr\\AppData\\Local\\Temp\\ipykernel_13788\\3980180034.py:3: RuntimeWarning: This filename (C:\\School\\EE_Y3\\Q4\\BAP\\eeg_thesis_cnn_repo\\data\\external\\interim\\S074R11_filtered.fif) does not conform to MNE naming conventions. All raw files should end with raw.fif, raw_sss.fif, raw_tsss.fif, _meg.fif, _eeg.fif, _ieeg.fif, raw.fif.gz, raw_sss.fif.gz, raw_tsss.fif.gz, _meg.fif.gz, _eeg.fif.gz or _ieeg.fif.gz\n",
      "  raw = mne.io.read_raw_fif(fif_file, preload=True)\n",
      "c:\\Users\\chakr\\Anaconda3\\envs\\eeg_thesis\\lib\\site-packages\\pywt\\_functions.py:143: FutureWarning: Wavelets from the family cmor, without parameters specified in the name are deprecated. The name should takethe form cmorB-C where B and C are floats representing the bandwidth frequency and center frequency, respectively (example: cmor1.5-1.0).\n",
      "  wavelet = DiscreteContinuousWavelet(wavelet)\n",
      "c:\\Users\\chakr\\Anaconda3\\envs\\eeg_thesis\\lib\\site-packages\\pywt\\_cwt.py:117: FutureWarning: Wavelets from the family cmor, without parameters specified in the name are deprecated. The name should takethe form cmorB-C where B and C are floats representing the bandwidth frequency and center frequency, respectively (example: cmor1.5-1.0).\n",
      "  wavelet = DiscreteContinuousWavelet(wavelet)\n"
     ]
    },
    {
     "name": "stdout",
     "output_type": "stream",
     "text": [
      "Opening raw data file C:\\School\\EE_Y3\\Q4\\BAP\\eeg_thesis_cnn_repo\\data\\external\\interim\\S075R03_filtered.fif...\n",
      "Isotrak not found\n",
      "    Range : 0 ... 30749 =      0.000 ...   122.996 secs\n",
      "Ready.\n",
      "Reading 0 ... 30749  =      0.000 ...   122.996 secs...\n",
      "Used Annotations descriptions: ['T0', 'T1', 'T2']\n",
      "Not setting metadata\n",
      "15 matching events found\n",
      "No baseline correction applied\n",
      "0 projection items activated\n",
      "Using data from preloaded Raw for 15 events and 126 original time points ...\n",
      "0 bad epochs dropped\n"
     ]
    },
    {
     "name": "stderr",
     "output_type": "stream",
     "text": [
      "C:\\Users\\chakr\\AppData\\Local\\Temp\\ipykernel_13788\\3980180034.py:3: RuntimeWarning: This filename (C:\\School\\EE_Y3\\Q4\\BAP\\eeg_thesis_cnn_repo\\data\\external\\interim\\S075R03_filtered.fif) does not conform to MNE naming conventions. All raw files should end with raw.fif, raw_sss.fif, raw_tsss.fif, _meg.fif, _eeg.fif, _ieeg.fif, raw.fif.gz, raw_sss.fif.gz, raw_tsss.fif.gz, _meg.fif.gz, _eeg.fif.gz or _ieeg.fif.gz\n",
      "  raw = mne.io.read_raw_fif(fif_file, preload=True)\n",
      "c:\\Users\\chakr\\Anaconda3\\envs\\eeg_thesis\\lib\\site-packages\\pywt\\_functions.py:143: FutureWarning: Wavelets from the family cmor, without parameters specified in the name are deprecated. The name should takethe form cmorB-C where B and C are floats representing the bandwidth frequency and center frequency, respectively (example: cmor1.5-1.0).\n",
      "  wavelet = DiscreteContinuousWavelet(wavelet)\n",
      "c:\\Users\\chakr\\Anaconda3\\envs\\eeg_thesis\\lib\\site-packages\\pywt\\_cwt.py:117: FutureWarning: Wavelets from the family cmor, without parameters specified in the name are deprecated. The name should takethe form cmorB-C where B and C are floats representing the bandwidth frequency and center frequency, respectively (example: cmor1.5-1.0).\n",
      "  wavelet = DiscreteContinuousWavelet(wavelet)\n"
     ]
    },
    {
     "name": "stdout",
     "output_type": "stream",
     "text": [
      "Opening raw data file C:\\School\\EE_Y3\\Q4\\BAP\\eeg_thesis_cnn_repo\\data\\external\\interim\\S075R07_filtered.fif...\n",
      "Isotrak not found\n",
      "    Range : 0 ... 30749 =      0.000 ...   122.996 secs\n",
      "Ready.\n",
      "Reading 0 ... 30749  =      0.000 ...   122.996 secs...\n",
      "Used Annotations descriptions: ['T0', 'T1', 'T2']\n",
      "Not setting metadata\n",
      "15 matching events found\n",
      "No baseline correction applied\n",
      "0 projection items activated\n",
      "Using data from preloaded Raw for 15 events and 126 original time points ...\n",
      "0 bad epochs dropped\n"
     ]
    },
    {
     "name": "stderr",
     "output_type": "stream",
     "text": [
      "C:\\Users\\chakr\\AppData\\Local\\Temp\\ipykernel_13788\\3980180034.py:3: RuntimeWarning: This filename (C:\\School\\EE_Y3\\Q4\\BAP\\eeg_thesis_cnn_repo\\data\\external\\interim\\S075R07_filtered.fif) does not conform to MNE naming conventions. All raw files should end with raw.fif, raw_sss.fif, raw_tsss.fif, _meg.fif, _eeg.fif, _ieeg.fif, raw.fif.gz, raw_sss.fif.gz, raw_tsss.fif.gz, _meg.fif.gz, _eeg.fif.gz or _ieeg.fif.gz\n",
      "  raw = mne.io.read_raw_fif(fif_file, preload=True)\n",
      "c:\\Users\\chakr\\Anaconda3\\envs\\eeg_thesis\\lib\\site-packages\\pywt\\_functions.py:143: FutureWarning: Wavelets from the family cmor, without parameters specified in the name are deprecated. The name should takethe form cmorB-C where B and C are floats representing the bandwidth frequency and center frequency, respectively (example: cmor1.5-1.0).\n",
      "  wavelet = DiscreteContinuousWavelet(wavelet)\n",
      "c:\\Users\\chakr\\Anaconda3\\envs\\eeg_thesis\\lib\\site-packages\\pywt\\_cwt.py:117: FutureWarning: Wavelets from the family cmor, without parameters specified in the name are deprecated. The name should takethe form cmorB-C where B and C are floats representing the bandwidth frequency and center frequency, respectively (example: cmor1.5-1.0).\n",
      "  wavelet = DiscreteContinuousWavelet(wavelet)\n"
     ]
    },
    {
     "name": "stdout",
     "output_type": "stream",
     "text": [
      "Opening raw data file C:\\School\\EE_Y3\\Q4\\BAP\\eeg_thesis_cnn_repo\\data\\external\\interim\\S075R11_filtered.fif...\n",
      "Isotrak not found\n",
      "    Range : 0 ... 30749 =      0.000 ...   122.996 secs\n",
      "Ready.\n",
      "Reading 0 ... 30749  =      0.000 ...   122.996 secs...\n",
      "Used Annotations descriptions: ['T0', 'T1', 'T2']\n",
      "Not setting metadata\n",
      "15 matching events found\n",
      "No baseline correction applied\n",
      "0 projection items activated\n",
      "Using data from preloaded Raw for 15 events and 126 original time points ...\n",
      "0 bad epochs dropped\n"
     ]
    },
    {
     "name": "stderr",
     "output_type": "stream",
     "text": [
      "C:\\Users\\chakr\\AppData\\Local\\Temp\\ipykernel_13788\\3980180034.py:3: RuntimeWarning: This filename (C:\\School\\EE_Y3\\Q4\\BAP\\eeg_thesis_cnn_repo\\data\\external\\interim\\S075R11_filtered.fif) does not conform to MNE naming conventions. All raw files should end with raw.fif, raw_sss.fif, raw_tsss.fif, _meg.fif, _eeg.fif, _ieeg.fif, raw.fif.gz, raw_sss.fif.gz, raw_tsss.fif.gz, _meg.fif.gz, _eeg.fif.gz or _ieeg.fif.gz\n",
      "  raw = mne.io.read_raw_fif(fif_file, preload=True)\n",
      "c:\\Users\\chakr\\Anaconda3\\envs\\eeg_thesis\\lib\\site-packages\\pywt\\_functions.py:143: FutureWarning: Wavelets from the family cmor, without parameters specified in the name are deprecated. The name should takethe form cmorB-C where B and C are floats representing the bandwidth frequency and center frequency, respectively (example: cmor1.5-1.0).\n",
      "  wavelet = DiscreteContinuousWavelet(wavelet)\n",
      "c:\\Users\\chakr\\Anaconda3\\envs\\eeg_thesis\\lib\\site-packages\\pywt\\_cwt.py:117: FutureWarning: Wavelets from the family cmor, without parameters specified in the name are deprecated. The name should takethe form cmorB-C where B and C are floats representing the bandwidth frequency and center frequency, respectively (example: cmor1.5-1.0).\n",
      "  wavelet = DiscreteContinuousWavelet(wavelet)\n"
     ]
    },
    {
     "name": "stdout",
     "output_type": "stream",
     "text": [
      "Opening raw data file C:\\School\\EE_Y3\\Q4\\BAP\\eeg_thesis_cnn_repo\\data\\external\\interim\\S076R03_filtered.fif...\n",
      "Isotrak not found\n",
      "    Range : 0 ... 30749 =      0.000 ...   122.996 secs\n",
      "Ready.\n",
      "Reading 0 ... 30749  =      0.000 ...   122.996 secs...\n",
      "Used Annotations descriptions: ['T0', 'T1', 'T2']\n",
      "Not setting metadata\n",
      "15 matching events found\n",
      "No baseline correction applied\n",
      "0 projection items activated\n",
      "Using data from preloaded Raw for 15 events and 126 original time points ...\n",
      "0 bad epochs dropped\n"
     ]
    },
    {
     "name": "stderr",
     "output_type": "stream",
     "text": [
      "C:\\Users\\chakr\\AppData\\Local\\Temp\\ipykernel_13788\\3980180034.py:3: RuntimeWarning: This filename (C:\\School\\EE_Y3\\Q4\\BAP\\eeg_thesis_cnn_repo\\data\\external\\interim\\S076R03_filtered.fif) does not conform to MNE naming conventions. All raw files should end with raw.fif, raw_sss.fif, raw_tsss.fif, _meg.fif, _eeg.fif, _ieeg.fif, raw.fif.gz, raw_sss.fif.gz, raw_tsss.fif.gz, _meg.fif.gz, _eeg.fif.gz or _ieeg.fif.gz\n",
      "  raw = mne.io.read_raw_fif(fif_file, preload=True)\n",
      "c:\\Users\\chakr\\Anaconda3\\envs\\eeg_thesis\\lib\\site-packages\\pywt\\_functions.py:143: FutureWarning: Wavelets from the family cmor, without parameters specified in the name are deprecated. The name should takethe form cmorB-C where B and C are floats representing the bandwidth frequency and center frequency, respectively (example: cmor1.5-1.0).\n",
      "  wavelet = DiscreteContinuousWavelet(wavelet)\n",
      "c:\\Users\\chakr\\Anaconda3\\envs\\eeg_thesis\\lib\\site-packages\\pywt\\_cwt.py:117: FutureWarning: Wavelets from the family cmor, without parameters specified in the name are deprecated. The name should takethe form cmorB-C where B and C are floats representing the bandwidth frequency and center frequency, respectively (example: cmor1.5-1.0).\n",
      "  wavelet = DiscreteContinuousWavelet(wavelet)\n"
     ]
    },
    {
     "name": "stdout",
     "output_type": "stream",
     "text": [
      "Opening raw data file C:\\School\\EE_Y3\\Q4\\BAP\\eeg_thesis_cnn_repo\\data\\external\\interim\\S076R07_filtered.fif...\n",
      "Isotrak not found\n",
      "    Range : 0 ... 30749 =      0.000 ...   122.996 secs\n",
      "Ready.\n",
      "Reading 0 ... 30749  =      0.000 ...   122.996 secs...\n",
      "Used Annotations descriptions: ['T0', 'T1', 'T2']\n",
      "Not setting metadata\n",
      "15 matching events found\n",
      "No baseline correction applied\n",
      "0 projection items activated\n",
      "Using data from preloaded Raw for 15 events and 126 original time points ...\n",
      "0 bad epochs dropped\n"
     ]
    },
    {
     "name": "stderr",
     "output_type": "stream",
     "text": [
      "C:\\Users\\chakr\\AppData\\Local\\Temp\\ipykernel_13788\\3980180034.py:3: RuntimeWarning: This filename (C:\\School\\EE_Y3\\Q4\\BAP\\eeg_thesis_cnn_repo\\data\\external\\interim\\S076R07_filtered.fif) does not conform to MNE naming conventions. All raw files should end with raw.fif, raw_sss.fif, raw_tsss.fif, _meg.fif, _eeg.fif, _ieeg.fif, raw.fif.gz, raw_sss.fif.gz, raw_tsss.fif.gz, _meg.fif.gz, _eeg.fif.gz or _ieeg.fif.gz\n",
      "  raw = mne.io.read_raw_fif(fif_file, preload=True)\n",
      "c:\\Users\\chakr\\Anaconda3\\envs\\eeg_thesis\\lib\\site-packages\\pywt\\_functions.py:143: FutureWarning: Wavelets from the family cmor, without parameters specified in the name are deprecated. The name should takethe form cmorB-C where B and C are floats representing the bandwidth frequency and center frequency, respectively (example: cmor1.5-1.0).\n",
      "  wavelet = DiscreteContinuousWavelet(wavelet)\n",
      "c:\\Users\\chakr\\Anaconda3\\envs\\eeg_thesis\\lib\\site-packages\\pywt\\_cwt.py:117: FutureWarning: Wavelets from the family cmor, without parameters specified in the name are deprecated. The name should takethe form cmorB-C where B and C are floats representing the bandwidth frequency and center frequency, respectively (example: cmor1.5-1.0).\n",
      "  wavelet = DiscreteContinuousWavelet(wavelet)\n"
     ]
    },
    {
     "name": "stdout",
     "output_type": "stream",
     "text": [
      "Opening raw data file C:\\School\\EE_Y3\\Q4\\BAP\\eeg_thesis_cnn_repo\\data\\external\\interim\\S076R11_filtered.fif...\n",
      "Isotrak not found\n",
      "    Range : 0 ... 30749 =      0.000 ...   122.996 secs\n",
      "Ready.\n",
      "Reading 0 ... 30749  =      0.000 ...   122.996 secs...\n",
      "Used Annotations descriptions: ['T0', 'T1', 'T2']\n",
      "Not setting metadata\n",
      "15 matching events found\n",
      "No baseline correction applied\n",
      "0 projection items activated\n",
      "Using data from preloaded Raw for 15 events and 126 original time points ...\n",
      "0 bad epochs dropped\n"
     ]
    },
    {
     "name": "stderr",
     "output_type": "stream",
     "text": [
      "C:\\Users\\chakr\\AppData\\Local\\Temp\\ipykernel_13788\\3980180034.py:3: RuntimeWarning: This filename (C:\\School\\EE_Y3\\Q4\\BAP\\eeg_thesis_cnn_repo\\data\\external\\interim\\S076R11_filtered.fif) does not conform to MNE naming conventions. All raw files should end with raw.fif, raw_sss.fif, raw_tsss.fif, _meg.fif, _eeg.fif, _ieeg.fif, raw.fif.gz, raw_sss.fif.gz, raw_tsss.fif.gz, _meg.fif.gz, _eeg.fif.gz or _ieeg.fif.gz\n",
      "  raw = mne.io.read_raw_fif(fif_file, preload=True)\n",
      "c:\\Users\\chakr\\Anaconda3\\envs\\eeg_thesis\\lib\\site-packages\\pywt\\_functions.py:143: FutureWarning: Wavelets from the family cmor, without parameters specified in the name are deprecated. The name should takethe form cmorB-C where B and C are floats representing the bandwidth frequency and center frequency, respectively (example: cmor1.5-1.0).\n",
      "  wavelet = DiscreteContinuousWavelet(wavelet)\n",
      "c:\\Users\\chakr\\Anaconda3\\envs\\eeg_thesis\\lib\\site-packages\\pywt\\_cwt.py:117: FutureWarning: Wavelets from the family cmor, without parameters specified in the name are deprecated. The name should takethe form cmorB-C where B and C are floats representing the bandwidth frequency and center frequency, respectively (example: cmor1.5-1.0).\n",
      "  wavelet = DiscreteContinuousWavelet(wavelet)\n"
     ]
    },
    {
     "name": "stdout",
     "output_type": "stream",
     "text": [
      "Opening raw data file C:\\School\\EE_Y3\\Q4\\BAP\\eeg_thesis_cnn_repo\\data\\external\\interim\\S077R03_filtered.fif...\n",
      "Isotrak not found\n",
      "    Range : 0 ... 30749 =      0.000 ...   122.996 secs\n",
      "Ready.\n",
      "Reading 0 ... 30749  =      0.000 ...   122.996 secs...\n",
      "Used Annotations descriptions: ['T0', 'T1', 'T2']\n",
      "Not setting metadata\n",
      "15 matching events found\n",
      "No baseline correction applied\n",
      "0 projection items activated\n",
      "Using data from preloaded Raw for 15 events and 126 original time points ...\n",
      "0 bad epochs dropped\n"
     ]
    },
    {
     "name": "stderr",
     "output_type": "stream",
     "text": [
      "C:\\Users\\chakr\\AppData\\Local\\Temp\\ipykernel_13788\\3980180034.py:3: RuntimeWarning: This filename (C:\\School\\EE_Y3\\Q4\\BAP\\eeg_thesis_cnn_repo\\data\\external\\interim\\S077R03_filtered.fif) does not conform to MNE naming conventions. All raw files should end with raw.fif, raw_sss.fif, raw_tsss.fif, _meg.fif, _eeg.fif, _ieeg.fif, raw.fif.gz, raw_sss.fif.gz, raw_tsss.fif.gz, _meg.fif.gz, _eeg.fif.gz or _ieeg.fif.gz\n",
      "  raw = mne.io.read_raw_fif(fif_file, preload=True)\n",
      "c:\\Users\\chakr\\Anaconda3\\envs\\eeg_thesis\\lib\\site-packages\\pywt\\_functions.py:143: FutureWarning: Wavelets from the family cmor, without parameters specified in the name are deprecated. The name should takethe form cmorB-C where B and C are floats representing the bandwidth frequency and center frequency, respectively (example: cmor1.5-1.0).\n",
      "  wavelet = DiscreteContinuousWavelet(wavelet)\n",
      "c:\\Users\\chakr\\Anaconda3\\envs\\eeg_thesis\\lib\\site-packages\\pywt\\_cwt.py:117: FutureWarning: Wavelets from the family cmor, without parameters specified in the name are deprecated. The name should takethe form cmorB-C where B and C are floats representing the bandwidth frequency and center frequency, respectively (example: cmor1.5-1.0).\n",
      "  wavelet = DiscreteContinuousWavelet(wavelet)\n"
     ]
    },
    {
     "name": "stdout",
     "output_type": "stream",
     "text": [
      "Opening raw data file C:\\School\\EE_Y3\\Q4\\BAP\\eeg_thesis_cnn_repo\\data\\external\\interim\\S077R07_filtered.fif...\n",
      "Isotrak not found\n",
      "    Range : 0 ... 30749 =      0.000 ...   122.996 secs\n",
      "Ready.\n",
      "Reading 0 ... 30749  =      0.000 ...   122.996 secs...\n",
      "Used Annotations descriptions: ['T0', 'T1', 'T2']\n",
      "Not setting metadata\n",
      "15 matching events found\n",
      "No baseline correction applied\n",
      "0 projection items activated\n",
      "Using data from preloaded Raw for 15 events and 126 original time points ...\n",
      "0 bad epochs dropped\n"
     ]
    },
    {
     "name": "stderr",
     "output_type": "stream",
     "text": [
      "C:\\Users\\chakr\\AppData\\Local\\Temp\\ipykernel_13788\\3980180034.py:3: RuntimeWarning: This filename (C:\\School\\EE_Y3\\Q4\\BAP\\eeg_thesis_cnn_repo\\data\\external\\interim\\S077R07_filtered.fif) does not conform to MNE naming conventions. All raw files should end with raw.fif, raw_sss.fif, raw_tsss.fif, _meg.fif, _eeg.fif, _ieeg.fif, raw.fif.gz, raw_sss.fif.gz, raw_tsss.fif.gz, _meg.fif.gz, _eeg.fif.gz or _ieeg.fif.gz\n",
      "  raw = mne.io.read_raw_fif(fif_file, preload=True)\n",
      "c:\\Users\\chakr\\Anaconda3\\envs\\eeg_thesis\\lib\\site-packages\\pywt\\_functions.py:143: FutureWarning: Wavelets from the family cmor, without parameters specified in the name are deprecated. The name should takethe form cmorB-C where B and C are floats representing the bandwidth frequency and center frequency, respectively (example: cmor1.5-1.0).\n",
      "  wavelet = DiscreteContinuousWavelet(wavelet)\n",
      "c:\\Users\\chakr\\Anaconda3\\envs\\eeg_thesis\\lib\\site-packages\\pywt\\_cwt.py:117: FutureWarning: Wavelets from the family cmor, without parameters specified in the name are deprecated. The name should takethe form cmorB-C where B and C are floats representing the bandwidth frequency and center frequency, respectively (example: cmor1.5-1.0).\n",
      "  wavelet = DiscreteContinuousWavelet(wavelet)\n"
     ]
    },
    {
     "name": "stdout",
     "output_type": "stream",
     "text": [
      "Opening raw data file C:\\School\\EE_Y3\\Q4\\BAP\\eeg_thesis_cnn_repo\\data\\external\\interim\\S077R11_filtered.fif...\n",
      "Isotrak not found\n",
      "    Range : 0 ... 30749 =      0.000 ...   122.996 secs\n",
      "Ready.\n",
      "Reading 0 ... 30749  =      0.000 ...   122.996 secs...\n",
      "Used Annotations descriptions: ['T0', 'T1', 'T2']\n",
      "Not setting metadata\n",
      "15 matching events found\n",
      "No baseline correction applied\n",
      "0 projection items activated\n",
      "Using data from preloaded Raw for 15 events and 126 original time points ...\n",
      "0 bad epochs dropped\n"
     ]
    },
    {
     "name": "stderr",
     "output_type": "stream",
     "text": [
      "C:\\Users\\chakr\\AppData\\Local\\Temp\\ipykernel_13788\\3980180034.py:3: RuntimeWarning: This filename (C:\\School\\EE_Y3\\Q4\\BAP\\eeg_thesis_cnn_repo\\data\\external\\interim\\S077R11_filtered.fif) does not conform to MNE naming conventions. All raw files should end with raw.fif, raw_sss.fif, raw_tsss.fif, _meg.fif, _eeg.fif, _ieeg.fif, raw.fif.gz, raw_sss.fif.gz, raw_tsss.fif.gz, _meg.fif.gz, _eeg.fif.gz or _ieeg.fif.gz\n",
      "  raw = mne.io.read_raw_fif(fif_file, preload=True)\n",
      "c:\\Users\\chakr\\Anaconda3\\envs\\eeg_thesis\\lib\\site-packages\\pywt\\_functions.py:143: FutureWarning: Wavelets from the family cmor, without parameters specified in the name are deprecated. The name should takethe form cmorB-C where B and C are floats representing the bandwidth frequency and center frequency, respectively (example: cmor1.5-1.0).\n",
      "  wavelet = DiscreteContinuousWavelet(wavelet)\n",
      "c:\\Users\\chakr\\Anaconda3\\envs\\eeg_thesis\\lib\\site-packages\\pywt\\_cwt.py:117: FutureWarning: Wavelets from the family cmor, without parameters specified in the name are deprecated. The name should takethe form cmorB-C where B and C are floats representing the bandwidth frequency and center frequency, respectively (example: cmor1.5-1.0).\n",
      "  wavelet = DiscreteContinuousWavelet(wavelet)\n"
     ]
    },
    {
     "name": "stdout",
     "output_type": "stream",
     "text": [
      "Opening raw data file C:\\School\\EE_Y3\\Q4\\BAP\\eeg_thesis_cnn_repo\\data\\external\\interim\\S078R03_filtered.fif...\n",
      "Isotrak not found\n",
      "    Range : 0 ... 30749 =      0.000 ...   122.996 secs\n",
      "Ready.\n",
      "Reading 0 ... 30749  =      0.000 ...   122.996 secs...\n",
      "Used Annotations descriptions: ['T0', 'T1', 'T2']\n",
      "Not setting metadata\n",
      "15 matching events found\n",
      "No baseline correction applied\n",
      "0 projection items activated\n",
      "Using data from preloaded Raw for 15 events and 126 original time points ...\n",
      "0 bad epochs dropped\n"
     ]
    },
    {
     "name": "stderr",
     "output_type": "stream",
     "text": [
      "C:\\Users\\chakr\\AppData\\Local\\Temp\\ipykernel_13788\\3980180034.py:3: RuntimeWarning: This filename (C:\\School\\EE_Y3\\Q4\\BAP\\eeg_thesis_cnn_repo\\data\\external\\interim\\S078R03_filtered.fif) does not conform to MNE naming conventions. All raw files should end with raw.fif, raw_sss.fif, raw_tsss.fif, _meg.fif, _eeg.fif, _ieeg.fif, raw.fif.gz, raw_sss.fif.gz, raw_tsss.fif.gz, _meg.fif.gz, _eeg.fif.gz or _ieeg.fif.gz\n",
      "  raw = mne.io.read_raw_fif(fif_file, preload=True)\n",
      "c:\\Users\\chakr\\Anaconda3\\envs\\eeg_thesis\\lib\\site-packages\\pywt\\_functions.py:143: FutureWarning: Wavelets from the family cmor, without parameters specified in the name are deprecated. The name should takethe form cmorB-C where B and C are floats representing the bandwidth frequency and center frequency, respectively (example: cmor1.5-1.0).\n",
      "  wavelet = DiscreteContinuousWavelet(wavelet)\n",
      "c:\\Users\\chakr\\Anaconda3\\envs\\eeg_thesis\\lib\\site-packages\\pywt\\_cwt.py:117: FutureWarning: Wavelets from the family cmor, without parameters specified in the name are deprecated. The name should takethe form cmorB-C where B and C are floats representing the bandwidth frequency and center frequency, respectively (example: cmor1.5-1.0).\n",
      "  wavelet = DiscreteContinuousWavelet(wavelet)\n"
     ]
    },
    {
     "name": "stdout",
     "output_type": "stream",
     "text": [
      "Opening raw data file C:\\School\\EE_Y3\\Q4\\BAP\\eeg_thesis_cnn_repo\\data\\external\\interim\\S078R07_filtered.fif...\n",
      "Isotrak not found\n",
      "    Range : 0 ... 30749 =      0.000 ...   122.996 secs\n",
      "Ready.\n",
      "Reading 0 ... 30749  =      0.000 ...   122.996 secs...\n",
      "Used Annotations descriptions: ['T0', 'T1', 'T2']\n",
      "Not setting metadata\n",
      "15 matching events found\n",
      "No baseline correction applied\n",
      "0 projection items activated\n",
      "Using data from preloaded Raw for 15 events and 126 original time points ...\n",
      "0 bad epochs dropped\n"
     ]
    },
    {
     "name": "stderr",
     "output_type": "stream",
     "text": [
      "C:\\Users\\chakr\\AppData\\Local\\Temp\\ipykernel_13788\\3980180034.py:3: RuntimeWarning: This filename (C:\\School\\EE_Y3\\Q4\\BAP\\eeg_thesis_cnn_repo\\data\\external\\interim\\S078R07_filtered.fif) does not conform to MNE naming conventions. All raw files should end with raw.fif, raw_sss.fif, raw_tsss.fif, _meg.fif, _eeg.fif, _ieeg.fif, raw.fif.gz, raw_sss.fif.gz, raw_tsss.fif.gz, _meg.fif.gz, _eeg.fif.gz or _ieeg.fif.gz\n",
      "  raw = mne.io.read_raw_fif(fif_file, preload=True)\n",
      "c:\\Users\\chakr\\Anaconda3\\envs\\eeg_thesis\\lib\\site-packages\\pywt\\_functions.py:143: FutureWarning: Wavelets from the family cmor, without parameters specified in the name are deprecated. The name should takethe form cmorB-C where B and C are floats representing the bandwidth frequency and center frequency, respectively (example: cmor1.5-1.0).\n",
      "  wavelet = DiscreteContinuousWavelet(wavelet)\n",
      "c:\\Users\\chakr\\Anaconda3\\envs\\eeg_thesis\\lib\\site-packages\\pywt\\_cwt.py:117: FutureWarning: Wavelets from the family cmor, without parameters specified in the name are deprecated. The name should takethe form cmorB-C where B and C are floats representing the bandwidth frequency and center frequency, respectively (example: cmor1.5-1.0).\n",
      "  wavelet = DiscreteContinuousWavelet(wavelet)\n"
     ]
    },
    {
     "name": "stdout",
     "output_type": "stream",
     "text": [
      "Opening raw data file C:\\School\\EE_Y3\\Q4\\BAP\\eeg_thesis_cnn_repo\\data\\external\\interim\\S078R11_filtered.fif...\n",
      "Isotrak not found\n",
      "    Range : 0 ... 30749 =      0.000 ...   122.996 secs\n",
      "Ready.\n",
      "Reading 0 ... 30749  =      0.000 ...   122.996 secs...\n",
      "Used Annotations descriptions: ['T0', 'T1', 'T2']\n",
      "Not setting metadata\n",
      "15 matching events found\n",
      "No baseline correction applied\n",
      "0 projection items activated\n",
      "Using data from preloaded Raw for 15 events and 126 original time points ...\n",
      "0 bad epochs dropped\n"
     ]
    },
    {
     "name": "stderr",
     "output_type": "stream",
     "text": [
      "C:\\Users\\chakr\\AppData\\Local\\Temp\\ipykernel_13788\\3980180034.py:3: RuntimeWarning: This filename (C:\\School\\EE_Y3\\Q4\\BAP\\eeg_thesis_cnn_repo\\data\\external\\interim\\S078R11_filtered.fif) does not conform to MNE naming conventions. All raw files should end with raw.fif, raw_sss.fif, raw_tsss.fif, _meg.fif, _eeg.fif, _ieeg.fif, raw.fif.gz, raw_sss.fif.gz, raw_tsss.fif.gz, _meg.fif.gz, _eeg.fif.gz or _ieeg.fif.gz\n",
      "  raw = mne.io.read_raw_fif(fif_file, preload=True)\n",
      "c:\\Users\\chakr\\Anaconda3\\envs\\eeg_thesis\\lib\\site-packages\\pywt\\_functions.py:143: FutureWarning: Wavelets from the family cmor, without parameters specified in the name are deprecated. The name should takethe form cmorB-C where B and C are floats representing the bandwidth frequency and center frequency, respectively (example: cmor1.5-1.0).\n",
      "  wavelet = DiscreteContinuousWavelet(wavelet)\n",
      "c:\\Users\\chakr\\Anaconda3\\envs\\eeg_thesis\\lib\\site-packages\\pywt\\_cwt.py:117: FutureWarning: Wavelets from the family cmor, without parameters specified in the name are deprecated. The name should takethe form cmorB-C where B and C are floats representing the bandwidth frequency and center frequency, respectively (example: cmor1.5-1.0).\n",
      "  wavelet = DiscreteContinuousWavelet(wavelet)\n"
     ]
    },
    {
     "name": "stdout",
     "output_type": "stream",
     "text": [
      "Opening raw data file C:\\School\\EE_Y3\\Q4\\BAP\\eeg_thesis_cnn_repo\\data\\external\\interim\\S079R03_filtered.fif...\n",
      "Isotrak not found\n",
      "    Range : 0 ... 31249 =      0.000 ...   124.996 secs\n",
      "Ready.\n",
      "Reading 0 ... 31249  =      0.000 ...   124.996 secs...\n",
      "Used Annotations descriptions: ['T0', 'T1', 'T2']\n",
      "Not setting metadata\n",
      "15 matching events found\n",
      "No baseline correction applied\n",
      "0 projection items activated\n",
      "Using data from preloaded Raw for 15 events and 126 original time points ...\n",
      "0 bad epochs dropped\n"
     ]
    },
    {
     "name": "stderr",
     "output_type": "stream",
     "text": [
      "C:\\Users\\chakr\\AppData\\Local\\Temp\\ipykernel_13788\\3980180034.py:3: RuntimeWarning: This filename (C:\\School\\EE_Y3\\Q4\\BAP\\eeg_thesis_cnn_repo\\data\\external\\interim\\S079R03_filtered.fif) does not conform to MNE naming conventions. All raw files should end with raw.fif, raw_sss.fif, raw_tsss.fif, _meg.fif, _eeg.fif, _ieeg.fif, raw.fif.gz, raw_sss.fif.gz, raw_tsss.fif.gz, _meg.fif.gz, _eeg.fif.gz or _ieeg.fif.gz\n",
      "  raw = mne.io.read_raw_fif(fif_file, preload=True)\n",
      "c:\\Users\\chakr\\Anaconda3\\envs\\eeg_thesis\\lib\\site-packages\\pywt\\_functions.py:143: FutureWarning: Wavelets from the family cmor, without parameters specified in the name are deprecated. The name should takethe form cmorB-C where B and C are floats representing the bandwidth frequency and center frequency, respectively (example: cmor1.5-1.0).\n",
      "  wavelet = DiscreteContinuousWavelet(wavelet)\n",
      "c:\\Users\\chakr\\Anaconda3\\envs\\eeg_thesis\\lib\\site-packages\\pywt\\_cwt.py:117: FutureWarning: Wavelets from the family cmor, without parameters specified in the name are deprecated. The name should takethe form cmorB-C where B and C are floats representing the bandwidth frequency and center frequency, respectively (example: cmor1.5-1.0).\n",
      "  wavelet = DiscreteContinuousWavelet(wavelet)\n"
     ]
    },
    {
     "name": "stdout",
     "output_type": "stream",
     "text": [
      "Opening raw data file C:\\School\\EE_Y3\\Q4\\BAP\\eeg_thesis_cnn_repo\\data\\external\\interim\\S079R07_filtered.fif...\n",
      "Isotrak not found\n",
      "    Range : 0 ... 31249 =      0.000 ...   124.996 secs\n",
      "Ready.\n",
      "Reading 0 ... 31249  =      0.000 ...   124.996 secs...\n",
      "Used Annotations descriptions: ['T0', 'T1', 'T2']\n",
      "Not setting metadata\n",
      "15 matching events found\n",
      "No baseline correction applied\n",
      "0 projection items activated\n",
      "Using data from preloaded Raw for 15 events and 126 original time points ...\n",
      "0 bad epochs dropped\n"
     ]
    },
    {
     "name": "stderr",
     "output_type": "stream",
     "text": [
      "C:\\Users\\chakr\\AppData\\Local\\Temp\\ipykernel_13788\\3980180034.py:3: RuntimeWarning: This filename (C:\\School\\EE_Y3\\Q4\\BAP\\eeg_thesis_cnn_repo\\data\\external\\interim\\S079R07_filtered.fif) does not conform to MNE naming conventions. All raw files should end with raw.fif, raw_sss.fif, raw_tsss.fif, _meg.fif, _eeg.fif, _ieeg.fif, raw.fif.gz, raw_sss.fif.gz, raw_tsss.fif.gz, _meg.fif.gz, _eeg.fif.gz or _ieeg.fif.gz\n",
      "  raw = mne.io.read_raw_fif(fif_file, preload=True)\n",
      "c:\\Users\\chakr\\Anaconda3\\envs\\eeg_thesis\\lib\\site-packages\\pywt\\_functions.py:143: FutureWarning: Wavelets from the family cmor, without parameters specified in the name are deprecated. The name should takethe form cmorB-C where B and C are floats representing the bandwidth frequency and center frequency, respectively (example: cmor1.5-1.0).\n",
      "  wavelet = DiscreteContinuousWavelet(wavelet)\n",
      "c:\\Users\\chakr\\Anaconda3\\envs\\eeg_thesis\\lib\\site-packages\\pywt\\_cwt.py:117: FutureWarning: Wavelets from the family cmor, without parameters specified in the name are deprecated. The name should takethe form cmorB-C where B and C are floats representing the bandwidth frequency and center frequency, respectively (example: cmor1.5-1.0).\n",
      "  wavelet = DiscreteContinuousWavelet(wavelet)\n"
     ]
    },
    {
     "name": "stdout",
     "output_type": "stream",
     "text": [
      "Opening raw data file C:\\School\\EE_Y3\\Q4\\BAP\\eeg_thesis_cnn_repo\\data\\external\\interim\\S079R11_filtered.fif...\n",
      "Isotrak not found\n",
      "    Range : 0 ... 31249 =      0.000 ...   124.996 secs\n",
      "Ready.\n",
      "Reading 0 ... 31249  =      0.000 ...   124.996 secs...\n",
      "Used Annotations descriptions: ['T0', 'T1', 'T2']\n",
      "Not setting metadata\n",
      "15 matching events found\n",
      "No baseline correction applied\n",
      "0 projection items activated\n",
      "Using data from preloaded Raw for 15 events and 126 original time points ...\n",
      "0 bad epochs dropped\n"
     ]
    },
    {
     "name": "stderr",
     "output_type": "stream",
     "text": [
      "C:\\Users\\chakr\\AppData\\Local\\Temp\\ipykernel_13788\\3980180034.py:3: RuntimeWarning: This filename (C:\\School\\EE_Y3\\Q4\\BAP\\eeg_thesis_cnn_repo\\data\\external\\interim\\S079R11_filtered.fif) does not conform to MNE naming conventions. All raw files should end with raw.fif, raw_sss.fif, raw_tsss.fif, _meg.fif, _eeg.fif, _ieeg.fif, raw.fif.gz, raw_sss.fif.gz, raw_tsss.fif.gz, _meg.fif.gz, _eeg.fif.gz or _ieeg.fif.gz\n",
      "  raw = mne.io.read_raw_fif(fif_file, preload=True)\n",
      "c:\\Users\\chakr\\Anaconda3\\envs\\eeg_thesis\\lib\\site-packages\\pywt\\_functions.py:143: FutureWarning: Wavelets from the family cmor, without parameters specified in the name are deprecated. The name should takethe form cmorB-C where B and C are floats representing the bandwidth frequency and center frequency, respectively (example: cmor1.5-1.0).\n",
      "  wavelet = DiscreteContinuousWavelet(wavelet)\n",
      "c:\\Users\\chakr\\Anaconda3\\envs\\eeg_thesis\\lib\\site-packages\\pywt\\_cwt.py:117: FutureWarning: Wavelets from the family cmor, without parameters specified in the name are deprecated. The name should takethe form cmorB-C where B and C are floats representing the bandwidth frequency and center frequency, respectively (example: cmor1.5-1.0).\n",
      "  wavelet = DiscreteContinuousWavelet(wavelet)\n"
     ]
    },
    {
     "name": "stdout",
     "output_type": "stream",
     "text": [
      "Opening raw data file C:\\School\\EE_Y3\\Q4\\BAP\\eeg_thesis_cnn_repo\\data\\external\\interim\\S080R03_filtered.fif...\n",
      "Isotrak not found\n",
      "    Range : 0 ... 30749 =      0.000 ...   122.996 secs\n",
      "Ready.\n",
      "Reading 0 ... 30749  =      0.000 ...   122.996 secs...\n",
      "Used Annotations descriptions: ['T0', 'T1', 'T2']\n",
      "Not setting metadata\n",
      "15 matching events found\n",
      "No baseline correction applied\n",
      "0 projection items activated\n",
      "Using data from preloaded Raw for 15 events and 126 original time points ...\n",
      "0 bad epochs dropped\n"
     ]
    },
    {
     "name": "stderr",
     "output_type": "stream",
     "text": [
      "C:\\Users\\chakr\\AppData\\Local\\Temp\\ipykernel_13788\\3980180034.py:3: RuntimeWarning: This filename (C:\\School\\EE_Y3\\Q4\\BAP\\eeg_thesis_cnn_repo\\data\\external\\interim\\S080R03_filtered.fif) does not conform to MNE naming conventions. All raw files should end with raw.fif, raw_sss.fif, raw_tsss.fif, _meg.fif, _eeg.fif, _ieeg.fif, raw.fif.gz, raw_sss.fif.gz, raw_tsss.fif.gz, _meg.fif.gz, _eeg.fif.gz or _ieeg.fif.gz\n",
      "  raw = mne.io.read_raw_fif(fif_file, preload=True)\n",
      "c:\\Users\\chakr\\Anaconda3\\envs\\eeg_thesis\\lib\\site-packages\\pywt\\_functions.py:143: FutureWarning: Wavelets from the family cmor, without parameters specified in the name are deprecated. The name should takethe form cmorB-C where B and C are floats representing the bandwidth frequency and center frequency, respectively (example: cmor1.5-1.0).\n",
      "  wavelet = DiscreteContinuousWavelet(wavelet)\n",
      "c:\\Users\\chakr\\Anaconda3\\envs\\eeg_thesis\\lib\\site-packages\\pywt\\_cwt.py:117: FutureWarning: Wavelets from the family cmor, without parameters specified in the name are deprecated. The name should takethe form cmorB-C where B and C are floats representing the bandwidth frequency and center frequency, respectively (example: cmor1.5-1.0).\n",
      "  wavelet = DiscreteContinuousWavelet(wavelet)\n"
     ]
    },
    {
     "name": "stdout",
     "output_type": "stream",
     "text": [
      "Opening raw data file C:\\School\\EE_Y3\\Q4\\BAP\\eeg_thesis_cnn_repo\\data\\external\\interim\\S080R07_filtered.fif...\n",
      "Isotrak not found\n",
      "    Range : 0 ... 30749 =      0.000 ...   122.996 secs\n",
      "Ready.\n",
      "Reading 0 ... 30749  =      0.000 ...   122.996 secs...\n",
      "Used Annotations descriptions: ['T0', 'T1', 'T2']\n",
      "Not setting metadata\n",
      "15 matching events found\n",
      "No baseline correction applied\n",
      "0 projection items activated\n",
      "Using data from preloaded Raw for 15 events and 126 original time points ...\n",
      "0 bad epochs dropped\n"
     ]
    },
    {
     "name": "stderr",
     "output_type": "stream",
     "text": [
      "C:\\Users\\chakr\\AppData\\Local\\Temp\\ipykernel_13788\\3980180034.py:3: RuntimeWarning: This filename (C:\\School\\EE_Y3\\Q4\\BAP\\eeg_thesis_cnn_repo\\data\\external\\interim\\S080R07_filtered.fif) does not conform to MNE naming conventions. All raw files should end with raw.fif, raw_sss.fif, raw_tsss.fif, _meg.fif, _eeg.fif, _ieeg.fif, raw.fif.gz, raw_sss.fif.gz, raw_tsss.fif.gz, _meg.fif.gz, _eeg.fif.gz or _ieeg.fif.gz\n",
      "  raw = mne.io.read_raw_fif(fif_file, preload=True)\n",
      "c:\\Users\\chakr\\Anaconda3\\envs\\eeg_thesis\\lib\\site-packages\\pywt\\_functions.py:143: FutureWarning: Wavelets from the family cmor, without parameters specified in the name are deprecated. The name should takethe form cmorB-C where B and C are floats representing the bandwidth frequency and center frequency, respectively (example: cmor1.5-1.0).\n",
      "  wavelet = DiscreteContinuousWavelet(wavelet)\n",
      "c:\\Users\\chakr\\Anaconda3\\envs\\eeg_thesis\\lib\\site-packages\\pywt\\_cwt.py:117: FutureWarning: Wavelets from the family cmor, without parameters specified in the name are deprecated. The name should takethe form cmorB-C where B and C are floats representing the bandwidth frequency and center frequency, respectively (example: cmor1.5-1.0).\n",
      "  wavelet = DiscreteContinuousWavelet(wavelet)\n"
     ]
    },
    {
     "name": "stdout",
     "output_type": "stream",
     "text": [
      "Opening raw data file C:\\School\\EE_Y3\\Q4\\BAP\\eeg_thesis_cnn_repo\\data\\external\\interim\\S080R11_filtered.fif...\n",
      "Isotrak not found\n",
      "    Range : 0 ... 30749 =      0.000 ...   122.996 secs\n",
      "Ready.\n",
      "Reading 0 ... 30749  =      0.000 ...   122.996 secs...\n",
      "Used Annotations descriptions: ['T0', 'T1', 'T2']\n",
      "Not setting metadata\n",
      "15 matching events found\n",
      "No baseline correction applied\n",
      "0 projection items activated\n",
      "Using data from preloaded Raw for 15 events and 126 original time points ...\n",
      "0 bad epochs dropped\n"
     ]
    },
    {
     "name": "stderr",
     "output_type": "stream",
     "text": [
      "C:\\Users\\chakr\\AppData\\Local\\Temp\\ipykernel_13788\\3980180034.py:3: RuntimeWarning: This filename (C:\\School\\EE_Y3\\Q4\\BAP\\eeg_thesis_cnn_repo\\data\\external\\interim\\S080R11_filtered.fif) does not conform to MNE naming conventions. All raw files should end with raw.fif, raw_sss.fif, raw_tsss.fif, _meg.fif, _eeg.fif, _ieeg.fif, raw.fif.gz, raw_sss.fif.gz, raw_tsss.fif.gz, _meg.fif.gz, _eeg.fif.gz or _ieeg.fif.gz\n",
      "  raw = mne.io.read_raw_fif(fif_file, preload=True)\n",
      "c:\\Users\\chakr\\Anaconda3\\envs\\eeg_thesis\\lib\\site-packages\\pywt\\_functions.py:143: FutureWarning: Wavelets from the family cmor, without parameters specified in the name are deprecated. The name should takethe form cmorB-C where B and C are floats representing the bandwidth frequency and center frequency, respectively (example: cmor1.5-1.0).\n",
      "  wavelet = DiscreteContinuousWavelet(wavelet)\n",
      "c:\\Users\\chakr\\Anaconda3\\envs\\eeg_thesis\\lib\\site-packages\\pywt\\_cwt.py:117: FutureWarning: Wavelets from the family cmor, without parameters specified in the name are deprecated. The name should takethe form cmorB-C where B and C are floats representing the bandwidth frequency and center frequency, respectively (example: cmor1.5-1.0).\n",
      "  wavelet = DiscreteContinuousWavelet(wavelet)\n"
     ]
    },
    {
     "name": "stdout",
     "output_type": "stream",
     "text": [
      "Opening raw data file C:\\School\\EE_Y3\\Q4\\BAP\\eeg_thesis_cnn_repo\\data\\external\\interim\\S081R03_filtered.fif...\n",
      "Isotrak not found\n",
      "    Range : 0 ... 30749 =      0.000 ...   122.996 secs\n",
      "Ready.\n",
      "Reading 0 ... 30749  =      0.000 ...   122.996 secs...\n",
      "Used Annotations descriptions: ['T0', 'T1', 'T2']\n",
      "Not setting metadata\n",
      "15 matching events found\n",
      "No baseline correction applied\n",
      "0 projection items activated\n",
      "Using data from preloaded Raw for 15 events and 126 original time points ...\n",
      "0 bad epochs dropped\n"
     ]
    },
    {
     "name": "stderr",
     "output_type": "stream",
     "text": [
      "C:\\Users\\chakr\\AppData\\Local\\Temp\\ipykernel_13788\\3980180034.py:3: RuntimeWarning: This filename (C:\\School\\EE_Y3\\Q4\\BAP\\eeg_thesis_cnn_repo\\data\\external\\interim\\S081R03_filtered.fif) does not conform to MNE naming conventions. All raw files should end with raw.fif, raw_sss.fif, raw_tsss.fif, _meg.fif, _eeg.fif, _ieeg.fif, raw.fif.gz, raw_sss.fif.gz, raw_tsss.fif.gz, _meg.fif.gz, _eeg.fif.gz or _ieeg.fif.gz\n",
      "  raw = mne.io.read_raw_fif(fif_file, preload=True)\n",
      "c:\\Users\\chakr\\Anaconda3\\envs\\eeg_thesis\\lib\\site-packages\\pywt\\_functions.py:143: FutureWarning: Wavelets from the family cmor, without parameters specified in the name are deprecated. The name should takethe form cmorB-C where B and C are floats representing the bandwidth frequency and center frequency, respectively (example: cmor1.5-1.0).\n",
      "  wavelet = DiscreteContinuousWavelet(wavelet)\n",
      "c:\\Users\\chakr\\Anaconda3\\envs\\eeg_thesis\\lib\\site-packages\\pywt\\_cwt.py:117: FutureWarning: Wavelets from the family cmor, without parameters specified in the name are deprecated. The name should takethe form cmorB-C where B and C are floats representing the bandwidth frequency and center frequency, respectively (example: cmor1.5-1.0).\n",
      "  wavelet = DiscreteContinuousWavelet(wavelet)\n"
     ]
    },
    {
     "name": "stdout",
     "output_type": "stream",
     "text": [
      "Opening raw data file C:\\School\\EE_Y3\\Q4\\BAP\\eeg_thesis_cnn_repo\\data\\external\\interim\\S081R07_filtered.fif...\n",
      "Isotrak not found\n",
      "    Range : 0 ... 30749 =      0.000 ...   122.996 secs\n",
      "Ready.\n",
      "Reading 0 ... 30749  =      0.000 ...   122.996 secs...\n",
      "Used Annotations descriptions: ['T0', 'T1', 'T2']\n",
      "Not setting metadata\n",
      "15 matching events found\n",
      "No baseline correction applied\n",
      "0 projection items activated\n",
      "Using data from preloaded Raw for 15 events and 126 original time points ...\n",
      "0 bad epochs dropped\n"
     ]
    },
    {
     "name": "stderr",
     "output_type": "stream",
     "text": [
      "C:\\Users\\chakr\\AppData\\Local\\Temp\\ipykernel_13788\\3980180034.py:3: RuntimeWarning: This filename (C:\\School\\EE_Y3\\Q4\\BAP\\eeg_thesis_cnn_repo\\data\\external\\interim\\S081R07_filtered.fif) does not conform to MNE naming conventions. All raw files should end with raw.fif, raw_sss.fif, raw_tsss.fif, _meg.fif, _eeg.fif, _ieeg.fif, raw.fif.gz, raw_sss.fif.gz, raw_tsss.fif.gz, _meg.fif.gz, _eeg.fif.gz or _ieeg.fif.gz\n",
      "  raw = mne.io.read_raw_fif(fif_file, preload=True)\n",
      "c:\\Users\\chakr\\Anaconda3\\envs\\eeg_thesis\\lib\\site-packages\\pywt\\_functions.py:143: FutureWarning: Wavelets from the family cmor, without parameters specified in the name are deprecated. The name should takethe form cmorB-C where B and C are floats representing the bandwidth frequency and center frequency, respectively (example: cmor1.5-1.0).\n",
      "  wavelet = DiscreteContinuousWavelet(wavelet)\n",
      "c:\\Users\\chakr\\Anaconda3\\envs\\eeg_thesis\\lib\\site-packages\\pywt\\_cwt.py:117: FutureWarning: Wavelets from the family cmor, without parameters specified in the name are deprecated. The name should takethe form cmorB-C where B and C are floats representing the bandwidth frequency and center frequency, respectively (example: cmor1.5-1.0).\n",
      "  wavelet = DiscreteContinuousWavelet(wavelet)\n"
     ]
    },
    {
     "name": "stdout",
     "output_type": "stream",
     "text": [
      "Opening raw data file C:\\School\\EE_Y3\\Q4\\BAP\\eeg_thesis_cnn_repo\\data\\external\\interim\\S081R11_filtered.fif...\n",
      "Isotrak not found\n",
      "    Range : 0 ... 30749 =      0.000 ...   122.996 secs\n",
      "Ready.\n",
      "Reading 0 ... 30749  =      0.000 ...   122.996 secs...\n",
      "Used Annotations descriptions: ['T0', 'T1', 'T2']\n",
      "Not setting metadata\n",
      "15 matching events found\n",
      "No baseline correction applied\n",
      "0 projection items activated\n",
      "Using data from preloaded Raw for 15 events and 126 original time points ...\n",
      "0 bad epochs dropped\n"
     ]
    },
    {
     "name": "stderr",
     "output_type": "stream",
     "text": [
      "C:\\Users\\chakr\\AppData\\Local\\Temp\\ipykernel_13788\\3980180034.py:3: RuntimeWarning: This filename (C:\\School\\EE_Y3\\Q4\\BAP\\eeg_thesis_cnn_repo\\data\\external\\interim\\S081R11_filtered.fif) does not conform to MNE naming conventions. All raw files should end with raw.fif, raw_sss.fif, raw_tsss.fif, _meg.fif, _eeg.fif, _ieeg.fif, raw.fif.gz, raw_sss.fif.gz, raw_tsss.fif.gz, _meg.fif.gz, _eeg.fif.gz or _ieeg.fif.gz\n",
      "  raw = mne.io.read_raw_fif(fif_file, preload=True)\n",
      "c:\\Users\\chakr\\Anaconda3\\envs\\eeg_thesis\\lib\\site-packages\\pywt\\_functions.py:143: FutureWarning: Wavelets from the family cmor, without parameters specified in the name are deprecated. The name should takethe form cmorB-C where B and C are floats representing the bandwidth frequency and center frequency, respectively (example: cmor1.5-1.0).\n",
      "  wavelet = DiscreteContinuousWavelet(wavelet)\n",
      "c:\\Users\\chakr\\Anaconda3\\envs\\eeg_thesis\\lib\\site-packages\\pywt\\_cwt.py:117: FutureWarning: Wavelets from the family cmor, without parameters specified in the name are deprecated. The name should takethe form cmorB-C where B and C are floats representing the bandwidth frequency and center frequency, respectively (example: cmor1.5-1.0).\n",
      "  wavelet = DiscreteContinuousWavelet(wavelet)\n"
     ]
    },
    {
     "name": "stdout",
     "output_type": "stream",
     "text": [
      "Opening raw data file C:\\School\\EE_Y3\\Q4\\BAP\\eeg_thesis_cnn_repo\\data\\external\\interim\\S082R03_filtered.fif...\n",
      "Isotrak not found\n",
      "    Range : 0 ... 30749 =      0.000 ...   122.996 secs\n",
      "Ready.\n",
      "Reading 0 ... 30749  =      0.000 ...   122.996 secs...\n",
      "Used Annotations descriptions: ['T0', 'T1', 'T2']\n",
      "Not setting metadata\n",
      "15 matching events found\n",
      "No baseline correction applied\n",
      "0 projection items activated\n",
      "Using data from preloaded Raw for 15 events and 126 original time points ...\n",
      "0 bad epochs dropped\n"
     ]
    },
    {
     "name": "stderr",
     "output_type": "stream",
     "text": [
      "C:\\Users\\chakr\\AppData\\Local\\Temp\\ipykernel_13788\\3980180034.py:3: RuntimeWarning: This filename (C:\\School\\EE_Y3\\Q4\\BAP\\eeg_thesis_cnn_repo\\data\\external\\interim\\S082R03_filtered.fif) does not conform to MNE naming conventions. All raw files should end with raw.fif, raw_sss.fif, raw_tsss.fif, _meg.fif, _eeg.fif, _ieeg.fif, raw.fif.gz, raw_sss.fif.gz, raw_tsss.fif.gz, _meg.fif.gz, _eeg.fif.gz or _ieeg.fif.gz\n",
      "  raw = mne.io.read_raw_fif(fif_file, preload=True)\n",
      "c:\\Users\\chakr\\Anaconda3\\envs\\eeg_thesis\\lib\\site-packages\\pywt\\_functions.py:143: FutureWarning: Wavelets from the family cmor, without parameters specified in the name are deprecated. The name should takethe form cmorB-C where B and C are floats representing the bandwidth frequency and center frequency, respectively (example: cmor1.5-1.0).\n",
      "  wavelet = DiscreteContinuousWavelet(wavelet)\n",
      "c:\\Users\\chakr\\Anaconda3\\envs\\eeg_thesis\\lib\\site-packages\\pywt\\_cwt.py:117: FutureWarning: Wavelets from the family cmor, without parameters specified in the name are deprecated. The name should takethe form cmorB-C where B and C are floats representing the bandwidth frequency and center frequency, respectively (example: cmor1.5-1.0).\n",
      "  wavelet = DiscreteContinuousWavelet(wavelet)\n"
     ]
    },
    {
     "name": "stdout",
     "output_type": "stream",
     "text": [
      "Opening raw data file C:\\School\\EE_Y3\\Q4\\BAP\\eeg_thesis_cnn_repo\\data\\external\\interim\\S082R07_filtered.fif...\n",
      "Isotrak not found\n",
      "    Range : 0 ... 30749 =      0.000 ...   122.996 secs\n",
      "Ready.\n",
      "Reading 0 ... 30749  =      0.000 ...   122.996 secs...\n",
      "Used Annotations descriptions: ['T0', 'T1', 'T2']\n",
      "Not setting metadata\n",
      "15 matching events found\n",
      "No baseline correction applied\n",
      "0 projection items activated\n",
      "Using data from preloaded Raw for 15 events and 126 original time points ...\n",
      "0 bad epochs dropped\n"
     ]
    },
    {
     "name": "stderr",
     "output_type": "stream",
     "text": [
      "C:\\Users\\chakr\\AppData\\Local\\Temp\\ipykernel_13788\\3980180034.py:3: RuntimeWarning: This filename (C:\\School\\EE_Y3\\Q4\\BAP\\eeg_thesis_cnn_repo\\data\\external\\interim\\S082R07_filtered.fif) does not conform to MNE naming conventions. All raw files should end with raw.fif, raw_sss.fif, raw_tsss.fif, _meg.fif, _eeg.fif, _ieeg.fif, raw.fif.gz, raw_sss.fif.gz, raw_tsss.fif.gz, _meg.fif.gz, _eeg.fif.gz or _ieeg.fif.gz\n",
      "  raw = mne.io.read_raw_fif(fif_file, preload=True)\n",
      "c:\\Users\\chakr\\Anaconda3\\envs\\eeg_thesis\\lib\\site-packages\\pywt\\_functions.py:143: FutureWarning: Wavelets from the family cmor, without parameters specified in the name are deprecated. The name should takethe form cmorB-C where B and C are floats representing the bandwidth frequency and center frequency, respectively (example: cmor1.5-1.0).\n",
      "  wavelet = DiscreteContinuousWavelet(wavelet)\n",
      "c:\\Users\\chakr\\Anaconda3\\envs\\eeg_thesis\\lib\\site-packages\\pywt\\_cwt.py:117: FutureWarning: Wavelets from the family cmor, without parameters specified in the name are deprecated. The name should takethe form cmorB-C where B and C are floats representing the bandwidth frequency and center frequency, respectively (example: cmor1.5-1.0).\n",
      "  wavelet = DiscreteContinuousWavelet(wavelet)\n"
     ]
    },
    {
     "name": "stdout",
     "output_type": "stream",
     "text": [
      "Opening raw data file C:\\School\\EE_Y3\\Q4\\BAP\\eeg_thesis_cnn_repo\\data\\external\\interim\\S082R11_filtered.fif...\n",
      "Isotrak not found\n",
      "    Range : 0 ... 30749 =      0.000 ...   122.996 secs\n",
      "Ready.\n",
      "Reading 0 ... 30749  =      0.000 ...   122.996 secs...\n",
      "Used Annotations descriptions: ['T0', 'T1', 'T2']\n",
      "Not setting metadata\n",
      "15 matching events found\n",
      "No baseline correction applied\n",
      "0 projection items activated\n",
      "Using data from preloaded Raw for 15 events and 126 original time points ...\n",
      "0 bad epochs dropped\n"
     ]
    },
    {
     "name": "stderr",
     "output_type": "stream",
     "text": [
      "C:\\Users\\chakr\\AppData\\Local\\Temp\\ipykernel_13788\\3980180034.py:3: RuntimeWarning: This filename (C:\\School\\EE_Y3\\Q4\\BAP\\eeg_thesis_cnn_repo\\data\\external\\interim\\S082R11_filtered.fif) does not conform to MNE naming conventions. All raw files should end with raw.fif, raw_sss.fif, raw_tsss.fif, _meg.fif, _eeg.fif, _ieeg.fif, raw.fif.gz, raw_sss.fif.gz, raw_tsss.fif.gz, _meg.fif.gz, _eeg.fif.gz or _ieeg.fif.gz\n",
      "  raw = mne.io.read_raw_fif(fif_file, preload=True)\n",
      "c:\\Users\\chakr\\Anaconda3\\envs\\eeg_thesis\\lib\\site-packages\\pywt\\_functions.py:143: FutureWarning: Wavelets from the family cmor, without parameters specified in the name are deprecated. The name should takethe form cmorB-C where B and C are floats representing the bandwidth frequency and center frequency, respectively (example: cmor1.5-1.0).\n",
      "  wavelet = DiscreteContinuousWavelet(wavelet)\n",
      "c:\\Users\\chakr\\Anaconda3\\envs\\eeg_thesis\\lib\\site-packages\\pywt\\_cwt.py:117: FutureWarning: Wavelets from the family cmor, without parameters specified in the name are deprecated. The name should takethe form cmorB-C where B and C are floats representing the bandwidth frequency and center frequency, respectively (example: cmor1.5-1.0).\n",
      "  wavelet = DiscreteContinuousWavelet(wavelet)\n"
     ]
    },
    {
     "name": "stdout",
     "output_type": "stream",
     "text": [
      "Opening raw data file C:\\School\\EE_Y3\\Q4\\BAP\\eeg_thesis_cnn_repo\\data\\external\\interim\\S083R03_filtered.fif...\n",
      "Isotrak not found\n",
      "    Range : 0 ... 31249 =      0.000 ...   124.996 secs\n",
      "Ready.\n",
      "Reading 0 ... 31249  =      0.000 ...   124.996 secs...\n",
      "Used Annotations descriptions: ['T0', 'T1', 'T2']\n",
      "Not setting metadata\n",
      "15 matching events found\n",
      "No baseline correction applied\n",
      "0 projection items activated\n",
      "Using data from preloaded Raw for 15 events and 126 original time points ...\n",
      "0 bad epochs dropped\n"
     ]
    },
    {
     "name": "stderr",
     "output_type": "stream",
     "text": [
      "C:\\Users\\chakr\\AppData\\Local\\Temp\\ipykernel_13788\\3980180034.py:3: RuntimeWarning: This filename (C:\\School\\EE_Y3\\Q4\\BAP\\eeg_thesis_cnn_repo\\data\\external\\interim\\S083R03_filtered.fif) does not conform to MNE naming conventions. All raw files should end with raw.fif, raw_sss.fif, raw_tsss.fif, _meg.fif, _eeg.fif, _ieeg.fif, raw.fif.gz, raw_sss.fif.gz, raw_tsss.fif.gz, _meg.fif.gz, _eeg.fif.gz or _ieeg.fif.gz\n",
      "  raw = mne.io.read_raw_fif(fif_file, preload=True)\n",
      "c:\\Users\\chakr\\Anaconda3\\envs\\eeg_thesis\\lib\\site-packages\\pywt\\_functions.py:143: FutureWarning: Wavelets from the family cmor, without parameters specified in the name are deprecated. The name should takethe form cmorB-C where B and C are floats representing the bandwidth frequency and center frequency, respectively (example: cmor1.5-1.0).\n",
      "  wavelet = DiscreteContinuousWavelet(wavelet)\n",
      "c:\\Users\\chakr\\Anaconda3\\envs\\eeg_thesis\\lib\\site-packages\\pywt\\_cwt.py:117: FutureWarning: Wavelets from the family cmor, without parameters specified in the name are deprecated. The name should takethe form cmorB-C where B and C are floats representing the bandwidth frequency and center frequency, respectively (example: cmor1.5-1.0).\n",
      "  wavelet = DiscreteContinuousWavelet(wavelet)\n"
     ]
    },
    {
     "name": "stdout",
     "output_type": "stream",
     "text": [
      "Opening raw data file C:\\School\\EE_Y3\\Q4\\BAP\\eeg_thesis_cnn_repo\\data\\external\\interim\\S083R07_filtered.fif...\n",
      "Isotrak not found\n",
      "    Range : 0 ... 31249 =      0.000 ...   124.996 secs\n",
      "Ready.\n",
      "Reading 0 ... 31249  =      0.000 ...   124.996 secs...\n",
      "Used Annotations descriptions: ['T0', 'T1', 'T2']\n",
      "Not setting metadata\n",
      "15 matching events found\n",
      "No baseline correction applied\n",
      "0 projection items activated\n",
      "Using data from preloaded Raw for 15 events and 126 original time points ...\n",
      "0 bad epochs dropped\n"
     ]
    },
    {
     "name": "stderr",
     "output_type": "stream",
     "text": [
      "C:\\Users\\chakr\\AppData\\Local\\Temp\\ipykernel_13788\\3980180034.py:3: RuntimeWarning: This filename (C:\\School\\EE_Y3\\Q4\\BAP\\eeg_thesis_cnn_repo\\data\\external\\interim\\S083R07_filtered.fif) does not conform to MNE naming conventions. All raw files should end with raw.fif, raw_sss.fif, raw_tsss.fif, _meg.fif, _eeg.fif, _ieeg.fif, raw.fif.gz, raw_sss.fif.gz, raw_tsss.fif.gz, _meg.fif.gz, _eeg.fif.gz or _ieeg.fif.gz\n",
      "  raw = mne.io.read_raw_fif(fif_file, preload=True)\n",
      "c:\\Users\\chakr\\Anaconda3\\envs\\eeg_thesis\\lib\\site-packages\\pywt\\_functions.py:143: FutureWarning: Wavelets from the family cmor, without parameters specified in the name are deprecated. The name should takethe form cmorB-C where B and C are floats representing the bandwidth frequency and center frequency, respectively (example: cmor1.5-1.0).\n",
      "  wavelet = DiscreteContinuousWavelet(wavelet)\n",
      "c:\\Users\\chakr\\Anaconda3\\envs\\eeg_thesis\\lib\\site-packages\\pywt\\_cwt.py:117: FutureWarning: Wavelets from the family cmor, without parameters specified in the name are deprecated. The name should takethe form cmorB-C where B and C are floats representing the bandwidth frequency and center frequency, respectively (example: cmor1.5-1.0).\n",
      "  wavelet = DiscreteContinuousWavelet(wavelet)\n"
     ]
    },
    {
     "name": "stdout",
     "output_type": "stream",
     "text": [
      "Opening raw data file C:\\School\\EE_Y3\\Q4\\BAP\\eeg_thesis_cnn_repo\\data\\external\\interim\\S083R11_filtered.fif...\n",
      "Isotrak not found\n",
      "    Range : 0 ... 31249 =      0.000 ...   124.996 secs\n",
      "Ready.\n",
      "Reading 0 ... 31249  =      0.000 ...   124.996 secs...\n",
      "Used Annotations descriptions: ['T0', 'T1', 'T2']\n",
      "Not setting metadata\n",
      "15 matching events found\n",
      "No baseline correction applied\n",
      "0 projection items activated\n",
      "Using data from preloaded Raw for 15 events and 126 original time points ...\n",
      "0 bad epochs dropped\n"
     ]
    },
    {
     "name": "stderr",
     "output_type": "stream",
     "text": [
      "C:\\Users\\chakr\\AppData\\Local\\Temp\\ipykernel_13788\\3980180034.py:3: RuntimeWarning: This filename (C:\\School\\EE_Y3\\Q4\\BAP\\eeg_thesis_cnn_repo\\data\\external\\interim\\S083R11_filtered.fif) does not conform to MNE naming conventions. All raw files should end with raw.fif, raw_sss.fif, raw_tsss.fif, _meg.fif, _eeg.fif, _ieeg.fif, raw.fif.gz, raw_sss.fif.gz, raw_tsss.fif.gz, _meg.fif.gz, _eeg.fif.gz or _ieeg.fif.gz\n",
      "  raw = mne.io.read_raw_fif(fif_file, preload=True)\n",
      "c:\\Users\\chakr\\Anaconda3\\envs\\eeg_thesis\\lib\\site-packages\\pywt\\_functions.py:143: FutureWarning: Wavelets from the family cmor, without parameters specified in the name are deprecated. The name should takethe form cmorB-C where B and C are floats representing the bandwidth frequency and center frequency, respectively (example: cmor1.5-1.0).\n",
      "  wavelet = DiscreteContinuousWavelet(wavelet)\n",
      "c:\\Users\\chakr\\Anaconda3\\envs\\eeg_thesis\\lib\\site-packages\\pywt\\_cwt.py:117: FutureWarning: Wavelets from the family cmor, without parameters specified in the name are deprecated. The name should takethe form cmorB-C where B and C are floats representing the bandwidth frequency and center frequency, respectively (example: cmor1.5-1.0).\n",
      "  wavelet = DiscreteContinuousWavelet(wavelet)\n"
     ]
    },
    {
     "name": "stdout",
     "output_type": "stream",
     "text": [
      "Opening raw data file C:\\School\\EE_Y3\\Q4\\BAP\\eeg_thesis_cnn_repo\\data\\external\\interim\\S084R03_filtered.fif...\n",
      "Isotrak not found\n",
      "    Range : 0 ... 30749 =      0.000 ...   122.996 secs\n",
      "Ready.\n",
      "Reading 0 ... 30749  =      0.000 ...   122.996 secs...\n",
      "Used Annotations descriptions: ['T0', 'T1', 'T2']\n",
      "Not setting metadata\n",
      "15 matching events found\n",
      "No baseline correction applied\n",
      "0 projection items activated\n",
      "Using data from preloaded Raw for 15 events and 126 original time points ...\n",
      "0 bad epochs dropped\n"
     ]
    },
    {
     "name": "stderr",
     "output_type": "stream",
     "text": [
      "C:\\Users\\chakr\\AppData\\Local\\Temp\\ipykernel_13788\\3980180034.py:3: RuntimeWarning: This filename (C:\\School\\EE_Y3\\Q4\\BAP\\eeg_thesis_cnn_repo\\data\\external\\interim\\S084R03_filtered.fif) does not conform to MNE naming conventions. All raw files should end with raw.fif, raw_sss.fif, raw_tsss.fif, _meg.fif, _eeg.fif, _ieeg.fif, raw.fif.gz, raw_sss.fif.gz, raw_tsss.fif.gz, _meg.fif.gz, _eeg.fif.gz or _ieeg.fif.gz\n",
      "  raw = mne.io.read_raw_fif(fif_file, preload=True)\n",
      "c:\\Users\\chakr\\Anaconda3\\envs\\eeg_thesis\\lib\\site-packages\\pywt\\_functions.py:143: FutureWarning: Wavelets from the family cmor, without parameters specified in the name are deprecated. The name should takethe form cmorB-C where B and C are floats representing the bandwidth frequency and center frequency, respectively (example: cmor1.5-1.0).\n",
      "  wavelet = DiscreteContinuousWavelet(wavelet)\n",
      "c:\\Users\\chakr\\Anaconda3\\envs\\eeg_thesis\\lib\\site-packages\\pywt\\_cwt.py:117: FutureWarning: Wavelets from the family cmor, without parameters specified in the name are deprecated. The name should takethe form cmorB-C where B and C are floats representing the bandwidth frequency and center frequency, respectively (example: cmor1.5-1.0).\n",
      "  wavelet = DiscreteContinuousWavelet(wavelet)\n"
     ]
    },
    {
     "name": "stdout",
     "output_type": "stream",
     "text": [
      "Opening raw data file C:\\School\\EE_Y3\\Q4\\BAP\\eeg_thesis_cnn_repo\\data\\external\\interim\\S084R07_filtered.fif...\n",
      "Isotrak not found\n",
      "    Range : 0 ... 30749 =      0.000 ...   122.996 secs\n",
      "Ready.\n",
      "Reading 0 ... 30749  =      0.000 ...   122.996 secs...\n",
      "Used Annotations descriptions: ['T0', 'T1', 'T2']\n",
      "Not setting metadata\n",
      "15 matching events found\n",
      "No baseline correction applied\n",
      "0 projection items activated\n",
      "Using data from preloaded Raw for 15 events and 126 original time points ...\n",
      "0 bad epochs dropped\n"
     ]
    },
    {
     "name": "stderr",
     "output_type": "stream",
     "text": [
      "C:\\Users\\chakr\\AppData\\Local\\Temp\\ipykernel_13788\\3980180034.py:3: RuntimeWarning: This filename (C:\\School\\EE_Y3\\Q4\\BAP\\eeg_thesis_cnn_repo\\data\\external\\interim\\S084R07_filtered.fif) does not conform to MNE naming conventions. All raw files should end with raw.fif, raw_sss.fif, raw_tsss.fif, _meg.fif, _eeg.fif, _ieeg.fif, raw.fif.gz, raw_sss.fif.gz, raw_tsss.fif.gz, _meg.fif.gz, _eeg.fif.gz or _ieeg.fif.gz\n",
      "  raw = mne.io.read_raw_fif(fif_file, preload=True)\n",
      "c:\\Users\\chakr\\Anaconda3\\envs\\eeg_thesis\\lib\\site-packages\\pywt\\_functions.py:143: FutureWarning: Wavelets from the family cmor, without parameters specified in the name are deprecated. The name should takethe form cmorB-C where B and C are floats representing the bandwidth frequency and center frequency, respectively (example: cmor1.5-1.0).\n",
      "  wavelet = DiscreteContinuousWavelet(wavelet)\n",
      "c:\\Users\\chakr\\Anaconda3\\envs\\eeg_thesis\\lib\\site-packages\\pywt\\_cwt.py:117: FutureWarning: Wavelets from the family cmor, without parameters specified in the name are deprecated. The name should takethe form cmorB-C where B and C are floats representing the bandwidth frequency and center frequency, respectively (example: cmor1.5-1.0).\n",
      "  wavelet = DiscreteContinuousWavelet(wavelet)\n"
     ]
    },
    {
     "name": "stdout",
     "output_type": "stream",
     "text": [
      "Opening raw data file C:\\School\\EE_Y3\\Q4\\BAP\\eeg_thesis_cnn_repo\\data\\external\\interim\\S084R11_filtered.fif...\n",
      "Isotrak not found\n",
      "    Range : 0 ... 30749 =      0.000 ...   122.996 secs\n",
      "Ready.\n",
      "Reading 0 ... 30749  =      0.000 ...   122.996 secs...\n",
      "Used Annotations descriptions: ['T0', 'T1', 'T2']\n",
      "Not setting metadata\n",
      "15 matching events found\n",
      "No baseline correction applied\n",
      "0 projection items activated\n",
      "Using data from preloaded Raw for 15 events and 126 original time points ...\n",
      "0 bad epochs dropped\n"
     ]
    },
    {
     "name": "stderr",
     "output_type": "stream",
     "text": [
      "C:\\Users\\chakr\\AppData\\Local\\Temp\\ipykernel_13788\\3980180034.py:3: RuntimeWarning: This filename (C:\\School\\EE_Y3\\Q4\\BAP\\eeg_thesis_cnn_repo\\data\\external\\interim\\S084R11_filtered.fif) does not conform to MNE naming conventions. All raw files should end with raw.fif, raw_sss.fif, raw_tsss.fif, _meg.fif, _eeg.fif, _ieeg.fif, raw.fif.gz, raw_sss.fif.gz, raw_tsss.fif.gz, _meg.fif.gz, _eeg.fif.gz or _ieeg.fif.gz\n",
      "  raw = mne.io.read_raw_fif(fif_file, preload=True)\n",
      "c:\\Users\\chakr\\Anaconda3\\envs\\eeg_thesis\\lib\\site-packages\\pywt\\_functions.py:143: FutureWarning: Wavelets from the family cmor, without parameters specified in the name are deprecated. The name should takethe form cmorB-C where B and C are floats representing the bandwidth frequency and center frequency, respectively (example: cmor1.5-1.0).\n",
      "  wavelet = DiscreteContinuousWavelet(wavelet)\n",
      "c:\\Users\\chakr\\Anaconda3\\envs\\eeg_thesis\\lib\\site-packages\\pywt\\_cwt.py:117: FutureWarning: Wavelets from the family cmor, without parameters specified in the name are deprecated. The name should takethe form cmorB-C where B and C are floats representing the bandwidth frequency and center frequency, respectively (example: cmor1.5-1.0).\n",
      "  wavelet = DiscreteContinuousWavelet(wavelet)\n"
     ]
    },
    {
     "name": "stdout",
     "output_type": "stream",
     "text": [
      "Opening raw data file C:\\School\\EE_Y3\\Q4\\BAP\\eeg_thesis_cnn_repo\\data\\external\\interim\\S085R03_filtered.fif...\n",
      "Isotrak not found\n",
      "    Range : 0 ... 30749 =      0.000 ...   122.996 secs\n",
      "Ready.\n",
      "Reading 0 ... 30749  =      0.000 ...   122.996 secs...\n",
      "Used Annotations descriptions: ['T0', 'T1', 'T2']\n",
      "Not setting metadata\n",
      "15 matching events found\n",
      "No baseline correction applied\n",
      "0 projection items activated\n",
      "Using data from preloaded Raw for 15 events and 126 original time points ...\n",
      "0 bad epochs dropped\n"
     ]
    },
    {
     "name": "stderr",
     "output_type": "stream",
     "text": [
      "C:\\Users\\chakr\\AppData\\Local\\Temp\\ipykernel_13788\\3980180034.py:3: RuntimeWarning: This filename (C:\\School\\EE_Y3\\Q4\\BAP\\eeg_thesis_cnn_repo\\data\\external\\interim\\S085R03_filtered.fif) does not conform to MNE naming conventions. All raw files should end with raw.fif, raw_sss.fif, raw_tsss.fif, _meg.fif, _eeg.fif, _ieeg.fif, raw.fif.gz, raw_sss.fif.gz, raw_tsss.fif.gz, _meg.fif.gz, _eeg.fif.gz or _ieeg.fif.gz\n",
      "  raw = mne.io.read_raw_fif(fif_file, preload=True)\n",
      "c:\\Users\\chakr\\Anaconda3\\envs\\eeg_thesis\\lib\\site-packages\\pywt\\_functions.py:143: FutureWarning: Wavelets from the family cmor, without parameters specified in the name are deprecated. The name should takethe form cmorB-C where B and C are floats representing the bandwidth frequency and center frequency, respectively (example: cmor1.5-1.0).\n",
      "  wavelet = DiscreteContinuousWavelet(wavelet)\n",
      "c:\\Users\\chakr\\Anaconda3\\envs\\eeg_thesis\\lib\\site-packages\\pywt\\_cwt.py:117: FutureWarning: Wavelets from the family cmor, without parameters specified in the name are deprecated. The name should takethe form cmorB-C where B and C are floats representing the bandwidth frequency and center frequency, respectively (example: cmor1.5-1.0).\n",
      "  wavelet = DiscreteContinuousWavelet(wavelet)\n"
     ]
    },
    {
     "name": "stdout",
     "output_type": "stream",
     "text": [
      "Opening raw data file C:\\School\\EE_Y3\\Q4\\BAP\\eeg_thesis_cnn_repo\\data\\external\\interim\\S085R07_filtered.fif...\n",
      "Isotrak not found\n",
      "    Range : 0 ... 30749 =      0.000 ...   122.996 secs\n",
      "Ready.\n",
      "Reading 0 ... 30749  =      0.000 ...   122.996 secs...\n",
      "Used Annotations descriptions: ['T0', 'T1', 'T2']\n",
      "Not setting metadata\n",
      "15 matching events found\n",
      "No baseline correction applied\n",
      "0 projection items activated\n",
      "Using data from preloaded Raw for 15 events and 126 original time points ...\n",
      "0 bad epochs dropped\n"
     ]
    },
    {
     "name": "stderr",
     "output_type": "stream",
     "text": [
      "C:\\Users\\chakr\\AppData\\Local\\Temp\\ipykernel_13788\\3980180034.py:3: RuntimeWarning: This filename (C:\\School\\EE_Y3\\Q4\\BAP\\eeg_thesis_cnn_repo\\data\\external\\interim\\S085R07_filtered.fif) does not conform to MNE naming conventions. All raw files should end with raw.fif, raw_sss.fif, raw_tsss.fif, _meg.fif, _eeg.fif, _ieeg.fif, raw.fif.gz, raw_sss.fif.gz, raw_tsss.fif.gz, _meg.fif.gz, _eeg.fif.gz or _ieeg.fif.gz\n",
      "  raw = mne.io.read_raw_fif(fif_file, preload=True)\n",
      "c:\\Users\\chakr\\Anaconda3\\envs\\eeg_thesis\\lib\\site-packages\\pywt\\_functions.py:143: FutureWarning: Wavelets from the family cmor, without parameters specified in the name are deprecated. The name should takethe form cmorB-C where B and C are floats representing the bandwidth frequency and center frequency, respectively (example: cmor1.5-1.0).\n",
      "  wavelet = DiscreteContinuousWavelet(wavelet)\n",
      "c:\\Users\\chakr\\Anaconda3\\envs\\eeg_thesis\\lib\\site-packages\\pywt\\_cwt.py:117: FutureWarning: Wavelets from the family cmor, without parameters specified in the name are deprecated. The name should takethe form cmorB-C where B and C are floats representing the bandwidth frequency and center frequency, respectively (example: cmor1.5-1.0).\n",
      "  wavelet = DiscreteContinuousWavelet(wavelet)\n"
     ]
    },
    {
     "name": "stdout",
     "output_type": "stream",
     "text": [
      "Opening raw data file C:\\School\\EE_Y3\\Q4\\BAP\\eeg_thesis_cnn_repo\\data\\external\\interim\\S085R11_filtered.fif...\n",
      "Isotrak not found\n",
      "    Range : 0 ... 30749 =      0.000 ...   122.996 secs\n",
      "Ready.\n",
      "Reading 0 ... 30749  =      0.000 ...   122.996 secs...\n",
      "Used Annotations descriptions: ['T0', 'T1', 'T2']\n",
      "Not setting metadata\n",
      "15 matching events found\n",
      "No baseline correction applied\n",
      "0 projection items activated\n",
      "Using data from preloaded Raw for 15 events and 126 original time points ...\n",
      "0 bad epochs dropped\n"
     ]
    },
    {
     "name": "stderr",
     "output_type": "stream",
     "text": [
      "C:\\Users\\chakr\\AppData\\Local\\Temp\\ipykernel_13788\\3980180034.py:3: RuntimeWarning: This filename (C:\\School\\EE_Y3\\Q4\\BAP\\eeg_thesis_cnn_repo\\data\\external\\interim\\S085R11_filtered.fif) does not conform to MNE naming conventions. All raw files should end with raw.fif, raw_sss.fif, raw_tsss.fif, _meg.fif, _eeg.fif, _ieeg.fif, raw.fif.gz, raw_sss.fif.gz, raw_tsss.fif.gz, _meg.fif.gz, _eeg.fif.gz or _ieeg.fif.gz\n",
      "  raw = mne.io.read_raw_fif(fif_file, preload=True)\n",
      "c:\\Users\\chakr\\Anaconda3\\envs\\eeg_thesis\\lib\\site-packages\\pywt\\_functions.py:143: FutureWarning: Wavelets from the family cmor, without parameters specified in the name are deprecated. The name should takethe form cmorB-C where B and C are floats representing the bandwidth frequency and center frequency, respectively (example: cmor1.5-1.0).\n",
      "  wavelet = DiscreteContinuousWavelet(wavelet)\n",
      "c:\\Users\\chakr\\Anaconda3\\envs\\eeg_thesis\\lib\\site-packages\\pywt\\_cwt.py:117: FutureWarning: Wavelets from the family cmor, without parameters specified in the name are deprecated. The name should takethe form cmorB-C where B and C are floats representing the bandwidth frequency and center frequency, respectively (example: cmor1.5-1.0).\n",
      "  wavelet = DiscreteContinuousWavelet(wavelet)\n"
     ]
    },
    {
     "name": "stdout",
     "output_type": "stream",
     "text": [
      "Opening raw data file C:\\School\\EE_Y3\\Q4\\BAP\\eeg_thesis_cnn_repo\\data\\external\\interim\\S086R03_filtered.fif...\n",
      "Isotrak not found\n",
      "    Range : 0 ... 31249 =      0.000 ...   124.996 secs\n",
      "Ready.\n",
      "Reading 0 ... 31249  =      0.000 ...   124.996 secs...\n",
      "Used Annotations descriptions: ['T0', 'T1', 'T2']\n",
      "Not setting metadata\n",
      "15 matching events found\n",
      "No baseline correction applied\n",
      "0 projection items activated\n",
      "Using data from preloaded Raw for 15 events and 126 original time points ...\n",
      "0 bad epochs dropped\n"
     ]
    },
    {
     "name": "stderr",
     "output_type": "stream",
     "text": [
      "C:\\Users\\chakr\\AppData\\Local\\Temp\\ipykernel_13788\\3980180034.py:3: RuntimeWarning: This filename (C:\\School\\EE_Y3\\Q4\\BAP\\eeg_thesis_cnn_repo\\data\\external\\interim\\S086R03_filtered.fif) does not conform to MNE naming conventions. All raw files should end with raw.fif, raw_sss.fif, raw_tsss.fif, _meg.fif, _eeg.fif, _ieeg.fif, raw.fif.gz, raw_sss.fif.gz, raw_tsss.fif.gz, _meg.fif.gz, _eeg.fif.gz or _ieeg.fif.gz\n",
      "  raw = mne.io.read_raw_fif(fif_file, preload=True)\n",
      "c:\\Users\\chakr\\Anaconda3\\envs\\eeg_thesis\\lib\\site-packages\\pywt\\_functions.py:143: FutureWarning: Wavelets from the family cmor, without parameters specified in the name are deprecated. The name should takethe form cmorB-C where B and C are floats representing the bandwidth frequency and center frequency, respectively (example: cmor1.5-1.0).\n",
      "  wavelet = DiscreteContinuousWavelet(wavelet)\n",
      "c:\\Users\\chakr\\Anaconda3\\envs\\eeg_thesis\\lib\\site-packages\\pywt\\_cwt.py:117: FutureWarning: Wavelets from the family cmor, without parameters specified in the name are deprecated. The name should takethe form cmorB-C where B and C are floats representing the bandwidth frequency and center frequency, respectively (example: cmor1.5-1.0).\n",
      "  wavelet = DiscreteContinuousWavelet(wavelet)\n"
     ]
    },
    {
     "name": "stdout",
     "output_type": "stream",
     "text": [
      "Opening raw data file C:\\School\\EE_Y3\\Q4\\BAP\\eeg_thesis_cnn_repo\\data\\external\\interim\\S086R07_filtered.fif...\n",
      "Isotrak not found\n",
      "    Range : 0 ... 31249 =      0.000 ...   124.996 secs\n",
      "Ready.\n",
      "Reading 0 ... 31249  =      0.000 ...   124.996 secs...\n",
      "Used Annotations descriptions: ['T0', 'T1', 'T2']\n",
      "Not setting metadata\n",
      "15 matching events found\n",
      "No baseline correction applied\n",
      "0 projection items activated\n",
      "Using data from preloaded Raw for 15 events and 126 original time points ...\n",
      "0 bad epochs dropped\n"
     ]
    },
    {
     "name": "stderr",
     "output_type": "stream",
     "text": [
      "C:\\Users\\chakr\\AppData\\Local\\Temp\\ipykernel_13788\\3980180034.py:3: RuntimeWarning: This filename (C:\\School\\EE_Y3\\Q4\\BAP\\eeg_thesis_cnn_repo\\data\\external\\interim\\S086R07_filtered.fif) does not conform to MNE naming conventions. All raw files should end with raw.fif, raw_sss.fif, raw_tsss.fif, _meg.fif, _eeg.fif, _ieeg.fif, raw.fif.gz, raw_sss.fif.gz, raw_tsss.fif.gz, _meg.fif.gz, _eeg.fif.gz or _ieeg.fif.gz\n",
      "  raw = mne.io.read_raw_fif(fif_file, preload=True)\n",
      "c:\\Users\\chakr\\Anaconda3\\envs\\eeg_thesis\\lib\\site-packages\\pywt\\_functions.py:143: FutureWarning: Wavelets from the family cmor, without parameters specified in the name are deprecated. The name should takethe form cmorB-C where B and C are floats representing the bandwidth frequency and center frequency, respectively (example: cmor1.5-1.0).\n",
      "  wavelet = DiscreteContinuousWavelet(wavelet)\n",
      "c:\\Users\\chakr\\Anaconda3\\envs\\eeg_thesis\\lib\\site-packages\\pywt\\_cwt.py:117: FutureWarning: Wavelets from the family cmor, without parameters specified in the name are deprecated. The name should takethe form cmorB-C where B and C are floats representing the bandwidth frequency and center frequency, respectively (example: cmor1.5-1.0).\n",
      "  wavelet = DiscreteContinuousWavelet(wavelet)\n"
     ]
    },
    {
     "name": "stdout",
     "output_type": "stream",
     "text": [
      "Opening raw data file C:\\School\\EE_Y3\\Q4\\BAP\\eeg_thesis_cnn_repo\\data\\external\\interim\\S086R11_filtered.fif...\n",
      "Isotrak not found\n",
      "    Range : 0 ... 31249 =      0.000 ...   124.996 secs\n",
      "Ready.\n",
      "Reading 0 ... 31249  =      0.000 ...   124.996 secs...\n",
      "Used Annotations descriptions: ['T0', 'T1', 'T2']\n",
      "Not setting metadata\n",
      "15 matching events found\n",
      "No baseline correction applied\n",
      "0 projection items activated\n",
      "Using data from preloaded Raw for 15 events and 126 original time points ...\n",
      "0 bad epochs dropped\n"
     ]
    },
    {
     "name": "stderr",
     "output_type": "stream",
     "text": [
      "C:\\Users\\chakr\\AppData\\Local\\Temp\\ipykernel_13788\\3980180034.py:3: RuntimeWarning: This filename (C:\\School\\EE_Y3\\Q4\\BAP\\eeg_thesis_cnn_repo\\data\\external\\interim\\S086R11_filtered.fif) does not conform to MNE naming conventions. All raw files should end with raw.fif, raw_sss.fif, raw_tsss.fif, _meg.fif, _eeg.fif, _ieeg.fif, raw.fif.gz, raw_sss.fif.gz, raw_tsss.fif.gz, _meg.fif.gz, _eeg.fif.gz or _ieeg.fif.gz\n",
      "  raw = mne.io.read_raw_fif(fif_file, preload=True)\n",
      "c:\\Users\\chakr\\Anaconda3\\envs\\eeg_thesis\\lib\\site-packages\\pywt\\_functions.py:143: FutureWarning: Wavelets from the family cmor, without parameters specified in the name are deprecated. The name should takethe form cmorB-C where B and C are floats representing the bandwidth frequency and center frequency, respectively (example: cmor1.5-1.0).\n",
      "  wavelet = DiscreteContinuousWavelet(wavelet)\n",
      "c:\\Users\\chakr\\Anaconda3\\envs\\eeg_thesis\\lib\\site-packages\\pywt\\_cwt.py:117: FutureWarning: Wavelets from the family cmor, without parameters specified in the name are deprecated. The name should takethe form cmorB-C where B and C are floats representing the bandwidth frequency and center frequency, respectively (example: cmor1.5-1.0).\n",
      "  wavelet = DiscreteContinuousWavelet(wavelet)\n"
     ]
    },
    {
     "name": "stdout",
     "output_type": "stream",
     "text": [
      "Opening raw data file C:\\School\\EE_Y3\\Q4\\BAP\\eeg_thesis_cnn_repo\\data\\external\\interim\\S087R03_filtered.fif...\n",
      "Isotrak not found\n",
      "    Range : 0 ... 30749 =      0.000 ...   122.996 secs\n",
      "Ready.\n",
      "Reading 0 ... 30749  =      0.000 ...   122.996 secs...\n",
      "Used Annotations descriptions: ['T0', 'T1', 'T2']\n",
      "Not setting metadata\n",
      "15 matching events found\n",
      "No baseline correction applied\n",
      "0 projection items activated\n",
      "Using data from preloaded Raw for 15 events and 126 original time points ...\n",
      "0 bad epochs dropped\n"
     ]
    },
    {
     "name": "stderr",
     "output_type": "stream",
     "text": [
      "C:\\Users\\chakr\\AppData\\Local\\Temp\\ipykernel_13788\\3980180034.py:3: RuntimeWarning: This filename (C:\\School\\EE_Y3\\Q4\\BAP\\eeg_thesis_cnn_repo\\data\\external\\interim\\S087R03_filtered.fif) does not conform to MNE naming conventions. All raw files should end with raw.fif, raw_sss.fif, raw_tsss.fif, _meg.fif, _eeg.fif, _ieeg.fif, raw.fif.gz, raw_sss.fif.gz, raw_tsss.fif.gz, _meg.fif.gz, _eeg.fif.gz or _ieeg.fif.gz\n",
      "  raw = mne.io.read_raw_fif(fif_file, preload=True)\n",
      "c:\\Users\\chakr\\Anaconda3\\envs\\eeg_thesis\\lib\\site-packages\\pywt\\_functions.py:143: FutureWarning: Wavelets from the family cmor, without parameters specified in the name are deprecated. The name should takethe form cmorB-C where B and C are floats representing the bandwidth frequency and center frequency, respectively (example: cmor1.5-1.0).\n",
      "  wavelet = DiscreteContinuousWavelet(wavelet)\n",
      "c:\\Users\\chakr\\Anaconda3\\envs\\eeg_thesis\\lib\\site-packages\\pywt\\_cwt.py:117: FutureWarning: Wavelets from the family cmor, without parameters specified in the name are deprecated. The name should takethe form cmorB-C where B and C are floats representing the bandwidth frequency and center frequency, respectively (example: cmor1.5-1.0).\n",
      "  wavelet = DiscreteContinuousWavelet(wavelet)\n"
     ]
    },
    {
     "name": "stdout",
     "output_type": "stream",
     "text": [
      "Opening raw data file C:\\School\\EE_Y3\\Q4\\BAP\\eeg_thesis_cnn_repo\\data\\external\\interim\\S087R07_filtered.fif...\n",
      "Isotrak not found\n",
      "    Range : 0 ... 30749 =      0.000 ...   122.996 secs\n",
      "Ready.\n",
      "Reading 0 ... 30749  =      0.000 ...   122.996 secs...\n",
      "Used Annotations descriptions: ['T0', 'T1', 'T2']\n",
      "Not setting metadata\n",
      "15 matching events found\n",
      "No baseline correction applied\n",
      "0 projection items activated\n",
      "Using data from preloaded Raw for 15 events and 126 original time points ...\n",
      "0 bad epochs dropped\n"
     ]
    },
    {
     "name": "stderr",
     "output_type": "stream",
     "text": [
      "C:\\Users\\chakr\\AppData\\Local\\Temp\\ipykernel_13788\\3980180034.py:3: RuntimeWarning: This filename (C:\\School\\EE_Y3\\Q4\\BAP\\eeg_thesis_cnn_repo\\data\\external\\interim\\S087R07_filtered.fif) does not conform to MNE naming conventions. All raw files should end with raw.fif, raw_sss.fif, raw_tsss.fif, _meg.fif, _eeg.fif, _ieeg.fif, raw.fif.gz, raw_sss.fif.gz, raw_tsss.fif.gz, _meg.fif.gz, _eeg.fif.gz or _ieeg.fif.gz\n",
      "  raw = mne.io.read_raw_fif(fif_file, preload=True)\n",
      "c:\\Users\\chakr\\Anaconda3\\envs\\eeg_thesis\\lib\\site-packages\\pywt\\_functions.py:143: FutureWarning: Wavelets from the family cmor, without parameters specified in the name are deprecated. The name should takethe form cmorB-C where B and C are floats representing the bandwidth frequency and center frequency, respectively (example: cmor1.5-1.0).\n",
      "  wavelet = DiscreteContinuousWavelet(wavelet)\n",
      "c:\\Users\\chakr\\Anaconda3\\envs\\eeg_thesis\\lib\\site-packages\\pywt\\_cwt.py:117: FutureWarning: Wavelets from the family cmor, without parameters specified in the name are deprecated. The name should takethe form cmorB-C where B and C are floats representing the bandwidth frequency and center frequency, respectively (example: cmor1.5-1.0).\n",
      "  wavelet = DiscreteContinuousWavelet(wavelet)\n"
     ]
    },
    {
     "name": "stdout",
     "output_type": "stream",
     "text": [
      "Opening raw data file C:\\School\\EE_Y3\\Q4\\BAP\\eeg_thesis_cnn_repo\\data\\external\\interim\\S087R11_filtered.fif...\n",
      "Isotrak not found\n",
      "    Range : 0 ... 30749 =      0.000 ...   122.996 secs\n",
      "Ready.\n",
      "Reading 0 ... 30749  =      0.000 ...   122.996 secs...\n",
      "Used Annotations descriptions: ['T0', 'T1', 'T2']\n",
      "Not setting metadata\n",
      "15 matching events found\n",
      "No baseline correction applied\n",
      "0 projection items activated\n",
      "Using data from preloaded Raw for 15 events and 126 original time points ...\n",
      "0 bad epochs dropped\n"
     ]
    },
    {
     "name": "stderr",
     "output_type": "stream",
     "text": [
      "C:\\Users\\chakr\\AppData\\Local\\Temp\\ipykernel_13788\\3980180034.py:3: RuntimeWarning: This filename (C:\\School\\EE_Y3\\Q4\\BAP\\eeg_thesis_cnn_repo\\data\\external\\interim\\S087R11_filtered.fif) does not conform to MNE naming conventions. All raw files should end with raw.fif, raw_sss.fif, raw_tsss.fif, _meg.fif, _eeg.fif, _ieeg.fif, raw.fif.gz, raw_sss.fif.gz, raw_tsss.fif.gz, _meg.fif.gz, _eeg.fif.gz or _ieeg.fif.gz\n",
      "  raw = mne.io.read_raw_fif(fif_file, preload=True)\n",
      "c:\\Users\\chakr\\Anaconda3\\envs\\eeg_thesis\\lib\\site-packages\\pywt\\_functions.py:143: FutureWarning: Wavelets from the family cmor, without parameters specified in the name are deprecated. The name should takethe form cmorB-C where B and C are floats representing the bandwidth frequency and center frequency, respectively (example: cmor1.5-1.0).\n",
      "  wavelet = DiscreteContinuousWavelet(wavelet)\n",
      "c:\\Users\\chakr\\Anaconda3\\envs\\eeg_thesis\\lib\\site-packages\\pywt\\_cwt.py:117: FutureWarning: Wavelets from the family cmor, without parameters specified in the name are deprecated. The name should takethe form cmorB-C where B and C are floats representing the bandwidth frequency and center frequency, respectively (example: cmor1.5-1.0).\n",
      "  wavelet = DiscreteContinuousWavelet(wavelet)\n"
     ]
    },
    {
     "name": "stdout",
     "output_type": "stream",
     "text": [
      "Opening raw data file C:\\School\\EE_Y3\\Q4\\BAP\\eeg_thesis_cnn_repo\\data\\external\\interim\\S088R03_filtered.fif...\n",
      "Isotrak not found\n",
      "    Range : 0 ... 30999 =      0.000 ...   123.996 secs\n",
      "Ready.\n",
      "Reading 0 ... 30999  =      0.000 ...   123.996 secs...\n",
      "Used Annotations descriptions: ['T0', 'T1', 'T2']\n",
      "Not setting metadata\n",
      "19 matching events found\n",
      "No baseline correction applied\n",
      "0 projection items activated\n",
      "Using data from preloaded Raw for 19 events and 126 original time points ...\n",
      "0 bad epochs dropped\n"
     ]
    },
    {
     "name": "stderr",
     "output_type": "stream",
     "text": [
      "C:\\Users\\chakr\\AppData\\Local\\Temp\\ipykernel_13788\\3980180034.py:3: RuntimeWarning: This filename (C:\\School\\EE_Y3\\Q4\\BAP\\eeg_thesis_cnn_repo\\data\\external\\interim\\S088R03_filtered.fif) does not conform to MNE naming conventions. All raw files should end with raw.fif, raw_sss.fif, raw_tsss.fif, _meg.fif, _eeg.fif, _ieeg.fif, raw.fif.gz, raw_sss.fif.gz, raw_tsss.fif.gz, _meg.fif.gz, _eeg.fif.gz or _ieeg.fif.gz\n",
      "  raw = mne.io.read_raw_fif(fif_file, preload=True)\n",
      "c:\\Users\\chakr\\Anaconda3\\envs\\eeg_thesis\\lib\\site-packages\\pywt\\_functions.py:143: FutureWarning: Wavelets from the family cmor, without parameters specified in the name are deprecated. The name should takethe form cmorB-C where B and C are floats representing the bandwidth frequency and center frequency, respectively (example: cmor1.5-1.0).\n",
      "  wavelet = DiscreteContinuousWavelet(wavelet)\n",
      "c:\\Users\\chakr\\Anaconda3\\envs\\eeg_thesis\\lib\\site-packages\\pywt\\_cwt.py:117: FutureWarning: Wavelets from the family cmor, without parameters specified in the name are deprecated. The name should takethe form cmorB-C where B and C are floats representing the bandwidth frequency and center frequency, respectively (example: cmor1.5-1.0).\n",
      "  wavelet = DiscreteContinuousWavelet(wavelet)\n"
     ]
    },
    {
     "name": "stdout",
     "output_type": "stream",
     "text": [
      "Opening raw data file C:\\School\\EE_Y3\\Q4\\BAP\\eeg_thesis_cnn_repo\\data\\external\\interim\\S088R07_filtered.fif...\n",
      "Isotrak not found\n",
      "    Range : 0 ... 30999 =      0.000 ...   123.996 secs\n",
      "Ready.\n",
      "Reading 0 ... 30999  =      0.000 ...   123.996 secs...\n",
      "Used Annotations descriptions: ['T0', 'T1', 'T2']\n",
      "Not setting metadata\n",
      "19 matching events found\n",
      "No baseline correction applied\n",
      "0 projection items activated\n",
      "Using data from preloaded Raw for 19 events and 126 original time points ...\n",
      "0 bad epochs dropped\n"
     ]
    },
    {
     "name": "stderr",
     "output_type": "stream",
     "text": [
      "C:\\Users\\chakr\\AppData\\Local\\Temp\\ipykernel_13788\\3980180034.py:3: RuntimeWarning: This filename (C:\\School\\EE_Y3\\Q4\\BAP\\eeg_thesis_cnn_repo\\data\\external\\interim\\S088R07_filtered.fif) does not conform to MNE naming conventions. All raw files should end with raw.fif, raw_sss.fif, raw_tsss.fif, _meg.fif, _eeg.fif, _ieeg.fif, raw.fif.gz, raw_sss.fif.gz, raw_tsss.fif.gz, _meg.fif.gz, _eeg.fif.gz or _ieeg.fif.gz\n",
      "  raw = mne.io.read_raw_fif(fif_file, preload=True)\n",
      "c:\\Users\\chakr\\Anaconda3\\envs\\eeg_thesis\\lib\\site-packages\\pywt\\_functions.py:143: FutureWarning: Wavelets from the family cmor, without parameters specified in the name are deprecated. The name should takethe form cmorB-C where B and C are floats representing the bandwidth frequency and center frequency, respectively (example: cmor1.5-1.0).\n",
      "  wavelet = DiscreteContinuousWavelet(wavelet)\n",
      "c:\\Users\\chakr\\Anaconda3\\envs\\eeg_thesis\\lib\\site-packages\\pywt\\_cwt.py:117: FutureWarning: Wavelets from the family cmor, without parameters specified in the name are deprecated. The name should takethe form cmorB-C where B and C are floats representing the bandwidth frequency and center frequency, respectively (example: cmor1.5-1.0).\n",
      "  wavelet = DiscreteContinuousWavelet(wavelet)\n"
     ]
    },
    {
     "name": "stdout",
     "output_type": "stream",
     "text": [
      "Opening raw data file C:\\School\\EE_Y3\\Q4\\BAP\\eeg_thesis_cnn_repo\\data\\external\\interim\\S088R11_filtered.fif...\n",
      "Isotrak not found\n",
      "    Range : 0 ... 30999 =      0.000 ...   123.996 secs\n",
      "Ready.\n",
      "Reading 0 ... 30999  =      0.000 ...   123.996 secs...\n",
      "Used Annotations descriptions: ['T0', 'T1', 'T2']\n",
      "Not setting metadata\n",
      "19 matching events found\n",
      "No baseline correction applied\n",
      "0 projection items activated\n",
      "Using data from preloaded Raw for 19 events and 126 original time points ...\n",
      "0 bad epochs dropped\n"
     ]
    },
    {
     "name": "stderr",
     "output_type": "stream",
     "text": [
      "C:\\Users\\chakr\\AppData\\Local\\Temp\\ipykernel_13788\\3980180034.py:3: RuntimeWarning: This filename (C:\\School\\EE_Y3\\Q4\\BAP\\eeg_thesis_cnn_repo\\data\\external\\interim\\S088R11_filtered.fif) does not conform to MNE naming conventions. All raw files should end with raw.fif, raw_sss.fif, raw_tsss.fif, _meg.fif, _eeg.fif, _ieeg.fif, raw.fif.gz, raw_sss.fif.gz, raw_tsss.fif.gz, _meg.fif.gz, _eeg.fif.gz or _ieeg.fif.gz\n",
      "  raw = mne.io.read_raw_fif(fif_file, preload=True)\n",
      "c:\\Users\\chakr\\Anaconda3\\envs\\eeg_thesis\\lib\\site-packages\\pywt\\_functions.py:143: FutureWarning: Wavelets from the family cmor, without parameters specified in the name are deprecated. The name should takethe form cmorB-C where B and C are floats representing the bandwidth frequency and center frequency, respectively (example: cmor1.5-1.0).\n",
      "  wavelet = DiscreteContinuousWavelet(wavelet)\n",
      "c:\\Users\\chakr\\Anaconda3\\envs\\eeg_thesis\\lib\\site-packages\\pywt\\_cwt.py:117: FutureWarning: Wavelets from the family cmor, without parameters specified in the name are deprecated. The name should takethe form cmorB-C where B and C are floats representing the bandwidth frequency and center frequency, respectively (example: cmor1.5-1.0).\n",
      "  wavelet = DiscreteContinuousWavelet(wavelet)\n"
     ]
    },
    {
     "name": "stdout",
     "output_type": "stream",
     "text": [
      "Opening raw data file C:\\School\\EE_Y3\\Q4\\BAP\\eeg_thesis_cnn_repo\\data\\external\\interim\\S089R03_filtered.fif...\n",
      "Isotrak not found\n",
      "    Range : 0 ... 45249 =      0.000 ...   180.996 secs\n",
      "Ready.\n",
      "Reading 0 ... 45249  =      0.000 ...   180.996 secs...\n",
      "Used Annotations descriptions: ['T0', 'T1', 'T2']\n",
      "Not setting metadata\n",
      "22 matching events found\n",
      "No baseline correction applied\n",
      "0 projection items activated\n",
      "Using data from preloaded Raw for 22 events and 126 original time points ...\n",
      "0 bad epochs dropped\n"
     ]
    },
    {
     "name": "stderr",
     "output_type": "stream",
     "text": [
      "C:\\Users\\chakr\\AppData\\Local\\Temp\\ipykernel_13788\\3980180034.py:3: RuntimeWarning: This filename (C:\\School\\EE_Y3\\Q4\\BAP\\eeg_thesis_cnn_repo\\data\\external\\interim\\S089R03_filtered.fif) does not conform to MNE naming conventions. All raw files should end with raw.fif, raw_sss.fif, raw_tsss.fif, _meg.fif, _eeg.fif, _ieeg.fif, raw.fif.gz, raw_sss.fif.gz, raw_tsss.fif.gz, _meg.fif.gz, _eeg.fif.gz or _ieeg.fif.gz\n",
      "  raw = mne.io.read_raw_fif(fif_file, preload=True)\n",
      "c:\\Users\\chakr\\Anaconda3\\envs\\eeg_thesis\\lib\\site-packages\\pywt\\_functions.py:143: FutureWarning: Wavelets from the family cmor, without parameters specified in the name are deprecated. The name should takethe form cmorB-C where B and C are floats representing the bandwidth frequency and center frequency, respectively (example: cmor1.5-1.0).\n",
      "  wavelet = DiscreteContinuousWavelet(wavelet)\n",
      "c:\\Users\\chakr\\Anaconda3\\envs\\eeg_thesis\\lib\\site-packages\\pywt\\_cwt.py:117: FutureWarning: Wavelets from the family cmor, without parameters specified in the name are deprecated. The name should takethe form cmorB-C where B and C are floats representing the bandwidth frequency and center frequency, respectively (example: cmor1.5-1.0).\n",
      "  wavelet = DiscreteContinuousWavelet(wavelet)\n"
     ]
    },
    {
     "name": "stdout",
     "output_type": "stream",
     "text": [
      "Opening raw data file C:\\School\\EE_Y3\\Q4\\BAP\\eeg_thesis_cnn_repo\\data\\external\\interim\\S089R07_filtered.fif...\n",
      "Isotrak not found\n",
      "    Range : 0 ... 30749 =      0.000 ...   122.996 secs\n",
      "Ready.\n",
      "Reading 0 ... 30749  =      0.000 ...   122.996 secs...\n",
      "Used Annotations descriptions: ['T0', 'T1', 'T2']\n",
      "Not setting metadata\n",
      "15 matching events found\n",
      "No baseline correction applied\n",
      "0 projection items activated\n",
      "Using data from preloaded Raw for 15 events and 126 original time points ...\n",
      "0 bad epochs dropped\n"
     ]
    },
    {
     "name": "stderr",
     "output_type": "stream",
     "text": [
      "C:\\Users\\chakr\\AppData\\Local\\Temp\\ipykernel_13788\\3980180034.py:3: RuntimeWarning: This filename (C:\\School\\EE_Y3\\Q4\\BAP\\eeg_thesis_cnn_repo\\data\\external\\interim\\S089R07_filtered.fif) does not conform to MNE naming conventions. All raw files should end with raw.fif, raw_sss.fif, raw_tsss.fif, _meg.fif, _eeg.fif, _ieeg.fif, raw.fif.gz, raw_sss.fif.gz, raw_tsss.fif.gz, _meg.fif.gz, _eeg.fif.gz or _ieeg.fif.gz\n",
      "  raw = mne.io.read_raw_fif(fif_file, preload=True)\n",
      "c:\\Users\\chakr\\Anaconda3\\envs\\eeg_thesis\\lib\\site-packages\\pywt\\_functions.py:143: FutureWarning: Wavelets from the family cmor, without parameters specified in the name are deprecated. The name should takethe form cmorB-C where B and C are floats representing the bandwidth frequency and center frequency, respectively (example: cmor1.5-1.0).\n",
      "  wavelet = DiscreteContinuousWavelet(wavelet)\n",
      "c:\\Users\\chakr\\Anaconda3\\envs\\eeg_thesis\\lib\\site-packages\\pywt\\_cwt.py:117: FutureWarning: Wavelets from the family cmor, without parameters specified in the name are deprecated. The name should takethe form cmorB-C where B and C are floats representing the bandwidth frequency and center frequency, respectively (example: cmor1.5-1.0).\n",
      "  wavelet = DiscreteContinuousWavelet(wavelet)\n"
     ]
    },
    {
     "name": "stdout",
     "output_type": "stream",
     "text": [
      "Opening raw data file C:\\School\\EE_Y3\\Q4\\BAP\\eeg_thesis_cnn_repo\\data\\external\\interim\\S089R11_filtered.fif...\n",
      "Isotrak not found\n",
      "    Range : 0 ... 30749 =      0.000 ...   122.996 secs\n",
      "Ready.\n",
      "Reading 0 ... 30749  =      0.000 ...   122.996 secs...\n",
      "Used Annotations descriptions: ['T0', 'T1', 'T2']\n",
      "Not setting metadata\n",
      "15 matching events found\n",
      "No baseline correction applied\n",
      "0 projection items activated\n",
      "Using data from preloaded Raw for 15 events and 126 original time points ...\n",
      "0 bad epochs dropped\n"
     ]
    },
    {
     "name": "stderr",
     "output_type": "stream",
     "text": [
      "C:\\Users\\chakr\\AppData\\Local\\Temp\\ipykernel_13788\\3980180034.py:3: RuntimeWarning: This filename (C:\\School\\EE_Y3\\Q4\\BAP\\eeg_thesis_cnn_repo\\data\\external\\interim\\S089R11_filtered.fif) does not conform to MNE naming conventions. All raw files should end with raw.fif, raw_sss.fif, raw_tsss.fif, _meg.fif, _eeg.fif, _ieeg.fif, raw.fif.gz, raw_sss.fif.gz, raw_tsss.fif.gz, _meg.fif.gz, _eeg.fif.gz or _ieeg.fif.gz\n",
      "  raw = mne.io.read_raw_fif(fif_file, preload=True)\n",
      "c:\\Users\\chakr\\Anaconda3\\envs\\eeg_thesis\\lib\\site-packages\\pywt\\_functions.py:143: FutureWarning: Wavelets from the family cmor, without parameters specified in the name are deprecated. The name should takethe form cmorB-C where B and C are floats representing the bandwidth frequency and center frequency, respectively (example: cmor1.5-1.0).\n",
      "  wavelet = DiscreteContinuousWavelet(wavelet)\n",
      "c:\\Users\\chakr\\Anaconda3\\envs\\eeg_thesis\\lib\\site-packages\\pywt\\_cwt.py:117: FutureWarning: Wavelets from the family cmor, without parameters specified in the name are deprecated. The name should takethe form cmorB-C where B and C are floats representing the bandwidth frequency and center frequency, respectively (example: cmor1.5-1.0).\n",
      "  wavelet = DiscreteContinuousWavelet(wavelet)\n"
     ]
    },
    {
     "name": "stdout",
     "output_type": "stream",
     "text": [
      "Opening raw data file C:\\School\\EE_Y3\\Q4\\BAP\\eeg_thesis_cnn_repo\\data\\external\\interim\\S090R03_filtered.fif...\n",
      "Isotrak not found\n",
      "    Range : 0 ... 30749 =      0.000 ...   122.996 secs\n",
      "Ready.\n",
      "Reading 0 ... 30749  =      0.000 ...   122.996 secs...\n",
      "Used Annotations descriptions: ['T0', 'T1', 'T2']\n",
      "Not setting metadata\n",
      "15 matching events found\n",
      "No baseline correction applied\n",
      "0 projection items activated\n",
      "Using data from preloaded Raw for 15 events and 126 original time points ...\n",
      "0 bad epochs dropped\n"
     ]
    },
    {
     "name": "stderr",
     "output_type": "stream",
     "text": [
      "C:\\Users\\chakr\\AppData\\Local\\Temp\\ipykernel_13788\\3980180034.py:3: RuntimeWarning: This filename (C:\\School\\EE_Y3\\Q4\\BAP\\eeg_thesis_cnn_repo\\data\\external\\interim\\S090R03_filtered.fif) does not conform to MNE naming conventions. All raw files should end with raw.fif, raw_sss.fif, raw_tsss.fif, _meg.fif, _eeg.fif, _ieeg.fif, raw.fif.gz, raw_sss.fif.gz, raw_tsss.fif.gz, _meg.fif.gz, _eeg.fif.gz or _ieeg.fif.gz\n",
      "  raw = mne.io.read_raw_fif(fif_file, preload=True)\n",
      "c:\\Users\\chakr\\Anaconda3\\envs\\eeg_thesis\\lib\\site-packages\\pywt\\_functions.py:143: FutureWarning: Wavelets from the family cmor, without parameters specified in the name are deprecated. The name should takethe form cmorB-C where B and C are floats representing the bandwidth frequency and center frequency, respectively (example: cmor1.5-1.0).\n",
      "  wavelet = DiscreteContinuousWavelet(wavelet)\n",
      "c:\\Users\\chakr\\Anaconda3\\envs\\eeg_thesis\\lib\\site-packages\\pywt\\_cwt.py:117: FutureWarning: Wavelets from the family cmor, without parameters specified in the name are deprecated. The name should takethe form cmorB-C where B and C are floats representing the bandwidth frequency and center frequency, respectively (example: cmor1.5-1.0).\n",
      "  wavelet = DiscreteContinuousWavelet(wavelet)\n"
     ]
    },
    {
     "name": "stdout",
     "output_type": "stream",
     "text": [
      "Opening raw data file C:\\School\\EE_Y3\\Q4\\BAP\\eeg_thesis_cnn_repo\\data\\external\\interim\\S090R07_filtered.fif...\n",
      "Isotrak not found\n",
      "    Range : 0 ... 30749 =      0.000 ...   122.996 secs\n",
      "Ready.\n",
      "Reading 0 ... 30749  =      0.000 ...   122.996 secs...\n",
      "Used Annotations descriptions: ['T0', 'T1', 'T2']\n",
      "Not setting metadata\n",
      "15 matching events found\n",
      "No baseline correction applied\n",
      "0 projection items activated\n",
      "Using data from preloaded Raw for 15 events and 126 original time points ...\n",
      "0 bad epochs dropped\n"
     ]
    },
    {
     "name": "stderr",
     "output_type": "stream",
     "text": [
      "C:\\Users\\chakr\\AppData\\Local\\Temp\\ipykernel_13788\\3980180034.py:3: RuntimeWarning: This filename (C:\\School\\EE_Y3\\Q4\\BAP\\eeg_thesis_cnn_repo\\data\\external\\interim\\S090R07_filtered.fif) does not conform to MNE naming conventions. All raw files should end with raw.fif, raw_sss.fif, raw_tsss.fif, _meg.fif, _eeg.fif, _ieeg.fif, raw.fif.gz, raw_sss.fif.gz, raw_tsss.fif.gz, _meg.fif.gz, _eeg.fif.gz or _ieeg.fif.gz\n",
      "  raw = mne.io.read_raw_fif(fif_file, preload=True)\n",
      "c:\\Users\\chakr\\Anaconda3\\envs\\eeg_thesis\\lib\\site-packages\\pywt\\_functions.py:143: FutureWarning: Wavelets from the family cmor, without parameters specified in the name are deprecated. The name should takethe form cmorB-C where B and C are floats representing the bandwidth frequency and center frequency, respectively (example: cmor1.5-1.0).\n",
      "  wavelet = DiscreteContinuousWavelet(wavelet)\n",
      "c:\\Users\\chakr\\Anaconda3\\envs\\eeg_thesis\\lib\\site-packages\\pywt\\_cwt.py:117: FutureWarning: Wavelets from the family cmor, without parameters specified in the name are deprecated. The name should takethe form cmorB-C where B and C are floats representing the bandwidth frequency and center frequency, respectively (example: cmor1.5-1.0).\n",
      "  wavelet = DiscreteContinuousWavelet(wavelet)\n"
     ]
    },
    {
     "name": "stdout",
     "output_type": "stream",
     "text": [
      "Opening raw data file C:\\School\\EE_Y3\\Q4\\BAP\\eeg_thesis_cnn_repo\\data\\external\\interim\\S090R11_filtered.fif...\n",
      "Isotrak not found\n",
      "    Range : 0 ... 30749 =      0.000 ...   122.996 secs\n",
      "Ready.\n",
      "Reading 0 ... 30749  =      0.000 ...   122.996 secs...\n",
      "Used Annotations descriptions: ['T0', 'T1', 'T2']\n",
      "Not setting metadata\n",
      "15 matching events found\n",
      "No baseline correction applied\n",
      "0 projection items activated\n",
      "Using data from preloaded Raw for 15 events and 126 original time points ...\n",
      "0 bad epochs dropped\n"
     ]
    },
    {
     "name": "stderr",
     "output_type": "stream",
     "text": [
      "C:\\Users\\chakr\\AppData\\Local\\Temp\\ipykernel_13788\\3980180034.py:3: RuntimeWarning: This filename (C:\\School\\EE_Y3\\Q4\\BAP\\eeg_thesis_cnn_repo\\data\\external\\interim\\S090R11_filtered.fif) does not conform to MNE naming conventions. All raw files should end with raw.fif, raw_sss.fif, raw_tsss.fif, _meg.fif, _eeg.fif, _ieeg.fif, raw.fif.gz, raw_sss.fif.gz, raw_tsss.fif.gz, _meg.fif.gz, _eeg.fif.gz or _ieeg.fif.gz\n",
      "  raw = mne.io.read_raw_fif(fif_file, preload=True)\n",
      "c:\\Users\\chakr\\Anaconda3\\envs\\eeg_thesis\\lib\\site-packages\\pywt\\_functions.py:143: FutureWarning: Wavelets from the family cmor, without parameters specified in the name are deprecated. The name should takethe form cmorB-C where B and C are floats representing the bandwidth frequency and center frequency, respectively (example: cmor1.5-1.0).\n",
      "  wavelet = DiscreteContinuousWavelet(wavelet)\n",
      "c:\\Users\\chakr\\Anaconda3\\envs\\eeg_thesis\\lib\\site-packages\\pywt\\_cwt.py:117: FutureWarning: Wavelets from the family cmor, without parameters specified in the name are deprecated. The name should takethe form cmorB-C where B and C are floats representing the bandwidth frequency and center frequency, respectively (example: cmor1.5-1.0).\n",
      "  wavelet = DiscreteContinuousWavelet(wavelet)\n"
     ]
    },
    {
     "name": "stdout",
     "output_type": "stream",
     "text": [
      "Opening raw data file C:\\School\\EE_Y3\\Q4\\BAP\\eeg_thesis_cnn_repo\\data\\external\\interim\\S091R03_filtered.fif...\n",
      "Isotrak not found\n",
      "    Range : 0 ... 30749 =      0.000 ...   122.996 secs\n",
      "Ready.\n",
      "Reading 0 ... 30749  =      0.000 ...   122.996 secs...\n",
      "Used Annotations descriptions: ['T0', 'T1', 'T2']\n",
      "Not setting metadata\n",
      "15 matching events found\n",
      "No baseline correction applied\n",
      "0 projection items activated\n",
      "Using data from preloaded Raw for 15 events and 126 original time points ...\n",
      "0 bad epochs dropped\n"
     ]
    },
    {
     "name": "stderr",
     "output_type": "stream",
     "text": [
      "C:\\Users\\chakr\\AppData\\Local\\Temp\\ipykernel_13788\\3980180034.py:3: RuntimeWarning: This filename (C:\\School\\EE_Y3\\Q4\\BAP\\eeg_thesis_cnn_repo\\data\\external\\interim\\S091R03_filtered.fif) does not conform to MNE naming conventions. All raw files should end with raw.fif, raw_sss.fif, raw_tsss.fif, _meg.fif, _eeg.fif, _ieeg.fif, raw.fif.gz, raw_sss.fif.gz, raw_tsss.fif.gz, _meg.fif.gz, _eeg.fif.gz or _ieeg.fif.gz\n",
      "  raw = mne.io.read_raw_fif(fif_file, preload=True)\n",
      "c:\\Users\\chakr\\Anaconda3\\envs\\eeg_thesis\\lib\\site-packages\\pywt\\_functions.py:143: FutureWarning: Wavelets from the family cmor, without parameters specified in the name are deprecated. The name should takethe form cmorB-C where B and C are floats representing the bandwidth frequency and center frequency, respectively (example: cmor1.5-1.0).\n",
      "  wavelet = DiscreteContinuousWavelet(wavelet)\n",
      "c:\\Users\\chakr\\Anaconda3\\envs\\eeg_thesis\\lib\\site-packages\\pywt\\_cwt.py:117: FutureWarning: Wavelets from the family cmor, without parameters specified in the name are deprecated. The name should takethe form cmorB-C where B and C are floats representing the bandwidth frequency and center frequency, respectively (example: cmor1.5-1.0).\n",
      "  wavelet = DiscreteContinuousWavelet(wavelet)\n"
     ]
    },
    {
     "name": "stdout",
     "output_type": "stream",
     "text": [
      "Opening raw data file C:\\School\\EE_Y3\\Q4\\BAP\\eeg_thesis_cnn_repo\\data\\external\\interim\\S091R07_filtered.fif...\n",
      "Isotrak not found\n",
      "    Range : 0 ... 30749 =      0.000 ...   122.996 secs\n",
      "Ready.\n",
      "Reading 0 ... 30749  =      0.000 ...   122.996 secs...\n",
      "Used Annotations descriptions: ['T0', 'T1', 'T2']\n",
      "Not setting metadata\n",
      "15 matching events found\n",
      "No baseline correction applied\n",
      "0 projection items activated\n",
      "Using data from preloaded Raw for 15 events and 126 original time points ...\n",
      "0 bad epochs dropped\n"
     ]
    },
    {
     "name": "stderr",
     "output_type": "stream",
     "text": [
      "C:\\Users\\chakr\\AppData\\Local\\Temp\\ipykernel_13788\\3980180034.py:3: RuntimeWarning: This filename (C:\\School\\EE_Y3\\Q4\\BAP\\eeg_thesis_cnn_repo\\data\\external\\interim\\S091R07_filtered.fif) does not conform to MNE naming conventions. All raw files should end with raw.fif, raw_sss.fif, raw_tsss.fif, _meg.fif, _eeg.fif, _ieeg.fif, raw.fif.gz, raw_sss.fif.gz, raw_tsss.fif.gz, _meg.fif.gz, _eeg.fif.gz or _ieeg.fif.gz\n",
      "  raw = mne.io.read_raw_fif(fif_file, preload=True)\n",
      "c:\\Users\\chakr\\Anaconda3\\envs\\eeg_thesis\\lib\\site-packages\\pywt\\_functions.py:143: FutureWarning: Wavelets from the family cmor, without parameters specified in the name are deprecated. The name should takethe form cmorB-C where B and C are floats representing the bandwidth frequency and center frequency, respectively (example: cmor1.5-1.0).\n",
      "  wavelet = DiscreteContinuousWavelet(wavelet)\n",
      "c:\\Users\\chakr\\Anaconda3\\envs\\eeg_thesis\\lib\\site-packages\\pywt\\_cwt.py:117: FutureWarning: Wavelets from the family cmor, without parameters specified in the name are deprecated. The name should takethe form cmorB-C where B and C are floats representing the bandwidth frequency and center frequency, respectively (example: cmor1.5-1.0).\n",
      "  wavelet = DiscreteContinuousWavelet(wavelet)\n"
     ]
    },
    {
     "name": "stdout",
     "output_type": "stream",
     "text": [
      "Opening raw data file C:\\School\\EE_Y3\\Q4\\BAP\\eeg_thesis_cnn_repo\\data\\external\\interim\\S091R11_filtered.fif...\n",
      "Isotrak not found\n",
      "    Range : 0 ... 30749 =      0.000 ...   122.996 secs\n",
      "Ready.\n",
      "Reading 0 ... 30749  =      0.000 ...   122.996 secs...\n",
      "Used Annotations descriptions: ['T0', 'T1', 'T2']\n",
      "Not setting metadata\n",
      "15 matching events found\n",
      "No baseline correction applied\n",
      "0 projection items activated\n",
      "Using data from preloaded Raw for 15 events and 126 original time points ...\n",
      "0 bad epochs dropped\n"
     ]
    },
    {
     "name": "stderr",
     "output_type": "stream",
     "text": [
      "C:\\Users\\chakr\\AppData\\Local\\Temp\\ipykernel_13788\\3980180034.py:3: RuntimeWarning: This filename (C:\\School\\EE_Y3\\Q4\\BAP\\eeg_thesis_cnn_repo\\data\\external\\interim\\S091R11_filtered.fif) does not conform to MNE naming conventions. All raw files should end with raw.fif, raw_sss.fif, raw_tsss.fif, _meg.fif, _eeg.fif, _ieeg.fif, raw.fif.gz, raw_sss.fif.gz, raw_tsss.fif.gz, _meg.fif.gz, _eeg.fif.gz or _ieeg.fif.gz\n",
      "  raw = mne.io.read_raw_fif(fif_file, preload=True)\n",
      "c:\\Users\\chakr\\Anaconda3\\envs\\eeg_thesis\\lib\\site-packages\\pywt\\_functions.py:143: FutureWarning: Wavelets from the family cmor, without parameters specified in the name are deprecated. The name should takethe form cmorB-C where B and C are floats representing the bandwidth frequency and center frequency, respectively (example: cmor1.5-1.0).\n",
      "  wavelet = DiscreteContinuousWavelet(wavelet)\n",
      "c:\\Users\\chakr\\Anaconda3\\envs\\eeg_thesis\\lib\\site-packages\\pywt\\_cwt.py:117: FutureWarning: Wavelets from the family cmor, without parameters specified in the name are deprecated. The name should takethe form cmorB-C where B and C are floats representing the bandwidth frequency and center frequency, respectively (example: cmor1.5-1.0).\n",
      "  wavelet = DiscreteContinuousWavelet(wavelet)\n"
     ]
    },
    {
     "name": "stdout",
     "output_type": "stream",
     "text": [
      "Opening raw data file C:\\School\\EE_Y3\\Q4\\BAP\\eeg_thesis_cnn_repo\\data\\external\\interim\\S092R03_filtered.fif...\n",
      "Isotrak not found\n",
      "    Range : 0 ... 30999 =      0.000 ...   123.996 secs\n",
      "Ready.\n",
      "Reading 0 ... 30999  =      0.000 ...   123.996 secs...\n",
      "Used Annotations descriptions: ['T0', 'T1', 'T2']\n",
      "Not setting metadata\n",
      "19 matching events found\n",
      "No baseline correction applied\n",
      "0 projection items activated\n",
      "Using data from preloaded Raw for 19 events and 126 original time points ...\n",
      "0 bad epochs dropped\n"
     ]
    },
    {
     "name": "stderr",
     "output_type": "stream",
     "text": [
      "C:\\Users\\chakr\\AppData\\Local\\Temp\\ipykernel_13788\\3980180034.py:3: RuntimeWarning: This filename (C:\\School\\EE_Y3\\Q4\\BAP\\eeg_thesis_cnn_repo\\data\\external\\interim\\S092R03_filtered.fif) does not conform to MNE naming conventions. All raw files should end with raw.fif, raw_sss.fif, raw_tsss.fif, _meg.fif, _eeg.fif, _ieeg.fif, raw.fif.gz, raw_sss.fif.gz, raw_tsss.fif.gz, _meg.fif.gz, _eeg.fif.gz or _ieeg.fif.gz\n",
      "  raw = mne.io.read_raw_fif(fif_file, preload=True)\n",
      "c:\\Users\\chakr\\Anaconda3\\envs\\eeg_thesis\\lib\\site-packages\\pywt\\_functions.py:143: FutureWarning: Wavelets from the family cmor, without parameters specified in the name are deprecated. The name should takethe form cmorB-C where B and C are floats representing the bandwidth frequency and center frequency, respectively (example: cmor1.5-1.0).\n",
      "  wavelet = DiscreteContinuousWavelet(wavelet)\n",
      "c:\\Users\\chakr\\Anaconda3\\envs\\eeg_thesis\\lib\\site-packages\\pywt\\_cwt.py:117: FutureWarning: Wavelets from the family cmor, without parameters specified in the name are deprecated. The name should takethe form cmorB-C where B and C are floats representing the bandwidth frequency and center frequency, respectively (example: cmor1.5-1.0).\n",
      "  wavelet = DiscreteContinuousWavelet(wavelet)\n"
     ]
    },
    {
     "name": "stdout",
     "output_type": "stream",
     "text": [
      "Opening raw data file C:\\School\\EE_Y3\\Q4\\BAP\\eeg_thesis_cnn_repo\\data\\external\\interim\\S092R07_filtered.fif...\n",
      "Isotrak not found\n",
      "    Range : 0 ... 30999 =      0.000 ...   123.996 secs\n",
      "Ready.\n",
      "Reading 0 ... 30999  =      0.000 ...   123.996 secs...\n",
      "Used Annotations descriptions: ['T0', 'T1', 'T2']\n",
      "Not setting metadata\n",
      "19 matching events found\n",
      "No baseline correction applied\n",
      "0 projection items activated\n",
      "Using data from preloaded Raw for 19 events and 126 original time points ...\n",
      "0 bad epochs dropped\n"
     ]
    },
    {
     "name": "stderr",
     "output_type": "stream",
     "text": [
      "C:\\Users\\chakr\\AppData\\Local\\Temp\\ipykernel_13788\\3980180034.py:3: RuntimeWarning: This filename (C:\\School\\EE_Y3\\Q4\\BAP\\eeg_thesis_cnn_repo\\data\\external\\interim\\S092R07_filtered.fif) does not conform to MNE naming conventions. All raw files should end with raw.fif, raw_sss.fif, raw_tsss.fif, _meg.fif, _eeg.fif, _ieeg.fif, raw.fif.gz, raw_sss.fif.gz, raw_tsss.fif.gz, _meg.fif.gz, _eeg.fif.gz or _ieeg.fif.gz\n",
      "  raw = mne.io.read_raw_fif(fif_file, preload=True)\n",
      "c:\\Users\\chakr\\Anaconda3\\envs\\eeg_thesis\\lib\\site-packages\\pywt\\_functions.py:143: FutureWarning: Wavelets from the family cmor, without parameters specified in the name are deprecated. The name should takethe form cmorB-C where B and C are floats representing the bandwidth frequency and center frequency, respectively (example: cmor1.5-1.0).\n",
      "  wavelet = DiscreteContinuousWavelet(wavelet)\n",
      "c:\\Users\\chakr\\Anaconda3\\envs\\eeg_thesis\\lib\\site-packages\\pywt\\_cwt.py:117: FutureWarning: Wavelets from the family cmor, without parameters specified in the name are deprecated. The name should takethe form cmorB-C where B and C are floats representing the bandwidth frequency and center frequency, respectively (example: cmor1.5-1.0).\n",
      "  wavelet = DiscreteContinuousWavelet(wavelet)\n"
     ]
    },
    {
     "name": "stdout",
     "output_type": "stream",
     "text": [
      "Opening raw data file C:\\School\\EE_Y3\\Q4\\BAP\\eeg_thesis_cnn_repo\\data\\external\\interim\\S092R11_filtered.fif...\n",
      "Isotrak not found\n",
      "    Range : 0 ... 30999 =      0.000 ...   123.996 secs\n",
      "Ready.\n",
      "Reading 0 ... 30999  =      0.000 ...   123.996 secs...\n",
      "Used Annotations descriptions: ['T0', 'T1', 'T2']\n",
      "Not setting metadata\n",
      "19 matching events found\n",
      "No baseline correction applied\n",
      "0 projection items activated\n",
      "Using data from preloaded Raw for 19 events and 126 original time points ...\n",
      "0 bad epochs dropped\n"
     ]
    },
    {
     "name": "stderr",
     "output_type": "stream",
     "text": [
      "C:\\Users\\chakr\\AppData\\Local\\Temp\\ipykernel_13788\\3980180034.py:3: RuntimeWarning: This filename (C:\\School\\EE_Y3\\Q4\\BAP\\eeg_thesis_cnn_repo\\data\\external\\interim\\S092R11_filtered.fif) does not conform to MNE naming conventions. All raw files should end with raw.fif, raw_sss.fif, raw_tsss.fif, _meg.fif, _eeg.fif, _ieeg.fif, raw.fif.gz, raw_sss.fif.gz, raw_tsss.fif.gz, _meg.fif.gz, _eeg.fif.gz or _ieeg.fif.gz\n",
      "  raw = mne.io.read_raw_fif(fif_file, preload=True)\n",
      "c:\\Users\\chakr\\Anaconda3\\envs\\eeg_thesis\\lib\\site-packages\\pywt\\_functions.py:143: FutureWarning: Wavelets from the family cmor, without parameters specified in the name are deprecated. The name should takethe form cmorB-C where B and C are floats representing the bandwidth frequency and center frequency, respectively (example: cmor1.5-1.0).\n",
      "  wavelet = DiscreteContinuousWavelet(wavelet)\n",
      "c:\\Users\\chakr\\Anaconda3\\envs\\eeg_thesis\\lib\\site-packages\\pywt\\_cwt.py:117: FutureWarning: Wavelets from the family cmor, without parameters specified in the name are deprecated. The name should takethe form cmorB-C where B and C are floats representing the bandwidth frequency and center frequency, respectively (example: cmor1.5-1.0).\n",
      "  wavelet = DiscreteContinuousWavelet(wavelet)\n"
     ]
    },
    {
     "name": "stdout",
     "output_type": "stream",
     "text": [
      "Opening raw data file C:\\School\\EE_Y3\\Q4\\BAP\\eeg_thesis_cnn_repo\\data\\external\\interim\\S093R03_filtered.fif...\n",
      "Isotrak not found\n",
      "    Range : 0 ... 30749 =      0.000 ...   122.996 secs\n",
      "Ready.\n",
      "Reading 0 ... 30749  =      0.000 ...   122.996 secs...\n",
      "Used Annotations descriptions: ['T0', 'T1', 'T2']\n",
      "Not setting metadata\n",
      "15 matching events found\n",
      "No baseline correction applied\n",
      "0 projection items activated\n",
      "Using data from preloaded Raw for 15 events and 126 original time points ...\n",
      "0 bad epochs dropped\n"
     ]
    },
    {
     "name": "stderr",
     "output_type": "stream",
     "text": [
      "C:\\Users\\chakr\\AppData\\Local\\Temp\\ipykernel_13788\\3980180034.py:3: RuntimeWarning: This filename (C:\\School\\EE_Y3\\Q4\\BAP\\eeg_thesis_cnn_repo\\data\\external\\interim\\S093R03_filtered.fif) does not conform to MNE naming conventions. All raw files should end with raw.fif, raw_sss.fif, raw_tsss.fif, _meg.fif, _eeg.fif, _ieeg.fif, raw.fif.gz, raw_sss.fif.gz, raw_tsss.fif.gz, _meg.fif.gz, _eeg.fif.gz or _ieeg.fif.gz\n",
      "  raw = mne.io.read_raw_fif(fif_file, preload=True)\n",
      "c:\\Users\\chakr\\Anaconda3\\envs\\eeg_thesis\\lib\\site-packages\\pywt\\_functions.py:143: FutureWarning: Wavelets from the family cmor, without parameters specified in the name are deprecated. The name should takethe form cmorB-C where B and C are floats representing the bandwidth frequency and center frequency, respectively (example: cmor1.5-1.0).\n",
      "  wavelet = DiscreteContinuousWavelet(wavelet)\n",
      "c:\\Users\\chakr\\Anaconda3\\envs\\eeg_thesis\\lib\\site-packages\\pywt\\_cwt.py:117: FutureWarning: Wavelets from the family cmor, without parameters specified in the name are deprecated. The name should takethe form cmorB-C where B and C are floats representing the bandwidth frequency and center frequency, respectively (example: cmor1.5-1.0).\n",
      "  wavelet = DiscreteContinuousWavelet(wavelet)\n"
     ]
    },
    {
     "name": "stdout",
     "output_type": "stream",
     "text": [
      "Opening raw data file C:\\School\\EE_Y3\\Q4\\BAP\\eeg_thesis_cnn_repo\\data\\external\\interim\\S093R07_filtered.fif...\n",
      "Isotrak not found\n",
      "    Range : 0 ... 30749 =      0.000 ...   122.996 secs\n",
      "Ready.\n",
      "Reading 0 ... 30749  =      0.000 ...   122.996 secs...\n",
      "Used Annotations descriptions: ['T0', 'T1', 'T2']\n",
      "Not setting metadata\n",
      "15 matching events found\n",
      "No baseline correction applied\n",
      "0 projection items activated\n",
      "Using data from preloaded Raw for 15 events and 126 original time points ...\n",
      "0 bad epochs dropped\n"
     ]
    },
    {
     "name": "stderr",
     "output_type": "stream",
     "text": [
      "C:\\Users\\chakr\\AppData\\Local\\Temp\\ipykernel_13788\\3980180034.py:3: RuntimeWarning: This filename (C:\\School\\EE_Y3\\Q4\\BAP\\eeg_thesis_cnn_repo\\data\\external\\interim\\S093R07_filtered.fif) does not conform to MNE naming conventions. All raw files should end with raw.fif, raw_sss.fif, raw_tsss.fif, _meg.fif, _eeg.fif, _ieeg.fif, raw.fif.gz, raw_sss.fif.gz, raw_tsss.fif.gz, _meg.fif.gz, _eeg.fif.gz or _ieeg.fif.gz\n",
      "  raw = mne.io.read_raw_fif(fif_file, preload=True)\n",
      "c:\\Users\\chakr\\Anaconda3\\envs\\eeg_thesis\\lib\\site-packages\\pywt\\_functions.py:143: FutureWarning: Wavelets from the family cmor, without parameters specified in the name are deprecated. The name should takethe form cmorB-C where B and C are floats representing the bandwidth frequency and center frequency, respectively (example: cmor1.5-1.0).\n",
      "  wavelet = DiscreteContinuousWavelet(wavelet)\n",
      "c:\\Users\\chakr\\Anaconda3\\envs\\eeg_thesis\\lib\\site-packages\\pywt\\_cwt.py:117: FutureWarning: Wavelets from the family cmor, without parameters specified in the name are deprecated. The name should takethe form cmorB-C where B and C are floats representing the bandwidth frequency and center frequency, respectively (example: cmor1.5-1.0).\n",
      "  wavelet = DiscreteContinuousWavelet(wavelet)\n"
     ]
    },
    {
     "name": "stdout",
     "output_type": "stream",
     "text": [
      "Opening raw data file C:\\School\\EE_Y3\\Q4\\BAP\\eeg_thesis_cnn_repo\\data\\external\\interim\\S093R11_filtered.fif...\n",
      "Isotrak not found\n",
      "    Range : 0 ... 30749 =      0.000 ...   122.996 secs\n",
      "Ready.\n",
      "Reading 0 ... 30749  =      0.000 ...   122.996 secs...\n",
      "Used Annotations descriptions: ['T0', 'T1', 'T2']\n",
      "Not setting metadata\n",
      "15 matching events found\n",
      "No baseline correction applied\n",
      "0 projection items activated\n",
      "Using data from preloaded Raw for 15 events and 126 original time points ...\n",
      "0 bad epochs dropped\n"
     ]
    },
    {
     "name": "stderr",
     "output_type": "stream",
     "text": [
      "C:\\Users\\chakr\\AppData\\Local\\Temp\\ipykernel_13788\\3980180034.py:3: RuntimeWarning: This filename (C:\\School\\EE_Y3\\Q4\\BAP\\eeg_thesis_cnn_repo\\data\\external\\interim\\S093R11_filtered.fif) does not conform to MNE naming conventions. All raw files should end with raw.fif, raw_sss.fif, raw_tsss.fif, _meg.fif, _eeg.fif, _ieeg.fif, raw.fif.gz, raw_sss.fif.gz, raw_tsss.fif.gz, _meg.fif.gz, _eeg.fif.gz or _ieeg.fif.gz\n",
      "  raw = mne.io.read_raw_fif(fif_file, preload=True)\n",
      "c:\\Users\\chakr\\Anaconda3\\envs\\eeg_thesis\\lib\\site-packages\\pywt\\_functions.py:143: FutureWarning: Wavelets from the family cmor, without parameters specified in the name are deprecated. The name should takethe form cmorB-C where B and C are floats representing the bandwidth frequency and center frequency, respectively (example: cmor1.5-1.0).\n",
      "  wavelet = DiscreteContinuousWavelet(wavelet)\n",
      "c:\\Users\\chakr\\Anaconda3\\envs\\eeg_thesis\\lib\\site-packages\\pywt\\_cwt.py:117: FutureWarning: Wavelets from the family cmor, without parameters specified in the name are deprecated. The name should takethe form cmorB-C where B and C are floats representing the bandwidth frequency and center frequency, respectively (example: cmor1.5-1.0).\n",
      "  wavelet = DiscreteContinuousWavelet(wavelet)\n"
     ]
    },
    {
     "name": "stdout",
     "output_type": "stream",
     "text": [
      "Opening raw data file C:\\School\\EE_Y3\\Q4\\BAP\\eeg_thesis_cnn_repo\\data\\external\\interim\\S094R03_filtered.fif...\n",
      "Isotrak not found\n",
      "    Range : 0 ... 30749 =      0.000 ...   122.996 secs\n",
      "Ready.\n",
      "Reading 0 ... 30749  =      0.000 ...   122.996 secs...\n",
      "Used Annotations descriptions: ['T0', 'T1', 'T2']\n",
      "Not setting metadata\n",
      "15 matching events found\n",
      "No baseline correction applied\n",
      "0 projection items activated\n",
      "Using data from preloaded Raw for 15 events and 126 original time points ...\n",
      "0 bad epochs dropped\n"
     ]
    },
    {
     "name": "stderr",
     "output_type": "stream",
     "text": [
      "C:\\Users\\chakr\\AppData\\Local\\Temp\\ipykernel_13788\\3980180034.py:3: RuntimeWarning: This filename (C:\\School\\EE_Y3\\Q4\\BAP\\eeg_thesis_cnn_repo\\data\\external\\interim\\S094R03_filtered.fif) does not conform to MNE naming conventions. All raw files should end with raw.fif, raw_sss.fif, raw_tsss.fif, _meg.fif, _eeg.fif, _ieeg.fif, raw.fif.gz, raw_sss.fif.gz, raw_tsss.fif.gz, _meg.fif.gz, _eeg.fif.gz or _ieeg.fif.gz\n",
      "  raw = mne.io.read_raw_fif(fif_file, preload=True)\n",
      "c:\\Users\\chakr\\Anaconda3\\envs\\eeg_thesis\\lib\\site-packages\\pywt\\_functions.py:143: FutureWarning: Wavelets from the family cmor, without parameters specified in the name are deprecated. The name should takethe form cmorB-C where B and C are floats representing the bandwidth frequency and center frequency, respectively (example: cmor1.5-1.0).\n",
      "  wavelet = DiscreteContinuousWavelet(wavelet)\n",
      "c:\\Users\\chakr\\Anaconda3\\envs\\eeg_thesis\\lib\\site-packages\\pywt\\_cwt.py:117: FutureWarning: Wavelets from the family cmor, without parameters specified in the name are deprecated. The name should takethe form cmorB-C where B and C are floats representing the bandwidth frequency and center frequency, respectively (example: cmor1.5-1.0).\n",
      "  wavelet = DiscreteContinuousWavelet(wavelet)\n"
     ]
    },
    {
     "name": "stdout",
     "output_type": "stream",
     "text": [
      "Opening raw data file C:\\School\\EE_Y3\\Q4\\BAP\\eeg_thesis_cnn_repo\\data\\external\\interim\\S094R07_filtered.fif...\n",
      "Isotrak not found\n",
      "    Range : 0 ... 30749 =      0.000 ...   122.996 secs\n",
      "Ready.\n",
      "Reading 0 ... 30749  =      0.000 ...   122.996 secs...\n",
      "Used Annotations descriptions: ['T0', 'T1', 'T2']\n",
      "Not setting metadata\n",
      "15 matching events found\n",
      "No baseline correction applied\n",
      "0 projection items activated\n",
      "Using data from preloaded Raw for 15 events and 126 original time points ...\n",
      "0 bad epochs dropped\n"
     ]
    },
    {
     "name": "stderr",
     "output_type": "stream",
     "text": [
      "C:\\Users\\chakr\\AppData\\Local\\Temp\\ipykernel_13788\\3980180034.py:3: RuntimeWarning: This filename (C:\\School\\EE_Y3\\Q4\\BAP\\eeg_thesis_cnn_repo\\data\\external\\interim\\S094R07_filtered.fif) does not conform to MNE naming conventions. All raw files should end with raw.fif, raw_sss.fif, raw_tsss.fif, _meg.fif, _eeg.fif, _ieeg.fif, raw.fif.gz, raw_sss.fif.gz, raw_tsss.fif.gz, _meg.fif.gz, _eeg.fif.gz or _ieeg.fif.gz\n",
      "  raw = mne.io.read_raw_fif(fif_file, preload=True)\n",
      "c:\\Users\\chakr\\Anaconda3\\envs\\eeg_thesis\\lib\\site-packages\\pywt\\_functions.py:143: FutureWarning: Wavelets from the family cmor, without parameters specified in the name are deprecated. The name should takethe form cmorB-C where B and C are floats representing the bandwidth frequency and center frequency, respectively (example: cmor1.5-1.0).\n",
      "  wavelet = DiscreteContinuousWavelet(wavelet)\n",
      "c:\\Users\\chakr\\Anaconda3\\envs\\eeg_thesis\\lib\\site-packages\\pywt\\_cwt.py:117: FutureWarning: Wavelets from the family cmor, without parameters specified in the name are deprecated. The name should takethe form cmorB-C where B and C are floats representing the bandwidth frequency and center frequency, respectively (example: cmor1.5-1.0).\n",
      "  wavelet = DiscreteContinuousWavelet(wavelet)\n"
     ]
    },
    {
     "name": "stdout",
     "output_type": "stream",
     "text": [
      "Opening raw data file C:\\School\\EE_Y3\\Q4\\BAP\\eeg_thesis_cnn_repo\\data\\external\\interim\\S094R11_filtered.fif...\n",
      "Isotrak not found\n",
      "    Range : 0 ... 30749 =      0.000 ...   122.996 secs\n",
      "Ready.\n",
      "Reading 0 ... 30749  =      0.000 ...   122.996 secs...\n",
      "Used Annotations descriptions: ['T0', 'T1', 'T2']\n",
      "Not setting metadata\n",
      "15 matching events found\n",
      "No baseline correction applied\n",
      "0 projection items activated\n",
      "Using data from preloaded Raw for 15 events and 126 original time points ...\n",
      "0 bad epochs dropped\n"
     ]
    },
    {
     "name": "stderr",
     "output_type": "stream",
     "text": [
      "C:\\Users\\chakr\\AppData\\Local\\Temp\\ipykernel_13788\\3980180034.py:3: RuntimeWarning: This filename (C:\\School\\EE_Y3\\Q4\\BAP\\eeg_thesis_cnn_repo\\data\\external\\interim\\S094R11_filtered.fif) does not conform to MNE naming conventions. All raw files should end with raw.fif, raw_sss.fif, raw_tsss.fif, _meg.fif, _eeg.fif, _ieeg.fif, raw.fif.gz, raw_sss.fif.gz, raw_tsss.fif.gz, _meg.fif.gz, _eeg.fif.gz or _ieeg.fif.gz\n",
      "  raw = mne.io.read_raw_fif(fif_file, preload=True)\n",
      "c:\\Users\\chakr\\Anaconda3\\envs\\eeg_thesis\\lib\\site-packages\\pywt\\_functions.py:143: FutureWarning: Wavelets from the family cmor, without parameters specified in the name are deprecated. The name should takethe form cmorB-C where B and C are floats representing the bandwidth frequency and center frequency, respectively (example: cmor1.5-1.0).\n",
      "  wavelet = DiscreteContinuousWavelet(wavelet)\n",
      "c:\\Users\\chakr\\Anaconda3\\envs\\eeg_thesis\\lib\\site-packages\\pywt\\_cwt.py:117: FutureWarning: Wavelets from the family cmor, without parameters specified in the name are deprecated. The name should takethe form cmorB-C where B and C are floats representing the bandwidth frequency and center frequency, respectively (example: cmor1.5-1.0).\n",
      "  wavelet = DiscreteContinuousWavelet(wavelet)\n"
     ]
    },
    {
     "name": "stdout",
     "output_type": "stream",
     "text": [
      "Opening raw data file C:\\School\\EE_Y3\\Q4\\BAP\\eeg_thesis_cnn_repo\\data\\external\\interim\\S095R03_filtered.fif...\n",
      "Isotrak not found\n",
      "    Range : 0 ... 31249 =      0.000 ...   124.996 secs\n",
      "Ready.\n",
      "Reading 0 ... 31249  =      0.000 ...   124.996 secs...\n",
      "Used Annotations descriptions: ['T0', 'T1', 'T2']\n",
      "Not setting metadata\n",
      "15 matching events found\n",
      "No baseline correction applied\n",
      "0 projection items activated\n",
      "Using data from preloaded Raw for 15 events and 126 original time points ...\n",
      "0 bad epochs dropped\n"
     ]
    },
    {
     "name": "stderr",
     "output_type": "stream",
     "text": [
      "C:\\Users\\chakr\\AppData\\Local\\Temp\\ipykernel_13788\\3980180034.py:3: RuntimeWarning: This filename (C:\\School\\EE_Y3\\Q4\\BAP\\eeg_thesis_cnn_repo\\data\\external\\interim\\S095R03_filtered.fif) does not conform to MNE naming conventions. All raw files should end with raw.fif, raw_sss.fif, raw_tsss.fif, _meg.fif, _eeg.fif, _ieeg.fif, raw.fif.gz, raw_sss.fif.gz, raw_tsss.fif.gz, _meg.fif.gz, _eeg.fif.gz or _ieeg.fif.gz\n",
      "  raw = mne.io.read_raw_fif(fif_file, preload=True)\n",
      "c:\\Users\\chakr\\Anaconda3\\envs\\eeg_thesis\\lib\\site-packages\\pywt\\_functions.py:143: FutureWarning: Wavelets from the family cmor, without parameters specified in the name are deprecated. The name should takethe form cmorB-C where B and C are floats representing the bandwidth frequency and center frequency, respectively (example: cmor1.5-1.0).\n",
      "  wavelet = DiscreteContinuousWavelet(wavelet)\n",
      "c:\\Users\\chakr\\Anaconda3\\envs\\eeg_thesis\\lib\\site-packages\\pywt\\_cwt.py:117: FutureWarning: Wavelets from the family cmor, without parameters specified in the name are deprecated. The name should takethe form cmorB-C where B and C are floats representing the bandwidth frequency and center frequency, respectively (example: cmor1.5-1.0).\n",
      "  wavelet = DiscreteContinuousWavelet(wavelet)\n"
     ]
    },
    {
     "name": "stdout",
     "output_type": "stream",
     "text": [
      "Opening raw data file C:\\School\\EE_Y3\\Q4\\BAP\\eeg_thesis_cnn_repo\\data\\external\\interim\\S095R07_filtered.fif...\n",
      "Isotrak not found\n",
      "    Range : 0 ... 31249 =      0.000 ...   124.996 secs\n",
      "Ready.\n",
      "Reading 0 ... 31249  =      0.000 ...   124.996 secs...\n",
      "Used Annotations descriptions: ['T0', 'T1', 'T2']\n",
      "Not setting metadata\n",
      "15 matching events found\n",
      "No baseline correction applied\n",
      "0 projection items activated\n",
      "Using data from preloaded Raw for 15 events and 126 original time points ...\n",
      "0 bad epochs dropped\n"
     ]
    },
    {
     "name": "stderr",
     "output_type": "stream",
     "text": [
      "C:\\Users\\chakr\\AppData\\Local\\Temp\\ipykernel_13788\\3980180034.py:3: RuntimeWarning: This filename (C:\\School\\EE_Y3\\Q4\\BAP\\eeg_thesis_cnn_repo\\data\\external\\interim\\S095R07_filtered.fif) does not conform to MNE naming conventions. All raw files should end with raw.fif, raw_sss.fif, raw_tsss.fif, _meg.fif, _eeg.fif, _ieeg.fif, raw.fif.gz, raw_sss.fif.gz, raw_tsss.fif.gz, _meg.fif.gz, _eeg.fif.gz or _ieeg.fif.gz\n",
      "  raw = mne.io.read_raw_fif(fif_file, preload=True)\n",
      "c:\\Users\\chakr\\Anaconda3\\envs\\eeg_thesis\\lib\\site-packages\\pywt\\_functions.py:143: FutureWarning: Wavelets from the family cmor, without parameters specified in the name are deprecated. The name should takethe form cmorB-C where B and C are floats representing the bandwidth frequency and center frequency, respectively (example: cmor1.5-1.0).\n",
      "  wavelet = DiscreteContinuousWavelet(wavelet)\n",
      "c:\\Users\\chakr\\Anaconda3\\envs\\eeg_thesis\\lib\\site-packages\\pywt\\_cwt.py:117: FutureWarning: Wavelets from the family cmor, without parameters specified in the name are deprecated. The name should takethe form cmorB-C where B and C are floats representing the bandwidth frequency and center frequency, respectively (example: cmor1.5-1.0).\n",
      "  wavelet = DiscreteContinuousWavelet(wavelet)\n"
     ]
    },
    {
     "name": "stdout",
     "output_type": "stream",
     "text": [
      "Opening raw data file C:\\School\\EE_Y3\\Q4\\BAP\\eeg_thesis_cnn_repo\\data\\external\\interim\\S095R11_filtered.fif...\n",
      "Isotrak not found\n",
      "    Range : 0 ... 31249 =      0.000 ...   124.996 secs\n",
      "Ready.\n",
      "Reading 0 ... 31249  =      0.000 ...   124.996 secs...\n",
      "Used Annotations descriptions: ['T0', 'T1', 'T2']\n",
      "Not setting metadata\n",
      "15 matching events found\n",
      "No baseline correction applied\n",
      "0 projection items activated\n",
      "Using data from preloaded Raw for 15 events and 126 original time points ...\n",
      "0 bad epochs dropped\n"
     ]
    },
    {
     "name": "stderr",
     "output_type": "stream",
     "text": [
      "C:\\Users\\chakr\\AppData\\Local\\Temp\\ipykernel_13788\\3980180034.py:3: RuntimeWarning: This filename (C:\\School\\EE_Y3\\Q4\\BAP\\eeg_thesis_cnn_repo\\data\\external\\interim\\S095R11_filtered.fif) does not conform to MNE naming conventions. All raw files should end with raw.fif, raw_sss.fif, raw_tsss.fif, _meg.fif, _eeg.fif, _ieeg.fif, raw.fif.gz, raw_sss.fif.gz, raw_tsss.fif.gz, _meg.fif.gz, _eeg.fif.gz or _ieeg.fif.gz\n",
      "  raw = mne.io.read_raw_fif(fif_file, preload=True)\n",
      "c:\\Users\\chakr\\Anaconda3\\envs\\eeg_thesis\\lib\\site-packages\\pywt\\_functions.py:143: FutureWarning: Wavelets from the family cmor, without parameters specified in the name are deprecated. The name should takethe form cmorB-C where B and C are floats representing the bandwidth frequency and center frequency, respectively (example: cmor1.5-1.0).\n",
      "  wavelet = DiscreteContinuousWavelet(wavelet)\n",
      "c:\\Users\\chakr\\Anaconda3\\envs\\eeg_thesis\\lib\\site-packages\\pywt\\_cwt.py:117: FutureWarning: Wavelets from the family cmor, without parameters specified in the name are deprecated. The name should takethe form cmorB-C where B and C are floats representing the bandwidth frequency and center frequency, respectively (example: cmor1.5-1.0).\n",
      "  wavelet = DiscreteContinuousWavelet(wavelet)\n"
     ]
    },
    {
     "name": "stdout",
     "output_type": "stream",
     "text": [
      "Opening raw data file C:\\School\\EE_Y3\\Q4\\BAP\\eeg_thesis_cnn_repo\\data\\external\\interim\\S096R03_filtered.fif...\n",
      "Isotrak not found\n",
      "    Range : 0 ... 31249 =      0.000 ...   124.996 secs\n",
      "Ready.\n",
      "Reading 0 ... 31249  =      0.000 ...   124.996 secs...\n",
      "Used Annotations descriptions: ['T0', 'T1', 'T2']\n",
      "Not setting metadata\n",
      "15 matching events found\n",
      "No baseline correction applied\n",
      "0 projection items activated\n",
      "Using data from preloaded Raw for 15 events and 126 original time points ...\n",
      "0 bad epochs dropped\n"
     ]
    },
    {
     "name": "stderr",
     "output_type": "stream",
     "text": [
      "C:\\Users\\chakr\\AppData\\Local\\Temp\\ipykernel_13788\\3980180034.py:3: RuntimeWarning: This filename (C:\\School\\EE_Y3\\Q4\\BAP\\eeg_thesis_cnn_repo\\data\\external\\interim\\S096R03_filtered.fif) does not conform to MNE naming conventions. All raw files should end with raw.fif, raw_sss.fif, raw_tsss.fif, _meg.fif, _eeg.fif, _ieeg.fif, raw.fif.gz, raw_sss.fif.gz, raw_tsss.fif.gz, _meg.fif.gz, _eeg.fif.gz or _ieeg.fif.gz\n",
      "  raw = mne.io.read_raw_fif(fif_file, preload=True)\n",
      "c:\\Users\\chakr\\Anaconda3\\envs\\eeg_thesis\\lib\\site-packages\\pywt\\_functions.py:143: FutureWarning: Wavelets from the family cmor, without parameters specified in the name are deprecated. The name should takethe form cmorB-C where B and C are floats representing the bandwidth frequency and center frequency, respectively (example: cmor1.5-1.0).\n",
      "  wavelet = DiscreteContinuousWavelet(wavelet)\n",
      "c:\\Users\\chakr\\Anaconda3\\envs\\eeg_thesis\\lib\\site-packages\\pywt\\_cwt.py:117: FutureWarning: Wavelets from the family cmor, without parameters specified in the name are deprecated. The name should takethe form cmorB-C where B and C are floats representing the bandwidth frequency and center frequency, respectively (example: cmor1.5-1.0).\n",
      "  wavelet = DiscreteContinuousWavelet(wavelet)\n"
     ]
    },
    {
     "name": "stdout",
     "output_type": "stream",
     "text": [
      "Opening raw data file C:\\School\\EE_Y3\\Q4\\BAP\\eeg_thesis_cnn_repo\\data\\external\\interim\\S096R07_filtered.fif...\n",
      "Isotrak not found\n",
      "    Range : 0 ... 31249 =      0.000 ...   124.996 secs\n",
      "Ready.\n",
      "Reading 0 ... 31249  =      0.000 ...   124.996 secs...\n",
      "Used Annotations descriptions: ['T0', 'T1', 'T2']\n",
      "Not setting metadata\n",
      "15 matching events found\n",
      "No baseline correction applied\n",
      "0 projection items activated\n",
      "Using data from preloaded Raw for 15 events and 126 original time points ...\n",
      "0 bad epochs dropped\n"
     ]
    },
    {
     "name": "stderr",
     "output_type": "stream",
     "text": [
      "C:\\Users\\chakr\\AppData\\Local\\Temp\\ipykernel_13788\\3980180034.py:3: RuntimeWarning: This filename (C:\\School\\EE_Y3\\Q4\\BAP\\eeg_thesis_cnn_repo\\data\\external\\interim\\S096R07_filtered.fif) does not conform to MNE naming conventions. All raw files should end with raw.fif, raw_sss.fif, raw_tsss.fif, _meg.fif, _eeg.fif, _ieeg.fif, raw.fif.gz, raw_sss.fif.gz, raw_tsss.fif.gz, _meg.fif.gz, _eeg.fif.gz or _ieeg.fif.gz\n",
      "  raw = mne.io.read_raw_fif(fif_file, preload=True)\n",
      "c:\\Users\\chakr\\Anaconda3\\envs\\eeg_thesis\\lib\\site-packages\\pywt\\_functions.py:143: FutureWarning: Wavelets from the family cmor, without parameters specified in the name are deprecated. The name should takethe form cmorB-C where B and C are floats representing the bandwidth frequency and center frequency, respectively (example: cmor1.5-1.0).\n",
      "  wavelet = DiscreteContinuousWavelet(wavelet)\n",
      "c:\\Users\\chakr\\Anaconda3\\envs\\eeg_thesis\\lib\\site-packages\\pywt\\_cwt.py:117: FutureWarning: Wavelets from the family cmor, without parameters specified in the name are deprecated. The name should takethe form cmorB-C where B and C are floats representing the bandwidth frequency and center frequency, respectively (example: cmor1.5-1.0).\n",
      "  wavelet = DiscreteContinuousWavelet(wavelet)\n"
     ]
    },
    {
     "name": "stdout",
     "output_type": "stream",
     "text": [
      "Opening raw data file C:\\School\\EE_Y3\\Q4\\BAP\\eeg_thesis_cnn_repo\\data\\external\\interim\\S096R11_filtered.fif...\n",
      "Isotrak not found\n",
      "    Range : 0 ... 31249 =      0.000 ...   124.996 secs\n",
      "Ready.\n",
      "Reading 0 ... 31249  =      0.000 ...   124.996 secs...\n",
      "Used Annotations descriptions: ['T0', 'T1', 'T2']\n",
      "Not setting metadata\n",
      "15 matching events found\n",
      "No baseline correction applied\n",
      "0 projection items activated\n",
      "Using data from preloaded Raw for 15 events and 126 original time points ...\n",
      "0 bad epochs dropped\n"
     ]
    },
    {
     "name": "stderr",
     "output_type": "stream",
     "text": [
      "C:\\Users\\chakr\\AppData\\Local\\Temp\\ipykernel_13788\\3980180034.py:3: RuntimeWarning: This filename (C:\\School\\EE_Y3\\Q4\\BAP\\eeg_thesis_cnn_repo\\data\\external\\interim\\S096R11_filtered.fif) does not conform to MNE naming conventions. All raw files should end with raw.fif, raw_sss.fif, raw_tsss.fif, _meg.fif, _eeg.fif, _ieeg.fif, raw.fif.gz, raw_sss.fif.gz, raw_tsss.fif.gz, _meg.fif.gz, _eeg.fif.gz or _ieeg.fif.gz\n",
      "  raw = mne.io.read_raw_fif(fif_file, preload=True)\n",
      "c:\\Users\\chakr\\Anaconda3\\envs\\eeg_thesis\\lib\\site-packages\\pywt\\_functions.py:143: FutureWarning: Wavelets from the family cmor, without parameters specified in the name are deprecated. The name should takethe form cmorB-C where B and C are floats representing the bandwidth frequency and center frequency, respectively (example: cmor1.5-1.0).\n",
      "  wavelet = DiscreteContinuousWavelet(wavelet)\n",
      "c:\\Users\\chakr\\Anaconda3\\envs\\eeg_thesis\\lib\\site-packages\\pywt\\_cwt.py:117: FutureWarning: Wavelets from the family cmor, without parameters specified in the name are deprecated. The name should takethe form cmorB-C where B and C are floats representing the bandwidth frequency and center frequency, respectively (example: cmor1.5-1.0).\n",
      "  wavelet = DiscreteContinuousWavelet(wavelet)\n"
     ]
    },
    {
     "name": "stdout",
     "output_type": "stream",
     "text": [
      "Opening raw data file C:\\School\\EE_Y3\\Q4\\BAP\\eeg_thesis_cnn_repo\\data\\external\\interim\\S097R03_filtered.fif...\n",
      "Isotrak not found\n",
      "    Range : 0 ... 30749 =      0.000 ...   122.996 secs\n",
      "Ready.\n",
      "Reading 0 ... 30749  =      0.000 ...   122.996 secs...\n",
      "Used Annotations descriptions: ['T0', 'T1', 'T2']\n",
      "Not setting metadata\n",
      "15 matching events found\n",
      "No baseline correction applied\n",
      "0 projection items activated\n",
      "Using data from preloaded Raw for 15 events and 126 original time points ...\n",
      "0 bad epochs dropped\n"
     ]
    },
    {
     "name": "stderr",
     "output_type": "stream",
     "text": [
      "C:\\Users\\chakr\\AppData\\Local\\Temp\\ipykernel_13788\\3980180034.py:3: RuntimeWarning: This filename (C:\\School\\EE_Y3\\Q4\\BAP\\eeg_thesis_cnn_repo\\data\\external\\interim\\S097R03_filtered.fif) does not conform to MNE naming conventions. All raw files should end with raw.fif, raw_sss.fif, raw_tsss.fif, _meg.fif, _eeg.fif, _ieeg.fif, raw.fif.gz, raw_sss.fif.gz, raw_tsss.fif.gz, _meg.fif.gz, _eeg.fif.gz or _ieeg.fif.gz\n",
      "  raw = mne.io.read_raw_fif(fif_file, preload=True)\n",
      "c:\\Users\\chakr\\Anaconda3\\envs\\eeg_thesis\\lib\\site-packages\\pywt\\_functions.py:143: FutureWarning: Wavelets from the family cmor, without parameters specified in the name are deprecated. The name should takethe form cmorB-C where B and C are floats representing the bandwidth frequency and center frequency, respectively (example: cmor1.5-1.0).\n",
      "  wavelet = DiscreteContinuousWavelet(wavelet)\n",
      "c:\\Users\\chakr\\Anaconda3\\envs\\eeg_thesis\\lib\\site-packages\\pywt\\_cwt.py:117: FutureWarning: Wavelets from the family cmor, without parameters specified in the name are deprecated. The name should takethe form cmorB-C where B and C are floats representing the bandwidth frequency and center frequency, respectively (example: cmor1.5-1.0).\n",
      "  wavelet = DiscreteContinuousWavelet(wavelet)\n"
     ]
    },
    {
     "name": "stdout",
     "output_type": "stream",
     "text": [
      "Opening raw data file C:\\School\\EE_Y3\\Q4\\BAP\\eeg_thesis_cnn_repo\\data\\external\\interim\\S097R07_filtered.fif...\n",
      "Isotrak not found\n",
      "    Range : 0 ... 30749 =      0.000 ...   122.996 secs\n",
      "Ready.\n",
      "Reading 0 ... 30749  =      0.000 ...   122.996 secs...\n",
      "Used Annotations descriptions: ['T0', 'T1', 'T2']\n",
      "Not setting metadata\n",
      "15 matching events found\n",
      "No baseline correction applied\n",
      "0 projection items activated\n",
      "Using data from preloaded Raw for 15 events and 126 original time points ...\n",
      "0 bad epochs dropped\n"
     ]
    },
    {
     "name": "stderr",
     "output_type": "stream",
     "text": [
      "C:\\Users\\chakr\\AppData\\Local\\Temp\\ipykernel_13788\\3980180034.py:3: RuntimeWarning: This filename (C:\\School\\EE_Y3\\Q4\\BAP\\eeg_thesis_cnn_repo\\data\\external\\interim\\S097R07_filtered.fif) does not conform to MNE naming conventions. All raw files should end with raw.fif, raw_sss.fif, raw_tsss.fif, _meg.fif, _eeg.fif, _ieeg.fif, raw.fif.gz, raw_sss.fif.gz, raw_tsss.fif.gz, _meg.fif.gz, _eeg.fif.gz or _ieeg.fif.gz\n",
      "  raw = mne.io.read_raw_fif(fif_file, preload=True)\n",
      "c:\\Users\\chakr\\Anaconda3\\envs\\eeg_thesis\\lib\\site-packages\\pywt\\_functions.py:143: FutureWarning: Wavelets from the family cmor, without parameters specified in the name are deprecated. The name should takethe form cmorB-C where B and C are floats representing the bandwidth frequency and center frequency, respectively (example: cmor1.5-1.0).\n",
      "  wavelet = DiscreteContinuousWavelet(wavelet)\n",
      "c:\\Users\\chakr\\Anaconda3\\envs\\eeg_thesis\\lib\\site-packages\\pywt\\_cwt.py:117: FutureWarning: Wavelets from the family cmor, without parameters specified in the name are deprecated. The name should takethe form cmorB-C where B and C are floats representing the bandwidth frequency and center frequency, respectively (example: cmor1.5-1.0).\n",
      "  wavelet = DiscreteContinuousWavelet(wavelet)\n"
     ]
    },
    {
     "name": "stdout",
     "output_type": "stream",
     "text": [
      "Opening raw data file C:\\School\\EE_Y3\\Q4\\BAP\\eeg_thesis_cnn_repo\\data\\external\\interim\\S097R11_filtered.fif...\n",
      "Isotrak not found\n",
      "    Range : 0 ... 30749 =      0.000 ...   122.996 secs\n",
      "Ready.\n",
      "Reading 0 ... 30749  =      0.000 ...   122.996 secs...\n",
      "Used Annotations descriptions: ['T0', 'T1', 'T2']\n",
      "Not setting metadata\n",
      "15 matching events found\n",
      "No baseline correction applied\n",
      "0 projection items activated\n",
      "Using data from preloaded Raw for 15 events and 126 original time points ...\n",
      "0 bad epochs dropped\n"
     ]
    },
    {
     "name": "stderr",
     "output_type": "stream",
     "text": [
      "C:\\Users\\chakr\\AppData\\Local\\Temp\\ipykernel_13788\\3980180034.py:3: RuntimeWarning: This filename (C:\\School\\EE_Y3\\Q4\\BAP\\eeg_thesis_cnn_repo\\data\\external\\interim\\S097R11_filtered.fif) does not conform to MNE naming conventions. All raw files should end with raw.fif, raw_sss.fif, raw_tsss.fif, _meg.fif, _eeg.fif, _ieeg.fif, raw.fif.gz, raw_sss.fif.gz, raw_tsss.fif.gz, _meg.fif.gz, _eeg.fif.gz or _ieeg.fif.gz\n",
      "  raw = mne.io.read_raw_fif(fif_file, preload=True)\n",
      "c:\\Users\\chakr\\Anaconda3\\envs\\eeg_thesis\\lib\\site-packages\\pywt\\_functions.py:143: FutureWarning: Wavelets from the family cmor, without parameters specified in the name are deprecated. The name should takethe form cmorB-C where B and C are floats representing the bandwidth frequency and center frequency, respectively (example: cmor1.5-1.0).\n",
      "  wavelet = DiscreteContinuousWavelet(wavelet)\n",
      "c:\\Users\\chakr\\Anaconda3\\envs\\eeg_thesis\\lib\\site-packages\\pywt\\_cwt.py:117: FutureWarning: Wavelets from the family cmor, without parameters specified in the name are deprecated. The name should takethe form cmorB-C where B and C are floats representing the bandwidth frequency and center frequency, respectively (example: cmor1.5-1.0).\n",
      "  wavelet = DiscreteContinuousWavelet(wavelet)\n"
     ]
    },
    {
     "name": "stdout",
     "output_type": "stream",
     "text": [
      "Opening raw data file C:\\School\\EE_Y3\\Q4\\BAP\\eeg_thesis_cnn_repo\\data\\external\\interim\\S098R03_filtered.fif...\n",
      "Isotrak not found\n",
      "    Range : 0 ... 30749 =      0.000 ...   122.996 secs\n",
      "Ready.\n",
      "Reading 0 ... 30749  =      0.000 ...   122.996 secs...\n",
      "Used Annotations descriptions: ['T0', 'T1', 'T2']\n",
      "Not setting metadata\n",
      "15 matching events found\n",
      "No baseline correction applied\n",
      "0 projection items activated\n",
      "Using data from preloaded Raw for 15 events and 126 original time points ...\n",
      "0 bad epochs dropped\n"
     ]
    },
    {
     "name": "stderr",
     "output_type": "stream",
     "text": [
      "C:\\Users\\chakr\\AppData\\Local\\Temp\\ipykernel_13788\\3980180034.py:3: RuntimeWarning: This filename (C:\\School\\EE_Y3\\Q4\\BAP\\eeg_thesis_cnn_repo\\data\\external\\interim\\S098R03_filtered.fif) does not conform to MNE naming conventions. All raw files should end with raw.fif, raw_sss.fif, raw_tsss.fif, _meg.fif, _eeg.fif, _ieeg.fif, raw.fif.gz, raw_sss.fif.gz, raw_tsss.fif.gz, _meg.fif.gz, _eeg.fif.gz or _ieeg.fif.gz\n",
      "  raw = mne.io.read_raw_fif(fif_file, preload=True)\n",
      "c:\\Users\\chakr\\Anaconda3\\envs\\eeg_thesis\\lib\\site-packages\\pywt\\_functions.py:143: FutureWarning: Wavelets from the family cmor, without parameters specified in the name are deprecated. The name should takethe form cmorB-C where B and C are floats representing the bandwidth frequency and center frequency, respectively (example: cmor1.5-1.0).\n",
      "  wavelet = DiscreteContinuousWavelet(wavelet)\n",
      "c:\\Users\\chakr\\Anaconda3\\envs\\eeg_thesis\\lib\\site-packages\\pywt\\_cwt.py:117: FutureWarning: Wavelets from the family cmor, without parameters specified in the name are deprecated. The name should takethe form cmorB-C where B and C are floats representing the bandwidth frequency and center frequency, respectively (example: cmor1.5-1.0).\n",
      "  wavelet = DiscreteContinuousWavelet(wavelet)\n"
     ]
    },
    {
     "name": "stdout",
     "output_type": "stream",
     "text": [
      "Opening raw data file C:\\School\\EE_Y3\\Q4\\BAP\\eeg_thesis_cnn_repo\\data\\external\\interim\\S098R07_filtered.fif...\n",
      "Isotrak not found\n",
      "    Range : 0 ... 30749 =      0.000 ...   122.996 secs\n",
      "Ready.\n",
      "Reading 0 ... 30749  =      0.000 ...   122.996 secs...\n",
      "Used Annotations descriptions: ['T0', 'T1', 'T2']\n",
      "Not setting metadata\n",
      "15 matching events found\n",
      "No baseline correction applied\n",
      "0 projection items activated\n",
      "Using data from preloaded Raw for 15 events and 126 original time points ...\n",
      "0 bad epochs dropped\n"
     ]
    },
    {
     "name": "stderr",
     "output_type": "stream",
     "text": [
      "C:\\Users\\chakr\\AppData\\Local\\Temp\\ipykernel_13788\\3980180034.py:3: RuntimeWarning: This filename (C:\\School\\EE_Y3\\Q4\\BAP\\eeg_thesis_cnn_repo\\data\\external\\interim\\S098R07_filtered.fif) does not conform to MNE naming conventions. All raw files should end with raw.fif, raw_sss.fif, raw_tsss.fif, _meg.fif, _eeg.fif, _ieeg.fif, raw.fif.gz, raw_sss.fif.gz, raw_tsss.fif.gz, _meg.fif.gz, _eeg.fif.gz or _ieeg.fif.gz\n",
      "  raw = mne.io.read_raw_fif(fif_file, preload=True)\n",
      "c:\\Users\\chakr\\Anaconda3\\envs\\eeg_thesis\\lib\\site-packages\\pywt\\_functions.py:143: FutureWarning: Wavelets from the family cmor, without parameters specified in the name are deprecated. The name should takethe form cmorB-C where B and C are floats representing the bandwidth frequency and center frequency, respectively (example: cmor1.5-1.0).\n",
      "  wavelet = DiscreteContinuousWavelet(wavelet)\n",
      "c:\\Users\\chakr\\Anaconda3\\envs\\eeg_thesis\\lib\\site-packages\\pywt\\_cwt.py:117: FutureWarning: Wavelets from the family cmor, without parameters specified in the name are deprecated. The name should takethe form cmorB-C where B and C are floats representing the bandwidth frequency and center frequency, respectively (example: cmor1.5-1.0).\n",
      "  wavelet = DiscreteContinuousWavelet(wavelet)\n"
     ]
    },
    {
     "name": "stdout",
     "output_type": "stream",
     "text": [
      "Opening raw data file C:\\School\\EE_Y3\\Q4\\BAP\\eeg_thesis_cnn_repo\\data\\external\\interim\\S098R11_filtered.fif...\n",
      "Isotrak not found\n",
      "    Range : 0 ... 30749 =      0.000 ...   122.996 secs\n",
      "Ready.\n",
      "Reading 0 ... 30749  =      0.000 ...   122.996 secs...\n",
      "Used Annotations descriptions: ['T0', 'T1', 'T2']\n",
      "Not setting metadata\n",
      "15 matching events found\n",
      "No baseline correction applied\n",
      "0 projection items activated\n",
      "Using data from preloaded Raw for 15 events and 126 original time points ...\n",
      "0 bad epochs dropped\n"
     ]
    },
    {
     "name": "stderr",
     "output_type": "stream",
     "text": [
      "C:\\Users\\chakr\\AppData\\Local\\Temp\\ipykernel_13788\\3980180034.py:3: RuntimeWarning: This filename (C:\\School\\EE_Y3\\Q4\\BAP\\eeg_thesis_cnn_repo\\data\\external\\interim\\S098R11_filtered.fif) does not conform to MNE naming conventions. All raw files should end with raw.fif, raw_sss.fif, raw_tsss.fif, _meg.fif, _eeg.fif, _ieeg.fif, raw.fif.gz, raw_sss.fif.gz, raw_tsss.fif.gz, _meg.fif.gz, _eeg.fif.gz or _ieeg.fif.gz\n",
      "  raw = mne.io.read_raw_fif(fif_file, preload=True)\n",
      "c:\\Users\\chakr\\Anaconda3\\envs\\eeg_thesis\\lib\\site-packages\\pywt\\_functions.py:143: FutureWarning: Wavelets from the family cmor, without parameters specified in the name are deprecated. The name should takethe form cmorB-C where B and C are floats representing the bandwidth frequency and center frequency, respectively (example: cmor1.5-1.0).\n",
      "  wavelet = DiscreteContinuousWavelet(wavelet)\n",
      "c:\\Users\\chakr\\Anaconda3\\envs\\eeg_thesis\\lib\\site-packages\\pywt\\_cwt.py:117: FutureWarning: Wavelets from the family cmor, without parameters specified in the name are deprecated. The name should takethe form cmorB-C where B and C are floats representing the bandwidth frequency and center frequency, respectively (example: cmor1.5-1.0).\n",
      "  wavelet = DiscreteContinuousWavelet(wavelet)\n"
     ]
    },
    {
     "name": "stdout",
     "output_type": "stream",
     "text": [
      "Opening raw data file C:\\School\\EE_Y3\\Q4\\BAP\\eeg_thesis_cnn_repo\\data\\external\\interim\\S099R03_filtered.fif...\n",
      "Isotrak not found\n",
      "    Range : 0 ... 30749 =      0.000 ...   122.996 secs\n",
      "Ready.\n",
      "Reading 0 ... 30749  =      0.000 ...   122.996 secs...\n",
      "Used Annotations descriptions: ['T0', 'T1', 'T2']\n",
      "Not setting metadata\n",
      "15 matching events found\n",
      "No baseline correction applied\n",
      "0 projection items activated\n",
      "Using data from preloaded Raw for 15 events and 126 original time points ...\n",
      "0 bad epochs dropped\n"
     ]
    },
    {
     "name": "stderr",
     "output_type": "stream",
     "text": [
      "C:\\Users\\chakr\\AppData\\Local\\Temp\\ipykernel_13788\\3980180034.py:3: RuntimeWarning: This filename (C:\\School\\EE_Y3\\Q4\\BAP\\eeg_thesis_cnn_repo\\data\\external\\interim\\S099R03_filtered.fif) does not conform to MNE naming conventions. All raw files should end with raw.fif, raw_sss.fif, raw_tsss.fif, _meg.fif, _eeg.fif, _ieeg.fif, raw.fif.gz, raw_sss.fif.gz, raw_tsss.fif.gz, _meg.fif.gz, _eeg.fif.gz or _ieeg.fif.gz\n",
      "  raw = mne.io.read_raw_fif(fif_file, preload=True)\n",
      "c:\\Users\\chakr\\Anaconda3\\envs\\eeg_thesis\\lib\\site-packages\\pywt\\_functions.py:143: FutureWarning: Wavelets from the family cmor, without parameters specified in the name are deprecated. The name should takethe form cmorB-C where B and C are floats representing the bandwidth frequency and center frequency, respectively (example: cmor1.5-1.0).\n",
      "  wavelet = DiscreteContinuousWavelet(wavelet)\n",
      "c:\\Users\\chakr\\Anaconda3\\envs\\eeg_thesis\\lib\\site-packages\\pywt\\_cwt.py:117: FutureWarning: Wavelets from the family cmor, without parameters specified in the name are deprecated. The name should takethe form cmorB-C where B and C are floats representing the bandwidth frequency and center frequency, respectively (example: cmor1.5-1.0).\n",
      "  wavelet = DiscreteContinuousWavelet(wavelet)\n"
     ]
    },
    {
     "name": "stdout",
     "output_type": "stream",
     "text": [
      "Opening raw data file C:\\School\\EE_Y3\\Q4\\BAP\\eeg_thesis_cnn_repo\\data\\external\\interim\\S099R07_filtered.fif...\n",
      "Isotrak not found\n",
      "    Range : 0 ... 30749 =      0.000 ...   122.996 secs\n",
      "Ready.\n",
      "Reading 0 ... 30749  =      0.000 ...   122.996 secs...\n",
      "Used Annotations descriptions: ['T0', 'T1', 'T2']\n",
      "Not setting metadata\n",
      "15 matching events found\n",
      "No baseline correction applied\n",
      "0 projection items activated\n",
      "Using data from preloaded Raw for 15 events and 126 original time points ...\n",
      "0 bad epochs dropped\n"
     ]
    },
    {
     "name": "stderr",
     "output_type": "stream",
     "text": [
      "C:\\Users\\chakr\\AppData\\Local\\Temp\\ipykernel_13788\\3980180034.py:3: RuntimeWarning: This filename (C:\\School\\EE_Y3\\Q4\\BAP\\eeg_thesis_cnn_repo\\data\\external\\interim\\S099R07_filtered.fif) does not conform to MNE naming conventions. All raw files should end with raw.fif, raw_sss.fif, raw_tsss.fif, _meg.fif, _eeg.fif, _ieeg.fif, raw.fif.gz, raw_sss.fif.gz, raw_tsss.fif.gz, _meg.fif.gz, _eeg.fif.gz or _ieeg.fif.gz\n",
      "  raw = mne.io.read_raw_fif(fif_file, preload=True)\n",
      "c:\\Users\\chakr\\Anaconda3\\envs\\eeg_thesis\\lib\\site-packages\\pywt\\_functions.py:143: FutureWarning: Wavelets from the family cmor, without parameters specified in the name are deprecated. The name should takethe form cmorB-C where B and C are floats representing the bandwidth frequency and center frequency, respectively (example: cmor1.5-1.0).\n",
      "  wavelet = DiscreteContinuousWavelet(wavelet)\n",
      "c:\\Users\\chakr\\Anaconda3\\envs\\eeg_thesis\\lib\\site-packages\\pywt\\_cwt.py:117: FutureWarning: Wavelets from the family cmor, without parameters specified in the name are deprecated. The name should takethe form cmorB-C where B and C are floats representing the bandwidth frequency and center frequency, respectively (example: cmor1.5-1.0).\n",
      "  wavelet = DiscreteContinuousWavelet(wavelet)\n"
     ]
    },
    {
     "name": "stdout",
     "output_type": "stream",
     "text": [
      "Opening raw data file C:\\School\\EE_Y3\\Q4\\BAP\\eeg_thesis_cnn_repo\\data\\external\\interim\\S099R11_filtered.fif...\n",
      "Isotrak not found\n",
      "    Range : 0 ... 30749 =      0.000 ...   122.996 secs\n",
      "Ready.\n",
      "Reading 0 ... 30749  =      0.000 ...   122.996 secs...\n",
      "Used Annotations descriptions: ['T0', 'T1', 'T2']\n",
      "Not setting metadata\n",
      "15 matching events found\n",
      "No baseline correction applied\n",
      "0 projection items activated\n",
      "Using data from preloaded Raw for 15 events and 126 original time points ...\n",
      "0 bad epochs dropped\n"
     ]
    },
    {
     "name": "stderr",
     "output_type": "stream",
     "text": [
      "C:\\Users\\chakr\\AppData\\Local\\Temp\\ipykernel_13788\\3980180034.py:3: RuntimeWarning: This filename (C:\\School\\EE_Y3\\Q4\\BAP\\eeg_thesis_cnn_repo\\data\\external\\interim\\S099R11_filtered.fif) does not conform to MNE naming conventions. All raw files should end with raw.fif, raw_sss.fif, raw_tsss.fif, _meg.fif, _eeg.fif, _ieeg.fif, raw.fif.gz, raw_sss.fif.gz, raw_tsss.fif.gz, _meg.fif.gz, _eeg.fif.gz or _ieeg.fif.gz\n",
      "  raw = mne.io.read_raw_fif(fif_file, preload=True)\n",
      "c:\\Users\\chakr\\Anaconda3\\envs\\eeg_thesis\\lib\\site-packages\\pywt\\_functions.py:143: FutureWarning: Wavelets from the family cmor, without parameters specified in the name are deprecated. The name should takethe form cmorB-C where B and C are floats representing the bandwidth frequency and center frequency, respectively (example: cmor1.5-1.0).\n",
      "  wavelet = DiscreteContinuousWavelet(wavelet)\n",
      "c:\\Users\\chakr\\Anaconda3\\envs\\eeg_thesis\\lib\\site-packages\\pywt\\_cwt.py:117: FutureWarning: Wavelets from the family cmor, without parameters specified in the name are deprecated. The name should takethe form cmorB-C where B and C are floats representing the bandwidth frequency and center frequency, respectively (example: cmor1.5-1.0).\n",
      "  wavelet = DiscreteContinuousWavelet(wavelet)\n"
     ]
    },
    {
     "name": "stdout",
     "output_type": "stream",
     "text": [
      "Opening raw data file C:\\School\\EE_Y3\\Q4\\BAP\\eeg_thesis_cnn_repo\\data\\external\\interim\\S100R03_filtered.fif...\n",
      "Isotrak not found\n",
      "    Range : 0 ... 30749 =      0.000 ...   122.996 secs\n",
      "Ready.\n",
      "Reading 0 ... 30749  =      0.000 ...   122.996 secs...\n",
      "Used Annotations descriptions: ['T0', 'T1', 'T2']\n",
      "Not setting metadata\n",
      "12 matching events found\n",
      "No baseline correction applied\n",
      "0 projection items activated\n",
      "Using data from preloaded Raw for 12 events and 126 original time points ...\n",
      "0 bad epochs dropped\n"
     ]
    },
    {
     "name": "stderr",
     "output_type": "stream",
     "text": [
      "C:\\Users\\chakr\\AppData\\Local\\Temp\\ipykernel_13788\\3980180034.py:3: RuntimeWarning: This filename (C:\\School\\EE_Y3\\Q4\\BAP\\eeg_thesis_cnn_repo\\data\\external\\interim\\S100R03_filtered.fif) does not conform to MNE naming conventions. All raw files should end with raw.fif, raw_sss.fif, raw_tsss.fif, _meg.fif, _eeg.fif, _ieeg.fif, raw.fif.gz, raw_sss.fif.gz, raw_tsss.fif.gz, _meg.fif.gz, _eeg.fif.gz or _ieeg.fif.gz\n",
      "  raw = mne.io.read_raw_fif(fif_file, preload=True)\n",
      "c:\\Users\\chakr\\Anaconda3\\envs\\eeg_thesis\\lib\\site-packages\\pywt\\_functions.py:143: FutureWarning: Wavelets from the family cmor, without parameters specified in the name are deprecated. The name should takethe form cmorB-C where B and C are floats representing the bandwidth frequency and center frequency, respectively (example: cmor1.5-1.0).\n",
      "  wavelet = DiscreteContinuousWavelet(wavelet)\n",
      "c:\\Users\\chakr\\Anaconda3\\envs\\eeg_thesis\\lib\\site-packages\\pywt\\_cwt.py:117: FutureWarning: Wavelets from the family cmor, without parameters specified in the name are deprecated. The name should takethe form cmorB-C where B and C are floats representing the bandwidth frequency and center frequency, respectively (example: cmor1.5-1.0).\n",
      "  wavelet = DiscreteContinuousWavelet(wavelet)\n"
     ]
    },
    {
     "name": "stdout",
     "output_type": "stream",
     "text": [
      "Opening raw data file C:\\School\\EE_Y3\\Q4\\BAP\\eeg_thesis_cnn_repo\\data\\external\\interim\\S100R07_filtered.fif...\n",
      "Isotrak not found\n",
      "    Range : 0 ... 30749 =      0.000 ...   122.996 secs\n",
      "Ready.\n",
      "Reading 0 ... 30749  =      0.000 ...   122.996 secs...\n",
      "Used Annotations descriptions: ['T0', 'T1', 'T2']\n",
      "Not setting metadata\n",
      "12 matching events found\n",
      "No baseline correction applied\n",
      "0 projection items activated\n",
      "Using data from preloaded Raw for 12 events and 126 original time points ...\n",
      "0 bad epochs dropped\n"
     ]
    },
    {
     "name": "stderr",
     "output_type": "stream",
     "text": [
      "C:\\Users\\chakr\\AppData\\Local\\Temp\\ipykernel_13788\\3980180034.py:3: RuntimeWarning: This filename (C:\\School\\EE_Y3\\Q4\\BAP\\eeg_thesis_cnn_repo\\data\\external\\interim\\S100R07_filtered.fif) does not conform to MNE naming conventions. All raw files should end with raw.fif, raw_sss.fif, raw_tsss.fif, _meg.fif, _eeg.fif, _ieeg.fif, raw.fif.gz, raw_sss.fif.gz, raw_tsss.fif.gz, _meg.fif.gz, _eeg.fif.gz or _ieeg.fif.gz\n",
      "  raw = mne.io.read_raw_fif(fif_file, preload=True)\n",
      "c:\\Users\\chakr\\Anaconda3\\envs\\eeg_thesis\\lib\\site-packages\\pywt\\_functions.py:143: FutureWarning: Wavelets from the family cmor, without parameters specified in the name are deprecated. The name should takethe form cmorB-C where B and C are floats representing the bandwidth frequency and center frequency, respectively (example: cmor1.5-1.0).\n",
      "  wavelet = DiscreteContinuousWavelet(wavelet)\n",
      "c:\\Users\\chakr\\Anaconda3\\envs\\eeg_thesis\\lib\\site-packages\\pywt\\_cwt.py:117: FutureWarning: Wavelets from the family cmor, without parameters specified in the name are deprecated. The name should takethe form cmorB-C where B and C are floats representing the bandwidth frequency and center frequency, respectively (example: cmor1.5-1.0).\n",
      "  wavelet = DiscreteContinuousWavelet(wavelet)\n"
     ]
    },
    {
     "name": "stdout",
     "output_type": "stream",
     "text": [
      "Opening raw data file C:\\School\\EE_Y3\\Q4\\BAP\\eeg_thesis_cnn_repo\\data\\external\\interim\\S100R11_filtered.fif...\n",
      "Isotrak not found\n",
      "    Range : 0 ... 30749 =      0.000 ...   122.996 secs\n",
      "Ready.\n",
      "Reading 0 ... 30749  =      0.000 ...   122.996 secs...\n",
      "Used Annotations descriptions: ['T0', 'T1', 'T2']\n",
      "Not setting metadata\n",
      "12 matching events found\n",
      "No baseline correction applied\n",
      "0 projection items activated\n",
      "Using data from preloaded Raw for 12 events and 126 original time points ...\n",
      "0 bad epochs dropped\n"
     ]
    },
    {
     "name": "stderr",
     "output_type": "stream",
     "text": [
      "C:\\Users\\chakr\\AppData\\Local\\Temp\\ipykernel_13788\\3980180034.py:3: RuntimeWarning: This filename (C:\\School\\EE_Y3\\Q4\\BAP\\eeg_thesis_cnn_repo\\data\\external\\interim\\S100R11_filtered.fif) does not conform to MNE naming conventions. All raw files should end with raw.fif, raw_sss.fif, raw_tsss.fif, _meg.fif, _eeg.fif, _ieeg.fif, raw.fif.gz, raw_sss.fif.gz, raw_tsss.fif.gz, _meg.fif.gz, _eeg.fif.gz or _ieeg.fif.gz\n",
      "  raw = mne.io.read_raw_fif(fif_file, preload=True)\n",
      "c:\\Users\\chakr\\Anaconda3\\envs\\eeg_thesis\\lib\\site-packages\\pywt\\_functions.py:143: FutureWarning: Wavelets from the family cmor, without parameters specified in the name are deprecated. The name should takethe form cmorB-C where B and C are floats representing the bandwidth frequency and center frequency, respectively (example: cmor1.5-1.0).\n",
      "  wavelet = DiscreteContinuousWavelet(wavelet)\n",
      "c:\\Users\\chakr\\Anaconda3\\envs\\eeg_thesis\\lib\\site-packages\\pywt\\_cwt.py:117: FutureWarning: Wavelets from the family cmor, without parameters specified in the name are deprecated. The name should takethe form cmorB-C where B and C are floats representing the bandwidth frequency and center frequency, respectively (example: cmor1.5-1.0).\n",
      "  wavelet = DiscreteContinuousWavelet(wavelet)\n"
     ]
    },
    {
     "name": "stdout",
     "output_type": "stream",
     "text": [
      "Opening raw data file C:\\School\\EE_Y3\\Q4\\BAP\\eeg_thesis_cnn_repo\\data\\external\\interim\\S101R03_filtered.fif...\n",
      "Isotrak not found\n",
      "    Range : 0 ... 31249 =      0.000 ...   124.996 secs\n",
      "Ready.\n",
      "Reading 0 ... 31249  =      0.000 ...   124.996 secs...\n",
      "Used Annotations descriptions: ['T0', 'T1', 'T2']\n",
      "Not setting metadata\n",
      "15 matching events found\n",
      "No baseline correction applied\n",
      "0 projection items activated\n",
      "Using data from preloaded Raw for 15 events and 126 original time points ...\n",
      "0 bad epochs dropped\n"
     ]
    },
    {
     "name": "stderr",
     "output_type": "stream",
     "text": [
      "C:\\Users\\chakr\\AppData\\Local\\Temp\\ipykernel_13788\\3980180034.py:3: RuntimeWarning: This filename (C:\\School\\EE_Y3\\Q4\\BAP\\eeg_thesis_cnn_repo\\data\\external\\interim\\S101R03_filtered.fif) does not conform to MNE naming conventions. All raw files should end with raw.fif, raw_sss.fif, raw_tsss.fif, _meg.fif, _eeg.fif, _ieeg.fif, raw.fif.gz, raw_sss.fif.gz, raw_tsss.fif.gz, _meg.fif.gz, _eeg.fif.gz or _ieeg.fif.gz\n",
      "  raw = mne.io.read_raw_fif(fif_file, preload=True)\n",
      "c:\\Users\\chakr\\Anaconda3\\envs\\eeg_thesis\\lib\\site-packages\\pywt\\_functions.py:143: FutureWarning: Wavelets from the family cmor, without parameters specified in the name are deprecated. The name should takethe form cmorB-C where B and C are floats representing the bandwidth frequency and center frequency, respectively (example: cmor1.5-1.0).\n",
      "  wavelet = DiscreteContinuousWavelet(wavelet)\n",
      "c:\\Users\\chakr\\Anaconda3\\envs\\eeg_thesis\\lib\\site-packages\\pywt\\_cwt.py:117: FutureWarning: Wavelets from the family cmor, without parameters specified in the name are deprecated. The name should takethe form cmorB-C where B and C are floats representing the bandwidth frequency and center frequency, respectively (example: cmor1.5-1.0).\n",
      "  wavelet = DiscreteContinuousWavelet(wavelet)\n"
     ]
    },
    {
     "name": "stdout",
     "output_type": "stream",
     "text": [
      "Opening raw data file C:\\School\\EE_Y3\\Q4\\BAP\\eeg_thesis_cnn_repo\\data\\external\\interim\\S101R07_filtered.fif...\n",
      "Isotrak not found\n",
      "    Range : 0 ... 31249 =      0.000 ...   124.996 secs\n",
      "Ready.\n",
      "Reading 0 ... 31249  =      0.000 ...   124.996 secs...\n",
      "Used Annotations descriptions: ['T0', 'T1', 'T2']\n",
      "Not setting metadata\n",
      "15 matching events found\n",
      "No baseline correction applied\n",
      "0 projection items activated\n",
      "Using data from preloaded Raw for 15 events and 126 original time points ...\n",
      "0 bad epochs dropped\n"
     ]
    },
    {
     "name": "stderr",
     "output_type": "stream",
     "text": [
      "C:\\Users\\chakr\\AppData\\Local\\Temp\\ipykernel_13788\\3980180034.py:3: RuntimeWarning: This filename (C:\\School\\EE_Y3\\Q4\\BAP\\eeg_thesis_cnn_repo\\data\\external\\interim\\S101R07_filtered.fif) does not conform to MNE naming conventions. All raw files should end with raw.fif, raw_sss.fif, raw_tsss.fif, _meg.fif, _eeg.fif, _ieeg.fif, raw.fif.gz, raw_sss.fif.gz, raw_tsss.fif.gz, _meg.fif.gz, _eeg.fif.gz or _ieeg.fif.gz\n",
      "  raw = mne.io.read_raw_fif(fif_file, preload=True)\n",
      "c:\\Users\\chakr\\Anaconda3\\envs\\eeg_thesis\\lib\\site-packages\\pywt\\_functions.py:143: FutureWarning: Wavelets from the family cmor, without parameters specified in the name are deprecated. The name should takethe form cmorB-C where B and C are floats representing the bandwidth frequency and center frequency, respectively (example: cmor1.5-1.0).\n",
      "  wavelet = DiscreteContinuousWavelet(wavelet)\n",
      "c:\\Users\\chakr\\Anaconda3\\envs\\eeg_thesis\\lib\\site-packages\\pywt\\_cwt.py:117: FutureWarning: Wavelets from the family cmor, without parameters specified in the name are deprecated. The name should takethe form cmorB-C where B and C are floats representing the bandwidth frequency and center frequency, respectively (example: cmor1.5-1.0).\n",
      "  wavelet = DiscreteContinuousWavelet(wavelet)\n"
     ]
    },
    {
     "name": "stdout",
     "output_type": "stream",
     "text": [
      "Opening raw data file C:\\School\\EE_Y3\\Q4\\BAP\\eeg_thesis_cnn_repo\\data\\external\\interim\\S101R11_filtered.fif...\n",
      "Isotrak not found\n",
      "    Range : 0 ... 31249 =      0.000 ...   124.996 secs\n",
      "Ready.\n",
      "Reading 0 ... 31249  =      0.000 ...   124.996 secs...\n",
      "Used Annotations descriptions: ['T0', 'T1', 'T2']\n",
      "Not setting metadata\n",
      "15 matching events found\n",
      "No baseline correction applied\n",
      "0 projection items activated\n",
      "Using data from preloaded Raw for 15 events and 126 original time points ...\n",
      "0 bad epochs dropped\n"
     ]
    },
    {
     "name": "stderr",
     "output_type": "stream",
     "text": [
      "C:\\Users\\chakr\\AppData\\Local\\Temp\\ipykernel_13788\\3980180034.py:3: RuntimeWarning: This filename (C:\\School\\EE_Y3\\Q4\\BAP\\eeg_thesis_cnn_repo\\data\\external\\interim\\S101R11_filtered.fif) does not conform to MNE naming conventions. All raw files should end with raw.fif, raw_sss.fif, raw_tsss.fif, _meg.fif, _eeg.fif, _ieeg.fif, raw.fif.gz, raw_sss.fif.gz, raw_tsss.fif.gz, _meg.fif.gz, _eeg.fif.gz or _ieeg.fif.gz\n",
      "  raw = mne.io.read_raw_fif(fif_file, preload=True)\n",
      "c:\\Users\\chakr\\Anaconda3\\envs\\eeg_thesis\\lib\\site-packages\\pywt\\_functions.py:143: FutureWarning: Wavelets from the family cmor, without parameters specified in the name are deprecated. The name should takethe form cmorB-C where B and C are floats representing the bandwidth frequency and center frequency, respectively (example: cmor1.5-1.0).\n",
      "  wavelet = DiscreteContinuousWavelet(wavelet)\n",
      "c:\\Users\\chakr\\Anaconda3\\envs\\eeg_thesis\\lib\\site-packages\\pywt\\_cwt.py:117: FutureWarning: Wavelets from the family cmor, without parameters specified in the name are deprecated. The name should takethe form cmorB-C where B and C are floats representing the bandwidth frequency and center frequency, respectively (example: cmor1.5-1.0).\n",
      "  wavelet = DiscreteContinuousWavelet(wavelet)\n"
     ]
    },
    {
     "name": "stdout",
     "output_type": "stream",
     "text": [
      "Opening raw data file C:\\School\\EE_Y3\\Q4\\BAP\\eeg_thesis_cnn_repo\\data\\external\\interim\\S102R03_filtered.fif...\n",
      "Isotrak not found\n",
      "    Range : 0 ... 30749 =      0.000 ...   122.996 secs\n",
      "Ready.\n",
      "Reading 0 ... 30749  =      0.000 ...   122.996 secs...\n",
      "Used Annotations descriptions: ['T0', 'T1', 'T2']\n",
      "Not setting metadata\n",
      "15 matching events found\n",
      "No baseline correction applied\n",
      "0 projection items activated\n",
      "Using data from preloaded Raw for 15 events and 126 original time points ...\n",
      "0 bad epochs dropped\n"
     ]
    },
    {
     "name": "stderr",
     "output_type": "stream",
     "text": [
      "C:\\Users\\chakr\\AppData\\Local\\Temp\\ipykernel_13788\\3980180034.py:3: RuntimeWarning: This filename (C:\\School\\EE_Y3\\Q4\\BAP\\eeg_thesis_cnn_repo\\data\\external\\interim\\S102R03_filtered.fif) does not conform to MNE naming conventions. All raw files should end with raw.fif, raw_sss.fif, raw_tsss.fif, _meg.fif, _eeg.fif, _ieeg.fif, raw.fif.gz, raw_sss.fif.gz, raw_tsss.fif.gz, _meg.fif.gz, _eeg.fif.gz or _ieeg.fif.gz\n",
      "  raw = mne.io.read_raw_fif(fif_file, preload=True)\n",
      "c:\\Users\\chakr\\Anaconda3\\envs\\eeg_thesis\\lib\\site-packages\\pywt\\_functions.py:143: FutureWarning: Wavelets from the family cmor, without parameters specified in the name are deprecated. The name should takethe form cmorB-C where B and C are floats representing the bandwidth frequency and center frequency, respectively (example: cmor1.5-1.0).\n",
      "  wavelet = DiscreteContinuousWavelet(wavelet)\n",
      "c:\\Users\\chakr\\Anaconda3\\envs\\eeg_thesis\\lib\\site-packages\\pywt\\_cwt.py:117: FutureWarning: Wavelets from the family cmor, without parameters specified in the name are deprecated. The name should takethe form cmorB-C where B and C are floats representing the bandwidth frequency and center frequency, respectively (example: cmor1.5-1.0).\n",
      "  wavelet = DiscreteContinuousWavelet(wavelet)\n"
     ]
    },
    {
     "name": "stdout",
     "output_type": "stream",
     "text": [
      "Opening raw data file C:\\School\\EE_Y3\\Q4\\BAP\\eeg_thesis_cnn_repo\\data\\external\\interim\\S102R07_filtered.fif...\n",
      "Isotrak not found\n",
      "    Range : 0 ... 30749 =      0.000 ...   122.996 secs\n",
      "Ready.\n",
      "Reading 0 ... 30749  =      0.000 ...   122.996 secs...\n",
      "Used Annotations descriptions: ['T0', 'T1', 'T2']\n",
      "Not setting metadata\n",
      "15 matching events found\n",
      "No baseline correction applied\n",
      "0 projection items activated\n",
      "Using data from preloaded Raw for 15 events and 126 original time points ...\n",
      "0 bad epochs dropped\n"
     ]
    },
    {
     "name": "stderr",
     "output_type": "stream",
     "text": [
      "C:\\Users\\chakr\\AppData\\Local\\Temp\\ipykernel_13788\\3980180034.py:3: RuntimeWarning: This filename (C:\\School\\EE_Y3\\Q4\\BAP\\eeg_thesis_cnn_repo\\data\\external\\interim\\S102R07_filtered.fif) does not conform to MNE naming conventions. All raw files should end with raw.fif, raw_sss.fif, raw_tsss.fif, _meg.fif, _eeg.fif, _ieeg.fif, raw.fif.gz, raw_sss.fif.gz, raw_tsss.fif.gz, _meg.fif.gz, _eeg.fif.gz or _ieeg.fif.gz\n",
      "  raw = mne.io.read_raw_fif(fif_file, preload=True)\n",
      "c:\\Users\\chakr\\Anaconda3\\envs\\eeg_thesis\\lib\\site-packages\\pywt\\_functions.py:143: FutureWarning: Wavelets from the family cmor, without parameters specified in the name are deprecated. The name should takethe form cmorB-C where B and C are floats representing the bandwidth frequency and center frequency, respectively (example: cmor1.5-1.0).\n",
      "  wavelet = DiscreteContinuousWavelet(wavelet)\n",
      "c:\\Users\\chakr\\Anaconda3\\envs\\eeg_thesis\\lib\\site-packages\\pywt\\_cwt.py:117: FutureWarning: Wavelets from the family cmor, without parameters specified in the name are deprecated. The name should takethe form cmorB-C where B and C are floats representing the bandwidth frequency and center frequency, respectively (example: cmor1.5-1.0).\n",
      "  wavelet = DiscreteContinuousWavelet(wavelet)\n"
     ]
    },
    {
     "name": "stdout",
     "output_type": "stream",
     "text": [
      "Opening raw data file C:\\School\\EE_Y3\\Q4\\BAP\\eeg_thesis_cnn_repo\\data\\external\\interim\\S102R11_filtered.fif...\n",
      "Isotrak not found\n",
      "    Range : 0 ... 30749 =      0.000 ...   122.996 secs\n",
      "Ready.\n",
      "Reading 0 ... 30749  =      0.000 ...   122.996 secs...\n",
      "Used Annotations descriptions: ['T0', 'T1', 'T2']\n",
      "Not setting metadata\n",
      "15 matching events found\n",
      "No baseline correction applied\n",
      "0 projection items activated\n",
      "Using data from preloaded Raw for 15 events and 126 original time points ...\n",
      "0 bad epochs dropped\n"
     ]
    },
    {
     "name": "stderr",
     "output_type": "stream",
     "text": [
      "C:\\Users\\chakr\\AppData\\Local\\Temp\\ipykernel_13788\\3980180034.py:3: RuntimeWarning: This filename (C:\\School\\EE_Y3\\Q4\\BAP\\eeg_thesis_cnn_repo\\data\\external\\interim\\S102R11_filtered.fif) does not conform to MNE naming conventions. All raw files should end with raw.fif, raw_sss.fif, raw_tsss.fif, _meg.fif, _eeg.fif, _ieeg.fif, raw.fif.gz, raw_sss.fif.gz, raw_tsss.fif.gz, _meg.fif.gz, _eeg.fif.gz or _ieeg.fif.gz\n",
      "  raw = mne.io.read_raw_fif(fif_file, preload=True)\n",
      "c:\\Users\\chakr\\Anaconda3\\envs\\eeg_thesis\\lib\\site-packages\\pywt\\_functions.py:143: FutureWarning: Wavelets from the family cmor, without parameters specified in the name are deprecated. The name should takethe form cmorB-C where B and C are floats representing the bandwidth frequency and center frequency, respectively (example: cmor1.5-1.0).\n",
      "  wavelet = DiscreteContinuousWavelet(wavelet)\n",
      "c:\\Users\\chakr\\Anaconda3\\envs\\eeg_thesis\\lib\\site-packages\\pywt\\_cwt.py:117: FutureWarning: Wavelets from the family cmor, without parameters specified in the name are deprecated. The name should takethe form cmorB-C where B and C are floats representing the bandwidth frequency and center frequency, respectively (example: cmor1.5-1.0).\n",
      "  wavelet = DiscreteContinuousWavelet(wavelet)\n"
     ]
    },
    {
     "name": "stdout",
     "output_type": "stream",
     "text": [
      "Opening raw data file C:\\School\\EE_Y3\\Q4\\BAP\\eeg_thesis_cnn_repo\\data\\external\\interim\\S103R03_filtered.fif...\n",
      "Isotrak not found\n",
      "    Range : 0 ... 31249 =      0.000 ...   124.996 secs\n",
      "Ready.\n",
      "Reading 0 ... 31249  =      0.000 ...   124.996 secs...\n",
      "Used Annotations descriptions: ['T0', 'T1', 'T2']\n",
      "Not setting metadata\n",
      "15 matching events found\n",
      "No baseline correction applied\n",
      "0 projection items activated\n",
      "Using data from preloaded Raw for 15 events and 126 original time points ...\n",
      "0 bad epochs dropped\n"
     ]
    },
    {
     "name": "stderr",
     "output_type": "stream",
     "text": [
      "C:\\Users\\chakr\\AppData\\Local\\Temp\\ipykernel_13788\\3980180034.py:3: RuntimeWarning: This filename (C:\\School\\EE_Y3\\Q4\\BAP\\eeg_thesis_cnn_repo\\data\\external\\interim\\S103R03_filtered.fif) does not conform to MNE naming conventions. All raw files should end with raw.fif, raw_sss.fif, raw_tsss.fif, _meg.fif, _eeg.fif, _ieeg.fif, raw.fif.gz, raw_sss.fif.gz, raw_tsss.fif.gz, _meg.fif.gz, _eeg.fif.gz or _ieeg.fif.gz\n",
      "  raw = mne.io.read_raw_fif(fif_file, preload=True)\n",
      "c:\\Users\\chakr\\Anaconda3\\envs\\eeg_thesis\\lib\\site-packages\\pywt\\_functions.py:143: FutureWarning: Wavelets from the family cmor, without parameters specified in the name are deprecated. The name should takethe form cmorB-C where B and C are floats representing the bandwidth frequency and center frequency, respectively (example: cmor1.5-1.0).\n",
      "  wavelet = DiscreteContinuousWavelet(wavelet)\n",
      "c:\\Users\\chakr\\Anaconda3\\envs\\eeg_thesis\\lib\\site-packages\\pywt\\_cwt.py:117: FutureWarning: Wavelets from the family cmor, without parameters specified in the name are deprecated. The name should takethe form cmorB-C where B and C are floats representing the bandwidth frequency and center frequency, respectively (example: cmor1.5-1.0).\n",
      "  wavelet = DiscreteContinuousWavelet(wavelet)\n"
     ]
    },
    {
     "name": "stdout",
     "output_type": "stream",
     "text": [
      "Opening raw data file C:\\School\\EE_Y3\\Q4\\BAP\\eeg_thesis_cnn_repo\\data\\external\\interim\\S103R07_filtered.fif...\n",
      "Isotrak not found\n",
      "    Range : 0 ... 31249 =      0.000 ...   124.996 secs\n",
      "Ready.\n",
      "Reading 0 ... 31249  =      0.000 ...   124.996 secs...\n",
      "Used Annotations descriptions: ['T0', 'T1', 'T2']\n",
      "Not setting metadata\n",
      "15 matching events found\n",
      "No baseline correction applied\n",
      "0 projection items activated\n",
      "Using data from preloaded Raw for 15 events and 126 original time points ...\n",
      "0 bad epochs dropped\n"
     ]
    },
    {
     "name": "stderr",
     "output_type": "stream",
     "text": [
      "C:\\Users\\chakr\\AppData\\Local\\Temp\\ipykernel_13788\\3980180034.py:3: RuntimeWarning: This filename (C:\\School\\EE_Y3\\Q4\\BAP\\eeg_thesis_cnn_repo\\data\\external\\interim\\S103R07_filtered.fif) does not conform to MNE naming conventions. All raw files should end with raw.fif, raw_sss.fif, raw_tsss.fif, _meg.fif, _eeg.fif, _ieeg.fif, raw.fif.gz, raw_sss.fif.gz, raw_tsss.fif.gz, _meg.fif.gz, _eeg.fif.gz or _ieeg.fif.gz\n",
      "  raw = mne.io.read_raw_fif(fif_file, preload=True)\n",
      "c:\\Users\\chakr\\Anaconda3\\envs\\eeg_thesis\\lib\\site-packages\\pywt\\_functions.py:143: FutureWarning: Wavelets from the family cmor, without parameters specified in the name are deprecated. The name should takethe form cmorB-C where B and C are floats representing the bandwidth frequency and center frequency, respectively (example: cmor1.5-1.0).\n",
      "  wavelet = DiscreteContinuousWavelet(wavelet)\n",
      "c:\\Users\\chakr\\Anaconda3\\envs\\eeg_thesis\\lib\\site-packages\\pywt\\_cwt.py:117: FutureWarning: Wavelets from the family cmor, without parameters specified in the name are deprecated. The name should takethe form cmorB-C where B and C are floats representing the bandwidth frequency and center frequency, respectively (example: cmor1.5-1.0).\n",
      "  wavelet = DiscreteContinuousWavelet(wavelet)\n"
     ]
    },
    {
     "name": "stdout",
     "output_type": "stream",
     "text": [
      "Opening raw data file C:\\School\\EE_Y3\\Q4\\BAP\\eeg_thesis_cnn_repo\\data\\external\\interim\\S103R11_filtered.fif...\n",
      "Isotrak not found\n",
      "    Range : 0 ... 31249 =      0.000 ...   124.996 secs\n",
      "Ready.\n",
      "Reading 0 ... 31249  =      0.000 ...   124.996 secs...\n",
      "Used Annotations descriptions: ['T0', 'T1', 'T2']\n",
      "Not setting metadata\n",
      "15 matching events found\n",
      "No baseline correction applied\n",
      "0 projection items activated\n",
      "Using data from preloaded Raw for 15 events and 126 original time points ...\n",
      "0 bad epochs dropped\n"
     ]
    },
    {
     "name": "stderr",
     "output_type": "stream",
     "text": [
      "C:\\Users\\chakr\\AppData\\Local\\Temp\\ipykernel_13788\\3980180034.py:3: RuntimeWarning: This filename (C:\\School\\EE_Y3\\Q4\\BAP\\eeg_thesis_cnn_repo\\data\\external\\interim\\S103R11_filtered.fif) does not conform to MNE naming conventions. All raw files should end with raw.fif, raw_sss.fif, raw_tsss.fif, _meg.fif, _eeg.fif, _ieeg.fif, raw.fif.gz, raw_sss.fif.gz, raw_tsss.fif.gz, _meg.fif.gz, _eeg.fif.gz or _ieeg.fif.gz\n",
      "  raw = mne.io.read_raw_fif(fif_file, preload=True)\n",
      "c:\\Users\\chakr\\Anaconda3\\envs\\eeg_thesis\\lib\\site-packages\\pywt\\_functions.py:143: FutureWarning: Wavelets from the family cmor, without parameters specified in the name are deprecated. The name should takethe form cmorB-C where B and C are floats representing the bandwidth frequency and center frequency, respectively (example: cmor1.5-1.0).\n",
      "  wavelet = DiscreteContinuousWavelet(wavelet)\n",
      "c:\\Users\\chakr\\Anaconda3\\envs\\eeg_thesis\\lib\\site-packages\\pywt\\_cwt.py:117: FutureWarning: Wavelets from the family cmor, without parameters specified in the name are deprecated. The name should takethe form cmorB-C where B and C are floats representing the bandwidth frequency and center frequency, respectively (example: cmor1.5-1.0).\n",
      "  wavelet = DiscreteContinuousWavelet(wavelet)\n"
     ]
    },
    {
     "name": "stdout",
     "output_type": "stream",
     "text": [
      "Opening raw data file C:\\School\\EE_Y3\\Q4\\BAP\\eeg_thesis_cnn_repo\\data\\external\\interim\\S104R03_filtered.fif...\n",
      "Isotrak not found\n",
      "    Range : 0 ... 30749 =      0.000 ...   122.996 secs\n",
      "Ready.\n",
      "Reading 0 ... 30749  =      0.000 ...   122.996 secs...\n",
      "Used Annotations descriptions: ['T0', 'T1', 'T2']\n",
      "Not setting metadata\n",
      "15 matching events found\n",
      "No baseline correction applied\n",
      "0 projection items activated\n",
      "Using data from preloaded Raw for 15 events and 126 original time points ...\n",
      "0 bad epochs dropped\n"
     ]
    },
    {
     "name": "stderr",
     "output_type": "stream",
     "text": [
      "C:\\Users\\chakr\\AppData\\Local\\Temp\\ipykernel_13788\\3980180034.py:3: RuntimeWarning: This filename (C:\\School\\EE_Y3\\Q4\\BAP\\eeg_thesis_cnn_repo\\data\\external\\interim\\S104R03_filtered.fif) does not conform to MNE naming conventions. All raw files should end with raw.fif, raw_sss.fif, raw_tsss.fif, _meg.fif, _eeg.fif, _ieeg.fif, raw.fif.gz, raw_sss.fif.gz, raw_tsss.fif.gz, _meg.fif.gz, _eeg.fif.gz or _ieeg.fif.gz\n",
      "  raw = mne.io.read_raw_fif(fif_file, preload=True)\n",
      "c:\\Users\\chakr\\Anaconda3\\envs\\eeg_thesis\\lib\\site-packages\\pywt\\_functions.py:143: FutureWarning: Wavelets from the family cmor, without parameters specified in the name are deprecated. The name should takethe form cmorB-C where B and C are floats representing the bandwidth frequency and center frequency, respectively (example: cmor1.5-1.0).\n",
      "  wavelet = DiscreteContinuousWavelet(wavelet)\n",
      "c:\\Users\\chakr\\Anaconda3\\envs\\eeg_thesis\\lib\\site-packages\\pywt\\_cwt.py:117: FutureWarning: Wavelets from the family cmor, without parameters specified in the name are deprecated. The name should takethe form cmorB-C where B and C are floats representing the bandwidth frequency and center frequency, respectively (example: cmor1.5-1.0).\n",
      "  wavelet = DiscreteContinuousWavelet(wavelet)\n"
     ]
    },
    {
     "name": "stdout",
     "output_type": "stream",
     "text": [
      "Opening raw data file C:\\School\\EE_Y3\\Q4\\BAP\\eeg_thesis_cnn_repo\\data\\external\\interim\\S104R07_filtered.fif...\n",
      "Isotrak not found\n",
      "    Range : 0 ... 30749 =      0.000 ...   122.996 secs\n",
      "Ready.\n",
      "Reading 0 ... 30749  =      0.000 ...   122.996 secs...\n",
      "Used Annotations descriptions: ['T0', 'T1', 'T2']\n",
      "Not setting metadata\n",
      "15 matching events found\n",
      "No baseline correction applied\n",
      "0 projection items activated\n",
      "Using data from preloaded Raw for 15 events and 126 original time points ...\n",
      "0 bad epochs dropped\n"
     ]
    },
    {
     "name": "stderr",
     "output_type": "stream",
     "text": [
      "C:\\Users\\chakr\\AppData\\Local\\Temp\\ipykernel_13788\\3980180034.py:3: RuntimeWarning: This filename (C:\\School\\EE_Y3\\Q4\\BAP\\eeg_thesis_cnn_repo\\data\\external\\interim\\S104R07_filtered.fif) does not conform to MNE naming conventions. All raw files should end with raw.fif, raw_sss.fif, raw_tsss.fif, _meg.fif, _eeg.fif, _ieeg.fif, raw.fif.gz, raw_sss.fif.gz, raw_tsss.fif.gz, _meg.fif.gz, _eeg.fif.gz or _ieeg.fif.gz\n",
      "  raw = mne.io.read_raw_fif(fif_file, preload=True)\n",
      "c:\\Users\\chakr\\Anaconda3\\envs\\eeg_thesis\\lib\\site-packages\\pywt\\_functions.py:143: FutureWarning: Wavelets from the family cmor, without parameters specified in the name are deprecated. The name should takethe form cmorB-C where B and C are floats representing the bandwidth frequency and center frequency, respectively (example: cmor1.5-1.0).\n",
      "  wavelet = DiscreteContinuousWavelet(wavelet)\n",
      "c:\\Users\\chakr\\Anaconda3\\envs\\eeg_thesis\\lib\\site-packages\\pywt\\_cwt.py:117: FutureWarning: Wavelets from the family cmor, without parameters specified in the name are deprecated. The name should takethe form cmorB-C where B and C are floats representing the bandwidth frequency and center frequency, respectively (example: cmor1.5-1.0).\n",
      "  wavelet = DiscreteContinuousWavelet(wavelet)\n"
     ]
    },
    {
     "name": "stdout",
     "output_type": "stream",
     "text": [
      "Opening raw data file C:\\School\\EE_Y3\\Q4\\BAP\\eeg_thesis_cnn_repo\\data\\external\\interim\\S104R11_filtered.fif...\n",
      "Isotrak not found\n",
      "    Range : 0 ... 30749 =      0.000 ...   122.996 secs\n",
      "Ready.\n",
      "Reading 0 ... 30749  =      0.000 ...   122.996 secs...\n",
      "Used Annotations descriptions: ['T0', 'T1', 'T2']\n",
      "Not setting metadata\n",
      "15 matching events found\n",
      "No baseline correction applied\n",
      "0 projection items activated\n",
      "Using data from preloaded Raw for 15 events and 126 original time points ...\n",
      "0 bad epochs dropped\n"
     ]
    },
    {
     "name": "stderr",
     "output_type": "stream",
     "text": [
      "C:\\Users\\chakr\\AppData\\Local\\Temp\\ipykernel_13788\\3980180034.py:3: RuntimeWarning: This filename (C:\\School\\EE_Y3\\Q4\\BAP\\eeg_thesis_cnn_repo\\data\\external\\interim\\S104R11_filtered.fif) does not conform to MNE naming conventions. All raw files should end with raw.fif, raw_sss.fif, raw_tsss.fif, _meg.fif, _eeg.fif, _ieeg.fif, raw.fif.gz, raw_sss.fif.gz, raw_tsss.fif.gz, _meg.fif.gz, _eeg.fif.gz or _ieeg.fif.gz\n",
      "  raw = mne.io.read_raw_fif(fif_file, preload=True)\n",
      "c:\\Users\\chakr\\Anaconda3\\envs\\eeg_thesis\\lib\\site-packages\\pywt\\_functions.py:143: FutureWarning: Wavelets from the family cmor, without parameters specified in the name are deprecated. The name should takethe form cmorB-C where B and C are floats representing the bandwidth frequency and center frequency, respectively (example: cmor1.5-1.0).\n",
      "  wavelet = DiscreteContinuousWavelet(wavelet)\n",
      "c:\\Users\\chakr\\Anaconda3\\envs\\eeg_thesis\\lib\\site-packages\\pywt\\_cwt.py:117: FutureWarning: Wavelets from the family cmor, without parameters specified in the name are deprecated. The name should takethe form cmorB-C where B and C are floats representing the bandwidth frequency and center frequency, respectively (example: cmor1.5-1.0).\n",
      "  wavelet = DiscreteContinuousWavelet(wavelet)\n"
     ]
    },
    {
     "name": "stdout",
     "output_type": "stream",
     "text": [
      "Opening raw data file C:\\School\\EE_Y3\\Q4\\BAP\\eeg_thesis_cnn_repo\\data\\external\\interim\\S105R03_filtered.fif...\n",
      "Isotrak not found\n",
      "    Range : 0 ... 30749 =      0.000 ...   122.996 secs\n",
      "Ready.\n",
      "Reading 0 ... 30749  =      0.000 ...   122.996 secs...\n",
      "Used Annotations descriptions: ['T0', 'T1', 'T2']\n",
      "Not setting metadata\n",
      "15 matching events found\n",
      "No baseline correction applied\n",
      "0 projection items activated\n",
      "Using data from preloaded Raw for 15 events and 126 original time points ...\n",
      "0 bad epochs dropped\n"
     ]
    },
    {
     "name": "stderr",
     "output_type": "stream",
     "text": [
      "C:\\Users\\chakr\\AppData\\Local\\Temp\\ipykernel_13788\\3980180034.py:3: RuntimeWarning: This filename (C:\\School\\EE_Y3\\Q4\\BAP\\eeg_thesis_cnn_repo\\data\\external\\interim\\S105R03_filtered.fif) does not conform to MNE naming conventions. All raw files should end with raw.fif, raw_sss.fif, raw_tsss.fif, _meg.fif, _eeg.fif, _ieeg.fif, raw.fif.gz, raw_sss.fif.gz, raw_tsss.fif.gz, _meg.fif.gz, _eeg.fif.gz or _ieeg.fif.gz\n",
      "  raw = mne.io.read_raw_fif(fif_file, preload=True)\n",
      "c:\\Users\\chakr\\Anaconda3\\envs\\eeg_thesis\\lib\\site-packages\\pywt\\_functions.py:143: FutureWarning: Wavelets from the family cmor, without parameters specified in the name are deprecated. The name should takethe form cmorB-C where B and C are floats representing the bandwidth frequency and center frequency, respectively (example: cmor1.5-1.0).\n",
      "  wavelet = DiscreteContinuousWavelet(wavelet)\n",
      "c:\\Users\\chakr\\Anaconda3\\envs\\eeg_thesis\\lib\\site-packages\\pywt\\_cwt.py:117: FutureWarning: Wavelets from the family cmor, without parameters specified in the name are deprecated. The name should takethe form cmorB-C where B and C are floats representing the bandwidth frequency and center frequency, respectively (example: cmor1.5-1.0).\n",
      "  wavelet = DiscreteContinuousWavelet(wavelet)\n"
     ]
    },
    {
     "name": "stdout",
     "output_type": "stream",
     "text": [
      "Opening raw data file C:\\School\\EE_Y3\\Q4\\BAP\\eeg_thesis_cnn_repo\\data\\external\\interim\\S105R07_filtered.fif...\n",
      "Isotrak not found\n",
      "    Range : 0 ... 30749 =      0.000 ...   122.996 secs\n",
      "Ready.\n",
      "Reading 0 ... 30749  =      0.000 ...   122.996 secs...\n",
      "Used Annotations descriptions: ['T0', 'T1', 'T2']\n",
      "Not setting metadata\n",
      "15 matching events found\n",
      "No baseline correction applied\n",
      "0 projection items activated\n",
      "Using data from preloaded Raw for 15 events and 126 original time points ...\n",
      "0 bad epochs dropped\n"
     ]
    },
    {
     "name": "stderr",
     "output_type": "stream",
     "text": [
      "C:\\Users\\chakr\\AppData\\Local\\Temp\\ipykernel_13788\\3980180034.py:3: RuntimeWarning: This filename (C:\\School\\EE_Y3\\Q4\\BAP\\eeg_thesis_cnn_repo\\data\\external\\interim\\S105R07_filtered.fif) does not conform to MNE naming conventions. All raw files should end with raw.fif, raw_sss.fif, raw_tsss.fif, _meg.fif, _eeg.fif, _ieeg.fif, raw.fif.gz, raw_sss.fif.gz, raw_tsss.fif.gz, _meg.fif.gz, _eeg.fif.gz or _ieeg.fif.gz\n",
      "  raw = mne.io.read_raw_fif(fif_file, preload=True)\n",
      "c:\\Users\\chakr\\Anaconda3\\envs\\eeg_thesis\\lib\\site-packages\\pywt\\_functions.py:143: FutureWarning: Wavelets from the family cmor, without parameters specified in the name are deprecated. The name should takethe form cmorB-C where B and C are floats representing the bandwidth frequency and center frequency, respectively (example: cmor1.5-1.0).\n",
      "  wavelet = DiscreteContinuousWavelet(wavelet)\n",
      "c:\\Users\\chakr\\Anaconda3\\envs\\eeg_thesis\\lib\\site-packages\\pywt\\_cwt.py:117: FutureWarning: Wavelets from the family cmor, without parameters specified in the name are deprecated. The name should takethe form cmorB-C where B and C are floats representing the bandwidth frequency and center frequency, respectively (example: cmor1.5-1.0).\n",
      "  wavelet = DiscreteContinuousWavelet(wavelet)\n"
     ]
    },
    {
     "name": "stdout",
     "output_type": "stream",
     "text": [
      "Opening raw data file C:\\School\\EE_Y3\\Q4\\BAP\\eeg_thesis_cnn_repo\\data\\external\\interim\\S105R11_filtered.fif...\n",
      "Isotrak not found\n",
      "    Range : 0 ... 30749 =      0.000 ...   122.996 secs\n",
      "Ready.\n",
      "Reading 0 ... 30749  =      0.000 ...   122.996 secs...\n",
      "Used Annotations descriptions: ['T0', 'T1', 'T2']\n",
      "Not setting metadata\n",
      "15 matching events found\n",
      "No baseline correction applied\n",
      "0 projection items activated\n",
      "Using data from preloaded Raw for 15 events and 126 original time points ...\n",
      "0 bad epochs dropped\n"
     ]
    },
    {
     "name": "stderr",
     "output_type": "stream",
     "text": [
      "C:\\Users\\chakr\\AppData\\Local\\Temp\\ipykernel_13788\\3980180034.py:3: RuntimeWarning: This filename (C:\\School\\EE_Y3\\Q4\\BAP\\eeg_thesis_cnn_repo\\data\\external\\interim\\S105R11_filtered.fif) does not conform to MNE naming conventions. All raw files should end with raw.fif, raw_sss.fif, raw_tsss.fif, _meg.fif, _eeg.fif, _ieeg.fif, raw.fif.gz, raw_sss.fif.gz, raw_tsss.fif.gz, _meg.fif.gz, _eeg.fif.gz or _ieeg.fif.gz\n",
      "  raw = mne.io.read_raw_fif(fif_file, preload=True)\n",
      "c:\\Users\\chakr\\Anaconda3\\envs\\eeg_thesis\\lib\\site-packages\\pywt\\_functions.py:143: FutureWarning: Wavelets from the family cmor, without parameters specified in the name are deprecated. The name should takethe form cmorB-C where B and C are floats representing the bandwidth frequency and center frequency, respectively (example: cmor1.5-1.0).\n",
      "  wavelet = DiscreteContinuousWavelet(wavelet)\n",
      "c:\\Users\\chakr\\Anaconda3\\envs\\eeg_thesis\\lib\\site-packages\\pywt\\_cwt.py:117: FutureWarning: Wavelets from the family cmor, without parameters specified in the name are deprecated. The name should takethe form cmorB-C where B and C are floats representing the bandwidth frequency and center frequency, respectively (example: cmor1.5-1.0).\n",
      "  wavelet = DiscreteContinuousWavelet(wavelet)\n"
     ]
    },
    {
     "name": "stdout",
     "output_type": "stream",
     "text": [
      "Opening raw data file C:\\School\\EE_Y3\\Q4\\BAP\\eeg_thesis_cnn_repo\\data\\external\\interim\\S106R03_filtered.fif...\n",
      "Isotrak not found\n",
      "    Range : 0 ... 31249 =      0.000 ...   124.996 secs\n",
      "Ready.\n",
      "Reading 0 ... 31249  =      0.000 ...   124.996 secs...\n",
      "Used Annotations descriptions: ['T0', 'T1', 'T2']\n",
      "Not setting metadata\n",
      "15 matching events found\n",
      "No baseline correction applied\n",
      "0 projection items activated\n",
      "Using data from preloaded Raw for 15 events and 126 original time points ...\n",
      "0 bad epochs dropped\n"
     ]
    },
    {
     "name": "stderr",
     "output_type": "stream",
     "text": [
      "C:\\Users\\chakr\\AppData\\Local\\Temp\\ipykernel_13788\\3980180034.py:3: RuntimeWarning: This filename (C:\\School\\EE_Y3\\Q4\\BAP\\eeg_thesis_cnn_repo\\data\\external\\interim\\S106R03_filtered.fif) does not conform to MNE naming conventions. All raw files should end with raw.fif, raw_sss.fif, raw_tsss.fif, _meg.fif, _eeg.fif, _ieeg.fif, raw.fif.gz, raw_sss.fif.gz, raw_tsss.fif.gz, _meg.fif.gz, _eeg.fif.gz or _ieeg.fif.gz\n",
      "  raw = mne.io.read_raw_fif(fif_file, preload=True)\n",
      "c:\\Users\\chakr\\Anaconda3\\envs\\eeg_thesis\\lib\\site-packages\\pywt\\_functions.py:143: FutureWarning: Wavelets from the family cmor, without parameters specified in the name are deprecated. The name should takethe form cmorB-C where B and C are floats representing the bandwidth frequency and center frequency, respectively (example: cmor1.5-1.0).\n",
      "  wavelet = DiscreteContinuousWavelet(wavelet)\n",
      "c:\\Users\\chakr\\Anaconda3\\envs\\eeg_thesis\\lib\\site-packages\\pywt\\_cwt.py:117: FutureWarning: Wavelets from the family cmor, without parameters specified in the name are deprecated. The name should takethe form cmorB-C where B and C are floats representing the bandwidth frequency and center frequency, respectively (example: cmor1.5-1.0).\n",
      "  wavelet = DiscreteContinuousWavelet(wavelet)\n"
     ]
    },
    {
     "name": "stdout",
     "output_type": "stream",
     "text": [
      "Opening raw data file C:\\School\\EE_Y3\\Q4\\BAP\\eeg_thesis_cnn_repo\\data\\external\\interim\\S106R07_filtered.fif...\n",
      "Isotrak not found\n",
      "    Range : 0 ... 31249 =      0.000 ...   124.996 secs\n",
      "Ready.\n",
      "Reading 0 ... 31249  =      0.000 ...   124.996 secs...\n",
      "Used Annotations descriptions: ['T0', 'T1', 'T2']\n",
      "Not setting metadata\n",
      "15 matching events found\n",
      "No baseline correction applied\n",
      "0 projection items activated\n",
      "Using data from preloaded Raw for 15 events and 126 original time points ...\n",
      "0 bad epochs dropped\n"
     ]
    },
    {
     "name": "stderr",
     "output_type": "stream",
     "text": [
      "C:\\Users\\chakr\\AppData\\Local\\Temp\\ipykernel_13788\\3980180034.py:3: RuntimeWarning: This filename (C:\\School\\EE_Y3\\Q4\\BAP\\eeg_thesis_cnn_repo\\data\\external\\interim\\S106R07_filtered.fif) does not conform to MNE naming conventions. All raw files should end with raw.fif, raw_sss.fif, raw_tsss.fif, _meg.fif, _eeg.fif, _ieeg.fif, raw.fif.gz, raw_sss.fif.gz, raw_tsss.fif.gz, _meg.fif.gz, _eeg.fif.gz or _ieeg.fif.gz\n",
      "  raw = mne.io.read_raw_fif(fif_file, preload=True)\n",
      "c:\\Users\\chakr\\Anaconda3\\envs\\eeg_thesis\\lib\\site-packages\\pywt\\_functions.py:143: FutureWarning: Wavelets from the family cmor, without parameters specified in the name are deprecated. The name should takethe form cmorB-C where B and C are floats representing the bandwidth frequency and center frequency, respectively (example: cmor1.5-1.0).\n",
      "  wavelet = DiscreteContinuousWavelet(wavelet)\n",
      "c:\\Users\\chakr\\Anaconda3\\envs\\eeg_thesis\\lib\\site-packages\\pywt\\_cwt.py:117: FutureWarning: Wavelets from the family cmor, without parameters specified in the name are deprecated. The name should takethe form cmorB-C where B and C are floats representing the bandwidth frequency and center frequency, respectively (example: cmor1.5-1.0).\n",
      "  wavelet = DiscreteContinuousWavelet(wavelet)\n"
     ]
    },
    {
     "name": "stdout",
     "output_type": "stream",
     "text": [
      "Opening raw data file C:\\School\\EE_Y3\\Q4\\BAP\\eeg_thesis_cnn_repo\\data\\external\\interim\\S106R11_filtered.fif...\n",
      "Isotrak not found\n",
      "    Range : 0 ... 31249 =      0.000 ...   124.996 secs\n",
      "Ready.\n",
      "Reading 0 ... 31249  =      0.000 ...   124.996 secs...\n",
      "Used Annotations descriptions: ['T0', 'T1', 'T2']\n",
      "Not setting metadata\n",
      "15 matching events found\n",
      "No baseline correction applied\n",
      "0 projection items activated\n",
      "Using data from preloaded Raw for 15 events and 126 original time points ...\n",
      "0 bad epochs dropped\n"
     ]
    },
    {
     "name": "stderr",
     "output_type": "stream",
     "text": [
      "C:\\Users\\chakr\\AppData\\Local\\Temp\\ipykernel_13788\\3980180034.py:3: RuntimeWarning: This filename (C:\\School\\EE_Y3\\Q4\\BAP\\eeg_thesis_cnn_repo\\data\\external\\interim\\S106R11_filtered.fif) does not conform to MNE naming conventions. All raw files should end with raw.fif, raw_sss.fif, raw_tsss.fif, _meg.fif, _eeg.fif, _ieeg.fif, raw.fif.gz, raw_sss.fif.gz, raw_tsss.fif.gz, _meg.fif.gz, _eeg.fif.gz or _ieeg.fif.gz\n",
      "  raw = mne.io.read_raw_fif(fif_file, preload=True)\n",
      "c:\\Users\\chakr\\Anaconda3\\envs\\eeg_thesis\\lib\\site-packages\\pywt\\_functions.py:143: FutureWarning: Wavelets from the family cmor, without parameters specified in the name are deprecated. The name should takethe form cmorB-C where B and C are floats representing the bandwidth frequency and center frequency, respectively (example: cmor1.5-1.0).\n",
      "  wavelet = DiscreteContinuousWavelet(wavelet)\n",
      "c:\\Users\\chakr\\Anaconda3\\envs\\eeg_thesis\\lib\\site-packages\\pywt\\_cwt.py:117: FutureWarning: Wavelets from the family cmor, without parameters specified in the name are deprecated. The name should takethe form cmorB-C where B and C are floats representing the bandwidth frequency and center frequency, respectively (example: cmor1.5-1.0).\n",
      "  wavelet = DiscreteContinuousWavelet(wavelet)\n"
     ]
    },
    {
     "name": "stdout",
     "output_type": "stream",
     "text": [
      "Opening raw data file C:\\School\\EE_Y3\\Q4\\BAP\\eeg_thesis_cnn_repo\\data\\external\\interim\\S107R03_filtered.fif...\n",
      "Isotrak not found\n",
      "    Range : 0 ... 31249 =      0.000 ...   124.996 secs\n",
      "Ready.\n",
      "Reading 0 ... 31249  =      0.000 ...   124.996 secs...\n",
      "Used Annotations descriptions: ['T0', 'T1', 'T2']\n",
      "Not setting metadata\n",
      "15 matching events found\n",
      "No baseline correction applied\n",
      "0 projection items activated\n",
      "Using data from preloaded Raw for 15 events and 126 original time points ...\n",
      "0 bad epochs dropped\n"
     ]
    },
    {
     "name": "stderr",
     "output_type": "stream",
     "text": [
      "C:\\Users\\chakr\\AppData\\Local\\Temp\\ipykernel_13788\\3980180034.py:3: RuntimeWarning: This filename (C:\\School\\EE_Y3\\Q4\\BAP\\eeg_thesis_cnn_repo\\data\\external\\interim\\S107R03_filtered.fif) does not conform to MNE naming conventions. All raw files should end with raw.fif, raw_sss.fif, raw_tsss.fif, _meg.fif, _eeg.fif, _ieeg.fif, raw.fif.gz, raw_sss.fif.gz, raw_tsss.fif.gz, _meg.fif.gz, _eeg.fif.gz or _ieeg.fif.gz\n",
      "  raw = mne.io.read_raw_fif(fif_file, preload=True)\n",
      "c:\\Users\\chakr\\Anaconda3\\envs\\eeg_thesis\\lib\\site-packages\\pywt\\_functions.py:143: FutureWarning: Wavelets from the family cmor, without parameters specified in the name are deprecated. The name should takethe form cmorB-C where B and C are floats representing the bandwidth frequency and center frequency, respectively (example: cmor1.5-1.0).\n",
      "  wavelet = DiscreteContinuousWavelet(wavelet)\n",
      "c:\\Users\\chakr\\Anaconda3\\envs\\eeg_thesis\\lib\\site-packages\\pywt\\_cwt.py:117: FutureWarning: Wavelets from the family cmor, without parameters specified in the name are deprecated. The name should takethe form cmorB-C where B and C are floats representing the bandwidth frequency and center frequency, respectively (example: cmor1.5-1.0).\n",
      "  wavelet = DiscreteContinuousWavelet(wavelet)\n"
     ]
    },
    {
     "name": "stdout",
     "output_type": "stream",
     "text": [
      "Opening raw data file C:\\School\\EE_Y3\\Q4\\BAP\\eeg_thesis_cnn_repo\\data\\external\\interim\\S107R07_filtered.fif...\n",
      "Isotrak not found\n",
      "    Range : 0 ... 31249 =      0.000 ...   124.996 secs\n",
      "Ready.\n",
      "Reading 0 ... 31249  =      0.000 ...   124.996 secs...\n",
      "Used Annotations descriptions: ['T0', 'T1', 'T2']\n",
      "Not setting metadata\n",
      "15 matching events found\n",
      "No baseline correction applied\n",
      "0 projection items activated\n",
      "Using data from preloaded Raw for 15 events and 126 original time points ...\n",
      "0 bad epochs dropped\n"
     ]
    },
    {
     "name": "stderr",
     "output_type": "stream",
     "text": [
      "C:\\Users\\chakr\\AppData\\Local\\Temp\\ipykernel_13788\\3980180034.py:3: RuntimeWarning: This filename (C:\\School\\EE_Y3\\Q4\\BAP\\eeg_thesis_cnn_repo\\data\\external\\interim\\S107R07_filtered.fif) does not conform to MNE naming conventions. All raw files should end with raw.fif, raw_sss.fif, raw_tsss.fif, _meg.fif, _eeg.fif, _ieeg.fif, raw.fif.gz, raw_sss.fif.gz, raw_tsss.fif.gz, _meg.fif.gz, _eeg.fif.gz or _ieeg.fif.gz\n",
      "  raw = mne.io.read_raw_fif(fif_file, preload=True)\n",
      "c:\\Users\\chakr\\Anaconda3\\envs\\eeg_thesis\\lib\\site-packages\\pywt\\_functions.py:143: FutureWarning: Wavelets from the family cmor, without parameters specified in the name are deprecated. The name should takethe form cmorB-C where B and C are floats representing the bandwidth frequency and center frequency, respectively (example: cmor1.5-1.0).\n",
      "  wavelet = DiscreteContinuousWavelet(wavelet)\n",
      "c:\\Users\\chakr\\Anaconda3\\envs\\eeg_thesis\\lib\\site-packages\\pywt\\_cwt.py:117: FutureWarning: Wavelets from the family cmor, without parameters specified in the name are deprecated. The name should takethe form cmorB-C where B and C are floats representing the bandwidth frequency and center frequency, respectively (example: cmor1.5-1.0).\n",
      "  wavelet = DiscreteContinuousWavelet(wavelet)\n"
     ]
    },
    {
     "name": "stdout",
     "output_type": "stream",
     "text": [
      "Opening raw data file C:\\School\\EE_Y3\\Q4\\BAP\\eeg_thesis_cnn_repo\\data\\external\\interim\\S107R11_filtered.fif...\n",
      "Isotrak not found\n",
      "    Range : 0 ... 31249 =      0.000 ...   124.996 secs\n",
      "Ready.\n",
      "Reading 0 ... 31249  =      0.000 ...   124.996 secs...\n",
      "Used Annotations descriptions: ['T0', 'T1', 'T2']\n",
      "Not setting metadata\n",
      "15 matching events found\n",
      "No baseline correction applied\n",
      "0 projection items activated\n",
      "Using data from preloaded Raw for 15 events and 126 original time points ...\n",
      "0 bad epochs dropped\n"
     ]
    },
    {
     "name": "stderr",
     "output_type": "stream",
     "text": [
      "C:\\Users\\chakr\\AppData\\Local\\Temp\\ipykernel_13788\\3980180034.py:3: RuntimeWarning: This filename (C:\\School\\EE_Y3\\Q4\\BAP\\eeg_thesis_cnn_repo\\data\\external\\interim\\S107R11_filtered.fif) does not conform to MNE naming conventions. All raw files should end with raw.fif, raw_sss.fif, raw_tsss.fif, _meg.fif, _eeg.fif, _ieeg.fif, raw.fif.gz, raw_sss.fif.gz, raw_tsss.fif.gz, _meg.fif.gz, _eeg.fif.gz or _ieeg.fif.gz\n",
      "  raw = mne.io.read_raw_fif(fif_file, preload=True)\n",
      "c:\\Users\\chakr\\Anaconda3\\envs\\eeg_thesis\\lib\\site-packages\\pywt\\_functions.py:143: FutureWarning: Wavelets from the family cmor, without parameters specified in the name are deprecated. The name should takethe form cmorB-C where B and C are floats representing the bandwidth frequency and center frequency, respectively (example: cmor1.5-1.0).\n",
      "  wavelet = DiscreteContinuousWavelet(wavelet)\n",
      "c:\\Users\\chakr\\Anaconda3\\envs\\eeg_thesis\\lib\\site-packages\\pywt\\_cwt.py:117: FutureWarning: Wavelets from the family cmor, without parameters specified in the name are deprecated. The name should takethe form cmorB-C where B and C are floats representing the bandwidth frequency and center frequency, respectively (example: cmor1.5-1.0).\n",
      "  wavelet = DiscreteContinuousWavelet(wavelet)\n"
     ]
    },
    {
     "name": "stdout",
     "output_type": "stream",
     "text": [
      "Opening raw data file C:\\School\\EE_Y3\\Q4\\BAP\\eeg_thesis_cnn_repo\\data\\external\\interim\\S108R03_filtered.fif...\n",
      "Isotrak not found\n",
      "    Range : 0 ... 30749 =      0.000 ...   122.996 secs\n",
      "Ready.\n",
      "Reading 0 ... 30749  =      0.000 ...   122.996 secs...\n",
      "Used Annotations descriptions: ['T0', 'T1', 'T2']\n",
      "Not setting metadata\n",
      "15 matching events found\n",
      "No baseline correction applied\n",
      "0 projection items activated\n",
      "Using data from preloaded Raw for 15 events and 126 original time points ...\n",
      "0 bad epochs dropped\n"
     ]
    },
    {
     "name": "stderr",
     "output_type": "stream",
     "text": [
      "C:\\Users\\chakr\\AppData\\Local\\Temp\\ipykernel_13788\\3980180034.py:3: RuntimeWarning: This filename (C:\\School\\EE_Y3\\Q4\\BAP\\eeg_thesis_cnn_repo\\data\\external\\interim\\S108R03_filtered.fif) does not conform to MNE naming conventions. All raw files should end with raw.fif, raw_sss.fif, raw_tsss.fif, _meg.fif, _eeg.fif, _ieeg.fif, raw.fif.gz, raw_sss.fif.gz, raw_tsss.fif.gz, _meg.fif.gz, _eeg.fif.gz or _ieeg.fif.gz\n",
      "  raw = mne.io.read_raw_fif(fif_file, preload=True)\n",
      "c:\\Users\\chakr\\Anaconda3\\envs\\eeg_thesis\\lib\\site-packages\\pywt\\_functions.py:143: FutureWarning: Wavelets from the family cmor, without parameters specified in the name are deprecated. The name should takethe form cmorB-C where B and C are floats representing the bandwidth frequency and center frequency, respectively (example: cmor1.5-1.0).\n",
      "  wavelet = DiscreteContinuousWavelet(wavelet)\n",
      "c:\\Users\\chakr\\Anaconda3\\envs\\eeg_thesis\\lib\\site-packages\\pywt\\_cwt.py:117: FutureWarning: Wavelets from the family cmor, without parameters specified in the name are deprecated. The name should takethe form cmorB-C where B and C are floats representing the bandwidth frequency and center frequency, respectively (example: cmor1.5-1.0).\n",
      "  wavelet = DiscreteContinuousWavelet(wavelet)\n"
     ]
    },
    {
     "name": "stdout",
     "output_type": "stream",
     "text": [
      "Opening raw data file C:\\School\\EE_Y3\\Q4\\BAP\\eeg_thesis_cnn_repo\\data\\external\\interim\\S108R07_filtered.fif...\n",
      "Isotrak not found\n",
      "    Range : 0 ... 30749 =      0.000 ...   122.996 secs\n",
      "Ready.\n",
      "Reading 0 ... 30749  =      0.000 ...   122.996 secs...\n",
      "Used Annotations descriptions: ['T0', 'T1', 'T2']\n",
      "Not setting metadata\n",
      "15 matching events found\n",
      "No baseline correction applied\n",
      "0 projection items activated\n",
      "Using data from preloaded Raw for 15 events and 126 original time points ...\n",
      "0 bad epochs dropped\n"
     ]
    },
    {
     "name": "stderr",
     "output_type": "stream",
     "text": [
      "C:\\Users\\chakr\\AppData\\Local\\Temp\\ipykernel_13788\\3980180034.py:3: RuntimeWarning: This filename (C:\\School\\EE_Y3\\Q4\\BAP\\eeg_thesis_cnn_repo\\data\\external\\interim\\S108R07_filtered.fif) does not conform to MNE naming conventions. All raw files should end with raw.fif, raw_sss.fif, raw_tsss.fif, _meg.fif, _eeg.fif, _ieeg.fif, raw.fif.gz, raw_sss.fif.gz, raw_tsss.fif.gz, _meg.fif.gz, _eeg.fif.gz or _ieeg.fif.gz\n",
      "  raw = mne.io.read_raw_fif(fif_file, preload=True)\n",
      "c:\\Users\\chakr\\Anaconda3\\envs\\eeg_thesis\\lib\\site-packages\\pywt\\_functions.py:143: FutureWarning: Wavelets from the family cmor, without parameters specified in the name are deprecated. The name should takethe form cmorB-C where B and C are floats representing the bandwidth frequency and center frequency, respectively (example: cmor1.5-1.0).\n",
      "  wavelet = DiscreteContinuousWavelet(wavelet)\n",
      "c:\\Users\\chakr\\Anaconda3\\envs\\eeg_thesis\\lib\\site-packages\\pywt\\_cwt.py:117: FutureWarning: Wavelets from the family cmor, without parameters specified in the name are deprecated. The name should takethe form cmorB-C where B and C are floats representing the bandwidth frequency and center frequency, respectively (example: cmor1.5-1.0).\n",
      "  wavelet = DiscreteContinuousWavelet(wavelet)\n"
     ]
    },
    {
     "name": "stdout",
     "output_type": "stream",
     "text": [
      "Opening raw data file C:\\School\\EE_Y3\\Q4\\BAP\\eeg_thesis_cnn_repo\\data\\external\\interim\\S108R11_filtered.fif...\n",
      "Isotrak not found\n",
      "    Range : 0 ... 30749 =      0.000 ...   122.996 secs\n",
      "Ready.\n",
      "Reading 0 ... 30749  =      0.000 ...   122.996 secs...\n",
      "Used Annotations descriptions: ['T0', 'T1', 'T2']\n",
      "Not setting metadata\n",
      "15 matching events found\n",
      "No baseline correction applied\n",
      "0 projection items activated\n",
      "Using data from preloaded Raw for 15 events and 126 original time points ...\n",
      "0 bad epochs dropped\n"
     ]
    },
    {
     "name": "stderr",
     "output_type": "stream",
     "text": [
      "C:\\Users\\chakr\\AppData\\Local\\Temp\\ipykernel_13788\\3980180034.py:3: RuntimeWarning: This filename (C:\\School\\EE_Y3\\Q4\\BAP\\eeg_thesis_cnn_repo\\data\\external\\interim\\S108R11_filtered.fif) does not conform to MNE naming conventions. All raw files should end with raw.fif, raw_sss.fif, raw_tsss.fif, _meg.fif, _eeg.fif, _ieeg.fif, raw.fif.gz, raw_sss.fif.gz, raw_tsss.fif.gz, _meg.fif.gz, _eeg.fif.gz or _ieeg.fif.gz\n",
      "  raw = mne.io.read_raw_fif(fif_file, preload=True)\n",
      "c:\\Users\\chakr\\Anaconda3\\envs\\eeg_thesis\\lib\\site-packages\\pywt\\_functions.py:143: FutureWarning: Wavelets from the family cmor, without parameters specified in the name are deprecated. The name should takethe form cmorB-C where B and C are floats representing the bandwidth frequency and center frequency, respectively (example: cmor1.5-1.0).\n",
      "  wavelet = DiscreteContinuousWavelet(wavelet)\n",
      "c:\\Users\\chakr\\Anaconda3\\envs\\eeg_thesis\\lib\\site-packages\\pywt\\_cwt.py:117: FutureWarning: Wavelets from the family cmor, without parameters specified in the name are deprecated. The name should takethe form cmorB-C where B and C are floats representing the bandwidth frequency and center frequency, respectively (example: cmor1.5-1.0).\n",
      "  wavelet = DiscreteContinuousWavelet(wavelet)\n"
     ]
    },
    {
     "name": "stdout",
     "output_type": "stream",
     "text": [
      "Opening raw data file C:\\School\\EE_Y3\\Q4\\BAP\\eeg_thesis_cnn_repo\\data\\external\\interim\\S109R03_filtered.fif...\n",
      "Isotrak not found\n",
      "    Range : 0 ... 30749 =      0.000 ...   122.996 secs\n",
      "Ready.\n",
      "Reading 0 ... 30749  =      0.000 ...   122.996 secs...\n",
      "Used Annotations descriptions: ['T0', 'T1', 'T2']\n",
      "Not setting metadata\n",
      "15 matching events found\n",
      "No baseline correction applied\n",
      "0 projection items activated\n",
      "Using data from preloaded Raw for 15 events and 126 original time points ...\n",
      "0 bad epochs dropped\n"
     ]
    },
    {
     "name": "stderr",
     "output_type": "stream",
     "text": [
      "C:\\Users\\chakr\\AppData\\Local\\Temp\\ipykernel_13788\\3980180034.py:3: RuntimeWarning: This filename (C:\\School\\EE_Y3\\Q4\\BAP\\eeg_thesis_cnn_repo\\data\\external\\interim\\S109R03_filtered.fif) does not conform to MNE naming conventions. All raw files should end with raw.fif, raw_sss.fif, raw_tsss.fif, _meg.fif, _eeg.fif, _ieeg.fif, raw.fif.gz, raw_sss.fif.gz, raw_tsss.fif.gz, _meg.fif.gz, _eeg.fif.gz or _ieeg.fif.gz\n",
      "  raw = mne.io.read_raw_fif(fif_file, preload=True)\n",
      "c:\\Users\\chakr\\Anaconda3\\envs\\eeg_thesis\\lib\\site-packages\\pywt\\_functions.py:143: FutureWarning: Wavelets from the family cmor, without parameters specified in the name are deprecated. The name should takethe form cmorB-C where B and C are floats representing the bandwidth frequency and center frequency, respectively (example: cmor1.5-1.0).\n",
      "  wavelet = DiscreteContinuousWavelet(wavelet)\n",
      "c:\\Users\\chakr\\Anaconda3\\envs\\eeg_thesis\\lib\\site-packages\\pywt\\_cwt.py:117: FutureWarning: Wavelets from the family cmor, without parameters specified in the name are deprecated. The name should takethe form cmorB-C where B and C are floats representing the bandwidth frequency and center frequency, respectively (example: cmor1.5-1.0).\n",
      "  wavelet = DiscreteContinuousWavelet(wavelet)\n"
     ]
    },
    {
     "name": "stdout",
     "output_type": "stream",
     "text": [
      "Opening raw data file C:\\School\\EE_Y3\\Q4\\BAP\\eeg_thesis_cnn_repo\\data\\external\\interim\\S109R07_filtered.fif...\n",
      "Isotrak not found\n",
      "    Range : 0 ... 30749 =      0.000 ...   122.996 secs\n",
      "Ready.\n",
      "Reading 0 ... 30749  =      0.000 ...   122.996 secs...\n",
      "Used Annotations descriptions: ['T0', 'T1', 'T2']\n",
      "Not setting metadata\n",
      "15 matching events found\n",
      "No baseline correction applied\n",
      "0 projection items activated\n",
      "Using data from preloaded Raw for 15 events and 126 original time points ...\n",
      "0 bad epochs dropped\n"
     ]
    },
    {
     "name": "stderr",
     "output_type": "stream",
     "text": [
      "C:\\Users\\chakr\\AppData\\Local\\Temp\\ipykernel_13788\\3980180034.py:3: RuntimeWarning: This filename (C:\\School\\EE_Y3\\Q4\\BAP\\eeg_thesis_cnn_repo\\data\\external\\interim\\S109R07_filtered.fif) does not conform to MNE naming conventions. All raw files should end with raw.fif, raw_sss.fif, raw_tsss.fif, _meg.fif, _eeg.fif, _ieeg.fif, raw.fif.gz, raw_sss.fif.gz, raw_tsss.fif.gz, _meg.fif.gz, _eeg.fif.gz or _ieeg.fif.gz\n",
      "  raw = mne.io.read_raw_fif(fif_file, preload=True)\n",
      "c:\\Users\\chakr\\Anaconda3\\envs\\eeg_thesis\\lib\\site-packages\\pywt\\_functions.py:143: FutureWarning: Wavelets from the family cmor, without parameters specified in the name are deprecated. The name should takethe form cmorB-C where B and C are floats representing the bandwidth frequency and center frequency, respectively (example: cmor1.5-1.0).\n",
      "  wavelet = DiscreteContinuousWavelet(wavelet)\n",
      "c:\\Users\\chakr\\Anaconda3\\envs\\eeg_thesis\\lib\\site-packages\\pywt\\_cwt.py:117: FutureWarning: Wavelets from the family cmor, without parameters specified in the name are deprecated. The name should takethe form cmorB-C where B and C are floats representing the bandwidth frequency and center frequency, respectively (example: cmor1.5-1.0).\n",
      "  wavelet = DiscreteContinuousWavelet(wavelet)\n"
     ]
    },
    {
     "name": "stdout",
     "output_type": "stream",
     "text": [
      "Opening raw data file C:\\School\\EE_Y3\\Q4\\BAP\\eeg_thesis_cnn_repo\\data\\external\\interim\\S109R11_filtered.fif...\n",
      "Isotrak not found\n",
      "    Range : 0 ... 30749 =      0.000 ...   122.996 secs\n",
      "Ready.\n",
      "Reading 0 ... 30749  =      0.000 ...   122.996 secs...\n",
      "Used Annotations descriptions: ['T0', 'T1', 'T2']\n",
      "Not setting metadata\n",
      "15 matching events found\n",
      "No baseline correction applied\n",
      "0 projection items activated\n",
      "Using data from preloaded Raw for 15 events and 126 original time points ...\n",
      "0 bad epochs dropped\n"
     ]
    },
    {
     "name": "stderr",
     "output_type": "stream",
     "text": [
      "C:\\Users\\chakr\\AppData\\Local\\Temp\\ipykernel_13788\\3980180034.py:3: RuntimeWarning: This filename (C:\\School\\EE_Y3\\Q4\\BAP\\eeg_thesis_cnn_repo\\data\\external\\interim\\S109R11_filtered.fif) does not conform to MNE naming conventions. All raw files should end with raw.fif, raw_sss.fif, raw_tsss.fif, _meg.fif, _eeg.fif, _ieeg.fif, raw.fif.gz, raw_sss.fif.gz, raw_tsss.fif.gz, _meg.fif.gz, _eeg.fif.gz or _ieeg.fif.gz\n",
      "  raw = mne.io.read_raw_fif(fif_file, preload=True)\n",
      "c:\\Users\\chakr\\Anaconda3\\envs\\eeg_thesis\\lib\\site-packages\\pywt\\_functions.py:143: FutureWarning: Wavelets from the family cmor, without parameters specified in the name are deprecated. The name should takethe form cmorB-C where B and C are floats representing the bandwidth frequency and center frequency, respectively (example: cmor1.5-1.0).\n",
      "  wavelet = DiscreteContinuousWavelet(wavelet)\n",
      "c:\\Users\\chakr\\Anaconda3\\envs\\eeg_thesis\\lib\\site-packages\\pywt\\_cwt.py:117: FutureWarning: Wavelets from the family cmor, without parameters specified in the name are deprecated. The name should takethe form cmorB-C where B and C are floats representing the bandwidth frequency and center frequency, respectively (example: cmor1.5-1.0).\n",
      "  wavelet = DiscreteContinuousWavelet(wavelet)\n"
     ]
    },
    {
     "ename": "RuntimeError",
     "evalue": "Parent directory C:\\School\\EE _Y3\\Q4\\BAP\\eeg_thesis_cnn_repo\\data\\external\\tensors does not exist.",
     "output_type": "error",
     "traceback": [
      "\u001b[1;31m---------------------------------------------------------------------------\u001b[0m",
      "\u001b[1;31mRuntimeError\u001b[0m                              Traceback (most recent call last)",
      "Cell \u001b[1;32mIn[9], line 5\u001b[0m\n\u001b[0;32m      1\u001b[0m input_folder \u001b[38;5;241m=\u001b[39m \u001b[38;5;124mr\u001b[39m\u001b[38;5;124m\"\u001b[39m\u001b[38;5;124mC:\u001b[39m\u001b[38;5;124m\\\u001b[39m\u001b[38;5;124mSchool\u001b[39m\u001b[38;5;124m\\\u001b[39m\u001b[38;5;124mEE_Y3\u001b[39m\u001b[38;5;124m\\\u001b[39m\u001b[38;5;124mQ4\u001b[39m\u001b[38;5;124m\\\u001b[39m\u001b[38;5;124mBAP\u001b[39m\u001b[38;5;124m\\\u001b[39m\u001b[38;5;124meeg_thesis_cnn_repo\u001b[39m\u001b[38;5;124m\\\u001b[39m\u001b[38;5;124mdata\u001b[39m\u001b[38;5;124m\\\u001b[39m\u001b[38;5;124mexternal\u001b[39m\u001b[38;5;124m\\\u001b[39m\u001b[38;5;124minterim\u001b[39m\u001b[38;5;124m\"\u001b[39m\n\u001b[0;32m      3\u001b[0m output_folder \u001b[38;5;241m=\u001b[39m \u001b[38;5;124mr\u001b[39m\u001b[38;5;124m\"\u001b[39m\u001b[38;5;124mC:\u001b[39m\u001b[38;5;124m\\\u001b[39m\u001b[38;5;124mSchool\u001b[39m\u001b[38;5;124m\\\u001b[39m\u001b[38;5;124mEE _Y3\u001b[39m\u001b[38;5;124m\\\u001b[39m\u001b[38;5;124mQ4\u001b[39m\u001b[38;5;124m\\\u001b[39m\u001b[38;5;124mBAP\u001b[39m\u001b[38;5;124m\\\u001b[39m\u001b[38;5;124meeg_thesis_cnn_repo\u001b[39m\u001b[38;5;124m\\\u001b[39m\u001b[38;5;124mdata\u001b[39m\u001b[38;5;124m\\\u001b[39m\u001b[38;5;124mexternal\u001b[39m\u001b[38;5;124m\\\u001b[39m\u001b[38;5;124mtensors\u001b[39m\u001b[38;5;124m\"\u001b[39m\n\u001b[1;32m----> 5\u001b[0m tensor_dataset_total \u001b[38;5;241m=\u001b[39m \u001b[43mfolder_to_tensor\u001b[49m\u001b[43m(\u001b[49m\u001b[43minput_folder\u001b[49m\u001b[43m,\u001b[49m\u001b[43m \u001b[49m\u001b[43moutput_folder\u001b[49m\u001b[43m)\u001b[49m\n",
      "Cell \u001b[1;32mIn[7], line 34\u001b[0m, in \u001b[0;36mfolder_to_tensor\u001b[1;34m(folder_path, output_folder)\u001b[0m\n\u001b[0;32m     32\u001b[0m \u001b[38;5;66;03m# Save the combined dataset to the output folder with the specified name\u001b[39;00m\n\u001b[0;32m     33\u001b[0m output_file \u001b[38;5;241m=\u001b[39m os\u001b[38;5;241m.\u001b[39mpath\u001b[38;5;241m.\u001b[39mjoin(output_folder, \u001b[38;5;124mf\u001b[39m\u001b[38;5;124m\"\u001b[39m\u001b[38;5;132;01m{\u001b[39;00mdataset_name\u001b[38;5;132;01m}\u001b[39;00m\u001b[38;5;124m.pt\u001b[39m\u001b[38;5;124m\"\u001b[39m)\n\u001b[1;32m---> 34\u001b[0m \u001b[43mtorch\u001b[49m\u001b[38;5;241;43m.\u001b[39;49m\u001b[43msave\u001b[49m\u001b[43m(\u001b[49m\u001b[43mcombined_dataset\u001b[49m\u001b[43m,\u001b[49m\u001b[43m \u001b[49m\u001b[43moutput_file\u001b[49m\u001b[43m)\u001b[49m\n\u001b[0;32m     36\u001b[0m \u001b[38;5;28;01mreturn\u001b[39;00m combined_dataset\n",
      "File \u001b[1;32mc:\\Users\\chakr\\Anaconda3\\envs\\eeg_thesis\\lib\\site-packages\\torch\\serialization.py:627\u001b[0m, in \u001b[0;36msave\u001b[1;34m(obj, f, pickle_module, pickle_protocol, _use_new_zipfile_serialization, _disable_byteorder_record)\u001b[0m\n\u001b[0;32m    624\u001b[0m _check_save_filelike(f)\n\u001b[0;32m    626\u001b[0m \u001b[38;5;28;01mif\u001b[39;00m _use_new_zipfile_serialization:\n\u001b[1;32m--> 627\u001b[0m     \u001b[38;5;28;01mwith\u001b[39;00m \u001b[43m_open_zipfile_writer\u001b[49m\u001b[43m(\u001b[49m\u001b[43mf\u001b[49m\u001b[43m)\u001b[49m \u001b[38;5;28;01mas\u001b[39;00m opened_zipfile:\n\u001b[0;32m    628\u001b[0m         _save(obj, opened_zipfile, pickle_module, pickle_protocol, _disable_byteorder_record)\n\u001b[0;32m    629\u001b[0m         \u001b[38;5;28;01mreturn\u001b[39;00m\n",
      "File \u001b[1;32mc:\\Users\\chakr\\Anaconda3\\envs\\eeg_thesis\\lib\\site-packages\\torch\\serialization.py:501\u001b[0m, in \u001b[0;36m_open_zipfile_writer\u001b[1;34m(name_or_buffer)\u001b[0m\n\u001b[0;32m    499\u001b[0m \u001b[38;5;28;01melse\u001b[39;00m:\n\u001b[0;32m    500\u001b[0m     container \u001b[38;5;241m=\u001b[39m _open_zipfile_writer_buffer\n\u001b[1;32m--> 501\u001b[0m \u001b[38;5;28;01mreturn\u001b[39;00m \u001b[43mcontainer\u001b[49m\u001b[43m(\u001b[49m\u001b[43mname_or_buffer\u001b[49m\u001b[43m)\u001b[49m\n",
      "File \u001b[1;32mc:\\Users\\chakr\\Anaconda3\\envs\\eeg_thesis\\lib\\site-packages\\torch\\serialization.py:472\u001b[0m, in \u001b[0;36m_open_zipfile_writer_file.__init__\u001b[1;34m(self, name)\u001b[0m\n\u001b[0;32m    470\u001b[0m     \u001b[38;5;28msuper\u001b[39m()\u001b[38;5;241m.\u001b[39m\u001b[38;5;21m__init__\u001b[39m(torch\u001b[38;5;241m.\u001b[39m_C\u001b[38;5;241m.\u001b[39mPyTorchFileWriter(\u001b[38;5;28mself\u001b[39m\u001b[38;5;241m.\u001b[39mfile_stream))\n\u001b[0;32m    471\u001b[0m \u001b[38;5;28;01melse\u001b[39;00m:\n\u001b[1;32m--> 472\u001b[0m     \u001b[38;5;28msuper\u001b[39m()\u001b[38;5;241m.\u001b[39m\u001b[38;5;21m__init__\u001b[39m(\u001b[43mtorch\u001b[49m\u001b[38;5;241;43m.\u001b[39;49m\u001b[43m_C\u001b[49m\u001b[38;5;241;43m.\u001b[39;49m\u001b[43mPyTorchFileWriter\u001b[49m\u001b[43m(\u001b[49m\u001b[38;5;28;43mself\u001b[39;49m\u001b[38;5;241;43m.\u001b[39;49m\u001b[43mname\u001b[49m\u001b[43m)\u001b[49m)\n",
      "\u001b[1;31mRuntimeError\u001b[0m: Parent directory C:\\School\\EE _Y3\\Q4\\BAP\\eeg_thesis_cnn_repo\\data\\external\\tensors does not exist."
     ]
    }
   ],
   "source": [
    "input_folder = r\"C:\\School\\EE_Y3\\Q4\\BAP\\eeg_thesis_cnn_repo\\data\\external\\interim\"\n",
    "output_folder = r\"C:\\School\\EE _Y3\\Q4\\BAP\\eeg_thesis_cnn_repo\\data\\external\\tensors\"\n",
    "\n",
    "tensor_dataset_total = folder_to_tensor(input_folder, output_folder)"
   ]
  }
 ],
 "metadata": {
  "kernelspec": {
   "display_name": "eeg_thesis",
   "language": "python",
   "name": "python3"
  },
  "language_info": {
   "codemirror_mode": {
    "name": "ipython",
    "version": 3
   },
   "file_extension": ".py",
   "mimetype": "text/x-python",
   "name": "python",
   "nbconvert_exporter": "python",
   "pygments_lexer": "ipython3",
   "version": "3.8.19"
  }
 },
 "nbformat": 4,
 "nbformat_minor": 2
}
